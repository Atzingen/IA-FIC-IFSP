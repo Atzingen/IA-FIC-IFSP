{
 "cells": [
  {
   "cell_type": "markdown",
   "metadata": {},
   "source": [
    "# Aula 08 - RNA (Redes Neuraus Artificiais)\n",
    "\n",
    "Tópicos da aula de Hoje:\n",
    "\n",
    "* Perceptron\n",
    "* MLP\n",
    "* Keras API - Tensorflow\n",
    "* Model Fully connected\n",
    "* Exemplo Pima Diabetes"
   ]
  },
  {
   "cell_type": "code",
   "execution_count": 117,
   "metadata": {},
   "outputs": [],
   "source": [
    "import pandas as pd\n",
    "import numpy as np\n",
    "\n",
    "import plotly.express as px\n",
    "import plotly.graph_objects as go\n",
    "\n",
    "from sklearn.metrics import mean_squared_error, accuracy_score\n",
    "from sklearn.model_selection import train_test_split\n",
    "from sklearn.preprocessing import normalize, MinMaxScaler\n",
    "\n",
    "import tensorflow as tf\n",
    "from tensorflow.keras.layers import Dense\n",
    "from tensorflow.keras.utils import plot_model"
   ]
  },
  {
   "cell_type": "code",
   "execution_count": 4,
   "metadata": {},
   "outputs": [],
   "source": [
    "df = pd.read_csv('diabetes.csv')"
   ]
  },
  {
   "cell_type": "code",
   "execution_count": 5,
   "metadata": {},
   "outputs": [
    {
     "data": {
      "text/html": [
       "<div>\n",
       "<style scoped>\n",
       "    .dataframe tbody tr th:only-of-type {\n",
       "        vertical-align: middle;\n",
       "    }\n",
       "\n",
       "    .dataframe tbody tr th {\n",
       "        vertical-align: top;\n",
       "    }\n",
       "\n",
       "    .dataframe thead th {\n",
       "        text-align: right;\n",
       "    }\n",
       "</style>\n",
       "<table border=\"1\" class=\"dataframe\">\n",
       "  <thead>\n",
       "    <tr style=\"text-align: right;\">\n",
       "      <th></th>\n",
       "      <th>Pregnancies</th>\n",
       "      <th>Glucose</th>\n",
       "      <th>BloodPressure</th>\n",
       "      <th>SkinThickness</th>\n",
       "      <th>Insulin</th>\n",
       "      <th>BMI</th>\n",
       "      <th>DiabetesPedigreeFunction</th>\n",
       "      <th>Age</th>\n",
       "      <th>Outcome</th>\n",
       "    </tr>\n",
       "  </thead>\n",
       "  <tbody>\n",
       "    <tr>\n",
       "      <th>0</th>\n",
       "      <td>6</td>\n",
       "      <td>148</td>\n",
       "      <td>72</td>\n",
       "      <td>35</td>\n",
       "      <td>0</td>\n",
       "      <td>33.6</td>\n",
       "      <td>0.627</td>\n",
       "      <td>50</td>\n",
       "      <td>1</td>\n",
       "    </tr>\n",
       "    <tr>\n",
       "      <th>1</th>\n",
       "      <td>1</td>\n",
       "      <td>85</td>\n",
       "      <td>66</td>\n",
       "      <td>29</td>\n",
       "      <td>0</td>\n",
       "      <td>26.6</td>\n",
       "      <td>0.351</td>\n",
       "      <td>31</td>\n",
       "      <td>0</td>\n",
       "    </tr>\n",
       "    <tr>\n",
       "      <th>2</th>\n",
       "      <td>8</td>\n",
       "      <td>183</td>\n",
       "      <td>64</td>\n",
       "      <td>0</td>\n",
       "      <td>0</td>\n",
       "      <td>23.3</td>\n",
       "      <td>0.672</td>\n",
       "      <td>32</td>\n",
       "      <td>1</td>\n",
       "    </tr>\n",
       "    <tr>\n",
       "      <th>3</th>\n",
       "      <td>1</td>\n",
       "      <td>89</td>\n",
       "      <td>66</td>\n",
       "      <td>23</td>\n",
       "      <td>94</td>\n",
       "      <td>28.1</td>\n",
       "      <td>0.167</td>\n",
       "      <td>21</td>\n",
       "      <td>0</td>\n",
       "    </tr>\n",
       "    <tr>\n",
       "      <th>4</th>\n",
       "      <td>0</td>\n",
       "      <td>137</td>\n",
       "      <td>40</td>\n",
       "      <td>35</td>\n",
       "      <td>168</td>\n",
       "      <td>43.1</td>\n",
       "      <td>2.288</td>\n",
       "      <td>33</td>\n",
       "      <td>1</td>\n",
       "    </tr>\n",
       "  </tbody>\n",
       "</table>\n",
       "</div>"
      ],
      "text/plain": [
       "   Pregnancies  Glucose  BloodPressure  SkinThickness  Insulin   BMI  \\\n",
       "0            6      148             72             35        0  33.6   \n",
       "1            1       85             66             29        0  26.6   \n",
       "2            8      183             64              0        0  23.3   \n",
       "3            1       89             66             23       94  28.1   \n",
       "4            0      137             40             35      168  43.1   \n",
       "\n",
       "   DiabetesPedigreeFunction  Age  Outcome  \n",
       "0                     0.627   50        1  \n",
       "1                     0.351   31        0  \n",
       "2                     0.672   32        1  \n",
       "3                     0.167   21        0  \n",
       "4                     2.288   33        1  "
      ]
     },
     "execution_count": 5,
     "metadata": {},
     "output_type": "execute_result"
    }
   ],
   "source": [
    "df.head()"
   ]
  },
  {
   "cell_type": "code",
   "execution_count": 9,
   "metadata": {},
   "outputs": [
    {
     "data": {
      "text/html": [
       "<div>\n",
       "<style scoped>\n",
       "    .dataframe tbody tr th:only-of-type {\n",
       "        vertical-align: middle;\n",
       "    }\n",
       "\n",
       "    .dataframe tbody tr th {\n",
       "        vertical-align: top;\n",
       "    }\n",
       "\n",
       "    .dataframe thead th {\n",
       "        text-align: right;\n",
       "    }\n",
       "</style>\n",
       "<table border=\"1\" class=\"dataframe\">\n",
       "  <thead>\n",
       "    <tr style=\"text-align: right;\">\n",
       "      <th></th>\n",
       "      <th>Pregnancies</th>\n",
       "      <th>Glucose</th>\n",
       "      <th>BloodPressure</th>\n",
       "      <th>SkinThickness</th>\n",
       "      <th>Insulin</th>\n",
       "      <th>BMI</th>\n",
       "      <th>DiabetesPedigreeFunction</th>\n",
       "      <th>Age</th>\n",
       "      <th>Outcome</th>\n",
       "    </tr>\n",
       "  </thead>\n",
       "  <tbody>\n",
       "    <tr>\n",
       "      <th>count</th>\n",
       "      <td>768.000000</td>\n",
       "      <td>768.000000</td>\n",
       "      <td>768.000000</td>\n",
       "      <td>768.000000</td>\n",
       "      <td>768.000000</td>\n",
       "      <td>768.000000</td>\n",
       "      <td>768.000000</td>\n",
       "      <td>768.000000</td>\n",
       "      <td>768.000000</td>\n",
       "    </tr>\n",
       "    <tr>\n",
       "      <th>mean</th>\n",
       "      <td>3.845052</td>\n",
       "      <td>120.894531</td>\n",
       "      <td>69.105469</td>\n",
       "      <td>20.536458</td>\n",
       "      <td>79.799479</td>\n",
       "      <td>31.992578</td>\n",
       "      <td>0.471876</td>\n",
       "      <td>33.240885</td>\n",
       "      <td>0.348958</td>\n",
       "    </tr>\n",
       "    <tr>\n",
       "      <th>std</th>\n",
       "      <td>3.369578</td>\n",
       "      <td>31.972618</td>\n",
       "      <td>19.355807</td>\n",
       "      <td>15.952218</td>\n",
       "      <td>115.244002</td>\n",
       "      <td>7.884160</td>\n",
       "      <td>0.331329</td>\n",
       "      <td>11.760232</td>\n",
       "      <td>0.476951</td>\n",
       "    </tr>\n",
       "    <tr>\n",
       "      <th>min</th>\n",
       "      <td>0.000000</td>\n",
       "      <td>0.000000</td>\n",
       "      <td>0.000000</td>\n",
       "      <td>0.000000</td>\n",
       "      <td>0.000000</td>\n",
       "      <td>0.000000</td>\n",
       "      <td>0.078000</td>\n",
       "      <td>21.000000</td>\n",
       "      <td>0.000000</td>\n",
       "    </tr>\n",
       "    <tr>\n",
       "      <th>25%</th>\n",
       "      <td>1.000000</td>\n",
       "      <td>99.000000</td>\n",
       "      <td>62.000000</td>\n",
       "      <td>0.000000</td>\n",
       "      <td>0.000000</td>\n",
       "      <td>27.300000</td>\n",
       "      <td>0.243750</td>\n",
       "      <td>24.000000</td>\n",
       "      <td>0.000000</td>\n",
       "    </tr>\n",
       "    <tr>\n",
       "      <th>50%</th>\n",
       "      <td>3.000000</td>\n",
       "      <td>117.000000</td>\n",
       "      <td>72.000000</td>\n",
       "      <td>23.000000</td>\n",
       "      <td>30.500000</td>\n",
       "      <td>32.000000</td>\n",
       "      <td>0.372500</td>\n",
       "      <td>29.000000</td>\n",
       "      <td>0.000000</td>\n",
       "    </tr>\n",
       "    <tr>\n",
       "      <th>75%</th>\n",
       "      <td>6.000000</td>\n",
       "      <td>140.250000</td>\n",
       "      <td>80.000000</td>\n",
       "      <td>32.000000</td>\n",
       "      <td>127.250000</td>\n",
       "      <td>36.600000</td>\n",
       "      <td>0.626250</td>\n",
       "      <td>41.000000</td>\n",
       "      <td>1.000000</td>\n",
       "    </tr>\n",
       "    <tr>\n",
       "      <th>max</th>\n",
       "      <td>17.000000</td>\n",
       "      <td>199.000000</td>\n",
       "      <td>122.000000</td>\n",
       "      <td>99.000000</td>\n",
       "      <td>846.000000</td>\n",
       "      <td>67.100000</td>\n",
       "      <td>2.420000</td>\n",
       "      <td>81.000000</td>\n",
       "      <td>1.000000</td>\n",
       "    </tr>\n",
       "  </tbody>\n",
       "</table>\n",
       "</div>"
      ],
      "text/plain": [
       "       Pregnancies     Glucose  BloodPressure  SkinThickness     Insulin  \\\n",
       "count   768.000000  768.000000     768.000000     768.000000  768.000000   \n",
       "mean      3.845052  120.894531      69.105469      20.536458   79.799479   \n",
       "std       3.369578   31.972618      19.355807      15.952218  115.244002   \n",
       "min       0.000000    0.000000       0.000000       0.000000    0.000000   \n",
       "25%       1.000000   99.000000      62.000000       0.000000    0.000000   \n",
       "50%       3.000000  117.000000      72.000000      23.000000   30.500000   \n",
       "75%       6.000000  140.250000      80.000000      32.000000  127.250000   \n",
       "max      17.000000  199.000000     122.000000      99.000000  846.000000   \n",
       "\n",
       "              BMI  DiabetesPedigreeFunction         Age     Outcome  \n",
       "count  768.000000                768.000000  768.000000  768.000000  \n",
       "mean    31.992578                  0.471876   33.240885    0.348958  \n",
       "std      7.884160                  0.331329   11.760232    0.476951  \n",
       "min      0.000000                  0.078000   21.000000    0.000000  \n",
       "25%     27.300000                  0.243750   24.000000    0.000000  \n",
       "50%     32.000000                  0.372500   29.000000    0.000000  \n",
       "75%     36.600000                  0.626250   41.000000    1.000000  \n",
       "max     67.100000                  2.420000   81.000000    1.000000  "
      ]
     },
     "execution_count": 9,
     "metadata": {},
     "output_type": "execute_result"
    }
   ],
   "source": [
    "df.describe()"
   ]
  },
  {
   "cell_type": "code",
   "execution_count": 6,
   "metadata": {},
   "outputs": [],
   "source": [
    "x_features = ['Pregnancies', 'Glucose', 'BloodPressure', 'SkinThickness', 'Insulin', 'BMI', 'DiabetesPedigreeFunction', 'Age']"
   ]
  },
  {
   "cell_type": "code",
   "execution_count": 16,
   "metadata": {},
   "outputs": [
    {
     "data": {
      "application/vnd.plotly.v1+json": {
       "config": {
        "plotlyServerURL": "https://plot.ly"
       },
       "data": [
        {
         "alignmentgroup": "True",
         "box": {
          "visible": false
         },
         "hovertemplate": "variable=%{x}<br>value=%{y}<extra></extra>",
         "legendgroup": "",
         "marker": {
          "color": "#636efa"
         },
         "name": "",
         "offsetgroup": "",
         "orientation": "v",
         "scalegroup": "True",
         "showlegend": false,
         "type": "violin",
         "x": [
          "Pregnancies",
          "Pregnancies",
          "Pregnancies",
          "Pregnancies",
          "Pregnancies",
          "Pregnancies",
          "Pregnancies",
          "Pregnancies",
          "Pregnancies",
          "Pregnancies",
          "Pregnancies",
          "Pregnancies",
          "Pregnancies",
          "Pregnancies",
          "Pregnancies",
          "Pregnancies",
          "Pregnancies",
          "Pregnancies",
          "Pregnancies",
          "Pregnancies",
          "Pregnancies",
          "Pregnancies",
          "Pregnancies",
          "Pregnancies",
          "Pregnancies",
          "Pregnancies",
          "Pregnancies",
          "Pregnancies",
          "Pregnancies",
          "Pregnancies",
          "Pregnancies",
          "Pregnancies",
          "Pregnancies",
          "Pregnancies",
          "Pregnancies",
          "Pregnancies",
          "Pregnancies",
          "Pregnancies",
          "Pregnancies",
          "Pregnancies",
          "Pregnancies",
          "Pregnancies",
          "Pregnancies",
          "Pregnancies",
          "Pregnancies",
          "Pregnancies",
          "Pregnancies",
          "Pregnancies",
          "Pregnancies",
          "Pregnancies",
          "Pregnancies",
          "Pregnancies",
          "Pregnancies",
          "Pregnancies",
          "Pregnancies",
          "Pregnancies",
          "Pregnancies",
          "Pregnancies",
          "Pregnancies",
          "Pregnancies",
          "Pregnancies",
          "Pregnancies",
          "Pregnancies",
          "Pregnancies",
          "Pregnancies",
          "Pregnancies",
          "Pregnancies",
          "Pregnancies",
          "Pregnancies",
          "Pregnancies",
          "Pregnancies",
          "Pregnancies",
          "Pregnancies",
          "Pregnancies",
          "Pregnancies",
          "Pregnancies",
          "Pregnancies",
          "Pregnancies",
          "Pregnancies",
          "Pregnancies",
          "Pregnancies",
          "Pregnancies",
          "Pregnancies",
          "Pregnancies",
          "Pregnancies",
          "Pregnancies",
          "Pregnancies",
          "Pregnancies",
          "Pregnancies",
          "Pregnancies",
          "Pregnancies",
          "Pregnancies",
          "Pregnancies",
          "Pregnancies",
          "Pregnancies",
          "Pregnancies",
          "Pregnancies",
          "Pregnancies",
          "Pregnancies",
          "Pregnancies",
          "Pregnancies",
          "Pregnancies",
          "Pregnancies",
          "Pregnancies",
          "Pregnancies",
          "Pregnancies",
          "Pregnancies",
          "Pregnancies",
          "Pregnancies",
          "Pregnancies",
          "Pregnancies",
          "Pregnancies",
          "Pregnancies",
          "Pregnancies",
          "Pregnancies",
          "Pregnancies",
          "Pregnancies",
          "Pregnancies",
          "Pregnancies",
          "Pregnancies",
          "Pregnancies",
          "Pregnancies",
          "Pregnancies",
          "Pregnancies",
          "Pregnancies",
          "Pregnancies",
          "Pregnancies",
          "Pregnancies",
          "Pregnancies",
          "Pregnancies",
          "Pregnancies",
          "Pregnancies",
          "Pregnancies",
          "Pregnancies",
          "Pregnancies",
          "Pregnancies",
          "Pregnancies",
          "Pregnancies",
          "Pregnancies",
          "Pregnancies",
          "Pregnancies",
          "Pregnancies",
          "Pregnancies",
          "Pregnancies",
          "Pregnancies",
          "Pregnancies",
          "Pregnancies",
          "Pregnancies",
          "Pregnancies",
          "Pregnancies",
          "Pregnancies",
          "Pregnancies",
          "Pregnancies",
          "Pregnancies",
          "Pregnancies",
          "Pregnancies",
          "Pregnancies",
          "Pregnancies",
          "Pregnancies",
          "Pregnancies",
          "Pregnancies",
          "Pregnancies",
          "Pregnancies",
          "Pregnancies",
          "Pregnancies",
          "Pregnancies",
          "Pregnancies",
          "Pregnancies",
          "Pregnancies",
          "Pregnancies",
          "Pregnancies",
          "Pregnancies",
          "Pregnancies",
          "Pregnancies",
          "Pregnancies",
          "Pregnancies",
          "Pregnancies",
          "Pregnancies",
          "Pregnancies",
          "Pregnancies",
          "Pregnancies",
          "Pregnancies",
          "Pregnancies",
          "Pregnancies",
          "Pregnancies",
          "Pregnancies",
          "Pregnancies",
          "Pregnancies",
          "Pregnancies",
          "Pregnancies",
          "Pregnancies",
          "Pregnancies",
          "Pregnancies",
          "Pregnancies",
          "Pregnancies",
          "Pregnancies",
          "Pregnancies",
          "Pregnancies",
          "Pregnancies",
          "Pregnancies",
          "Pregnancies",
          "Pregnancies",
          "Pregnancies",
          "Pregnancies",
          "Pregnancies",
          "Pregnancies",
          "Pregnancies",
          "Pregnancies",
          "Pregnancies",
          "Pregnancies",
          "Pregnancies",
          "Pregnancies",
          "Pregnancies",
          "Pregnancies",
          "Pregnancies",
          "Pregnancies",
          "Pregnancies",
          "Pregnancies",
          "Pregnancies",
          "Pregnancies",
          "Pregnancies",
          "Pregnancies",
          "Pregnancies",
          "Pregnancies",
          "Pregnancies",
          "Pregnancies",
          "Pregnancies",
          "Pregnancies",
          "Pregnancies",
          "Pregnancies",
          "Pregnancies",
          "Pregnancies",
          "Pregnancies",
          "Pregnancies",
          "Pregnancies",
          "Pregnancies",
          "Pregnancies",
          "Pregnancies",
          "Pregnancies",
          "Pregnancies",
          "Pregnancies",
          "Pregnancies",
          "Pregnancies",
          "Pregnancies",
          "Pregnancies",
          "Pregnancies",
          "Pregnancies",
          "Pregnancies",
          "Pregnancies",
          "Pregnancies",
          "Pregnancies",
          "Pregnancies",
          "Pregnancies",
          "Pregnancies",
          "Pregnancies",
          "Pregnancies",
          "Pregnancies",
          "Pregnancies",
          "Pregnancies",
          "Pregnancies",
          "Pregnancies",
          "Pregnancies",
          "Pregnancies",
          "Pregnancies",
          "Pregnancies",
          "Pregnancies",
          "Pregnancies",
          "Pregnancies",
          "Pregnancies",
          "Pregnancies",
          "Pregnancies",
          "Pregnancies",
          "Pregnancies",
          "Pregnancies",
          "Pregnancies",
          "Pregnancies",
          "Pregnancies",
          "Pregnancies",
          "Pregnancies",
          "Pregnancies",
          "Pregnancies",
          "Pregnancies",
          "Pregnancies",
          "Pregnancies",
          "Pregnancies",
          "Pregnancies",
          "Pregnancies",
          "Pregnancies",
          "Pregnancies",
          "Pregnancies",
          "Pregnancies",
          "Pregnancies",
          "Pregnancies",
          "Pregnancies",
          "Pregnancies",
          "Pregnancies",
          "Pregnancies",
          "Pregnancies",
          "Pregnancies",
          "Pregnancies",
          "Pregnancies",
          "Pregnancies",
          "Pregnancies",
          "Pregnancies",
          "Pregnancies",
          "Pregnancies",
          "Pregnancies",
          "Pregnancies",
          "Pregnancies",
          "Pregnancies",
          "Pregnancies",
          "Pregnancies",
          "Pregnancies",
          "Pregnancies",
          "Pregnancies",
          "Pregnancies",
          "Pregnancies",
          "Pregnancies",
          "Pregnancies",
          "Pregnancies",
          "Pregnancies",
          "Pregnancies",
          "Pregnancies",
          "Pregnancies",
          "Pregnancies",
          "Pregnancies",
          "Pregnancies",
          "Pregnancies",
          "Pregnancies",
          "Pregnancies",
          "Pregnancies",
          "Pregnancies",
          "Pregnancies",
          "Pregnancies",
          "Pregnancies",
          "Pregnancies",
          "Pregnancies",
          "Pregnancies",
          "Pregnancies",
          "Pregnancies",
          "Pregnancies",
          "Pregnancies",
          "Pregnancies",
          "Pregnancies",
          "Pregnancies",
          "Pregnancies",
          "Pregnancies",
          "Pregnancies",
          "Pregnancies",
          "Pregnancies",
          "Pregnancies",
          "Pregnancies",
          "Pregnancies",
          "Pregnancies",
          "Pregnancies",
          "Pregnancies",
          "Pregnancies",
          "Pregnancies",
          "Pregnancies",
          "Pregnancies",
          "Pregnancies",
          "Pregnancies",
          "Pregnancies",
          "Pregnancies",
          "Pregnancies",
          "Pregnancies",
          "Pregnancies",
          "Pregnancies",
          "Pregnancies",
          "Pregnancies",
          "Pregnancies",
          "Pregnancies",
          "Pregnancies",
          "Pregnancies",
          "Pregnancies",
          "Pregnancies",
          "Pregnancies",
          "Pregnancies",
          "Pregnancies",
          "Pregnancies",
          "Pregnancies",
          "Pregnancies",
          "Pregnancies",
          "Pregnancies",
          "Pregnancies",
          "Pregnancies",
          "Pregnancies",
          "Pregnancies",
          "Pregnancies",
          "Pregnancies",
          "Pregnancies",
          "Pregnancies",
          "Pregnancies",
          "Pregnancies",
          "Pregnancies",
          "Pregnancies",
          "Pregnancies",
          "Pregnancies",
          "Pregnancies",
          "Pregnancies",
          "Pregnancies",
          "Pregnancies",
          "Pregnancies",
          "Pregnancies",
          "Pregnancies",
          "Pregnancies",
          "Pregnancies",
          "Pregnancies",
          "Pregnancies",
          "Pregnancies",
          "Pregnancies",
          "Pregnancies",
          "Pregnancies",
          "Pregnancies",
          "Pregnancies",
          "Pregnancies",
          "Pregnancies",
          "Pregnancies",
          "Pregnancies",
          "Pregnancies",
          "Pregnancies",
          "Pregnancies",
          "Pregnancies",
          "Pregnancies",
          "Pregnancies",
          "Pregnancies",
          "Pregnancies",
          "Pregnancies",
          "Pregnancies",
          "Pregnancies",
          "Pregnancies",
          "Pregnancies",
          "Pregnancies",
          "Pregnancies",
          "Pregnancies",
          "Pregnancies",
          "Pregnancies",
          "Pregnancies",
          "Pregnancies",
          "Pregnancies",
          "Pregnancies",
          "Pregnancies",
          "Pregnancies",
          "Pregnancies",
          "Pregnancies",
          "Pregnancies",
          "Pregnancies",
          "Pregnancies",
          "Pregnancies",
          "Pregnancies",
          "Pregnancies",
          "Pregnancies",
          "Pregnancies",
          "Pregnancies",
          "Pregnancies",
          "Pregnancies",
          "Pregnancies",
          "Pregnancies",
          "Pregnancies",
          "Pregnancies",
          "Pregnancies",
          "Pregnancies",
          "Pregnancies",
          "Pregnancies",
          "Pregnancies",
          "Pregnancies",
          "Pregnancies",
          "Pregnancies",
          "Pregnancies",
          "Pregnancies",
          "Pregnancies",
          "Pregnancies",
          "Pregnancies",
          "Pregnancies",
          "Pregnancies",
          "Pregnancies",
          "Pregnancies",
          "Pregnancies",
          "Pregnancies",
          "Pregnancies",
          "Pregnancies",
          "Pregnancies",
          "Pregnancies",
          "Pregnancies",
          "Pregnancies",
          "Pregnancies",
          "Pregnancies",
          "Pregnancies",
          "Pregnancies",
          "Pregnancies",
          "Pregnancies",
          "Pregnancies",
          "Pregnancies",
          "Pregnancies",
          "Pregnancies",
          "Pregnancies",
          "Pregnancies",
          "Pregnancies",
          "Pregnancies",
          "Pregnancies",
          "Pregnancies",
          "Pregnancies",
          "Pregnancies",
          "Pregnancies",
          "Pregnancies",
          "Pregnancies",
          "Pregnancies",
          "Pregnancies",
          "Pregnancies",
          "Pregnancies",
          "Pregnancies",
          "Pregnancies",
          "Pregnancies",
          "Pregnancies",
          "Pregnancies",
          "Pregnancies",
          "Pregnancies",
          "Pregnancies",
          "Pregnancies",
          "Pregnancies",
          "Pregnancies",
          "Pregnancies",
          "Pregnancies",
          "Pregnancies",
          "Pregnancies",
          "Pregnancies",
          "Pregnancies",
          "Pregnancies",
          "Pregnancies",
          "Pregnancies",
          "Pregnancies",
          "Pregnancies",
          "Pregnancies",
          "Pregnancies",
          "Pregnancies",
          "Pregnancies",
          "Pregnancies",
          "Pregnancies",
          "Pregnancies",
          "Pregnancies",
          "Pregnancies",
          "Pregnancies",
          "Pregnancies",
          "Pregnancies",
          "Pregnancies",
          "Pregnancies",
          "Pregnancies",
          "Pregnancies",
          "Pregnancies",
          "Pregnancies",
          "Pregnancies",
          "Pregnancies",
          "Pregnancies",
          "Pregnancies",
          "Pregnancies",
          "Pregnancies",
          "Pregnancies",
          "Pregnancies",
          "Pregnancies",
          "Pregnancies",
          "Pregnancies",
          "Pregnancies",
          "Pregnancies",
          "Pregnancies",
          "Pregnancies",
          "Pregnancies",
          "Pregnancies",
          "Pregnancies",
          "Pregnancies",
          "Pregnancies",
          "Pregnancies",
          "Pregnancies",
          "Pregnancies",
          "Pregnancies",
          "Pregnancies",
          "Pregnancies",
          "Pregnancies",
          "Pregnancies",
          "Pregnancies",
          "Pregnancies",
          "Pregnancies",
          "Pregnancies",
          "Pregnancies",
          "Pregnancies",
          "Pregnancies",
          "Pregnancies",
          "Pregnancies",
          "Pregnancies",
          "Pregnancies",
          "Pregnancies",
          "Pregnancies",
          "Pregnancies",
          "Pregnancies",
          "Pregnancies",
          "Pregnancies",
          "Pregnancies",
          "Pregnancies",
          "Pregnancies",
          "Pregnancies",
          "Pregnancies",
          "Pregnancies",
          "Pregnancies",
          "Pregnancies",
          "Pregnancies",
          "Pregnancies",
          "Pregnancies",
          "Pregnancies",
          "Pregnancies",
          "Pregnancies",
          "Pregnancies",
          "Pregnancies",
          "Pregnancies",
          "Pregnancies",
          "Pregnancies",
          "Pregnancies",
          "Pregnancies",
          "Pregnancies",
          "Pregnancies",
          "Pregnancies",
          "Pregnancies",
          "Pregnancies",
          "Pregnancies",
          "Pregnancies",
          "Pregnancies",
          "Pregnancies",
          "Pregnancies",
          "Pregnancies",
          "Pregnancies",
          "Pregnancies",
          "Pregnancies",
          "Pregnancies",
          "Pregnancies",
          "Pregnancies",
          "Pregnancies",
          "Pregnancies",
          "Pregnancies",
          "Pregnancies",
          "Pregnancies",
          "Pregnancies",
          "Pregnancies",
          "Pregnancies",
          "Pregnancies",
          "Pregnancies",
          "Pregnancies",
          "Pregnancies",
          "Pregnancies",
          "Pregnancies",
          "Pregnancies",
          "Pregnancies",
          "Pregnancies",
          "Pregnancies",
          "Pregnancies",
          "Pregnancies",
          "Pregnancies",
          "Pregnancies",
          "Pregnancies",
          "Pregnancies",
          "Pregnancies",
          "Pregnancies",
          "Pregnancies",
          "Pregnancies",
          "Pregnancies",
          "Pregnancies",
          "Pregnancies",
          "Pregnancies",
          "Pregnancies",
          "Pregnancies",
          "Pregnancies",
          "Pregnancies",
          "Pregnancies",
          "Pregnancies",
          "Pregnancies",
          "Pregnancies",
          "Pregnancies",
          "Pregnancies",
          "Pregnancies",
          "Pregnancies",
          "Pregnancies",
          "Pregnancies",
          "Pregnancies",
          "Pregnancies",
          "Pregnancies",
          "Pregnancies",
          "Pregnancies",
          "Pregnancies",
          "Pregnancies",
          "Pregnancies",
          "Pregnancies",
          "Pregnancies",
          "Pregnancies",
          "Pregnancies",
          "Pregnancies",
          "Pregnancies",
          "Pregnancies",
          "Pregnancies",
          "Pregnancies",
          "Pregnancies",
          "Pregnancies",
          "Pregnancies",
          "Pregnancies",
          "Pregnancies",
          "Pregnancies",
          "Pregnancies",
          "Pregnancies",
          "Pregnancies",
          "Pregnancies",
          "Pregnancies",
          "Pregnancies",
          "Pregnancies",
          "Pregnancies",
          "Pregnancies",
          "Pregnancies",
          "Pregnancies",
          "Pregnancies",
          "Pregnancies",
          "Pregnancies",
          "Pregnancies",
          "Pregnancies",
          "Pregnancies",
          "Pregnancies",
          "Pregnancies",
          "Pregnancies",
          "Pregnancies",
          "Pregnancies",
          "Pregnancies",
          "Pregnancies",
          "Pregnancies",
          "Pregnancies",
          "Pregnancies",
          "Pregnancies",
          "Pregnancies",
          "Pregnancies",
          "Pregnancies",
          "Pregnancies",
          "Pregnancies",
          "Pregnancies",
          "Pregnancies",
          "Pregnancies",
          "Pregnancies",
          "Pregnancies",
          "Pregnancies",
          "Pregnancies",
          "Pregnancies",
          "Pregnancies",
          "Pregnancies",
          "Pregnancies",
          "Pregnancies",
          "Pregnancies",
          "Pregnancies",
          "Pregnancies",
          "Pregnancies",
          "Pregnancies",
          "Pregnancies",
          "Pregnancies",
          "Pregnancies",
          "Pregnancies",
          "Pregnancies",
          "Pregnancies",
          "Pregnancies",
          "Pregnancies",
          "Pregnancies",
          "Pregnancies",
          "Pregnancies",
          "Pregnancies",
          "Pregnancies",
          "Pregnancies",
          "Pregnancies",
          "Pregnancies"
         ],
         "x0": " ",
         "xaxis": "x",
         "y": [
          6,
          1,
          8,
          1,
          0,
          5,
          3,
          10,
          2,
          8,
          4,
          10,
          10,
          1,
          5,
          7,
          0,
          7,
          1,
          1,
          3,
          8,
          7,
          9,
          11,
          10,
          7,
          1,
          13,
          5,
          5,
          3,
          3,
          6,
          10,
          4,
          11,
          9,
          2,
          4,
          3,
          7,
          7,
          9,
          7,
          0,
          1,
          2,
          7,
          7,
          1,
          1,
          5,
          8,
          7,
          1,
          7,
          0,
          0,
          0,
          2,
          8,
          5,
          2,
          7,
          5,
          0,
          2,
          1,
          4,
          2,
          5,
          13,
          4,
          1,
          1,
          7,
          5,
          0,
          2,
          3,
          2,
          7,
          0,
          5,
          2,
          13,
          2,
          15,
          1,
          1,
          4,
          7,
          4,
          2,
          6,
          2,
          1,
          6,
          1,
          1,
          1,
          0,
          1,
          2,
          1,
          1,
          4,
          3,
          0,
          3,
          8,
          1,
          4,
          7,
          4,
          5,
          5,
          4,
          4,
          0,
          6,
          2,
          5,
          0,
          1,
          3,
          1,
          1,
          0,
          4,
          9,
          3,
          8,
          2,
          2,
          0,
          0,
          0,
          5,
          3,
          5,
          2,
          10,
          4,
          0,
          9,
          2,
          5,
          2,
          1,
          4,
          9,
          1,
          8,
          7,
          2,
          1,
          2,
          17,
          4,
          7,
          0,
          2,
          0,
          6,
          3,
          4,
          4,
          3,
          6,
          6,
          2,
          1,
          2,
          8,
          6,
          0,
          5,
          5,
          6,
          0,
          1,
          5,
          4,
          7,
          8,
          1,
          8,
          5,
          3,
          9,
          7,
          11,
          8,
          5,
          1,
          3,
          4,
          4,
          0,
          1,
          0,
          2,
          6,
          5,
          8,
          5,
          1,
          7,
          2,
          0,
          7,
          0,
          9,
          12,
          5,
          6,
          5,
          5,
          0,
          2,
          7,
          7,
          1,
          1,
          0,
          3,
          4,
          0,
          4,
          6,
          1,
          4,
          3,
          4,
          7,
          0,
          9,
          0,
          1,
          4,
          3,
          6,
          2,
          9,
          10,
          0,
          9,
          1,
          9,
          2,
          2,
          0,
          12,
          1,
          3,
          2,
          1,
          11,
          3,
          3,
          4,
          3,
          4,
          5,
          0,
          2,
          0,
          2,
          10,
          2,
          3,
          1,
          13,
          2,
          7,
          0,
          5,
          2,
          0,
          10,
          7,
          7,
          2,
          7,
          5,
          1,
          4,
          5,
          0,
          0,
          2,
          1,
          0,
          6,
          2,
          0,
          14,
          8,
          0,
          2,
          5,
          5,
          3,
          2,
          10,
          0,
          0,
          2,
          6,
          0,
          2,
          3,
          7,
          2,
          3,
          3,
          3,
          6,
          4,
          3,
          0,
          13,
          2,
          1,
          1,
          10,
          2,
          6,
          8,
          2,
          1,
          12,
          1,
          0,
          0,
          5,
          9,
          7,
          1,
          1,
          1,
          5,
          8,
          8,
          1,
          3,
          3,
          5,
          4,
          4,
          3,
          1,
          3,
          9,
          1,
          13,
          12,
          1,
          5,
          5,
          5,
          4,
          4,
          5,
          6,
          0,
          3,
          1,
          3,
          0,
          0,
          2,
          2,
          12,
          0,
          1,
          4,
          0,
          1,
          0,
          1,
          1,
          1,
          1,
          5,
          8,
          5,
          3,
          1,
          5,
          1,
          4,
          4,
          2,
          3,
          0,
          3,
          3,
          4,
          6,
          5,
          9,
          5,
          2,
          4,
          0,
          8,
          1,
          6,
          1,
          1,
          1,
          0,
          3,
          1,
          4,
          1,
          3,
          1,
          2,
          0,
          2,
          8,
          4,
          0,
          1,
          0,
          1,
          2,
          3,
          1,
          2,
          1,
          0,
          12,
          5,
          1,
          6,
          0,
          2,
          4,
          8,
          4,
          0,
          1,
          0,
          0,
          0,
          1,
          2,
          0,
          2,
          2,
          14,
          1,
          5,
          10,
          9,
          9,
          1,
          8,
          5,
          10,
          0,
          0,
          0,
          8,
          6,
          1,
          0,
          0,
          7,
          4,
          0,
          2,
          7,
          8,
          4,
          3,
          0,
          4,
          0,
          0,
          0,
          1,
          0,
          4,
          8,
          2,
          2,
          4,
          4,
          3,
          6,
          5,
          2,
          7,
          6,
          2,
          3,
          6,
          7,
          3,
          10,
          0,
          1,
          2,
          8,
          12,
          0,
          9,
          2,
          3,
          3,
          9,
          7,
          13,
          6,
          2,
          3,
          6,
          9,
          3,
          3,
          1,
          3,
          0,
          0,
          2,
          0,
          1,
          6,
          1,
          4,
          0,
          0,
          0,
          3,
          8,
          3,
          10,
          4,
          1,
          8,
          5,
          4,
          1,
          4,
          1,
          3,
          6,
          1,
          1,
          7,
          1,
          8,
          11,
          11,
          6,
          0,
          1,
          6,
          0,
          2,
          1,
          6,
          4,
          0,
          3,
          2,
          3,
          2,
          1,
          1,
          6,
          2,
          10,
          2,
          0,
          6,
          12,
          8,
          8,
          1,
          8,
          6,
          3,
          0,
          11,
          2,
          3,
          2,
          6,
          0,
          0,
          1,
          1,
          1,
          1,
          6,
          1,
          7,
          4,
          1,
          1,
          1,
          0,
          1,
          3,
          3,
          7,
          6,
          11,
          3,
          6,
          2,
          9,
          0,
          2,
          2,
          6,
          0,
          2,
          4,
          0,
          0,
          5,
          4,
          7,
          0,
          2,
          1,
          10,
          13,
          5,
          2,
          7,
          1,
          0,
          4,
          6,
          4,
          3,
          2,
          1,
          0,
          11,
          0,
          1,
          1,
          5,
          2,
          1,
          2,
          2,
          1,
          11,
          3,
          10,
          1,
          8,
          9,
          6,
          1,
          4,
          10,
          6,
          9,
          6,
          1,
          10,
          3,
          8,
          6,
          9,
          0,
          3,
          2,
          2,
          0,
          0,
          4,
          5,
          2,
          3,
          1,
          1,
          1,
          8,
          13,
          2,
          7,
          2,
          7,
          3,
          0,
          4,
          4,
          2,
          6,
          1,
          2,
          4,
          6,
          10,
          2,
          9,
          2,
          3,
          5,
          10,
          0,
          3,
          7,
          3,
          10,
          1,
          5,
          4,
          1,
          1,
          5,
          1,
          4,
          1,
          0,
          2,
          2,
          3,
          8,
          2,
          2,
          2,
          4,
          0,
          8,
          2,
          1,
          11,
          3,
          1,
          9,
          13,
          12,
          1,
          1,
          3,
          6,
          4,
          1,
          3,
          0,
          8,
          1,
          7,
          0,
          1,
          6,
          2,
          9,
          9,
          10,
          2,
          5,
          1,
          1
         ],
         "y0": " ",
         "yaxis": "y"
        }
       ],
       "layout": {
        "legend": {
         "tracegroupgap": 0
        },
        "margin": {
         "t": 60
        },
        "template": {
         "data": {
          "bar": [
           {
            "error_x": {
             "color": "#2a3f5f"
            },
            "error_y": {
             "color": "#2a3f5f"
            },
            "marker": {
             "line": {
              "color": "#E5ECF6",
              "width": 0.5
             },
             "pattern": {
              "fillmode": "overlay",
              "size": 10,
              "solidity": 0.2
             }
            },
            "type": "bar"
           }
          ],
          "barpolar": [
           {
            "marker": {
             "line": {
              "color": "#E5ECF6",
              "width": 0.5
             },
             "pattern": {
              "fillmode": "overlay",
              "size": 10,
              "solidity": 0.2
             }
            },
            "type": "barpolar"
           }
          ],
          "carpet": [
           {
            "aaxis": {
             "endlinecolor": "#2a3f5f",
             "gridcolor": "white",
             "linecolor": "white",
             "minorgridcolor": "white",
             "startlinecolor": "#2a3f5f"
            },
            "baxis": {
             "endlinecolor": "#2a3f5f",
             "gridcolor": "white",
             "linecolor": "white",
             "minorgridcolor": "white",
             "startlinecolor": "#2a3f5f"
            },
            "type": "carpet"
           }
          ],
          "choropleth": [
           {
            "colorbar": {
             "outlinewidth": 0,
             "ticks": ""
            },
            "type": "choropleth"
           }
          ],
          "contour": [
           {
            "colorbar": {
             "outlinewidth": 0,
             "ticks": ""
            },
            "colorscale": [
             [
              0,
              "#0d0887"
             ],
             [
              0.1111111111111111,
              "#46039f"
             ],
             [
              0.2222222222222222,
              "#7201a8"
             ],
             [
              0.3333333333333333,
              "#9c179e"
             ],
             [
              0.4444444444444444,
              "#bd3786"
             ],
             [
              0.5555555555555556,
              "#d8576b"
             ],
             [
              0.6666666666666666,
              "#ed7953"
             ],
             [
              0.7777777777777778,
              "#fb9f3a"
             ],
             [
              0.8888888888888888,
              "#fdca26"
             ],
             [
              1,
              "#f0f921"
             ]
            ],
            "type": "contour"
           }
          ],
          "contourcarpet": [
           {
            "colorbar": {
             "outlinewidth": 0,
             "ticks": ""
            },
            "type": "contourcarpet"
           }
          ],
          "heatmap": [
           {
            "colorbar": {
             "outlinewidth": 0,
             "ticks": ""
            },
            "colorscale": [
             [
              0,
              "#0d0887"
             ],
             [
              0.1111111111111111,
              "#46039f"
             ],
             [
              0.2222222222222222,
              "#7201a8"
             ],
             [
              0.3333333333333333,
              "#9c179e"
             ],
             [
              0.4444444444444444,
              "#bd3786"
             ],
             [
              0.5555555555555556,
              "#d8576b"
             ],
             [
              0.6666666666666666,
              "#ed7953"
             ],
             [
              0.7777777777777778,
              "#fb9f3a"
             ],
             [
              0.8888888888888888,
              "#fdca26"
             ],
             [
              1,
              "#f0f921"
             ]
            ],
            "type": "heatmap"
           }
          ],
          "heatmapgl": [
           {
            "colorbar": {
             "outlinewidth": 0,
             "ticks": ""
            },
            "colorscale": [
             [
              0,
              "#0d0887"
             ],
             [
              0.1111111111111111,
              "#46039f"
             ],
             [
              0.2222222222222222,
              "#7201a8"
             ],
             [
              0.3333333333333333,
              "#9c179e"
             ],
             [
              0.4444444444444444,
              "#bd3786"
             ],
             [
              0.5555555555555556,
              "#d8576b"
             ],
             [
              0.6666666666666666,
              "#ed7953"
             ],
             [
              0.7777777777777778,
              "#fb9f3a"
             ],
             [
              0.8888888888888888,
              "#fdca26"
             ],
             [
              1,
              "#f0f921"
             ]
            ],
            "type": "heatmapgl"
           }
          ],
          "histogram": [
           {
            "marker": {
             "pattern": {
              "fillmode": "overlay",
              "size": 10,
              "solidity": 0.2
             }
            },
            "type": "histogram"
           }
          ],
          "histogram2d": [
           {
            "colorbar": {
             "outlinewidth": 0,
             "ticks": ""
            },
            "colorscale": [
             [
              0,
              "#0d0887"
             ],
             [
              0.1111111111111111,
              "#46039f"
             ],
             [
              0.2222222222222222,
              "#7201a8"
             ],
             [
              0.3333333333333333,
              "#9c179e"
             ],
             [
              0.4444444444444444,
              "#bd3786"
             ],
             [
              0.5555555555555556,
              "#d8576b"
             ],
             [
              0.6666666666666666,
              "#ed7953"
             ],
             [
              0.7777777777777778,
              "#fb9f3a"
             ],
             [
              0.8888888888888888,
              "#fdca26"
             ],
             [
              1,
              "#f0f921"
             ]
            ],
            "type": "histogram2d"
           }
          ],
          "histogram2dcontour": [
           {
            "colorbar": {
             "outlinewidth": 0,
             "ticks": ""
            },
            "colorscale": [
             [
              0,
              "#0d0887"
             ],
             [
              0.1111111111111111,
              "#46039f"
             ],
             [
              0.2222222222222222,
              "#7201a8"
             ],
             [
              0.3333333333333333,
              "#9c179e"
             ],
             [
              0.4444444444444444,
              "#bd3786"
             ],
             [
              0.5555555555555556,
              "#d8576b"
             ],
             [
              0.6666666666666666,
              "#ed7953"
             ],
             [
              0.7777777777777778,
              "#fb9f3a"
             ],
             [
              0.8888888888888888,
              "#fdca26"
             ],
             [
              1,
              "#f0f921"
             ]
            ],
            "type": "histogram2dcontour"
           }
          ],
          "mesh3d": [
           {
            "colorbar": {
             "outlinewidth": 0,
             "ticks": ""
            },
            "type": "mesh3d"
           }
          ],
          "parcoords": [
           {
            "line": {
             "colorbar": {
              "outlinewidth": 0,
              "ticks": ""
             }
            },
            "type": "parcoords"
           }
          ],
          "pie": [
           {
            "automargin": true,
            "type": "pie"
           }
          ],
          "scatter": [
           {
            "marker": {
             "colorbar": {
              "outlinewidth": 0,
              "ticks": ""
             }
            },
            "type": "scatter"
           }
          ],
          "scatter3d": [
           {
            "line": {
             "colorbar": {
              "outlinewidth": 0,
              "ticks": ""
             }
            },
            "marker": {
             "colorbar": {
              "outlinewidth": 0,
              "ticks": ""
             }
            },
            "type": "scatter3d"
           }
          ],
          "scattercarpet": [
           {
            "marker": {
             "colorbar": {
              "outlinewidth": 0,
              "ticks": ""
             }
            },
            "type": "scattercarpet"
           }
          ],
          "scattergeo": [
           {
            "marker": {
             "colorbar": {
              "outlinewidth": 0,
              "ticks": ""
             }
            },
            "type": "scattergeo"
           }
          ],
          "scattergl": [
           {
            "marker": {
             "colorbar": {
              "outlinewidth": 0,
              "ticks": ""
             }
            },
            "type": "scattergl"
           }
          ],
          "scattermapbox": [
           {
            "marker": {
             "colorbar": {
              "outlinewidth": 0,
              "ticks": ""
             }
            },
            "type": "scattermapbox"
           }
          ],
          "scatterpolar": [
           {
            "marker": {
             "colorbar": {
              "outlinewidth": 0,
              "ticks": ""
             }
            },
            "type": "scatterpolar"
           }
          ],
          "scatterpolargl": [
           {
            "marker": {
             "colorbar": {
              "outlinewidth": 0,
              "ticks": ""
             }
            },
            "type": "scatterpolargl"
           }
          ],
          "scatterternary": [
           {
            "marker": {
             "colorbar": {
              "outlinewidth": 0,
              "ticks": ""
             }
            },
            "type": "scatterternary"
           }
          ],
          "surface": [
           {
            "colorbar": {
             "outlinewidth": 0,
             "ticks": ""
            },
            "colorscale": [
             [
              0,
              "#0d0887"
             ],
             [
              0.1111111111111111,
              "#46039f"
             ],
             [
              0.2222222222222222,
              "#7201a8"
             ],
             [
              0.3333333333333333,
              "#9c179e"
             ],
             [
              0.4444444444444444,
              "#bd3786"
             ],
             [
              0.5555555555555556,
              "#d8576b"
             ],
             [
              0.6666666666666666,
              "#ed7953"
             ],
             [
              0.7777777777777778,
              "#fb9f3a"
             ],
             [
              0.8888888888888888,
              "#fdca26"
             ],
             [
              1,
              "#f0f921"
             ]
            ],
            "type": "surface"
           }
          ],
          "table": [
           {
            "cells": {
             "fill": {
              "color": "#EBF0F8"
             },
             "line": {
              "color": "white"
             }
            },
            "header": {
             "fill": {
              "color": "#C8D4E3"
             },
             "line": {
              "color": "white"
             }
            },
            "type": "table"
           }
          ]
         },
         "layout": {
          "annotationdefaults": {
           "arrowcolor": "#2a3f5f",
           "arrowhead": 0,
           "arrowwidth": 1
          },
          "autotypenumbers": "strict",
          "coloraxis": {
           "colorbar": {
            "outlinewidth": 0,
            "ticks": ""
           }
          },
          "colorscale": {
           "diverging": [
            [
             0,
             "#8e0152"
            ],
            [
             0.1,
             "#c51b7d"
            ],
            [
             0.2,
             "#de77ae"
            ],
            [
             0.3,
             "#f1b6da"
            ],
            [
             0.4,
             "#fde0ef"
            ],
            [
             0.5,
             "#f7f7f7"
            ],
            [
             0.6,
             "#e6f5d0"
            ],
            [
             0.7,
             "#b8e186"
            ],
            [
             0.8,
             "#7fbc41"
            ],
            [
             0.9,
             "#4d9221"
            ],
            [
             1,
             "#276419"
            ]
           ],
           "sequential": [
            [
             0,
             "#0d0887"
            ],
            [
             0.1111111111111111,
             "#46039f"
            ],
            [
             0.2222222222222222,
             "#7201a8"
            ],
            [
             0.3333333333333333,
             "#9c179e"
            ],
            [
             0.4444444444444444,
             "#bd3786"
            ],
            [
             0.5555555555555556,
             "#d8576b"
            ],
            [
             0.6666666666666666,
             "#ed7953"
            ],
            [
             0.7777777777777778,
             "#fb9f3a"
            ],
            [
             0.8888888888888888,
             "#fdca26"
            ],
            [
             1,
             "#f0f921"
            ]
           ],
           "sequentialminus": [
            [
             0,
             "#0d0887"
            ],
            [
             0.1111111111111111,
             "#46039f"
            ],
            [
             0.2222222222222222,
             "#7201a8"
            ],
            [
             0.3333333333333333,
             "#9c179e"
            ],
            [
             0.4444444444444444,
             "#bd3786"
            ],
            [
             0.5555555555555556,
             "#d8576b"
            ],
            [
             0.6666666666666666,
             "#ed7953"
            ],
            [
             0.7777777777777778,
             "#fb9f3a"
            ],
            [
             0.8888888888888888,
             "#fdca26"
            ],
            [
             1,
             "#f0f921"
            ]
           ]
          },
          "colorway": [
           "#636efa",
           "#EF553B",
           "#00cc96",
           "#ab63fa",
           "#FFA15A",
           "#19d3f3",
           "#FF6692",
           "#B6E880",
           "#FF97FF",
           "#FECB52"
          ],
          "font": {
           "color": "#2a3f5f"
          },
          "geo": {
           "bgcolor": "white",
           "lakecolor": "white",
           "landcolor": "#E5ECF6",
           "showlakes": true,
           "showland": true,
           "subunitcolor": "white"
          },
          "hoverlabel": {
           "align": "left"
          },
          "hovermode": "closest",
          "mapbox": {
           "style": "light"
          },
          "paper_bgcolor": "white",
          "plot_bgcolor": "#E5ECF6",
          "polar": {
           "angularaxis": {
            "gridcolor": "white",
            "linecolor": "white",
            "ticks": ""
           },
           "bgcolor": "#E5ECF6",
           "radialaxis": {
            "gridcolor": "white",
            "linecolor": "white",
            "ticks": ""
           }
          },
          "scene": {
           "xaxis": {
            "backgroundcolor": "#E5ECF6",
            "gridcolor": "white",
            "gridwidth": 2,
            "linecolor": "white",
            "showbackground": true,
            "ticks": "",
            "zerolinecolor": "white"
           },
           "yaxis": {
            "backgroundcolor": "#E5ECF6",
            "gridcolor": "white",
            "gridwidth": 2,
            "linecolor": "white",
            "showbackground": true,
            "ticks": "",
            "zerolinecolor": "white"
           },
           "zaxis": {
            "backgroundcolor": "#E5ECF6",
            "gridcolor": "white",
            "gridwidth": 2,
            "linecolor": "white",
            "showbackground": true,
            "ticks": "",
            "zerolinecolor": "white"
           }
          },
          "shapedefaults": {
           "line": {
            "color": "#2a3f5f"
           }
          },
          "ternary": {
           "aaxis": {
            "gridcolor": "white",
            "linecolor": "white",
            "ticks": ""
           },
           "baxis": {
            "gridcolor": "white",
            "linecolor": "white",
            "ticks": ""
           },
           "bgcolor": "#E5ECF6",
           "caxis": {
            "gridcolor": "white",
            "linecolor": "white",
            "ticks": ""
           }
          },
          "title": {
           "x": 0.05
          },
          "xaxis": {
           "automargin": true,
           "gridcolor": "white",
           "linecolor": "white",
           "ticks": "",
           "title": {
            "standoff": 15
           },
           "zerolinecolor": "white",
           "zerolinewidth": 2
          },
          "yaxis": {
           "automargin": true,
           "gridcolor": "white",
           "linecolor": "white",
           "ticks": "",
           "title": {
            "standoff": 15
           },
           "zerolinecolor": "white",
           "zerolinewidth": 2
          }
         }
        },
        "violinmode": "group",
        "xaxis": {
         "anchor": "y",
         "domain": [
          0,
          1
         ],
         "title": {
          "text": "variable"
         }
        },
        "yaxis": {
         "anchor": "x",
         "domain": [
          0,
          1
         ],
         "title": {
          "text": "value"
         }
        }
       }
      }
     },
     "metadata": {},
     "output_type": "display_data"
    }
   ],
   "source": [
    "px.violin(df['Pregnancies'])"
   ]
  },
  {
   "cell_type": "code",
   "execution_count": 58,
   "metadata": {},
   "outputs": [
    {
     "data": {
      "application/vnd.plotly.v1+json": {
       "config": {
        "plotlyServerURL": "https://plot.ly"
       },
       "data": [
        {
         "alignmentgroup": "True",
         "bingroup": "x",
         "hovertemplate": "Insulin=%{x}<br>count=%{y}<extra></extra>",
         "legendgroup": "",
         "marker": {
          "color": "#636efa",
          "pattern": {
           "shape": ""
          }
         },
         "name": "",
         "offsetgroup": "",
         "orientation": "v",
         "showlegend": false,
         "type": "histogram",
         "x": [
          0,
          0,
          0,
          94,
          168,
          0,
          88,
          543,
          0,
          0,
          0,
          846,
          175,
          230,
          0,
          83,
          96,
          235,
          0,
          0,
          0,
          146,
          115,
          0,
          140,
          110,
          0,
          0,
          245,
          54,
          0,
          0,
          192,
          0,
          0,
          0,
          207,
          70,
          0,
          0,
          240,
          0,
          0,
          0,
          0,
          0,
          82,
          36,
          23,
          300,
          342,
          0,
          304,
          110,
          0,
          142,
          0,
          0,
          128,
          0,
          0,
          0,
          0,
          38,
          100,
          90,
          140,
          0,
          270,
          0,
          0,
          0,
          0,
          0,
          71,
          0,
          0,
          125,
          0,
          71,
          110,
          0,
          0,
          176,
          48,
          0,
          64,
          228,
          0,
          76,
          64,
          220,
          0,
          0,
          0,
          40,
          0,
          152,
          0,
          140,
          18,
          36,
          135,
          495,
          37,
          0,
          175,
          0,
          0,
          0,
          0,
          51,
          100,
          0,
          100,
          0,
          0,
          99,
          135,
          94,
          145,
          0,
          168,
          0,
          225,
          0,
          49,
          140,
          50,
          92,
          0,
          325,
          0,
          0,
          63,
          0,
          284,
          0,
          119,
          0,
          0,
          204,
          0,
          155,
          485,
          0,
          0,
          94,
          135,
          53,
          114,
          0,
          105,
          285,
          0,
          0,
          156,
          0,
          0,
          0,
          78,
          0,
          130,
          48,
          55,
          130,
          0,
          130,
          0,
          0,
          0,
          92,
          0,
          0,
          0,
          495,
          58,
          114,
          160,
          0,
          94,
          0,
          0,
          210,
          0,
          48,
          99,
          318,
          0,
          0,
          0,
          44,
          190,
          0,
          280,
          0,
          87,
          0,
          0,
          0,
          0,
          130,
          175,
          271,
          129,
          120,
          0,
          0,
          478,
          0,
          190,
          56,
          32,
          0,
          0,
          744,
          53,
          0,
          370,
          37,
          0,
          45,
          0,
          192,
          0,
          0,
          0,
          0,
          88,
          0,
          176,
          194,
          0,
          0,
          680,
          402,
          0,
          0,
          0,
          55,
          0,
          258,
          0,
          0,
          0,
          375,
          150,
          130,
          0,
          0,
          0,
          67,
          0,
          0,
          0,
          56,
          0,
          45,
          0,
          57,
          0,
          116,
          0,
          278,
          0,
          122,
          155,
          0,
          0,
          135,
          545,
          220,
          49,
          75,
          40,
          74,
          182,
          194,
          0,
          120,
          360,
          215,
          184,
          0,
          135,
          42,
          0,
          0,
          105,
          132,
          148,
          180,
          205,
          0,
          148,
          96,
          85,
          0,
          94,
          64,
          0,
          140,
          0,
          231,
          0,
          0,
          29,
          0,
          168,
          156,
          0,
          120,
          68,
          0,
          52,
          0,
          58,
          255,
          0,
          171,
          0,
          105,
          73,
          0,
          0,
          108,
          83,
          74,
          0,
          0,
          0,
          43,
          0,
          0,
          167,
          54,
          249,
          325,
          0,
          0,
          0,
          293,
          83,
          0,
          0,
          66,
          140,
          465,
          66,
          94,
          158,
          325,
          84,
          75,
          0,
          72,
          82,
          0,
          182,
          59,
          110,
          50,
          0,
          0,
          285,
          81,
          196,
          0,
          415,
          87,
          0,
          275,
          115,
          0,
          0,
          0,
          0,
          0,
          88,
          0,
          0,
          165,
          0,
          0,
          0,
          579,
          0,
          176,
          310,
          61,
          167,
          474,
          0,
          0,
          0,
          115,
          170,
          76,
          78,
          0,
          210,
          277,
          180,
          145,
          180,
          85,
          60,
          0,
          0,
          0,
          0,
          0,
          0,
          0,
          50,
          120,
          0,
          0,
          14,
          70,
          92,
          64,
          63,
          95,
          0,
          210,
          105,
          0,
          0,
          71,
          237,
          60,
          56,
          0,
          49,
          0,
          0,
          105,
          36,
          100,
          140,
          0,
          0,
          0,
          0,
          0,
          0,
          191,
          110,
          75,
          0,
          328,
          0,
          49,
          125,
          250,
          480,
          265,
          0,
          0,
          66,
          0,
          0,
          122,
          0,
          0,
          76,
          145,
          193,
          71,
          0,
          79,
          0,
          0,
          90,
          170,
          76,
          0,
          0,
          210,
          0,
          0,
          86,
          105,
          165,
          0,
          0,
          326,
          66,
          130,
          0,
          0,
          0,
          82,
          105,
          188,
          0,
          106,
          0,
          65,
          56,
          0,
          0,
          210,
          155,
          215,
          190,
          0,
          56,
          76,
          225,
          207,
          166,
          67,
          0,
          0,
          106,
          0,
          44,
          115,
          215,
          0,
          0,
          0,
          0,
          0,
          274,
          77,
          54,
          0,
          88,
          18,
          126,
          126,
          165,
          0,
          0,
          44,
          120,
          330,
          63,
          130,
          0,
          0,
          0,
          0,
          0,
          0,
          0,
          600,
          0,
          0,
          0,
          156,
          0,
          140,
          0,
          115,
          230,
          185,
          0,
          25,
          0,
          120,
          0,
          0,
          126,
          0,
          293,
          41,
          272,
          182,
          158,
          194,
          321,
          0,
          144,
          0,
          0,
          15,
          0,
          160,
          0,
          0,
          115,
          0,
          54,
          0,
          0,
          0,
          0,
          0,
          90,
          0,
          183,
          0,
          0,
          0,
          66,
          91,
          46,
          105,
          0,
          0,
          152,
          440,
          144,
          159,
          130,
          0,
          100,
          106,
          77,
          0,
          135,
          540,
          90,
          200,
          0,
          70,
          0,
          0,
          231,
          130,
          0,
          132,
          0,
          0,
          190,
          100,
          168,
          0,
          49,
          240,
          0,
          0,
          0,
          0,
          0,
          265,
          45,
          0,
          105,
          0,
          205,
          0,
          0,
          180,
          180,
          0,
          0,
          95,
          125,
          0,
          480,
          125,
          155,
          0,
          200,
          0,
          0,
          100,
          0,
          335,
          0,
          160,
          387,
          22,
          0,
          291,
          0,
          392,
          185,
          0,
          178,
          0,
          0,
          200,
          127,
          105,
          0,
          0,
          180,
          0,
          0,
          0,
          79,
          0,
          120,
          165,
          0,
          0,
          120,
          0,
          160,
          0,
          150,
          94,
          116,
          0,
          140,
          105,
          0,
          57,
          200,
          0,
          0,
          74,
          0,
          510,
          0,
          110,
          0,
          0,
          0,
          0,
          16,
          0,
          0,
          180,
          0,
          112,
          0,
          0
         ],
         "xaxis": "x",
         "yaxis": "y"
        }
       ],
       "layout": {
        "barmode": "relative",
        "legend": {
         "tracegroupgap": 0
        },
        "margin": {
         "t": 60
        },
        "template": {
         "data": {
          "bar": [
           {
            "error_x": {
             "color": "#2a3f5f"
            },
            "error_y": {
             "color": "#2a3f5f"
            },
            "marker": {
             "line": {
              "color": "#E5ECF6",
              "width": 0.5
             },
             "pattern": {
              "fillmode": "overlay",
              "size": 10,
              "solidity": 0.2
             }
            },
            "type": "bar"
           }
          ],
          "barpolar": [
           {
            "marker": {
             "line": {
              "color": "#E5ECF6",
              "width": 0.5
             },
             "pattern": {
              "fillmode": "overlay",
              "size": 10,
              "solidity": 0.2
             }
            },
            "type": "barpolar"
           }
          ],
          "carpet": [
           {
            "aaxis": {
             "endlinecolor": "#2a3f5f",
             "gridcolor": "white",
             "linecolor": "white",
             "minorgridcolor": "white",
             "startlinecolor": "#2a3f5f"
            },
            "baxis": {
             "endlinecolor": "#2a3f5f",
             "gridcolor": "white",
             "linecolor": "white",
             "minorgridcolor": "white",
             "startlinecolor": "#2a3f5f"
            },
            "type": "carpet"
           }
          ],
          "choropleth": [
           {
            "colorbar": {
             "outlinewidth": 0,
             "ticks": ""
            },
            "type": "choropleth"
           }
          ],
          "contour": [
           {
            "colorbar": {
             "outlinewidth": 0,
             "ticks": ""
            },
            "colorscale": [
             [
              0,
              "#0d0887"
             ],
             [
              0.1111111111111111,
              "#46039f"
             ],
             [
              0.2222222222222222,
              "#7201a8"
             ],
             [
              0.3333333333333333,
              "#9c179e"
             ],
             [
              0.4444444444444444,
              "#bd3786"
             ],
             [
              0.5555555555555556,
              "#d8576b"
             ],
             [
              0.6666666666666666,
              "#ed7953"
             ],
             [
              0.7777777777777778,
              "#fb9f3a"
             ],
             [
              0.8888888888888888,
              "#fdca26"
             ],
             [
              1,
              "#f0f921"
             ]
            ],
            "type": "contour"
           }
          ],
          "contourcarpet": [
           {
            "colorbar": {
             "outlinewidth": 0,
             "ticks": ""
            },
            "type": "contourcarpet"
           }
          ],
          "heatmap": [
           {
            "colorbar": {
             "outlinewidth": 0,
             "ticks": ""
            },
            "colorscale": [
             [
              0,
              "#0d0887"
             ],
             [
              0.1111111111111111,
              "#46039f"
             ],
             [
              0.2222222222222222,
              "#7201a8"
             ],
             [
              0.3333333333333333,
              "#9c179e"
             ],
             [
              0.4444444444444444,
              "#bd3786"
             ],
             [
              0.5555555555555556,
              "#d8576b"
             ],
             [
              0.6666666666666666,
              "#ed7953"
             ],
             [
              0.7777777777777778,
              "#fb9f3a"
             ],
             [
              0.8888888888888888,
              "#fdca26"
             ],
             [
              1,
              "#f0f921"
             ]
            ],
            "type": "heatmap"
           }
          ],
          "heatmapgl": [
           {
            "colorbar": {
             "outlinewidth": 0,
             "ticks": ""
            },
            "colorscale": [
             [
              0,
              "#0d0887"
             ],
             [
              0.1111111111111111,
              "#46039f"
             ],
             [
              0.2222222222222222,
              "#7201a8"
             ],
             [
              0.3333333333333333,
              "#9c179e"
             ],
             [
              0.4444444444444444,
              "#bd3786"
             ],
             [
              0.5555555555555556,
              "#d8576b"
             ],
             [
              0.6666666666666666,
              "#ed7953"
             ],
             [
              0.7777777777777778,
              "#fb9f3a"
             ],
             [
              0.8888888888888888,
              "#fdca26"
             ],
             [
              1,
              "#f0f921"
             ]
            ],
            "type": "heatmapgl"
           }
          ],
          "histogram": [
           {
            "marker": {
             "pattern": {
              "fillmode": "overlay",
              "size": 10,
              "solidity": 0.2
             }
            },
            "type": "histogram"
           }
          ],
          "histogram2d": [
           {
            "colorbar": {
             "outlinewidth": 0,
             "ticks": ""
            },
            "colorscale": [
             [
              0,
              "#0d0887"
             ],
             [
              0.1111111111111111,
              "#46039f"
             ],
             [
              0.2222222222222222,
              "#7201a8"
             ],
             [
              0.3333333333333333,
              "#9c179e"
             ],
             [
              0.4444444444444444,
              "#bd3786"
             ],
             [
              0.5555555555555556,
              "#d8576b"
             ],
             [
              0.6666666666666666,
              "#ed7953"
             ],
             [
              0.7777777777777778,
              "#fb9f3a"
             ],
             [
              0.8888888888888888,
              "#fdca26"
             ],
             [
              1,
              "#f0f921"
             ]
            ],
            "type": "histogram2d"
           }
          ],
          "histogram2dcontour": [
           {
            "colorbar": {
             "outlinewidth": 0,
             "ticks": ""
            },
            "colorscale": [
             [
              0,
              "#0d0887"
             ],
             [
              0.1111111111111111,
              "#46039f"
             ],
             [
              0.2222222222222222,
              "#7201a8"
             ],
             [
              0.3333333333333333,
              "#9c179e"
             ],
             [
              0.4444444444444444,
              "#bd3786"
             ],
             [
              0.5555555555555556,
              "#d8576b"
             ],
             [
              0.6666666666666666,
              "#ed7953"
             ],
             [
              0.7777777777777778,
              "#fb9f3a"
             ],
             [
              0.8888888888888888,
              "#fdca26"
             ],
             [
              1,
              "#f0f921"
             ]
            ],
            "type": "histogram2dcontour"
           }
          ],
          "mesh3d": [
           {
            "colorbar": {
             "outlinewidth": 0,
             "ticks": ""
            },
            "type": "mesh3d"
           }
          ],
          "parcoords": [
           {
            "line": {
             "colorbar": {
              "outlinewidth": 0,
              "ticks": ""
             }
            },
            "type": "parcoords"
           }
          ],
          "pie": [
           {
            "automargin": true,
            "type": "pie"
           }
          ],
          "scatter": [
           {
            "marker": {
             "colorbar": {
              "outlinewidth": 0,
              "ticks": ""
             }
            },
            "type": "scatter"
           }
          ],
          "scatter3d": [
           {
            "line": {
             "colorbar": {
              "outlinewidth": 0,
              "ticks": ""
             }
            },
            "marker": {
             "colorbar": {
              "outlinewidth": 0,
              "ticks": ""
             }
            },
            "type": "scatter3d"
           }
          ],
          "scattercarpet": [
           {
            "marker": {
             "colorbar": {
              "outlinewidth": 0,
              "ticks": ""
             }
            },
            "type": "scattercarpet"
           }
          ],
          "scattergeo": [
           {
            "marker": {
             "colorbar": {
              "outlinewidth": 0,
              "ticks": ""
             }
            },
            "type": "scattergeo"
           }
          ],
          "scattergl": [
           {
            "marker": {
             "colorbar": {
              "outlinewidth": 0,
              "ticks": ""
             }
            },
            "type": "scattergl"
           }
          ],
          "scattermapbox": [
           {
            "marker": {
             "colorbar": {
              "outlinewidth": 0,
              "ticks": ""
             }
            },
            "type": "scattermapbox"
           }
          ],
          "scatterpolar": [
           {
            "marker": {
             "colorbar": {
              "outlinewidth": 0,
              "ticks": ""
             }
            },
            "type": "scatterpolar"
           }
          ],
          "scatterpolargl": [
           {
            "marker": {
             "colorbar": {
              "outlinewidth": 0,
              "ticks": ""
             }
            },
            "type": "scatterpolargl"
           }
          ],
          "scatterternary": [
           {
            "marker": {
             "colorbar": {
              "outlinewidth": 0,
              "ticks": ""
             }
            },
            "type": "scatterternary"
           }
          ],
          "surface": [
           {
            "colorbar": {
             "outlinewidth": 0,
             "ticks": ""
            },
            "colorscale": [
             [
              0,
              "#0d0887"
             ],
             [
              0.1111111111111111,
              "#46039f"
             ],
             [
              0.2222222222222222,
              "#7201a8"
             ],
             [
              0.3333333333333333,
              "#9c179e"
             ],
             [
              0.4444444444444444,
              "#bd3786"
             ],
             [
              0.5555555555555556,
              "#d8576b"
             ],
             [
              0.6666666666666666,
              "#ed7953"
             ],
             [
              0.7777777777777778,
              "#fb9f3a"
             ],
             [
              0.8888888888888888,
              "#fdca26"
             ],
             [
              1,
              "#f0f921"
             ]
            ],
            "type": "surface"
           }
          ],
          "table": [
           {
            "cells": {
             "fill": {
              "color": "#EBF0F8"
             },
             "line": {
              "color": "white"
             }
            },
            "header": {
             "fill": {
              "color": "#C8D4E3"
             },
             "line": {
              "color": "white"
             }
            },
            "type": "table"
           }
          ]
         },
         "layout": {
          "annotationdefaults": {
           "arrowcolor": "#2a3f5f",
           "arrowhead": 0,
           "arrowwidth": 1
          },
          "autotypenumbers": "strict",
          "coloraxis": {
           "colorbar": {
            "outlinewidth": 0,
            "ticks": ""
           }
          },
          "colorscale": {
           "diverging": [
            [
             0,
             "#8e0152"
            ],
            [
             0.1,
             "#c51b7d"
            ],
            [
             0.2,
             "#de77ae"
            ],
            [
             0.3,
             "#f1b6da"
            ],
            [
             0.4,
             "#fde0ef"
            ],
            [
             0.5,
             "#f7f7f7"
            ],
            [
             0.6,
             "#e6f5d0"
            ],
            [
             0.7,
             "#b8e186"
            ],
            [
             0.8,
             "#7fbc41"
            ],
            [
             0.9,
             "#4d9221"
            ],
            [
             1,
             "#276419"
            ]
           ],
           "sequential": [
            [
             0,
             "#0d0887"
            ],
            [
             0.1111111111111111,
             "#46039f"
            ],
            [
             0.2222222222222222,
             "#7201a8"
            ],
            [
             0.3333333333333333,
             "#9c179e"
            ],
            [
             0.4444444444444444,
             "#bd3786"
            ],
            [
             0.5555555555555556,
             "#d8576b"
            ],
            [
             0.6666666666666666,
             "#ed7953"
            ],
            [
             0.7777777777777778,
             "#fb9f3a"
            ],
            [
             0.8888888888888888,
             "#fdca26"
            ],
            [
             1,
             "#f0f921"
            ]
           ],
           "sequentialminus": [
            [
             0,
             "#0d0887"
            ],
            [
             0.1111111111111111,
             "#46039f"
            ],
            [
             0.2222222222222222,
             "#7201a8"
            ],
            [
             0.3333333333333333,
             "#9c179e"
            ],
            [
             0.4444444444444444,
             "#bd3786"
            ],
            [
             0.5555555555555556,
             "#d8576b"
            ],
            [
             0.6666666666666666,
             "#ed7953"
            ],
            [
             0.7777777777777778,
             "#fb9f3a"
            ],
            [
             0.8888888888888888,
             "#fdca26"
            ],
            [
             1,
             "#f0f921"
            ]
           ]
          },
          "colorway": [
           "#636efa",
           "#EF553B",
           "#00cc96",
           "#ab63fa",
           "#FFA15A",
           "#19d3f3",
           "#FF6692",
           "#B6E880",
           "#FF97FF",
           "#FECB52"
          ],
          "font": {
           "color": "#2a3f5f"
          },
          "geo": {
           "bgcolor": "white",
           "lakecolor": "white",
           "landcolor": "#E5ECF6",
           "showlakes": true,
           "showland": true,
           "subunitcolor": "white"
          },
          "hoverlabel": {
           "align": "left"
          },
          "hovermode": "closest",
          "mapbox": {
           "style": "light"
          },
          "paper_bgcolor": "white",
          "plot_bgcolor": "#E5ECF6",
          "polar": {
           "angularaxis": {
            "gridcolor": "white",
            "linecolor": "white",
            "ticks": ""
           },
           "bgcolor": "#E5ECF6",
           "radialaxis": {
            "gridcolor": "white",
            "linecolor": "white",
            "ticks": ""
           }
          },
          "scene": {
           "xaxis": {
            "backgroundcolor": "#E5ECF6",
            "gridcolor": "white",
            "gridwidth": 2,
            "linecolor": "white",
            "showbackground": true,
            "ticks": "",
            "zerolinecolor": "white"
           },
           "yaxis": {
            "backgroundcolor": "#E5ECF6",
            "gridcolor": "white",
            "gridwidth": 2,
            "linecolor": "white",
            "showbackground": true,
            "ticks": "",
            "zerolinecolor": "white"
           },
           "zaxis": {
            "backgroundcolor": "#E5ECF6",
            "gridcolor": "white",
            "gridwidth": 2,
            "linecolor": "white",
            "showbackground": true,
            "ticks": "",
            "zerolinecolor": "white"
           }
          },
          "shapedefaults": {
           "line": {
            "color": "#2a3f5f"
           }
          },
          "ternary": {
           "aaxis": {
            "gridcolor": "white",
            "linecolor": "white",
            "ticks": ""
           },
           "baxis": {
            "gridcolor": "white",
            "linecolor": "white",
            "ticks": ""
           },
           "bgcolor": "#E5ECF6",
           "caxis": {
            "gridcolor": "white",
            "linecolor": "white",
            "ticks": ""
           }
          },
          "title": {
           "x": 0.05
          },
          "xaxis": {
           "automargin": true,
           "gridcolor": "white",
           "linecolor": "white",
           "ticks": "",
           "title": {
            "standoff": 15
           },
           "zerolinecolor": "white",
           "zerolinewidth": 2
          },
          "yaxis": {
           "automargin": true,
           "gridcolor": "white",
           "linecolor": "white",
           "ticks": "",
           "title": {
            "standoff": 15
           },
           "zerolinecolor": "white",
           "zerolinewidth": 2
          }
         }
        },
        "xaxis": {
         "anchor": "y",
         "domain": [
          0,
          1
         ],
         "title": {
          "text": "Insulin"
         }
        },
        "yaxis": {
         "anchor": "x",
         "domain": [
          0,
          1
         ],
         "title": {
          "text": "count"
         }
        }
       }
      }
     },
     "metadata": {},
     "output_type": "display_data"
    }
   ],
   "source": [
    "px.histogram(df, x='Insulin')"
   ]
  },
  {
   "cell_type": "code",
   "execution_count": 35,
   "metadata": {},
   "outputs": [],
   "source": [
    "df.drop(df[df.Glucose < 20].index, inplace=True)\n",
    "df.drop(df[df.BloodPressure < 15].index, inplace=True)\n",
    "df.drop(df[df.BMI < 10].index, inplace=True)\n"
   ]
  },
  {
   "cell_type": "code",
   "execution_count": 42,
   "metadata": {},
   "outputs": [],
   "source": [
    "media_SkinThickness = df['SkinThickness'].mean()\n",
    "media_Insulin = df['Insulin'].mean()"
   ]
  },
  {
   "cell_type": "code",
   "execution_count": 55,
   "metadata": {},
   "outputs": [],
   "source": [
    "df['SkinThickness'] = np.where(df['SkinThickness'] < 5, media_SkinThickness, df['SkinThickness'])\n",
    "df['Insulin'] = np.where(df['Insulin'] < 10, media_Insulin, df['Insulin'])"
   ]
  },
  {
   "cell_type": "code",
   "execution_count": 60,
   "metadata": {},
   "outputs": [
    {
     "data": {
      "text/html": [
       "<div>\n",
       "<style scoped>\n",
       "    .dataframe tbody tr th:only-of-type {\n",
       "        vertical-align: middle;\n",
       "    }\n",
       "\n",
       "    .dataframe tbody tr th {\n",
       "        vertical-align: top;\n",
       "    }\n",
       "\n",
       "    .dataframe thead th {\n",
       "        text-align: right;\n",
       "    }\n",
       "</style>\n",
       "<table border=\"1\" class=\"dataframe\">\n",
       "  <thead>\n",
       "    <tr style=\"text-align: right;\">\n",
       "      <th></th>\n",
       "      <th>Pregnancies</th>\n",
       "      <th>Glucose</th>\n",
       "      <th>BloodPressure</th>\n",
       "      <th>SkinThickness</th>\n",
       "      <th>Insulin</th>\n",
       "      <th>BMI</th>\n",
       "      <th>DiabetesPedigreeFunction</th>\n",
       "      <th>Age</th>\n",
       "      <th>Outcome</th>\n",
       "    </tr>\n",
       "  </thead>\n",
       "  <tbody>\n",
       "    <tr>\n",
       "      <th>0</th>\n",
       "      <td>6</td>\n",
       "      <td>148</td>\n",
       "      <td>72</td>\n",
       "      <td>35.00000</td>\n",
       "      <td>84.494475</td>\n",
       "      <td>33.6</td>\n",
       "      <td>0.627</td>\n",
       "      <td>50</td>\n",
       "      <td>1</td>\n",
       "    </tr>\n",
       "    <tr>\n",
       "      <th>1</th>\n",
       "      <td>1</td>\n",
       "      <td>85</td>\n",
       "      <td>66</td>\n",
       "      <td>29.00000</td>\n",
       "      <td>84.494475</td>\n",
       "      <td>26.6</td>\n",
       "      <td>0.351</td>\n",
       "      <td>31</td>\n",
       "      <td>0</td>\n",
       "    </tr>\n",
       "    <tr>\n",
       "      <th>2</th>\n",
       "      <td>8</td>\n",
       "      <td>183</td>\n",
       "      <td>64</td>\n",
       "      <td>21.44337</td>\n",
       "      <td>84.494475</td>\n",
       "      <td>23.3</td>\n",
       "      <td>0.672</td>\n",
       "      <td>32</td>\n",
       "      <td>1</td>\n",
       "    </tr>\n",
       "    <tr>\n",
       "      <th>3</th>\n",
       "      <td>1</td>\n",
       "      <td>89</td>\n",
       "      <td>66</td>\n",
       "      <td>23.00000</td>\n",
       "      <td>94.000000</td>\n",
       "      <td>28.1</td>\n",
       "      <td>0.167</td>\n",
       "      <td>21</td>\n",
       "      <td>0</td>\n",
       "    </tr>\n",
       "    <tr>\n",
       "      <th>4</th>\n",
       "      <td>0</td>\n",
       "      <td>137</td>\n",
       "      <td>40</td>\n",
       "      <td>35.00000</td>\n",
       "      <td>168.000000</td>\n",
       "      <td>43.1</td>\n",
       "      <td>2.288</td>\n",
       "      <td>33</td>\n",
       "      <td>1</td>\n",
       "    </tr>\n",
       "  </tbody>\n",
       "</table>\n",
       "</div>"
      ],
      "text/plain": [
       "   Pregnancies  Glucose  BloodPressure  SkinThickness     Insulin   BMI  \\\n",
       "0            6      148             72       35.00000   84.494475  33.6   \n",
       "1            1       85             66       29.00000   84.494475  26.6   \n",
       "2            8      183             64       21.44337   84.494475  23.3   \n",
       "3            1       89             66       23.00000   94.000000  28.1   \n",
       "4            0      137             40       35.00000  168.000000  43.1   \n",
       "\n",
       "   DiabetesPedigreeFunction  Age  Outcome  \n",
       "0                     0.627   50        1  \n",
       "1                     0.351   31        0  \n",
       "2                     0.672   32        1  \n",
       "3                     0.167   21        0  \n",
       "4                     2.288   33        1  "
      ]
     },
     "execution_count": 60,
     "metadata": {},
     "output_type": "execute_result"
    }
   ],
   "source": [
    "df.head()"
   ]
  },
  {
   "cell_type": "code",
   "execution_count": 61,
   "metadata": {},
   "outputs": [
    {
     "data": {
      "text/html": [
       "<div>\n",
       "<style scoped>\n",
       "    .dataframe tbody tr th:only-of-type {\n",
       "        vertical-align: middle;\n",
       "    }\n",
       "\n",
       "    .dataframe tbody tr th {\n",
       "        vertical-align: top;\n",
       "    }\n",
       "\n",
       "    .dataframe thead th {\n",
       "        text-align: right;\n",
       "    }\n",
       "</style>\n",
       "<table border=\"1\" class=\"dataframe\">\n",
       "  <thead>\n",
       "    <tr style=\"text-align: right;\">\n",
       "      <th></th>\n",
       "      <th>Pregnancies</th>\n",
       "      <th>Glucose</th>\n",
       "      <th>BloodPressure</th>\n",
       "      <th>SkinThickness</th>\n",
       "      <th>Insulin</th>\n",
       "      <th>BMI</th>\n",
       "      <th>DiabetesPedigreeFunction</th>\n",
       "      <th>Age</th>\n",
       "      <th>Outcome</th>\n",
       "    </tr>\n",
       "  </thead>\n",
       "  <tbody>\n",
       "    <tr>\n",
       "      <th>count</th>\n",
       "      <td>724.000000</td>\n",
       "      <td>724.000000</td>\n",
       "      <td>724.000000</td>\n",
       "      <td>724.000000</td>\n",
       "      <td>724.000000</td>\n",
       "      <td>724.000000</td>\n",
       "      <td>724.000000</td>\n",
       "      <td>724.000000</td>\n",
       "      <td>724.000000</td>\n",
       "    </tr>\n",
       "    <tr>\n",
       "      <th>mean</th>\n",
       "      <td>3.866022</td>\n",
       "      <td>121.882597</td>\n",
       "      <td>72.400552</td>\n",
       "      <td>27.130010</td>\n",
       "      <td>123.240560</td>\n",
       "      <td>32.467127</td>\n",
       "      <td>0.474765</td>\n",
       "      <td>33.350829</td>\n",
       "      <td>0.343923</td>\n",
       "    </tr>\n",
       "    <tr>\n",
       "      <th>std</th>\n",
       "      <td>3.362803</td>\n",
       "      <td>30.750030</td>\n",
       "      <td>12.379870</td>\n",
       "      <td>9.645083</td>\n",
       "      <td>94.398997</td>\n",
       "      <td>6.888941</td>\n",
       "      <td>0.332315</td>\n",
       "      <td>11.765393</td>\n",
       "      <td>0.475344</td>\n",
       "    </tr>\n",
       "    <tr>\n",
       "      <th>min</th>\n",
       "      <td>0.000000</td>\n",
       "      <td>44.000000</td>\n",
       "      <td>24.000000</td>\n",
       "      <td>7.000000</td>\n",
       "      <td>14.000000</td>\n",
       "      <td>18.200000</td>\n",
       "      <td>0.078000</td>\n",
       "      <td>21.000000</td>\n",
       "      <td>0.000000</td>\n",
       "    </tr>\n",
       "    <tr>\n",
       "      <th>25%</th>\n",
       "      <td>1.000000</td>\n",
       "      <td>99.750000</td>\n",
       "      <td>64.000000</td>\n",
       "      <td>21.443370</td>\n",
       "      <td>84.494475</td>\n",
       "      <td>27.500000</td>\n",
       "      <td>0.245000</td>\n",
       "      <td>24.000000</td>\n",
       "      <td>0.000000</td>\n",
       "    </tr>\n",
       "    <tr>\n",
       "      <th>50%</th>\n",
       "      <td>3.000000</td>\n",
       "      <td>117.000000</td>\n",
       "      <td>72.000000</td>\n",
       "      <td>24.000000</td>\n",
       "      <td>84.494475</td>\n",
       "      <td>32.400000</td>\n",
       "      <td>0.379000</td>\n",
       "      <td>29.000000</td>\n",
       "      <td>0.000000</td>\n",
       "    </tr>\n",
       "    <tr>\n",
       "      <th>75%</th>\n",
       "      <td>6.000000</td>\n",
       "      <td>142.000000</td>\n",
       "      <td>80.000000</td>\n",
       "      <td>33.000000</td>\n",
       "      <td>130.500000</td>\n",
       "      <td>36.600000</td>\n",
       "      <td>0.627500</td>\n",
       "      <td>41.000000</td>\n",
       "      <td>1.000000</td>\n",
       "    </tr>\n",
       "    <tr>\n",
       "      <th>max</th>\n",
       "      <td>17.000000</td>\n",
       "      <td>199.000000</td>\n",
       "      <td>122.000000</td>\n",
       "      <td>99.000000</td>\n",
       "      <td>846.000000</td>\n",
       "      <td>67.100000</td>\n",
       "      <td>2.420000</td>\n",
       "      <td>81.000000</td>\n",
       "      <td>1.000000</td>\n",
       "    </tr>\n",
       "  </tbody>\n",
       "</table>\n",
       "</div>"
      ],
      "text/plain": [
       "       Pregnancies     Glucose  BloodPressure  SkinThickness     Insulin  \\\n",
       "count   724.000000  724.000000     724.000000     724.000000  724.000000   \n",
       "mean      3.866022  121.882597      72.400552      27.130010  123.240560   \n",
       "std       3.362803   30.750030      12.379870       9.645083   94.398997   \n",
       "min       0.000000   44.000000      24.000000       7.000000   14.000000   \n",
       "25%       1.000000   99.750000      64.000000      21.443370   84.494475   \n",
       "50%       3.000000  117.000000      72.000000      24.000000   84.494475   \n",
       "75%       6.000000  142.000000      80.000000      33.000000  130.500000   \n",
       "max      17.000000  199.000000     122.000000      99.000000  846.000000   \n",
       "\n",
       "              BMI  DiabetesPedigreeFunction         Age     Outcome  \n",
       "count  724.000000                724.000000  724.000000  724.000000  \n",
       "mean    32.467127                  0.474765   33.350829    0.343923  \n",
       "std      6.888941                  0.332315   11.765393    0.475344  \n",
       "min     18.200000                  0.078000   21.000000    0.000000  \n",
       "25%     27.500000                  0.245000   24.000000    0.000000  \n",
       "50%     32.400000                  0.379000   29.000000    0.000000  \n",
       "75%     36.600000                  0.627500   41.000000    1.000000  \n",
       "max     67.100000                  2.420000   81.000000    1.000000  "
      ]
     },
     "execution_count": 61,
     "metadata": {},
     "output_type": "execute_result"
    }
   ],
   "source": [
    "df.describe()"
   ]
  },
  {
   "cell_type": "code",
   "execution_count": 126,
   "metadata": {},
   "outputs": [],
   "source": [
    "X = df.get(x_features).values"
   ]
  },
  {
   "cell_type": "code",
   "execution_count": 127,
   "metadata": {},
   "outputs": [],
   "source": [
    "y = df.get('Outcome').values"
   ]
  },
  {
   "cell_type": "code",
   "execution_count": 129,
   "metadata": {},
   "outputs": [],
   "source": [
    "X_train, X_test, y_train, y_test = train_test_split(X, y, test_size=0.3, random_state=42)"
   ]
  },
  {
   "cell_type": "code",
   "execution_count": 132,
   "metadata": {},
   "outputs": [
    {
     "name": "stdout",
     "output_type": "stream",
     "text": [
      "1.0 0.0 0.24299651807657513\n",
      "1.0 0.0 0.5358278581541422\n",
      "0.9999999999999998 0.0 0.5018598120211109\n",
      "0.9999999999999999 0.0 0.22378273349591687\n",
      "1.0 0.0 0.13747076336971106\n",
      "1.0000000000000002 0.0 0.3051022425688497\n",
      "0.9999999999999998 0.0 0.17391347463834933\n",
      "1.0 0.0 0.22622173668667725\n"
     ]
    }
   ],
   "source": [
    "for i in range(8):\n",
    "    print(X[:, i].max(), X[:, i].min(), X[:, i].mean())"
   ]
  },
  {
   "cell_type": "code",
   "execution_count": 131,
   "metadata": {},
   "outputs": [
    {
     "data": {
      "text/plain": [
       "8"
      ]
     },
     "execution_count": 131,
     "metadata": {},
     "output_type": "execute_result"
    }
   ],
   "source": [
    "X_train.shape[1]"
   ]
  },
  {
   "cell_type": "code",
   "execution_count": 133,
   "metadata": {},
   "outputs": [
    {
     "data": {
      "text/plain": [
       "(218, 8)"
      ]
     },
     "execution_count": 133,
     "metadata": {},
     "output_type": "execute_result"
    }
   ],
   "source": [
    "X_test.shape"
   ]
  },
  {
   "cell_type": "code",
   "execution_count": 134,
   "metadata": {},
   "outputs": [
    {
     "data": {
      "text/plain": [
       "(506,)"
      ]
     },
     "execution_count": 134,
     "metadata": {},
     "output_type": "execute_result"
    }
   ],
   "source": [
    "y_train.shape"
   ]
  },
  {
   "cell_type": "code",
   "execution_count": 135,
   "metadata": {},
   "outputs": [
    {
     "data": {
      "text/plain": [
       "8"
      ]
     },
     "execution_count": 135,
     "metadata": {},
     "output_type": "execute_result"
    }
   ],
   "source": [
    "X.shape[1]"
   ]
  },
  {
   "cell_type": "markdown",
   "metadata": {},
   "source": [
    "# Rede Neural - Modelo"
   ]
  },
  {
   "cell_type": "code",
   "execution_count": 146,
   "metadata": {},
   "outputs": [],
   "source": [
    "model = tf.keras.models.Sequential()\n",
    "model.add(Dense(80, input_dim=X.shape[1], activation='relu'))\n",
    "model.add(Dense(80, activation='relu'))\n",
    "model.add(Dense(1, activation='sigmoid'))"
   ]
  },
  {
   "cell_type": "code",
   "execution_count": 149,
   "metadata": {},
   "outputs": [],
   "source": [
    "model.compile(loss='binary_crossentropy', optimizer='adam', metrics=['accuracy'])   # loss='mean_squared_error'"
   ]
  },
  {
   "cell_type": "code",
   "execution_count": 150,
   "metadata": {},
   "outputs": [
    {
     "name": "stdout",
     "output_type": "stream",
     "text": [
      "Epoch 1/40\n",
      "16/16 [==============================] - 1s 16ms/step - loss: 0.4238 - accuracy: 0.8024 - val_loss: 0.4728 - val_accuracy: 0.7752\n",
      "Epoch 2/40\n",
      "16/16 [==============================] - 0s 6ms/step - loss: 0.4206 - accuracy: 0.8043 - val_loss: 0.4716 - val_accuracy: 0.7752\n",
      "Epoch 3/40\n",
      "16/16 [==============================] - 0s 7ms/step - loss: 0.4198 - accuracy: 0.7945 - val_loss: 0.4724 - val_accuracy: 0.7752\n",
      "Epoch 4/40\n",
      "16/16 [==============================] - 0s 5ms/step - loss: 0.4293 - accuracy: 0.7905 - val_loss: 0.4871 - val_accuracy: 0.7798\n",
      "Epoch 5/40\n",
      "16/16 [==============================] - 0s 6ms/step - loss: 0.4205 - accuracy: 0.7964 - val_loss: 0.4741 - val_accuracy: 0.7752\n",
      "Epoch 6/40\n",
      "16/16 [==============================] - 0s 5ms/step - loss: 0.4160 - accuracy: 0.8063 - val_loss: 0.4757 - val_accuracy: 0.7752\n",
      "Epoch 7/40\n",
      "16/16 [==============================] - 0s 6ms/step - loss: 0.4151 - accuracy: 0.8083 - val_loss: 0.4728 - val_accuracy: 0.7752\n",
      "Epoch 8/40\n",
      "16/16 [==============================] - 0s 5ms/step - loss: 0.4176 - accuracy: 0.8024 - val_loss: 0.4748 - val_accuracy: 0.7661\n",
      "Epoch 9/40\n",
      "16/16 [==============================] - 0s 5ms/step - loss: 0.4155 - accuracy: 0.7984 - val_loss: 0.4748 - val_accuracy: 0.7706\n",
      "Epoch 10/40\n",
      "16/16 [==============================] - 0s 5ms/step - loss: 0.4128 - accuracy: 0.8043 - val_loss: 0.4730 - val_accuracy: 0.7752\n",
      "Epoch 11/40\n",
      "16/16 [==============================] - 0s 4ms/step - loss: 0.4113 - accuracy: 0.8063 - val_loss: 0.4762 - val_accuracy: 0.7752\n",
      "Epoch 12/40\n",
      "16/16 [==============================] - 0s 5ms/step - loss: 0.4121 - accuracy: 0.8103 - val_loss: 0.4740 - val_accuracy: 0.7615\n",
      "Epoch 13/40\n",
      "16/16 [==============================] - 0s 5ms/step - loss: 0.4132 - accuracy: 0.8063 - val_loss: 0.4761 - val_accuracy: 0.7798\n",
      "Epoch 14/40\n",
      "16/16 [==============================] - 0s 5ms/step - loss: 0.4092 - accuracy: 0.8043 - val_loss: 0.4777 - val_accuracy: 0.7844\n",
      "Epoch 15/40\n",
      "16/16 [==============================] - 0s 5ms/step - loss: 0.4119 - accuracy: 0.8063 - val_loss: 0.4778 - val_accuracy: 0.7798\n",
      "Epoch 16/40\n",
      "16/16 [==============================] - 0s 5ms/step - loss: 0.4126 - accuracy: 0.8063 - val_loss: 0.4757 - val_accuracy: 0.7706\n",
      "Epoch 17/40\n",
      "16/16 [==============================] - 0s 5ms/step - loss: 0.4088 - accuracy: 0.8142 - val_loss: 0.4755 - val_accuracy: 0.7706\n",
      "Epoch 18/40\n",
      "16/16 [==============================] - 0s 5ms/step - loss: 0.4179 - accuracy: 0.8123 - val_loss: 0.4756 - val_accuracy: 0.7661\n",
      "Epoch 19/40\n",
      "16/16 [==============================] - 0s 4ms/step - loss: 0.4144 - accuracy: 0.7964 - val_loss: 0.4820 - val_accuracy: 0.7798\n",
      "Epoch 20/40\n",
      "16/16 [==============================] - 0s 4ms/step - loss: 0.4196 - accuracy: 0.8024 - val_loss: 0.4740 - val_accuracy: 0.7706\n",
      "Epoch 21/40\n",
      "16/16 [==============================] - 0s 5ms/step - loss: 0.4073 - accuracy: 0.8103 - val_loss: 0.4749 - val_accuracy: 0.7706\n",
      "Epoch 22/40\n",
      "16/16 [==============================] - 0s 4ms/step - loss: 0.4071 - accuracy: 0.8063 - val_loss: 0.4770 - val_accuracy: 0.7752\n",
      "Epoch 23/40\n",
      "16/16 [==============================] - 0s 4ms/step - loss: 0.4111 - accuracy: 0.8063 - val_loss: 0.4773 - val_accuracy: 0.7706\n",
      "Epoch 24/40\n",
      "16/16 [==============================] - 0s 4ms/step - loss: 0.4068 - accuracy: 0.8063 - val_loss: 0.4760 - val_accuracy: 0.7706\n",
      "Epoch 25/40\n",
      "16/16 [==============================] - 0s 4ms/step - loss: 0.4043 - accuracy: 0.8004 - val_loss: 0.4761 - val_accuracy: 0.7706\n",
      "Epoch 26/40\n",
      "16/16 [==============================] - 0s 5ms/step - loss: 0.4084 - accuracy: 0.8103 - val_loss: 0.4777 - val_accuracy: 0.7752\n",
      "Epoch 27/40\n",
      "16/16 [==============================] - 0s 4ms/step - loss: 0.4024 - accuracy: 0.8083 - val_loss: 0.4768 - val_accuracy: 0.7706\n",
      "Epoch 28/40\n",
      "16/16 [==============================] - 0s 4ms/step - loss: 0.4017 - accuracy: 0.8123 - val_loss: 0.4774 - val_accuracy: 0.7706\n",
      "Epoch 29/40\n",
      "16/16 [==============================] - 0s 4ms/step - loss: 0.4004 - accuracy: 0.8162 - val_loss: 0.4774 - val_accuracy: 0.7752\n",
      "Epoch 30/40\n",
      "16/16 [==============================] - 0s 4ms/step - loss: 0.4009 - accuracy: 0.8103 - val_loss: 0.4785 - val_accuracy: 0.7798\n",
      "Epoch 31/40\n",
      "16/16 [==============================] - 0s 4ms/step - loss: 0.4020 - accuracy: 0.8123 - val_loss: 0.4798 - val_accuracy: 0.7752\n",
      "Epoch 32/40\n",
      "16/16 [==============================] - 0s 4ms/step - loss: 0.3998 - accuracy: 0.8162 - val_loss: 0.4805 - val_accuracy: 0.7798\n",
      "Epoch 33/40\n",
      "16/16 [==============================] - 0s 5ms/step - loss: 0.3992 - accuracy: 0.8103 - val_loss: 0.4790 - val_accuracy: 0.7752\n",
      "Epoch 34/40\n",
      "16/16 [==============================] - 0s 5ms/step - loss: 0.3999 - accuracy: 0.8103 - val_loss: 0.4827 - val_accuracy: 0.7706\n",
      "Epoch 35/40\n",
      "16/16 [==============================] - 0s 5ms/step - loss: 0.4019 - accuracy: 0.7964 - val_loss: 0.4819 - val_accuracy: 0.7844\n",
      "Epoch 36/40\n",
      "16/16 [==============================] - 0s 4ms/step - loss: 0.4008 - accuracy: 0.8142 - val_loss: 0.4808 - val_accuracy: 0.7752\n",
      "Epoch 37/40\n",
      "16/16 [==============================] - 0s 4ms/step - loss: 0.3974 - accuracy: 0.8083 - val_loss: 0.4814 - val_accuracy: 0.7844\n",
      "Epoch 38/40\n",
      "16/16 [==============================] - 0s 4ms/step - loss: 0.4000 - accuracy: 0.8043 - val_loss: 0.4959 - val_accuracy: 0.7890\n",
      "Epoch 39/40\n",
      "16/16 [==============================] - 0s 4ms/step - loss: 0.4005 - accuracy: 0.8103 - val_loss: 0.4862 - val_accuracy: 0.7844\n",
      "Epoch 40/40\n",
      "16/16 [==============================] - 0s 4ms/step - loss: 0.4006 - accuracy: 0.8063 - val_loss: 0.4833 - val_accuracy: 0.7752\n"
     ]
    },
    {
     "data": {
      "text/plain": [
       "<tensorflow.python.keras.callbacks.History at 0x23a3b6d7d00>"
      ]
     },
     "execution_count": 150,
     "metadata": {},
     "output_type": "execute_result"
    }
   ],
   "source": [
    "model.fit(X_train, y_train, validation_data=(X_test, y_test), epochs=40, shuffle=True)"
   ]
  },
  {
   "cell_type": "code",
   "execution_count": 139,
   "metadata": {},
   "outputs": [
    {
     "name": "stdout",
     "output_type": "stream",
     "text": [
      "7/7 [==============================] - 0s 3ms/step - loss: 0.1670 - accuracy: 0.7477\n"
     ]
    },
    {
     "data": {
      "text/plain": [
       "[0.166978657245636, 0.747706413269043]"
      ]
     },
     "execution_count": 139,
     "metadata": {},
     "output_type": "execute_result"
    }
   ],
   "source": [
    "model.evaluate(X_test, y_test)"
   ]
  },
  {
   "cell_type": "code",
   "execution_count": 86,
   "metadata": {},
   "outputs": [
    {
     "name": "stdout",
     "output_type": "stream",
     "text": [
      "Model: \"sequential_1\"\n",
      "_________________________________________________________________\n",
      "Layer (type)                 Output Shape              Param #   \n",
      "=================================================================\n",
      "dense_3 (Dense)              (None, 20)                180       \n",
      "_________________________________________________________________\n",
      "dense_4 (Dense)              (None, 20)                420       \n",
      "_________________________________________________________________\n",
      "dense_5 (Dense)              (None, 1)                 21        \n",
      "=================================================================\n",
      "Total params: 621\n",
      "Trainable params: 621\n",
      "Non-trainable params: 0\n",
      "_________________________________________________________________\n"
     ]
    }
   ],
   "source": [
    "model.summary()"
   ]
  },
  {
   "cell_type": "code",
   "execution_count": 95,
   "metadata": {},
   "outputs": [
    {
     "name": "stdout",
     "output_type": "stream",
     "text": [
      "('You must install pydot (`pip install pydot`) and install graphviz (see instructions at https://graphviz.gitlab.io/download/) ', 'for plot_model/model_to_dot to work.')\n"
     ]
    }
   ],
   "source": [
    "plot_model(model, to_file='model.png')"
   ]
  }
 ],
 "metadata": {
  "interpreter": {
   "hash": "b6f0fe63165deeccc516f55bb737eca0cb1a8ece0bc9f9b378381afa88da9880"
  },
  "kernelspec": {
   "display_name": "Python 3.9.6 64-bit ('ml': conda)",
   "name": "python3"
  },
  "language_info": {
   "codemirror_mode": {
    "name": "ipython",
    "version": 3
   },
   "file_extension": ".py",
   "mimetype": "text/x-python",
   "name": "python",
   "nbconvert_exporter": "python",
   "pygments_lexer": "ipython3",
   "version": "3.9.7"
  },
  "orig_nbformat": 4
 },
 "nbformat": 4,
 "nbformat_minor": 2
}
