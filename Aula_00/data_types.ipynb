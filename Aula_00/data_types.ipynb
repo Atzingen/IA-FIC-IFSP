{
 "cells": [
  {
   "cell_type": "markdown",
   "id": "66da36e7-4481-4bac-b190-1daa4be3e98d",
   "metadata": {},
   "source": [
    "# Os Principais tipos de dados no python"
   ]
  },
  {
   "cell_type": "markdown",
   "id": "65567100-ab01-466f-9fa6-a574862294cb",
   "metadata": {},
   "source": [
    "Neste tutorial vamos aprender o que são variáveis e quais os principais tipos, partindo das estruturas primitivas até as não-primitivas. Também veremos as formas de usar o *print()* com a funcionalidade *fstring* \n",
    "\n",
    "Informações mais detalhadas podem ser encontradas nos links abaixo\n",
    "\n",
    "https://www.datacamp.com/community/tutorials/data-structures-python\n",
    "\n",
    "https://docs.python.org/3/library/stdtypes.html\n",
    "\n",
    "![Mapa das estruturas](http://res.cloudinary.com/dyd911kmh/image/upload/c_scale,f_auto,q_auto:best,w_700/v1512740202/Template_2_oxrskq.png)"
   ]
  },
  {
   "cell_type": "markdown",
   "id": "dee6f01e-83af-4fbf-b454-9ee924864a93",
   "metadata": {},
   "source": [
    "## Tipos Primitivos\n",
    "\n",
    "* inteiros\n",
    "* float\n",
    "* booleano\n",
    "* string"
   ]
  },
  {
   "cell_type": "code",
   "execution_count": 47,
   "id": "6a899bcf-ec48-4a56-a074-b393c6d45866",
   "metadata": {},
   "outputs": [],
   "source": [
    "idade = 39"
   ]
  },
  {
   "cell_type": "code",
   "execution_count": 25,
   "id": "5475c9d9-ea2b-491c-863b-2fa677f135cc",
   "metadata": {},
   "outputs": [
    {
     "name": "stdout",
     "output_type": "stream",
     "text": [
      "40 <class 'int'>\n"
     ]
    }
   ],
   "source": [
    "print(idade, type(idade))"
   ]
  },
  {
   "cell_type": "code",
   "execution_count": 8,
   "id": "52c5c8d1-9468-4d89-9407-f792529e918e",
   "metadata": {},
   "outputs": [],
   "source": [
    "pi = 3.14159"
   ]
  },
  {
   "cell_type": "code",
   "execution_count": 9,
   "id": "ced35a5d-cb4d-46b1-8f9e-08223d6cc69f",
   "metadata": {},
   "outputs": [
    {
     "name": "stdout",
     "output_type": "stream",
     "text": [
      "3.14159 <class 'float'>\n"
     ]
    }
   ],
   "source": [
    "print(pi, type(pi))"
   ]
  },
  {
   "cell_type": "code",
   "execution_count": 10,
   "id": "c30822a9-3396-49b6-97de-dc4f97212d45",
   "metadata": {},
   "outputs": [],
   "source": [
    "python_rocks = True"
   ]
  },
  {
   "cell_type": "code",
   "execution_count": 11,
   "id": "e94730a5-1617-47dd-ae6d-f98d401937a3",
   "metadata": {},
   "outputs": [
    {
     "name": "stdout",
     "output_type": "stream",
     "text": [
      "True <class 'bool'>\n"
     ]
    }
   ],
   "source": [
    "print(python_rocks, type(python_rocks))"
   ]
  },
  {
   "cell_type": "code",
   "execution_count": 21,
   "id": "189adf5d-705c-4493-b927-f0a4eec2fc39",
   "metadata": {},
   "outputs": [],
   "source": [
    "idade = idade + 1"
   ]
  },
  {
   "cell_type": "code",
   "execution_count": 24,
   "id": "995127f6-e0ef-483c-b97e-544f72b930d7",
   "metadata": {},
   "outputs": [],
   "source": [
    "idade -= 1"
   ]
  },
  {
   "cell_type": "code",
   "execution_count": 42,
   "id": "ccc387e9-eb32-490d-a1af-b19ae554a712",
   "metadata": {},
   "outputs": [],
   "source": [
    "nome = 'Gustavo Atzingen'"
   ]
  },
  {
   "cell_type": "code",
   "execution_count": 43,
   "id": "44cd99b5-1227-4e83-ac7c-fb17a64ecaec",
   "metadata": {},
   "outputs": [
    {
     "name": "stdout",
     "output_type": "stream",
     "text": [
      "<class 'str'>\n"
     ]
    }
   ],
   "source": [
    "print(type(nome))"
   ]
  },
  {
   "cell_type": "code",
   "execution_count": 31,
   "id": "17ae8258-83bb-425e-a6f7-4a956409411f",
   "metadata": {},
   "outputs": [
    {
     "name": "stdout",
     "output_type": "stream",
     "text": [
      "e\n"
     ]
    }
   ],
   "source": [
    "print(nome[-2])"
   ]
  },
  {
   "cell_type": "code",
   "execution_count": 37,
   "id": "0edaa605-01ed-457a-a7e9-05439f67f60c",
   "metadata": {},
   "outputs": [
    {
     "name": "stdout",
     "output_type": "stream",
     "text": [
      "Atzingen\n"
     ]
    }
   ],
   "source": [
    "print(nome[8:])"
   ]
  },
  {
   "cell_type": "code",
   "execution_count": 38,
   "id": "e2fede96-8625-4b1d-a098-a2fc72227112",
   "metadata": {},
   "outputs": [],
   "source": [
    "primeiro_nome, sobrenome = nome.split(' ')"
   ]
  },
  {
   "cell_type": "code",
   "execution_count": 39,
   "id": "d51d779c-6a51-4cec-b683-0bf338ac6ba8",
   "metadata": {},
   "outputs": [
    {
     "name": "stdout",
     "output_type": "stream",
     "text": [
      "Gustavo\n"
     ]
    }
   ],
   "source": [
    "print(primeiro_nome)"
   ]
  },
  {
   "cell_type": "code",
   "execution_count": 40,
   "id": "3a8ed9d1-3873-4864-b67a-ab86a943abaf",
   "metadata": {},
   "outputs": [
    {
     "name": "stdout",
     "output_type": "stream",
     "text": [
      "Atzingen\n"
     ]
    }
   ],
   "source": [
    "print(sobrenome)"
   ]
  },
  {
   "cell_type": "code",
   "execution_count": 41,
   "id": "8b8b3424-8bee-4805-82cc-6ab9e2ad09d6",
   "metadata": {},
   "outputs": [
    {
     "data": {
      "text/plain": [
       "16"
      ]
     },
     "execution_count": 41,
     "metadata": {},
     "output_type": "execute_result"
    }
   ],
   "source": [
    "len(nome)"
   ]
  },
  {
   "cell_type": "markdown",
   "id": "33af0d41-1e2a-4136-8da1-131ca8f7de82",
   "metadata": {},
   "source": [
    "## Print e f-strings"
   ]
  },
  {
   "cell_type": "code",
   "execution_count": 48,
   "id": "766caf0c-1165-4a41-bd8c-53989c9e32a5",
   "metadata": {},
   "outputs": [
    {
     "name": "stdout",
     "output_type": "stream",
     "text": [
      "O nome do candidato é Gustavo, e a idade é 39\n"
     ]
    }
   ],
   "source": [
    "print(f'O nome do candidato é {primeiro_nome}, e a idade é {idade}')"
   ]
  },
  {
   "cell_type": "markdown",
   "id": "d37e83fa-190c-424b-a8a9-0cdfdc549928",
   "metadata": {},
   "source": [
    "## Não primitivos\n",
    "\n",
    "* Lista\n",
    "* Tupla\n",
    "* Dicionario\n",
    "* Array (numpy)"
   ]
  },
  {
   "cell_type": "code",
   "execution_count": 49,
   "id": "a172708e-d46c-4687-b395-550d9a880502",
   "metadata": {},
   "outputs": [],
   "source": [
    "compras = ['ovo', 'café', 'pão', 'bolo']"
   ]
  },
  {
   "cell_type": "code",
   "execution_count": 77,
   "id": "bb802987-78ca-4daf-9e5f-ea1635277fdd",
   "metadata": {},
   "outputs": [],
   "source": [
    "fib = [1, 1, 2, 3, 5, 8, 13]"
   ]
  },
  {
   "cell_type": "code",
   "execution_count": 78,
   "id": "82a38a98-983c-48d7-9e1a-0a756110cbe9",
   "metadata": {},
   "outputs": [
    {
     "data": {
      "text/plain": [
       "1"
      ]
     },
     "execution_count": 78,
     "metadata": {},
     "output_type": "execute_result"
    }
   ],
   "source": [
    "fib[0]"
   ]
  },
  {
   "cell_type": "code",
   "execution_count": 89,
   "id": "8f160492-93bb-4bf3-8884-4fe30e96459d",
   "metadata": {},
   "outputs": [],
   "source": [
    "super_lista = ['ovo', 'café', 'pão', 'bolo', ['agua', 'suco', 'refrigerante']]"
   ]
  },
  {
   "cell_type": "code",
   "execution_count": 90,
   "id": "89895254-f423-4195-9e2c-48d89be99243",
   "metadata": {},
   "outputs": [
    {
     "data": {
      "text/plain": [
       "5"
      ]
     },
     "execution_count": 90,
     "metadata": {},
     "output_type": "execute_result"
    }
   ],
   "source": [
    "len(super_lista)"
   ]
  },
  {
   "cell_type": "code",
   "execution_count": 91,
   "id": "173edaac-081c-4501-8c48-086364fd3e89",
   "metadata": {},
   "outputs": [
    {
     "data": {
      "text/plain": [
       "['agua', 'suco', 'refrigerante']"
      ]
     },
     "execution_count": 91,
     "metadata": {},
     "output_type": "execute_result"
    }
   ],
   "source": [
    "super_lista[-1]"
   ]
  },
  {
   "cell_type": "code",
   "execution_count": 50,
   "id": "cbe15e50-c36d-4a47-ac30-73eeac5f43fa",
   "metadata": {},
   "outputs": [
    {
     "data": {
      "text/plain": [
       "list"
      ]
     },
     "execution_count": 50,
     "metadata": {},
     "output_type": "execute_result"
    }
   ],
   "source": [
    "type(compras)"
   ]
  },
  {
   "cell_type": "code",
   "execution_count": 53,
   "id": "02b0d9af-7bed-4eff-8daa-183a33ebd251",
   "metadata": {},
   "outputs": [
    {
     "data": {
      "text/plain": [
       "'bolo'"
      ]
     },
     "execution_count": 53,
     "metadata": {},
     "output_type": "execute_result"
    }
   ],
   "source": [
    "compras[-1]"
   ]
  },
  {
   "cell_type": "code",
   "execution_count": 54,
   "id": "6513f522-05b2-4385-8f47-0d140d65eea6",
   "metadata": {},
   "outputs": [],
   "source": [
    "compras.append('agua')"
   ]
  },
  {
   "cell_type": "code",
   "execution_count": 55,
   "id": "a013c638-3158-44a8-a367-fdbb0e22b2f2",
   "metadata": {},
   "outputs": [
    {
     "name": "stdout",
     "output_type": "stream",
     "text": [
      "['ovo', 'café', 'pão', 'bolo', 'agua']\n"
     ]
    }
   ],
   "source": [
    "print(compras)"
   ]
  },
  {
   "cell_type": "code",
   "execution_count": 57,
   "id": "611b556d-26af-4269-9ef3-69a01512596f",
   "metadata": {},
   "outputs": [
    {
     "data": {
      "text/plain": [
       "False"
      ]
     },
     "execution_count": 57,
     "metadata": {},
     "output_type": "execute_result"
    }
   ],
   "source": [
    "'chá' in compras"
   ]
  },
  {
   "cell_type": "code",
   "execution_count": 58,
   "id": "ccf15d0b-a79c-49e2-8c4e-4a4a115e6d9d",
   "metadata": {},
   "outputs": [
    {
     "data": {
      "text/plain": [
       "['ovo', 'café']"
      ]
     },
     "execution_count": 58,
     "metadata": {},
     "output_type": "execute_result"
    }
   ],
   "source": [
    "compras[0:2]"
   ]
  },
  {
   "cell_type": "code",
   "execution_count": 69,
   "id": "9b7c33dc-69b0-487e-a3cd-e5498fa21546",
   "metadata": {},
   "outputs": [],
   "source": [
    "compras[0] = 'queijo'"
   ]
  },
  {
   "cell_type": "code",
   "execution_count": 70,
   "id": "921ee362-9b10-4fd3-a42b-21276be9b2af",
   "metadata": {},
   "outputs": [
    {
     "name": "stdout",
     "output_type": "stream",
     "text": [
      "['queijo', 'café', 'pão', 'bolo', 'agua']\n"
     ]
    }
   ],
   "source": [
    "print(compras)"
   ]
  },
  {
   "cell_type": "code",
   "execution_count": 59,
   "id": "2c32d0d8-fbea-4cd3-bdfe-e4a143dd3e3f",
   "metadata": {},
   "outputs": [],
   "source": [
    "seq = ('ovo', 'café', 'pão', 'bolo', 'agua')"
   ]
  },
  {
   "cell_type": "code",
   "execution_count": 60,
   "id": "6d6d1369-a073-46c3-8223-df52508bbc3e",
   "metadata": {},
   "outputs": [
    {
     "data": {
      "text/plain": [
       "tuple"
      ]
     },
     "execution_count": 60,
     "metadata": {},
     "output_type": "execute_result"
    }
   ],
   "source": [
    "type(seq)"
   ]
  },
  {
   "cell_type": "code",
   "execution_count": 61,
   "id": "b671603a-b141-4b0c-af6d-e5772c35c933",
   "metadata": {},
   "outputs": [
    {
     "data": {
      "text/plain": [
       "'ovo'"
      ]
     },
     "execution_count": 61,
     "metadata": {},
     "output_type": "execute_result"
    }
   ],
   "source": [
    "seq[0]"
   ]
  },
  {
   "cell_type": "code",
   "execution_count": 72,
   "id": "8829f789-648f-4f02-b0fe-a84b8be61ed3",
   "metadata": {},
   "outputs": [],
   "source": [
    "seq[0] = 'queijo'"
   ]
  },
  {
   "cell_type": "code",
   "execution_count": 73,
   "id": "2f8440d3-424a-4b6d-bcf0-81d2eedc88de",
   "metadata": {},
   "outputs": [],
   "source": [
    "pessoas = {'gustavo': 1, 'joao': 1, 'pedro': 3}"
   ]
  },
  {
   "cell_type": "code",
   "execution_count": 74,
   "id": "b00d03e8-d534-4c01-a1a5-3f5e63860022",
   "metadata": {},
   "outputs": [
    {
     "data": {
      "text/plain": [
       "1"
      ]
     },
     "execution_count": 74,
     "metadata": {},
     "output_type": "execute_result"
    }
   ],
   "source": [
    "pessoas['gustavo']"
   ]
  },
  {
   "cell_type": "code",
   "execution_count": 75,
   "id": "4faf3e5f-6a99-4fd4-bfd7-ee5baef0e370",
   "metadata": {},
   "outputs": [
    {
     "data": {
      "text/plain": [
       "dict_keys(['gustavo', 'joao', 'pedro'])"
      ]
     },
     "execution_count": 75,
     "metadata": {},
     "output_type": "execute_result"
    }
   ],
   "source": [
    "pessoas.keys()"
   ]
  },
  {
   "cell_type": "code",
   "execution_count": 76,
   "id": "0c2355f4-4140-461d-8ba8-9047c9fe3f7b",
   "metadata": {},
   "outputs": [
    {
     "data": {
      "text/plain": [
       "dict_values([1, 1, 3])"
      ]
     },
     "execution_count": 76,
     "metadata": {},
     "output_type": "execute_result"
    }
   ],
   "source": [
    "pessoas.values()"
   ]
  },
  {
   "cell_type": "code",
   "execution_count": 79,
   "id": "327f2e4a-4e45-461e-a198-6b4a0d4a6692",
   "metadata": {},
   "outputs": [],
   "source": [
    "import numpy as np"
   ]
  },
  {
   "cell_type": "code",
   "execution_count": 80,
   "id": "83ba9128-07cc-4562-a04b-9010d565b534",
   "metadata": {},
   "outputs": [],
   "source": [
    "v1 = np.array([1, 1, 2, 3, 5, 8, 13])"
   ]
  },
  {
   "cell_type": "code",
   "execution_count": 81,
   "id": "3cfa4bb9-d62f-451b-8a8f-b84e91c7b04b",
   "metadata": {},
   "outputs": [
    {
     "data": {
      "text/plain": [
       "numpy.ndarray"
      ]
     },
     "execution_count": 81,
     "metadata": {},
     "output_type": "execute_result"
    }
   ],
   "source": [
    "type(v1)"
   ]
  },
  {
   "cell_type": "code",
   "execution_count": 84,
   "id": "808121f6-8610-4add-ad01-afe77a7fb25c",
   "metadata": {},
   "outputs": [
    {
     "data": {
      "text/plain": [
       "13"
      ]
     },
     "execution_count": 84,
     "metadata": {},
     "output_type": "execute_result"
    }
   ],
   "source": [
    "v1[-1]"
   ]
  },
  {
   "cell_type": "code",
   "execution_count": 87,
   "id": "992eb145-6864-418e-b381-d7fded798841",
   "metadata": {},
   "outputs": [
    {
     "data": {
      "text/plain": [
       "13"
      ]
     },
     "execution_count": 87,
     "metadata": {},
     "output_type": "execute_result"
    }
   ],
   "source": [
    "v1.max()"
   ]
  },
  {
   "cell_type": "code",
   "execution_count": 88,
   "id": "ba440dc0-8a1f-4c6d-a30c-e8dc16ce337a",
   "metadata": {},
   "outputs": [
    {
     "data": {
      "text/plain": [
       "33"
      ]
     },
     "execution_count": 88,
     "metadata": {},
     "output_type": "execute_result"
    }
   ],
   "source": [
    "v1.sum()"
   ]
  }
 ],
 "metadata": {
  "kernelspec": {
   "display_name": "Python 3",
   "language": "python",
   "name": "python3"
  },
  "language_info": {
   "codemirror_mode": {
    "name": "ipython",
    "version": 3
   },
   "file_extension": ".py",
   "mimetype": "text/x-python",
   "name": "python",
   "nbconvert_exporter": "python",
   "pygments_lexer": "ipython3",
   "version": "3.8.8"
  }
 },
 "nbformat": 4,
 "nbformat_minor": 5
}
