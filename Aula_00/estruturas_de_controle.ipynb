{
 "cells": [
  {
   "cell_type": "markdown",
   "id": "41ddeb70-4173-4ec6-8f44-7b4d6e3d33a1",
   "metadata": {},
   "source": [
    "# Estruturas de controle de fluxo no Python"
   ]
  },
  {
   "cell_type": "markdown",
   "id": "32e4302d-5dc2-4dbf-a86b-dd30bb82d86d",
   "metadata": {},
   "source": [
    "Para o controle do fluxo de execução (quais linhas do programa serão executadas na sequencia), existem três tipos de estruturas que definem a sequencia que será executada:\n",
    "\n",
    "* Sequencial (modo padrão)\n",
    "\n",
    "* Seleção\n",
    "    * if\n",
    "    * if-else\n",
    "    * if-elif-else\n",
    "\n",
    "* Repetição\n",
    "    * for\n",
    "    * while\n",
    "    \n",
    "Referências\n",
    "\n",
    "https://www.oreilly.com/library/view/python-in-a/0596001886/ch04s09.html\n",
    "\n",
    "https://www.c-sharpcorner.com/article/python-flow-control-statements/\n",
    "\n",
    "https://www.educative.io/edpresso/what-are-control-flow-statements-in-python"
   ]
  },
  {
   "cell_type": "markdown",
   "id": "66df4533-695c-497d-840b-4d528e6ade0b",
   "metadata": {},
   "source": [
    "## Seleção"
   ]
  },
  {
   "cell_type": "markdown",
   "id": "49041602-4795-47a3-ba6b-124091501805",
   "metadata": {},
   "source": [
    "![Decião com iF-else](https://csharpcorner-mindcrackerinc.netdna-ssl.com/article/python-flow-control-statements/Images/pf1.png)"
   ]
  },
  {
   "cell_type": "markdown",
   "id": "cc7c4732-2dc9-430f-a782-af15bdb8b6ae",
   "metadata": {},
   "source": [
    "if condicao:\n",
    "    executar essa linha caso a condicao seja verdadeira\n",
    "    ..\n",
    "    .. \n",
    "elif condicao2:\n",
    "    executar essa linha caso a condicao2 seja verdadeira\n",
    "else:\n",
    "    executar essa linha caso a condicao seja falsa"
   ]
  },
  {
   "cell_type": "markdown",
   "id": "ce428a1f-7644-4475-abc8-6cfc6f811af7",
   "metadata": {},
   "source": [
    "== \n",
    "!="
   ]
  },
  {
   "cell_type": "code",
   "execution_count": 15,
   "id": "5236a76b-e28a-4c65-86dd-0af326598a48",
   "metadata": {},
   "outputs": [
    {
     "name": "stdout",
     "output_type": "stream",
     "text": [
      "o resultado do teste é verdadeiro\n"
     ]
    }
   ],
   "source": [
    "teste = True\n",
    "\n",
    "if teste:\n",
    "    print(\"o resultado do teste é verdadeiro\")\n",
    "else:\n",
    "    print(\"o resultado do teste é falso\")\n",
    "    print(\"o resultado do teste é falso\")\n",
    "    print(\"o resultado do teste é falso\")"
   ]
  },
  {
   "cell_type": "code",
   "execution_count": 8,
   "id": "d78ad586-1bdd-4967-b253-951d30736a24",
   "metadata": {},
   "outputs": [
    {
     "name": "stdout",
     "output_type": "stream",
     "text": [
      "o resultado do teste é falso\n"
     ]
    }
   ],
   "source": [
    "teste = False\n",
    "\n",
    "if not teste:\n",
    "    print(\"o resultado do teste é falso\")"
   ]
  },
  {
   "cell_type": "code",
   "execution_count": 22,
   "id": "c7208bd8-5db7-49e1-a042-b58b0e2f0053",
   "metadata": {},
   "outputs": [
    {
     "name": "stdout",
     "output_type": "stream",
     "text": [
      "a variável v1 = 8.5 é menor que 9 e maior ou igual a 8\n"
     ]
    }
   ],
   "source": [
    "v1 = 8.5\n",
    "\n",
    "if v1 <= 5:\n",
    "    print(f'a variável v1 = {v1} é menor que 5')\n",
    "elif v1 < 8:\n",
    "    print(f'a variável v1 = {v1} é menor que 8 e maior que 5')\n",
    "elif v1 < 9:\n",
    "    print(f'a variável v1 = {v1} é menor que 9 e maior ou igual a 8')\n",
    "else:\n",
    "    print(f'a variável v1 = {v1} é maior ou igual a 8')"
   ]
  },
  {
   "cell_type": "markdown",
   "id": "913e4302-1984-457f-af8a-9519d048ce18",
   "metadata": {},
   "source": [
    "## Repetição"
   ]
  },
  {
   "cell_type": "markdown",
   "id": "119f7d4e-cab5-4b26-addc-28b57e129117",
   "metadata": {},
   "source": [
    "#### for\n",
    "\n",
    "Iterar por uma sequencia"
   ]
  },
  {
   "cell_type": "code",
   "execution_count": 24,
   "id": "f6da7556-86d6-47de-b309-f9a5deb29ef6",
   "metadata": {},
   "outputs": [
    {
     "name": "stdout",
     "output_type": "stream",
     "text": [
      "ovo\n",
      "café\n",
      "pão\n",
      "bolo\n"
     ]
    }
   ],
   "source": [
    "compras = ('ovo', 'café', 'pão', 'bolo')\n",
    "\n",
    "for item in compras:\n",
    "    print(item)"
   ]
  },
  {
   "cell_type": "code",
   "execution_count": 25,
   "id": "95f98604-0e22-464d-85b1-78ab5ba4c8c9",
   "metadata": {},
   "outputs": [
    {
     "name": "stdout",
     "output_type": "stream",
     "text": [
      "G\n",
      "u\n",
      "s\n",
      "t\n",
      "a\n",
      "v\n",
      "o\n",
      " \n",
      "A\n",
      "t\n",
      "z\n",
      "i\n",
      "n\n",
      "g\n",
      "e\n",
      "n\n"
     ]
    }
   ],
   "source": [
    "nome = 'Gustavo Atzingen'\n",
    "\n",
    "for letra in nome:\n",
    "    print(letra)"
   ]
  },
  {
   "cell_type": "code",
   "execution_count": 41,
   "id": "cabbbce8-3c5a-402c-9088-076b7328aaa6",
   "metadata": {},
   "outputs": [
    {
     "name": "stdout",
     "output_type": "stream",
     "text": [
      "0\n",
      "1\n",
      "2\n",
      "3\n",
      "4\n",
      "5\n",
      "6\n",
      "7\n",
      "8\n",
      "9\n"
     ]
    }
   ],
   "source": [
    "for i in range(10):\n",
    "    print(i)"
   ]
  },
  {
   "cell_type": "code",
   "execution_count": 31,
   "id": "bd2904b5-7421-40d0-8942-6d23d1912a8a",
   "metadata": {},
   "outputs": [
    {
     "name": "stdout",
     "output_type": "stream",
     "text": [
      "G 0\n",
      "u 1\n",
      "s 2\n",
      "t 3\n",
      "a 4\n",
      "v 5\n",
      "o 6\n",
      "  7\n",
      "A 8\n",
      "t 9\n",
      "z 10\n",
      "i 11\n",
      "n 12\n",
      "g 13\n",
      "e 14\n",
      "n 15\n"
     ]
    }
   ],
   "source": [
    "nome = 'Gustavo Atzingen'\n",
    "\n",
    "i = 0\n",
    "for letra in nome:\n",
    "    print(letra, i)\n",
    "    i += 1"
   ]
  },
  {
   "cell_type": "code",
   "execution_count": 32,
   "id": "234fcd7f-83c0-4c28-8d4b-6a97e749eb48",
   "metadata": {},
   "outputs": [
    {
     "name": "stdout",
     "output_type": "stream",
     "text": [
      "G 0\n",
      "u 1\n",
      "s 2\n",
      "t 3\n",
      "a 4\n",
      "v 5\n",
      "o 6\n",
      "  7\n",
      "A 8\n",
      "t 9\n",
      "z 10\n",
      "i 11\n",
      "n 12\n",
      "g 13\n",
      "e 14\n",
      "n 15\n"
     ]
    }
   ],
   "source": [
    "nome = 'Gustavo Atzingen'\n",
    "\n",
    "for i, letra in enumerate(nome):\n",
    "    print(letra, i)"
   ]
  },
  {
   "cell_type": "code",
   "execution_count": 34,
   "id": "1f5a8186-291f-41b4-9c43-9ead4eaf6eaf",
   "metadata": {},
   "outputs": [
    {
     "name": "stdout",
     "output_type": "stream",
     "text": [
      "bolo\n",
      "pão\n",
      "café\n",
      "ovo\n"
     ]
    }
   ],
   "source": [
    "compras = ('ovo', 'café', 'pão', 'bolo')\n",
    "\n",
    "for item in reversed(compras):\n",
    "    print(item)"
   ]
  },
  {
   "cell_type": "code",
   "execution_count": 39,
   "id": "241e96f8-9a90-435b-ac69-d305b9f92a80",
   "metadata": {},
   "outputs": [
    {
     "name": "stdout",
     "output_type": "stream",
     "text": [
      "ovo\n",
      "café\n",
      "pão\n"
     ]
    }
   ],
   "source": [
    "compras = ('ovo', 'café', 'pão', 'bolo')\n",
    "\n",
    "for item in compras:\n",
    "    print(item)\n",
    "    if 'pão' == item:\n",
    "        break\n",
    "        #pass\n",
    "else:  #no-break\n",
    "    print(\"não houve nenhum break no for\")"
   ]
  },
  {
   "cell_type": "code",
   "execution_count": 36,
   "id": "3a7d7b35-7f78-409e-be57-bb39e8b13b15",
   "metadata": {},
   "outputs": [
    {
     "data": {
      "text/plain": [
       "True"
      ]
     },
     "execution_count": 36,
     "metadata": {},
     "output_type": "execute_result"
    }
   ],
   "source": [
    "'pão' in compras"
   ]
  },
  {
   "cell_type": "markdown",
   "id": "ddf917ea-6a00-4019-98c8-1d88ac0cf5a7",
   "metadata": {},
   "source": [
    "#### while"
   ]
  },
  {
   "cell_type": "code",
   "execution_count": null,
   "id": "1ab23f04-1c67-4f22-b5a3-36f9fb7bb580",
   "metadata": {},
   "outputs": [],
   "source": [
    "# while True:\n",
    "#     print(\"fiz besteira\")"
   ]
  },
  {
   "cell_type": "code",
   "execution_count": 40,
   "id": "77ee192d-5175-447e-8fb6-2e5ecade4472",
   "metadata": {},
   "outputs": [
    {
     "name": "stdout",
     "output_type": "stream",
     "text": [
      "0\n",
      "1\n",
      "2\n",
      "3\n",
      "4\n",
      "5\n",
      "6\n",
      "7\n",
      "8\n",
      "9\n"
     ]
    }
   ],
   "source": [
    "i = 0\n",
    "while i < 10:\n",
    "    print(i)\n",
    "    i += 1"
   ]
  }
 ],
 "metadata": {
  "kernelspec": {
   "display_name": "Python 3",
   "language": "python",
   "name": "python3"
  },
  "language_info": {
   "codemirror_mode": {
    "name": "ipython",
    "version": 3
   },
   "file_extension": ".py",
   "mimetype": "text/x-python",
   "name": "python",
   "nbconvert_exporter": "python",
   "pygments_lexer": "ipython3",
   "version": "3.8.8"
  }
 },
 "nbformat": 4,
 "nbformat_minor": 5
}
