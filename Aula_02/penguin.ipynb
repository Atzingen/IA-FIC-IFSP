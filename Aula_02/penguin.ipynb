{
 "cells": [
  {
   "cell_type": "markdown",
   "metadata": {},
   "source": [
    "# Aula 02\n",
    "\n",
    "Regressão Linear e Logistica\n",
    "\n",
    "* Visualização dos dados.\n",
    "* Tratamento em datasets (ETL).\n",
    "* Correlação.\n",
    "* Separação para treino, teste e validação."
   ]
  },
  {
   "cell_type": "markdown",
   "metadata": {},
   "source": [
    "## Bibliotecas auxiliares - Numpy e pandas"
   ]
  },
  {
   "cell_type": "code",
   "execution_count": 141,
   "metadata": {},
   "outputs": [],
   "source": [
    "import numpy as np\n",
    "import pandas as pd\n",
    "import matplotlib.pyplot as plt\n",
    "import seaborn as sns\n",
    "import plotly.graph_objects as go\n",
    "import plotly.express as px\n",
    "from sklearn.model_selection import train_test_split\n",
    "from sklearn.linear_model import LinearRegression\n",
    "from sklearn.metrics import r2_score, mean_squared_error\n",
    "from sklearn.model_selection import train_test_split\n",
    "from sklearn.linear_model import LogisticRegression\n",
    "from sklearn.metrics import accuracy_score, classification_report, confusion_matrix"
   ]
  },
  {
   "cell_type": "markdown",
   "metadata": {},
   "source": [
    "### Importando dataset\n",
    "\n",
    "O arquivo do dataset já está no repositório na mesma pasta deste notebook. Caso esteja usando ele separadamente, você pode baixa-lo da fonte citada abaixo."
   ]
  },
  {
   "cell_type": "markdown",
   "metadata": {},
   "source": [
    "| Coluna                  | Descrição                                                                           |\n",
    "| ----------------------- | ----------------------------------------------------------------------------------- |\n",
    "| **studyName**           | Nome do estudo/projeto de coleta. No caso, “PAL0708” (Palmer LTER, ano 2007–2008).  |\n",
    "| **Sample Number**       | Número sequencial da amostra. Identificador único dentro do estudo.                 |\n",
    "| **Species**             | Espécie do pinguim (*Adelie*, *Chinstrap*, *Gentoo*).                               |\n",
    "| **Region**              | Região geográfica da coleta (sempre “Anvers” = Anvers Island, Antártida).           |\n",
    "| **Island**              | Ilha específica dentro da região: *Torgersen*, *Biscoe* ou *Dream*.                 |\n",
    "| **Stage**               | Estágio do ciclo reprodutivo, geralmente “Incubating” (incubação).                  |\n",
    "| **Individual ID**       | Identificador único para cada pinguim observado.                                    |\n",
    "| **Clutch Completion**   | Se o casal completou a postura de ovos (“Yes” ou “No”).                             |\n",
    "| **Date Egg**            | Data da postura do primeiro ovo (formato `yyyy-mm-dd`).                             |\n",
    "| **Culmen Length (mm)**  | Comprimento do bico (culmen) em milímetros.                                         |\n",
    "| **Culmen Depth (mm)**   | Profundidade/altura do bico em milímetros.                                          |\n",
    "| **Flipper Length (mm)** | Comprimento da nadadeira em milímetros.                                             |\n",
    "| **Body Mass (g)**       | Massa corporal em gramas.                                                           |\n",
    "| **Sex**                 | Sexo do pinguim (*Male* ou *Female*).                                               |\n",
    "| **Delta 15 N (o/oo)**   | Valor isotópico δ¹⁵N do tecido do pinguim (indica nível trófico/dieta).             |\n",
    "| **Delta 13 C (o/oo)**   | Valor isotópico δ¹³C do tecido do pinguim (indica tipo de fonte alimentar/marinha). |\n",
    "| **Comments**            | Notas adicionais do pesquisador (pouco preenchido).                                 |\n",
    "\n",
    "\n",
    "Fonte primária:\n",
    "Gorman, K. B., Williams, T. D., & Fraser, W. R. (2014). Ecological Sexual Dimorphism and Environmental Variability within a Community of Antarctic Penguins (Genus Pygoscelis). PLoS ONE, 9(3), e90081. https://doi.org/10.1371/journal.pone.0090081"
   ]
  },
  {
   "cell_type": "code",
   "execution_count": 142,
   "metadata": {},
   "outputs": [],
   "source": [
    "df = pd.read_csv('penguins_lter.csv')"
   ]
  },
  {
   "cell_type": "markdown",
   "metadata": {},
   "source": [
    "### Visualizações Básicas de um dataset"
   ]
  },
  {
   "cell_type": "code",
   "execution_count": null,
   "metadata": {},
   "outputs": [],
   "source": []
  },
  {
   "cell_type": "code",
   "execution_count": null,
   "metadata": {},
   "outputs": [],
   "source": []
  },
  {
   "cell_type": "code",
   "execution_count": null,
   "metadata": {},
   "outputs": [],
   "source": []
  },
  {
   "cell_type": "markdown",
   "metadata": {},
   "source": [
    "## Tratamento dos dados"
   ]
  },
  {
   "cell_type": "code",
   "execution_count": null,
   "metadata": {},
   "outputs": [],
   "source": []
  },
  {
   "cell_type": "code",
   "execution_count": null,
   "metadata": {},
   "outputs": [],
   "source": []
  },
  {
   "cell_type": "code",
   "execution_count": null,
   "metadata": {},
   "outputs": [],
   "source": []
  },
  {
   "cell_type": "code",
   "execution_count": null,
   "metadata": {},
   "outputs": [],
   "source": []
  },
  {
   "cell_type": "code",
   "execution_count": null,
   "metadata": {},
   "outputs": [],
   "source": []
  },
  {
   "cell_type": "markdown",
   "metadata": {},
   "source": [
    "## Gráficos e visualizações"
   ]
  },
  {
   "cell_type": "code",
   "execution_count": null,
   "metadata": {},
   "outputs": [],
   "source": []
  },
  {
   "cell_type": "code",
   "execution_count": null,
   "metadata": {},
   "outputs": [],
   "source": []
  },
  {
   "cell_type": "code",
   "execution_count": null,
   "metadata": {},
   "outputs": [],
   "source": []
  },
  {
   "cell_type": "code",
   "execution_count": null,
   "metadata": {},
   "outputs": [],
   "source": []
  },
  {
   "cell_type": "code",
   "execution_count": null,
   "metadata": {},
   "outputs": [],
   "source": []
  },
  {
   "cell_type": "markdown",
   "metadata": {},
   "source": [
    "### Correlação entre variáveis\n",
    "\n",
    "---\n",
    "\n",
    "### Correlação de Pearson  \n",
    "O **coeficiente de correlação de Pearson (r de Pearson)** mede a intensidade e a direção da relação **linear** entre duas variáveis quantitativas.  \n",
    "- Varia entre **-1 e +1**:  \n",
    "  - `+1` indica correlação linear perfeita positiva.  \n",
    "  - `-1` indica correlação linear perfeita negativa.  \n",
    "  - `0` indica ausência de correlação linear.  \n",
    "- Assume que as variáveis são **contínuas, normalmente distribuídas** e com relação **linear**.  \n",
    "- Sensível a **outliers**, que podem distorcer o valor do coeficiente.  \n",
    "\n",
    "---\n",
    "\n",
    "### Correlação de Spearman  \n",
    "O **coeficiente de correlação de Spearman (ρ, rho)** mede a intensidade e direção da relação **monotônica** (não necessariamente linear) entre duas variáveis.  \n",
    "- Baseia-se na **ordenação (ranks)** dos dados, não nos valores absolutos.  \n",
    "- Também varia entre **-1 e +1**, com a mesma interpretação de direção e intensidade.  \n",
    "- Pode ser usado com variáveis **ordinais** ou quando a relação não é linear.  \n",
    "- Menos sensível a outliers em comparação ao Pearson.  \n",
    "\n",
    "---\n",
    "\n",
    "## Referências  \n",
    "- Pearson, K. (1895). *Note on regression and inheritance in the case of two parents.* Proceedings of the Royal Society of London, 58, 240–242. https://doi.org/10.1098/rspl.1895.0041 \n",
    "- Spearman, C. (1904). *The proof and measurement of association between two things.* The American Journal of Psychology, 15(1), 72–101. http://www.jstor.org/stable/1412159"
   ]
  },
  {
   "cell_type": "code",
   "execution_count": 155,
   "metadata": {},
   "outputs": [],
   "source": [
    "num_df = df.select_dtypes(include=['float64', 'int64'])"
   ]
  },
  {
   "cell_type": "code",
   "execution_count": null,
   "metadata": {},
   "outputs": [],
   "source": []
  },
  {
   "cell_type": "code",
   "execution_count": null,
   "metadata": {},
   "outputs": [],
   "source": []
  },
  {
   "cell_type": "code",
   "execution_count": 156,
   "metadata": {},
   "outputs": [
    {
     "name": "stdout",
     "output_type": "stream",
     "text": [
      "Sample Number        | Pearson r = -0.007, p = 8.968e-01\n",
      "Culmen Length (mm)   | Pearson r = 0.595, p = 3.808e-34\n",
      "Culmen Depth (mm)    | Pearson r = -0.472, p = 2.277e-20\n",
      "Flipper Length (mm)  | Pearson r = 0.871, p = 4.371e-107\n",
      "Delta 15 N (o/oo)    | Pearson r = -0.538, p = 3.837e-26\n",
      "Delta 13 C (o/oo)    | Pearson r = -0.375, p = 1.808e-12\n"
     ]
    }
   ],
   "source": [
    "from scipy.stats import pearsonr\n",
    "\n",
    "for col in num_df.columns:\n",
    "    if col != \"Body Mass (g)\":\n",
    "        combined_data = pd.DataFrame({\n",
    "            'body_mass': num_df['Body Mass (g)'],\n",
    "            'other_col': num_df[col]\n",
    "        }).dropna()\n",
    "        pearson_corr, p_val = pearsonr(combined_data['body_mass'], \n",
    "                                        combined_data['other_col'])\n",
    "        print(f\"{col:20} | Pearson r = {pearson_corr:.3f}, p = {p_val:.3e}\")"
   ]
  },
  {
   "cell_type": "code",
   "execution_count": null,
   "metadata": {},
   "outputs": [],
   "source": []
  },
  {
   "cell_type": "code",
   "execution_count": null,
   "metadata": {},
   "outputs": [],
   "source": []
  },
  {
   "cell_type": "code",
   "execution_count": null,
   "metadata": {},
   "outputs": [],
   "source": []
  },
  {
   "cell_type": "code",
   "execution_count": null,
   "metadata": {},
   "outputs": [
    {
     "name": "stdout",
     "output_type": "stream",
     "text": [
      "Trendline coefficients:\n",
      "a (slope): 34.5734\n",
      "b (intercept): -3037.1958\n",
      "R-squared: 0.4116\n"
     ]
    }
   ],
   "source": [
    "# item_id = 1\n",
    "\n",
    "# results = px.get_trendline_results(fig)\n",
    "# print(\"Trendline coefficients:\")\n",
    "# print(f\"a (slope): {results.iloc[item_id]['px_fit_results'].params[1]:.4f}\")\n",
    "# print(f\"b (intercept): {results.iloc[item_id]['px_fit_results'].params[0]:.4f}\")\n",
    "# print(f\"R-squared: {results.iloc[item_id]['px_fit_results'].rsquared:.4f}\")"
   ]
  },
  {
   "cell_type": "markdown",
   "metadata": {},
   "source": [
    "## Regreção Linear\n",
    "\n",
    "A **regressão linear** é um dos métodos estatísticos mais utilizados para modelar a relação entre uma variável dependente (resposta) e uma ou mais variáveis independentes (preditoras).  \n",
    "O objetivo é **ajustar uma linha (ou hiperplano)** que melhor descreva essa relação.\n",
    "\n",
    "---\n",
    "\n",
    "## Equação do Modelo\n",
    "\n",
    "A equação da regressão linear simples é:\n",
    "\n",
    "$$\n",
    "y = \\beta_0 + \\beta_1 x + \\varepsilon\n",
    "$$\n",
    "\n",
    "Para o caso múltiplo (com várias variáveis preditoras):\n",
    "\n",
    "$$\n",
    "y = \\beta_0 + \\beta_1 x_1 + \\beta_2 x_2 + \\cdots + \\beta_n x_n + \\varepsilon\n",
    "$$\n",
    "\n",
    "onde:\n",
    "- \\( y \\) é a variável dependente (valor previsto),\n",
    "- \\( \\beta_0 \\) é o intercepto,\n",
    "- \\( \\beta_i \\) são os coeficientes de regressão,\n",
    "- \\( x_i \\) são as variáveis independentes,\n",
    "- \\( \\varepsilon \\) é o termo de erro.\n",
    "\n",
    "---\n",
    "\n",
    "### Função de Custo (Mínimos Quadrados)\n",
    "\n",
    "O ajuste dos coeficientes é feito minimizando a soma dos erros quadráticos (MSE – Mean Squared Error):\n",
    "\n",
    "$$\n",
    "J(\\beta) = \\frac{1}{n} \\sum_{i=1}^n \\left(y_i - \\hat{y}_i\\right)^2\n",
    "$$\n",
    "\n",
    "---\n",
    "\n",
    "## Visualização\n",
    "\n",
    "A regressão linear busca encontrar a linha (em 2D) ou o hiperplano (em dimensões maiores) que melhor se ajusta aos dados:\n",
    "\n",
    "![Regressão Linear](https://upload.wikimedia.org/wikipedia/commons/3/3a/Linear_regression.svg)\n"
   ]
  },
  {
   "cell_type": "code",
   "execution_count": null,
   "metadata": {},
   "outputs": [],
   "source": [
    "features = [\n",
    "    'Culmen Length (mm)', \n",
    "    'Culmen Depth (mm)', \n",
    "    'Flipper Length (mm)', \n",
    "    'Delta 15 N (o/oo)', \n",
    "    'Delta 13 C (o/oo)'\n",
    "]\n",
    "\n",
    "X = df[features].dropna()\n",
    "y = df.loc[X.index, 'Body Mass (g)']"
   ]
  },
  {
   "cell_type": "code",
   "execution_count": null,
   "metadata": {},
   "outputs": [],
   "source": []
  },
  {
   "cell_type": "code",
   "execution_count": 167,
   "metadata": {},
   "outputs": [],
   "source": [
    "# print(\"Intercept:\", model.intercept_)\n",
    "# print(\"Coefficients:\")\n",
    "# for col, coef in zip(features, model.coef_):\n",
    "#     print(f\"  {col}: {coef:.3f}\")"
   ]
  },
  {
   "cell_type": "code",
   "execution_count": null,
   "metadata": {},
   "outputs": [],
   "source": []
  },
  {
   "cell_type": "code",
   "execution_count": null,
   "metadata": {},
   "outputs": [],
   "source": []
  },
  {
   "cell_type": "code",
   "execution_count": null,
   "metadata": {},
   "outputs": [],
   "source": []
  },
  {
   "cell_type": "code",
   "execution_count": 168,
   "metadata": {},
   "outputs": [],
   "source": [
    "# plt.scatter(y_test, y_pred, alpha=0.7)\n",
    "# plt.xlabel(\"Real - Body Mass (g)\")\n",
    "# plt.ylabel(\"Predicted - Body Mass (g)\")\n",
    "# plt.title(\"Linear Regression Predictions\")\n",
    "# plt.plot([y.min(), y.max()], [y.min(), y.max()], 'r--')  # perfect fit line\n",
    "# plt.show()"
   ]
  },
  {
   "cell_type": "markdown",
   "metadata": {},
   "source": [
    "### Regressão Logística\n",
    "\n",
    "## Conceito  \n",
    "A **regressão logística** é um modelo estatístico amplamente utilizado em **aprendizado de máquina supervisionado** para tarefas de **classificação binária** (por exemplo, prever se um evento ocorre: \"sim\" ou \"não\").  \n",
    "- Diferente da regressão linear, que estima valores contínuos, a regressão logística modela a **probabilidade** de um resultado pertencer a uma determinada classe.  \n",
    "- Essa probabilidade é obtida pela **função logística (sigmóide)**:\n",
    "\n",
    "$$\n",
    "\\sigma(z) = \\frac{1}{1 + e^{-z}}\n",
    "$$\n",
    "\n",
    "onde \n",
    "$$  \n",
    "z = \\beta_0 + \\beta_1 x_1 + ... + \\beta_n x_n \n",
    "$$  \n",
    "\n",
    "O resultado da função varia entre **0 e 1**, interpretado como uma probabilidade.\n",
    "\n",
    "![Função Sigmóide](https://media.licdn.com/dms/image/v2/D5612AQFs75BpVWjxNg/article-cover_image-shrink_600_2000/article-cover_image-shrink_600_2000/0/1680047110274?e=2147483647&v=beta&t=jD-TOg1ENMbSHjshLCk_o-6Ute1a5DlyKU5thKWFAqQ)\n",
    "\n",
    "---\n",
    "\n",
    "## Características principais\n",
    "- Usada para **classificação binária**, mas pode ser estendida para **multiclasse** (via *one-vs-rest* ou *softmax*).  \n",
    "- Estima os **coeficientes (\\(\\beta\\))** por métodos como **Máxima Verossimilhança**.  \n",
    "- Pode incluir tanto variáveis **numéricas** quanto **categóricas** (após codificação adequada, ex. one-hot encoding).  \n",
    "- A saída é uma **probabilidade**, que pode ser convertida em classes usando um **limiar (threshold)**, normalmente 0.5.  "
   ]
  },
  {
   "cell_type": "code",
   "execution_count": null,
   "metadata": {},
   "outputs": [],
   "source": [
    "features = [\n",
    "    'Culmen Length (mm)',\n",
    "    'Culmen Depth (mm)',\n",
    "    'Flipper Length (mm)',\n",
    "    'Body Mass (g)',   # body mass can help predict sex\n",
    "    'Species'\n",
    "]\n",
    "\n",
    "df_sex = df[features + ['Sex']].dropna()  # drop missing rows\n",
    "\n",
    "X = pd.get_dummies(df_sex[features], drop_first=True)  # encode categorical\n",
    "y = df_sex['Sex']"
   ]
  },
  {
   "cell_type": "code",
   "execution_count": null,
   "metadata": {},
   "outputs": [],
   "source": []
  },
  {
   "cell_type": "code",
   "execution_count": null,
   "metadata": {},
   "outputs": [],
   "source": []
  },
  {
   "cell_type": "code",
   "execution_count": 169,
   "metadata": {},
   "outputs": [],
   "source": [
    "# cm = confusion_matrix(y_test, y_pred, labels=model.classes_)\n",
    "# cm_df = pd.DataFrame(cm, index=model.classes_, columns=model.classes_)\n",
    "\n",
    "# # Plot interactive heatmap\n",
    "# fig = px.imshow(\n",
    "#     cm_df,\n",
    "#     text_auto=True,  # show values inside cells\n",
    "#     color_continuous_scale=\"Blues\",\n",
    "#     labels=dict(x=\"Predicted\", y=\"Actual\", color=\"Count\"),\n",
    "#     x=cm_df.columns,\n",
    "#     y=cm_df.index,\n",
    "#     title=\"Confusion Matrix\"\n",
    "# )\n",
    "\n",
    "# fig.update_layout(yaxis=dict(scaleanchor=\"x\"))  # square cells\n",
    "# fig.show()"
   ]
  }
 ],
 "metadata": {
  "kernelspec": {
   "display_name": "tf",
   "language": "python",
   "name": "python3"
  },
  "language_info": {
   "codemirror_mode": {
    "name": "ipython",
    "version": 3
   },
   "file_extension": ".py",
   "mimetype": "text/x-python",
   "name": "python",
   "nbconvert_exporter": "python",
   "pygments_lexer": "ipython3",
   "version": "3.12.11"
  },
  "orig_nbformat": 4
 },
 "nbformat": 4,
 "nbformat_minor": 2
}
