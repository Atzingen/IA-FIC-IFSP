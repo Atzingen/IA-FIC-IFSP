{
 "cells": [
  {
   "cell_type": "markdown",
   "id": "3bd0a082-09aa-4391-8d1c-d01d2301be3e",
   "metadata": {},
   "source": [
    "# Funções, Escopo e Cópias"
   ]
  },
  {
   "cell_type": "markdown",
   "id": "f6eaade1-25f0-4682-90a5-5a9684102352",
   "metadata": {},
   "source": [
    "## Funções"
   ]
  },
  {
   "cell_type": "code",
   "execution_count": 60,
   "id": "03a39cdf-77c8-41b4-a834-5e3b5a937d14",
   "metadata": {},
   "outputs": [],
   "source": [
    "def cumprimente():\n",
    "    print(\"Olá ! Tudo bem com você ?\")"
   ]
  },
  {
   "cell_type": "code",
   "execution_count": 62,
   "id": "0cca6e51-c31d-451c-9f0b-a10bd45139b8",
   "metadata": {},
   "outputs": [
    {
     "name": "stdout",
     "output_type": "stream",
     "text": [
      "Olá ! Tudo bem com você ?\n"
     ]
    }
   ],
   "source": [
    "cumprimente()"
   ]
  },
  {
   "cell_type": "code",
   "execution_count": 63,
   "id": "f84908a9-4458-4afa-a160-40d36d91b64c",
   "metadata": {},
   "outputs": [],
   "source": [
    "def cumprimente_a_pessoa(nome):\n",
    "    print(f\"Olá {nome} ! Tudo bem com você ?\")"
   ]
  },
  {
   "cell_type": "code",
   "execution_count": 65,
   "id": "e8701a3e-c8c0-4f94-9ef1-62c3c27757c0",
   "metadata": {},
   "outputs": [
    {
     "name": "stdout",
     "output_type": "stream",
     "text": [
      "Olá João ! Tudo bem com você ?\n"
     ]
    }
   ],
   "source": [
    "cumprimente_a_pessoa(\"João\")"
   ]
  },
  {
   "cell_type": "code",
   "execution_count": 80,
   "id": "b0a73413-3247-4137-b1ac-d89b8fa3f54d",
   "metadata": {},
   "outputs": [],
   "source": [
    "def is_prime(n):\n",
    "    for i in range(2, int(n/2)):\n",
    "        if n % i == 0:\n",
    "            return False\n",
    "    return True"
   ]
  },
  {
   "cell_type": "code",
   "execution_count": 83,
   "id": "328ef818-fc43-4c79-85b1-bd5ea737ba76",
   "metadata": {},
   "outputs": [
    {
     "data": {
      "text/plain": [
       "False"
      ]
     },
     "execution_count": 83,
     "metadata": {},
     "output_type": "execute_result"
    }
   ],
   "source": [
    "is_prime(18)"
   ]
  },
  {
   "cell_type": "code",
   "execution_count": 84,
   "id": "d40c5216-a6aa-4b32-89f2-f7998e0e250f",
   "metadata": {},
   "outputs": [],
   "source": [
    "def somador(numero1, numero2):\n",
    "    return numero1 + numero2"
   ]
  },
  {
   "cell_type": "code",
   "execution_count": 86,
   "id": "a5ecabbf-9431-4fc8-98ba-3ee9e7fd8237",
   "metadata": {},
   "outputs": [
    {
     "data": {
      "text/plain": [
       "13"
      ]
     },
     "execution_count": 86,
     "metadata": {},
     "output_type": "execute_result"
    }
   ],
   "source": [
    "somador(9, 4)"
   ]
  },
  {
   "cell_type": "code",
   "execution_count": 94,
   "id": "703c0d07-ee21-4803-b1bc-a18046a53966",
   "metadata": {},
   "outputs": [],
   "source": [
    "def somador_e_multiplicador(numero1, numero2=12):\n",
    "    return numero1 + numero2, numero1*numero2"
   ]
  },
  {
   "cell_type": "code",
   "execution_count": 99,
   "id": "64d8db0c-b296-4e42-a0f6-5eafb4ebadf0",
   "metadata": {},
   "outputs": [],
   "source": [
    "soma, multiplicacao = somador_e_multiplicador(3)"
   ]
  },
  {
   "cell_type": "code",
   "execution_count": 100,
   "id": "add3e265-520f-467d-85ab-ac6e39391f0f",
   "metadata": {},
   "outputs": [
    {
     "name": "stdout",
     "output_type": "stream",
     "text": [
      "15 36\n"
     ]
    }
   ],
   "source": [
    "print(soma, multiplicacao)"
   ]
  },
  {
   "cell_type": "code",
   "execution_count": 102,
   "id": "e4b2dce3-be0c-4690-a7b2-0455873f1a6f",
   "metadata": {},
   "outputs": [
    {
     "data": {
      "text/plain": [
       "(8, 15)"
      ]
     },
     "execution_count": 102,
     "metadata": {},
     "output_type": "execute_result"
    }
   ],
   "source": [
    "somador_e_multiplicador(numero1=3, numero2=5)"
   ]
  },
  {
   "cell_type": "markdown",
   "id": "d8a1e745-8a23-4afb-8fa2-34e232a4ff32",
   "metadata": {},
   "source": [
    "## Escopo\n",
    "\n",
    "LEGB (Local -> Enclosing -> Global -> Built-in)\n",
    "\n",
    "![LEGB](https://res.cloudinary.com/dyd911kmh/image/upload/f_auto,q_auto:best/v1588956604/Scope_fbrzcw.png)\n",
    "\n",
    "Referência:\n",
    "\n",
    "https://www.datacamp.com/community/tutorials/scope-of-variables-python\n",
    "\n",
    "https://www.w3schools.com/python/python_scope.asp"
   ]
  },
  {
   "cell_type": "code",
   "execution_count": 113,
   "id": "f025e5e3-4272-4826-aff3-3373297dae0b",
   "metadata": {},
   "outputs": [],
   "source": [
    "v1 = 1\n",
    "\n",
    "def f1():\n",
    "    global v1\n",
    "    print(\"função 1 foi chamada\")\n",
    "    v1 = 2"
   ]
  },
  {
   "cell_type": "code",
   "execution_count": 114,
   "id": "f2fdf1fb-84f9-4a6b-bd18-40610ace3828",
   "metadata": {},
   "outputs": [
    {
     "name": "stdout",
     "output_type": "stream",
     "text": [
      "função 1 foi chamada\n"
     ]
    }
   ],
   "source": [
    "f1()"
   ]
  },
  {
   "cell_type": "code",
   "execution_count": 115,
   "id": "1b2fa88e-f449-4b80-be2a-d3151f503703",
   "metadata": {},
   "outputs": [
    {
     "name": "stdout",
     "output_type": "stream",
     "text": [
      "2\n"
     ]
    }
   ],
   "source": [
    "print(v1)"
   ]
  },
  {
   "cell_type": "code",
   "execution_count": 117,
   "id": "6ef7c52c-dfc6-4ec1-96f2-c164e704b78c",
   "metadata": {},
   "outputs": [],
   "source": [
    "def f2():\n",
    "    v2 = 1\n",
    "    return v2"
   ]
  },
  {
   "cell_type": "code",
   "execution_count": 118,
   "id": "87c8f8d9-886e-448c-8cea-c6e263d64feb",
   "metadata": {},
   "outputs": [],
   "source": [
    "v2 = f2()"
   ]
  },
  {
   "cell_type": "code",
   "execution_count": 119,
   "id": "1bc084f8-dabf-4917-9466-8975e630883a",
   "metadata": {},
   "outputs": [
    {
     "name": "stdout",
     "output_type": "stream",
     "text": [
      "1\n"
     ]
    }
   ],
   "source": [
    "print(v2)"
   ]
  },
  {
   "cell_type": "code",
   "execution_count": 120,
   "id": "90598a8a-4563-460a-a3b7-f41b565f02dc",
   "metadata": {},
   "outputs": [
    {
     "data": {
      "text/plain": [
       "int"
      ]
     },
     "execution_count": 120,
     "metadata": {},
     "output_type": "execute_result"
    }
   ],
   "source": [
    "type(v2)"
   ]
  },
  {
   "cell_type": "markdown",
   "id": "592076fb-edf2-46a3-8563-c70d5d430136",
   "metadata": {},
   "source": [
    "## Cópias"
   ]
  },
  {
   "cell_type": "code",
   "execution_count": 122,
   "id": "2396f3b6-48f7-4df7-b383-8ff56596c61a",
   "metadata": {},
   "outputs": [],
   "source": [
    "a = 1\n",
    "b = a"
   ]
  },
  {
   "cell_type": "code",
   "execution_count": 123,
   "id": "f3e10e33-dad9-48fe-8297-7de0627fa2f7",
   "metadata": {},
   "outputs": [
    {
     "name": "stdout",
     "output_type": "stream",
     "text": [
      "1 1\n"
     ]
    }
   ],
   "source": [
    "print(a, b)"
   ]
  },
  {
   "cell_type": "code",
   "execution_count": 124,
   "id": "7225b6ea-148d-42ec-b3f0-53b8025cbbbf",
   "metadata": {},
   "outputs": [],
   "source": [
    "a = 2"
   ]
  },
  {
   "cell_type": "code",
   "execution_count": 125,
   "id": "4f9ae434-1855-4d49-87b4-279ca3fe0187",
   "metadata": {},
   "outputs": [
    {
     "name": "stdout",
     "output_type": "stream",
     "text": [
      "2 1\n"
     ]
    }
   ],
   "source": [
    "print(a, b)"
   ]
  },
  {
   "cell_type": "code",
   "execution_count": 126,
   "id": "7b87a228-07da-44e2-a5d2-8a8054b6be5d",
   "metadata": {},
   "outputs": [],
   "source": [
    "l1 = [1, 2, 3]\n",
    "l2 = l1"
   ]
  },
  {
   "cell_type": "code",
   "execution_count": 127,
   "id": "d2eec616-c4e8-41dd-aaf0-ccbdfa197778",
   "metadata": {},
   "outputs": [
    {
     "name": "stdout",
     "output_type": "stream",
     "text": [
      "[1, 2, 3] [1, 2, 3]\n"
     ]
    }
   ],
   "source": [
    "print(l1, l2)"
   ]
  },
  {
   "cell_type": "code",
   "execution_count": 128,
   "id": "9e17b993-8cc3-4507-aa45-87bed0cc49a1",
   "metadata": {},
   "outputs": [],
   "source": [
    "l1[0] = 42"
   ]
  },
  {
   "cell_type": "code",
   "execution_count": 129,
   "id": "f8e7276f-6c9a-4e65-9665-0f080be98230",
   "metadata": {},
   "outputs": [
    {
     "name": "stdout",
     "output_type": "stream",
     "text": [
      "[42, 2, 3] [42, 2, 3]\n"
     ]
    }
   ],
   "source": [
    "print(l1, l2)"
   ]
  },
  {
   "cell_type": "code",
   "execution_count": null,
   "id": "472776a6-9aff-42ea-ab78-873acc0d30f0",
   "metadata": {},
   "outputs": [],
   "source": []
  },
  {
   "cell_type": "code",
   "execution_count": null,
   "id": "868eaf1b-ceff-45c9-b2c4-0cb1631541e0",
   "metadata": {},
   "outputs": [],
   "source": []
  }
 ],
 "metadata": {
  "kernelspec": {
   "display_name": "Python 3",
   "language": "python",
   "name": "python3"
  },
  "language_info": {
   "codemirror_mode": {
    "name": "ipython",
    "version": 3
   },
   "file_extension": ".py",
   "mimetype": "text/x-python",
   "name": "python",
   "nbconvert_exporter": "python",
   "pygments_lexer": "ipython3",
   "version": "3.8.8"
  }
 },
 "nbformat": 4,
 "nbformat_minor": 5
}
