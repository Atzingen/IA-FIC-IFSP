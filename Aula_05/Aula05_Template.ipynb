{
 "cells": [
  {
   "cell_type": "markdown",
   "metadata": {},
   "source": [
    "# Curso FIC - Aula 05 - Teste A/B e simulação estatística\n",
    "\n",
    "11/10/2021 \n",
    "\n",
    "Piracicaba - SP\n",
    "\n",
    "Gustavo Voltani von Atzingen"
   ]
  },
  {
   "cell_type": "markdown",
   "metadata": {},
   "source": [
    "## Tópicos\n",
    "\n",
    "* Método de Monte Carlo para cálculo de probabilidades\n",
    "\n",
    "&nbsp;\n",
    "\n",
    "* Gerando distribuições estatísticas com MC\n",
    "\n",
    "&nbsp;\n",
    "\n",
    "* Distribuição Binomial - Curva Gaussiana\n",
    "\n",
    "&nbsp;\n",
    "\n",
    "* Testes A/B\n",
    "\n",
    "&nbsp;\n",
    "\n",
    "* Testes de hipótese\n",
    "\n",
    "&nbsp;\n",
    "\n",
    "* Testes frequentistas vs Boostrap (MC)\n",
    "\n",
    "&nbsp;\n",
    "\n",
    "* Probabilidade de probabilidades"
   ]
  },
  {
   "cell_type": "code",
   "execution_count": 2,
   "metadata": {},
   "outputs": [],
   "source": [
    "import numpy as np\n",
    "import pandas as pd\n",
    "import matplotlib.pyplot as plt\n",
    "import plotly\n",
    "import plotly.express as px\n",
    "from plotly.graph_objs import graph_objs as go\n",
    "\n",
    "# from IPython.html.widgets import interact\n",
    "# plotly.offline.init_notebook_mode()"
   ]
  },
  {
   "cell_type": "markdown",
   "metadata": {},
   "source": [
    "## Cálculo de probablilidades com Monte Carlo\n",
    "\n",
    "Qual a chance de ganhar um ataque no war ?"
   ]
  },
  {
   "cell_type": "code",
   "execution_count": null,
   "metadata": {},
   "outputs": [],
   "source": []
  },
  {
   "cell_type": "code",
   "execution_count": null,
   "metadata": {},
   "outputs": [],
   "source": []
  },
  {
   "cell_type": "markdown",
   "metadata": {},
   "source": [
    "## Distribuição binomial\n",
    "\n",
    "\n",
    "\n",
    "$$ \\Large P(k; n,p) =  \\binom{n}{k} \\cdot p^k \\cdot (1 - p)^{n=k} $$\n",
    "\n",
    "onde: $$ \\binom{n}{k} = \\frac{n!}{k!(n-k)!} $$\n",
    "\n",
    "\n",
    "Para distribuições contínuas:\n",
    "\n",
    "$$ \\Large f(x) = \\frac{1}{\\sigma \\cdot \\sqrt{2 \\pi}} e^{\\frac{1}{2}(\\frac{x - \\mu}{\\sigma})^2}  $$\n",
    "\n",
    "\n",
    "$$ \\Large \\sigma = \\sqrt{\\frac{1}{N} \\sum{(x_i - \\mu)^2} }  $$"
   ]
  },
  {
   "cell_type": "code",
   "execution_count": null,
   "metadata": {},
   "outputs": [],
   "source": []
  },
  {
   "cell_type": "code",
   "execution_count": null,
   "metadata": {},
   "outputs": [],
   "source": []
  },
  {
   "cell_type": "markdown",
   "metadata": {},
   "source": [
    "## Teste de Hipótese"
   ]
  },
  {
   "cell_type": "code",
   "execution_count": null,
   "metadata": {},
   "outputs": [],
   "source": []
  },
  {
   "cell_type": "code",
   "execution_count": null,
   "metadata": {},
   "outputs": [],
   "source": []
  },
  {
   "cell_type": "markdown",
   "metadata": {},
   "source": [
    "## Essa moeda é justa ?\n",
    "\n",
    "30 lançamentos, 22 cara"
   ]
  },
  {
   "cell_type": "markdown",
   "metadata": {},
   "source": []
  },
  {
   "cell_type": "code",
   "execution_count": null,
   "metadata": {},
   "outputs": [],
   "source": []
  },
  {
   "cell_type": "markdown",
   "metadata": {},
   "source": [
    "## Caso em que não conhecemos bem o funcionamento do sistema"
   ]
  },
  {
   "cell_type": "markdown",
   "metadata": {},
   "source": []
  },
  {
   "cell_type": "markdown",
   "metadata": {},
   "source": [
    "## A/B Test"
   ]
  },
  {
   "cell_type": "code",
   "execution_count": 3,
   "metadata": {},
   "outputs": [],
   "source": [
    "A = np.array([84, 72, 57, 46, 63, 76, 99, 91])\n",
    "B = np.array([81, 69, 74, 61, 56, 87, 69, 56, 66, 44, 62, 69])"
   ]
  },
  {
   "cell_type": "code",
   "execution_count": null,
   "metadata": {},
   "outputs": [],
   "source": []
  },
  {
   "cell_type": "markdown",
   "metadata": {},
   "source": [
    "## Referências e leituras complementares\n",
    "\n",
    "[t-student](https://pt.wikipedia.org/wiki/Distribui%C3%A7%C3%A3o_t_de_Student)\n",
    "\n",
    "[binomial](https://en.wikipedia.org/wiki/Binomial_distribution)\n",
    "\n",
    "[pycon - statistics for hackers](https://www.youtube.com/watch?v=Iq9DzN6mvYA)\n",
    "\n",
    "[3blue1brown - Binomial](https://www.youtube.com/watch?v=8idr1WZ1A7Q)\n",
    "\n",
    "[3blue1brown - Binomial pt2](https://www.youtube.com/watch?v=ZA4JkHKZM50)"
   ]
  },
  {
   "cell_type": "markdown",
   "metadata": {},
   "source": []
  }
 ],
 "metadata": {
  "interpreter": {
   "hash": "b6f0fe63165deeccc516f55bb737eca0cb1a8ece0bc9f9b378381afa88da9880"
  },
  "kernelspec": {
   "display_name": "Python 3",
   "language": "python",
   "name": "python3"
  },
  "language_info": {
   "codemirror_mode": {
    "name": "ipython",
    "version": 3
   },
   "file_extension": ".py",
   "mimetype": "text/x-python",
   "name": "python",
   "nbconvert_exporter": "python",
   "pygments_lexer": "ipython3",
   "version": "3.8.8"
  }
 },
 "nbformat": 4,
 "nbformat_minor": 4
}
