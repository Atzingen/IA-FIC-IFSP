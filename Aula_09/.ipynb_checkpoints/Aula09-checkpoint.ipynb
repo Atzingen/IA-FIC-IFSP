{
 "cells": [
  {
   "cell_type": "markdown",
   "metadata": {},
   "source": [
    "# Aula 08 - RNA (Redes Neuraus Artificiais)\n",
    "\n",
    "Tópicos da aula de Hoje:\n",
    "\n",
    "* Perceptron\n",
    "* MLP\n",
    "* Keras API - Tensorflow\n",
    "* Model Fully connected\n",
    "* Exemplo Pima Diabetes"
   ]
  },
  {
   "cell_type": "markdown",
   "metadata": {},
   "source": [
    "https://towardsdatascience.com/choose-best-ml-model-based-on-visualization-ed6398ac3005"
   ]
  },
  {
   "cell_type": "code",
   "execution_count": 1,
   "metadata": {},
   "outputs": [],
   "source": [
    "import pandas as pd\n",
    "import numpy as np\n",
    "import datetime\n",
    "\n",
    "import plotly.express as px\n",
    "import plotly.graph_objects as go\n",
    "\n",
    "from sklearn.metrics import mean_squared_error, accuracy_score\n",
    "from sklearn.model_selection import train_test_split\n",
    "from sklearn.preprocessing import normalize, MinMaxScaler, StandardScaler\n",
    "\n",
    "import imblearn\n",
    "import keras_tuner as kt\n",
    "\n",
    "import tensorflow as tf\n",
    "from tensorflow.keras.layers import Dense, Dropout\n",
    "from tensorflow.keras.utils import plot_model"
   ]
  },
  {
   "cell_type": "code",
   "execution_count": 2,
   "metadata": {},
   "outputs": [],
   "source": [
    "%load_ext tensorboard"
   ]
  },
  {
   "cell_type": "code",
   "execution_count": 3,
   "metadata": {},
   "outputs": [],
   "source": [
    "df = pd.read_csv('diabetes.csv')"
   ]
  },
  {
   "cell_type": "code",
   "execution_count": 4,
   "metadata": {},
   "outputs": [],
   "source": [
    "x_features = ['Pregnancies', 'Glucose', 'BloodPressure', 'SkinThickness', 'Insulin', 'BMI', 'DiabetesPedigreeFunction', 'Age']"
   ]
  },
  {
   "cell_type": "code",
   "execution_count": 5,
   "metadata": {},
   "outputs": [
    {
     "data": {
      "application/vnd.plotly.v1+json": {
       "config": {
        "plotlyServerURL": "https://plot.ly"
       },
       "data": [
        {
         "alignmentgroup": "True",
         "box": {
          "visible": false
         },
         "hovertemplate": "variable=%{x}<br>value=%{y}<extra></extra>",
         "legendgroup": "",
         "marker": {
          "color": "#636efa"
         },
         "name": "",
         "offsetgroup": "",
         "orientation": "v",
         "scalegroup": "True",
         "showlegend": false,
         "type": "violin",
         "x": [
          "Pregnancies",
          "Pregnancies",
          "Pregnancies",
          "Pregnancies",
          "Pregnancies",
          "Pregnancies",
          "Pregnancies",
          "Pregnancies",
          "Pregnancies",
          "Pregnancies",
          "Pregnancies",
          "Pregnancies",
          "Pregnancies",
          "Pregnancies",
          "Pregnancies",
          "Pregnancies",
          "Pregnancies",
          "Pregnancies",
          "Pregnancies",
          "Pregnancies",
          "Pregnancies",
          "Pregnancies",
          "Pregnancies",
          "Pregnancies",
          "Pregnancies",
          "Pregnancies",
          "Pregnancies",
          "Pregnancies",
          "Pregnancies",
          "Pregnancies",
          "Pregnancies",
          "Pregnancies",
          "Pregnancies",
          "Pregnancies",
          "Pregnancies",
          "Pregnancies",
          "Pregnancies",
          "Pregnancies",
          "Pregnancies",
          "Pregnancies",
          "Pregnancies",
          "Pregnancies",
          "Pregnancies",
          "Pregnancies",
          "Pregnancies",
          "Pregnancies",
          "Pregnancies",
          "Pregnancies",
          "Pregnancies",
          "Pregnancies",
          "Pregnancies",
          "Pregnancies",
          "Pregnancies",
          "Pregnancies",
          "Pregnancies",
          "Pregnancies",
          "Pregnancies",
          "Pregnancies",
          "Pregnancies",
          "Pregnancies",
          "Pregnancies",
          "Pregnancies",
          "Pregnancies",
          "Pregnancies",
          "Pregnancies",
          "Pregnancies",
          "Pregnancies",
          "Pregnancies",
          "Pregnancies",
          "Pregnancies",
          "Pregnancies",
          "Pregnancies",
          "Pregnancies",
          "Pregnancies",
          "Pregnancies",
          "Pregnancies",
          "Pregnancies",
          "Pregnancies",
          "Pregnancies",
          "Pregnancies",
          "Pregnancies",
          "Pregnancies",
          "Pregnancies",
          "Pregnancies",
          "Pregnancies",
          "Pregnancies",
          "Pregnancies",
          "Pregnancies",
          "Pregnancies",
          "Pregnancies",
          "Pregnancies",
          "Pregnancies",
          "Pregnancies",
          "Pregnancies",
          "Pregnancies",
          "Pregnancies",
          "Pregnancies",
          "Pregnancies",
          "Pregnancies",
          "Pregnancies",
          "Pregnancies",
          "Pregnancies",
          "Pregnancies",
          "Pregnancies",
          "Pregnancies",
          "Pregnancies",
          "Pregnancies",
          "Pregnancies",
          "Pregnancies",
          "Pregnancies",
          "Pregnancies",
          "Pregnancies",
          "Pregnancies",
          "Pregnancies",
          "Pregnancies",
          "Pregnancies",
          "Pregnancies",
          "Pregnancies",
          "Pregnancies",
          "Pregnancies",
          "Pregnancies",
          "Pregnancies",
          "Pregnancies",
          "Pregnancies",
          "Pregnancies",
          "Pregnancies",
          "Pregnancies",
          "Pregnancies",
          "Pregnancies",
          "Pregnancies",
          "Pregnancies",
          "Pregnancies",
          "Pregnancies",
          "Pregnancies",
          "Pregnancies",
          "Pregnancies",
          "Pregnancies",
          "Pregnancies",
          "Pregnancies",
          "Pregnancies",
          "Pregnancies",
          "Pregnancies",
          "Pregnancies",
          "Pregnancies",
          "Pregnancies",
          "Pregnancies",
          "Pregnancies",
          "Pregnancies",
          "Pregnancies",
          "Pregnancies",
          "Pregnancies",
          "Pregnancies",
          "Pregnancies",
          "Pregnancies",
          "Pregnancies",
          "Pregnancies",
          "Pregnancies",
          "Pregnancies",
          "Pregnancies",
          "Pregnancies",
          "Pregnancies",
          "Pregnancies",
          "Pregnancies",
          "Pregnancies",
          "Pregnancies",
          "Pregnancies",
          "Pregnancies",
          "Pregnancies",
          "Pregnancies",
          "Pregnancies",
          "Pregnancies",
          "Pregnancies",
          "Pregnancies",
          "Pregnancies",
          "Pregnancies",
          "Pregnancies",
          "Pregnancies",
          "Pregnancies",
          "Pregnancies",
          "Pregnancies",
          "Pregnancies",
          "Pregnancies",
          "Pregnancies",
          "Pregnancies",
          "Pregnancies",
          "Pregnancies",
          "Pregnancies",
          "Pregnancies",
          "Pregnancies",
          "Pregnancies",
          "Pregnancies",
          "Pregnancies",
          "Pregnancies",
          "Pregnancies",
          "Pregnancies",
          "Pregnancies",
          "Pregnancies",
          "Pregnancies",
          "Pregnancies",
          "Pregnancies",
          "Pregnancies",
          "Pregnancies",
          "Pregnancies",
          "Pregnancies",
          "Pregnancies",
          "Pregnancies",
          "Pregnancies",
          "Pregnancies",
          "Pregnancies",
          "Pregnancies",
          "Pregnancies",
          "Pregnancies",
          "Pregnancies",
          "Pregnancies",
          "Pregnancies",
          "Pregnancies",
          "Pregnancies",
          "Pregnancies",
          "Pregnancies",
          "Pregnancies",
          "Pregnancies",
          "Pregnancies",
          "Pregnancies",
          "Pregnancies",
          "Pregnancies",
          "Pregnancies",
          "Pregnancies",
          "Pregnancies",
          "Pregnancies",
          "Pregnancies",
          "Pregnancies",
          "Pregnancies",
          "Pregnancies",
          "Pregnancies",
          "Pregnancies",
          "Pregnancies",
          "Pregnancies",
          "Pregnancies",
          "Pregnancies",
          "Pregnancies",
          "Pregnancies",
          "Pregnancies",
          "Pregnancies",
          "Pregnancies",
          "Pregnancies",
          "Pregnancies",
          "Pregnancies",
          "Pregnancies",
          "Pregnancies",
          "Pregnancies",
          "Pregnancies",
          "Pregnancies",
          "Pregnancies",
          "Pregnancies",
          "Pregnancies",
          "Pregnancies",
          "Pregnancies",
          "Pregnancies",
          "Pregnancies",
          "Pregnancies",
          "Pregnancies",
          "Pregnancies",
          "Pregnancies",
          "Pregnancies",
          "Pregnancies",
          "Pregnancies",
          "Pregnancies",
          "Pregnancies",
          "Pregnancies",
          "Pregnancies",
          "Pregnancies",
          "Pregnancies",
          "Pregnancies",
          "Pregnancies",
          "Pregnancies",
          "Pregnancies",
          "Pregnancies",
          "Pregnancies",
          "Pregnancies",
          "Pregnancies",
          "Pregnancies",
          "Pregnancies",
          "Pregnancies",
          "Pregnancies",
          "Pregnancies",
          "Pregnancies",
          "Pregnancies",
          "Pregnancies",
          "Pregnancies",
          "Pregnancies",
          "Pregnancies",
          "Pregnancies",
          "Pregnancies",
          "Pregnancies",
          "Pregnancies",
          "Pregnancies",
          "Pregnancies",
          "Pregnancies",
          "Pregnancies",
          "Pregnancies",
          "Pregnancies",
          "Pregnancies",
          "Pregnancies",
          "Pregnancies",
          "Pregnancies",
          "Pregnancies",
          "Pregnancies",
          "Pregnancies",
          "Pregnancies",
          "Pregnancies",
          "Pregnancies",
          "Pregnancies",
          "Pregnancies",
          "Pregnancies",
          "Pregnancies",
          "Pregnancies",
          "Pregnancies",
          "Pregnancies",
          "Pregnancies",
          "Pregnancies",
          "Pregnancies",
          "Pregnancies",
          "Pregnancies",
          "Pregnancies",
          "Pregnancies",
          "Pregnancies",
          "Pregnancies",
          "Pregnancies",
          "Pregnancies",
          "Pregnancies",
          "Pregnancies",
          "Pregnancies",
          "Pregnancies",
          "Pregnancies",
          "Pregnancies",
          "Pregnancies",
          "Pregnancies",
          "Pregnancies",
          "Pregnancies",
          "Pregnancies",
          "Pregnancies",
          "Pregnancies",
          "Pregnancies",
          "Pregnancies",
          "Pregnancies",
          "Pregnancies",
          "Pregnancies",
          "Pregnancies",
          "Pregnancies",
          "Pregnancies",
          "Pregnancies",
          "Pregnancies",
          "Pregnancies",
          "Pregnancies",
          "Pregnancies",
          "Pregnancies",
          "Pregnancies",
          "Pregnancies",
          "Pregnancies",
          "Pregnancies",
          "Pregnancies",
          "Pregnancies",
          "Pregnancies",
          "Pregnancies",
          "Pregnancies",
          "Pregnancies",
          "Pregnancies",
          "Pregnancies",
          "Pregnancies",
          "Pregnancies",
          "Pregnancies",
          "Pregnancies",
          "Pregnancies",
          "Pregnancies",
          "Pregnancies",
          "Pregnancies",
          "Pregnancies",
          "Pregnancies",
          "Pregnancies",
          "Pregnancies",
          "Pregnancies",
          "Pregnancies",
          "Pregnancies",
          "Pregnancies",
          "Pregnancies",
          "Pregnancies",
          "Pregnancies",
          "Pregnancies",
          "Pregnancies",
          "Pregnancies",
          "Pregnancies",
          "Pregnancies",
          "Pregnancies",
          "Pregnancies",
          "Pregnancies",
          "Pregnancies",
          "Pregnancies",
          "Pregnancies",
          "Pregnancies",
          "Pregnancies",
          "Pregnancies",
          "Pregnancies",
          "Pregnancies",
          "Pregnancies",
          "Pregnancies",
          "Pregnancies",
          "Pregnancies",
          "Pregnancies",
          "Pregnancies",
          "Pregnancies",
          "Pregnancies",
          "Pregnancies",
          "Pregnancies",
          "Pregnancies",
          "Pregnancies",
          "Pregnancies",
          "Pregnancies",
          "Pregnancies",
          "Pregnancies",
          "Pregnancies",
          "Pregnancies",
          "Pregnancies",
          "Pregnancies",
          "Pregnancies",
          "Pregnancies",
          "Pregnancies",
          "Pregnancies",
          "Pregnancies",
          "Pregnancies",
          "Pregnancies",
          "Pregnancies",
          "Pregnancies",
          "Pregnancies",
          "Pregnancies",
          "Pregnancies",
          "Pregnancies",
          "Pregnancies",
          "Pregnancies",
          "Pregnancies",
          "Pregnancies",
          "Pregnancies",
          "Pregnancies",
          "Pregnancies",
          "Pregnancies",
          "Pregnancies",
          "Pregnancies",
          "Pregnancies",
          "Pregnancies",
          "Pregnancies",
          "Pregnancies",
          "Pregnancies",
          "Pregnancies",
          "Pregnancies",
          "Pregnancies",
          "Pregnancies",
          "Pregnancies",
          "Pregnancies",
          "Pregnancies",
          "Pregnancies",
          "Pregnancies",
          "Pregnancies",
          "Pregnancies",
          "Pregnancies",
          "Pregnancies",
          "Pregnancies",
          "Pregnancies",
          "Pregnancies",
          "Pregnancies",
          "Pregnancies",
          "Pregnancies",
          "Pregnancies",
          "Pregnancies",
          "Pregnancies",
          "Pregnancies",
          "Pregnancies",
          "Pregnancies",
          "Pregnancies",
          "Pregnancies",
          "Pregnancies",
          "Pregnancies",
          "Pregnancies",
          "Pregnancies",
          "Pregnancies",
          "Pregnancies",
          "Pregnancies",
          "Pregnancies",
          "Pregnancies",
          "Pregnancies",
          "Pregnancies",
          "Pregnancies",
          "Pregnancies",
          "Pregnancies",
          "Pregnancies",
          "Pregnancies",
          "Pregnancies",
          "Pregnancies",
          "Pregnancies",
          "Pregnancies",
          "Pregnancies",
          "Pregnancies",
          "Pregnancies",
          "Pregnancies",
          "Pregnancies",
          "Pregnancies",
          "Pregnancies",
          "Pregnancies",
          "Pregnancies",
          "Pregnancies",
          "Pregnancies",
          "Pregnancies",
          "Pregnancies",
          "Pregnancies",
          "Pregnancies",
          "Pregnancies",
          "Pregnancies",
          "Pregnancies",
          "Pregnancies",
          "Pregnancies",
          "Pregnancies",
          "Pregnancies",
          "Pregnancies",
          "Pregnancies",
          "Pregnancies",
          "Pregnancies",
          "Pregnancies",
          "Pregnancies",
          "Pregnancies",
          "Pregnancies",
          "Pregnancies",
          "Pregnancies",
          "Pregnancies",
          "Pregnancies",
          "Pregnancies",
          "Pregnancies",
          "Pregnancies",
          "Pregnancies",
          "Pregnancies",
          "Pregnancies",
          "Pregnancies",
          "Pregnancies",
          "Pregnancies",
          "Pregnancies",
          "Pregnancies",
          "Pregnancies",
          "Pregnancies",
          "Pregnancies",
          "Pregnancies",
          "Pregnancies",
          "Pregnancies",
          "Pregnancies",
          "Pregnancies",
          "Pregnancies",
          "Pregnancies",
          "Pregnancies",
          "Pregnancies",
          "Pregnancies",
          "Pregnancies",
          "Pregnancies",
          "Pregnancies",
          "Pregnancies",
          "Pregnancies",
          "Pregnancies",
          "Pregnancies",
          "Pregnancies",
          "Pregnancies",
          "Pregnancies",
          "Pregnancies",
          "Pregnancies",
          "Pregnancies",
          "Pregnancies",
          "Pregnancies",
          "Pregnancies",
          "Pregnancies",
          "Pregnancies",
          "Pregnancies",
          "Pregnancies",
          "Pregnancies",
          "Pregnancies",
          "Pregnancies",
          "Pregnancies",
          "Pregnancies",
          "Pregnancies",
          "Pregnancies",
          "Pregnancies",
          "Pregnancies",
          "Pregnancies",
          "Pregnancies",
          "Pregnancies",
          "Pregnancies",
          "Pregnancies",
          "Pregnancies",
          "Pregnancies",
          "Pregnancies",
          "Pregnancies",
          "Pregnancies",
          "Pregnancies",
          "Pregnancies",
          "Pregnancies",
          "Pregnancies",
          "Pregnancies",
          "Pregnancies",
          "Pregnancies",
          "Pregnancies",
          "Pregnancies",
          "Pregnancies",
          "Pregnancies",
          "Pregnancies",
          "Pregnancies",
          "Pregnancies",
          "Pregnancies",
          "Pregnancies",
          "Pregnancies",
          "Pregnancies",
          "Pregnancies",
          "Pregnancies",
          "Pregnancies",
          "Pregnancies",
          "Pregnancies",
          "Pregnancies",
          "Pregnancies",
          "Pregnancies",
          "Pregnancies",
          "Pregnancies",
          "Pregnancies",
          "Pregnancies",
          "Pregnancies",
          "Pregnancies",
          "Pregnancies",
          "Pregnancies",
          "Pregnancies",
          "Pregnancies",
          "Pregnancies",
          "Pregnancies",
          "Pregnancies",
          "Pregnancies",
          "Pregnancies",
          "Pregnancies",
          "Pregnancies",
          "Pregnancies",
          "Pregnancies",
          "Pregnancies",
          "Pregnancies",
          "Pregnancies",
          "Pregnancies",
          "Pregnancies",
          "Pregnancies",
          "Pregnancies",
          "Pregnancies",
          "Pregnancies",
          "Pregnancies",
          "Pregnancies",
          "Pregnancies",
          "Pregnancies",
          "Pregnancies",
          "Pregnancies",
          "Pregnancies",
          "Pregnancies",
          "Pregnancies",
          "Pregnancies",
          "Pregnancies",
          "Pregnancies",
          "Pregnancies",
          "Pregnancies",
          "Pregnancies",
          "Pregnancies",
          "Pregnancies",
          "Pregnancies",
          "Pregnancies",
          "Pregnancies",
          "Pregnancies",
          "Pregnancies",
          "Pregnancies",
          "Pregnancies",
          "Pregnancies",
          "Pregnancies",
          "Pregnancies",
          "Pregnancies",
          "Pregnancies",
          "Pregnancies",
          "Pregnancies",
          "Pregnancies",
          "Pregnancies",
          "Pregnancies",
          "Pregnancies",
          "Pregnancies",
          "Pregnancies",
          "Pregnancies",
          "Pregnancies",
          "Pregnancies",
          "Pregnancies",
          "Pregnancies",
          "Pregnancies",
          "Pregnancies",
          "Pregnancies",
          "Pregnancies",
          "Pregnancies",
          "Pregnancies",
          "Pregnancies",
          "Pregnancies",
          "Pregnancies",
          "Pregnancies",
          "Pregnancies",
          "Pregnancies",
          "Pregnancies",
          "Pregnancies",
          "Pregnancies",
          "Pregnancies",
          "Pregnancies",
          "Pregnancies",
          "Pregnancies",
          "Pregnancies",
          "Pregnancies",
          "Pregnancies",
          "Pregnancies",
          "Pregnancies",
          "Pregnancies",
          "Pregnancies",
          "Pregnancies",
          "Pregnancies",
          "Pregnancies",
          "Pregnancies",
          "Pregnancies",
          "Pregnancies",
          "Pregnancies",
          "Pregnancies",
          "Pregnancies",
          "Pregnancies",
          "Pregnancies",
          "Pregnancies",
          "Pregnancies",
          "Pregnancies",
          "Pregnancies",
          "Pregnancies",
          "Pregnancies",
          "Pregnancies",
          "Pregnancies",
          "Pregnancies",
          "Pregnancies",
          "Pregnancies",
          "Pregnancies",
          "Pregnancies",
          "Pregnancies",
          "Pregnancies",
          "Pregnancies",
          "Pregnancies",
          "Pregnancies",
          "Pregnancies",
          "Pregnancies",
          "Pregnancies",
          "Pregnancies",
          "Pregnancies",
          "Pregnancies",
          "Pregnancies",
          "Pregnancies",
          "Pregnancies",
          "Pregnancies",
          "Pregnancies",
          "Pregnancies",
          "Pregnancies",
          "Pregnancies",
          "Pregnancies",
          "Pregnancies",
          "Pregnancies",
          "Pregnancies",
          "Pregnancies",
          "Pregnancies",
          "Pregnancies",
          "Pregnancies"
         ],
         "x0": " ",
         "xaxis": "x",
         "y": [
          6,
          1,
          8,
          1,
          0,
          5,
          3,
          10,
          2,
          8,
          4,
          10,
          10,
          1,
          5,
          7,
          0,
          7,
          1,
          1,
          3,
          8,
          7,
          9,
          11,
          10,
          7,
          1,
          13,
          5,
          5,
          3,
          3,
          6,
          10,
          4,
          11,
          9,
          2,
          4,
          3,
          7,
          7,
          9,
          7,
          0,
          1,
          2,
          7,
          7,
          1,
          1,
          5,
          8,
          7,
          1,
          7,
          0,
          0,
          0,
          2,
          8,
          5,
          2,
          7,
          5,
          0,
          2,
          1,
          4,
          2,
          5,
          13,
          4,
          1,
          1,
          7,
          5,
          0,
          2,
          3,
          2,
          7,
          0,
          5,
          2,
          13,
          2,
          15,
          1,
          1,
          4,
          7,
          4,
          2,
          6,
          2,
          1,
          6,
          1,
          1,
          1,
          0,
          1,
          2,
          1,
          1,
          4,
          3,
          0,
          3,
          8,
          1,
          4,
          7,
          4,
          5,
          5,
          4,
          4,
          0,
          6,
          2,
          5,
          0,
          1,
          3,
          1,
          1,
          0,
          4,
          9,
          3,
          8,
          2,
          2,
          0,
          0,
          0,
          5,
          3,
          5,
          2,
          10,
          4,
          0,
          9,
          2,
          5,
          2,
          1,
          4,
          9,
          1,
          8,
          7,
          2,
          1,
          2,
          17,
          4,
          7,
          0,
          2,
          0,
          6,
          3,
          4,
          4,
          3,
          6,
          6,
          2,
          1,
          2,
          8,
          6,
          0,
          5,
          5,
          6,
          0,
          1,
          5,
          4,
          7,
          8,
          1,
          8,
          5,
          3,
          9,
          7,
          11,
          8,
          5,
          1,
          3,
          4,
          4,
          0,
          1,
          0,
          2,
          6,
          5,
          8,
          5,
          1,
          7,
          2,
          0,
          7,
          0,
          9,
          12,
          5,
          6,
          5,
          5,
          0,
          2,
          7,
          7,
          1,
          1,
          0,
          3,
          4,
          0,
          4,
          6,
          1,
          4,
          3,
          4,
          7,
          0,
          9,
          0,
          1,
          4,
          3,
          6,
          2,
          9,
          10,
          0,
          9,
          1,
          9,
          2,
          2,
          0,
          12,
          1,
          3,
          2,
          1,
          11,
          3,
          3,
          4,
          3,
          4,
          5,
          0,
          2,
          0,
          2,
          10,
          2,
          3,
          1,
          13,
          2,
          7,
          0,
          5,
          2,
          0,
          10,
          7,
          7,
          2,
          7,
          5,
          1,
          4,
          5,
          0,
          0,
          2,
          1,
          0,
          6,
          2,
          0,
          14,
          8,
          0,
          2,
          5,
          5,
          3,
          2,
          10,
          0,
          0,
          2,
          6,
          0,
          2,
          3,
          7,
          2,
          3,
          3,
          3,
          6,
          4,
          3,
          0,
          13,
          2,
          1,
          1,
          10,
          2,
          6,
          8,
          2,
          1,
          12,
          1,
          0,
          0,
          5,
          9,
          7,
          1,
          1,
          1,
          5,
          8,
          8,
          1,
          3,
          3,
          5,
          4,
          4,
          3,
          1,
          3,
          9,
          1,
          13,
          12,
          1,
          5,
          5,
          5,
          4,
          4,
          5,
          6,
          0,
          3,
          1,
          3,
          0,
          0,
          2,
          2,
          12,
          0,
          1,
          4,
          0,
          1,
          0,
          1,
          1,
          1,
          1,
          5,
          8,
          5,
          3,
          1,
          5,
          1,
          4,
          4,
          2,
          3,
          0,
          3,
          3,
          4,
          6,
          5,
          9,
          5,
          2,
          4,
          0,
          8,
          1,
          6,
          1,
          1,
          1,
          0,
          3,
          1,
          4,
          1,
          3,
          1,
          2,
          0,
          2,
          8,
          4,
          0,
          1,
          0,
          1,
          2,
          3,
          1,
          2,
          1,
          0,
          12,
          5,
          1,
          6,
          0,
          2,
          4,
          8,
          4,
          0,
          1,
          0,
          0,
          0,
          1,
          2,
          0,
          2,
          2,
          14,
          1,
          5,
          10,
          9,
          9,
          1,
          8,
          5,
          10,
          0,
          0,
          0,
          8,
          6,
          1,
          0,
          0,
          7,
          4,
          0,
          2,
          7,
          8,
          4,
          3,
          0,
          4,
          0,
          0,
          0,
          1,
          0,
          4,
          8,
          2,
          2,
          4,
          4,
          3,
          6,
          5,
          2,
          7,
          6,
          2,
          3,
          6,
          7,
          3,
          10,
          0,
          1,
          2,
          8,
          12,
          0,
          9,
          2,
          3,
          3,
          9,
          7,
          13,
          6,
          2,
          3,
          6,
          9,
          3,
          3,
          1,
          3,
          0,
          0,
          2,
          0,
          1,
          6,
          1,
          4,
          0,
          0,
          0,
          3,
          8,
          3,
          10,
          4,
          1,
          8,
          5,
          4,
          1,
          4,
          1,
          3,
          6,
          1,
          1,
          7,
          1,
          8,
          11,
          11,
          6,
          0,
          1,
          6,
          0,
          2,
          1,
          6,
          4,
          0,
          3,
          2,
          3,
          2,
          1,
          1,
          6,
          2,
          10,
          2,
          0,
          6,
          12,
          8,
          8,
          1,
          8,
          6,
          3,
          0,
          11,
          2,
          3,
          2,
          6,
          0,
          0,
          1,
          1,
          1,
          1,
          6,
          1,
          7,
          4,
          1,
          1,
          1,
          0,
          1,
          3,
          3,
          7,
          6,
          11,
          3,
          6,
          2,
          9,
          0,
          2,
          2,
          6,
          0,
          2,
          4,
          0,
          0,
          5,
          4,
          7,
          0,
          2,
          1,
          10,
          13,
          5,
          2,
          7,
          1,
          0,
          4,
          6,
          4,
          3,
          2,
          1,
          0,
          11,
          0,
          1,
          1,
          5,
          2,
          1,
          2,
          2,
          1,
          11,
          3,
          10,
          1,
          8,
          9,
          6,
          1,
          4,
          10,
          6,
          9,
          6,
          1,
          10,
          3,
          8,
          6,
          9,
          0,
          3,
          2,
          2,
          0,
          0,
          4,
          5,
          2,
          3,
          1,
          1,
          1,
          8,
          13,
          2,
          7,
          2,
          7,
          3,
          0,
          4,
          4,
          2,
          6,
          1,
          2,
          4,
          6,
          10,
          2,
          9,
          2,
          3,
          5,
          10,
          0,
          3,
          7,
          3,
          10,
          1,
          5,
          4,
          1,
          1,
          5,
          1,
          4,
          1,
          0,
          2,
          2,
          3,
          8,
          2,
          2,
          2,
          4,
          0,
          8,
          2,
          1,
          11,
          3,
          1,
          9,
          13,
          12,
          1,
          1,
          3,
          6,
          4,
          1,
          3,
          0,
          8,
          1,
          7,
          0,
          1,
          6,
          2,
          9,
          9,
          10,
          2,
          5,
          1,
          1
         ],
         "y0": " ",
         "yaxis": "y"
        }
       ],
       "layout": {
        "legend": {
         "tracegroupgap": 0
        },
        "margin": {
         "t": 60
        },
        "template": {
         "data": {
          "bar": [
           {
            "error_x": {
             "color": "#2a3f5f"
            },
            "error_y": {
             "color": "#2a3f5f"
            },
            "marker": {
             "line": {
              "color": "#E5ECF6",
              "width": 0.5
             },
             "pattern": {
              "fillmode": "overlay",
              "size": 10,
              "solidity": 0.2
             }
            },
            "type": "bar"
           }
          ],
          "barpolar": [
           {
            "marker": {
             "line": {
              "color": "#E5ECF6",
              "width": 0.5
             },
             "pattern": {
              "fillmode": "overlay",
              "size": 10,
              "solidity": 0.2
             }
            },
            "type": "barpolar"
           }
          ],
          "carpet": [
           {
            "aaxis": {
             "endlinecolor": "#2a3f5f",
             "gridcolor": "white",
             "linecolor": "white",
             "minorgridcolor": "white",
             "startlinecolor": "#2a3f5f"
            },
            "baxis": {
             "endlinecolor": "#2a3f5f",
             "gridcolor": "white",
             "linecolor": "white",
             "minorgridcolor": "white",
             "startlinecolor": "#2a3f5f"
            },
            "type": "carpet"
           }
          ],
          "choropleth": [
           {
            "colorbar": {
             "outlinewidth": 0,
             "ticks": ""
            },
            "type": "choropleth"
           }
          ],
          "contour": [
           {
            "colorbar": {
             "outlinewidth": 0,
             "ticks": ""
            },
            "colorscale": [
             [
              0,
              "#0d0887"
             ],
             [
              0.1111111111111111,
              "#46039f"
             ],
             [
              0.2222222222222222,
              "#7201a8"
             ],
             [
              0.3333333333333333,
              "#9c179e"
             ],
             [
              0.4444444444444444,
              "#bd3786"
             ],
             [
              0.5555555555555556,
              "#d8576b"
             ],
             [
              0.6666666666666666,
              "#ed7953"
             ],
             [
              0.7777777777777778,
              "#fb9f3a"
             ],
             [
              0.8888888888888888,
              "#fdca26"
             ],
             [
              1,
              "#f0f921"
             ]
            ],
            "type": "contour"
           }
          ],
          "contourcarpet": [
           {
            "colorbar": {
             "outlinewidth": 0,
             "ticks": ""
            },
            "type": "contourcarpet"
           }
          ],
          "heatmap": [
           {
            "colorbar": {
             "outlinewidth": 0,
             "ticks": ""
            },
            "colorscale": [
             [
              0,
              "#0d0887"
             ],
             [
              0.1111111111111111,
              "#46039f"
             ],
             [
              0.2222222222222222,
              "#7201a8"
             ],
             [
              0.3333333333333333,
              "#9c179e"
             ],
             [
              0.4444444444444444,
              "#bd3786"
             ],
             [
              0.5555555555555556,
              "#d8576b"
             ],
             [
              0.6666666666666666,
              "#ed7953"
             ],
             [
              0.7777777777777778,
              "#fb9f3a"
             ],
             [
              0.8888888888888888,
              "#fdca26"
             ],
             [
              1,
              "#f0f921"
             ]
            ],
            "type": "heatmap"
           }
          ],
          "heatmapgl": [
           {
            "colorbar": {
             "outlinewidth": 0,
             "ticks": ""
            },
            "colorscale": [
             [
              0,
              "#0d0887"
             ],
             [
              0.1111111111111111,
              "#46039f"
             ],
             [
              0.2222222222222222,
              "#7201a8"
             ],
             [
              0.3333333333333333,
              "#9c179e"
             ],
             [
              0.4444444444444444,
              "#bd3786"
             ],
             [
              0.5555555555555556,
              "#d8576b"
             ],
             [
              0.6666666666666666,
              "#ed7953"
             ],
             [
              0.7777777777777778,
              "#fb9f3a"
             ],
             [
              0.8888888888888888,
              "#fdca26"
             ],
             [
              1,
              "#f0f921"
             ]
            ],
            "type": "heatmapgl"
           }
          ],
          "histogram": [
           {
            "marker": {
             "pattern": {
              "fillmode": "overlay",
              "size": 10,
              "solidity": 0.2
             }
            },
            "type": "histogram"
           }
          ],
          "histogram2d": [
           {
            "colorbar": {
             "outlinewidth": 0,
             "ticks": ""
            },
            "colorscale": [
             [
              0,
              "#0d0887"
             ],
             [
              0.1111111111111111,
              "#46039f"
             ],
             [
              0.2222222222222222,
              "#7201a8"
             ],
             [
              0.3333333333333333,
              "#9c179e"
             ],
             [
              0.4444444444444444,
              "#bd3786"
             ],
             [
              0.5555555555555556,
              "#d8576b"
             ],
             [
              0.6666666666666666,
              "#ed7953"
             ],
             [
              0.7777777777777778,
              "#fb9f3a"
             ],
             [
              0.8888888888888888,
              "#fdca26"
             ],
             [
              1,
              "#f0f921"
             ]
            ],
            "type": "histogram2d"
           }
          ],
          "histogram2dcontour": [
           {
            "colorbar": {
             "outlinewidth": 0,
             "ticks": ""
            },
            "colorscale": [
             [
              0,
              "#0d0887"
             ],
             [
              0.1111111111111111,
              "#46039f"
             ],
             [
              0.2222222222222222,
              "#7201a8"
             ],
             [
              0.3333333333333333,
              "#9c179e"
             ],
             [
              0.4444444444444444,
              "#bd3786"
             ],
             [
              0.5555555555555556,
              "#d8576b"
             ],
             [
              0.6666666666666666,
              "#ed7953"
             ],
             [
              0.7777777777777778,
              "#fb9f3a"
             ],
             [
              0.8888888888888888,
              "#fdca26"
             ],
             [
              1,
              "#f0f921"
             ]
            ],
            "type": "histogram2dcontour"
           }
          ],
          "mesh3d": [
           {
            "colorbar": {
             "outlinewidth": 0,
             "ticks": ""
            },
            "type": "mesh3d"
           }
          ],
          "parcoords": [
           {
            "line": {
             "colorbar": {
              "outlinewidth": 0,
              "ticks": ""
             }
            },
            "type": "parcoords"
           }
          ],
          "pie": [
           {
            "automargin": true,
            "type": "pie"
           }
          ],
          "scatter": [
           {
            "marker": {
             "colorbar": {
              "outlinewidth": 0,
              "ticks": ""
             }
            },
            "type": "scatter"
           }
          ],
          "scatter3d": [
           {
            "line": {
             "colorbar": {
              "outlinewidth": 0,
              "ticks": ""
             }
            },
            "marker": {
             "colorbar": {
              "outlinewidth": 0,
              "ticks": ""
             }
            },
            "type": "scatter3d"
           }
          ],
          "scattercarpet": [
           {
            "marker": {
             "colorbar": {
              "outlinewidth": 0,
              "ticks": ""
             }
            },
            "type": "scattercarpet"
           }
          ],
          "scattergeo": [
           {
            "marker": {
             "colorbar": {
              "outlinewidth": 0,
              "ticks": ""
             }
            },
            "type": "scattergeo"
           }
          ],
          "scattergl": [
           {
            "marker": {
             "colorbar": {
              "outlinewidth": 0,
              "ticks": ""
             }
            },
            "type": "scattergl"
           }
          ],
          "scattermapbox": [
           {
            "marker": {
             "colorbar": {
              "outlinewidth": 0,
              "ticks": ""
             }
            },
            "type": "scattermapbox"
           }
          ],
          "scatterpolar": [
           {
            "marker": {
             "colorbar": {
              "outlinewidth": 0,
              "ticks": ""
             }
            },
            "type": "scatterpolar"
           }
          ],
          "scatterpolargl": [
           {
            "marker": {
             "colorbar": {
              "outlinewidth": 0,
              "ticks": ""
             }
            },
            "type": "scatterpolargl"
           }
          ],
          "scatterternary": [
           {
            "marker": {
             "colorbar": {
              "outlinewidth": 0,
              "ticks": ""
             }
            },
            "type": "scatterternary"
           }
          ],
          "surface": [
           {
            "colorbar": {
             "outlinewidth": 0,
             "ticks": ""
            },
            "colorscale": [
             [
              0,
              "#0d0887"
             ],
             [
              0.1111111111111111,
              "#46039f"
             ],
             [
              0.2222222222222222,
              "#7201a8"
             ],
             [
              0.3333333333333333,
              "#9c179e"
             ],
             [
              0.4444444444444444,
              "#bd3786"
             ],
             [
              0.5555555555555556,
              "#d8576b"
             ],
             [
              0.6666666666666666,
              "#ed7953"
             ],
             [
              0.7777777777777778,
              "#fb9f3a"
             ],
             [
              0.8888888888888888,
              "#fdca26"
             ],
             [
              1,
              "#f0f921"
             ]
            ],
            "type": "surface"
           }
          ],
          "table": [
           {
            "cells": {
             "fill": {
              "color": "#EBF0F8"
             },
             "line": {
              "color": "white"
             }
            },
            "header": {
             "fill": {
              "color": "#C8D4E3"
             },
             "line": {
              "color": "white"
             }
            },
            "type": "table"
           }
          ]
         },
         "layout": {
          "annotationdefaults": {
           "arrowcolor": "#2a3f5f",
           "arrowhead": 0,
           "arrowwidth": 1
          },
          "autotypenumbers": "strict",
          "coloraxis": {
           "colorbar": {
            "outlinewidth": 0,
            "ticks": ""
           }
          },
          "colorscale": {
           "diverging": [
            [
             0,
             "#8e0152"
            ],
            [
             0.1,
             "#c51b7d"
            ],
            [
             0.2,
             "#de77ae"
            ],
            [
             0.3,
             "#f1b6da"
            ],
            [
             0.4,
             "#fde0ef"
            ],
            [
             0.5,
             "#f7f7f7"
            ],
            [
             0.6,
             "#e6f5d0"
            ],
            [
             0.7,
             "#b8e186"
            ],
            [
             0.8,
             "#7fbc41"
            ],
            [
             0.9,
             "#4d9221"
            ],
            [
             1,
             "#276419"
            ]
           ],
           "sequential": [
            [
             0,
             "#0d0887"
            ],
            [
             0.1111111111111111,
             "#46039f"
            ],
            [
             0.2222222222222222,
             "#7201a8"
            ],
            [
             0.3333333333333333,
             "#9c179e"
            ],
            [
             0.4444444444444444,
             "#bd3786"
            ],
            [
             0.5555555555555556,
             "#d8576b"
            ],
            [
             0.6666666666666666,
             "#ed7953"
            ],
            [
             0.7777777777777778,
             "#fb9f3a"
            ],
            [
             0.8888888888888888,
             "#fdca26"
            ],
            [
             1,
             "#f0f921"
            ]
           ],
           "sequentialminus": [
            [
             0,
             "#0d0887"
            ],
            [
             0.1111111111111111,
             "#46039f"
            ],
            [
             0.2222222222222222,
             "#7201a8"
            ],
            [
             0.3333333333333333,
             "#9c179e"
            ],
            [
             0.4444444444444444,
             "#bd3786"
            ],
            [
             0.5555555555555556,
             "#d8576b"
            ],
            [
             0.6666666666666666,
             "#ed7953"
            ],
            [
             0.7777777777777778,
             "#fb9f3a"
            ],
            [
             0.8888888888888888,
             "#fdca26"
            ],
            [
             1,
             "#f0f921"
            ]
           ]
          },
          "colorway": [
           "#636efa",
           "#EF553B",
           "#00cc96",
           "#ab63fa",
           "#FFA15A",
           "#19d3f3",
           "#FF6692",
           "#B6E880",
           "#FF97FF",
           "#FECB52"
          ],
          "font": {
           "color": "#2a3f5f"
          },
          "geo": {
           "bgcolor": "white",
           "lakecolor": "white",
           "landcolor": "#E5ECF6",
           "showlakes": true,
           "showland": true,
           "subunitcolor": "white"
          },
          "hoverlabel": {
           "align": "left"
          },
          "hovermode": "closest",
          "mapbox": {
           "style": "light"
          },
          "paper_bgcolor": "white",
          "plot_bgcolor": "#E5ECF6",
          "polar": {
           "angularaxis": {
            "gridcolor": "white",
            "linecolor": "white",
            "ticks": ""
           },
           "bgcolor": "#E5ECF6",
           "radialaxis": {
            "gridcolor": "white",
            "linecolor": "white",
            "ticks": ""
           }
          },
          "scene": {
           "xaxis": {
            "backgroundcolor": "#E5ECF6",
            "gridcolor": "white",
            "gridwidth": 2,
            "linecolor": "white",
            "showbackground": true,
            "ticks": "",
            "zerolinecolor": "white"
           },
           "yaxis": {
            "backgroundcolor": "#E5ECF6",
            "gridcolor": "white",
            "gridwidth": 2,
            "linecolor": "white",
            "showbackground": true,
            "ticks": "",
            "zerolinecolor": "white"
           },
           "zaxis": {
            "backgroundcolor": "#E5ECF6",
            "gridcolor": "white",
            "gridwidth": 2,
            "linecolor": "white",
            "showbackground": true,
            "ticks": "",
            "zerolinecolor": "white"
           }
          },
          "shapedefaults": {
           "line": {
            "color": "#2a3f5f"
           }
          },
          "ternary": {
           "aaxis": {
            "gridcolor": "white",
            "linecolor": "white",
            "ticks": ""
           },
           "baxis": {
            "gridcolor": "white",
            "linecolor": "white",
            "ticks": ""
           },
           "bgcolor": "#E5ECF6",
           "caxis": {
            "gridcolor": "white",
            "linecolor": "white",
            "ticks": ""
           }
          },
          "title": {
           "x": 0.05
          },
          "xaxis": {
           "automargin": true,
           "gridcolor": "white",
           "linecolor": "white",
           "ticks": "",
           "title": {
            "standoff": 15
           },
           "zerolinecolor": "white",
           "zerolinewidth": 2
          },
          "yaxis": {
           "automargin": true,
           "gridcolor": "white",
           "linecolor": "white",
           "ticks": "",
           "title": {
            "standoff": 15
           },
           "zerolinecolor": "white",
           "zerolinewidth": 2
          }
         }
        },
        "violinmode": "group",
        "xaxis": {
         "anchor": "y",
         "domain": [
          0,
          1
         ],
         "title": {
          "text": "variable"
         }
        },
        "yaxis": {
         "anchor": "x",
         "domain": [
          0,
          1
         ],
         "title": {
          "text": "value"
         }
        }
       }
      }
     },
     "metadata": {},
     "output_type": "display_data"
    }
   ],
   "source": [
    "px.violin(df['Pregnancies'])"
   ]
  },
  {
   "cell_type": "code",
   "execution_count": 75,
   "metadata": {},
   "outputs": [
    {
     "data": {
      "application/vnd.plotly.v1+json": {
       "config": {
        "plotlyServerURL": "https://plot.ly"
       },
       "data": [
        {
         "alignmentgroup": "True",
         "bingroup": "x",
         "hovertemplate": "Insulin=%{x}<br>count=%{y}<extra></extra>",
         "legendgroup": "",
         "marker": {
          "color": "#636efa",
          "pattern": {
           "shape": ""
          }
         },
         "name": "",
         "offsetgroup": "",
         "orientation": "v",
         "showlegend": false,
         "type": "histogram",
         "x": [
          0,
          0,
          0,
          94,
          168,
          0,
          88,
          0,
          543,
          0,
          0,
          0,
          0,
          846,
          175,
          0,
          230,
          0,
          83,
          96,
          235,
          0,
          0,
          0,
          146,
          115,
          0,
          140,
          110,
          0,
          0,
          245,
          54,
          0,
          0,
          192,
          0,
          0,
          0,
          207,
          70,
          0,
          0,
          240,
          0,
          0,
          0,
          0,
          0,
          0,
          82,
          36,
          23,
          300,
          342,
          0,
          304,
          110,
          0,
          142,
          0,
          0,
          0,
          128,
          0,
          0,
          0,
          0,
          38,
          100,
          90,
          140,
          0,
          270,
          0,
          0,
          0,
          0,
          0,
          0,
          0,
          0,
          71,
          0,
          0,
          125,
          0,
          71,
          110,
          0,
          0,
          176,
          48,
          0,
          64,
          228,
          0,
          76,
          64,
          220,
          0,
          0,
          0,
          40,
          0,
          152,
          0,
          140,
          18,
          36,
          135,
          495,
          37,
          0,
          175,
          0,
          0,
          0,
          0,
          51,
          100,
          0,
          100,
          0,
          0,
          99,
          135,
          94,
          145,
          0,
          168,
          0,
          225,
          0,
          49,
          140,
          50,
          92,
          0,
          325,
          0,
          0,
          63,
          0,
          284,
          0,
          0,
          119,
          0,
          0,
          204,
          0,
          155,
          485,
          0,
          0,
          94,
          135,
          53,
          114,
          0,
          105,
          285,
          0,
          0,
          156,
          0,
          0,
          0,
          78,
          0,
          130,
          0,
          48,
          55,
          130,
          0,
          130,
          0,
          0,
          0,
          92,
          23,
          0,
          0,
          0,
          495,
          58,
          114,
          160,
          0,
          94,
          0,
          0,
          0,
          210,
          0,
          48,
          99,
          318,
          0,
          0,
          0,
          44,
          190,
          0,
          280,
          0,
          87,
          0,
          0,
          0,
          0,
          130,
          175,
          271,
          129,
          120,
          0,
          0,
          478,
          0,
          0,
          190,
          56,
          32,
          0,
          0,
          744,
          53,
          0,
          370,
          37,
          0,
          45,
          0,
          192,
          0,
          0,
          0,
          0,
          88,
          0,
          176,
          194,
          0,
          0,
          680,
          402,
          0,
          0,
          0,
          55,
          0,
          258,
          0,
          0,
          0,
          375,
          150,
          130,
          0,
          0,
          0,
          0,
          67,
          0,
          0,
          0,
          0,
          0,
          56,
          0,
          45,
          0,
          57,
          0,
          116,
          0,
          278,
          0,
          122,
          155,
          0,
          0,
          135,
          545,
          220,
          49,
          75,
          40,
          74,
          182,
          194,
          0,
          120,
          360,
          215,
          184,
          0,
          0,
          135,
          42,
          0,
          0,
          105,
          132,
          148,
          180,
          205,
          0,
          148,
          96,
          85,
          0,
          94,
          64,
          0,
          140,
          0,
          231,
          0,
          0,
          29,
          0,
          168,
          156,
          0,
          120,
          68,
          0,
          52,
          0,
          0,
          58,
          255,
          0,
          0,
          171,
          0,
          105,
          73,
          0,
          0,
          0,
          108,
          83,
          0,
          74,
          0,
          0,
          0,
          0,
          43,
          0,
          0,
          167,
          0,
          54,
          249,
          325,
          0,
          0,
          0,
          293,
          83,
          0,
          0,
          66,
          140,
          465,
          89,
          66,
          94,
          158,
          325,
          84,
          75,
          0,
          72,
          82,
          0,
          182,
          59,
          110,
          50,
          0,
          0,
          285,
          81,
          196,
          0,
          415,
          87,
          0,
          275,
          115,
          0,
          0,
          0,
          0,
          0,
          88,
          0,
          0,
          165,
          0,
          0,
          0,
          579,
          0,
          176,
          310,
          61,
          167,
          474,
          0,
          0,
          0,
          115,
          170,
          76,
          78,
          0,
          210,
          277,
          0,
          180,
          145,
          180,
          0,
          85,
          60,
          0,
          0,
          0,
          0,
          0,
          0,
          0,
          0,
          50,
          120,
          0,
          0,
          14,
          70,
          92,
          64,
          63,
          95,
          0,
          210,
          0,
          105,
          0,
          0,
          71,
          237,
          60,
          56,
          0,
          49,
          0,
          0,
          105,
          36,
          100,
          0,
          140,
          0,
          0,
          0,
          0,
          0,
          0,
          191,
          110,
          75,
          0,
          328,
          0,
          49,
          125,
          0,
          250,
          480,
          265,
          0,
          0,
          66,
          0,
          0,
          122,
          0,
          0,
          0,
          76,
          145,
          193,
          71,
          0,
          0,
          79,
          0,
          0,
          90,
          170,
          76,
          0,
          0,
          210,
          0,
          0,
          86,
          105,
          165,
          0,
          0,
          326,
          66,
          130,
          0,
          0,
          0,
          0,
          82,
          105,
          188,
          0,
          106,
          0,
          65,
          0,
          56,
          0,
          0,
          0,
          210,
          155,
          215,
          190,
          0,
          56,
          76,
          225,
          207,
          166,
          67,
          0,
          0,
          106,
          0,
          44,
          115,
          215,
          0,
          0,
          0,
          0,
          0,
          274,
          77,
          54,
          0,
          88,
          18,
          126,
          126,
          165,
          0,
          0,
          44,
          120,
          330,
          63,
          130,
          0,
          0,
          0,
          0,
          0,
          0,
          0,
          600,
          0,
          0,
          0,
          156,
          0,
          0,
          140,
          0,
          115,
          230,
          185,
          0,
          25,
          0,
          120,
          0,
          0,
          0,
          126,
          0,
          0,
          293,
          41,
          272,
          182,
          158,
          194,
          321,
          0,
          144,
          0,
          0,
          15,
          0,
          0,
          160,
          0,
          0,
          115,
          0,
          54,
          0,
          0,
          0,
          0,
          0,
          90,
          0,
          183,
          0,
          0,
          0,
          66,
          91,
          46,
          105,
          0,
          0,
          0,
          152,
          440,
          144,
          159,
          130,
          0,
          100,
          106,
          77,
          0,
          135,
          540,
          90,
          200,
          0,
          70,
          0,
          0,
          231,
          130,
          0,
          132,
          0,
          0,
          190,
          100,
          168,
          0,
          49,
          240,
          0,
          0,
          0,
          0,
          0,
          265,
          45,
          0,
          105,
          0,
          0,
          205,
          0,
          0,
          180,
          180,
          0,
          0,
          95,
          125,
          0,
          480,
          125,
          0,
          155,
          0,
          200,
          0,
          0,
          0,
          100,
          0,
          0,
          335,
          0,
          160,
          387,
          22,
          0,
          291,
          0,
          392,
          185,
          0,
          178,
          0,
          0,
          200,
          127,
          105,
          0,
          0,
          180,
          0,
          0,
          0,
          79,
          0,
          120,
          165,
          0,
          0,
          120,
          0,
          160,
          0,
          150,
          94,
          116,
          0,
          140,
          105,
          0,
          57,
          200,
          0,
          0,
          74,
          0,
          510,
          0,
          110,
          0,
          0,
          0,
          0,
          16,
          0,
          0,
          180,
          0,
          112,
          0,
          0
         ],
         "xaxis": "x",
         "yaxis": "y"
        }
       ],
       "layout": {
        "barmode": "relative",
        "legend": {
         "tracegroupgap": 0
        },
        "margin": {
         "t": 60
        },
        "template": {
         "data": {
          "bar": [
           {
            "error_x": {
             "color": "#2a3f5f"
            },
            "error_y": {
             "color": "#2a3f5f"
            },
            "marker": {
             "line": {
              "color": "#E5ECF6",
              "width": 0.5
             },
             "pattern": {
              "fillmode": "overlay",
              "size": 10,
              "solidity": 0.2
             }
            },
            "type": "bar"
           }
          ],
          "barpolar": [
           {
            "marker": {
             "line": {
              "color": "#E5ECF6",
              "width": 0.5
             },
             "pattern": {
              "fillmode": "overlay",
              "size": 10,
              "solidity": 0.2
             }
            },
            "type": "barpolar"
           }
          ],
          "carpet": [
           {
            "aaxis": {
             "endlinecolor": "#2a3f5f",
             "gridcolor": "white",
             "linecolor": "white",
             "minorgridcolor": "white",
             "startlinecolor": "#2a3f5f"
            },
            "baxis": {
             "endlinecolor": "#2a3f5f",
             "gridcolor": "white",
             "linecolor": "white",
             "minorgridcolor": "white",
             "startlinecolor": "#2a3f5f"
            },
            "type": "carpet"
           }
          ],
          "choropleth": [
           {
            "colorbar": {
             "outlinewidth": 0,
             "ticks": ""
            },
            "type": "choropleth"
           }
          ],
          "contour": [
           {
            "colorbar": {
             "outlinewidth": 0,
             "ticks": ""
            },
            "colorscale": [
             [
              0,
              "#0d0887"
             ],
             [
              0.1111111111111111,
              "#46039f"
             ],
             [
              0.2222222222222222,
              "#7201a8"
             ],
             [
              0.3333333333333333,
              "#9c179e"
             ],
             [
              0.4444444444444444,
              "#bd3786"
             ],
             [
              0.5555555555555556,
              "#d8576b"
             ],
             [
              0.6666666666666666,
              "#ed7953"
             ],
             [
              0.7777777777777778,
              "#fb9f3a"
             ],
             [
              0.8888888888888888,
              "#fdca26"
             ],
             [
              1,
              "#f0f921"
             ]
            ],
            "type": "contour"
           }
          ],
          "contourcarpet": [
           {
            "colorbar": {
             "outlinewidth": 0,
             "ticks": ""
            },
            "type": "contourcarpet"
           }
          ],
          "heatmap": [
           {
            "colorbar": {
             "outlinewidth": 0,
             "ticks": ""
            },
            "colorscale": [
             [
              0,
              "#0d0887"
             ],
             [
              0.1111111111111111,
              "#46039f"
             ],
             [
              0.2222222222222222,
              "#7201a8"
             ],
             [
              0.3333333333333333,
              "#9c179e"
             ],
             [
              0.4444444444444444,
              "#bd3786"
             ],
             [
              0.5555555555555556,
              "#d8576b"
             ],
             [
              0.6666666666666666,
              "#ed7953"
             ],
             [
              0.7777777777777778,
              "#fb9f3a"
             ],
             [
              0.8888888888888888,
              "#fdca26"
             ],
             [
              1,
              "#f0f921"
             ]
            ],
            "type": "heatmap"
           }
          ],
          "heatmapgl": [
           {
            "colorbar": {
             "outlinewidth": 0,
             "ticks": ""
            },
            "colorscale": [
             [
              0,
              "#0d0887"
             ],
             [
              0.1111111111111111,
              "#46039f"
             ],
             [
              0.2222222222222222,
              "#7201a8"
             ],
             [
              0.3333333333333333,
              "#9c179e"
             ],
             [
              0.4444444444444444,
              "#bd3786"
             ],
             [
              0.5555555555555556,
              "#d8576b"
             ],
             [
              0.6666666666666666,
              "#ed7953"
             ],
             [
              0.7777777777777778,
              "#fb9f3a"
             ],
             [
              0.8888888888888888,
              "#fdca26"
             ],
             [
              1,
              "#f0f921"
             ]
            ],
            "type": "heatmapgl"
           }
          ],
          "histogram": [
           {
            "marker": {
             "pattern": {
              "fillmode": "overlay",
              "size": 10,
              "solidity": 0.2
             }
            },
            "type": "histogram"
           }
          ],
          "histogram2d": [
           {
            "colorbar": {
             "outlinewidth": 0,
             "ticks": ""
            },
            "colorscale": [
             [
              0,
              "#0d0887"
             ],
             [
              0.1111111111111111,
              "#46039f"
             ],
             [
              0.2222222222222222,
              "#7201a8"
             ],
             [
              0.3333333333333333,
              "#9c179e"
             ],
             [
              0.4444444444444444,
              "#bd3786"
             ],
             [
              0.5555555555555556,
              "#d8576b"
             ],
             [
              0.6666666666666666,
              "#ed7953"
             ],
             [
              0.7777777777777778,
              "#fb9f3a"
             ],
             [
              0.8888888888888888,
              "#fdca26"
             ],
             [
              1,
              "#f0f921"
             ]
            ],
            "type": "histogram2d"
           }
          ],
          "histogram2dcontour": [
           {
            "colorbar": {
             "outlinewidth": 0,
             "ticks": ""
            },
            "colorscale": [
             [
              0,
              "#0d0887"
             ],
             [
              0.1111111111111111,
              "#46039f"
             ],
             [
              0.2222222222222222,
              "#7201a8"
             ],
             [
              0.3333333333333333,
              "#9c179e"
             ],
             [
              0.4444444444444444,
              "#bd3786"
             ],
             [
              0.5555555555555556,
              "#d8576b"
             ],
             [
              0.6666666666666666,
              "#ed7953"
             ],
             [
              0.7777777777777778,
              "#fb9f3a"
             ],
             [
              0.8888888888888888,
              "#fdca26"
             ],
             [
              1,
              "#f0f921"
             ]
            ],
            "type": "histogram2dcontour"
           }
          ],
          "mesh3d": [
           {
            "colorbar": {
             "outlinewidth": 0,
             "ticks": ""
            },
            "type": "mesh3d"
           }
          ],
          "parcoords": [
           {
            "line": {
             "colorbar": {
              "outlinewidth": 0,
              "ticks": ""
             }
            },
            "type": "parcoords"
           }
          ],
          "pie": [
           {
            "automargin": true,
            "type": "pie"
           }
          ],
          "scatter": [
           {
            "marker": {
             "colorbar": {
              "outlinewidth": 0,
              "ticks": ""
             }
            },
            "type": "scatter"
           }
          ],
          "scatter3d": [
           {
            "line": {
             "colorbar": {
              "outlinewidth": 0,
              "ticks": ""
             }
            },
            "marker": {
             "colorbar": {
              "outlinewidth": 0,
              "ticks": ""
             }
            },
            "type": "scatter3d"
           }
          ],
          "scattercarpet": [
           {
            "marker": {
             "colorbar": {
              "outlinewidth": 0,
              "ticks": ""
             }
            },
            "type": "scattercarpet"
           }
          ],
          "scattergeo": [
           {
            "marker": {
             "colorbar": {
              "outlinewidth": 0,
              "ticks": ""
             }
            },
            "type": "scattergeo"
           }
          ],
          "scattergl": [
           {
            "marker": {
             "colorbar": {
              "outlinewidth": 0,
              "ticks": ""
             }
            },
            "type": "scattergl"
           }
          ],
          "scattermapbox": [
           {
            "marker": {
             "colorbar": {
              "outlinewidth": 0,
              "ticks": ""
             }
            },
            "type": "scattermapbox"
           }
          ],
          "scatterpolar": [
           {
            "marker": {
             "colorbar": {
              "outlinewidth": 0,
              "ticks": ""
             }
            },
            "type": "scatterpolar"
           }
          ],
          "scatterpolargl": [
           {
            "marker": {
             "colorbar": {
              "outlinewidth": 0,
              "ticks": ""
             }
            },
            "type": "scatterpolargl"
           }
          ],
          "scatterternary": [
           {
            "marker": {
             "colorbar": {
              "outlinewidth": 0,
              "ticks": ""
             }
            },
            "type": "scatterternary"
           }
          ],
          "surface": [
           {
            "colorbar": {
             "outlinewidth": 0,
             "ticks": ""
            },
            "colorscale": [
             [
              0,
              "#0d0887"
             ],
             [
              0.1111111111111111,
              "#46039f"
             ],
             [
              0.2222222222222222,
              "#7201a8"
             ],
             [
              0.3333333333333333,
              "#9c179e"
             ],
             [
              0.4444444444444444,
              "#bd3786"
             ],
             [
              0.5555555555555556,
              "#d8576b"
             ],
             [
              0.6666666666666666,
              "#ed7953"
             ],
             [
              0.7777777777777778,
              "#fb9f3a"
             ],
             [
              0.8888888888888888,
              "#fdca26"
             ],
             [
              1,
              "#f0f921"
             ]
            ],
            "type": "surface"
           }
          ],
          "table": [
           {
            "cells": {
             "fill": {
              "color": "#EBF0F8"
             },
             "line": {
              "color": "white"
             }
            },
            "header": {
             "fill": {
              "color": "#C8D4E3"
             },
             "line": {
              "color": "white"
             }
            },
            "type": "table"
           }
          ]
         },
         "layout": {
          "annotationdefaults": {
           "arrowcolor": "#2a3f5f",
           "arrowhead": 0,
           "arrowwidth": 1
          },
          "autotypenumbers": "strict",
          "coloraxis": {
           "colorbar": {
            "outlinewidth": 0,
            "ticks": ""
           }
          },
          "colorscale": {
           "diverging": [
            [
             0,
             "#8e0152"
            ],
            [
             0.1,
             "#c51b7d"
            ],
            [
             0.2,
             "#de77ae"
            ],
            [
             0.3,
             "#f1b6da"
            ],
            [
             0.4,
             "#fde0ef"
            ],
            [
             0.5,
             "#f7f7f7"
            ],
            [
             0.6,
             "#e6f5d0"
            ],
            [
             0.7,
             "#b8e186"
            ],
            [
             0.8,
             "#7fbc41"
            ],
            [
             0.9,
             "#4d9221"
            ],
            [
             1,
             "#276419"
            ]
           ],
           "sequential": [
            [
             0,
             "#0d0887"
            ],
            [
             0.1111111111111111,
             "#46039f"
            ],
            [
             0.2222222222222222,
             "#7201a8"
            ],
            [
             0.3333333333333333,
             "#9c179e"
            ],
            [
             0.4444444444444444,
             "#bd3786"
            ],
            [
             0.5555555555555556,
             "#d8576b"
            ],
            [
             0.6666666666666666,
             "#ed7953"
            ],
            [
             0.7777777777777778,
             "#fb9f3a"
            ],
            [
             0.8888888888888888,
             "#fdca26"
            ],
            [
             1,
             "#f0f921"
            ]
           ],
           "sequentialminus": [
            [
             0,
             "#0d0887"
            ],
            [
             0.1111111111111111,
             "#46039f"
            ],
            [
             0.2222222222222222,
             "#7201a8"
            ],
            [
             0.3333333333333333,
             "#9c179e"
            ],
            [
             0.4444444444444444,
             "#bd3786"
            ],
            [
             0.5555555555555556,
             "#d8576b"
            ],
            [
             0.6666666666666666,
             "#ed7953"
            ],
            [
             0.7777777777777778,
             "#fb9f3a"
            ],
            [
             0.8888888888888888,
             "#fdca26"
            ],
            [
             1,
             "#f0f921"
            ]
           ]
          },
          "colorway": [
           "#636efa",
           "#EF553B",
           "#00cc96",
           "#ab63fa",
           "#FFA15A",
           "#19d3f3",
           "#FF6692",
           "#B6E880",
           "#FF97FF",
           "#FECB52"
          ],
          "font": {
           "color": "#2a3f5f"
          },
          "geo": {
           "bgcolor": "white",
           "lakecolor": "white",
           "landcolor": "#E5ECF6",
           "showlakes": true,
           "showland": true,
           "subunitcolor": "white"
          },
          "hoverlabel": {
           "align": "left"
          },
          "hovermode": "closest",
          "mapbox": {
           "style": "light"
          },
          "paper_bgcolor": "white",
          "plot_bgcolor": "#E5ECF6",
          "polar": {
           "angularaxis": {
            "gridcolor": "white",
            "linecolor": "white",
            "ticks": ""
           },
           "bgcolor": "#E5ECF6",
           "radialaxis": {
            "gridcolor": "white",
            "linecolor": "white",
            "ticks": ""
           }
          },
          "scene": {
           "xaxis": {
            "backgroundcolor": "#E5ECF6",
            "gridcolor": "white",
            "gridwidth": 2,
            "linecolor": "white",
            "showbackground": true,
            "ticks": "",
            "zerolinecolor": "white"
           },
           "yaxis": {
            "backgroundcolor": "#E5ECF6",
            "gridcolor": "white",
            "gridwidth": 2,
            "linecolor": "white",
            "showbackground": true,
            "ticks": "",
            "zerolinecolor": "white"
           },
           "zaxis": {
            "backgroundcolor": "#E5ECF6",
            "gridcolor": "white",
            "gridwidth": 2,
            "linecolor": "white",
            "showbackground": true,
            "ticks": "",
            "zerolinecolor": "white"
           }
          },
          "shapedefaults": {
           "line": {
            "color": "#2a3f5f"
           }
          },
          "ternary": {
           "aaxis": {
            "gridcolor": "white",
            "linecolor": "white",
            "ticks": ""
           },
           "baxis": {
            "gridcolor": "white",
            "linecolor": "white",
            "ticks": ""
           },
           "bgcolor": "#E5ECF6",
           "caxis": {
            "gridcolor": "white",
            "linecolor": "white",
            "ticks": ""
           }
          },
          "title": {
           "x": 0.05
          },
          "xaxis": {
           "automargin": true,
           "gridcolor": "white",
           "linecolor": "white",
           "ticks": "",
           "title": {
            "standoff": 15
           },
           "zerolinecolor": "white",
           "zerolinewidth": 2
          },
          "yaxis": {
           "automargin": true,
           "gridcolor": "white",
           "linecolor": "white",
           "ticks": "",
           "title": {
            "standoff": 15
           },
           "zerolinecolor": "white",
           "zerolinewidth": 2
          }
         }
        },
        "xaxis": {
         "anchor": "y",
         "domain": [
          0,
          1
         ],
         "title": {
          "text": "Insulin"
         }
        },
        "yaxis": {
         "anchor": "x",
         "domain": [
          0,
          1
         ],
         "title": {
          "text": "count"
         }
        }
       }
      }
     },
     "metadata": {},
     "output_type": "display_data"
    }
   ],
   "source": [
    "px.histogram(df, x='Insulin')"
   ]
  },
  {
   "cell_type": "code",
   "execution_count": 6,
   "metadata": {},
   "outputs": [],
   "source": [
    "df.drop(df[df.Glucose < 20].index, inplace=True)\n",
    "df.drop(df[df.BloodPressure < 15].index, inplace=True)\n",
    "df.drop(df[df.BMI < 10].index, inplace=True)\n"
   ]
  },
  {
   "cell_type": "code",
   "execution_count": 7,
   "metadata": {},
   "outputs": [],
   "source": [
    "media_SkinThickness = df['SkinThickness'].median()\n",
    "media_Insulin = df['Insulin'].median()"
   ]
  },
  {
   "cell_type": "code",
   "execution_count": 8,
   "metadata": {},
   "outputs": [],
   "source": [
    "df['SkinThickness'] = np.where(df['SkinThickness'] < 5, media_SkinThickness, df['SkinThickness'])\n",
    "df['Insulin'] = np.where(df['Insulin'] < 10, media_Insulin, df['Insulin'])"
   ]
  },
  {
   "cell_type": "code",
   "execution_count": 9,
   "metadata": {},
   "outputs": [
    {
     "data": {
      "text/html": [
       "<div><div id=b3d3e903-75b5-4f10-a090-96bc4fd60f19 style=\"display:none; background-color:#9D6CFF; color:white; width:200px; height:30px; padding-left:5px; border-radius:4px; flex-direction:row; justify-content:space-around; align-items:center;\" onmouseover=\"this.style.backgroundColor='#BA9BF8'\" onmouseout=\"this.style.backgroundColor='#9D6CFF'\" onclick=\"window.commands?.execute('create-mitosheet-from-dataframe-output');\">See Full Dataframe in Mito</div> <script> if (window.commands.hasCommand('create-mitosheet-from-dataframe-output')) document.getElementById('b3d3e903-75b5-4f10-a090-96bc4fd60f19').style.display = 'flex' </script> <table border=\"1\" class=\"dataframe\">\n",
       "  <thead>\n",
       "    <tr style=\"text-align: right;\">\n",
       "      <th></th>\n",
       "      <th>Pregnancies</th>\n",
       "      <th>Glucose</th>\n",
       "      <th>BloodPressure</th>\n",
       "      <th>SkinThickness</th>\n",
       "      <th>Insulin</th>\n",
       "      <th>BMI</th>\n",
       "      <th>DiabetesPedigreeFunction</th>\n",
       "      <th>Age</th>\n",
       "      <th>Outcome</th>\n",
       "    </tr>\n",
       "  </thead>\n",
       "  <tbody>\n",
       "    <tr>\n",
       "      <th>0</th>\n",
       "      <td>6</td>\n",
       "      <td>148</td>\n",
       "      <td>72</td>\n",
       "      <td>35.0</td>\n",
       "      <td>48.0</td>\n",
       "      <td>33.6</td>\n",
       "      <td>0.627</td>\n",
       "      <td>50</td>\n",
       "      <td>1</td>\n",
       "    </tr>\n",
       "    <tr>\n",
       "      <th>1</th>\n",
       "      <td>1</td>\n",
       "      <td>85</td>\n",
       "      <td>66</td>\n",
       "      <td>29.0</td>\n",
       "      <td>48.0</td>\n",
       "      <td>26.6</td>\n",
       "      <td>0.351</td>\n",
       "      <td>31</td>\n",
       "      <td>0</td>\n",
       "    </tr>\n",
       "    <tr>\n",
       "      <th>2</th>\n",
       "      <td>8</td>\n",
       "      <td>183</td>\n",
       "      <td>64</td>\n",
       "      <td>24.0</td>\n",
       "      <td>48.0</td>\n",
       "      <td>23.3</td>\n",
       "      <td>0.672</td>\n",
       "      <td>32</td>\n",
       "      <td>1</td>\n",
       "    </tr>\n",
       "    <tr>\n",
       "      <th>3</th>\n",
       "      <td>1</td>\n",
       "      <td>89</td>\n",
       "      <td>66</td>\n",
       "      <td>23.0</td>\n",
       "      <td>94.0</td>\n",
       "      <td>28.1</td>\n",
       "      <td>0.167</td>\n",
       "      <td>21</td>\n",
       "      <td>0</td>\n",
       "    </tr>\n",
       "    <tr>\n",
       "      <th>4</th>\n",
       "      <td>0</td>\n",
       "      <td>137</td>\n",
       "      <td>40</td>\n",
       "      <td>35.0</td>\n",
       "      <td>168.0</td>\n",
       "      <td>43.1</td>\n",
       "      <td>2.288</td>\n",
       "      <td>33</td>\n",
       "      <td>1</td>\n",
       "    </tr>\n",
       "  </tbody>\n",
       "</table></div>"
      ],
      "text/plain": [
       "   Pregnancies  Glucose  BloodPressure  SkinThickness  Insulin   BMI  \\\n",
       "0            6      148             72           35.0     48.0  33.6   \n",
       "1            1       85             66           29.0     48.0  26.6   \n",
       "2            8      183             64           24.0     48.0  23.3   \n",
       "3            1       89             66           23.0     94.0  28.1   \n",
       "4            0      137             40           35.0    168.0  43.1   \n",
       "\n",
       "   DiabetesPedigreeFunction  Age  Outcome  \n",
       "0                     0.627   50        1  \n",
       "1                     0.351   31        0  \n",
       "2                     0.672   32        1  \n",
       "3                     0.167   21        0  \n",
       "4                     2.288   33        1  "
      ]
     },
     "execution_count": 9,
     "metadata": {},
     "output_type": "execute_result"
    }
   ],
   "source": [
    "df.head()"
   ]
  },
  {
   "cell_type": "code",
   "execution_count": 10,
   "metadata": {},
   "outputs": [
    {
     "data": {
      "text/html": [
       "<div><div id=93878537-be6b-4d50-900b-00f812bd939a style=\"display:none; background-color:#9D6CFF; color:white; width:200px; height:30px; padding-left:5px; border-radius:4px; flex-direction:row; justify-content:space-around; align-items:center;\" onmouseover=\"this.style.backgroundColor='#BA9BF8'\" onmouseout=\"this.style.backgroundColor='#9D6CFF'\" onclick=\"window.commands?.execute('create-mitosheet-from-dataframe-output');\">See Full Dataframe in Mito</div> <script> if (window.commands.hasCommand('create-mitosheet-from-dataframe-output')) document.getElementById('93878537-be6b-4d50-900b-00f812bd939a').style.display = 'flex' </script> <table border=\"1\" class=\"dataframe\">\n",
       "  <thead>\n",
       "    <tr style=\"text-align: right;\">\n",
       "      <th></th>\n",
       "      <th>Pregnancies</th>\n",
       "      <th>Glucose</th>\n",
       "      <th>BloodPressure</th>\n",
       "      <th>SkinThickness</th>\n",
       "      <th>Insulin</th>\n",
       "      <th>BMI</th>\n",
       "      <th>DiabetesPedigreeFunction</th>\n",
       "      <th>Age</th>\n",
       "      <th>Outcome</th>\n",
       "    </tr>\n",
       "  </thead>\n",
       "  <tbody>\n",
       "    <tr>\n",
       "      <th>count</th>\n",
       "      <td>724.000000</td>\n",
       "      <td>724.000000</td>\n",
       "      <td>724.000000</td>\n",
       "      <td>724.000000</td>\n",
       "      <td>724.000000</td>\n",
       "      <td>724.000000</td>\n",
       "      <td>724.000000</td>\n",
       "      <td>724.000000</td>\n",
       "      <td>724.000000</td>\n",
       "    </tr>\n",
       "    <tr>\n",
       "      <th>mean</th>\n",
       "      <td>3.866022</td>\n",
       "      <td>121.882597</td>\n",
       "      <td>72.400552</td>\n",
       "      <td>27.808011</td>\n",
       "      <td>106.505525</td>\n",
       "      <td>32.467127</td>\n",
       "      <td>0.474765</td>\n",
       "      <td>33.350829</td>\n",
       "      <td>0.343923</td>\n",
       "    </tr>\n",
       "    <tr>\n",
       "      <th>std</th>\n",
       "      <td>3.362803</td>\n",
       "      <td>30.750030</td>\n",
       "      <td>12.379870</td>\n",
       "      <td>9.304910</td>\n",
       "      <td>102.669035</td>\n",
       "      <td>6.888941</td>\n",
       "      <td>0.332315</td>\n",
       "      <td>11.765393</td>\n",
       "      <td>0.475344</td>\n",
       "    </tr>\n",
       "    <tr>\n",
       "      <th>min</th>\n",
       "      <td>0.000000</td>\n",
       "      <td>44.000000</td>\n",
       "      <td>24.000000</td>\n",
       "      <td>7.000000</td>\n",
       "      <td>14.000000</td>\n",
       "      <td>18.200000</td>\n",
       "      <td>0.078000</td>\n",
       "      <td>21.000000</td>\n",
       "      <td>0.000000</td>\n",
       "    </tr>\n",
       "    <tr>\n",
       "      <th>25%</th>\n",
       "      <td>1.000000</td>\n",
       "      <td>99.750000</td>\n",
       "      <td>64.000000</td>\n",
       "      <td>24.000000</td>\n",
       "      <td>48.000000</td>\n",
       "      <td>27.500000</td>\n",
       "      <td>0.245000</td>\n",
       "      <td>24.000000</td>\n",
       "      <td>0.000000</td>\n",
       "    </tr>\n",
       "    <tr>\n",
       "      <th>50%</th>\n",
       "      <td>3.000000</td>\n",
       "      <td>117.000000</td>\n",
       "      <td>72.000000</td>\n",
       "      <td>24.000000</td>\n",
       "      <td>48.000000</td>\n",
       "      <td>32.400000</td>\n",
       "      <td>0.379000</td>\n",
       "      <td>29.000000</td>\n",
       "      <td>0.000000</td>\n",
       "    </tr>\n",
       "    <tr>\n",
       "      <th>75%</th>\n",
       "      <td>6.000000</td>\n",
       "      <td>142.000000</td>\n",
       "      <td>80.000000</td>\n",
       "      <td>33.000000</td>\n",
       "      <td>130.500000</td>\n",
       "      <td>36.600000</td>\n",
       "      <td>0.627500</td>\n",
       "      <td>41.000000</td>\n",
       "      <td>1.000000</td>\n",
       "    </tr>\n",
       "    <tr>\n",
       "      <th>max</th>\n",
       "      <td>17.000000</td>\n",
       "      <td>199.000000</td>\n",
       "      <td>122.000000</td>\n",
       "      <td>99.000000</td>\n",
       "      <td>846.000000</td>\n",
       "      <td>67.100000</td>\n",
       "      <td>2.420000</td>\n",
       "      <td>81.000000</td>\n",
       "      <td>1.000000</td>\n",
       "    </tr>\n",
       "  </tbody>\n",
       "</table></div>"
      ],
      "text/plain": [
       "       Pregnancies     Glucose  BloodPressure  SkinThickness     Insulin  \\\n",
       "count   724.000000  724.000000     724.000000     724.000000  724.000000   \n",
       "mean      3.866022  121.882597      72.400552      27.808011  106.505525   \n",
       "std       3.362803   30.750030      12.379870       9.304910  102.669035   \n",
       "min       0.000000   44.000000      24.000000       7.000000   14.000000   \n",
       "25%       1.000000   99.750000      64.000000      24.000000   48.000000   \n",
       "50%       3.000000  117.000000      72.000000      24.000000   48.000000   \n",
       "75%       6.000000  142.000000      80.000000      33.000000  130.500000   \n",
       "max      17.000000  199.000000     122.000000      99.000000  846.000000   \n",
       "\n",
       "              BMI  DiabetesPedigreeFunction         Age     Outcome  \n",
       "count  724.000000                724.000000  724.000000  724.000000  \n",
       "mean    32.467127                  0.474765   33.350829    0.343923  \n",
       "std      6.888941                  0.332315   11.765393    0.475344  \n",
       "min     18.200000                  0.078000   21.000000    0.000000  \n",
       "25%     27.500000                  0.245000   24.000000    0.000000  \n",
       "50%     32.400000                  0.379000   29.000000    0.000000  \n",
       "75%     36.600000                  0.627500   41.000000    1.000000  \n",
       "max     67.100000                  2.420000   81.000000    1.000000  "
      ]
     },
     "execution_count": 10,
     "metadata": {},
     "output_type": "execute_result"
    }
   ],
   "source": [
    "df.describe()"
   ]
  },
  {
   "cell_type": "code",
   "execution_count": 11,
   "metadata": {},
   "outputs": [],
   "source": [
    "X = df.get(x_features).values"
   ]
  },
  {
   "cell_type": "code",
   "execution_count": 14,
   "metadata": {},
   "outputs": [],
   "source": [
    "y = df.get('Outcome').values"
   ]
  },
  {
   "cell_type": "code",
   "execution_count": 15,
   "metadata": {},
   "outputs": [],
   "source": [
    "# scaler = MinMaxScaler()\n",
    "# scaler.fit(X)\n",
    "\n",
    "scaler = StandardScaler()\n",
    "X = scaler.fit_transform(X)"
   ]
  },
  {
   "cell_type": "code",
   "execution_count": 16,
   "metadata": {},
   "outputs": [],
   "source": [
    "oversample = imblearn.over_sampling.SMOTE()\n",
    "X, y = oversample.fit_resample(X, y)"
   ]
  },
  {
   "cell_type": "code",
   "execution_count": 17,
   "metadata": {},
   "outputs": [],
   "source": [
    "X_train, X_test, y_train, y_test = train_test_split(X, y, test_size=0.3, random_state=42)"
   ]
  },
  {
   "cell_type": "code",
   "execution_count": 18,
   "metadata": {},
   "outputs": [
    {
     "name": "stdout",
     "output_type": "stream",
     "text": [
      "3.9083640766295247 -1.1504375907546578 0.07898253464349998\n",
      "2.509614347194324 -2.5345158632931484 0.1536377401895916\n",
      "4.009229136559859 -3.9123198942726423 0.017932308398365543\n",
      "7.6563026567296815 -2.237785917071817 0.07038452981344247\n",
      "7.207681489364297 -0.9016299399483081 0.047299332969363304\n",
      "5.030790049373735 -2.0724506758341668 0.07252145954570659\n",
      "5.857633792637364 -1.1947684652291148 0.024453879465476922\n",
      "4.05274292626693 -1.0504848758385672 0.07119062910600284\n"
     ]
    }
   ],
   "source": [
    "for i in range(8):\n",
    "    print(X[:, i].max(), X[:, i].min(), X[:, i].mean())"
   ]
  },
  {
   "cell_type": "code",
   "execution_count": 19,
   "metadata": {},
   "outputs": [
    {
     "data": {
      "text/plain": [
       "8"
      ]
     },
     "execution_count": 19,
     "metadata": {},
     "output_type": "execute_result"
    }
   ],
   "source": [
    "X_train.shape[1]"
   ]
  },
  {
   "cell_type": "code",
   "execution_count": 21,
   "metadata": {},
   "outputs": [
    {
     "data": {
      "text/plain": [
       "(285, 8)"
      ]
     },
     "execution_count": 21,
     "metadata": {},
     "output_type": "execute_result"
    }
   ],
   "source": [
    "X_test.shape"
   ]
  },
  {
   "cell_type": "code",
   "execution_count": 22,
   "metadata": {},
   "outputs": [
    {
     "data": {
      "text/plain": [
       "(665,)"
      ]
     },
     "execution_count": 22,
     "metadata": {},
     "output_type": "execute_result"
    }
   ],
   "source": [
    "y_train.shape"
   ]
  },
  {
   "cell_type": "markdown",
   "metadata": {},
   "source": [
    "# Rede Neural - Modelo"
   ]
  },
  {
   "cell_type": "code",
   "execution_count": 20,
   "metadata": {},
   "outputs": [],
   "source": [
    "model = tf.keras.models.Sequential()\n",
    "model.add(Dense(20, input_dim=X.shape[1], activation='relu'))\n",
    "model.add(Dropout(0.2))\n",
    "model.add(Dense(20, activation='relu'))\n",
    "model.add(Dense(1, activation='sigmoid'))\n",
    "model.compile(loss='binary_crossentropy', optimizer='adam', metrics=['accuracy'])   # loss='mean_squared_error'"
   ]
  },
  {
   "cell_type": "code",
   "execution_count": 28,
   "metadata": {},
   "outputs": [],
   "source": [
    "log_dir = \"logs/fit/\" + datetime.datetime.now().strftime(\"%Y%m%d-%H%M%S\")\n",
    "tensorboard_callback = tf.keras.callbacks.TensorBoard(log_dir=log_dir, \n",
    "                                                      histogram_freq=1,\n",
    "                                                        write_graph=True,\n",
    "                                                        write_images=True,\n",
    "                                                        update_freq='epoch',\n",
    "                                                        profile_batch=2,\n",
    "                                                        embeddings_freq=1)"
   ]
  },
  {
   "cell_type": "code",
   "execution_count": 22,
   "metadata": {},
   "outputs": [
    {
     "data": {
      "text/html": [
       "\n",
       "      <iframe id=\"tensorboard-frame-2c63ed7f7f24cbf8\" width=\"100%\" height=\"800\" frameborder=\"0\">\n",
       "      </iframe>\n",
       "      <script>\n",
       "        (function() {\n",
       "          const frame = document.getElementById(\"tensorboard-frame-2c63ed7f7f24cbf8\");\n",
       "          const url = new URL(\"/\", window.location);\n",
       "          const port = 6006;\n",
       "          if (port) {\n",
       "            url.port = port;\n",
       "          }\n",
       "          frame.src = url;\n",
       "        })();\n",
       "      </script>\n",
       "    "
      ],
      "text/plain": [
       "<IPython.core.display.HTML object>"
      ]
     },
     "metadata": {},
     "output_type": "display_data"
    }
   ],
   "source": [
    "%tensorboard --logdir logs/fit"
   ]
  },
  {
   "cell_type": "code",
   "execution_count": 23,
   "metadata": {},
   "outputs": [],
   "source": [
    "ES = tf.keras.callbacks.EarlyStopping(patience=50)"
   ]
  },
  {
   "cell_type": "code",
   "execution_count": 24,
   "metadata": {},
   "outputs": [
    {
     "name": "stdout",
     "output_type": "stream",
     "text": [
      "Epoch 1/100\n",
      "21/21 [==============================] - 1s 16ms/step - loss: 0.6388 - accuracy: 0.6707 - val_loss: 0.6513 - val_accuracy: 0.6386\n",
      "Epoch 2/100\n",
      "21/21 [==============================] - 0s 4ms/step - loss: 0.5961 - accuracy: 0.7188 - val_loss: 0.6355 - val_accuracy: 0.6526\n",
      "Epoch 3/100\n",
      "21/21 [==============================] - 0s 5ms/step - loss: 0.5714 - accuracy: 0.7429 - val_loss: 0.6232 - val_accuracy: 0.6526\n",
      "Epoch 4/100\n",
      "21/21 [==============================] - 0s 5ms/step - loss: 0.5449 - accuracy: 0.7414 - val_loss: 0.6122 - val_accuracy: 0.6737\n",
      "Epoch 5/100\n",
      "21/21 [==============================] - 0s 5ms/step - loss: 0.5321 - accuracy: 0.7474 - val_loss: 0.6008 - val_accuracy: 0.6632\n",
      "Epoch 6/100\n",
      "21/21 [==============================] - 0s 5ms/step - loss: 0.5090 - accuracy: 0.7549 - val_loss: 0.5950 - val_accuracy: 0.6667\n",
      "Epoch 7/100\n",
      "21/21 [==============================] - 0s 4ms/step - loss: 0.4916 - accuracy: 0.7624 - val_loss: 0.5951 - val_accuracy: 0.6702\n",
      "Epoch 8/100\n",
      "21/21 [==============================] - 0s 5ms/step - loss: 0.4905 - accuracy: 0.7579 - val_loss: 0.5918 - val_accuracy: 0.6667\n",
      "Epoch 9/100\n",
      "21/21 [==============================] - 0s 5ms/step - loss: 0.4745 - accuracy: 0.7744 - val_loss: 0.5896 - val_accuracy: 0.6702\n",
      "Epoch 10/100\n",
      "21/21 [==============================] - 0s 6ms/step - loss: 0.4652 - accuracy: 0.7744 - val_loss: 0.5909 - val_accuracy: 0.6632\n",
      "Epoch 11/100\n",
      "21/21 [==============================] - 0s 5ms/step - loss: 0.4582 - accuracy: 0.7820 - val_loss: 0.5911 - val_accuracy: 0.6667\n",
      "Epoch 12/100\n",
      "21/21 [==============================] - 0s 4ms/step - loss: 0.4451 - accuracy: 0.7774 - val_loss: 0.5891 - val_accuracy: 0.6702\n",
      "Epoch 13/100\n",
      "21/21 [==============================] - 0s 5ms/step - loss: 0.4568 - accuracy: 0.7880 - val_loss: 0.5859 - val_accuracy: 0.6667\n",
      "Epoch 14/100\n",
      "21/21 [==============================] - 0s 5ms/step - loss: 0.4523 - accuracy: 0.7940 - val_loss: 0.5865 - val_accuracy: 0.6772\n",
      "Epoch 15/100\n",
      "21/21 [==============================] - 0s 5ms/step - loss: 0.4523 - accuracy: 0.7910 - val_loss: 0.5801 - val_accuracy: 0.6842\n",
      "Epoch 16/100\n",
      "21/21 [==============================] - 0s 5ms/step - loss: 0.4434 - accuracy: 0.7895 - val_loss: 0.5815 - val_accuracy: 0.6737\n",
      "Epoch 17/100\n",
      "21/21 [==============================] - 0s 5ms/step - loss: 0.4472 - accuracy: 0.7985 - val_loss: 0.5788 - val_accuracy: 0.6772\n",
      "Epoch 18/100\n",
      "21/21 [==============================] - 0s 5ms/step - loss: 0.4191 - accuracy: 0.8015 - val_loss: 0.5817 - val_accuracy: 0.6842\n",
      "Epoch 19/100\n",
      "21/21 [==============================] - 0s 5ms/step - loss: 0.4303 - accuracy: 0.7985 - val_loss: 0.5829 - val_accuracy: 0.6772\n",
      "Epoch 20/100\n",
      "21/21 [==============================] - 0s 5ms/step - loss: 0.4290 - accuracy: 0.8105 - val_loss: 0.5846 - val_accuracy: 0.6737\n",
      "Epoch 21/100\n",
      "21/21 [==============================] - 0s 6ms/step - loss: 0.4258 - accuracy: 0.8120 - val_loss: 0.5785 - val_accuracy: 0.6807\n",
      "Epoch 22/100\n",
      "21/21 [==============================] - 0s 5ms/step - loss: 0.4147 - accuracy: 0.8105 - val_loss: 0.5836 - val_accuracy: 0.6842\n",
      "Epoch 23/100\n",
      "21/21 [==============================] - 0s 7ms/step - loss: 0.4145 - accuracy: 0.8060 - val_loss: 0.5754 - val_accuracy: 0.6912\n",
      "Epoch 24/100\n",
      "21/21 [==============================] - 0s 5ms/step - loss: 0.4178 - accuracy: 0.7970 - val_loss: 0.5841 - val_accuracy: 0.6842\n",
      "Epoch 25/100\n",
      "21/21 [==============================] - 0s 6ms/step - loss: 0.4255 - accuracy: 0.7910 - val_loss: 0.5801 - val_accuracy: 0.6877\n",
      "Epoch 26/100\n",
      "21/21 [==============================] - 0s 5ms/step - loss: 0.4165 - accuracy: 0.8271 - val_loss: 0.5768 - val_accuracy: 0.6877\n",
      "Epoch 27/100\n",
      "21/21 [==============================] - 0s 5ms/step - loss: 0.4052 - accuracy: 0.8195 - val_loss: 0.5760 - val_accuracy: 0.6877\n",
      "Epoch 28/100\n",
      "21/21 [==============================] - 0s 6ms/step - loss: 0.4160 - accuracy: 0.8075 - val_loss: 0.5780 - val_accuracy: 0.6877\n",
      "Epoch 29/100\n",
      "21/21 [==============================] - 0s 5ms/step - loss: 0.4207 - accuracy: 0.8180 - val_loss: 0.5761 - val_accuracy: 0.6877\n",
      "Epoch 30/100\n",
      "21/21 [==============================] - 0s 7ms/step - loss: 0.4147 - accuracy: 0.8165 - val_loss: 0.5790 - val_accuracy: 0.6982\n",
      "Epoch 31/100\n",
      "21/21 [==============================] - 0s 6ms/step - loss: 0.4105 - accuracy: 0.8150 - val_loss: 0.5703 - val_accuracy: 0.6947\n",
      "Epoch 32/100\n",
      "21/21 [==============================] - 0s 6ms/step - loss: 0.4007 - accuracy: 0.8120 - val_loss: 0.5746 - val_accuracy: 0.7123\n",
      "Epoch 33/100\n",
      "21/21 [==============================] - 0s 5ms/step - loss: 0.4127 - accuracy: 0.8226 - val_loss: 0.5704 - val_accuracy: 0.6912\n",
      "Epoch 34/100\n",
      "21/21 [==============================] - 0s 5ms/step - loss: 0.4019 - accuracy: 0.8256 - val_loss: 0.5794 - val_accuracy: 0.7088\n",
      "Epoch 35/100\n",
      "21/21 [==============================] - 0s 4ms/step - loss: 0.4028 - accuracy: 0.8180 - val_loss: 0.5775 - val_accuracy: 0.7053\n",
      "Epoch 36/100\n",
      "21/21 [==============================] - 0s 5ms/step - loss: 0.4054 - accuracy: 0.8286 - val_loss: 0.5804 - val_accuracy: 0.7088\n",
      "Epoch 37/100\n",
      "21/21 [==============================] - 0s 5ms/step - loss: 0.4006 - accuracy: 0.8301 - val_loss: 0.5776 - val_accuracy: 0.7053\n",
      "Epoch 38/100\n",
      "21/21 [==============================] - 0s 5ms/step - loss: 0.3941 - accuracy: 0.8211 - val_loss: 0.5758 - val_accuracy: 0.7158\n",
      "Epoch 39/100\n",
      "21/21 [==============================] - 0s 5ms/step - loss: 0.4120 - accuracy: 0.8180 - val_loss: 0.5738 - val_accuracy: 0.7088\n",
      "Epoch 40/100\n",
      "21/21 [==============================] - 0s 4ms/step - loss: 0.3932 - accuracy: 0.8241 - val_loss: 0.5777 - val_accuracy: 0.7123\n",
      "Epoch 41/100\n",
      "21/21 [==============================] - 0s 4ms/step - loss: 0.3932 - accuracy: 0.8195 - val_loss: 0.5735 - val_accuracy: 0.7088\n",
      "Epoch 42/100\n",
      "21/21 [==============================] - 0s 5ms/step - loss: 0.3879 - accuracy: 0.8286 - val_loss: 0.5752 - val_accuracy: 0.7123\n",
      "Epoch 43/100\n",
      "21/21 [==============================] - 0s 5ms/step - loss: 0.3682 - accuracy: 0.8451 - val_loss: 0.5770 - val_accuracy: 0.7123\n",
      "Epoch 44/100\n",
      "21/21 [==============================] - 0s 4ms/step - loss: 0.3942 - accuracy: 0.8301 - val_loss: 0.5787 - val_accuracy: 0.7123\n",
      "Epoch 45/100\n",
      "21/21 [==============================] - 0s 4ms/step - loss: 0.3797 - accuracy: 0.8316 - val_loss: 0.5733 - val_accuracy: 0.7193\n",
      "Epoch 46/100\n",
      "21/21 [==============================] - 0s 4ms/step - loss: 0.3869 - accuracy: 0.8316 - val_loss: 0.5762 - val_accuracy: 0.7158\n",
      "Epoch 47/100\n",
      "21/21 [==============================] - 0s 5ms/step - loss: 0.3991 - accuracy: 0.8256 - val_loss: 0.5780 - val_accuracy: 0.7158\n",
      "Epoch 48/100\n",
      "21/21 [==============================] - 0s 4ms/step - loss: 0.3899 - accuracy: 0.8361 - val_loss: 0.5814 - val_accuracy: 0.7193\n",
      "Epoch 49/100\n",
      "21/21 [==============================] - 0s 4ms/step - loss: 0.3989 - accuracy: 0.8286 - val_loss: 0.5802 - val_accuracy: 0.7193\n",
      "Epoch 50/100\n",
      "21/21 [==============================] - 0s 5ms/step - loss: 0.3878 - accuracy: 0.8346 - val_loss: 0.5742 - val_accuracy: 0.7228\n",
      "Epoch 51/100\n",
      "21/21 [==============================] - 0s 4ms/step - loss: 0.3820 - accuracy: 0.8361 - val_loss: 0.5761 - val_accuracy: 0.7228\n",
      "Epoch 52/100\n",
      "21/21 [==============================] - 0s 4ms/step - loss: 0.3813 - accuracy: 0.8346 - val_loss: 0.5745 - val_accuracy: 0.7298\n",
      "Epoch 53/100\n",
      "21/21 [==============================] - 0s 4ms/step - loss: 0.3662 - accuracy: 0.8421 - val_loss: 0.5758 - val_accuracy: 0.7228\n",
      "Epoch 54/100\n",
      "21/21 [==============================] - 0s 4ms/step - loss: 0.3781 - accuracy: 0.8406 - val_loss: 0.5805 - val_accuracy: 0.7333\n",
      "Epoch 55/100\n",
      "21/21 [==============================] - 0s 5ms/step - loss: 0.3904 - accuracy: 0.8331 - val_loss: 0.5831 - val_accuracy: 0.7298\n",
      "Epoch 56/100\n",
      "21/21 [==============================] - 0s 4ms/step - loss: 0.3919 - accuracy: 0.8271 - val_loss: 0.5738 - val_accuracy: 0.7333\n",
      "Epoch 57/100\n",
      "21/21 [==============================] - 0s 4ms/step - loss: 0.3788 - accuracy: 0.8421 - val_loss: 0.5870 - val_accuracy: 0.7263\n",
      "Epoch 58/100\n",
      "21/21 [==============================] - 0s 5ms/step - loss: 0.3905 - accuracy: 0.8436 - val_loss: 0.5758 - val_accuracy: 0.7368\n",
      "Epoch 59/100\n",
      "21/21 [==============================] - 0s 6ms/step - loss: 0.3758 - accuracy: 0.8466 - val_loss: 0.5767 - val_accuracy: 0.7333\n",
      "Epoch 60/100\n",
      "21/21 [==============================] - 0s 4ms/step - loss: 0.3759 - accuracy: 0.8436 - val_loss: 0.5756 - val_accuracy: 0.7333\n",
      "Epoch 61/100\n",
      "21/21 [==============================] - 0s 4ms/step - loss: 0.3802 - accuracy: 0.8391 - val_loss: 0.5776 - val_accuracy: 0.7368\n",
      "Epoch 62/100\n",
      "21/21 [==============================] - 0s 5ms/step - loss: 0.3664 - accuracy: 0.8406 - val_loss: 0.5728 - val_accuracy: 0.7333\n",
      "Epoch 63/100\n",
      "21/21 [==============================] - 0s 5ms/step - loss: 0.3697 - accuracy: 0.8481 - val_loss: 0.5777 - val_accuracy: 0.7333\n",
      "Epoch 64/100\n",
      "21/21 [==============================] - 0s 4ms/step - loss: 0.3641 - accuracy: 0.8526 - val_loss: 0.5821 - val_accuracy: 0.7368\n",
      "Epoch 65/100\n",
      "21/21 [==============================] - 0s 4ms/step - loss: 0.3760 - accuracy: 0.8361 - val_loss: 0.5800 - val_accuracy: 0.7368\n",
      "Epoch 66/100\n",
      "21/21 [==============================] - 0s 4ms/step - loss: 0.3781 - accuracy: 0.8316 - val_loss: 0.5756 - val_accuracy: 0.7404\n",
      "Epoch 67/100\n",
      "21/21 [==============================] - 0s 4ms/step - loss: 0.3678 - accuracy: 0.8451 - val_loss: 0.5807 - val_accuracy: 0.7333\n",
      "Epoch 68/100\n",
      "21/21 [==============================] - 0s 3ms/step - loss: 0.3753 - accuracy: 0.8466 - val_loss: 0.5790 - val_accuracy: 0.7439\n",
      "Epoch 69/100\n",
      "21/21 [==============================] - 0s 4ms/step - loss: 0.3757 - accuracy: 0.8331 - val_loss: 0.5818 - val_accuracy: 0.7368\n",
      "Epoch 70/100\n",
      "21/21 [==============================] - 0s 5ms/step - loss: 0.3713 - accuracy: 0.8511 - val_loss: 0.5829 - val_accuracy: 0.7368\n",
      "Epoch 71/100\n",
      "21/21 [==============================] - 0s 5ms/step - loss: 0.3692 - accuracy: 0.8556 - val_loss: 0.5794 - val_accuracy: 0.7404\n",
      "Epoch 72/100\n",
      "21/21 [==============================] - 0s 5ms/step - loss: 0.3799 - accuracy: 0.8376 - val_loss: 0.5783 - val_accuracy: 0.7474\n",
      "Epoch 73/100\n",
      "21/21 [==============================] - 0s 4ms/step - loss: 0.3723 - accuracy: 0.8361 - val_loss: 0.5835 - val_accuracy: 0.7333\n",
      "Epoch 74/100\n",
      "21/21 [==============================] - 0s 5ms/step - loss: 0.3687 - accuracy: 0.8541 - val_loss: 0.5828 - val_accuracy: 0.7404\n",
      "Epoch 75/100\n",
      "21/21 [==============================] - 0s 4ms/step - loss: 0.3616 - accuracy: 0.8391 - val_loss: 0.5818 - val_accuracy: 0.7404\n",
      "Epoch 76/100\n",
      "21/21 [==============================] - 0s 4ms/step - loss: 0.3718 - accuracy: 0.8451 - val_loss: 0.5918 - val_accuracy: 0.7404\n",
      "Epoch 77/100\n",
      "21/21 [==============================] - 0s 5ms/step - loss: 0.3568 - accuracy: 0.8451 - val_loss: 0.5874 - val_accuracy: 0.7368\n",
      "Epoch 78/100\n",
      "21/21 [==============================] - 0s 5ms/step - loss: 0.3739 - accuracy: 0.8421 - val_loss: 0.5839 - val_accuracy: 0.7404\n",
      "Epoch 79/100\n",
      "21/21 [==============================] - 0s 4ms/step - loss: 0.3689 - accuracy: 0.8346 - val_loss: 0.5830 - val_accuracy: 0.7509\n",
      "Epoch 80/100\n",
      "21/21 [==============================] - 0s 4ms/step - loss: 0.3559 - accuracy: 0.8662 - val_loss: 0.5861 - val_accuracy: 0.7509\n",
      "Epoch 81/100\n",
      "21/21 [==============================] - 0s 4ms/step - loss: 0.3520 - accuracy: 0.8647 - val_loss: 0.5867 - val_accuracy: 0.7263\n"
     ]
    }
   ],
   "source": [
    "history = model.fit(X_train, y_train, validation_data=(X_test, y_test), epochs=100, shuffle=True, callbacks=[tensorboard_callback, ES])"
   ]
  },
  {
   "cell_type": "code",
   "execution_count": 25,
   "metadata": {},
   "outputs": [
    {
     "data": {
      "text/plain": [
       "dict_keys(['loss', 'accuracy', 'val_loss', 'val_accuracy'])"
      ]
     },
     "execution_count": 25,
     "metadata": {},
     "output_type": "execute_result"
    }
   ],
   "source": [
    "history.history.keys()"
   ]
  },
  {
   "cell_type": "code",
   "execution_count": 26,
   "metadata": {},
   "outputs": [
    {
     "data": {
      "text/plain": [
       "[0.6706767082214355,\n",
       " 0.718796968460083,\n",
       " 0.7428571581840515,\n",
       " 0.7413533926010132,\n",
       " 0.7473683953285217,\n",
       " 0.7548872232437134,\n",
       " 0.7624059915542603,\n",
       " 0.75789475440979,\n",
       " 0.7744361162185669,\n",
       " 0.7744361162185669,\n",
       " 0.7819548845291138,\n",
       " 0.7774435877799988,\n",
       " 0.7879699468612671,\n",
       " 0.7939849495887756,\n",
       " 0.790977418422699,\n",
       " 0.7894737124443054,\n",
       " 0.7984962463378906,\n",
       " 0.8015037775039673,\n",
       " 0.7984962463378906,\n",
       " 0.8105263113975525,\n",
       " 0.8120300769805908,\n",
       " 0.8105263113975525,\n",
       " 0.8060150146484375,\n",
       " 0.7969924807548523,\n",
       " 0.790977418422699,\n",
       " 0.8270676732063293,\n",
       " 0.8195488452911377,\n",
       " 0.8075187802314758,\n",
       " 0.8180451393127441,\n",
       " 0.8165413737297058,\n",
       " 0.8150376081466675,\n",
       " 0.8120300769805908,\n",
       " 0.8225563764572144,\n",
       " 0.825563907623291,\n",
       " 0.8180451393127441,\n",
       " 0.8285714387893677,\n",
       " 0.830075204372406,\n",
       " 0.821052610874176,\n",
       " 0.8180451393127441,\n",
       " 0.8240601420402527,\n",
       " 0.8195488452911377,\n",
       " 0.8285714387893677,\n",
       " 0.8451128005981445,\n",
       " 0.830075204372406,\n",
       " 0.8315789699554443,\n",
       " 0.8315789699554443,\n",
       " 0.825563907623291,\n",
       " 0.8360902070999146,\n",
       " 0.8285714387893677,\n",
       " 0.8345864415168762,\n",
       " 0.8360902070999146,\n",
       " 0.8345864415168762,\n",
       " 0.8421052694320679,\n",
       " 0.8406015038490295,\n",
       " 0.8330827355384827,\n",
       " 0.8270676732063293,\n",
       " 0.8421052694320679,\n",
       " 0.8436090350151062,\n",
       " 0.8466165661811829,\n",
       " 0.8436090350151062,\n",
       " 0.8390977382659912,\n",
       " 0.8406015038490295,\n",
       " 0.8481202721595764,\n",
       " 0.8526315689086914,\n",
       " 0.8360902070999146,\n",
       " 0.8315789699554443,\n",
       " 0.8451128005981445,\n",
       " 0.8466165661811829,\n",
       " 0.8330827355384827,\n",
       " 0.8511278033256531,\n",
       " 0.8556391000747681,\n",
       " 0.8375939726829529,\n",
       " 0.8360902070999146,\n",
       " 0.8541353344917297,\n",
       " 0.8390977382659912,\n",
       " 0.8451128005981445,\n",
       " 0.8451128005981445,\n",
       " 0.8421052694320679,\n",
       " 0.8345864415168762,\n",
       " 0.8661653995513916,\n",
       " 0.8646616339683533]"
      ]
     },
     "execution_count": 26,
     "metadata": {},
     "output_type": "execute_result"
    }
   ],
   "source": [
    "history.history['accuracy']"
   ]
  },
  {
   "cell_type": "code",
   "execution_count": 27,
   "metadata": {},
   "outputs": [
    {
     "data": {
      "application/vnd.plotly.v1+json": {
       "config": {
        "plotlyServerURL": "https://plot.ly"
       },
       "data": [
        {
         "hovertemplate": "variable=wide_variable_0<br>index=%{x}<br>value=%{y}<extra></extra>",
         "legendgroup": "wide_variable_0",
         "line": {
          "color": "#636efa",
          "dash": "solid"
         },
         "marker": {
          "symbol": "circle"
         },
         "mode": "lines",
         "name": "wide_variable_0",
         "orientation": "v",
         "showlegend": true,
         "type": "scatter",
         "x": [
          0,
          1,
          2,
          3,
          4,
          5,
          6,
          7,
          8,
          9,
          10,
          11,
          12,
          13,
          14,
          15,
          16,
          17,
          18,
          19,
          20,
          21,
          22,
          23,
          24,
          25,
          26,
          27,
          28,
          29,
          30,
          31,
          32,
          33,
          34,
          35,
          36,
          37,
          38,
          39,
          40,
          41,
          42,
          43,
          44,
          45,
          46,
          47,
          48,
          49,
          50,
          51,
          52,
          53,
          54,
          55,
          56,
          57,
          58,
          59,
          60,
          61,
          62,
          63,
          64,
          65,
          66,
          67,
          68,
          69,
          70,
          71,
          72,
          73,
          74,
          75,
          76,
          77,
          78,
          79,
          80
         ],
         "xaxis": "x",
         "y": [
          0.6385964751243591,
          0.6526315808296204,
          0.6526315808296204,
          0.6736842393875122,
          0.6631578803062439,
          0.6666666865348816,
          0.6701754331588745,
          0.6666666865348816,
          0.6701754331588745,
          0.6631578803062439,
          0.6666666865348816,
          0.6701754331588745,
          0.6666666865348816,
          0.6771929860115051,
          0.6842105388641357,
          0.6736842393875122,
          0.6771929860115051,
          0.6842105388641357,
          0.6771929860115051,
          0.6736842393875122,
          0.680701732635498,
          0.6842105388641357,
          0.6912280917167664,
          0.6842105388641357,
          0.6877192854881287,
          0.6877192854881287,
          0.6877192854881287,
          0.6877192854881287,
          0.6877192854881287,
          0.6982455849647522,
          0.6947368383407593,
          0.7122806906700134,
          0.6912280917167664,
          0.7087719440460205,
          0.7052631378173828,
          0.7087719440460205,
          0.7052631378173828,
          0.7157894968986511,
          0.7087719440460205,
          0.7122806906700134,
          0.7087719440460205,
          0.7122806906700134,
          0.7122806906700134,
          0.7122806906700134,
          0.719298243522644,
          0.7157894968986511,
          0.7157894968986511,
          0.719298243522644,
          0.719298243522644,
          0.722806990146637,
          0.722806990146637,
          0.7298245429992676,
          0.722806990146637,
          0.7333333492279053,
          0.7298245429992676,
          0.7333333492279053,
          0.7263157963752747,
          0.7368420958518982,
          0.7333333492279053,
          0.7333333492279053,
          0.7368420958518982,
          0.7333333492279053,
          0.7333333492279053,
          0.7368420958518982,
          0.7368420958518982,
          0.7403509020805359,
          0.7333333492279053,
          0.7438596487045288,
          0.7368420958518982,
          0.7368420958518982,
          0.7403509020805359,
          0.7473683953285217,
          0.7333333492279053,
          0.7403509020805359,
          0.7403509020805359,
          0.7403509020805359,
          0.7368420958518982,
          0.7403509020805359,
          0.7508772015571594,
          0.7508772015571594,
          0.7263157963752747
         ],
         "yaxis": "y"
        },
        {
         "hovertemplate": "variable=wide_variable_1<br>index=%{x}<br>value=%{y}<extra></extra>",
         "legendgroup": "wide_variable_1",
         "line": {
          "color": "#EF553B",
          "dash": "solid"
         },
         "marker": {
          "symbol": "circle"
         },
         "mode": "lines",
         "name": "wide_variable_1",
         "orientation": "v",
         "showlegend": true,
         "type": "scatter",
         "x": [
          0,
          1,
          2,
          3,
          4,
          5,
          6,
          7,
          8,
          9,
          10,
          11,
          12,
          13,
          14,
          15,
          16,
          17,
          18,
          19,
          20,
          21,
          22,
          23,
          24,
          25,
          26,
          27,
          28,
          29,
          30,
          31,
          32,
          33,
          34,
          35,
          36,
          37,
          38,
          39,
          40,
          41,
          42,
          43,
          44,
          45,
          46,
          47,
          48,
          49,
          50,
          51,
          52,
          53,
          54,
          55,
          56,
          57,
          58,
          59,
          60,
          61,
          62,
          63,
          64,
          65,
          66,
          67,
          68,
          69,
          70,
          71,
          72,
          73,
          74,
          75,
          76,
          77,
          78,
          79,
          80
         ],
         "xaxis": "x",
         "y": [
          0.6706767082214355,
          0.718796968460083,
          0.7428571581840515,
          0.7413533926010132,
          0.7473683953285217,
          0.7548872232437134,
          0.7624059915542603,
          0.75789475440979,
          0.7744361162185669,
          0.7744361162185669,
          0.7819548845291138,
          0.7774435877799988,
          0.7879699468612671,
          0.7939849495887756,
          0.790977418422699,
          0.7894737124443054,
          0.7984962463378906,
          0.8015037775039673,
          0.7984962463378906,
          0.8105263113975525,
          0.8120300769805908,
          0.8105263113975525,
          0.8060150146484375,
          0.7969924807548523,
          0.790977418422699,
          0.8270676732063293,
          0.8195488452911377,
          0.8075187802314758,
          0.8180451393127441,
          0.8165413737297058,
          0.8150376081466675,
          0.8120300769805908,
          0.8225563764572144,
          0.825563907623291,
          0.8180451393127441,
          0.8285714387893677,
          0.830075204372406,
          0.821052610874176,
          0.8180451393127441,
          0.8240601420402527,
          0.8195488452911377,
          0.8285714387893677,
          0.8451128005981445,
          0.830075204372406,
          0.8315789699554443,
          0.8315789699554443,
          0.825563907623291,
          0.8360902070999146,
          0.8285714387893677,
          0.8345864415168762,
          0.8360902070999146,
          0.8345864415168762,
          0.8421052694320679,
          0.8406015038490295,
          0.8330827355384827,
          0.8270676732063293,
          0.8421052694320679,
          0.8436090350151062,
          0.8466165661811829,
          0.8436090350151062,
          0.8390977382659912,
          0.8406015038490295,
          0.8481202721595764,
          0.8526315689086914,
          0.8360902070999146,
          0.8315789699554443,
          0.8451128005981445,
          0.8466165661811829,
          0.8330827355384827,
          0.8511278033256531,
          0.8556391000747681,
          0.8375939726829529,
          0.8360902070999146,
          0.8541353344917297,
          0.8390977382659912,
          0.8451128005981445,
          0.8451128005981445,
          0.8421052694320679,
          0.8345864415168762,
          0.8661653995513916,
          0.8646616339683533
         ],
         "yaxis": "y"
        }
       ],
       "layout": {
        "legend": {
         "title": {
          "text": "variable"
         },
         "tracegroupgap": 0
        },
        "margin": {
         "t": 60
        },
        "template": {
         "data": {
          "bar": [
           {
            "error_x": {
             "color": "#2a3f5f"
            },
            "error_y": {
             "color": "#2a3f5f"
            },
            "marker": {
             "line": {
              "color": "#E5ECF6",
              "width": 0.5
             },
             "pattern": {
              "fillmode": "overlay",
              "size": 10,
              "solidity": 0.2
             }
            },
            "type": "bar"
           }
          ],
          "barpolar": [
           {
            "marker": {
             "line": {
              "color": "#E5ECF6",
              "width": 0.5
             },
             "pattern": {
              "fillmode": "overlay",
              "size": 10,
              "solidity": 0.2
             }
            },
            "type": "barpolar"
           }
          ],
          "carpet": [
           {
            "aaxis": {
             "endlinecolor": "#2a3f5f",
             "gridcolor": "white",
             "linecolor": "white",
             "minorgridcolor": "white",
             "startlinecolor": "#2a3f5f"
            },
            "baxis": {
             "endlinecolor": "#2a3f5f",
             "gridcolor": "white",
             "linecolor": "white",
             "minorgridcolor": "white",
             "startlinecolor": "#2a3f5f"
            },
            "type": "carpet"
           }
          ],
          "choropleth": [
           {
            "colorbar": {
             "outlinewidth": 0,
             "ticks": ""
            },
            "type": "choropleth"
           }
          ],
          "contour": [
           {
            "colorbar": {
             "outlinewidth": 0,
             "ticks": ""
            },
            "colorscale": [
             [
              0,
              "#0d0887"
             ],
             [
              0.1111111111111111,
              "#46039f"
             ],
             [
              0.2222222222222222,
              "#7201a8"
             ],
             [
              0.3333333333333333,
              "#9c179e"
             ],
             [
              0.4444444444444444,
              "#bd3786"
             ],
             [
              0.5555555555555556,
              "#d8576b"
             ],
             [
              0.6666666666666666,
              "#ed7953"
             ],
             [
              0.7777777777777778,
              "#fb9f3a"
             ],
             [
              0.8888888888888888,
              "#fdca26"
             ],
             [
              1,
              "#f0f921"
             ]
            ],
            "type": "contour"
           }
          ],
          "contourcarpet": [
           {
            "colorbar": {
             "outlinewidth": 0,
             "ticks": ""
            },
            "type": "contourcarpet"
           }
          ],
          "heatmap": [
           {
            "colorbar": {
             "outlinewidth": 0,
             "ticks": ""
            },
            "colorscale": [
             [
              0,
              "#0d0887"
             ],
             [
              0.1111111111111111,
              "#46039f"
             ],
             [
              0.2222222222222222,
              "#7201a8"
             ],
             [
              0.3333333333333333,
              "#9c179e"
             ],
             [
              0.4444444444444444,
              "#bd3786"
             ],
             [
              0.5555555555555556,
              "#d8576b"
             ],
             [
              0.6666666666666666,
              "#ed7953"
             ],
             [
              0.7777777777777778,
              "#fb9f3a"
             ],
             [
              0.8888888888888888,
              "#fdca26"
             ],
             [
              1,
              "#f0f921"
             ]
            ],
            "type": "heatmap"
           }
          ],
          "heatmapgl": [
           {
            "colorbar": {
             "outlinewidth": 0,
             "ticks": ""
            },
            "colorscale": [
             [
              0,
              "#0d0887"
             ],
             [
              0.1111111111111111,
              "#46039f"
             ],
             [
              0.2222222222222222,
              "#7201a8"
             ],
             [
              0.3333333333333333,
              "#9c179e"
             ],
             [
              0.4444444444444444,
              "#bd3786"
             ],
             [
              0.5555555555555556,
              "#d8576b"
             ],
             [
              0.6666666666666666,
              "#ed7953"
             ],
             [
              0.7777777777777778,
              "#fb9f3a"
             ],
             [
              0.8888888888888888,
              "#fdca26"
             ],
             [
              1,
              "#f0f921"
             ]
            ],
            "type": "heatmapgl"
           }
          ],
          "histogram": [
           {
            "marker": {
             "pattern": {
              "fillmode": "overlay",
              "size": 10,
              "solidity": 0.2
             }
            },
            "type": "histogram"
           }
          ],
          "histogram2d": [
           {
            "colorbar": {
             "outlinewidth": 0,
             "ticks": ""
            },
            "colorscale": [
             [
              0,
              "#0d0887"
             ],
             [
              0.1111111111111111,
              "#46039f"
             ],
             [
              0.2222222222222222,
              "#7201a8"
             ],
             [
              0.3333333333333333,
              "#9c179e"
             ],
             [
              0.4444444444444444,
              "#bd3786"
             ],
             [
              0.5555555555555556,
              "#d8576b"
             ],
             [
              0.6666666666666666,
              "#ed7953"
             ],
             [
              0.7777777777777778,
              "#fb9f3a"
             ],
             [
              0.8888888888888888,
              "#fdca26"
             ],
             [
              1,
              "#f0f921"
             ]
            ],
            "type": "histogram2d"
           }
          ],
          "histogram2dcontour": [
           {
            "colorbar": {
             "outlinewidth": 0,
             "ticks": ""
            },
            "colorscale": [
             [
              0,
              "#0d0887"
             ],
             [
              0.1111111111111111,
              "#46039f"
             ],
             [
              0.2222222222222222,
              "#7201a8"
             ],
             [
              0.3333333333333333,
              "#9c179e"
             ],
             [
              0.4444444444444444,
              "#bd3786"
             ],
             [
              0.5555555555555556,
              "#d8576b"
             ],
             [
              0.6666666666666666,
              "#ed7953"
             ],
             [
              0.7777777777777778,
              "#fb9f3a"
             ],
             [
              0.8888888888888888,
              "#fdca26"
             ],
             [
              1,
              "#f0f921"
             ]
            ],
            "type": "histogram2dcontour"
           }
          ],
          "mesh3d": [
           {
            "colorbar": {
             "outlinewidth": 0,
             "ticks": ""
            },
            "type": "mesh3d"
           }
          ],
          "parcoords": [
           {
            "line": {
             "colorbar": {
              "outlinewidth": 0,
              "ticks": ""
             }
            },
            "type": "parcoords"
           }
          ],
          "pie": [
           {
            "automargin": true,
            "type": "pie"
           }
          ],
          "scatter": [
           {
            "marker": {
             "colorbar": {
              "outlinewidth": 0,
              "ticks": ""
             }
            },
            "type": "scatter"
           }
          ],
          "scatter3d": [
           {
            "line": {
             "colorbar": {
              "outlinewidth": 0,
              "ticks": ""
             }
            },
            "marker": {
             "colorbar": {
              "outlinewidth": 0,
              "ticks": ""
             }
            },
            "type": "scatter3d"
           }
          ],
          "scattercarpet": [
           {
            "marker": {
             "colorbar": {
              "outlinewidth": 0,
              "ticks": ""
             }
            },
            "type": "scattercarpet"
           }
          ],
          "scattergeo": [
           {
            "marker": {
             "colorbar": {
              "outlinewidth": 0,
              "ticks": ""
             }
            },
            "type": "scattergeo"
           }
          ],
          "scattergl": [
           {
            "marker": {
             "colorbar": {
              "outlinewidth": 0,
              "ticks": ""
             }
            },
            "type": "scattergl"
           }
          ],
          "scattermapbox": [
           {
            "marker": {
             "colorbar": {
              "outlinewidth": 0,
              "ticks": ""
             }
            },
            "type": "scattermapbox"
           }
          ],
          "scatterpolar": [
           {
            "marker": {
             "colorbar": {
              "outlinewidth": 0,
              "ticks": ""
             }
            },
            "type": "scatterpolar"
           }
          ],
          "scatterpolargl": [
           {
            "marker": {
             "colorbar": {
              "outlinewidth": 0,
              "ticks": ""
             }
            },
            "type": "scatterpolargl"
           }
          ],
          "scatterternary": [
           {
            "marker": {
             "colorbar": {
              "outlinewidth": 0,
              "ticks": ""
             }
            },
            "type": "scatterternary"
           }
          ],
          "surface": [
           {
            "colorbar": {
             "outlinewidth": 0,
             "ticks": ""
            },
            "colorscale": [
             [
              0,
              "#0d0887"
             ],
             [
              0.1111111111111111,
              "#46039f"
             ],
             [
              0.2222222222222222,
              "#7201a8"
             ],
             [
              0.3333333333333333,
              "#9c179e"
             ],
             [
              0.4444444444444444,
              "#bd3786"
             ],
             [
              0.5555555555555556,
              "#d8576b"
             ],
             [
              0.6666666666666666,
              "#ed7953"
             ],
             [
              0.7777777777777778,
              "#fb9f3a"
             ],
             [
              0.8888888888888888,
              "#fdca26"
             ],
             [
              1,
              "#f0f921"
             ]
            ],
            "type": "surface"
           }
          ],
          "table": [
           {
            "cells": {
             "fill": {
              "color": "#EBF0F8"
             },
             "line": {
              "color": "white"
             }
            },
            "header": {
             "fill": {
              "color": "#C8D4E3"
             },
             "line": {
              "color": "white"
             }
            },
            "type": "table"
           }
          ]
         },
         "layout": {
          "annotationdefaults": {
           "arrowcolor": "#2a3f5f",
           "arrowhead": 0,
           "arrowwidth": 1
          },
          "autotypenumbers": "strict",
          "coloraxis": {
           "colorbar": {
            "outlinewidth": 0,
            "ticks": ""
           }
          },
          "colorscale": {
           "diverging": [
            [
             0,
             "#8e0152"
            ],
            [
             0.1,
             "#c51b7d"
            ],
            [
             0.2,
             "#de77ae"
            ],
            [
             0.3,
             "#f1b6da"
            ],
            [
             0.4,
             "#fde0ef"
            ],
            [
             0.5,
             "#f7f7f7"
            ],
            [
             0.6,
             "#e6f5d0"
            ],
            [
             0.7,
             "#b8e186"
            ],
            [
             0.8,
             "#7fbc41"
            ],
            [
             0.9,
             "#4d9221"
            ],
            [
             1,
             "#276419"
            ]
           ],
           "sequential": [
            [
             0,
             "#0d0887"
            ],
            [
             0.1111111111111111,
             "#46039f"
            ],
            [
             0.2222222222222222,
             "#7201a8"
            ],
            [
             0.3333333333333333,
             "#9c179e"
            ],
            [
             0.4444444444444444,
             "#bd3786"
            ],
            [
             0.5555555555555556,
             "#d8576b"
            ],
            [
             0.6666666666666666,
             "#ed7953"
            ],
            [
             0.7777777777777778,
             "#fb9f3a"
            ],
            [
             0.8888888888888888,
             "#fdca26"
            ],
            [
             1,
             "#f0f921"
            ]
           ],
           "sequentialminus": [
            [
             0,
             "#0d0887"
            ],
            [
             0.1111111111111111,
             "#46039f"
            ],
            [
             0.2222222222222222,
             "#7201a8"
            ],
            [
             0.3333333333333333,
             "#9c179e"
            ],
            [
             0.4444444444444444,
             "#bd3786"
            ],
            [
             0.5555555555555556,
             "#d8576b"
            ],
            [
             0.6666666666666666,
             "#ed7953"
            ],
            [
             0.7777777777777778,
             "#fb9f3a"
            ],
            [
             0.8888888888888888,
             "#fdca26"
            ],
            [
             1,
             "#f0f921"
            ]
           ]
          },
          "colorway": [
           "#636efa",
           "#EF553B",
           "#00cc96",
           "#ab63fa",
           "#FFA15A",
           "#19d3f3",
           "#FF6692",
           "#B6E880",
           "#FF97FF",
           "#FECB52"
          ],
          "font": {
           "color": "#2a3f5f"
          },
          "geo": {
           "bgcolor": "white",
           "lakecolor": "white",
           "landcolor": "#E5ECF6",
           "showlakes": true,
           "showland": true,
           "subunitcolor": "white"
          },
          "hoverlabel": {
           "align": "left"
          },
          "hovermode": "closest",
          "mapbox": {
           "style": "light"
          },
          "paper_bgcolor": "white",
          "plot_bgcolor": "#E5ECF6",
          "polar": {
           "angularaxis": {
            "gridcolor": "white",
            "linecolor": "white",
            "ticks": ""
           },
           "bgcolor": "#E5ECF6",
           "radialaxis": {
            "gridcolor": "white",
            "linecolor": "white",
            "ticks": ""
           }
          },
          "scene": {
           "xaxis": {
            "backgroundcolor": "#E5ECF6",
            "gridcolor": "white",
            "gridwidth": 2,
            "linecolor": "white",
            "showbackground": true,
            "ticks": "",
            "zerolinecolor": "white"
           },
           "yaxis": {
            "backgroundcolor": "#E5ECF6",
            "gridcolor": "white",
            "gridwidth": 2,
            "linecolor": "white",
            "showbackground": true,
            "ticks": "",
            "zerolinecolor": "white"
           },
           "zaxis": {
            "backgroundcolor": "#E5ECF6",
            "gridcolor": "white",
            "gridwidth": 2,
            "linecolor": "white",
            "showbackground": true,
            "ticks": "",
            "zerolinecolor": "white"
           }
          },
          "shapedefaults": {
           "line": {
            "color": "#2a3f5f"
           }
          },
          "ternary": {
           "aaxis": {
            "gridcolor": "white",
            "linecolor": "white",
            "ticks": ""
           },
           "baxis": {
            "gridcolor": "white",
            "linecolor": "white",
            "ticks": ""
           },
           "bgcolor": "#E5ECF6",
           "caxis": {
            "gridcolor": "white",
            "linecolor": "white",
            "ticks": ""
           }
          },
          "title": {
           "x": 0.05
          },
          "xaxis": {
           "automargin": true,
           "gridcolor": "white",
           "linecolor": "white",
           "ticks": "",
           "title": {
            "standoff": 15
           },
           "zerolinecolor": "white",
           "zerolinewidth": 2
          },
          "yaxis": {
           "automargin": true,
           "gridcolor": "white",
           "linecolor": "white",
           "ticks": "",
           "title": {
            "standoff": 15
           },
           "zerolinecolor": "white",
           "zerolinewidth": 2
          }
         }
        },
        "xaxis": {
         "anchor": "y",
         "domain": [
          0,
          1
         ],
         "title": {
          "text": "index"
         }
        },
        "yaxis": {
         "anchor": "x",
         "domain": [
          0,
          1
         ],
         "title": {
          "text": "value"
         }
        }
       }
      }
     },
     "metadata": {},
     "output_type": "display_data"
    }
   ],
   "source": [
    "px.line(y=[history.history['val_accuracy'], history.history['accuracy']])"
   ]
  },
  {
   "cell_type": "code",
   "execution_count": 27,
   "metadata": {},
   "outputs": [
    {
     "name": "stdout",
     "output_type": "stream",
     "text": [
      "9/9 [==============================] - 0s 3ms/step - loss: 0.5879 - accuracy: 0.7123\n"
     ]
    },
    {
     "data": {
      "text/plain": [
       "[0.5879003405570984, 0.7122806906700134]"
      ]
     },
     "execution_count": 27,
     "metadata": {},
     "output_type": "execute_result"
    }
   ],
   "source": [
    "model.evaluate(X_test, y_test)"
   ]
  },
  {
   "cell_type": "code",
   "execution_count": 21,
   "metadata": {},
   "outputs": [
    {
     "name": "stdout",
     "output_type": "stream",
     "text": [
      "Model: \"sequential\"\n",
      "_________________________________________________________________\n",
      "Layer (type)                 Output Shape              Param #   \n",
      "=================================================================\n",
      "dense (Dense)                (None, 20)                180       \n",
      "_________________________________________________________________\n",
      "dense_1 (Dense)              (None, 20)                420       \n",
      "_________________________________________________________________\n",
      "dense_2 (Dense)              (None, 1)                 21        \n",
      "=================================================================\n",
      "Total params: 621\n",
      "Trainable params: 621\n",
      "Non-trainable params: 0\n",
      "_________________________________________________________________\n"
     ]
    }
   ],
   "source": [
    "model.summary()"
   ]
  },
  {
   "cell_type": "code",
   "execution_count": 28,
   "metadata": {},
   "outputs": [],
   "source": [
    "import os\n",
    "os.environ[\"PATH\"] += os.pathsep + 'C:\\\\Program Files\\\\Graphviz\\\\bin'"
   ]
  },
  {
   "cell_type": "code",
   "execution_count": 30,
   "metadata": {},
   "outputs": [
    {
     "data": {
      "image/png": "[encoded data removed]",
      "text/plain": [
       "<IPython.core.display.Image object>"
      ]
     },
     "execution_count": 30,
     "metadata": {},
     "output_type": "execute_result"
    }
   ],
   "source": [
    "plot_model(model, to_file='model.png', show_shapes=True, show_layer_names=True)"
   ]
  },
  {
   "cell_type": "code",
   "execution_count": 61,
   "metadata": {},
   "outputs": [],
   "source": [
    "def build_model(hp):\n",
    "    model = tf.keras.models.Sequential()\n",
    "    model.add(Dense(hp.Int('units1', min_value=5, max_value=50, step=10, default=30), input_dim=X.shape[1], activation='relu'))\n",
    "    model.add(Dropout(hp.Float('dropout1', 0, 0.2, step=0.1, default=0.0)))\n",
    "    model.add(Dense(hp.Int('units2', min_value=5, max_value=50, step=10, default=30), activation='relu'))\n",
    "    model.add(Dropout(hp.Float('dropout2', 0, 0.2, step=0.1, default=0.0)))\n",
    "    model.add(Dense(1, activation='sigmoid'))\n",
    "    model.compile(loss='binary_crossentropy', optimizer='adam', metrics=['accuracy'])   # loss='mean_squared_error'\n",
    "    return model"
   ]
  },
  {
   "cell_type": "code",
   "execution_count": 63,
   "metadata": {},
   "outputs": [],
   "source": [
    "tuner = kt.RandomSearch(\n",
    "    build_model,\n",
    "    objective='val_accuracy',\n",
    "    max_trials=50, \n",
    "    executions_per_trial=4,\n",
    "    directory='bug'\n",
    "    )"
   ]
  },
  {
   "cell_type": "code",
   "execution_count": 64,
   "metadata": {},
   "outputs": [
    {
     "name": "stdout",
     "output_type": "stream",
     "text": [
      "Trial 50 Complete [00h 00m 18s]\n",
      "val_accuracy: 0.7149122655391693\n",
      "\n",
      "Best val_accuracy So Far: 0.7403508722782135\n",
      "Total elapsed time: 00h 14m 59s\n",
      "INFO:tensorflow:Oracle triggered exit\n"
     ]
    }
   ],
   "source": [
    "tuner.search(X_train, y_train,\n",
    "             validation_data = (X_test, y_test),\n",
    "             epochs = 60,\n",
    "             callbacks = [tf.keras.callbacks.EarlyStopping(patience=50)])"
   ]
  },
  {
   "cell_type": "code",
   "execution_count": 66,
   "metadata": {},
   "outputs": [
    {
     "name": "stdout",
     "output_type": "stream",
     "text": [
      "{'units1': 35, 'dropout1': 0.0, 'units2': 45, 'dropout2': 0.1}\n"
     ]
    }
   ],
   "source": [
    "best_model_par = tuner.get_best_hyperparameters(1)[0]\n",
    "print(best_model_par.values)"
   ]
  },
  {
   "cell_type": "code",
   "execution_count": 67,
   "metadata": {},
   "outputs": [],
   "source": [
    "best_model = tuner.get_best_models(num_models=1)"
   ]
  },
  {
   "cell_type": "code",
   "execution_count": 69,
   "metadata": {},
   "outputs": [
    {
     "name": "stdout",
     "output_type": "stream",
     "text": [
      "Model: \"sequential\"\n",
      "_________________________________________________________________\n",
      "Layer (type)                 Output Shape              Param #   \n",
      "=================================================================\n",
      "dense (Dense)                (None, 35)                315       \n",
      "_________________________________________________________________\n",
      "dropout (Dropout)            (None, 35)                0         \n",
      "_________________________________________________________________\n",
      "dense_1 (Dense)              (None, 45)                1620      \n",
      "_________________________________________________________________\n",
      "dropout_1 (Dropout)          (None, 45)                0         \n",
      "_________________________________________________________________\n",
      "dense_2 (Dense)              (None, 1)                 46        \n",
      "=================================================================\n",
      "Total params: 1,981\n",
      "Trainable params: 1,981\n",
      "Non-trainable params: 0\n",
      "_________________________________________________________________\n"
     ]
    }
   ],
   "source": [
    "best_model[0].summary()"
   ]
  },
  {
   "cell_type": "code",
   "execution_count": 70,
   "metadata": {},
   "outputs": [],
   "source": [
    "best_model[0].save('best_model.h5')"
   ]
  },
  {
   "cell_type": "code",
   "execution_count": 73,
   "metadata": {},
   "outputs": [
    {
     "name": "stdout",
     "output_type": "stream",
     "text": [
      "WARNING:tensorflow:Error in loading the saved optimizer state. As a result, your model is starting with a freshly initialized optimizer.\n"
     ]
    }
   ],
   "source": [
    "model = tf.keras.models.load_model('best_model.h5')"
   ]
  },
  {
   "cell_type": "code",
   "execution_count": 74,
   "metadata": {},
   "outputs": [
    {
     "name": "stdout",
     "output_type": "stream",
     "text": [
      "Model: \"sequential\"\n",
      "_________________________________________________________________\n",
      "Layer (type)                 Output Shape              Param #   \n",
      "=================================================================\n",
      "dense (Dense)                (None, 35)                315       \n",
      "_________________________________________________________________\n",
      "dropout (Dropout)            (None, 35)                0         \n",
      "_________________________________________________________________\n",
      "dense_1 (Dense)              (None, 45)                1620      \n",
      "_________________________________________________________________\n",
      "dropout_1 (Dropout)          (None, 45)                0         \n",
      "_________________________________________________________________\n",
      "dense_2 (Dense)              (None, 1)                 46        \n",
      "=================================================================\n",
      "Total params: 1,981\n",
      "Trainable params: 1,981\n",
      "Non-trainable params: 0\n",
      "_________________________________________________________________\n"
     ]
    }
   ],
   "source": [
    "model.summary()"
   ]
  },
  {
   "cell_type": "code",
   "execution_count": null,
   "metadata": {},
   "outputs": [],
   "source": []
  }
 ],
 "metadata": {
  "interpreter": {
   "hash": "5676fd7cf511e6a67c77bbb87c99395988b8c54c013f230c695a767a4944b83e"
  },
  "kernelspec": {
   "display_name": "Python 3.9.7 ('tf')",
   "language": "python",
   "name": "python3"
  },
  "language_info": {
   "codemirror_mode": {
    "name": "ipython",
    "version": 3
   },
   "file_extension": ".py",
   "mimetype": "text/x-python",
   "name": "python",
   "nbconvert_exporter": "python",
   "pygments_lexer": "ipython3",
   "version": "3.9.7"
  },
  "orig_nbformat": 4
 },
 "nbformat": 4,
 "nbformat_minor": 2
}
