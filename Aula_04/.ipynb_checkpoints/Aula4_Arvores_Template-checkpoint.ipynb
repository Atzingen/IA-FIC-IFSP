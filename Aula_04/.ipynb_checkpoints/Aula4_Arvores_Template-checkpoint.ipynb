{
 "cells": [
  {
   "cell_type": "markdown",
   "id": "e335e1fa-fb0e-4d5c-bac5-077173612bd9",
   "metadata": {},
   "source": [
    "# Aula 04 - Arvores de decisão e Randon Forest"
   ]
  },
  {
   "cell_type": "markdown",
   "id": "1f54ac5d-df42-41ae-ada2-ef7868dcac5a",
   "metadata": {},
   "source": [
    "## Objetivos Aula de hoje\n",
    "\n",
    "* Arvore de decisão\n",
    "\n",
    "* Entropia\n",
    "\n",
    "* Visualização dos dados\n",
    "\n",
    "* IRIS\n",
    "\n",
    "* Train test split\n",
    "\n",
    "* Randon Forest"
   ]
  },
  {
   "cell_type": "code",
   "execution_count": 1,
   "id": "0812755f-56db-497a-bc83-fe8ea61be14c",
   "metadata": {},
   "outputs": [],
   "source": [
    "import os, sys\n",
    "import numpy as np\n",
    "import pandas as pd\n",
    "\n",
    "import plotly.express as px\n",
    "import seaborn as sns\n",
    "\n",
    "from sklearn.datasets import load_iris\n",
    "from sklearn.tree import DecisionTreeClassifier\n",
    "from sklearn.ensemble import RandomForestClassifier\n",
    "\n",
    "from sklearn import tree\n",
    "from sklearn import metrics\n",
    "from sklearn.model_selection import train_test_split"
   ]
  },
  {
   "cell_type": "markdown",
   "id": "8f783dc6-b759-4940-b0de-fb91cd66f472",
   "metadata": {},
   "source": [
    "## Árvores de decisão"
   ]
  },
  {
   "cell_type": "code",
   "execution_count": null,
   "id": "d5675687-eeaf-4057-be45-ac5eae592f48",
   "metadata": {},
   "outputs": [],
   "source": []
  },
  {
   "cell_type": "code",
   "execution_count": null,
   "id": "fa2bf8a9-a32f-4e4d-893f-a6046cbfebef",
   "metadata": {},
   "outputs": [],
   "source": []
  },
  {
   "cell_type": "code",
   "execution_count": null,
   "id": "7318d3a3-dff1-4cbc-828f-a60044d9d55b",
   "metadata": {},
   "outputs": [],
   "source": []
  },
  {
   "cell_type": "markdown",
   "id": "d7622a32-250d-446c-8248-913b8aece34f",
   "metadata": {},
   "source": [
    "![Boltzman](https://www.researchgate.net/profile/Bahman-Zohuri/publication/327234817/figure/fig8/AS:726270384025602@1550167761738/Ludwig-Boltzmanns-grave-in-the-Zentralfriedhof-Vienna-Austria-bearing-the-entropy_Q640.jpg)"
   ]
  },
  {
   "cell_type": "markdown",
   "id": "b8a7b0e3-681a-444a-b542-07bf599abfe7",
   "metadata": {},
   "source": [
    "$$ \\Large E = \\sum{-p_i \\cdot log(p)i)} $$\n",
    "\n",
    "...\n",
    "\n",
    "\n",
    "$$ \\Large IG = E(parent) - \\sum{w_i \\cdot E(node)}  $$"
   ]
  },
  {
   "cell_type": "code",
   "execution_count": null,
   "id": "4490e80e-4d3f-4392-9188-a30731972933",
   "metadata": {},
   "outputs": [],
   "source": []
  },
  {
   "cell_type": "code",
   "execution_count": null,
   "id": "552b0ed2-2f7b-4b0d-a944-755f696782ef",
   "metadata": {},
   "outputs": [],
   "source": []
  },
  {
   "cell_type": "markdown",
   "id": "9203ba98-77d8-4b15-bd18-5d58d3146687",
   "metadata": {},
   "source": [
    "## Iris dataset Visualization"
   ]
  },
  {
   "cell_type": "code",
   "execution_count": null,
   "id": "b2eae5a8-5154-482e-8d70-e6b837a87373",
   "metadata": {},
   "outputs": [],
   "source": []
  },
  {
   "cell_type": "code",
   "execution_count": null,
   "id": "cfdf045b-1dc5-4afe-a130-98619586a7a7",
   "metadata": {},
   "outputs": [],
   "source": []
  },
  {
   "cell_type": "code",
   "execution_count": null,
   "id": "10d3f968-8f3e-4a54-931a-7d500b04ed94",
   "metadata": {},
   "outputs": [],
   "source": []
  },
  {
   "cell_type": "code",
   "execution_count": null,
   "id": "4a816180-4a3a-46ff-9061-e91a16373a0f",
   "metadata": {},
   "outputs": [],
   "source": []
  },
  {
   "cell_type": "code",
   "execution_count": null,
   "id": "62f30e5e-e35a-4bb1-937b-80192067a4a7",
   "metadata": {},
   "outputs": [],
   "source": []
  },
  {
   "cell_type": "markdown",
   "id": "1e344377-9ba3-4c1d-aa16-7a73dc28527c",
   "metadata": {},
   "source": [
    "## Arvore de decisão"
   ]
  },
  {
   "cell_type": "code",
   "execution_count": null,
   "id": "0f88f7d2-315b-4dc3-a4d4-7cf2c59c5c46",
   "metadata": {},
   "outputs": [],
   "source": []
  },
  {
   "cell_type": "code",
   "execution_count": null,
   "id": "71b4b7b8-3831-4d84-81c9-568b6223994a",
   "metadata": {},
   "outputs": [],
   "source": []
  },
  {
   "cell_type": "code",
   "execution_count": null,
   "id": "cd122257-9827-4249-bc70-0472a98d0968",
   "metadata": {},
   "outputs": [],
   "source": []
  },
  {
   "cell_type": "code",
   "execution_count": null,
   "id": "9bf0d9c6-4e0f-4b81-9dc7-3b19bbee48c1",
   "metadata": {},
   "outputs": [],
   "source": []
  },
  {
   "cell_type": "markdown",
   "id": "cb7472aa-ec21-41e3-ab61-ea1a6cc24ee4",
   "metadata": {},
   "source": [
    "## Split data"
   ]
  },
  {
   "cell_type": "code",
   "execution_count": null,
   "id": "a0f745bb-67ca-412d-afa2-0a28d1e229f8",
   "metadata": {},
   "outputs": [],
   "source": []
  },
  {
   "cell_type": "code",
   "execution_count": null,
   "id": "f4b2ed11-aa2a-465a-b080-6386605e055d",
   "metadata": {},
   "outputs": [],
   "source": []
  },
  {
   "cell_type": "code",
   "execution_count": null,
   "id": "cbae847c-9f99-4cf4-8ef7-d96a0e7d7b85",
   "metadata": {},
   "outputs": [],
   "source": []
  },
  {
   "cell_type": "code",
   "execution_count": null,
   "id": "ca2ec815-5ac6-44fe-ac88-89ac5f3b1f8c",
   "metadata": {},
   "outputs": [],
   "source": []
  },
  {
   "cell_type": "code",
   "execution_count": null,
   "id": "19ffafc9-2f1e-4d6f-9029-509902fbfec2",
   "metadata": {},
   "outputs": [],
   "source": []
  },
  {
   "cell_type": "markdown",
   "id": "f2e06123-6234-473f-a4d2-811096624744",
   "metadata": {},
   "source": [
    "## Visualização Árvores de decisão"
   ]
  },
  {
   "cell_type": "code",
   "execution_count": null,
   "id": "fc0f5b68-7e57-4abd-9db7-e1c0f7cb3b90",
   "metadata": {},
   "outputs": [],
   "source": []
  },
  {
   "cell_type": "code",
   "execution_count": null,
   "id": "60939645-1985-432d-84a4-09f5c3fb383c",
   "metadata": {},
   "outputs": [],
   "source": []
  },
  {
   "cell_type": "code",
   "execution_count": null,
   "id": "39621b7d-b723-4488-bfa6-c76e06a0f881",
   "metadata": {},
   "outputs": [],
   "source": []
  },
  {
   "cell_type": "markdown",
   "id": "45a6333b-bded-43c7-b1e3-e413bfc506e2",
   "metadata": {},
   "source": [
    "## Randon Forest\n",
    "\n",
    "* Boostrap\n",
    "\n",
    "* menos features por arvore (também random)\n",
    "\n",
    "* Agregação"
   ]
  },
  {
   "cell_type": "code",
   "execution_count": null,
   "id": "31d830eb-3d7c-42db-ba97-c40b644e6721",
   "metadata": {},
   "outputs": [],
   "source": []
  }
 ],
 "metadata": {
  "kernelspec": {
   "display_name": "ml",
   "language": "python",
   "name": "ml"
  },
  "language_info": {
   "codemirror_mode": {
    "name": "ipython",
    "version": 3
   },
   "file_extension": ".py",
   "mimetype": "text/x-python",
   "name": "python",
   "nbconvert_exporter": "python",
   "pygments_lexer": "ipython3",
   "version": "3.9.6"
  }
 },
 "nbformat": 4,
 "nbformat_minor": 5
}
