{
 "cells": [
  {
   "cell_type": "markdown",
   "id": "e335e1fa-fb0e-4d5c-bac5-077173612bd9",
   "metadata": {},
   "source": [
    "# Aula 04 - Arvores de decisão e Randon Forest"
   ]
  },
  {
   "cell_type": "markdown",
   "id": "1f54ac5d-df42-41ae-ada2-ef7868dcac5a",
   "metadata": {},
   "source": [
    "## Objetivos Aula de hoje\n",
    "\n",
    "* Arvore de decisão\n",
    "\n",
    "* Entropia\n",
    "\n",
    "* Visualização dos dados\n",
    "\n",
    "* IRIS\n",
    "\n",
    "* Train test split\n",
    "\n",
    "* Randon Forest\n",
    "\n",
    "* Atividade 1"
   ]
  },
  {
   "cell_type": "code",
   "execution_count": 1,
   "id": "0812755f-56db-497a-bc83-fe8ea61be14c",
   "metadata": {},
   "outputs": [],
   "source": [
    "import os, sys\n",
    "import numpy as np\n",
    "import pandas as pd\n",
    "\n",
    "import plotly.express as px\n",
    "import seaborn as sns\n",
    "\n",
    "from sklearn.datasets import load_iris\n",
    "from sklearn.tree import DecisionTreeClassifier\n",
    "from sklearn.ensemble import RandomForestClassifier\n",
    "\n",
    "from sklearn import tree\n",
    "from sklearn import metrics\n",
    "from sklearn.model_selection import train_test_split"
   ]
  },
  {
   "cell_type": "markdown",
   "id": "8f783dc6-b759-4940-b0de-fb91cd66f472",
   "metadata": {},
   "source": [
    "## Árvores de decisão"
   ]
  },
  {
   "cell_type": "code",
   "execution_count": 2,
   "id": "d5675687-eeaf-4057-be45-ac5eae592f48",
   "metadata": {},
   "outputs": [],
   "source": [
    "n = 40\n",
    "x = 2*np.random.rand(n) - 1\n",
    "y = 2*np.random.rand(n) - 1\n",
    "z = np.zeros([n])"
   ]
  },
  {
   "cell_type": "code",
   "execution_count": 3,
   "id": "9b2bdec5-c35d-4103-89da-fd5a1700791b",
   "metadata": {},
   "outputs": [],
   "source": [
    "for i in range(n):\n",
    "    if x[i] > -0.5 and x[i] < 0.5 and y[i] > -0.5 and y[i] < 0.5:\n",
    "        z[i] = 1      "
   ]
  },
  {
   "cell_type": "code",
   "execution_count": 4,
   "id": "fa2bf8a9-a32f-4e4d-893f-a6046cbfebef",
   "metadata": {},
   "outputs": [
    {
     "data": {
      "application/vnd.plotly.v1+json": {
       "config": {
        "plotlyServerURL": "https://plot.ly"
       },
       "data": [
        {
         "hovertemplate": "x=%{x}<br>y=%{y}<br>size=%{marker.size}<br>color=%{marker.color}<extra></extra>",
         "legendgroup": "",
         "marker": {
          "color": [
           0,
           0,
           0,
           0,
           0,
           0,
           0,
           1,
           0,
           1,
           0,
           0,
           1,
           0,
           0,
           0,
           0,
           0,
           0,
           0,
           0,
           0,
           0,
           0,
           0,
           0,
           0,
           0,
           0,
           0,
           0,
           0,
           0,
           0,
           0,
           0,
           0,
           0,
           0,
           0
          ],
          "coloraxis": "coloraxis",
          "size": [
           4.832185637178958,
           3.362436417601601,
           3.4935910024901107,
           3.3168092115434864,
           3.831124255483443,
           4.650949799102946,
           4.208641767460469,
           3.91833566153346,
           3.1840868160940543,
           4.461826619315911,
           4.997709339649677,
           4.9130990860736325,
           4.170374764642767,
           4.895962179240571,
           3.549328403835932,
           4.702930349391953,
           3.397527065266403,
           4.442596707972555,
           4.821655390581098,
           4.934934921847311,
           4.098963049380618,
           3.1948033852833437,
           4.872142158768609,
           3.00556461540078,
           4.939230307287882,
           3.055067109485785,
           3.8051833487545204,
           3.021794217343045,
           4.694720638510897,
           4.135739994064399,
           3.1653181167442797,
           3.344443225695792,
           3.881839635212884,
           3.9072346426989606,
           3.2868057371637134,
           4.863969401042583,
           3.098467550950531,
           4.99924998952459,
           3.3865682638345196,
           4.910104321209405
          ],
          "sizemode": "area",
          "sizeref": 0.012498124973811475,
          "symbol": "circle"
         },
         "mode": "markers",
         "name": "",
         "orientation": "v",
         "showlegend": false,
         "type": "scatter",
         "x": [
          -0.39338787193210756,
          -0.12573693177079304,
          0.4866780638990511,
          0.0913366623607117,
          -0.8064599711576945,
          -0.10638432306357393,
          0.5446746537542848,
          -0.367415049123786,
          -0.8431643204613237,
          0.007455351022962464,
          -0.3302738413344444,
          0.9969402166524459,
          -0.24082169997787095,
          -0.17618543100303796,
          -0.5412246721815306,
          -0.5043688894118783,
          -0.4526164764720322,
          0.6387464122256024,
          0.644612272309629,
          -0.4691808440853884,
          -0.8285871626687153,
          0.4028497843934411,
          -0.9422986997155216,
          0.4379904164469557,
          0.5820162965237525,
          -0.5608325284325779,
          0.8339718649082417,
          -0.13641053701558836,
          0.36380002976926784,
          0.8041548282350237,
          -0.626806190387984,
          0.642003419438119,
          -0.5687371913746286,
          -0.6204707162790388,
          -0.03276813730639816,
          -0.8780357178544267,
          -0.6354167262397017,
          0.09485610506397846,
          0.8285067936629622,
          -0.2739175297852541
         ],
         "xaxis": "x",
         "y": [
          0.8321856371789582,
          -0.6375635823983987,
          -0.5064089975098891,
          -0.6831907884565136,
          -0.16887574451655718,
          0.6509497991029458,
          0.20864176746046903,
          -0.08166433846653987,
          -0.8159131839059455,
          0.46182661931591085,
          0.997709339649677,
          0.9130990860736323,
          0.17037476464276669,
          0.8959621792405708,
          -0.4506715961640684,
          0.702930349391953,
          -0.6024729347335969,
          0.442596707972555,
          0.8216553905810979,
          0.9349349218473109,
          0.0989630493806184,
          -0.8051966147166563,
          0.8721421587686093,
          -0.9944353845992202,
          0.9392303072878814,
          -0.9449328905142151,
          -0.19481665124547964,
          -0.9782057826569548,
          0.6947206385108966,
          0.13573999406439863,
          -0.8346818832557203,
          -0.6555567743042079,
          -0.11816036478711611,
          -0.09276535730103919,
          -0.7131942628362866,
          0.8639694010425831,
          -0.9015324490494694,
          0.9992499895245903,
          -0.6134317361654804,
          0.9101043212094051
         ],
         "yaxis": "y"
        }
       ],
       "layout": {
        "coloraxis": {
         "colorbar": {
          "title": {
           "text": "color"
          }
         },
         "colorscale": [
          [
           0,
           "#0d0887"
          ],
          [
           0.1111111111111111,
           "#46039f"
          ],
          [
           0.2222222222222222,
           "#7201a8"
          ],
          [
           0.3333333333333333,
           "#9c179e"
          ],
          [
           0.4444444444444444,
           "#bd3786"
          ],
          [
           0.5555555555555556,
           "#d8576b"
          ],
          [
           0.6666666666666666,
           "#ed7953"
          ],
          [
           0.7777777777777778,
           "#fb9f3a"
          ],
          [
           0.8888888888888888,
           "#fdca26"
          ],
          [
           1,
           "#f0f921"
          ]
         ]
        },
        "height": 800,
        "legend": {
         "itemsizing": "constant",
         "tracegroupgap": 0
        },
        "margin": {
         "t": 60
        },
        "template": {
         "data": {
          "bar": [
           {
            "error_x": {
             "color": "#2a3f5f"
            },
            "error_y": {
             "color": "#2a3f5f"
            },
            "marker": {
             "line": {
              "color": "#E5ECF6",
              "width": 0.5
             },
             "pattern": {
              "fillmode": "overlay",
              "size": 10,
              "solidity": 0.2
             }
            },
            "type": "bar"
           }
          ],
          "barpolar": [
           {
            "marker": {
             "line": {
              "color": "#E5ECF6",
              "width": 0.5
             },
             "pattern": {
              "fillmode": "overlay",
              "size": 10,
              "solidity": 0.2
             }
            },
            "type": "barpolar"
           }
          ],
          "carpet": [
           {
            "aaxis": {
             "endlinecolor": "#2a3f5f",
             "gridcolor": "white",
             "linecolor": "white",
             "minorgridcolor": "white",
             "startlinecolor": "#2a3f5f"
            },
            "baxis": {
             "endlinecolor": "#2a3f5f",
             "gridcolor": "white",
             "linecolor": "white",
             "minorgridcolor": "white",
             "startlinecolor": "#2a3f5f"
            },
            "type": "carpet"
           }
          ],
          "choropleth": [
           {
            "colorbar": {
             "outlinewidth": 0,
             "ticks": ""
            },
            "type": "choropleth"
           }
          ],
          "contour": [
           {
            "colorbar": {
             "outlinewidth": 0,
             "ticks": ""
            },
            "colorscale": [
             [
              0,
              "#0d0887"
             ],
             [
              0.1111111111111111,
              "#46039f"
             ],
             [
              0.2222222222222222,
              "#7201a8"
             ],
             [
              0.3333333333333333,
              "#9c179e"
             ],
             [
              0.4444444444444444,
              "#bd3786"
             ],
             [
              0.5555555555555556,
              "#d8576b"
             ],
             [
              0.6666666666666666,
              "#ed7953"
             ],
             [
              0.7777777777777778,
              "#fb9f3a"
             ],
             [
              0.8888888888888888,
              "#fdca26"
             ],
             [
              1,
              "#f0f921"
             ]
            ],
            "type": "contour"
           }
          ],
          "contourcarpet": [
           {
            "colorbar": {
             "outlinewidth": 0,
             "ticks": ""
            },
            "type": "contourcarpet"
           }
          ],
          "heatmap": [
           {
            "colorbar": {
             "outlinewidth": 0,
             "ticks": ""
            },
            "colorscale": [
             [
              0,
              "#0d0887"
             ],
             [
              0.1111111111111111,
              "#46039f"
             ],
             [
              0.2222222222222222,
              "#7201a8"
             ],
             [
              0.3333333333333333,
              "#9c179e"
             ],
             [
              0.4444444444444444,
              "#bd3786"
             ],
             [
              0.5555555555555556,
              "#d8576b"
             ],
             [
              0.6666666666666666,
              "#ed7953"
             ],
             [
              0.7777777777777778,
              "#fb9f3a"
             ],
             [
              0.8888888888888888,
              "#fdca26"
             ],
             [
              1,
              "#f0f921"
             ]
            ],
            "type": "heatmap"
           }
          ],
          "heatmapgl": [
           {
            "colorbar": {
             "outlinewidth": 0,
             "ticks": ""
            },
            "colorscale": [
             [
              0,
              "#0d0887"
             ],
             [
              0.1111111111111111,
              "#46039f"
             ],
             [
              0.2222222222222222,
              "#7201a8"
             ],
             [
              0.3333333333333333,
              "#9c179e"
             ],
             [
              0.4444444444444444,
              "#bd3786"
             ],
             [
              0.5555555555555556,
              "#d8576b"
             ],
             [
              0.6666666666666666,
              "#ed7953"
             ],
             [
              0.7777777777777778,
              "#fb9f3a"
             ],
             [
              0.8888888888888888,
              "#fdca26"
             ],
             [
              1,
              "#f0f921"
             ]
            ],
            "type": "heatmapgl"
           }
          ],
          "histogram": [
           {
            "marker": {
             "pattern": {
              "fillmode": "overlay",
              "size": 10,
              "solidity": 0.2
             }
            },
            "type": "histogram"
           }
          ],
          "histogram2d": [
           {
            "colorbar": {
             "outlinewidth": 0,
             "ticks": ""
            },
            "colorscale": [
             [
              0,
              "#0d0887"
             ],
             [
              0.1111111111111111,
              "#46039f"
             ],
             [
              0.2222222222222222,
              "#7201a8"
             ],
             [
              0.3333333333333333,
              "#9c179e"
             ],
             [
              0.4444444444444444,
              "#bd3786"
             ],
             [
              0.5555555555555556,
              "#d8576b"
             ],
             [
              0.6666666666666666,
              "#ed7953"
             ],
             [
              0.7777777777777778,
              "#fb9f3a"
             ],
             [
              0.8888888888888888,
              "#fdca26"
             ],
             [
              1,
              "#f0f921"
             ]
            ],
            "type": "histogram2d"
           }
          ],
          "histogram2dcontour": [
           {
            "colorbar": {
             "outlinewidth": 0,
             "ticks": ""
            },
            "colorscale": [
             [
              0,
              "#0d0887"
             ],
             [
              0.1111111111111111,
              "#46039f"
             ],
             [
              0.2222222222222222,
              "#7201a8"
             ],
             [
              0.3333333333333333,
              "#9c179e"
             ],
             [
              0.4444444444444444,
              "#bd3786"
             ],
             [
              0.5555555555555556,
              "#d8576b"
             ],
             [
              0.6666666666666666,
              "#ed7953"
             ],
             [
              0.7777777777777778,
              "#fb9f3a"
             ],
             [
              0.8888888888888888,
              "#fdca26"
             ],
             [
              1,
              "#f0f921"
             ]
            ],
            "type": "histogram2dcontour"
           }
          ],
          "mesh3d": [
           {
            "colorbar": {
             "outlinewidth": 0,
             "ticks": ""
            },
            "type": "mesh3d"
           }
          ],
          "parcoords": [
           {
            "line": {
             "colorbar": {
              "outlinewidth": 0,
              "ticks": ""
             }
            },
            "type": "parcoords"
           }
          ],
          "pie": [
           {
            "automargin": true,
            "type": "pie"
           }
          ],
          "scatter": [
           {
            "marker": {
             "colorbar": {
              "outlinewidth": 0,
              "ticks": ""
             }
            },
            "type": "scatter"
           }
          ],
          "scatter3d": [
           {
            "line": {
             "colorbar": {
              "outlinewidth": 0,
              "ticks": ""
             }
            },
            "marker": {
             "colorbar": {
              "outlinewidth": 0,
              "ticks": ""
             }
            },
            "type": "scatter3d"
           }
          ],
          "scattercarpet": [
           {
            "marker": {
             "colorbar": {
              "outlinewidth": 0,
              "ticks": ""
             }
            },
            "type": "scattercarpet"
           }
          ],
          "scattergeo": [
           {
            "marker": {
             "colorbar": {
              "outlinewidth": 0,
              "ticks": ""
             }
            },
            "type": "scattergeo"
           }
          ],
          "scattergl": [
           {
            "marker": {
             "colorbar": {
              "outlinewidth": 0,
              "ticks": ""
             }
            },
            "type": "scattergl"
           }
          ],
          "scattermapbox": [
           {
            "marker": {
             "colorbar": {
              "outlinewidth": 0,
              "ticks": ""
             }
            },
            "type": "scattermapbox"
           }
          ],
          "scatterpolar": [
           {
            "marker": {
             "colorbar": {
              "outlinewidth": 0,
              "ticks": ""
             }
            },
            "type": "scatterpolar"
           }
          ],
          "scatterpolargl": [
           {
            "marker": {
             "colorbar": {
              "outlinewidth": 0,
              "ticks": ""
             }
            },
            "type": "scatterpolargl"
           }
          ],
          "scatterternary": [
           {
            "marker": {
             "colorbar": {
              "outlinewidth": 0,
              "ticks": ""
             }
            },
            "type": "scatterternary"
           }
          ],
          "surface": [
           {
            "colorbar": {
             "outlinewidth": 0,
             "ticks": ""
            },
            "colorscale": [
             [
              0,
              "#0d0887"
             ],
             [
              0.1111111111111111,
              "#46039f"
             ],
             [
              0.2222222222222222,
              "#7201a8"
             ],
             [
              0.3333333333333333,
              "#9c179e"
             ],
             [
              0.4444444444444444,
              "#bd3786"
             ],
             [
              0.5555555555555556,
              "#d8576b"
             ],
             [
              0.6666666666666666,
              "#ed7953"
             ],
             [
              0.7777777777777778,
              "#fb9f3a"
             ],
             [
              0.8888888888888888,
              "#fdca26"
             ],
             [
              1,
              "#f0f921"
             ]
            ],
            "type": "surface"
           }
          ],
          "table": [
           {
            "cells": {
             "fill": {
              "color": "#EBF0F8"
             },
             "line": {
              "color": "white"
             }
            },
            "header": {
             "fill": {
              "color": "#C8D4E3"
             },
             "line": {
              "color": "white"
             }
            },
            "type": "table"
           }
          ]
         },
         "layout": {
          "annotationdefaults": {
           "arrowcolor": "#2a3f5f",
           "arrowhead": 0,
           "arrowwidth": 1
          },
          "autotypenumbers": "strict",
          "coloraxis": {
           "colorbar": {
            "outlinewidth": 0,
            "ticks": ""
           }
          },
          "colorscale": {
           "diverging": [
            [
             0,
             "#8e0152"
            ],
            [
             0.1,
             "#c51b7d"
            ],
            [
             0.2,
             "#de77ae"
            ],
            [
             0.3,
             "#f1b6da"
            ],
            [
             0.4,
             "#fde0ef"
            ],
            [
             0.5,
             "#f7f7f7"
            ],
            [
             0.6,
             "#e6f5d0"
            ],
            [
             0.7,
             "#b8e186"
            ],
            [
             0.8,
             "#7fbc41"
            ],
            [
             0.9,
             "#4d9221"
            ],
            [
             1,
             "#276419"
            ]
           ],
           "sequential": [
            [
             0,
             "#0d0887"
            ],
            [
             0.1111111111111111,
             "#46039f"
            ],
            [
             0.2222222222222222,
             "#7201a8"
            ],
            [
             0.3333333333333333,
             "#9c179e"
            ],
            [
             0.4444444444444444,
             "#bd3786"
            ],
            [
             0.5555555555555556,
             "#d8576b"
            ],
            [
             0.6666666666666666,
             "#ed7953"
            ],
            [
             0.7777777777777778,
             "#fb9f3a"
            ],
            [
             0.8888888888888888,
             "#fdca26"
            ],
            [
             1,
             "#f0f921"
            ]
           ],
           "sequentialminus": [
            [
             0,
             "#0d0887"
            ],
            [
             0.1111111111111111,
             "#46039f"
            ],
            [
             0.2222222222222222,
             "#7201a8"
            ],
            [
             0.3333333333333333,
             "#9c179e"
            ],
            [
             0.4444444444444444,
             "#bd3786"
            ],
            [
             0.5555555555555556,
             "#d8576b"
            ],
            [
             0.6666666666666666,
             "#ed7953"
            ],
            [
             0.7777777777777778,
             "#fb9f3a"
            ],
            [
             0.8888888888888888,
             "#fdca26"
            ],
            [
             1,
             "#f0f921"
            ]
           ]
          },
          "colorway": [
           "#636efa",
           "#EF553B",
           "#00cc96",
           "#ab63fa",
           "#FFA15A",
           "#19d3f3",
           "#FF6692",
           "#B6E880",
           "#FF97FF",
           "#FECB52"
          ],
          "font": {
           "color": "#2a3f5f"
          },
          "geo": {
           "bgcolor": "white",
           "lakecolor": "white",
           "landcolor": "#E5ECF6",
           "showlakes": true,
           "showland": true,
           "subunitcolor": "white"
          },
          "hoverlabel": {
           "align": "left"
          },
          "hovermode": "closest",
          "mapbox": {
           "style": "light"
          },
          "paper_bgcolor": "white",
          "plot_bgcolor": "#E5ECF6",
          "polar": {
           "angularaxis": {
            "gridcolor": "white",
            "linecolor": "white",
            "ticks": ""
           },
           "bgcolor": "#E5ECF6",
           "radialaxis": {
            "gridcolor": "white",
            "linecolor": "white",
            "ticks": ""
           }
          },
          "scene": {
           "xaxis": {
            "backgroundcolor": "#E5ECF6",
            "gridcolor": "white",
            "gridwidth": 2,
            "linecolor": "white",
            "showbackground": true,
            "ticks": "",
            "zerolinecolor": "white"
           },
           "yaxis": {
            "backgroundcolor": "#E5ECF6",
            "gridcolor": "white",
            "gridwidth": 2,
            "linecolor": "white",
            "showbackground": true,
            "ticks": "",
            "zerolinecolor": "white"
           },
           "zaxis": {
            "backgroundcolor": "#E5ECF6",
            "gridcolor": "white",
            "gridwidth": 2,
            "linecolor": "white",
            "showbackground": true,
            "ticks": "",
            "zerolinecolor": "white"
           }
          },
          "shapedefaults": {
           "line": {
            "color": "#2a3f5f"
           }
          },
          "ternary": {
           "aaxis": {
            "gridcolor": "white",
            "linecolor": "white",
            "ticks": ""
           },
           "baxis": {
            "gridcolor": "white",
            "linecolor": "white",
            "ticks": ""
           },
           "bgcolor": "#E5ECF6",
           "caxis": {
            "gridcolor": "white",
            "linecolor": "white",
            "ticks": ""
           }
          },
          "title": {
           "x": 0.05
          },
          "xaxis": {
           "automargin": true,
           "gridcolor": "white",
           "linecolor": "white",
           "ticks": "",
           "title": {
            "standoff": 15
           },
           "zerolinecolor": "white",
           "zerolinewidth": 2
          },
          "yaxis": {
           "automargin": true,
           "gridcolor": "white",
           "linecolor": "white",
           "ticks": "",
           "title": {
            "standoff": 15
           },
           "zerolinecolor": "white",
           "zerolinewidth": 2
          }
         }
        },
        "xaxis": {
         "anchor": "y",
         "domain": [
          0,
          1
         ],
         "title": {
          "text": "x"
         }
        },
        "yaxis": {
         "anchor": "x",
         "domain": [
          0,
          1
         ],
         "title": {
          "text": "y"
         }
        }
       }
      }
     },
     "metadata": {},
     "output_type": "display_data"
    }
   ],
   "source": [
    "px.scatter(x=x, y=y, color=z, height=800, size=y+4)"
   ]
  },
  {
   "cell_type": "code",
   "execution_count": 5,
   "id": "7318d3a3-dff1-4cbc-828f-a60044d9d55b",
   "metadata": {},
   "outputs": [
    {
     "data": {
      "text/plain": [
       "0.2"
      ]
     },
     "execution_count": 5,
     "metadata": {},
     "output_type": "execute_result"
    }
   ],
   "source": [
    "8/40"
   ]
  },
  {
   "cell_type": "code",
   "execution_count": 6,
   "id": "696ae228-c8ff-4bc0-9fff-6b5d3bfd2389",
   "metadata": {},
   "outputs": [
    {
     "data": {
      "text/plain": [
       "-0.46438561897747244"
      ]
     },
     "execution_count": 6,
     "metadata": {},
     "output_type": "execute_result"
    }
   ],
   "source": [
    "0.2*np.log2(0.2)"
   ]
  },
  {
   "cell_type": "code",
   "execution_count": 7,
   "id": "71774c9e-7898-4597-a0b0-7381750ef080",
   "metadata": {},
   "outputs": [
    {
     "data": {
      "text/plain": [
       "-0.2575424759098898"
      ]
     },
     "execution_count": 7,
     "metadata": {},
     "output_type": "execute_result"
    }
   ],
   "source": [
    "0.8*np.log2(0.8)"
   ]
  },
  {
   "cell_type": "code",
   "execution_count": 8,
   "id": "61d5cca0-accd-4393-9955-3338af2571aa",
   "metadata": {},
   "outputs": [
    {
     "data": {
      "text/plain": [
       "-0.7219280948873623"
      ]
     },
     "execution_count": 8,
     "metadata": {},
     "output_type": "execute_result"
    }
   ],
   "source": [
    "0.8*np.log2(0.8) + 0.2*np.log2(0.2)"
   ]
  },
  {
   "cell_type": "code",
   "execution_count": 9,
   "id": "6cbd09e6-473c-422a-8b9a-99e55c487a27",
   "metadata": {},
   "outputs": [
    {
     "data": {
      "text/plain": [
       "0.9230769230769231"
      ]
     },
     "execution_count": 9,
     "metadata": {},
     "output_type": "execute_result"
    }
   ],
   "source": [
    "12/13"
   ]
  },
  {
   "cell_type": "code",
   "execution_count": 10,
   "id": "4d01af5f-156f-455a-860f-f53300213b92",
   "metadata": {},
   "outputs": [
    {
     "data": {
      "text/plain": [
       "0.07692307692307693"
      ]
     },
     "execution_count": 10,
     "metadata": {},
     "output_type": "execute_result"
    }
   ],
   "source": [
    "1/13"
   ]
  },
  {
   "cell_type": "code",
   "execution_count": 11,
   "id": "eb5fa207-5ec6-4363-9e12-f6e17d72d26f",
   "metadata": {},
   "outputs": [
    {
     "data": {
      "text/plain": [
       "-0.28464920908777636"
      ]
     },
     "execution_count": 11,
     "metadata": {},
     "output_type": "execute_result"
    }
   ],
   "source": [
    "(1/13)*np.log2(1/13)"
   ]
  },
  {
   "cell_type": "code",
   "execution_count": 12,
   "id": "7d10930b-24b0-4026-aa8a-c94aab2182bb",
   "metadata": {},
   "outputs": [
    {
     "data": {
      "text/plain": [
       "-0.1065943545414793"
      ]
     },
     "execution_count": 12,
     "metadata": {},
     "output_type": "execute_result"
    }
   ],
   "source": [
    "(12/13)*np.log2(12/13)"
   ]
  },
  {
   "cell_type": "code",
   "execution_count": 13,
   "id": "54be9408-96ce-45b0-b35e-72e39b5055eb",
   "metadata": {},
   "outputs": [
    {
     "data": {
      "text/plain": [
       "-0.39124356362925566"
      ]
     },
     "execution_count": 13,
     "metadata": {},
     "output_type": "execute_result"
    }
   ],
   "source": [
    "(12/13)*np.log2(12/13) + (1/13)*np.log2(1/13)"
   ]
  },
  {
   "cell_type": "code",
   "execution_count": 14,
   "id": "8b000182-0228-43fd-bda7-d6495d00c422",
   "metadata": {},
   "outputs": [
    {
     "data": {
      "text/plain": [
       "-0.8256265261578954"
      ]
     },
     "execution_count": 14,
     "metadata": {},
     "output_type": "execute_result"
    }
   ],
   "source": [
    "(7/27)*np.log2(7/27) + (20/27)*np.log2(20/27)"
   ]
  },
  {
   "cell_type": "markdown",
   "id": "d7622a32-250d-446c-8248-913b8aece34f",
   "metadata": {},
   "source": [
    "![Boltzman](https://www.researchgate.net/profile/Bahman-Zohuri/publication/327234817/figure/fig8/AS:726270384025602@1550167761738/Ludwig-Boltzmanns-grave-in-the-Zentralfriedhof-Vienna-Austria-bearing-the-entropy_Q640.jpg)"
   ]
  },
  {
   "cell_type": "markdown",
   "id": "b8a7b0e3-681a-444a-b542-07bf599abfe7",
   "metadata": {},
   "source": [
    "$$ \\Large E = \\sum{-p_i \\cdot log(p)i)} $$\n",
    "\n",
    "...\n",
    "\n",
    "\n",
    "$$ \\Large IG = E(parent) - \\sum{w_i \\cdot E(node)}  $$"
   ]
  },
  {
   "cell_type": "markdown",
   "id": "9203ba98-77d8-4b15-bd18-5d58d3146687",
   "metadata": {},
   "source": [
    "## Iris dataset Visualization"
   ]
  },
  {
   "cell_type": "code",
   "execution_count": 15,
   "id": "b2eae5a8-5154-482e-8d70-e6b837a87373",
   "metadata": {},
   "outputs": [],
   "source": [
    "iris = load_iris()"
   ]
  },
  {
   "cell_type": "code",
   "execution_count": 16,
   "id": "cfdf045b-1dc5-4afe-a130-98619586a7a7",
   "metadata": {},
   "outputs": [
    {
     "name": "stdout",
     "output_type": "stream",
     "text": [
      ".. _iris_dataset:\n",
      "\n",
      "Iris plants dataset\n",
      "--------------------\n",
      "\n",
      "**Data Set Characteristics:**\n",
      "\n",
      "    :Number of Instances: 150 (50 in each of three classes)\n",
      "    :Number of Attributes: 4 numeric, predictive attributes and the class\n",
      "    :Attribute Information:\n",
      "        - sepal length in cm\n",
      "        - sepal width in cm\n",
      "        - petal length in cm\n",
      "        - petal width in cm\n",
      "        - class:\n",
      "                - Iris-Setosa\n",
      "                - Iris-Versicolour\n",
      "                - Iris-Virginica\n",
      "                \n",
      "    :Summary Statistics:\n",
      "\n",
      "    ============== ==== ==== ======= ===== ====================\n",
      "                    Min  Max   Mean    SD   Class Correlation\n",
      "    ============== ==== ==== ======= ===== ====================\n",
      "    sepal length:   4.3  7.9   5.84   0.83    0.7826\n",
      "    sepal width:    2.0  4.4   3.05   0.43   -0.4194\n",
      "    petal length:   1.0  6.9   3.76   1.76    0.9490  (high!)\n",
      "    petal width:    0.1  2.5   1.20   0.76    0.9565  (high!)\n",
      "    ============== ==== ==== ======= ===== ====================\n",
      "\n",
      "    :Missing Attribute Values: None\n",
      "    :Class Distribution: 33.3% for each of 3 classes.\n",
      "    :Creator: R.A. Fisher\n",
      "    :Donor: Michael Marshall (MARSHALL%PLU@io.arc.nasa.gov)\n",
      "    :Date: July, 1988\n",
      "\n",
      "The famous Iris database, first used by Sir R.A. Fisher. The dataset is taken\n",
      "from Fisher's paper. Note that it's the same as in R, but not as in the UCI\n",
      "Machine Learning Repository, which has two wrong data points.\n",
      "\n",
      "This is perhaps the best known database to be found in the\n",
      "pattern recognition literature.  Fisher's paper is a classic in the field and\n",
      "is referenced frequently to this day.  (See Duda & Hart, for example.)  The\n",
      "data set contains 3 classes of 50 instances each, where each class refers to a\n",
      "type of iris plant.  One class is linearly separable from the other 2; the\n",
      "latter are NOT linearly separable from each other.\n",
      "\n",
      ".. topic:: References\n",
      "\n",
      "   - Fisher, R.A. \"The use of multiple measurements in taxonomic problems\"\n",
      "     Annual Eugenics, 7, Part II, 179-188 (1936); also in \"Contributions to\n",
      "     Mathematical Statistics\" (John Wiley, NY, 1950).\n",
      "   - Duda, R.O., & Hart, P.E. (1973) Pattern Classification and Scene Analysis.\n",
      "     (Q327.D83) John Wiley & Sons.  ISBN 0-471-22361-1.  See page 218.\n",
      "   - Dasarathy, B.V. (1980) \"Nosing Around the Neighborhood: A New System\n",
      "     Structure and Classification Rule for Recognition in Partially Exposed\n",
      "     Environments\".  IEEE Transactions on Pattern Analysis and Machine\n",
      "     Intelligence, Vol. PAMI-2, No. 1, 67-71.\n",
      "   - Gates, G.W. (1972) \"The Reduced Nearest Neighbor Rule\".  IEEE Transactions\n",
      "     on Information Theory, May 1972, 431-433.\n",
      "   - See also: 1988 MLC Proceedings, 54-64.  Cheeseman et al\"s AUTOCLASS II\n",
      "     conceptual clustering system finds 3 classes in the data.\n",
      "   - Many, many more ...\n"
     ]
    }
   ],
   "source": [
    "print(iris.DESCR)"
   ]
  },
  {
   "cell_type": "code",
   "execution_count": 17,
   "id": "10d3f968-8f3e-4a54-931a-7d500b04ed94",
   "metadata": {},
   "outputs": [
    {
     "data": {
      "text/plain": [
       "(150, 4)"
      ]
     },
     "execution_count": 17,
     "metadata": {},
     "output_type": "execute_result"
    }
   ],
   "source": [
    "iris.data.shape"
   ]
  },
  {
   "cell_type": "code",
   "execution_count": 18,
   "id": "777920a6-3978-46c5-a879-d45fcff8e218",
   "metadata": {},
   "outputs": [
    {
     "data": {
      "text/plain": [
       "array([0, 0, 0, 0, 0, 0, 0, 0, 0, 0, 0, 0, 0, 0, 0, 0, 0, 0, 0, 0, 0, 0,\n",
       "       0, 0, 0, 0, 0, 0, 0, 0, 0, 0, 0, 0, 0, 0, 0, 0, 0, 0, 0, 0, 0, 0,\n",
       "       0, 0, 0, 0, 0, 0, 1, 1, 1, 1, 1, 1, 1, 1, 1, 1, 1, 1, 1, 1, 1, 1,\n",
       "       1, 1, 1, 1, 1, 1, 1, 1, 1, 1, 1, 1, 1, 1, 1, 1, 1, 1, 1, 1, 1, 1,\n",
       "       1, 1, 1, 1, 1, 1, 1, 1, 1, 1, 1, 1, 2, 2, 2, 2, 2, 2, 2, 2, 2, 2,\n",
       "       2, 2, 2, 2, 2, 2, 2, 2, 2, 2, 2, 2, 2, 2, 2, 2, 2, 2, 2, 2, 2, 2,\n",
       "       2, 2, 2, 2, 2, 2, 2, 2, 2, 2, 2, 2, 2, 2, 2, 2, 2, 2])"
      ]
     },
     "execution_count": 18,
     "metadata": {},
     "output_type": "execute_result"
    }
   ],
   "source": [
    "iris['target']"
   ]
  },
  {
   "cell_type": "code",
   "execution_count": 19,
   "id": "4a816180-4a3a-46ff-9061-e91a16373a0f",
   "metadata": {},
   "outputs": [
    {
     "data": {
      "text/plain": [
       "array([0, 0, 0, 0, 0, 0, 0, 0, 0, 0, 0, 0, 0, 0, 0, 0, 0, 0, 0, 0, 0, 0,\n",
       "       0, 0, 0, 0, 0, 0, 0, 0, 0, 0, 0, 0, 0, 0, 0, 0, 0, 0, 0, 0, 0, 0,\n",
       "       0, 0, 0, 0, 0, 0, 1, 1, 1, 1, 1, 1, 1, 1, 1, 1, 1, 1, 1, 1, 1, 1,\n",
       "       1, 1, 1, 1, 1, 1, 1, 1, 1, 1, 1, 1, 1, 1, 1, 1, 1, 1, 1, 1, 1, 1,\n",
       "       1, 1, 1, 1, 1, 1, 1, 1, 1, 1, 1, 1, 2, 2, 2, 2, 2, 2, 2, 2, 2, 2,\n",
       "       2, 2, 2, 2, 2, 2, 2, 2, 2, 2, 2, 2, 2, 2, 2, 2, 2, 2, 2, 2, 2, 2,\n",
       "       2, 2, 2, 2, 2, 2, 2, 2, 2, 2, 2, 2, 2, 2, 2, 2, 2, 2])"
      ]
     },
     "execution_count": 19,
     "metadata": {},
     "output_type": "execute_result"
    }
   ],
   "source": [
    "iris.target"
   ]
  },
  {
   "cell_type": "code",
   "execution_count": 20,
   "id": "62f30e5e-e35a-4bb1-937b-80192067a4a7",
   "metadata": {},
   "outputs": [
    {
     "data": {
      "text/plain": [
       "array(['setosa', 'versicolor', 'virginica'], dtype='<U10')"
      ]
     },
     "execution_count": 20,
     "metadata": {},
     "output_type": "execute_result"
    }
   ],
   "source": [
    "iris.target_names"
   ]
  },
  {
   "cell_type": "code",
   "execution_count": 21,
   "id": "652692fe-6230-4b05-8f9e-6c21d8d16cab",
   "metadata": {},
   "outputs": [],
   "source": [
    "df = pd.DataFrame(data=iris.data, columns=iris.feature_names)\n",
    "df['target'] = iris['target']\n",
    "df = df.rename(columns={\"sepal length (cm)\": \"sepal_length\", \"sepal width (cm)\": \"sepal_length\",\n",
    "                        \"petal length (cm)\": \"petal_length\", \"petal width (cm)\": \"petal_width\"})"
   ]
  },
  {
   "cell_type": "code",
   "execution_count": 25,
   "id": "526e0219-36a2-4e5e-9277-7ec2b85abea9",
   "metadata": {},
   "outputs": [
    {
     "data": {
      "text/html": [
       "<div>\n",
       "<style scoped>\n",
       "    .dataframe tbody tr th:only-of-type {\n",
       "        vertical-align: middle;\n",
       "    }\n",
       "\n",
       "    .dataframe tbody tr th {\n",
       "        vertical-align: top;\n",
       "    }\n",
       "\n",
       "    .dataframe thead th {\n",
       "        text-align: right;\n",
       "    }\n",
       "</style>\n",
       "<table border=\"1\" class=\"dataframe\">\n",
       "  <thead>\n",
       "    <tr style=\"text-align: right;\">\n",
       "      <th></th>\n",
       "      <th>sepal_length</th>\n",
       "      <th>sepal_length</th>\n",
       "      <th>petal_length</th>\n",
       "      <th>petal_width</th>\n",
       "      <th>target</th>\n",
       "    </tr>\n",
       "  </thead>\n",
       "  <tbody>\n",
       "    <tr>\n",
       "      <th>0</th>\n",
       "      <td>5.1</td>\n",
       "      <td>3.5</td>\n",
       "      <td>1.4</td>\n",
       "      <td>0.2</td>\n",
       "      <td>0</td>\n",
       "    </tr>\n",
       "    <tr>\n",
       "      <th>1</th>\n",
       "      <td>4.9</td>\n",
       "      <td>3.0</td>\n",
       "      <td>1.4</td>\n",
       "      <td>0.2</td>\n",
       "      <td>0</td>\n",
       "    </tr>\n",
       "    <tr>\n",
       "      <th>2</th>\n",
       "      <td>4.7</td>\n",
       "      <td>3.2</td>\n",
       "      <td>1.3</td>\n",
       "      <td>0.2</td>\n",
       "      <td>0</td>\n",
       "    </tr>\n",
       "    <tr>\n",
       "      <th>3</th>\n",
       "      <td>4.6</td>\n",
       "      <td>3.1</td>\n",
       "      <td>1.5</td>\n",
       "      <td>0.2</td>\n",
       "      <td>0</td>\n",
       "    </tr>\n",
       "    <tr>\n",
       "      <th>4</th>\n",
       "      <td>5.0</td>\n",
       "      <td>3.6</td>\n",
       "      <td>1.4</td>\n",
       "      <td>0.2</td>\n",
       "      <td>0</td>\n",
       "    </tr>\n",
       "  </tbody>\n",
       "</table>\n",
       "</div>"
      ],
      "text/plain": [
       "   sepal_length  sepal_length  petal_length  petal_width  target\n",
       "0           5.1           3.5           1.4          0.2       0\n",
       "1           4.9           3.0           1.4          0.2       0\n",
       "2           4.7           3.2           1.3          0.2       0\n",
       "3           4.6           3.1           1.5          0.2       0\n",
       "4           5.0           3.6           1.4          0.2       0"
      ]
     },
     "execution_count": 25,
     "metadata": {},
     "output_type": "execute_result"
    }
   ],
   "source": [
    "df.head()"
   ]
  },
  {
   "cell_type": "code",
   "execution_count": 27,
   "id": "e533ff82-c642-4849-9fb9-dea18a261f99",
   "metadata": {},
   "outputs": [
    {
     "data": {
      "application/vnd.plotly.v1+json": {
       "config": {
        "plotlyServerURL": "https://plot.ly"
       },
       "data": [
        {
         "alignmentgroup": "True",
         "box": {
          "visible": false
         },
         "hovertemplate": "target=%{x}<br>petal_width=%{y}<extra></extra>",
         "legendgroup": "",
         "marker": {
          "color": "#636efa"
         },
         "name": "",
         "offsetgroup": "",
         "orientation": "v",
         "scalegroup": "True",
         "showlegend": false,
         "type": "violin",
         "x": [
          0,
          0,
          0,
          0,
          0,
          0,
          0,
          0,
          0,
          0,
          0,
          0,
          0,
          0,
          0,
          0,
          0,
          0,
          0,
          0,
          0,
          0,
          0,
          0,
          0,
          0,
          0,
          0,
          0,
          0,
          0,
          0,
          0,
          0,
          0,
          0,
          0,
          0,
          0,
          0,
          0,
          0,
          0,
          0,
          0,
          0,
          0,
          0,
          0,
          0,
          1,
          1,
          1,
          1,
          1,
          1,
          1,
          1,
          1,
          1,
          1,
          1,
          1,
          1,
          1,
          1,
          1,
          1,
          1,
          1,
          1,
          1,
          1,
          1,
          1,
          1,
          1,
          1,
          1,
          1,
          1,
          1,
          1,
          1,
          1,
          1,
          1,
          1,
          1,
          1,
          1,
          1,
          1,
          1,
          1,
          1,
          1,
          1,
          1,
          1,
          2,
          2,
          2,
          2,
          2,
          2,
          2,
          2,
          2,
          2,
          2,
          2,
          2,
          2,
          2,
          2,
          2,
          2,
          2,
          2,
          2,
          2,
          2,
          2,
          2,
          2,
          2,
          2,
          2,
          2,
          2,
          2,
          2,
          2,
          2,
          2,
          2,
          2,
          2,
          2,
          2,
          2,
          2,
          2,
          2,
          2,
          2,
          2,
          2,
          2
         ],
         "x0": " ",
         "xaxis": "x",
         "y": [
          0.2,
          0.2,
          0.2,
          0.2,
          0.2,
          0.4,
          0.3,
          0.2,
          0.2,
          0.1,
          0.2,
          0.2,
          0.1,
          0.1,
          0.2,
          0.4,
          0.4,
          0.3,
          0.3,
          0.3,
          0.2,
          0.4,
          0.2,
          0.5,
          0.2,
          0.2,
          0.4,
          0.2,
          0.2,
          0.2,
          0.2,
          0.4,
          0.1,
          0.2,
          0.2,
          0.2,
          0.2,
          0.1,
          0.2,
          0.2,
          0.3,
          0.3,
          0.2,
          0.6,
          0.4,
          0.3,
          0.2,
          0.2,
          0.2,
          0.2,
          1.4,
          1.5,
          1.5,
          1.3,
          1.5,
          1.3,
          1.6,
          1,
          1.3,
          1.4,
          1,
          1.5,
          1,
          1.4,
          1.3,
          1.4,
          1.5,
          1,
          1.5,
          1.1,
          1.8,
          1.3,
          1.5,
          1.2,
          1.3,
          1.4,
          1.4,
          1.7,
          1.5,
          1,
          1.1,
          1,
          1.2,
          1.6,
          1.5,
          1.6,
          1.5,
          1.3,
          1.3,
          1.3,
          1.2,
          1.4,
          1.2,
          1,
          1.3,
          1.2,
          1.3,
          1.3,
          1.1,
          1.3,
          2.5,
          1.9,
          2.1,
          1.8,
          2.2,
          2.1,
          1.7,
          1.8,
          1.8,
          2.5,
          2,
          1.9,
          2.1,
          2,
          2.4,
          2.3,
          1.8,
          2.2,
          2.3,
          1.5,
          2.3,
          2,
          2,
          1.8,
          2.1,
          1.8,
          1.8,
          1.8,
          2.1,
          1.6,
          1.9,
          2,
          2.2,
          1.5,
          1.4,
          2.3,
          2.4,
          1.8,
          1.8,
          2.1,
          2.4,
          2.3,
          1.9,
          2.3,
          2.5,
          2.3,
          1.9,
          2,
          2.3,
          1.8
         ],
         "y0": " ",
         "yaxis": "y"
        }
       ],
       "layout": {
        "legend": {
         "tracegroupgap": 0
        },
        "margin": {
         "t": 60
        },
        "template": {
         "data": {
          "bar": [
           {
            "error_x": {
             "color": "#2a3f5f"
            },
            "error_y": {
             "color": "#2a3f5f"
            },
            "marker": {
             "line": {
              "color": "#E5ECF6",
              "width": 0.5
             },
             "pattern": {
              "fillmode": "overlay",
              "size": 10,
              "solidity": 0.2
             }
            },
            "type": "bar"
           }
          ],
          "barpolar": [
           {
            "marker": {
             "line": {
              "color": "#E5ECF6",
              "width": 0.5
             },
             "pattern": {
              "fillmode": "overlay",
              "size": 10,
              "solidity": 0.2
             }
            },
            "type": "barpolar"
           }
          ],
          "carpet": [
           {
            "aaxis": {
             "endlinecolor": "#2a3f5f",
             "gridcolor": "white",
             "linecolor": "white",
             "minorgridcolor": "white",
             "startlinecolor": "#2a3f5f"
            },
            "baxis": {
             "endlinecolor": "#2a3f5f",
             "gridcolor": "white",
             "linecolor": "white",
             "minorgridcolor": "white",
             "startlinecolor": "#2a3f5f"
            },
            "type": "carpet"
           }
          ],
          "choropleth": [
           {
            "colorbar": {
             "outlinewidth": 0,
             "ticks": ""
            },
            "type": "choropleth"
           }
          ],
          "contour": [
           {
            "colorbar": {
             "outlinewidth": 0,
             "ticks": ""
            },
            "colorscale": [
             [
              0,
              "#0d0887"
             ],
             [
              0.1111111111111111,
              "#46039f"
             ],
             [
              0.2222222222222222,
              "#7201a8"
             ],
             [
              0.3333333333333333,
              "#9c179e"
             ],
             [
              0.4444444444444444,
              "#bd3786"
             ],
             [
              0.5555555555555556,
              "#d8576b"
             ],
             [
              0.6666666666666666,
              "#ed7953"
             ],
             [
              0.7777777777777778,
              "#fb9f3a"
             ],
             [
              0.8888888888888888,
              "#fdca26"
             ],
             [
              1,
              "#f0f921"
             ]
            ],
            "type": "contour"
           }
          ],
          "contourcarpet": [
           {
            "colorbar": {
             "outlinewidth": 0,
             "ticks": ""
            },
            "type": "contourcarpet"
           }
          ],
          "heatmap": [
           {
            "colorbar": {
             "outlinewidth": 0,
             "ticks": ""
            },
            "colorscale": [
             [
              0,
              "#0d0887"
             ],
             [
              0.1111111111111111,
              "#46039f"
             ],
             [
              0.2222222222222222,
              "#7201a8"
             ],
             [
              0.3333333333333333,
              "#9c179e"
             ],
             [
              0.4444444444444444,
              "#bd3786"
             ],
             [
              0.5555555555555556,
              "#d8576b"
             ],
             [
              0.6666666666666666,
              "#ed7953"
             ],
             [
              0.7777777777777778,
              "#fb9f3a"
             ],
             [
              0.8888888888888888,
              "#fdca26"
             ],
             [
              1,
              "#f0f921"
             ]
            ],
            "type": "heatmap"
           }
          ],
          "heatmapgl": [
           {
            "colorbar": {
             "outlinewidth": 0,
             "ticks": ""
            },
            "colorscale": [
             [
              0,
              "#0d0887"
             ],
             [
              0.1111111111111111,
              "#46039f"
             ],
             [
              0.2222222222222222,
              "#7201a8"
             ],
             [
              0.3333333333333333,
              "#9c179e"
             ],
             [
              0.4444444444444444,
              "#bd3786"
             ],
             [
              0.5555555555555556,
              "#d8576b"
             ],
             [
              0.6666666666666666,
              "#ed7953"
             ],
             [
              0.7777777777777778,
              "#fb9f3a"
             ],
             [
              0.8888888888888888,
              "#fdca26"
             ],
             [
              1,
              "#f0f921"
             ]
            ],
            "type": "heatmapgl"
           }
          ],
          "histogram": [
           {
            "marker": {
             "pattern": {
              "fillmode": "overlay",
              "size": 10,
              "solidity": 0.2
             }
            },
            "type": "histogram"
           }
          ],
          "histogram2d": [
           {
            "colorbar": {
             "outlinewidth": 0,
             "ticks": ""
            },
            "colorscale": [
             [
              0,
              "#0d0887"
             ],
             [
              0.1111111111111111,
              "#46039f"
             ],
             [
              0.2222222222222222,
              "#7201a8"
             ],
             [
              0.3333333333333333,
              "#9c179e"
             ],
             [
              0.4444444444444444,
              "#bd3786"
             ],
             [
              0.5555555555555556,
              "#d8576b"
             ],
             [
              0.6666666666666666,
              "#ed7953"
             ],
             [
              0.7777777777777778,
              "#fb9f3a"
             ],
             [
              0.8888888888888888,
              "#fdca26"
             ],
             [
              1,
              "#f0f921"
             ]
            ],
            "type": "histogram2d"
           }
          ],
          "histogram2dcontour": [
           {
            "colorbar": {
             "outlinewidth": 0,
             "ticks": ""
            },
            "colorscale": [
             [
              0,
              "#0d0887"
             ],
             [
              0.1111111111111111,
              "#46039f"
             ],
             [
              0.2222222222222222,
              "#7201a8"
             ],
             [
              0.3333333333333333,
              "#9c179e"
             ],
             [
              0.4444444444444444,
              "#bd3786"
             ],
             [
              0.5555555555555556,
              "#d8576b"
             ],
             [
              0.6666666666666666,
              "#ed7953"
             ],
             [
              0.7777777777777778,
              "#fb9f3a"
             ],
             [
              0.8888888888888888,
              "#fdca26"
             ],
             [
              1,
              "#f0f921"
             ]
            ],
            "type": "histogram2dcontour"
           }
          ],
          "mesh3d": [
           {
            "colorbar": {
             "outlinewidth": 0,
             "ticks": ""
            },
            "type": "mesh3d"
           }
          ],
          "parcoords": [
           {
            "line": {
             "colorbar": {
              "outlinewidth": 0,
              "ticks": ""
             }
            },
            "type": "parcoords"
           }
          ],
          "pie": [
           {
            "automargin": true,
            "type": "pie"
           }
          ],
          "scatter": [
           {
            "marker": {
             "colorbar": {
              "outlinewidth": 0,
              "ticks": ""
             }
            },
            "type": "scatter"
           }
          ],
          "scatter3d": [
           {
            "line": {
             "colorbar": {
              "outlinewidth": 0,
              "ticks": ""
             }
            },
            "marker": {
             "colorbar": {
              "outlinewidth": 0,
              "ticks": ""
             }
            },
            "type": "scatter3d"
           }
          ],
          "scattercarpet": [
           {
            "marker": {
             "colorbar": {
              "outlinewidth": 0,
              "ticks": ""
             }
            },
            "type": "scattercarpet"
           }
          ],
          "scattergeo": [
           {
            "marker": {
             "colorbar": {
              "outlinewidth": 0,
              "ticks": ""
             }
            },
            "type": "scattergeo"
           }
          ],
          "scattergl": [
           {
            "marker": {
             "colorbar": {
              "outlinewidth": 0,
              "ticks": ""
             }
            },
            "type": "scattergl"
           }
          ],
          "scattermapbox": [
           {
            "marker": {
             "colorbar": {
              "outlinewidth": 0,
              "ticks": ""
             }
            },
            "type": "scattermapbox"
           }
          ],
          "scatterpolar": [
           {
            "marker": {
             "colorbar": {
              "outlinewidth": 0,
              "ticks": ""
             }
            },
            "type": "scatterpolar"
           }
          ],
          "scatterpolargl": [
           {
            "marker": {
             "colorbar": {
              "outlinewidth": 0,
              "ticks": ""
             }
            },
            "type": "scatterpolargl"
           }
          ],
          "scatterternary": [
           {
            "marker": {
             "colorbar": {
              "outlinewidth": 0,
              "ticks": ""
             }
            },
            "type": "scatterternary"
           }
          ],
          "surface": [
           {
            "colorbar": {
             "outlinewidth": 0,
             "ticks": ""
            },
            "colorscale": [
             [
              0,
              "#0d0887"
             ],
             [
              0.1111111111111111,
              "#46039f"
             ],
             [
              0.2222222222222222,
              "#7201a8"
             ],
             [
              0.3333333333333333,
              "#9c179e"
             ],
             [
              0.4444444444444444,
              "#bd3786"
             ],
             [
              0.5555555555555556,
              "#d8576b"
             ],
             [
              0.6666666666666666,
              "#ed7953"
             ],
             [
              0.7777777777777778,
              "#fb9f3a"
             ],
             [
              0.8888888888888888,
              "#fdca26"
             ],
             [
              1,
              "#f0f921"
             ]
            ],
            "type": "surface"
           }
          ],
          "table": [
           {
            "cells": {
             "fill": {
              "color": "#EBF0F8"
             },
             "line": {
              "color": "white"
             }
            },
            "header": {
             "fill": {
              "color": "#C8D4E3"
             },
             "line": {
              "color": "white"
             }
            },
            "type": "table"
           }
          ]
         },
         "layout": {
          "annotationdefaults": {
           "arrowcolor": "#2a3f5f",
           "arrowhead": 0,
           "arrowwidth": 1
          },
          "autotypenumbers": "strict",
          "coloraxis": {
           "colorbar": {
            "outlinewidth": 0,
            "ticks": ""
           }
          },
          "colorscale": {
           "diverging": [
            [
             0,
             "#8e0152"
            ],
            [
             0.1,
             "#c51b7d"
            ],
            [
             0.2,
             "#de77ae"
            ],
            [
             0.3,
             "#f1b6da"
            ],
            [
             0.4,
             "#fde0ef"
            ],
            [
             0.5,
             "#f7f7f7"
            ],
            [
             0.6,
             "#e6f5d0"
            ],
            [
             0.7,
             "#b8e186"
            ],
            [
             0.8,
             "#7fbc41"
            ],
            [
             0.9,
             "#4d9221"
            ],
            [
             1,
             "#276419"
            ]
           ],
           "sequential": [
            [
             0,
             "#0d0887"
            ],
            [
             0.1111111111111111,
             "#46039f"
            ],
            [
             0.2222222222222222,
             "#7201a8"
            ],
            [
             0.3333333333333333,
             "#9c179e"
            ],
            [
             0.4444444444444444,
             "#bd3786"
            ],
            [
             0.5555555555555556,
             "#d8576b"
            ],
            [
             0.6666666666666666,
             "#ed7953"
            ],
            [
             0.7777777777777778,
             "#fb9f3a"
            ],
            [
             0.8888888888888888,
             "#fdca26"
            ],
            [
             1,
             "#f0f921"
            ]
           ],
           "sequentialminus": [
            [
             0,
             "#0d0887"
            ],
            [
             0.1111111111111111,
             "#46039f"
            ],
            [
             0.2222222222222222,
             "#7201a8"
            ],
            [
             0.3333333333333333,
             "#9c179e"
            ],
            [
             0.4444444444444444,
             "#bd3786"
            ],
            [
             0.5555555555555556,
             "#d8576b"
            ],
            [
             0.6666666666666666,
             "#ed7953"
            ],
            [
             0.7777777777777778,
             "#fb9f3a"
            ],
            [
             0.8888888888888888,
             "#fdca26"
            ],
            [
             1,
             "#f0f921"
            ]
           ]
          },
          "colorway": [
           "#636efa",
           "#EF553B",
           "#00cc96",
           "#ab63fa",
           "#FFA15A",
           "#19d3f3",
           "#FF6692",
           "#B6E880",
           "#FF97FF",
           "#FECB52"
          ],
          "font": {
           "color": "#2a3f5f"
          },
          "geo": {
           "bgcolor": "white",
           "lakecolor": "white",
           "landcolor": "#E5ECF6",
           "showlakes": true,
           "showland": true,
           "subunitcolor": "white"
          },
          "hoverlabel": {
           "align": "left"
          },
          "hovermode": "closest",
          "mapbox": {
           "style": "light"
          },
          "paper_bgcolor": "white",
          "plot_bgcolor": "#E5ECF6",
          "polar": {
           "angularaxis": {
            "gridcolor": "white",
            "linecolor": "white",
            "ticks": ""
           },
           "bgcolor": "#E5ECF6",
           "radialaxis": {
            "gridcolor": "white",
            "linecolor": "white",
            "ticks": ""
           }
          },
          "scene": {
           "xaxis": {
            "backgroundcolor": "#E5ECF6",
            "gridcolor": "white",
            "gridwidth": 2,
            "linecolor": "white",
            "showbackground": true,
            "ticks": "",
            "zerolinecolor": "white"
           },
           "yaxis": {
            "backgroundcolor": "#E5ECF6",
            "gridcolor": "white",
            "gridwidth": 2,
            "linecolor": "white",
            "showbackground": true,
            "ticks": "",
            "zerolinecolor": "white"
           },
           "zaxis": {
            "backgroundcolor": "#E5ECF6",
            "gridcolor": "white",
            "gridwidth": 2,
            "linecolor": "white",
            "showbackground": true,
            "ticks": "",
            "zerolinecolor": "white"
           }
          },
          "shapedefaults": {
           "line": {
            "color": "#2a3f5f"
           }
          },
          "ternary": {
           "aaxis": {
            "gridcolor": "white",
            "linecolor": "white",
            "ticks": ""
           },
           "baxis": {
            "gridcolor": "white",
            "linecolor": "white",
            "ticks": ""
           },
           "bgcolor": "#E5ECF6",
           "caxis": {
            "gridcolor": "white",
            "linecolor": "white",
            "ticks": ""
           }
          },
          "title": {
           "x": 0.05
          },
          "xaxis": {
           "automargin": true,
           "gridcolor": "white",
           "linecolor": "white",
           "ticks": "",
           "title": {
            "standoff": 15
           },
           "zerolinecolor": "white",
           "zerolinewidth": 2
          },
          "yaxis": {
           "automargin": true,
           "gridcolor": "white",
           "linecolor": "white",
           "ticks": "",
           "title": {
            "standoff": 15
           },
           "zerolinecolor": "white",
           "zerolinewidth": 2
          }
         }
        },
        "violinmode": "group",
        "width": 600,
        "xaxis": {
         "anchor": "y",
         "domain": [
          0,
          1
         ],
         "title": {
          "text": "target"
         }
        },
        "yaxis": {
         "anchor": "x",
         "domain": [
          0,
          1
         ],
         "title": {
          "text": "petal_width"
         }
        }
       }
      }
     },
     "metadata": {},
     "output_type": "display_data"
    }
   ],
   "source": [
    "px.violin(df, x=\"target\", y=\"petal_width\", width=600)"
   ]
  },
  {
   "cell_type": "code",
   "execution_count": null,
   "id": "40bf7fde-e4a7-4b2f-af35-00caf63baf08",
   "metadata": {},
   "outputs": [
    {
     "data": {
      "application/vnd.plotly.v1+json": {
       "config": {
        "plotlyServerURL": "https://plot.ly"
       },
       "data": [
        {
         "hovertemplate": "sepal_length=%{x}<br>petal_length=%{y}<br>petal_width=%{z}<br>target=%{marker.color}<extra></extra>",
         "legendgroup": "",
         "marker": {
          "color": [
           0,
           0,
           0,
           0,
           0,
           0,
           0,
           0,
           0,
           0,
           0,
           0,
           0,
           0,
           0,
           0,
           0,
           0,
           0,
           0,
           0,
           0,
           0,
           0,
           0,
           0,
           0,
           0,
           0,
           0,
           0,
           0,
           0,
           0,
           0,
           0,
           0,
           0,
           0,
           0,
           0,
           0,
           0,
           0,
           0,
           0,
           0,
           0,
           0,
           0,
           1,
           1,
           1,
           1,
           1,
           1,
           1,
           1,
           1,
           1,
           1,
           1,
           1,
           1,
           1,
           1,
           1,
           1,
           1,
           1,
           1,
           1,
           1,
           1,
           1,
           1,
           1,
           1,
           1,
           1,
           1,
           1,
           1,
           1,
           1,
           1,
           1,
           1,
           1,
           1,
           1,
           1,
           1,
           1,
           1,
           1,
           1,
           1,
           1,
           1,
           2,
           2,
           2,
           2,
           2,
           2,
           2,
           2,
           2,
           2,
           2,
           2,
           2,
           2,
           2,
           2,
           2,
           2,
           2,
           2,
           2,
           2,
           2,
           2,
           2,
           2,
           2,
           2,
           2,
           2,
           2,
           2,
           2,
           2,
           2,
           2,
           2,
           2,
           2,
           2,
           2,
           2,
           2,
           2,
           2,
           2,
           2,
           2,
           2,
           2
          ],
          "coloraxis": "coloraxis",
          "symbol": "circle"
         },
         "mode": "markers",
         "name": "",
         "scene": "scene",
         "showlegend": false,
         "type": "scatter3d",
         "x": [
          5.1,
          4.9,
          4.7,
          4.6,
          5,
          5.4,
          4.6,
          5,
          4.4,
          4.9,
          5.4,
          4.8,
          4.8,
          4.3,
          5.8,
          5.7,
          5.4,
          5.1,
          5.7,
          5.1,
          5.4,
          5.1,
          4.6,
          5.1,
          4.8,
          5,
          5,
          5.2,
          5.2,
          4.7,
          4.8,
          5.4,
          5.2,
          5.5,
          4.9,
          5,
          5.5,
          4.9,
          4.4,
          5.1,
          5,
          4.5,
          4.4,
          5,
          5.1,
          4.8,
          5.1,
          4.6,
          5.3,
          5,
          7,
          6.4,
          6.9,
          5.5,
          6.5,
          5.7,
          6.3,
          4.9,
          6.6,
          5.2,
          5,
          5.9,
          6,
          6.1,
          5.6,
          6.7,
          5.6,
          5.8,
          6.2,
          5.6,
          5.9,
          6.1,
          6.3,
          6.1,
          6.4,
          6.6,
          6.8,
          6.7,
          6,
          5.7,
          5.5,
          5.5,
          5.8,
          6,
          5.4,
          6,
          6.7,
          6.3,
          5.6,
          5.5,
          5.5,
          6.1,
          5.8,
          5,
          5.6,
          5.7,
          5.7,
          6.2,
          5.1,
          5.7,
          6.3,
          5.8,
          7.1,
          6.3,
          6.5,
          7.6,
          4.9,
          7.3,
          6.7,
          7.2,
          6.5,
          6.4,
          6.8,
          5.7,
          5.8,
          6.4,
          6.5,
          7.7,
          7.7,
          6,
          6.9,
          5.6,
          7.7,
          6.3,
          6.7,
          7.2,
          6.2,
          6.1,
          6.4,
          7.2,
          7.4,
          7.9,
          6.4,
          6.3,
          6.1,
          7.7,
          6.3,
          6.4,
          6,
          6.9,
          6.7,
          6.9,
          5.8,
          6.8,
          6.7,
          6.7,
          6.3,
          6.5,
          6.2,
          5.9
         ],
         "y": [
          1.4,
          1.4,
          1.3,
          1.5,
          1.4,
          1.7,
          1.4,
          1.5,
          1.4,
          1.5,
          1.5,
          1.6,
          1.4,
          1.1,
          1.2,
          1.5,
          1.3,
          1.4,
          1.7,
          1.5,
          1.7,
          1.5,
          1,
          1.7,
          1.9,
          1.6,
          1.6,
          1.5,
          1.4,
          1.6,
          1.6,
          1.5,
          1.5,
          1.4,
          1.5,
          1.2,
          1.3,
          1.4,
          1.3,
          1.5,
          1.3,
          1.3,
          1.3,
          1.6,
          1.9,
          1.4,
          1.6,
          1.4,
          1.5,
          1.4,
          4.7,
          4.5,
          4.9,
          4,
          4.6,
          4.5,
          4.7,
          3.3,
          4.6,
          3.9,
          3.5,
          4.2,
          4,
          4.7,
          3.6,
          4.4,
          4.5,
          4.1,
          4.5,
          3.9,
          4.8,
          4,
          4.9,
          4.7,
          4.3,
          4.4,
          4.8,
          5,
          4.5,
          3.5,
          3.8,
          3.7,
          3.9,
          5.1,
          4.5,
          4.5,
          4.7,
          4.4,
          4.1,
          4,
          4.4,
          4.6,
          4,
          3.3,
          4.2,
          4.2,
          4.2,
          4.3,
          3,
          4.1,
          6,
          5.1,
          5.9,
          5.6,
          5.8,
          6.6,
          4.5,
          6.3,
          5.8,
          6.1,
          5.1,
          5.3,
          5.5,
          5,
          5.1,
          5.3,
          5.5,
          6.7,
          6.9,
          5,
          5.7,
          4.9,
          6.7,
          4.9,
          5.7,
          6,
          4.8,
          4.9,
          5.6,
          5.8,
          6.1,
          6.4,
          5.6,
          5.1,
          5.6,
          6.1,
          5.6,
          5.5,
          4.8,
          5.4,
          5.6,
          5.1,
          5.1,
          5.9,
          5.7,
          5.2,
          5,
          5.2,
          5.4,
          5.1
         ],
         "z": [
          0.2,
          0.2,
          0.2,
          0.2,
          0.2,
          0.4,
          0.3,
          0.2,
          0.2,
          0.1,
          0.2,
          0.2,
          0.1,
          0.1,
          0.2,
          0.4,
          0.4,
          0.3,
          0.3,
          0.3,
          0.2,
          0.4,
          0.2,
          0.5,
          0.2,
          0.2,
          0.4,
          0.2,
          0.2,
          0.2,
          0.2,
          0.4,
          0.1,
          0.2,
          0.2,
          0.2,
          0.2,
          0.1,
          0.2,
          0.2,
          0.3,
          0.3,
          0.2,
          0.6,
          0.4,
          0.3,
          0.2,
          0.2,
          0.2,
          0.2,
          1.4,
          1.5,
          1.5,
          1.3,
          1.5,
          1.3,
          1.6,
          1,
          1.3,
          1.4,
          1,
          1.5,
          1,
          1.4,
          1.3,
          1.4,
          1.5,
          1,
          1.5,
          1.1,
          1.8,
          1.3,
          1.5,
          1.2,
          1.3,
          1.4,
          1.4,
          1.7,
          1.5,
          1,
          1.1,
          1,
          1.2,
          1.6,
          1.5,
          1.6,
          1.5,
          1.3,
          1.3,
          1.3,
          1.2,
          1.4,
          1.2,
          1,
          1.3,
          1.2,
          1.3,
          1.3,
          1.1,
          1.3,
          2.5,
          1.9,
          2.1,
          1.8,
          2.2,
          2.1,
          1.7,
          1.8,
          1.8,
          2.5,
          2,
          1.9,
          2.1,
          2,
          2.4,
          2.3,
          1.8,
          2.2,
          2.3,
          1.5,
          2.3,
          2,
          2,
          1.8,
          2.1,
          1.8,
          1.8,
          1.8,
          2.1,
          1.6,
          1.9,
          2,
          2.2,
          1.5,
          1.4,
          2.3,
          2.4,
          1.8,
          1.8,
          2.1,
          2.4,
          2.3,
          1.9,
          2.3,
          2.5,
          2.3,
          1.9,
          2,
          2.3,
          1.8
         ]
        }
       ],
       "layout": {
        "autosize": true,
        "coloraxis": {
         "colorbar": {
          "title": {
           "text": "target"
          }
         },
         "colorscale": [
          [
           0,
           "#0d0887"
          ],
          [
           0.1111111111111111,
           "#46039f"
          ],
          [
           0.2222222222222222,
           "#7201a8"
          ],
          [
           0.3333333333333333,
           "#9c179e"
          ],
          [
           0.4444444444444444,
           "#bd3786"
          ],
          [
           0.5555555555555556,
           "#d8576b"
          ],
          [
           0.6666666666666666,
           "#ed7953"
          ],
          [
           0.7777777777777778,
           "#fb9f3a"
          ],
          [
           0.8888888888888888,
           "#fdca26"
          ],
          [
           1,
           "#f0f921"
          ]
         ]
        },
        "legend": {
         "tracegroupgap": 0
        },
        "margin": {
         "t": 60
        },
        "scene": {
         "aspectmode": "auto",
         "aspectratio": {
          "x": 0.9709135960857954,
          "y": 1.5912195046961646,
          "z": 0.6472757307238635
         },
         "camera": {
          "center": {
           "x": 0,
           "y": 0,
           "z": 0
          },
          "eye": {
           "x": -1.5953000765196683,
           "y": 0.18651707162134856,
           "z": 0.9204022534601051
          },
          "projection": {
           "type": "perspective"
          },
          "up": {
           "x": 0,
           "y": 0,
           "z": 1
          }
         },
         "domain": {
          "x": [
           0,
           1
          ],
          "y": [
           0,
           1
          ]
         },
         "xaxis": {
          "title": {
           "text": "sepal_length"
          },
          "type": "linear"
         },
         "yaxis": {
          "title": {
           "text": "petal_length"
          },
          "type": "linear"
         },
         "zaxis": {
          "title": {
           "text": "petal_width"
          },
          "type": "linear"
         }
        },
        "template": {
         "data": {
          "bar": [
           {
            "error_x": {
             "color": "#2a3f5f"
            },
            "error_y": {
             "color": "#2a3f5f"
            },
            "marker": {
             "line": {
              "color": "#E5ECF6",
              "width": 0.5
             },
             "pattern": {
              "fillmode": "overlay",
              "size": 10,
              "solidity": 0.2
             }
            },
            "type": "bar"
           }
          ],
          "barpolar": [
           {
            "marker": {
             "line": {
              "color": "#E5ECF6",
              "width": 0.5
             },
             "pattern": {
              "fillmode": "overlay",
              "size": 10,
              "solidity": 0.2
             }
            },
            "type": "barpolar"
           }
          ],
          "carpet": [
           {
            "aaxis": {
             "endlinecolor": "#2a3f5f",
             "gridcolor": "white",
             "linecolor": "white",
             "minorgridcolor": "white",
             "startlinecolor": "#2a3f5f"
            },
            "baxis": {
             "endlinecolor": "#2a3f5f",
             "gridcolor": "white",
             "linecolor": "white",
             "minorgridcolor": "white",
             "startlinecolor": "#2a3f5f"
            },
            "type": "carpet"
           }
          ],
          "choropleth": [
           {
            "colorbar": {
             "outlinewidth": 0,
             "ticks": ""
            },
            "type": "choropleth"
           }
          ],
          "contour": [
           {
            "colorbar": {
             "outlinewidth": 0,
             "ticks": ""
            },
            "colorscale": [
             [
              0,
              "#0d0887"
             ],
             [
              0.1111111111111111,
              "#46039f"
             ],
             [
              0.2222222222222222,
              "#7201a8"
             ],
             [
              0.3333333333333333,
              "#9c179e"
             ],
             [
              0.4444444444444444,
              "#bd3786"
             ],
             [
              0.5555555555555556,
              "#d8576b"
             ],
             [
              0.6666666666666666,
              "#ed7953"
             ],
             [
              0.7777777777777778,
              "#fb9f3a"
             ],
             [
              0.8888888888888888,
              "#fdca26"
             ],
             [
              1,
              "#f0f921"
             ]
            ],
            "type": "contour"
           }
          ],
          "contourcarpet": [
           {
            "colorbar": {
             "outlinewidth": 0,
             "ticks": ""
            },
            "type": "contourcarpet"
           }
          ],
          "heatmap": [
           {
            "colorbar": {
             "outlinewidth": 0,
             "ticks": ""
            },
            "colorscale": [
             [
              0,
              "#0d0887"
             ],
             [
              0.1111111111111111,
              "#46039f"
             ],
             [
              0.2222222222222222,
              "#7201a8"
             ],
             [
              0.3333333333333333,
              "#9c179e"
             ],
             [
              0.4444444444444444,
              "#bd3786"
             ],
             [
              0.5555555555555556,
              "#d8576b"
             ],
             [
              0.6666666666666666,
              "#ed7953"
             ],
             [
              0.7777777777777778,
              "#fb9f3a"
             ],
             [
              0.8888888888888888,
              "#fdca26"
             ],
             [
              1,
              "#f0f921"
             ]
            ],
            "type": "heatmap"
           }
          ],
          "heatmapgl": [
           {
            "colorbar": {
             "outlinewidth": 0,
             "ticks": ""
            },
            "colorscale": [
             [
              0,
              "#0d0887"
             ],
             [
              0.1111111111111111,
              "#46039f"
             ],
             [
              0.2222222222222222,
              "#7201a8"
             ],
             [
              0.3333333333333333,
              "#9c179e"
             ],
             [
              0.4444444444444444,
              "#bd3786"
             ],
             [
              0.5555555555555556,
              "#d8576b"
             ],
             [
              0.6666666666666666,
              "#ed7953"
             ],
             [
              0.7777777777777778,
              "#fb9f3a"
             ],
             [
              0.8888888888888888,
              "#fdca26"
             ],
             [
              1,
              "#f0f921"
             ]
            ],
            "type": "heatmapgl"
           }
          ],
          "histogram": [
           {
            "marker": {
             "pattern": {
              "fillmode": "overlay",
              "size": 10,
              "solidity": 0.2
             }
            },
            "type": "histogram"
           }
          ],
          "histogram2d": [
           {
            "colorbar": {
             "outlinewidth": 0,
             "ticks": ""
            },
            "colorscale": [
             [
              0,
              "#0d0887"
             ],
             [
              0.1111111111111111,
              "#46039f"
             ],
             [
              0.2222222222222222,
              "#7201a8"
             ],
             [
              0.3333333333333333,
              "#9c179e"
             ],
             [
              0.4444444444444444,
              "#bd3786"
             ],
             [
              0.5555555555555556,
              "#d8576b"
             ],
             [
              0.6666666666666666,
              "#ed7953"
             ],
             [
              0.7777777777777778,
              "#fb9f3a"
             ],
             [
              0.8888888888888888,
              "#fdca26"
             ],
             [
              1,
              "#f0f921"
             ]
            ],
            "type": "histogram2d"
           }
          ],
          "histogram2dcontour": [
           {
            "colorbar": {
             "outlinewidth": 0,
             "ticks": ""
            },
            "colorscale": [
             [
              0,
              "#0d0887"
             ],
             [
              0.1111111111111111,
              "#46039f"
             ],
             [
              0.2222222222222222,
              "#7201a8"
             ],
             [
              0.3333333333333333,
              "#9c179e"
             ],
             [
              0.4444444444444444,
              "#bd3786"
             ],
             [
              0.5555555555555556,
              "#d8576b"
             ],
             [
              0.6666666666666666,
              "#ed7953"
             ],
             [
              0.7777777777777778,
              "#fb9f3a"
             ],
             [
              0.8888888888888888,
              "#fdca26"
             ],
             [
              1,
              "#f0f921"
             ]
            ],
            "type": "histogram2dcontour"
           }
          ],
          "mesh3d": [
           {
            "colorbar": {
             "outlinewidth": 0,
             "ticks": ""
            },
            "type": "mesh3d"
           }
          ],
          "parcoords": [
           {
            "line": {
             "colorbar": {
              "outlinewidth": 0,
              "ticks": ""
             }
            },
            "type": "parcoords"
           }
          ],
          "pie": [
           {
            "automargin": true,
            "type": "pie"
           }
          ],
          "scatter": [
           {
            "marker": {
             "colorbar": {
              "outlinewidth": 0,
              "ticks": ""
             }
            },
            "type": "scatter"
           }
          ],
          "scatter3d": [
           {
            "line": {
             "colorbar": {
              "outlinewidth": 0,
              "ticks": ""
             }
            },
            "marker": {
             "colorbar": {
              "outlinewidth": 0,
              "ticks": ""
             }
            },
            "type": "scatter3d"
           }
          ],
          "scattercarpet": [
           {
            "marker": {
             "colorbar": {
              "outlinewidth": 0,
              "ticks": ""
             }
            },
            "type": "scattercarpet"
           }
          ],
          "scattergeo": [
           {
            "marker": {
             "colorbar": {
              "outlinewidth": 0,
              "ticks": ""
             }
            },
            "type": "scattergeo"
           }
          ],
          "scattergl": [
           {
            "marker": {
             "colorbar": {
              "outlinewidth": 0,
              "ticks": ""
             }
            },
            "type": "scattergl"
           }
          ],
          "scattermapbox": [
           {
            "marker": {
             "colorbar": {
              "outlinewidth": 0,
              "ticks": ""
             }
            },
            "type": "scattermapbox"
           }
          ],
          "scatterpolar": [
           {
            "marker": {
             "colorbar": {
              "outlinewidth": 0,
              "ticks": ""
             }
            },
            "type": "scatterpolar"
           }
          ],
          "scatterpolargl": [
           {
            "marker": {
             "colorbar": {
              "outlinewidth": 0,
              "ticks": ""
             }
            },
            "type": "scatterpolargl"
           }
          ],
          "scatterternary": [
           {
            "marker": {
             "colorbar": {
              "outlinewidth": 0,
              "ticks": ""
             }
            },
            "type": "scatterternary"
           }
          ],
          "surface": [
           {
            "colorbar": {
             "outlinewidth": 0,
             "ticks": ""
            },
            "colorscale": [
             [
              0,
              "#0d0887"
             ],
             [
              0.1111111111111111,
              "#46039f"
             ],
             [
              0.2222222222222222,
              "#7201a8"
             ],
             [
              0.3333333333333333,
              "#9c179e"
             ],
             [
              0.4444444444444444,
              "#bd3786"
             ],
             [
              0.5555555555555556,
              "#d8576b"
             ],
             [
              0.6666666666666666,
              "#ed7953"
             ],
             [
              0.7777777777777778,
              "#fb9f3a"
             ],
             [
              0.8888888888888888,
              "#fdca26"
             ],
             [
              1,
              "#f0f921"
             ]
            ],
            "type": "surface"
           }
          ],
          "table": [
           {
            "cells": {
             "fill": {
              "color": "#EBF0F8"
             },
             "line": {
              "color": "white"
             }
            },
            "header": {
             "fill": {
              "color": "#C8D4E3"
             },
             "line": {
              "color": "white"
             }
            },
            "type": "table"
           }
          ]
         },
         "layout": {
          "annotationdefaults": {
           "arrowcolor": "#2a3f5f",
           "arrowhead": 0,
           "arrowwidth": 1
          },
          "autotypenumbers": "strict",
          "coloraxis": {
           "colorbar": {
            "outlinewidth": 0,
            "ticks": ""
           }
          },
          "colorscale": {
           "diverging": [
            [
             0,
             "#8e0152"
            ],
            [
             0.1,
             "#c51b7d"
            ],
            [
             0.2,
             "#de77ae"
            ],
            [
             0.3,
             "#f1b6da"
            ],
            [
             0.4,
             "#fde0ef"
            ],
            [
             0.5,
             "#f7f7f7"
            ],
            [
             0.6,
             "#e6f5d0"
            ],
            [
             0.7,
             "#b8e186"
            ],
            [
             0.8,
             "#7fbc41"
            ],
            [
             0.9,
             "#4d9221"
            ],
            [
             1,
             "#276419"
            ]
           ],
           "sequential": [
            [
             0,
             "#0d0887"
            ],
            [
             0.1111111111111111,
             "#46039f"
            ],
            [
             0.2222222222222222,
             "#7201a8"
            ],
            [
             0.3333333333333333,
             "#9c179e"
            ],
            [
             0.4444444444444444,
             "#bd3786"
            ],
            [
             0.5555555555555556,
             "#d8576b"
            ],
            [
             0.6666666666666666,
             "#ed7953"
            ],
            [
             0.7777777777777778,
             "#fb9f3a"
            ],
            [
             0.8888888888888888,
             "#fdca26"
            ],
            [
             1,
             "#f0f921"
            ]
           ],
           "sequentialminus": [
            [
             0,
             "#0d0887"
            ],
            [
             0.1111111111111111,
             "#46039f"
            ],
            [
             0.2222222222222222,
             "#7201a8"
            ],
            [
             0.3333333333333333,
             "#9c179e"
            ],
            [
             0.4444444444444444,
             "#bd3786"
            ],
            [
             0.5555555555555556,
             "#d8576b"
            ],
            [
             0.6666666666666666,
             "#ed7953"
            ],
            [
             0.7777777777777778,
             "#fb9f3a"
            ],
            [
             0.8888888888888888,
             "#fdca26"
            ],
            [
             1,
             "#f0f921"
            ]
           ]
          },
          "colorway": [
           "#636efa",
           "#EF553B",
           "#00cc96",
           "#ab63fa",
           "#FFA15A",
           "#19d3f3",
           "#FF6692",
           "#B6E880",
           "#FF97FF",
           "#FECB52"
          ],
          "font": {
           "color": "#2a3f5f"
          },
          "geo": {
           "bgcolor": "white",
           "lakecolor": "white",
           "landcolor": "#E5ECF6",
           "showlakes": true,
           "showland": true,
           "subunitcolor": "white"
          },
          "hoverlabel": {
           "align": "left"
          },
          "hovermode": "closest",
          "mapbox": {
           "style": "light"
          },
          "paper_bgcolor": "white",
          "plot_bgcolor": "#E5ECF6",
          "polar": {
           "angularaxis": {
            "gridcolor": "white",
            "linecolor": "white",
            "ticks": ""
           },
           "bgcolor": "#E5ECF6",
           "radialaxis": {
            "gridcolor": "white",
            "linecolor": "white",
            "ticks": ""
           }
          },
          "scene": {
           "xaxis": {
            "backgroundcolor": "#E5ECF6",
            "gridcolor": "white",
            "gridwidth": 2,
            "linecolor": "white",
            "showbackground": true,
            "ticks": "",
            "zerolinecolor": "white"
           },
           "yaxis": {
            "backgroundcolor": "#E5ECF6",
            "gridcolor": "white",
            "gridwidth": 2,
            "linecolor": "white",
            "showbackground": true,
            "ticks": "",
            "zerolinecolor": "white"
           },
           "zaxis": {
            "backgroundcolor": "#E5ECF6",
            "gridcolor": "white",
            "gridwidth": 2,
            "linecolor": "white",
            "showbackground": true,
            "ticks": "",
            "zerolinecolor": "white"
           }
          },
          "shapedefaults": {
           "line": {
            "color": "#2a3f5f"
           }
          },
          "ternary": {
           "aaxis": {
            "gridcolor": "white",
            "linecolor": "white",
            "ticks": ""
           },
           "baxis": {
            "gridcolor": "white",
            "linecolor": "white",
            "ticks": ""
           },
           "bgcolor": "#E5ECF6",
           "caxis": {
            "gridcolor": "white",
            "linecolor": "white",
            "ticks": ""
           }
          },
          "title": {
           "x": 0.05
          },
          "xaxis": {
           "automargin": true,
           "gridcolor": "white",
           "linecolor": "white",
           "ticks": "",
           "title": {
            "standoff": 15
           },
           "zerolinecolor": "white",
           "zerolinewidth": 2
          },
          "yaxis": {
           "automargin": true,
           "gridcolor": "white",
           "linecolor": "white",
           "ticks": "",
           "title": {
            "standoff": 15
           },
           "zerolinecolor": "white",
           "zerolinewidth": 2
          }
         }
        }
       }
      },
      "image/png": "[encoded data removed]",
      "text/html": [
       "<div>                            <div id=\"2a777ca6-351b-4882-b0ea-f4f9143b6a86\" class=\"plotly-graph-div\" style=\"height:900px; width:100%;\"></div>            <script type=\"text/javascript\">                require([\"plotly\"], function(Plotly) {                    window.PLOTLYENV=window.PLOTLYENV || {};                                    if (document.getElementById(\"2a777ca6-351b-4882-b0ea-f4f9143b6a86\")) {                    Plotly.newPlot(                        \"2a777ca6-351b-4882-b0ea-f4f9143b6a86\",                        [{\"hovertemplate\":\"sepal_length=%{x}<br>petal_length=%{y}<br>petal_width=%{z}<br>target=%{marker.color}<extra></extra>\",\"legendgroup\":\"\",\"marker\":{\"color\":[0,0,0,0,0,0,0,0,0,0,0,0,0,0,0,0,0,0,0,0,0,0,0,0,0,0,0,0,0,0,0,0,0,0,0,0,0,0,0,0,0,0,0,0,0,0,0,0,0,0,1,1,1,1,1,1,1,1,1,1,1,1,1,1,1,1,1,1,1,1,1,1,1,1,1,1,1,1,1,1,1,1,1,1,1,1,1,1,1,1,1,1,1,1,1,1,1,1,1,1,2,2,2,2,2,2,2,2,2,2,2,2,2,2,2,2,2,2,2,2,2,2,2,2,2,2,2,2,2,2,2,2,2,2,2,2,2,2,2,2,2,2,2,2,2,2,2,2,2,2],\"coloraxis\":\"coloraxis\",\"symbol\":\"circle\"},\"mode\":\"markers\",\"name\":\"\",\"scene\":\"scene\",\"showlegend\":false,\"type\":\"scatter3d\",\"x\":[5.1,4.9,4.7,4.6,5.0,5.4,4.6,5.0,4.4,4.9,5.4,4.8,4.8,4.3,5.8,5.7,5.4,5.1,5.7,5.1,5.4,5.1,4.6,5.1,4.8,5.0,5.0,5.2,5.2,4.7,4.8,5.4,5.2,5.5,4.9,5.0,5.5,4.9,4.4,5.1,5.0,4.5,4.4,5.0,5.1,4.8,5.1,4.6,5.3,5.0,7.0,6.4,6.9,5.5,6.5,5.7,6.3,4.9,6.6,5.2,5.0,5.9,6.0,6.1,5.6,6.7,5.6,5.8,6.2,5.6,5.9,6.1,6.3,6.1,6.4,6.6,6.8,6.7,6.0,5.7,5.5,5.5,5.8,6.0,5.4,6.0,6.7,6.3,5.6,5.5,5.5,6.1,5.8,5.0,5.6,5.7,5.7,6.2,5.1,5.7,6.3,5.8,7.1,6.3,6.5,7.6,4.9,7.3,6.7,7.2,6.5,6.4,6.8,5.7,5.8,6.4,6.5,7.7,7.7,6.0,6.9,5.6,7.7,6.3,6.7,7.2,6.2,6.1,6.4,7.2,7.4,7.9,6.4,6.3,6.1,7.7,6.3,6.4,6.0,6.9,6.7,6.9,5.8,6.8,6.7,6.7,6.3,6.5,6.2,5.9],\"y\":[1.4,1.4,1.3,1.5,1.4,1.7,1.4,1.5,1.4,1.5,1.5,1.6,1.4,1.1,1.2,1.5,1.3,1.4,1.7,1.5,1.7,1.5,1.0,1.7,1.9,1.6,1.6,1.5,1.4,1.6,1.6,1.5,1.5,1.4,1.5,1.2,1.3,1.4,1.3,1.5,1.3,1.3,1.3,1.6,1.9,1.4,1.6,1.4,1.5,1.4,4.7,4.5,4.9,4.0,4.6,4.5,4.7,3.3,4.6,3.9,3.5,4.2,4.0,4.7,3.6,4.4,4.5,4.1,4.5,3.9,4.8,4.0,4.9,4.7,4.3,4.4,4.8,5.0,4.5,3.5,3.8,3.7,3.9,5.1,4.5,4.5,4.7,4.4,4.1,4.0,4.4,4.6,4.0,3.3,4.2,4.2,4.2,4.3,3.0,4.1,6.0,5.1,5.9,5.6,5.8,6.6,4.5,6.3,5.8,6.1,5.1,5.3,5.5,5.0,5.1,5.3,5.5,6.7,6.9,5.0,5.7,4.9,6.7,4.9,5.7,6.0,4.8,4.9,5.6,5.8,6.1,6.4,5.6,5.1,5.6,6.1,5.6,5.5,4.8,5.4,5.6,5.1,5.1,5.9,5.7,5.2,5.0,5.2,5.4,5.1],\"z\":[0.2,0.2,0.2,0.2,0.2,0.4,0.3,0.2,0.2,0.1,0.2,0.2,0.1,0.1,0.2,0.4,0.4,0.3,0.3,0.3,0.2,0.4,0.2,0.5,0.2,0.2,0.4,0.2,0.2,0.2,0.2,0.4,0.1,0.2,0.2,0.2,0.2,0.1,0.2,0.2,0.3,0.3,0.2,0.6,0.4,0.3,0.2,0.2,0.2,0.2,1.4,1.5,1.5,1.3,1.5,1.3,1.6,1.0,1.3,1.4,1.0,1.5,1.0,1.4,1.3,1.4,1.5,1.0,1.5,1.1,1.8,1.3,1.5,1.2,1.3,1.4,1.4,1.7,1.5,1.0,1.1,1.0,1.2,1.6,1.5,1.6,1.5,1.3,1.3,1.3,1.2,1.4,1.2,1.0,1.3,1.2,1.3,1.3,1.1,1.3,2.5,1.9,2.1,1.8,2.2,2.1,1.7,1.8,1.8,2.5,2.0,1.9,2.1,2.0,2.4,2.3,1.8,2.2,2.3,1.5,2.3,2.0,2.0,1.8,2.1,1.8,1.8,1.8,2.1,1.6,1.9,2.0,2.2,1.5,1.4,2.3,2.4,1.8,1.8,2.1,2.4,2.3,1.9,2.3,2.5,2.3,1.9,2.0,2.3,1.8]}],                        {\"coloraxis\":{\"colorbar\":{\"title\":{\"text\":\"target\"}},\"colorscale\":[[0.0,\"#0d0887\"],[0.1111111111111111,\"#46039f\"],[0.2222222222222222,\"#7201a8\"],[0.3333333333333333,\"#9c179e\"],[0.4444444444444444,\"#bd3786\"],[0.5555555555555556,\"#d8576b\"],[0.6666666666666666,\"#ed7953\"],[0.7777777777777778,\"#fb9f3a\"],[0.8888888888888888,\"#fdca26\"],[1.0,\"#f0f921\"]]},\"height\":900,\"legend\":{\"tracegroupgap\":0},\"margin\":{\"t\":60},\"scene\":{\"domain\":{\"x\":[0.0,1.0],\"y\":[0.0,1.0]},\"xaxis\":{\"title\":{\"text\":\"sepal_length\"}},\"yaxis\":{\"title\":{\"text\":\"petal_length\"}},\"zaxis\":{\"title\":{\"text\":\"petal_width\"}}},\"template\":{\"data\":{\"bar\":[{\"error_x\":{\"color\":\"#2a3f5f\"},\"error_y\":{\"color\":\"#2a3f5f\"},\"marker\":{\"line\":{\"color\":\"#E5ECF6\",\"width\":0.5},\"pattern\":{\"fillmode\":\"overlay\",\"size\":10,\"solidity\":0.2}},\"type\":\"bar\"}],\"barpolar\":[{\"marker\":{\"line\":{\"color\":\"#E5ECF6\",\"width\":0.5},\"pattern\":{\"fillmode\":\"overlay\",\"size\":10,\"solidity\":0.2}},\"type\":\"barpolar\"}],\"carpet\":[{\"aaxis\":{\"endlinecolor\":\"#2a3f5f\",\"gridcolor\":\"white\",\"linecolor\":\"white\",\"minorgridcolor\":\"white\",\"startlinecolor\":\"#2a3f5f\"},\"baxis\":{\"endlinecolor\":\"#2a3f5f\",\"gridcolor\":\"white\",\"linecolor\":\"white\",\"minorgridcolor\":\"white\",\"startlinecolor\":\"#2a3f5f\"},\"type\":\"carpet\"}],\"choropleth\":[{\"colorbar\":{\"outlinewidth\":0,\"ticks\":\"\"},\"type\":\"choropleth\"}],\"contour\":[{\"colorbar\":{\"outlinewidth\":0,\"ticks\":\"\"},\"colorscale\":[[0.0,\"#0d0887\"],[0.1111111111111111,\"#46039f\"],[0.2222222222222222,\"#7201a8\"],[0.3333333333333333,\"#9c179e\"],[0.4444444444444444,\"#bd3786\"],[0.5555555555555556,\"#d8576b\"],[0.6666666666666666,\"#ed7953\"],[0.7777777777777778,\"#fb9f3a\"],[0.8888888888888888,\"#fdca26\"],[1.0,\"#f0f921\"]],\"type\":\"contour\"}],\"contourcarpet\":[{\"colorbar\":{\"outlinewidth\":0,\"ticks\":\"\"},\"type\":\"contourcarpet\"}],\"heatmap\":[{\"colorbar\":{\"outlinewidth\":0,\"ticks\":\"\"},\"colorscale\":[[0.0,\"#0d0887\"],[0.1111111111111111,\"#46039f\"],[0.2222222222222222,\"#7201a8\"],[0.3333333333333333,\"#9c179e\"],[0.4444444444444444,\"#bd3786\"],[0.5555555555555556,\"#d8576b\"],[0.6666666666666666,\"#ed7953\"],[0.7777777777777778,\"#fb9f3a\"],[0.8888888888888888,\"#fdca26\"],[1.0,\"#f0f921\"]],\"type\":\"heatmap\"}],\"heatmapgl\":[{\"colorbar\":{\"outlinewidth\":0,\"ticks\":\"\"},\"colorscale\":[[0.0,\"#0d0887\"],[0.1111111111111111,\"#46039f\"],[0.2222222222222222,\"#7201a8\"],[0.3333333333333333,\"#9c179e\"],[0.4444444444444444,\"#bd3786\"],[0.5555555555555556,\"#d8576b\"],[0.6666666666666666,\"#ed7953\"],[0.7777777777777778,\"#fb9f3a\"],[0.8888888888888888,\"#fdca26\"],[1.0,\"#f0f921\"]],\"type\":\"heatmapgl\"}],\"histogram\":[{\"marker\":{\"pattern\":{\"fillmode\":\"overlay\",\"size\":10,\"solidity\":0.2}},\"type\":\"histogram\"}],\"histogram2d\":[{\"colorbar\":{\"outlinewidth\":0,\"ticks\":\"\"},\"colorscale\":[[0.0,\"#0d0887\"],[0.1111111111111111,\"#46039f\"],[0.2222222222222222,\"#7201a8\"],[0.3333333333333333,\"#9c179e\"],[0.4444444444444444,\"#bd3786\"],[0.5555555555555556,\"#d8576b\"],[0.6666666666666666,\"#ed7953\"],[0.7777777777777778,\"#fb9f3a\"],[0.8888888888888888,\"#fdca26\"],[1.0,\"#f0f921\"]],\"type\":\"histogram2d\"}],\"histogram2dcontour\":[{\"colorbar\":{\"outlinewidth\":0,\"ticks\":\"\"},\"colorscale\":[[0.0,\"#0d0887\"],[0.1111111111111111,\"#46039f\"],[0.2222222222222222,\"#7201a8\"],[0.3333333333333333,\"#9c179e\"],[0.4444444444444444,\"#bd3786\"],[0.5555555555555556,\"#d8576b\"],[0.6666666666666666,\"#ed7953\"],[0.7777777777777778,\"#fb9f3a\"],[0.8888888888888888,\"#fdca26\"],[1.0,\"#f0f921\"]],\"type\":\"histogram2dcontour\"}],\"mesh3d\":[{\"colorbar\":{\"outlinewidth\":0,\"ticks\":\"\"},\"type\":\"mesh3d\"}],\"parcoords\":[{\"line\":{\"colorbar\":{\"outlinewidth\":0,\"ticks\":\"\"}},\"type\":\"parcoords\"}],\"pie\":[{\"automargin\":true,\"type\":\"pie\"}],\"scatter\":[{\"marker\":{\"colorbar\":{\"outlinewidth\":0,\"ticks\":\"\"}},\"type\":\"scatter\"}],\"scatter3d\":[{\"line\":{\"colorbar\":{\"outlinewidth\":0,\"ticks\":\"\"}},\"marker\":{\"colorbar\":{\"outlinewidth\":0,\"ticks\":\"\"}},\"type\":\"scatter3d\"}],\"scattercarpet\":[{\"marker\":{\"colorbar\":{\"outlinewidth\":0,\"ticks\":\"\"}},\"type\":\"scattercarpet\"}],\"scattergeo\":[{\"marker\":{\"colorbar\":{\"outlinewidth\":0,\"ticks\":\"\"}},\"type\":\"scattergeo\"}],\"scattergl\":[{\"marker\":{\"colorbar\":{\"outlinewidth\":0,\"ticks\":\"\"}},\"type\":\"scattergl\"}],\"scattermapbox\":[{\"marker\":{\"colorbar\":{\"outlinewidth\":0,\"ticks\":\"\"}},\"type\":\"scattermapbox\"}],\"scatterpolar\":[{\"marker\":{\"colorbar\":{\"outlinewidth\":0,\"ticks\":\"\"}},\"type\":\"scatterpolar\"}],\"scatterpolargl\":[{\"marker\":{\"colorbar\":{\"outlinewidth\":0,\"ticks\":\"\"}},\"type\":\"scatterpolargl\"}],\"scatterternary\":[{\"marker\":{\"colorbar\":{\"outlinewidth\":0,\"ticks\":\"\"}},\"type\":\"scatterternary\"}],\"surface\":[{\"colorbar\":{\"outlinewidth\":0,\"ticks\":\"\"},\"colorscale\":[[0.0,\"#0d0887\"],[0.1111111111111111,\"#46039f\"],[0.2222222222222222,\"#7201a8\"],[0.3333333333333333,\"#9c179e\"],[0.4444444444444444,\"#bd3786\"],[0.5555555555555556,\"#d8576b\"],[0.6666666666666666,\"#ed7953\"],[0.7777777777777778,\"#fb9f3a\"],[0.8888888888888888,\"#fdca26\"],[1.0,\"#f0f921\"]],\"type\":\"surface\"}],\"table\":[{\"cells\":{\"fill\":{\"color\":\"#EBF0F8\"},\"line\":{\"color\":\"white\"}},\"header\":{\"fill\":{\"color\":\"#C8D4E3\"},\"line\":{\"color\":\"white\"}},\"type\":\"table\"}]},\"layout\":{\"annotationdefaults\":{\"arrowcolor\":\"#2a3f5f\",\"arrowhead\":0,\"arrowwidth\":1},\"autotypenumbers\":\"strict\",\"coloraxis\":{\"colorbar\":{\"outlinewidth\":0,\"ticks\":\"\"}},\"colorscale\":{\"diverging\":[[0,\"#8e0152\"],[0.1,\"#c51b7d\"],[0.2,\"#de77ae\"],[0.3,\"#f1b6da\"],[0.4,\"#fde0ef\"],[0.5,\"#f7f7f7\"],[0.6,\"#e6f5d0\"],[0.7,\"#b8e186\"],[0.8,\"#7fbc41\"],[0.9,\"#4d9221\"],[1,\"#276419\"]],\"sequential\":[[0.0,\"#0d0887\"],[0.1111111111111111,\"#46039f\"],[0.2222222222222222,\"#7201a8\"],[0.3333333333333333,\"#9c179e\"],[0.4444444444444444,\"#bd3786\"],[0.5555555555555556,\"#d8576b\"],[0.6666666666666666,\"#ed7953\"],[0.7777777777777778,\"#fb9f3a\"],[0.8888888888888888,\"#fdca26\"],[1.0,\"#f0f921\"]],\"sequentialminus\":[[0.0,\"#0d0887\"],[0.1111111111111111,\"#46039f\"],[0.2222222222222222,\"#7201a8\"],[0.3333333333333333,\"#9c179e\"],[0.4444444444444444,\"#bd3786\"],[0.5555555555555556,\"#d8576b\"],[0.6666666666666666,\"#ed7953\"],[0.7777777777777778,\"#fb9f3a\"],[0.8888888888888888,\"#fdca26\"],[1.0,\"#f0f921\"]]},\"colorway\":[\"#636efa\",\"#EF553B\",\"#00cc96\",\"#ab63fa\",\"#FFA15A\",\"#19d3f3\",\"#FF6692\",\"#B6E880\",\"#FF97FF\",\"#FECB52\"],\"font\":{\"color\":\"#2a3f5f\"},\"geo\":{\"bgcolor\":\"white\",\"lakecolor\":\"white\",\"landcolor\":\"#E5ECF6\",\"showlakes\":true,\"showland\":true,\"subunitcolor\":\"white\"},\"hoverlabel\":{\"align\":\"left\"},\"hovermode\":\"closest\",\"mapbox\":{\"style\":\"light\"},\"paper_bgcolor\":\"white\",\"plot_bgcolor\":\"#E5ECF6\",\"polar\":{\"angularaxis\":{\"gridcolor\":\"white\",\"linecolor\":\"white\",\"ticks\":\"\"},\"bgcolor\":\"#E5ECF6\",\"radialaxis\":{\"gridcolor\":\"white\",\"linecolor\":\"white\",\"ticks\":\"\"}},\"scene\":{\"xaxis\":{\"backgroundcolor\":\"#E5ECF6\",\"gridcolor\":\"white\",\"gridwidth\":2,\"linecolor\":\"white\",\"showbackground\":true,\"ticks\":\"\",\"zerolinecolor\":\"white\"},\"yaxis\":{\"backgroundcolor\":\"#E5ECF6\",\"gridcolor\":\"white\",\"gridwidth\":2,\"linecolor\":\"white\",\"showbackground\":true,\"ticks\":\"\",\"zerolinecolor\":\"white\"},\"zaxis\":{\"backgroundcolor\":\"#E5ECF6\",\"gridcolor\":\"white\",\"gridwidth\":2,\"linecolor\":\"white\",\"showbackground\":true,\"ticks\":\"\",\"zerolinecolor\":\"white\"}},\"shapedefaults\":{\"line\":{\"color\":\"#2a3f5f\"}},\"ternary\":{\"aaxis\":{\"gridcolor\":\"white\",\"linecolor\":\"white\",\"ticks\":\"\"},\"baxis\":{\"gridcolor\":\"white\",\"linecolor\":\"white\",\"ticks\":\"\"},\"bgcolor\":\"#E5ECF6\",\"caxis\":{\"gridcolor\":\"white\",\"linecolor\":\"white\",\"ticks\":\"\"}},\"title\":{\"x\":0.05},\"xaxis\":{\"automargin\":true,\"gridcolor\":\"white\",\"linecolor\":\"white\",\"ticks\":\"\",\"title\":{\"standoff\":15},\"zerolinecolor\":\"white\",\"zerolinewidth\":2},\"yaxis\":{\"automargin\":true,\"gridcolor\":\"white\",\"linecolor\":\"white\",\"ticks\":\"\",\"title\":{\"standoff\":15},\"zerolinecolor\":\"white\",\"zerolinewidth\":2}}}},                        {\"responsive\": true}                    ).then(function(){\n",
       "                            \n",
       "var gd = document.getElementById('2a777ca6-351b-4882-b0ea-f4f9143b6a86');\n",
       "var x = new MutationObserver(function (mutations, observer) {{\n",
       "        var display = window.getComputedStyle(gd).display;\n",
       "        if (!display || display === 'none') {{\n",
       "            console.log([gd, 'removed!']);\n",
       "            Plotly.purge(gd);\n",
       "            observer.disconnect();\n",
       "        }}\n",
       "}});\n",
       "\n",
       "// Listen for the removal of the full notebook cells\n",
       "var notebookContainer = gd.closest('#notebook-container');\n",
       "if (notebookContainer) {{\n",
       "    x.observe(notebookContainer, {childList: true});\n",
       "}}\n",
       "\n",
       "// Listen for the clearing of the current output cell\n",
       "var outputEl = gd.closest('.output');\n",
       "if (outputEl) {{\n",
       "    x.observe(outputEl, {childList: true});\n",
       "}}\n",
       "\n",
       "                        })                };                });            </script>        </div>"
      ]
     },
     "metadata": {},
     "output_type": "display_data"
    }
   ],
   "source": [
    "px.scatter_3d(df, x='sepal_length', y='petal_length', z='petal_width',\n",
    "              color='target', height=900)"
   ]
  },
  {
   "cell_type": "code",
   "execution_count": null,
   "id": "ba194c08-c3b6-4cec-b8a4-8a8ed0b67057",
   "metadata": {},
   "outputs": [],
   "source": [
    "cor = df.corr().round(2)"
   ]
  },
  {
   "cell_type": "code",
   "execution_count": null,
   "id": "55bb642d-057a-4a2e-a2e8-e11826ad3e72",
   "metadata": {},
   "outputs": [
    {
     "name": "stdout",
     "output_type": "stream",
     "text": [
      "              sepal_length  sepal_width  petal_length  petal_width  target\n",
      "sepal_length          1.00        -0.12          0.87         0.82    0.78\n",
      "sepal_width          -0.12         1.00         -0.43        -0.37   -0.43\n",
      "petal_length          0.87        -0.43          1.00         0.96    0.95\n",
      "petal_width           0.82        -0.37          0.96         1.00    0.96\n",
      "target                0.78        -0.43          0.95         0.96    1.00\n"
     ]
    }
   ],
   "source": [
    "print(cor)"
   ]
  },
  {
   "cell_type": "code",
   "execution_count": null,
   "id": "379e48ca-6a71-4de4-81c8-0348196f7306",
   "metadata": {},
   "outputs": [
    {
     "data": {
      "application/vnd.plotly.v1+json": {
       "config": {
        "plotlyServerURL": "https://plot.ly"
       },
       "data": [
        {
         "coloraxis": "coloraxis",
         "hovertemplate": "x: %{x}<br>y: %{y}<br>color: %{z}<extra></extra>",
         "name": "0",
         "type": "heatmap",
         "x": [
          "sepal_length",
          "sepal_width",
          "petal_length",
          "petal_width",
          "target"
         ],
         "xaxis": "x",
         "y": [
          "sepal_length",
          "sepal_width",
          "petal_length",
          "petal_width",
          "target"
         ],
         "yaxis": "y",
         "z": [
          [
           1,
           -0.12,
           0.87,
           0.82,
           0.78
          ],
          [
           -0.12,
           1,
           -0.43,
           -0.37,
           -0.43
          ],
          [
           0.87,
           -0.43,
           1,
           0.96,
           0.95
          ],
          [
           0.82,
           -0.37,
           0.96,
           1,
           0.96
          ],
          [
           0.78,
           -0.43,
           0.95,
           0.96,
           1
          ]
         ]
        }
       ],
       "layout": {
        "autosize": true,
        "coloraxis": {
         "colorscale": [
          [
           0,
           "#0d0887"
          ],
          [
           0.1111111111111111,
           "#46039f"
          ],
          [
           0.2222222222222222,
           "#7201a8"
          ],
          [
           0.3333333333333333,
           "#9c179e"
          ],
          [
           0.4444444444444444,
           "#bd3786"
          ],
          [
           0.5555555555555556,
           "#d8576b"
          ],
          [
           0.6666666666666666,
           "#ed7953"
          ],
          [
           0.7777777777777778,
           "#fb9f3a"
          ],
          [
           0.8888888888888888,
           "#fdca26"
          ],
          [
           1,
           "#f0f921"
          ]
         ]
        },
        "margin": {
         "t": 60
        },
        "template": {
         "data": {
          "bar": [
           {
            "error_x": {
             "color": "#2a3f5f"
            },
            "error_y": {
             "color": "#2a3f5f"
            },
            "marker": {
             "line": {
              "color": "#E5ECF6",
              "width": 0.5
             },
             "pattern": {
              "fillmode": "overlay",
              "size": 10,
              "solidity": 0.2
             }
            },
            "type": "bar"
           }
          ],
          "barpolar": [
           {
            "marker": {
             "line": {
              "color": "#E5ECF6",
              "width": 0.5
             },
             "pattern": {
              "fillmode": "overlay",
              "size": 10,
              "solidity": 0.2
             }
            },
            "type": "barpolar"
           }
          ],
          "carpet": [
           {
            "aaxis": {
             "endlinecolor": "#2a3f5f",
             "gridcolor": "white",
             "linecolor": "white",
             "minorgridcolor": "white",
             "startlinecolor": "#2a3f5f"
            },
            "baxis": {
             "endlinecolor": "#2a3f5f",
             "gridcolor": "white",
             "linecolor": "white",
             "minorgridcolor": "white",
             "startlinecolor": "#2a3f5f"
            },
            "type": "carpet"
           }
          ],
          "choropleth": [
           {
            "colorbar": {
             "outlinewidth": 0,
             "ticks": ""
            },
            "type": "choropleth"
           }
          ],
          "contour": [
           {
            "colorbar": {
             "outlinewidth": 0,
             "ticks": ""
            },
            "colorscale": [
             [
              0,
              "#0d0887"
             ],
             [
              0.1111111111111111,
              "#46039f"
             ],
             [
              0.2222222222222222,
              "#7201a8"
             ],
             [
              0.3333333333333333,
              "#9c179e"
             ],
             [
              0.4444444444444444,
              "#bd3786"
             ],
             [
              0.5555555555555556,
              "#d8576b"
             ],
             [
              0.6666666666666666,
              "#ed7953"
             ],
             [
              0.7777777777777778,
              "#fb9f3a"
             ],
             [
              0.8888888888888888,
              "#fdca26"
             ],
             [
              1,
              "#f0f921"
             ]
            ],
            "type": "contour"
           }
          ],
          "contourcarpet": [
           {
            "colorbar": {
             "outlinewidth": 0,
             "ticks": ""
            },
            "type": "contourcarpet"
           }
          ],
          "heatmap": [
           {
            "colorbar": {
             "outlinewidth": 0,
             "ticks": ""
            },
            "colorscale": [
             [
              0,
              "#0d0887"
             ],
             [
              0.1111111111111111,
              "#46039f"
             ],
             [
              0.2222222222222222,
              "#7201a8"
             ],
             [
              0.3333333333333333,
              "#9c179e"
             ],
             [
              0.4444444444444444,
              "#bd3786"
             ],
             [
              0.5555555555555556,
              "#d8576b"
             ],
             [
              0.6666666666666666,
              "#ed7953"
             ],
             [
              0.7777777777777778,
              "#fb9f3a"
             ],
             [
              0.8888888888888888,
              "#fdca26"
             ],
             [
              1,
              "#f0f921"
             ]
            ],
            "type": "heatmap"
           }
          ],
          "heatmapgl": [
           {
            "colorbar": {
             "outlinewidth": 0,
             "ticks": ""
            },
            "colorscale": [
             [
              0,
              "#0d0887"
             ],
             [
              0.1111111111111111,
              "#46039f"
             ],
             [
              0.2222222222222222,
              "#7201a8"
             ],
             [
              0.3333333333333333,
              "#9c179e"
             ],
             [
              0.4444444444444444,
              "#bd3786"
             ],
             [
              0.5555555555555556,
              "#d8576b"
             ],
             [
              0.6666666666666666,
              "#ed7953"
             ],
             [
              0.7777777777777778,
              "#fb9f3a"
             ],
             [
              0.8888888888888888,
              "#fdca26"
             ],
             [
              1,
              "#f0f921"
             ]
            ],
            "type": "heatmapgl"
           }
          ],
          "histogram": [
           {
            "marker": {
             "pattern": {
              "fillmode": "overlay",
              "size": 10,
              "solidity": 0.2
             }
            },
            "type": "histogram"
           }
          ],
          "histogram2d": [
           {
            "colorbar": {
             "outlinewidth": 0,
             "ticks": ""
            },
            "colorscale": [
             [
              0,
              "#0d0887"
             ],
             [
              0.1111111111111111,
              "#46039f"
             ],
             [
              0.2222222222222222,
              "#7201a8"
             ],
             [
              0.3333333333333333,
              "#9c179e"
             ],
             [
              0.4444444444444444,
              "#bd3786"
             ],
             [
              0.5555555555555556,
              "#d8576b"
             ],
             [
              0.6666666666666666,
              "#ed7953"
             ],
             [
              0.7777777777777778,
              "#fb9f3a"
             ],
             [
              0.8888888888888888,
              "#fdca26"
             ],
             [
              1,
              "#f0f921"
             ]
            ],
            "type": "histogram2d"
           }
          ],
          "histogram2dcontour": [
           {
            "colorbar": {
             "outlinewidth": 0,
             "ticks": ""
            },
            "colorscale": [
             [
              0,
              "#0d0887"
             ],
             [
              0.1111111111111111,
              "#46039f"
             ],
             [
              0.2222222222222222,
              "#7201a8"
             ],
             [
              0.3333333333333333,
              "#9c179e"
             ],
             [
              0.4444444444444444,
              "#bd3786"
             ],
             [
              0.5555555555555556,
              "#d8576b"
             ],
             [
              0.6666666666666666,
              "#ed7953"
             ],
             [
              0.7777777777777778,
              "#fb9f3a"
             ],
             [
              0.8888888888888888,
              "#fdca26"
             ],
             [
              1,
              "#f0f921"
             ]
            ],
            "type": "histogram2dcontour"
           }
          ],
          "mesh3d": [
           {
            "colorbar": {
             "outlinewidth": 0,
             "ticks": ""
            },
            "type": "mesh3d"
           }
          ],
          "parcoords": [
           {
            "line": {
             "colorbar": {
              "outlinewidth": 0,
              "ticks": ""
             }
            },
            "type": "parcoords"
           }
          ],
          "pie": [
           {
            "automargin": true,
            "type": "pie"
           }
          ],
          "scatter": [
           {
            "marker": {
             "colorbar": {
              "outlinewidth": 0,
              "ticks": ""
             }
            },
            "type": "scatter"
           }
          ],
          "scatter3d": [
           {
            "line": {
             "colorbar": {
              "outlinewidth": 0,
              "ticks": ""
             }
            },
            "marker": {
             "colorbar": {
              "outlinewidth": 0,
              "ticks": ""
             }
            },
            "type": "scatter3d"
           }
          ],
          "scattercarpet": [
           {
            "marker": {
             "colorbar": {
              "outlinewidth": 0,
              "ticks": ""
             }
            },
            "type": "scattercarpet"
           }
          ],
          "scattergeo": [
           {
            "marker": {
             "colorbar": {
              "outlinewidth": 0,
              "ticks": ""
             }
            },
            "type": "scattergeo"
           }
          ],
          "scattergl": [
           {
            "marker": {
             "colorbar": {
              "outlinewidth": 0,
              "ticks": ""
             }
            },
            "type": "scattergl"
           }
          ],
          "scattermapbox": [
           {
            "marker": {
             "colorbar": {
              "outlinewidth": 0,
              "ticks": ""
             }
            },
            "type": "scattermapbox"
           }
          ],
          "scatterpolar": [
           {
            "marker": {
             "colorbar": {
              "outlinewidth": 0,
              "ticks": ""
             }
            },
            "type": "scatterpolar"
           }
          ],
          "scatterpolargl": [
           {
            "marker": {
             "colorbar": {
              "outlinewidth": 0,
              "ticks": ""
             }
            },
            "type": "scatterpolargl"
           }
          ],
          "scatterternary": [
           {
            "marker": {
             "colorbar": {
              "outlinewidth": 0,
              "ticks": ""
             }
            },
            "type": "scatterternary"
           }
          ],
          "surface": [
           {
            "colorbar": {
             "outlinewidth": 0,
             "ticks": ""
            },
            "colorscale": [
             [
              0,
              "#0d0887"
             ],
             [
              0.1111111111111111,
              "#46039f"
             ],
             [
              0.2222222222222222,
              "#7201a8"
             ],
             [
              0.3333333333333333,
              "#9c179e"
             ],
             [
              0.4444444444444444,
              "#bd3786"
             ],
             [
              0.5555555555555556,
              "#d8576b"
             ],
             [
              0.6666666666666666,
              "#ed7953"
             ],
             [
              0.7777777777777778,
              "#fb9f3a"
             ],
             [
              0.8888888888888888,
              "#fdca26"
             ],
             [
              1,
              "#f0f921"
             ]
            ],
            "type": "surface"
           }
          ],
          "table": [
           {
            "cells": {
             "fill": {
              "color": "#EBF0F8"
             },
             "line": {
              "color": "white"
             }
            },
            "header": {
             "fill": {
              "color": "#C8D4E3"
             },
             "line": {
              "color": "white"
             }
            },
            "type": "table"
           }
          ]
         },
         "layout": {
          "annotationdefaults": {
           "arrowcolor": "#2a3f5f",
           "arrowhead": 0,
           "arrowwidth": 1
          },
          "autotypenumbers": "strict",
          "coloraxis": {
           "colorbar": {
            "outlinewidth": 0,
            "ticks": ""
           }
          },
          "colorscale": {
           "diverging": [
            [
             0,
             "#8e0152"
            ],
            [
             0.1,
             "#c51b7d"
            ],
            [
             0.2,
             "#de77ae"
            ],
            [
             0.3,
             "#f1b6da"
            ],
            [
             0.4,
             "#fde0ef"
            ],
            [
             0.5,
             "#f7f7f7"
            ],
            [
             0.6,
             "#e6f5d0"
            ],
            [
             0.7,
             "#b8e186"
            ],
            [
             0.8,
             "#7fbc41"
            ],
            [
             0.9,
             "#4d9221"
            ],
            [
             1,
             "#276419"
            ]
           ],
           "sequential": [
            [
             0,
             "#0d0887"
            ],
            [
             0.1111111111111111,
             "#46039f"
            ],
            [
             0.2222222222222222,
             "#7201a8"
            ],
            [
             0.3333333333333333,
             "#9c179e"
            ],
            [
             0.4444444444444444,
             "#bd3786"
            ],
            [
             0.5555555555555556,
             "#d8576b"
            ],
            [
             0.6666666666666666,
             "#ed7953"
            ],
            [
             0.7777777777777778,
             "#fb9f3a"
            ],
            [
             0.8888888888888888,
             "#fdca26"
            ],
            [
             1,
             "#f0f921"
            ]
           ],
           "sequentialminus": [
            [
             0,
             "#0d0887"
            ],
            [
             0.1111111111111111,
             "#46039f"
            ],
            [
             0.2222222222222222,
             "#7201a8"
            ],
            [
             0.3333333333333333,
             "#9c179e"
            ],
            [
             0.4444444444444444,
             "#bd3786"
            ],
            [
             0.5555555555555556,
             "#d8576b"
            ],
            [
             0.6666666666666666,
             "#ed7953"
            ],
            [
             0.7777777777777778,
             "#fb9f3a"
            ],
            [
             0.8888888888888888,
             "#fdca26"
            ],
            [
             1,
             "#f0f921"
            ]
           ]
          },
          "colorway": [
           "#636efa",
           "#EF553B",
           "#00cc96",
           "#ab63fa",
           "#FFA15A",
           "#19d3f3",
           "#FF6692",
           "#B6E880",
           "#FF97FF",
           "#FECB52"
          ],
          "font": {
           "color": "#2a3f5f"
          },
          "geo": {
           "bgcolor": "white",
           "lakecolor": "white",
           "landcolor": "#E5ECF6",
           "showlakes": true,
           "showland": true,
           "subunitcolor": "white"
          },
          "hoverlabel": {
           "align": "left"
          },
          "hovermode": "closest",
          "mapbox": {
           "style": "light"
          },
          "paper_bgcolor": "white",
          "plot_bgcolor": "#E5ECF6",
          "polar": {
           "angularaxis": {
            "gridcolor": "white",
            "linecolor": "white",
            "ticks": ""
           },
           "bgcolor": "#E5ECF6",
           "radialaxis": {
            "gridcolor": "white",
            "linecolor": "white",
            "ticks": ""
           }
          },
          "scene": {
           "xaxis": {
            "backgroundcolor": "#E5ECF6",
            "gridcolor": "white",
            "gridwidth": 2,
            "linecolor": "white",
            "showbackground": true,
            "ticks": "",
            "zerolinecolor": "white"
           },
           "yaxis": {
            "backgroundcolor": "#E5ECF6",
            "gridcolor": "white",
            "gridwidth": 2,
            "linecolor": "white",
            "showbackground": true,
            "ticks": "",
            "zerolinecolor": "white"
           },
           "zaxis": {
            "backgroundcolor": "#E5ECF6",
            "gridcolor": "white",
            "gridwidth": 2,
            "linecolor": "white",
            "showbackground": true,
            "ticks": "",
            "zerolinecolor": "white"
           }
          },
          "shapedefaults": {
           "line": {
            "color": "#2a3f5f"
           }
          },
          "ternary": {
           "aaxis": {
            "gridcolor": "white",
            "linecolor": "white",
            "ticks": ""
           },
           "baxis": {
            "gridcolor": "white",
            "linecolor": "white",
            "ticks": ""
           },
           "bgcolor": "#E5ECF6",
           "caxis": {
            "gridcolor": "white",
            "linecolor": "white",
            "ticks": ""
           }
          },
          "title": {
           "x": 0.05
          },
          "xaxis": {
           "automargin": true,
           "gridcolor": "white",
           "linecolor": "white",
           "ticks": "",
           "title": {
            "standoff": 15
           },
           "zerolinecolor": "white",
           "zerolinewidth": 2
          },
          "yaxis": {
           "automargin": true,
           "gridcolor": "white",
           "linecolor": "white",
           "ticks": "",
           "title": {
            "standoff": 15
           },
           "zerolinecolor": "white",
           "zerolinewidth": 2
          }
         }
        },
        "xaxis": {
         "anchor": "y",
         "autorange": true,
         "constrain": "domain",
         "domain": [
          0.31946624803767665,
          0.6805337519623234
         ],
         "range": [
          -0.5,
          4.5
         ],
         "scaleanchor": "y",
         "type": "category"
        },
        "yaxis": {
         "anchor": "x",
         "autorange": true,
         "constrain": "domain",
         "domain": [
          0,
          1
         ],
         "range": [
          4.5,
          -0.5
         ],
         "type": "category"
        }
       }
      },
      "image/png": "[encoded data removed]",
      "text/html": [
       "<div>                            <div id=\"776efcf7-ec99-4259-afa5-4e2613ff0d78\" class=\"plotly-graph-div\" style=\"height:600px; width:100%;\"></div>            <script type=\"text/javascript\">                require([\"plotly\"], function(Plotly) {                    window.PLOTLYENV=window.PLOTLYENV || {};                                    if (document.getElementById(\"776efcf7-ec99-4259-afa5-4e2613ff0d78\")) {                    Plotly.newPlot(                        \"776efcf7-ec99-4259-afa5-4e2613ff0d78\",                        [{\"coloraxis\":\"coloraxis\",\"hovertemplate\":\"x: %{x}<br>y: %{y}<br>color: %{z}<extra></extra>\",\"name\":\"0\",\"type\":\"heatmap\",\"x\":[\"sepal_length\",\"sepal_width\",\"petal_length\",\"petal_width\",\"target\"],\"xaxis\":\"x\",\"y\":[\"sepal_length\",\"sepal_width\",\"petal_length\",\"petal_width\",\"target\"],\"yaxis\":\"y\",\"z\":[[1.0,-0.12,0.87,0.82,0.78],[-0.12,1.0,-0.43,-0.37,-0.43],[0.87,-0.43,1.0,0.96,0.95],[0.82,-0.37,0.96,1.0,0.96],[0.78,-0.43,0.95,0.96,1.0]]}],                        {\"coloraxis\":{\"colorscale\":[[0.0,\"#0d0887\"],[0.1111111111111111,\"#46039f\"],[0.2222222222222222,\"#7201a8\"],[0.3333333333333333,\"#9c179e\"],[0.4444444444444444,\"#bd3786\"],[0.5555555555555556,\"#d8576b\"],[0.6666666666666666,\"#ed7953\"],[0.7777777777777778,\"#fb9f3a\"],[0.8888888888888888,\"#fdca26\"],[1.0,\"#f0f921\"]]},\"height\":600,\"margin\":{\"t\":60},\"template\":{\"data\":{\"bar\":[{\"error_x\":{\"color\":\"#2a3f5f\"},\"error_y\":{\"color\":\"#2a3f5f\"},\"marker\":{\"line\":{\"color\":\"#E5ECF6\",\"width\":0.5},\"pattern\":{\"fillmode\":\"overlay\",\"size\":10,\"solidity\":0.2}},\"type\":\"bar\"}],\"barpolar\":[{\"marker\":{\"line\":{\"color\":\"#E5ECF6\",\"width\":0.5},\"pattern\":{\"fillmode\":\"overlay\",\"size\":10,\"solidity\":0.2}},\"type\":\"barpolar\"}],\"carpet\":[{\"aaxis\":{\"endlinecolor\":\"#2a3f5f\",\"gridcolor\":\"white\",\"linecolor\":\"white\",\"minorgridcolor\":\"white\",\"startlinecolor\":\"#2a3f5f\"},\"baxis\":{\"endlinecolor\":\"#2a3f5f\",\"gridcolor\":\"white\",\"linecolor\":\"white\",\"minorgridcolor\":\"white\",\"startlinecolor\":\"#2a3f5f\"},\"type\":\"carpet\"}],\"choropleth\":[{\"colorbar\":{\"outlinewidth\":0,\"ticks\":\"\"},\"type\":\"choropleth\"}],\"contour\":[{\"colorbar\":{\"outlinewidth\":0,\"ticks\":\"\"},\"colorscale\":[[0.0,\"#0d0887\"],[0.1111111111111111,\"#46039f\"],[0.2222222222222222,\"#7201a8\"],[0.3333333333333333,\"#9c179e\"],[0.4444444444444444,\"#bd3786\"],[0.5555555555555556,\"#d8576b\"],[0.6666666666666666,\"#ed7953\"],[0.7777777777777778,\"#fb9f3a\"],[0.8888888888888888,\"#fdca26\"],[1.0,\"#f0f921\"]],\"type\":\"contour\"}],\"contourcarpet\":[{\"colorbar\":{\"outlinewidth\":0,\"ticks\":\"\"},\"type\":\"contourcarpet\"}],\"heatmap\":[{\"colorbar\":{\"outlinewidth\":0,\"ticks\":\"\"},\"colorscale\":[[0.0,\"#0d0887\"],[0.1111111111111111,\"#46039f\"],[0.2222222222222222,\"#7201a8\"],[0.3333333333333333,\"#9c179e\"],[0.4444444444444444,\"#bd3786\"],[0.5555555555555556,\"#d8576b\"],[0.6666666666666666,\"#ed7953\"],[0.7777777777777778,\"#fb9f3a\"],[0.8888888888888888,\"#fdca26\"],[1.0,\"#f0f921\"]],\"type\":\"heatmap\"}],\"heatmapgl\":[{\"colorbar\":{\"outlinewidth\":0,\"ticks\":\"\"},\"colorscale\":[[0.0,\"#0d0887\"],[0.1111111111111111,\"#46039f\"],[0.2222222222222222,\"#7201a8\"],[0.3333333333333333,\"#9c179e\"],[0.4444444444444444,\"#bd3786\"],[0.5555555555555556,\"#d8576b\"],[0.6666666666666666,\"#ed7953\"],[0.7777777777777778,\"#fb9f3a\"],[0.8888888888888888,\"#fdca26\"],[1.0,\"#f0f921\"]],\"type\":\"heatmapgl\"}],\"histogram\":[{\"marker\":{\"pattern\":{\"fillmode\":\"overlay\",\"size\":10,\"solidity\":0.2}},\"type\":\"histogram\"}],\"histogram2d\":[{\"colorbar\":{\"outlinewidth\":0,\"ticks\":\"\"},\"colorscale\":[[0.0,\"#0d0887\"],[0.1111111111111111,\"#46039f\"],[0.2222222222222222,\"#7201a8\"],[0.3333333333333333,\"#9c179e\"],[0.4444444444444444,\"#bd3786\"],[0.5555555555555556,\"#d8576b\"],[0.6666666666666666,\"#ed7953\"],[0.7777777777777778,\"#fb9f3a\"],[0.8888888888888888,\"#fdca26\"],[1.0,\"#f0f921\"]],\"type\":\"histogram2d\"}],\"histogram2dcontour\":[{\"colorbar\":{\"outlinewidth\":0,\"ticks\":\"\"},\"colorscale\":[[0.0,\"#0d0887\"],[0.1111111111111111,\"#46039f\"],[0.2222222222222222,\"#7201a8\"],[0.3333333333333333,\"#9c179e\"],[0.4444444444444444,\"#bd3786\"],[0.5555555555555556,\"#d8576b\"],[0.6666666666666666,\"#ed7953\"],[0.7777777777777778,\"#fb9f3a\"],[0.8888888888888888,\"#fdca26\"],[1.0,\"#f0f921\"]],\"type\":\"histogram2dcontour\"}],\"mesh3d\":[{\"colorbar\":{\"outlinewidth\":0,\"ticks\":\"\"},\"type\":\"mesh3d\"}],\"parcoords\":[{\"line\":{\"colorbar\":{\"outlinewidth\":0,\"ticks\":\"\"}},\"type\":\"parcoords\"}],\"pie\":[{\"automargin\":true,\"type\":\"pie\"}],\"scatter\":[{\"marker\":{\"colorbar\":{\"outlinewidth\":0,\"ticks\":\"\"}},\"type\":\"scatter\"}],\"scatter3d\":[{\"line\":{\"colorbar\":{\"outlinewidth\":0,\"ticks\":\"\"}},\"marker\":{\"colorbar\":{\"outlinewidth\":0,\"ticks\":\"\"}},\"type\":\"scatter3d\"}],\"scattercarpet\":[{\"marker\":{\"colorbar\":{\"outlinewidth\":0,\"ticks\":\"\"}},\"type\":\"scattercarpet\"}],\"scattergeo\":[{\"marker\":{\"colorbar\":{\"outlinewidth\":0,\"ticks\":\"\"}},\"type\":\"scattergeo\"}],\"scattergl\":[{\"marker\":{\"colorbar\":{\"outlinewidth\":0,\"ticks\":\"\"}},\"type\":\"scattergl\"}],\"scattermapbox\":[{\"marker\":{\"colorbar\":{\"outlinewidth\":0,\"ticks\":\"\"}},\"type\":\"scattermapbox\"}],\"scatterpolar\":[{\"marker\":{\"colorbar\":{\"outlinewidth\":0,\"ticks\":\"\"}},\"type\":\"scatterpolar\"}],\"scatterpolargl\":[{\"marker\":{\"colorbar\":{\"outlinewidth\":0,\"ticks\":\"\"}},\"type\":\"scatterpolargl\"}],\"scatterternary\":[{\"marker\":{\"colorbar\":{\"outlinewidth\":0,\"ticks\":\"\"}},\"type\":\"scatterternary\"}],\"surface\":[{\"colorbar\":{\"outlinewidth\":0,\"ticks\":\"\"},\"colorscale\":[[0.0,\"#0d0887\"],[0.1111111111111111,\"#46039f\"],[0.2222222222222222,\"#7201a8\"],[0.3333333333333333,\"#9c179e\"],[0.4444444444444444,\"#bd3786\"],[0.5555555555555556,\"#d8576b\"],[0.6666666666666666,\"#ed7953\"],[0.7777777777777778,\"#fb9f3a\"],[0.8888888888888888,\"#fdca26\"],[1.0,\"#f0f921\"]],\"type\":\"surface\"}],\"table\":[{\"cells\":{\"fill\":{\"color\":\"#EBF0F8\"},\"line\":{\"color\":\"white\"}},\"header\":{\"fill\":{\"color\":\"#C8D4E3\"},\"line\":{\"color\":\"white\"}},\"type\":\"table\"}]},\"layout\":{\"annotationdefaults\":{\"arrowcolor\":\"#2a3f5f\",\"arrowhead\":0,\"arrowwidth\":1},\"autotypenumbers\":\"strict\",\"coloraxis\":{\"colorbar\":{\"outlinewidth\":0,\"ticks\":\"\"}},\"colorscale\":{\"diverging\":[[0,\"#8e0152\"],[0.1,\"#c51b7d\"],[0.2,\"#de77ae\"],[0.3,\"#f1b6da\"],[0.4,\"#fde0ef\"],[0.5,\"#f7f7f7\"],[0.6,\"#e6f5d0\"],[0.7,\"#b8e186\"],[0.8,\"#7fbc41\"],[0.9,\"#4d9221\"],[1,\"#276419\"]],\"sequential\":[[0.0,\"#0d0887\"],[0.1111111111111111,\"#46039f\"],[0.2222222222222222,\"#7201a8\"],[0.3333333333333333,\"#9c179e\"],[0.4444444444444444,\"#bd3786\"],[0.5555555555555556,\"#d8576b\"],[0.6666666666666666,\"#ed7953\"],[0.7777777777777778,\"#fb9f3a\"],[0.8888888888888888,\"#fdca26\"],[1.0,\"#f0f921\"]],\"sequentialminus\":[[0.0,\"#0d0887\"],[0.1111111111111111,\"#46039f\"],[0.2222222222222222,\"#7201a8\"],[0.3333333333333333,\"#9c179e\"],[0.4444444444444444,\"#bd3786\"],[0.5555555555555556,\"#d8576b\"],[0.6666666666666666,\"#ed7953\"],[0.7777777777777778,\"#fb9f3a\"],[0.8888888888888888,\"#fdca26\"],[1.0,\"#f0f921\"]]},\"colorway\":[\"#636efa\",\"#EF553B\",\"#00cc96\",\"#ab63fa\",\"#FFA15A\",\"#19d3f3\",\"#FF6692\",\"#B6E880\",\"#FF97FF\",\"#FECB52\"],\"font\":{\"color\":\"#2a3f5f\"},\"geo\":{\"bgcolor\":\"white\",\"lakecolor\":\"white\",\"landcolor\":\"#E5ECF6\",\"showlakes\":true,\"showland\":true,\"subunitcolor\":\"white\"},\"hoverlabel\":{\"align\":\"left\"},\"hovermode\":\"closest\",\"mapbox\":{\"style\":\"light\"},\"paper_bgcolor\":\"white\",\"plot_bgcolor\":\"#E5ECF6\",\"polar\":{\"angularaxis\":{\"gridcolor\":\"white\",\"linecolor\":\"white\",\"ticks\":\"\"},\"bgcolor\":\"#E5ECF6\",\"radialaxis\":{\"gridcolor\":\"white\",\"linecolor\":\"white\",\"ticks\":\"\"}},\"scene\":{\"xaxis\":{\"backgroundcolor\":\"#E5ECF6\",\"gridcolor\":\"white\",\"gridwidth\":2,\"linecolor\":\"white\",\"showbackground\":true,\"ticks\":\"\",\"zerolinecolor\":\"white\"},\"yaxis\":{\"backgroundcolor\":\"#E5ECF6\",\"gridcolor\":\"white\",\"gridwidth\":2,\"linecolor\":\"white\",\"showbackground\":true,\"ticks\":\"\",\"zerolinecolor\":\"white\"},\"zaxis\":{\"backgroundcolor\":\"#E5ECF6\",\"gridcolor\":\"white\",\"gridwidth\":2,\"linecolor\":\"white\",\"showbackground\":true,\"ticks\":\"\",\"zerolinecolor\":\"white\"}},\"shapedefaults\":{\"line\":{\"color\":\"#2a3f5f\"}},\"ternary\":{\"aaxis\":{\"gridcolor\":\"white\",\"linecolor\":\"white\",\"ticks\":\"\"},\"baxis\":{\"gridcolor\":\"white\",\"linecolor\":\"white\",\"ticks\":\"\"},\"bgcolor\":\"#E5ECF6\",\"caxis\":{\"gridcolor\":\"white\",\"linecolor\":\"white\",\"ticks\":\"\"}},\"title\":{\"x\":0.05},\"xaxis\":{\"automargin\":true,\"gridcolor\":\"white\",\"linecolor\":\"white\",\"ticks\":\"\",\"title\":{\"standoff\":15},\"zerolinecolor\":\"white\",\"zerolinewidth\":2},\"yaxis\":{\"automargin\":true,\"gridcolor\":\"white\",\"linecolor\":\"white\",\"ticks\":\"\",\"title\":{\"standoff\":15},\"zerolinecolor\":\"white\",\"zerolinewidth\":2}}},\"xaxis\":{\"anchor\":\"y\",\"constrain\":\"domain\",\"domain\":[0.0,1.0],\"scaleanchor\":\"y\"},\"yaxis\":{\"anchor\":\"x\",\"autorange\":\"reversed\",\"constrain\":\"domain\",\"domain\":[0.0,1.0]}},                        {\"responsive\": true}                    ).then(function(){\n",
       "                            \n",
       "var gd = document.getElementById('776efcf7-ec99-4259-afa5-4e2613ff0d78');\n",
       "var x = new MutationObserver(function (mutations, observer) {{\n",
       "        var display = window.getComputedStyle(gd).display;\n",
       "        if (!display || display === 'none') {{\n",
       "            console.log([gd, 'removed!']);\n",
       "            Plotly.purge(gd);\n",
       "            observer.disconnect();\n",
       "        }}\n",
       "}});\n",
       "\n",
       "// Listen for the removal of the full notebook cells\n",
       "var notebookContainer = gd.closest('#notebook-container');\n",
       "if (notebookContainer) {{\n",
       "    x.observe(notebookContainer, {childList: true});\n",
       "}}\n",
       "\n",
       "// Listen for the clearing of the current output cell\n",
       "var outputEl = gd.closest('.output');\n",
       "if (outputEl) {{\n",
       "    x.observe(outputEl, {childList: true});\n",
       "}}\n",
       "\n",
       "                        })                };                });            </script>        </div>"
      ]
     },
     "metadata": {},
     "output_type": "display_data"
    }
   ],
   "source": [
    "px.imshow(cor, height=600)"
   ]
  },
  {
   "cell_type": "code",
   "execution_count": null,
   "id": "912e0977-3e51-43ab-b448-c684666d8219",
   "metadata": {},
   "outputs": [
    {
     "data": {
      "text/plain": [
       "<seaborn.axisgrid.PairGrid at 0x18b739a6490>"
      ]
     },
     "execution_count": 124,
     "metadata": {},
     "output_type": "execute_result"
    },
    {
     "data": {
      "image/png": "[encoded data removed]",
      "text/plain": [
       "<Figure size 900x900 with 30 Axes>"
      ]
     },
     "metadata": {
      "needs_background": "light"
     },
     "output_type": "display_data"
    }
   ],
   "source": [
    "sns.pairplot(df)"
   ]
  },
  {
   "cell_type": "markdown",
   "id": "1e344377-9ba3-4c1d-aa16-7a73dc28527c",
   "metadata": {},
   "source": [
    "## Arvore de decisão"
   ]
  },
  {
   "cell_type": "code",
   "execution_count": null,
   "id": "0f88f7d2-315b-4dc3-a4d4-7cf2c59c5c46",
   "metadata": {},
   "outputs": [],
   "source": [
    "classificador = DecisionTreeClassifier(random_state=42)"
   ]
  },
  {
   "cell_type": "code",
   "execution_count": null,
   "id": "71b4b7b8-3831-4d84-81c9-568b6223994a",
   "metadata": {},
   "outputs": [
    {
     "data": {
      "text/plain": [
       "DecisionTreeClassifier(random_state=42)"
      ]
     },
     "execution_count": 128,
     "metadata": {},
     "output_type": "execute_result"
    }
   ],
   "source": [
    "classificador.fit(iris.data, iris.target)"
   ]
  },
  {
   "cell_type": "code",
   "execution_count": null,
   "id": "cd122257-9827-4249-bc70-0472a98d0968",
   "metadata": {},
   "outputs": [],
   "source": [
    "iris_predict = classificador.predict(iris.data)"
   ]
  },
  {
   "cell_type": "code",
   "execution_count": null,
   "id": "9bf0d9c6-4e0f-4b81-9dc7-3b19bbee48c1",
   "metadata": {},
   "outputs": [
    {
     "data": {
      "text/plain": [
       "array([0, 0, 0, 0, 0, 0, 0, 0, 0, 0, 0, 0, 0, 0, 0, 0, 0, 0, 0, 0, 0, 0,\n",
       "       0, 0, 0, 0, 0, 0, 0, 0, 0, 0, 0, 0, 0, 0, 0, 0, 0, 0, 0, 0, 0, 0,\n",
       "       0, 0, 0, 0, 0, 0, 1, 1, 1, 1, 1, 1, 1, 1, 1, 1, 1, 1, 1, 1, 1, 1,\n",
       "       1, 1, 1, 1, 1, 1, 1, 1, 1, 1, 1, 1, 1, 1, 1, 1, 1, 1, 1, 1, 1, 1,\n",
       "       1, 1, 1, 1, 1, 1, 1, 1, 1, 1, 1, 1, 2, 2, 2, 2, 2, 2, 2, 2, 2, 2,\n",
       "       2, 2, 2, 2, 2, 2, 2, 2, 2, 2, 2, 2, 2, 2, 2, 2, 2, 2, 2, 2, 2, 2,\n",
       "       2, 2, 2, 2, 2, 2, 2, 2, 2, 2, 2, 2, 2, 2, 2, 2, 2, 2])"
      ]
     },
     "execution_count": 130,
     "metadata": {},
     "output_type": "execute_result"
    }
   ],
   "source": [
    "iris_predict"
   ]
  },
  {
   "cell_type": "code",
   "execution_count": null,
   "id": "0be8dbbc-b5ad-4eb5-b369-7658809e5c58",
   "metadata": {},
   "outputs": [
    {
     "data": {
      "text/plain": [
       "array([0, 0, 0, 0, 0, 0, 0, 0, 0, 0, 0, 0, 0, 0, 0, 0, 0, 0, 0, 0, 0, 0,\n",
       "       0, 0, 0, 0, 0, 0, 0, 0, 0, 0, 0, 0, 0, 0, 0, 0, 0, 0, 0, 0, 0, 0,\n",
       "       0, 0, 0, 0, 0, 0, 1, 1, 1, 1, 1, 1, 1, 1, 1, 1, 1, 1, 1, 1, 1, 1,\n",
       "       1, 1, 1, 1, 1, 1, 1, 1, 1, 1, 1, 1, 1, 1, 1, 1, 1, 1, 1, 1, 1, 1,\n",
       "       1, 1, 1, 1, 1, 1, 1, 1, 1, 1, 1, 1, 2, 2, 2, 2, 2, 2, 2, 2, 2, 2,\n",
       "       2, 2, 2, 2, 2, 2, 2, 2, 2, 2, 2, 2, 2, 2, 2, 2, 2, 2, 2, 2, 2, 2,\n",
       "       2, 2, 2, 2, 2, 2, 2, 2, 2, 2, 2, 2, 2, 2, 2, 2, 2, 2])"
      ]
     },
     "execution_count": 131,
     "metadata": {},
     "output_type": "execute_result"
    }
   ],
   "source": [
    "iris.target"
   ]
  },
  {
   "cell_type": "code",
   "execution_count": null,
   "id": "a7c9c681-04d7-40d8-857c-728f00e027e5",
   "metadata": {},
   "outputs": [
    {
     "data": {
      "text/plain": [
       "1.0"
      ]
     },
     "execution_count": 132,
     "metadata": {},
     "output_type": "execute_result"
    }
   ],
   "source": [
    "metrics.accuracy_score(iris_predict, iris.target)"
   ]
  },
  {
   "cell_type": "markdown",
   "id": "cb7472aa-ec21-41e3-ab61-ea1a6cc24ee4",
   "metadata": {},
   "source": [
    "## Split data"
   ]
  },
  {
   "cell_type": "code",
   "execution_count": null,
   "id": "444c3892-fcb3-4202-b741-c2e1fdf3efe2",
   "metadata": {},
   "outputs": [
    {
     "data": {
      "text/plain": [
       "(150, 4)"
      ]
     },
     "execution_count": 133,
     "metadata": {},
     "output_type": "execute_result"
    }
   ],
   "source": [
    "iris.data.shape"
   ]
  },
  {
   "cell_type": "code",
   "execution_count": null,
   "id": "a0f745bb-67ca-412d-afa2-0a28d1e229f8",
   "metadata": {},
   "outputs": [],
   "source": [
    "X_train, X_test, y_train, y_test = train_test_split(iris.data, iris.target, test_size=0.3, random_state=42)"
   ]
  },
  {
   "cell_type": "code",
   "execution_count": null,
   "id": "cbae847c-9f99-4cf4-8ef7-d96a0e7d7b85",
   "metadata": {},
   "outputs": [
    {
     "data": {
      "text/plain": [
       "(105, 4)"
      ]
     },
     "execution_count": 136,
     "metadata": {},
     "output_type": "execute_result"
    }
   ],
   "source": [
    "X_train.shape"
   ]
  },
  {
   "cell_type": "code",
   "execution_count": null,
   "id": "eab1d93f-7ce3-4a25-bbd1-21c0bbddbbbd",
   "metadata": {},
   "outputs": [
    {
     "data": {
      "text/plain": [
       "(45, 4)"
      ]
     },
     "execution_count": 137,
     "metadata": {},
     "output_type": "execute_result"
    }
   ],
   "source": [
    "X_test.shape"
   ]
  },
  {
   "cell_type": "code",
   "execution_count": null,
   "id": "63b53e10-0781-437f-9d11-b9e70c3867e2",
   "metadata": {},
   "outputs": [
    {
     "data": {
      "text/plain": [
       "array([1, 2, 2, 1, 2, 1, 2, 1, 0, 2, 1, 0, 0, 0, 1, 2, 0, 0, 0, 1, 0, 1,\n",
       "       2, 0, 1, 2, 0, 2, 2, 1, 1, 2, 1, 0, 1, 2, 0, 0, 1, 1, 0, 2, 0, 0,\n",
       "       1, 1, 2, 1, 2, 2, 1, 0, 0, 2, 2, 0, 0, 0, 1, 2, 0, 2, 2, 0, 1, 1,\n",
       "       2, 1, 2, 0, 2, 1, 2, 1, 1, 1, 0, 1, 1, 0, 1, 2, 2, 0, 1, 2, 2, 0,\n",
       "       2, 0, 1, 2, 2, 1, 2, 1, 1, 2, 2, 0, 1, 2, 0, 1, 2])"
      ]
     },
     "execution_count": 138,
     "metadata": {},
     "output_type": "execute_result"
    }
   ],
   "source": [
    "y_train"
   ]
  },
  {
   "cell_type": "code",
   "execution_count": null,
   "id": "f1562d76-015e-4483-b5d5-6658fd56b09c",
   "metadata": {
    "tags": []
   },
   "outputs": [
    {
     "name": "stdout",
     "output_type": "stream",
     "text": [
      "1.0\n"
     ]
    }
   ],
   "source": [
    "classificador = DecisionTreeClassifier(random_state=42)\n",
    "classificador.fit(X_train, y_train)\n",
    "iris_predict = classificador.predict(X_test)\n",
    "print(metrics.accuracy_score(iris_predict, y_test))"
   ]
  },
  {
   "cell_type": "markdown",
   "id": "f2e06123-6234-473f-a4d2-811096624744",
   "metadata": {},
   "source": [
    "## Visualização Árvores de decisão"
   ]
  },
  {
   "cell_type": "code",
   "execution_count": null,
   "id": "fc0f5b68-7e57-4abd-9db7-e1c0f7cb3b90",
   "metadata": {},
   "outputs": [
    {
     "name": "stdout",
     "output_type": "stream",
     "text": [
      "|--- feature_2 <= 2.45\n",
      "|   |--- class: 0\n",
      "|--- feature_2 >  2.45\n",
      "|   |--- feature_2 <= 4.75\n",
      "|   |   |--- feature_3 <= 1.60\n",
      "|   |   |   |--- class: 1\n",
      "|   |   |--- feature_3 >  1.60\n",
      "|   |   |   |--- class: 2\n",
      "|   |--- feature_2 >  4.75\n",
      "|   |   |--- feature_3 <= 1.75\n",
      "|   |   |   |--- feature_2 <= 4.95\n",
      "|   |   |   |   |--- class: 1\n",
      "|   |   |   |--- feature_2 >  4.95\n",
      "|   |   |   |   |--- feature_3 <= 1.55\n",
      "|   |   |   |   |   |--- class: 2\n",
      "|   |   |   |   |--- feature_3 >  1.55\n",
      "|   |   |   |   |   |--- feature_2 <= 5.45\n",
      "|   |   |   |   |   |   |--- class: 1\n",
      "|   |   |   |   |   |--- feature_2 >  5.45\n",
      "|   |   |   |   |   |   |--- class: 2\n",
      "|   |   |--- feature_3 >  1.75\n",
      "|   |   |   |--- feature_2 <= 4.85\n",
      "|   |   |   |   |--- feature_1 <= 3.10\n",
      "|   |   |   |   |   |--- class: 2\n",
      "|   |   |   |   |--- feature_1 >  3.10\n",
      "|   |   |   |   |   |--- class: 1\n",
      "|   |   |   |--- feature_2 >  4.85\n",
      "|   |   |   |   |--- class: 2\n",
      "\n"
     ]
    }
   ],
   "source": [
    "txt = tree.export_text(classificador)\n",
    "print(txt)"
   ]
  },
  {
   "cell_type": "code",
   "execution_count": null,
   "id": "60939645-1985-432d-84a4-09f5c3fb383c",
   "metadata": {},
   "outputs": [],
   "source": [
    "from dtreeviz.trees import dtreeviz"
   ]
  },
  {
   "cell_type": "code",
   "execution_count": null,
   "id": "39621b7d-b723-4488-bfa6-c76e06a0f881",
   "metadata": {},
   "outputs": [],
   "source": [
    "viz = dtreeviz(classificador, iris.data, iris.target,\n",
    "                target_name=\"target\",\n",
    "                feature_names=iris.feature_names,\n",
    "                class_names=list(iris.target_names))"
   ]
  },
  {
   "cell_type": "code",
   "execution_count": null,
   "id": "4a27ed4c-1074-47f2-bb47-487dd6981308",
   "metadata": {},
   "outputs": [
    {
     "data": {
      "image/svg+xml": "<svg xmlns=\"http://www.w3.org/2000/svg\" xmlns:dc=\"http://purl.org/dc/elements/1.1/\" xmlns:ns2=\"http://creativecommons.org/ns#\" xmlns:rdf=\"http://www.w3.org/1999/02/22-rdf-syntax-ns#\" xmlns:xlink=\"http://www.w3.org/1999/xlink\" width=\"546.0\" height=\"587.0\" viewBox=\"0.0 0.0 545.5 587.0\">\n<g id=\"graph0\" class=\"graph\" transform=\"scale(1.0 1.0) rotate(0) translate(4 583)\">\n<title>G</title>\n<polygon fill=\"white\" stroke=\"transparent\" points=\"-4,4 -4,-583 541.5,-583 541.5,4 -4,4\" />\n<g id=\"clust10\" class=\"cluster\">\n<title>cluster_legend</title>\n</g>\n\n<g id=\"node1\" class=\"node\">\n<title>node3</title>\n<svg height=\"66px\" version=\"1.1\" viewBox=\"0 0 201.32 88.050268\" width=\"151px\" preserveAspectRatio=\"xMinYMin meet\" x=\"4.5\" y=\"-360\">\n <metadata>\n  <rdf:RDF>\n   <ns2:Work>\n    <dc:type rdf:resource=\"http://purl.org/dc/dcmitype/StillImage\" />\n    <dc:date>2021-10-04T20:58:00.652250</dc:date>\n    <dc:format>image/svg+xml</dc:format>\n    <dc:creator>\n     <ns2:Agent>\n      <dc:title>Matplotlib v3.4.3, https://matplotlib.org/</dc:title>\n     </ns2:Agent>\n    </dc:creator>\n   </ns2:Work>\n  </rdf:RDF>\n </metadata>\n <defs>\n  <style type=\"text/css\">*{stroke-linecap:butt;stroke-linejoin:round;}</style>\n </defs>\n <g id=\"figure_1\">\n  <g id=\"patch_1\">\n   <path d=\"M 0 88.050268  L 201.32 88.050268  L 201.32 0  L 0 0  z \" style=\"fill:none;\" />\n  </g>\n  <g id=\"axes_1\">\n   <g id=\"patch_2\">\n    <path d=\"M 17.18 58.046518  L 201.32 58.046518  L 201.32 0.289018  L 17.18 0.289018  z \" style=\"fill:#ffffff;\" />\n   </g>\n   <g id=\"patch_3\">\n    <path clip-path=\"url(#p753bd5df3c)\" d=\"M 17.761571 58.046518  L 28.024593 58.046518  L 28.024593 58.046518  L 17.761571 58.046518  z \" style=\"fill:#fefebb;stroke:#444443;stroke-linejoin:miter;stroke-width:0.5;\" />\n   </g>\n   <g id=\"patch_4\">\n    <path clip-path=\"url(#p753bd5df3c)\" d=\"M 28.024593 58.046518  L 38.287616 58.046518  L 38.287616 58.046518  L 28.024593 58.046518  z \" style=\"fill:#fefebb;stroke:#444443;stroke-linejoin:miter;stroke-width:0.5;\" />\n   </g>\n   <g id=\"patch_5\">\n    <path clip-path=\"url(#p753bd5df3c)\" d=\"M 38.287616 58.046518  L 48.550638 58.046518  L 48.550638 58.046518  L 38.287616 58.046518  z \" style=\"fill:#fefebb;stroke:#444443;stroke-linejoin:miter;stroke-width:0.5;\" />\n   </g>\n   <g id=\"patch_6\">\n    <path clip-path=\"url(#p753bd5df3c)\" d=\"M 48.550638 58.046518  L 58.81366 58.046518  L 58.81366 58.046518  L 48.550638 58.046518  z \" style=\"fill:#fefebb;stroke:#444443;stroke-linejoin:miter;stroke-width:0.5;\" />\n   </g>\n   <g id=\"patch_7\">\n    <path clip-path=\"url(#p753bd5df3c)\" d=\"M 58.81366 58.046518  L 69.076682 58.046518  L 69.076682 58.046518  L 58.81366 58.046518  z \" style=\"fill:#fefebb;stroke:#444443;stroke-linejoin:miter;stroke-width:0.5;\" />\n   </g>\n   <g id=\"patch_8\">\n    <path clip-path=\"url(#p753bd5df3c)\" d=\"M 69.076682 58.046518  L 79.339705 58.046518  L 79.339705 58.046518  L 69.076682 58.046518  z \" style=\"fill:#fefebb;stroke:#444443;stroke-linejoin:miter;stroke-width:0.5;\" />\n   </g>\n   <g id=\"patch_9\">\n    <path clip-path=\"url(#p753bd5df3c)\" d=\"M 79.339705 58.046518  L 89.602727 58.046518  L 89.602727 58.046518  L 79.339705 58.046518  z \" style=\"fill:#fefebb;stroke:#444443;stroke-linejoin:miter;stroke-width:0.5;\" />\n   </g>\n   <g id=\"patch_10\">\n    <path clip-path=\"url(#p753bd5df3c)\" d=\"M 89.602727 58.046518  L 99.865749 58.046518  L 99.865749 58.046518  L 89.602727 58.046518  z \" style=\"fill:#fefebb;stroke:#444443;stroke-linejoin:miter;stroke-width:0.5;\" />\n   </g>\n   <g id=\"patch_11\">\n    <path clip-path=\"url(#p753bd5df3c)\" d=\"M 99.865749 58.046518  L 110.128771 58.046518  L 110.128771 58.046518  L 99.865749 58.046518  z \" style=\"fill:#fefebb;stroke:#444443;stroke-linejoin:miter;stroke-width:0.5;\" />\n   </g>\n   <g id=\"patch_12\">\n    <path clip-path=\"url(#p753bd5df3c)\" d=\"M 110.128771 58.046518  L 120.391794 58.046518  L 120.391794 58.046518  L 110.128771 58.046518  z \" style=\"fill:#fefebb;stroke:#444443;stroke-linejoin:miter;stroke-width:0.5;\" />\n   </g>\n   <g id=\"patch_13\">\n    <path clip-path=\"url(#p753bd5df3c)\" d=\"M 120.391794 58.046518  L 130.654816 58.046518  L 130.654816 58.046518  L 120.391794 58.046518  z \" style=\"fill:#fefebb;stroke:#444443;stroke-linejoin:miter;stroke-width:0.5;\" />\n   </g>\n   <g id=\"patch_14\">\n    <path clip-path=\"url(#p753bd5df3c)\" d=\"M 130.654816 58.046518  L 140.917838 58.046518  L 140.917838 58.046518  L 130.654816 58.046518  z \" style=\"fill:#fefebb;stroke:#444443;stroke-linejoin:miter;stroke-width:0.5;\" />\n   </g>\n   <g id=\"patch_15\">\n    <path clip-path=\"url(#p753bd5df3c)\" d=\"M 140.917838 58.046518  L 151.18086 58.046518  L 151.18086 58.046518  L 140.917838 58.046518  z \" style=\"fill:#fefebb;stroke:#444443;stroke-linejoin:miter;stroke-width:0.5;\" />\n   </g>\n   <g id=\"patch_16\">\n    <path clip-path=\"url(#p753bd5df3c)\" d=\"M 151.18086 58.046518  L 161.443882 58.046518  L 161.443882 58.046518  L 151.18086 58.046518  z \" style=\"fill:#fefebb;stroke:#444443;stroke-linejoin:miter;stroke-width:0.5;\" />\n   </g>\n   <g id=\"patch_17\">\n    <path clip-path=\"url(#p753bd5df3c)\" d=\"M 161.443882 58.046518  L 171.706905 58.046518  L 171.706905 58.046518  L 161.443882 58.046518  z \" style=\"fill:#fefebb;stroke:#444443;stroke-linejoin:miter;stroke-width:0.5;\" />\n   </g>\n   <g id=\"patch_18\">\n    <path clip-path=\"url(#p753bd5df3c)\" d=\"M 171.706905 58.046518  L 181.969927 58.046518  L 181.969927 58.046518  L 171.706905 58.046518  z \" style=\"fill:#fefebb;stroke:#444443;stroke-linejoin:miter;stroke-width:0.5;\" />\n   </g>\n   <g id=\"patch_19\">\n    <path clip-path=\"url(#p753bd5df3c)\" d=\"M 181.969927 58.046518  L 192.232949 58.046518  L 192.232949 58.046518  L 181.969927 58.046518  z \" style=\"fill:#fefebb;stroke:#444443;stroke-linejoin:miter;stroke-width:0.5;\" />\n   </g>\n   <g id=\"patch_20\">\n    <path clip-path=\"url(#p753bd5df3c)\" d=\"M 17.761571 58.046518  L 28.024593 58.046518  L 28.024593 58.046518  L 17.761571 58.046518  z \" style=\"fill:#d9e6f5;stroke:#444443;stroke-linejoin:miter;stroke-width:0.5;\" />\n   </g>\n   <g id=\"patch_21\">\n    <path clip-path=\"url(#p753bd5df3c)\" d=\"M 28.024593 58.046518  L 38.287616 58.046518  L 38.287616 58.046518  L 28.024593 58.046518  z \" style=\"fill:#d9e6f5;stroke:#444443;stroke-linejoin:miter;stroke-width:0.5;\" />\n   </g>\n   <g id=\"patch_22\">\n    <path clip-path=\"url(#p753bd5df3c)\" d=\"M 38.287616 58.046518  L 48.550638 58.046518  L 48.550638 58.046518  L 38.287616 58.046518  z \" style=\"fill:#d9e6f5;stroke:#444443;stroke-linejoin:miter;stroke-width:0.5;\" />\n   </g>\n   <g id=\"patch_23\">\n    <path clip-path=\"url(#p753bd5df3c)\" d=\"M 48.550638 58.046518  L 58.81366 58.046518  L 58.81366 58.046518  L 48.550638 58.046518  z \" style=\"fill:#d9e6f5;stroke:#444443;stroke-linejoin:miter;stroke-width:0.5;\" />\n   </g>\n   <g id=\"patch_24\">\n    <path clip-path=\"url(#p753bd5df3c)\" d=\"M 58.81366 58.046518  L 69.076682 58.046518  L 69.076682 58.046518  L 58.81366 58.046518  z \" style=\"fill:#d9e6f5;stroke:#444443;stroke-linejoin:miter;stroke-width:0.5;\" />\n   </g>\n   <g id=\"patch_25\">\n    <path clip-path=\"url(#p753bd5df3c)\" d=\"M 69.076682 58.046518  L 79.339705 58.046518  L 79.339705 58.046518  L 69.076682 58.046518  z \" style=\"fill:#d9e6f5;stroke:#444443;stroke-linejoin:miter;stroke-width:0.5;\" />\n   </g>\n   <g id=\"patch_26\">\n    <path clip-path=\"url(#p753bd5df3c)\" d=\"M 79.339705 58.046518  L 89.602727 58.046518  L 89.602727 30.542946  L 79.339705 30.542946  z \" style=\"fill:#d9e6f5;stroke:#444443;stroke-linejoin:miter;stroke-width:0.5;\" />\n   </g>\n   <g id=\"patch_27\">\n    <path clip-path=\"url(#p753bd5df3c)\" d=\"M 89.602727 58.046518  L 99.865749 58.046518  L 99.865749 26.613865  L 89.602727 26.613865  z \" style=\"fill:#d9e6f5;stroke:#444443;stroke-linejoin:miter;stroke-width:0.5;\" />\n   </g>\n   <g id=\"patch_28\">\n    <path clip-path=\"url(#p753bd5df3c)\" d=\"M 99.865749 58.046518  L 110.128771 58.046518  L 110.128771 6.968457  L 99.865749 6.968457  z \" style=\"fill:#d9e6f5;stroke:#444443;stroke-linejoin:miter;stroke-width:0.5;\" />\n   </g>\n   <g id=\"patch_29\">\n    <path clip-path=\"url(#p753bd5df3c)\" d=\"M 110.128771 58.046518  L 120.391794 58.046518  L 120.391794 3.039375  L 110.128771 3.039375  z \" style=\"fill:#d9e6f5;stroke:#444443;stroke-linejoin:miter;stroke-width:0.5;\" />\n   </g>\n   <g id=\"patch_30\">\n    <path clip-path=\"url(#p753bd5df3c)\" d=\"M 120.391794 58.046518  L 130.654816 58.046518  L 130.654816 50.188355  L 120.391794 50.188355  z \" style=\"fill:#d9e6f5;stroke:#444443;stroke-linejoin:miter;stroke-width:0.5;\" />\n   </g>\n   <g id=\"patch_31\">\n    <path clip-path=\"url(#p753bd5df3c)\" d=\"M 130.654816 58.046518  L 140.917838 58.046518  L 140.917838 58.046518  L 130.654816 58.046518  z \" style=\"fill:#d9e6f5;stroke:#444443;stroke-linejoin:miter;stroke-width:0.5;\" />\n   </g>\n   <g id=\"patch_32\">\n    <path clip-path=\"url(#p753bd5df3c)\" d=\"M 140.917838 58.046518  L 151.18086 58.046518  L 151.18086 58.046518  L 140.917838 58.046518  z \" style=\"fill:#d9e6f5;stroke:#444443;stroke-linejoin:miter;stroke-width:0.5;\" />\n   </g>\n   <g id=\"patch_33\">\n    <path clip-path=\"url(#p753bd5df3c)\" d=\"M 151.18086 58.046518  L 161.443882 58.046518  L 161.443882 58.046518  L 151.18086 58.046518  z \" style=\"fill:#d9e6f5;stroke:#444443;stroke-linejoin:miter;stroke-width:0.5;\" />\n   </g>\n   <g id=\"patch_34\">\n    <path clip-path=\"url(#p753bd5df3c)\" d=\"M 161.443882 58.046518  L 171.706905 58.046518  L 171.706905 58.046518  L 161.443882 58.046518  z \" style=\"fill:#d9e6f5;stroke:#444443;stroke-linejoin:miter;stroke-width:0.5;\" />\n   </g>\n   <g id=\"patch_35\">\n    <path clip-path=\"url(#p753bd5df3c)\" d=\"M 171.706905 58.046518  L 181.969927 58.046518  L 181.969927 58.046518  L 171.706905 58.046518  z \" style=\"fill:#d9e6f5;stroke:#444443;stroke-linejoin:miter;stroke-width:0.5;\" />\n   </g>\n   <g id=\"patch_36\">\n    <path clip-path=\"url(#p753bd5df3c)\" d=\"M 181.969927 58.046518  L 192.232949 58.046518  L 192.232949 58.046518  L 181.969927 58.046518  z \" style=\"fill:#d9e6f5;stroke:#444443;stroke-linejoin:miter;stroke-width:0.5;\" />\n   </g>\n   <g id=\"patch_37\">\n    <path clip-path=\"url(#p753bd5df3c)\" d=\"M 17.761571 58.046518  L 28.024593 58.046518  L 28.024593 58.046518  L 17.761571 58.046518  z \" style=\"fill:#a1dab4;stroke:#444443;stroke-linejoin:miter;stroke-width:0.5;\" />\n   </g>\n   <g id=\"patch_38\">\n    <path clip-path=\"url(#p753bd5df3c)\" d=\"M 28.024593 58.046518  L 38.287616 58.046518  L 38.287616 58.046518  L 28.024593 58.046518  z \" style=\"fill:#a1dab4;stroke:#444443;stroke-linejoin:miter;stroke-width:0.5;\" />\n   </g>\n   <g id=\"patch_39\">\n    <path clip-path=\"url(#p753bd5df3c)\" d=\"M 38.287616 58.046518  L 48.550638 58.046518  L 48.550638 58.046518  L 38.287616 58.046518  z \" style=\"fill:#a1dab4;stroke:#444443;stroke-linejoin:miter;stroke-width:0.5;\" />\n   </g>\n   <g id=\"patch_40\">\n    <path clip-path=\"url(#p753bd5df3c)\" d=\"M 48.550638 58.046518  L 58.81366 58.046518  L 58.81366 58.046518  L 48.550638 58.046518  z \" style=\"fill:#a1dab4;stroke:#444443;stroke-linejoin:miter;stroke-width:0.5;\" />\n   </g>\n   <g id=\"patch_41\">\n    <path clip-path=\"url(#p753bd5df3c)\" d=\"M 58.81366 58.046518  L 69.076682 58.046518  L 69.076682 58.046518  L 58.81366 58.046518  z \" style=\"fill:#a1dab4;stroke:#444443;stroke-linejoin:miter;stroke-width:0.5;\" />\n   </g>\n   <g id=\"patch_42\">\n    <path clip-path=\"url(#p753bd5df3c)\" d=\"M 69.076682 58.046518  L 79.339705 58.046518  L 79.339705 58.046518  L 69.076682 58.046518  z \" style=\"fill:#a1dab4;stroke:#444443;stroke-linejoin:miter;stroke-width:0.5;\" />\n   </g>\n   <g id=\"patch_43\">\n    <path clip-path=\"url(#p753bd5df3c)\" d=\"M 79.339705 30.542946  L 89.602727 30.542946  L 89.602727 30.542946  L 79.339705 30.542946  z \" style=\"fill:#a1dab4;stroke:#444443;stroke-linejoin:miter;stroke-width:0.5;\" />\n   </g>\n   <g id=\"patch_44\">\n    <path clip-path=\"url(#p753bd5df3c)\" d=\"M 89.602727 26.613865  L 99.865749 26.613865  L 99.865749 26.613865  L 89.602727 26.613865  z \" style=\"fill:#a1dab4;stroke:#444443;stroke-linejoin:miter;stroke-width:0.5;\" />\n   </g>\n   <g id=\"patch_45\">\n    <path clip-path=\"url(#p753bd5df3c)\" d=\"M 99.865749 6.968457  L 110.128771 6.968457  L 110.128771 6.968457  L 99.865749 6.968457  z \" style=\"fill:#a1dab4;stroke:#444443;stroke-linejoin:miter;stroke-width:0.5;\" />\n   </g>\n   <g id=\"patch_46\">\n    <path clip-path=\"url(#p753bd5df3c)\" d=\"M 110.128771 3.039375  L 120.391794 3.039375  L 120.391794 3.039375  L 110.128771 3.039375  z \" style=\"fill:#a1dab4;stroke:#444443;stroke-linejoin:miter;stroke-width:0.5;\" />\n   </g>\n   <g id=\"patch_47\">\n    <path clip-path=\"url(#p753bd5df3c)\" d=\"M 120.391794 50.188355  L 130.654816 50.188355  L 130.654816 50.188355  L 120.391794 50.188355  z \" style=\"fill:#a1dab4;stroke:#444443;stroke-linejoin:miter;stroke-width:0.5;\" />\n   </g>\n   <g id=\"patch_48\">\n    <path clip-path=\"url(#p753bd5df3c)\" d=\"M 130.654816 58.046518  L 140.917838 58.046518  L 140.917838 54.117436  L 130.654816 54.117436  z \" style=\"fill:#a1dab4;stroke:#444443;stroke-linejoin:miter;stroke-width:0.5;\" />\n   </g>\n   <g id=\"patch_49\">\n    <path clip-path=\"url(#p753bd5df3c)\" d=\"M 140.917838 58.046518  L 151.18086 58.046518  L 151.18086 58.046518  L 140.917838 58.046518  z \" style=\"fill:#a1dab4;stroke:#444443;stroke-linejoin:miter;stroke-width:0.5;\" />\n   </g>\n   <g id=\"patch_50\">\n    <path clip-path=\"url(#p753bd5df3c)\" d=\"M 151.18086 58.046518  L 161.443882 58.046518  L 161.443882 58.046518  L 151.18086 58.046518  z \" style=\"fill:#a1dab4;stroke:#444443;stroke-linejoin:miter;stroke-width:0.5;\" />\n   </g>\n   <g id=\"patch_51\">\n    <path clip-path=\"url(#p753bd5df3c)\" d=\"M 161.443882 58.046518  L 171.706905 58.046518  L 171.706905 58.046518  L 161.443882 58.046518  z \" style=\"fill:#a1dab4;stroke:#444443;stroke-linejoin:miter;stroke-width:0.5;\" />\n   </g>\n   <g id=\"patch_52\">\n    <path clip-path=\"url(#p753bd5df3c)\" d=\"M 171.706905 58.046518  L 181.969927 58.046518  L 181.969927 58.046518  L 171.706905 58.046518  z \" style=\"fill:#a1dab4;stroke:#444443;stroke-linejoin:miter;stroke-width:0.5;\" />\n   </g>\n   <g id=\"patch_53\">\n    <path clip-path=\"url(#p753bd5df3c)\" d=\"M 181.969927 58.046518  L 192.232949 58.046518  L 192.232949 58.046518  L 181.969927 58.046518  z \" style=\"fill:#a1dab4;stroke:#444443;stroke-linejoin:miter;stroke-width:0.5;\" />\n   </g>\n   <g id=\"patch_54\">\n    <path d=\"M 126.806184 58.861918  L 123.491664 66.200518  L 130.120704 66.200518  z \" style=\"fill:#444443;\" />\n   </g>\n   <g id=\"matplotlib.axis_1\">\n    <g id=\"xtick_1\">\n     <g id=\"line2d_1\">\n      <defs>\n       <path d=\"M 0 0  L 0 3.5  \" id=\"m21b9fadac7\" style=\"stroke:#000000;stroke-width:0.3;\" />\n      </defs>\n      <g>\n       <use style=\"stroke:#000000;stroke-width:0.3;\" x=\"17.761571\" xlink:href=\"#m21b9fadac7\" y=\"58.046518\" />\n      </g>\n     </g>\n     <g id=\"text_1\">\n      \n      <g style=\"fill:#444443;\" transform=\"translate(11.400321 71.125268)scale(0.08 -0.08)\">\n       <defs>\n        <path d=\"M 2034 4250  Q 1547 4250 1301 3770  Q 1056 3291 1056 2328  Q 1056 1369 1301 889  Q 1547 409 2034 409  Q 2525 409 2770 889  Q 3016 1369 3016 2328  Q 3016 3291 2770 3770  Q 2525 4250 2034 4250  z M 2034 4750  Q 2819 4750 3233 4129  Q 3647 3509 3647 2328  Q 3647 1150 3233 529  Q 2819 -91 2034 -91  Q 1250 -91 836 529  Q 422 1150 422 2328  Q 422 3509 836 4129  Q 1250 4750 2034 4750  z \" id=\"DejaVuSans-30\" transform=\"scale(0.015625)\" />\n        <path d=\"M 684 794  L 1344 794  L 1344 0  L 684 0  L 684 794  z \" id=\"DejaVuSans-2e\" transform=\"scale(0.015625)\" />\n        <path d=\"M 794 531  L 1825 531  L 1825 4091  L 703 3866  L 703 4441  L 1819 4666  L 2450 4666  L 2450 531  L 3481 531  L 3481 0  L 794 0  L 794 531  z \" id=\"DejaVuSans-31\" transform=\"scale(0.015625)\" />\n       </defs>\n       <use xlink:href=\"#DejaVuSans-30\" />\n       <use x=\"63.623047\" xlink:href=\"#DejaVuSans-2e\" />\n       <use x=\"95.410156\" xlink:href=\"#DejaVuSans-31\" />\n      </g>\n     </g>\n    </g>\n    <g id=\"xtick_2\">\n     <g id=\"line2d_2\">\n      <g>\n       <use style=\"stroke:#000000;stroke-width:0.3;\" x=\"192.232949\" xlink:href=\"#m21b9fadac7\" y=\"58.046518\" />\n      </g>\n     </g>\n     <g id=\"text_2\">\n      \n      <g style=\"fill:#444443;\" transform=\"translate(185.871699 71.125268)scale(0.08 -0.08)\">\n       <defs>\n        <path d=\"M 1228 531  L 3431 531  L 3431 0  L 469 0  L 469 531  Q 828 903 1448 1529  Q 2069 2156 2228 2338  Q 2531 2678 2651 2914  Q 2772 3150 2772 3378  Q 2772 3750 2511 3984  Q 2250 4219 1831 4219  Q 1534 4219 1204 4116  Q 875 4013 500 3803  L 500 4441  Q 881 4594 1212 4672  Q 1544 4750 1819 4750  Q 2544 4750 2975 4387  Q 3406 4025 3406 3419  Q 3406 3131 3298 2873  Q 3191 2616 2906 2266  Q 2828 2175 2409 1742  Q 1991 1309 1228 531  z \" id=\"DejaVuSans-32\" transform=\"scale(0.015625)\" />\n        <path d=\"M 691 4666  L 3169 4666  L 3169 4134  L 1269 4134  L 1269 2991  Q 1406 3038 1543 3061  Q 1681 3084 1819 3084  Q 2600 3084 3056 2656  Q 3513 2228 3513 1497  Q 3513 744 3044 326  Q 2575 -91 1722 -91  Q 1428 -91 1123 -41  Q 819 9 494 109  L 494 744  Q 775 591 1075 516  Q 1375 441 1709 441  Q 2250 441 2565 725  Q 2881 1009 2881 1497  Q 2881 1984 2565 2268  Q 2250 2553 1709 2553  Q 1456 2553 1204 2497  Q 953 2441 691 2322  L 691 4666  z \" id=\"DejaVuSans-35\" transform=\"scale(0.015625)\" />\n       </defs>\n       <use xlink:href=\"#DejaVuSans-32\" />\n       <use x=\"63.623047\" xlink:href=\"#DejaVuSans-2e\" />\n       <use x=\"95.410156\" xlink:href=\"#DejaVuSans-35\" />\n      </g>\n     </g>\n    </g>\n    <g id=\"text_3\">\n     \n     <g style=\"fill:#444443;\" transform=\"translate(66.906875 85.524643)scale(0.12 -0.12)\">\n      <defs>\n       <path d=\"M 422 -1272  L 422 3319  L 934 3319  L 934 2888  Q 1116 3141 1344 3267  Q 1572 3394 1897 3394  Q 2322 3394 2647 3175  Q 2972 2956 3137 2557  Q 3303 2159 3303 1684  Q 3303 1175 3120 767  Q 2938 359 2589 142  Q 2241 -75 1856 -75  Q 1575 -75 1351 44  Q 1128 163 984 344  L 984 -1272  L 422 -1272  z M 931 1641  Q 931 1000 1190 694  Q 1450 388 1819 388  Q 2194 388 2461 705  Q 2728 1022 2728 1688  Q 2728 2322 2467 2637  Q 2206 2953 1844 2953  Q 1484 2953 1207 2617  Q 931 2281 931 1641  z \" id=\"ArialMT-70\" transform=\"scale(0.015625)\" />\n       <path d=\"M 2694 1069  L 3275 997  Q 3138 488 2766 206  Q 2394 -75 1816 -75  Q 1088 -75 661 373  Q 234 822 234 1631  Q 234 2469 665 2931  Q 1097 3394 1784 3394  Q 2450 3394 2872 2941  Q 3294 2488 3294 1666  Q 3294 1616 3291 1516  L 816 1516  Q 847 969 1125 678  Q 1403 388 1819 388  Q 2128 388 2347 550  Q 2566 713 2694 1069  z M 847 1978  L 2700 1978  Q 2663 2397 2488 2606  Q 2219 2931 1791 2931  Q 1403 2931 1139 2672  Q 875 2413 847 1978  z \" id=\"ArialMT-65\" transform=\"scale(0.015625)\" />\n       <path d=\"M 1650 503  L 1731 6  Q 1494 -44 1306 -44  Q 1000 -44 831 53  Q 663 150 594 308  Q 525 466 525 972  L 525 2881  L 113 2881  L 113 3319  L 525 3319  L 525 4141  L 1084 4478  L 1084 3319  L 1650 3319  L 1650 2881  L 1084 2881  L 1084 941  Q 1084 700 1114 631  Q 1144 563 1211 522  Q 1278 481 1403 481  Q 1497 481 1650 503  z \" id=\"ArialMT-74\" transform=\"scale(0.015625)\" />\n       <path d=\"M 2588 409  Q 2275 144 1986 34  Q 1697 -75 1366 -75  Q 819 -75 525 192  Q 231 459 231 875  Q 231 1119 342 1320  Q 453 1522 633 1644  Q 813 1766 1038 1828  Q 1203 1872 1538 1913  Q 2219 1994 2541 2106  Q 2544 2222 2544 2253  Q 2544 2597 2384 2738  Q 2169 2928 1744 2928  Q 1347 2928 1158 2789  Q 969 2650 878 2297  L 328 2372  Q 403 2725 575 2942  Q 747 3159 1072 3276  Q 1397 3394 1825 3394  Q 2250 3394 2515 3294  Q 2781 3194 2906 3042  Q 3031 2891 3081 2659  Q 3109 2516 3109 2141  L 3109 1391  Q 3109 606 3145 398  Q 3181 191 3288 0  L 2700 0  Q 2613 175 2588 409  z M 2541 1666  Q 2234 1541 1622 1453  Q 1275 1403 1131 1340  Q 988 1278 909 1158  Q 831 1038 831 891  Q 831 666 1001 516  Q 1172 366 1500 366  Q 1825 366 2078 508  Q 2331 650 2450 897  Q 2541 1088 2541 1459  L 2541 1666  z \" id=\"ArialMT-61\" transform=\"scale(0.015625)\" />\n       <path d=\"M 409 0  L 409 4581  L 972 4581  L 972 0  L 409 0  z \" id=\"ArialMT-6c\" transform=\"scale(0.015625)\" />\n       <path id=\"ArialMT-20\" transform=\"scale(0.015625)\" />\n       <path d=\"M 1034 0  L 19 3319  L 600 3319  L 1128 1403  L 1325 691  Q 1338 744 1497 1375  L 2025 3319  L 2603 3319  L 3100 1394  L 3266 759  L 3456 1400  L 4025 3319  L 4572 3319  L 3534 0  L 2950 0  L 2422 1988  L 2294 2553  L 1622 0  L 1034 0  z \" id=\"ArialMT-77\" transform=\"scale(0.015625)\" />\n       <path d=\"M 425 3934  L 425 4581  L 988 4581  L 988 3934  L 425 3934  z M 425 0  L 425 3319  L 988 3319  L 988 0  L 425 0  z \" id=\"ArialMT-69\" transform=\"scale(0.015625)\" />\n       <path d=\"M 2575 0  L 2575 419  Q 2259 -75 1647 -75  Q 1250 -75 917 144  Q 584 363 401 755  Q 219 1147 219 1656  Q 219 2153 384 2558  Q 550 2963 881 3178  Q 1213 3394 1622 3394  Q 1922 3394 2156 3267  Q 2391 3141 2538 2938  L 2538 4581  L 3097 4581  L 3097 0  L 2575 0  z M 797 1656  Q 797 1019 1065 703  Q 1334 388 1700 388  Q 2069 388 2326 689  Q 2584 991 2584 1609  Q 2584 2291 2321 2609  Q 2059 2928 1675 2928  Q 1300 2928 1048 2622  Q 797 2316 797 1656  z \" id=\"ArialMT-64\" transform=\"scale(0.015625)\" />\n       <path d=\"M 422 0  L 422 4581  L 984 4581  L 984 2938  Q 1378 3394 1978 3394  Q 2347 3394 2619 3248  Q 2891 3103 3008 2847  Q 3125 2591 3125 2103  L 3125 0  L 2563 0  L 2563 2103  Q 2563 2525 2380 2717  Q 2197 2909 1863 2909  Q 1613 2909 1392 2779  Q 1172 2650 1078 2428  Q 984 2206 984 1816  L 984 0  L 422 0  z \" id=\"ArialMT-68\" transform=\"scale(0.015625)\" />\n       <path d=\"M 1497 -1347  Q 1031 -759 709 28  Q 388 816 388 1659  Q 388 2403 628 3084  Q 909 3875 1497 4659  L 1900 4659  Q 1522 4009 1400 3731  Q 1209 3300 1100 2831  Q 966 2247 966 1656  Q 966 153 1900 -1347  L 1497 -1347  z \" id=\"ArialMT-28\" transform=\"scale(0.015625)\" />\n       <path d=\"M 2588 1216  L 3141 1144  Q 3050 572 2676 248  Q 2303 -75 1759 -75  Q 1078 -75 664 370  Q 250 816 250 1647  Q 250 2184 428 2587  Q 606 2991 970 3192  Q 1334 3394 1763 3394  Q 2303 3394 2647 3120  Q 2991 2847 3088 2344  L 2541 2259  Q 2463 2594 2264 2762  Q 2066 2931 1784 2931  Q 1359 2931 1093 2626  Q 828 2322 828 1663  Q 828 994 1084 691  Q 1341 388 1753 388  Q 2084 388 2306 591  Q 2528 794 2588 1216  z \" id=\"ArialMT-63\" transform=\"scale(0.015625)\" />\n       <path d=\"M 422 0  L 422 3319  L 925 3319  L 925 2853  Q 1081 3097 1340 3245  Q 1600 3394 1931 3394  Q 2300 3394 2536 3241  Q 2772 3088 2869 2813  Q 3263 3394 3894 3394  Q 4388 3394 4653 3120  Q 4919 2847 4919 2278  L 4919 0  L 4359 0  L 4359 2091  Q 4359 2428 4304 2576  Q 4250 2725 4106 2815  Q 3963 2906 3769 2906  Q 3419 2906 3187 2673  Q 2956 2441 2956 1928  L 2956 0  L 2394 0  L 2394 2156  Q 2394 2531 2256 2718  Q 2119 2906 1806 2906  Q 1569 2906 1367 2781  Q 1166 2656 1075 2415  Q 984 2175 984 1722  L 984 0  L 422 0  z \" id=\"ArialMT-6d\" transform=\"scale(0.015625)\" />\n       <path d=\"M 791 -1347  L 388 -1347  Q 1322 153 1322 1656  Q 1322 2244 1188 2822  Q 1081 3291 891 3722  Q 769 4003 388 4659  L 791 4659  Q 1378 3875 1659 3084  Q 1900 2403 1900 1659  Q 1900 816 1576 28  Q 1253 -759 791 -1347  z \" id=\"ArialMT-29\" transform=\"scale(0.015625)\" />\n      </defs>\n      <use xlink:href=\"#ArialMT-70\" />\n      <use x=\"55.615234\" xlink:href=\"#ArialMT-65\" />\n      <use x=\"111.230469\" xlink:href=\"#ArialMT-74\" />\n      <use x=\"139.013672\" xlink:href=\"#ArialMT-61\" />\n      <use x=\"194.628906\" xlink:href=\"#ArialMT-6c\" />\n      <use x=\"216.845703\" xlink:href=\"#ArialMT-20\" />\n      <use x=\"244.628906\" xlink:href=\"#ArialMT-77\" />\n      <use x=\"316.845703\" xlink:href=\"#ArialMT-69\" />\n      <use x=\"339.0625\" xlink:href=\"#ArialMT-64\" />\n      <use x=\"394.677734\" xlink:href=\"#ArialMT-74\" />\n      <use x=\"422.460938\" xlink:href=\"#ArialMT-68\" />\n      <use x=\"478.076172\" xlink:href=\"#ArialMT-20\" />\n      <use x=\"505.859375\" xlink:href=\"#ArialMT-28\" />\n      <use x=\"539.160156\" xlink:href=\"#ArialMT-63\" />\n      <use x=\"589.160156\" xlink:href=\"#ArialMT-6d\" />\n      <use x=\"672.460938\" xlink:href=\"#ArialMT-29\" />\n     </g>\n    </g>\n   </g>\n   <g id=\"matplotlib.axis_2\">\n    <g id=\"ytick_1\">\n     <g id=\"line2d_3\">\n      <defs>\n       <path d=\"M 0 0  L -3.5 0  \" id=\"mc24b9d4eb7\" style=\"stroke:#000000;stroke-width:0.3;\" />\n      </defs>\n      <g>\n       <use style=\"stroke:#000000;stroke-width:0.3;\" x=\"17.18\" xlink:href=\"#mc24b9d4eb7\" y=\"58.046518\" />\n      </g>\n     </g>\n     <g id=\"text_4\">\n      \n      <g style=\"fill:#444443;\" transform=\"translate(5.09 61.085893)scale(0.08 -0.08)\">\n       <use xlink:href=\"#DejaVuSans-30\" />\n      </g>\n     </g>\n    </g>\n    <g id=\"ytick_2\">\n     <g id=\"line2d_4\">\n      <g>\n       <use style=\"stroke:#000000;stroke-width:0.3;\" x=\"17.18\" xlink:href=\"#mc24b9d4eb7\" y=\"3.039375\" />\n      </g>\n     </g>\n     <g id=\"text_5\">\n      \n      <g style=\"fill:#444443;\" transform=\"translate(0 6.07875)scale(0.08 -0.08)\">\n       <defs>\n        <path d=\"M 2419 4116  L 825 1625  L 2419 1625  L 2419 4116  z M 2253 4666  L 3047 4666  L 3047 1625  L 3713 1625  L 3713 1100  L 3047 1100  L 3047 0  L 2419 0  L 2419 1100  L 313 1100  L 313 1709  L 2253 4666  z \" id=\"DejaVuSans-34\" transform=\"scale(0.015625)\" />\n       </defs>\n       <use xlink:href=\"#DejaVuSans-31\" />\n       <use x=\"63.623047\" xlink:href=\"#DejaVuSans-34\" />\n      </g>\n     </g>\n    </g>\n   </g>\n   <g id=\"patch_55\">\n    <path d=\"M 17.18 58.046518  L 17.18 0.289018  \" style=\"fill:none;stroke:#000000;stroke-linecap:square;stroke-linejoin:miter;stroke-width:0.3;\" />\n   </g>\n   <g id=\"patch_56\">\n    <path d=\"M 17.18 58.046518  L 201.32 58.046518  \" style=\"fill:none;stroke:#000000;stroke-linecap:square;stroke-linejoin:miter;stroke-width:0.3;\" />\n   </g>\n   <g id=\"text_6\">\n    \n    <g style=\"fill:#444443;\" transform=\"translate(119.021809 74.354518)scale(0.08 -0.08)\">\n     <defs>\n      <path d=\"M 2384 0  L 1822 0  L 1822 3584  Q 1619 3391 1289 3197  Q 959 3003 697 2906  L 697 3450  Q 1169 3672 1522 3987  Q 1875 4303 2022 4600  L 2384 4600  L 2384 0  z \" id=\"ArialMT-31\" transform=\"scale(0.015625)\" />\n      <path d=\"M 581 0  L 581 641  L 1222 641  L 1222 0  L 581 0  z \" id=\"ArialMT-2e\" transform=\"scale(0.015625)\" />\n      <path d=\"M 3184 3459  L 2625 3416  Q 2550 3747 2413 3897  Q 2184 4138 1850 4138  Q 1581 4138 1378 3988  Q 1113 3794 959 3422  Q 806 3050 800 2363  Q 1003 2672 1297 2822  Q 1591 2972 1913 2972  Q 2475 2972 2870 2558  Q 3266 2144 3266 1488  Q 3266 1056 3080 686  Q 2894 316 2569 119  Q 2244 -78 1831 -78  Q 1128 -78 684 439  Q 241 956 241 2144  Q 241 3472 731 4075  Q 1159 4600 1884 4600  Q 2425 4600 2770 4297  Q 3116 3994 3184 3459  z M 888 1484  Q 888 1194 1011 928  Q 1134 663 1356 523  Q 1578 384 1822 384  Q 2178 384 2434 671  Q 2691 959 2691 1453  Q 2691 1928 2437 2201  Q 2184 2475 1800 2475  Q 1419 2475 1153 2201  Q 888 1928 888 1484  z \" id=\"ArialMT-36\" transform=\"scale(0.015625)\" />\n      <path d=\"M 266 2259  Q 266 3072 433 3567  Q 600 4063 929 4331  Q 1259 4600 1759 4600  Q 2128 4600 2406 4451  Q 2684 4303 2865 4023  Q 3047 3744 3150 3342  Q 3253 2941 3253 2259  Q 3253 1453 3087 958  Q 2922 463 2592 192  Q 2263 -78 1759 -78  Q 1097 -78 719 397  Q 266 969 266 2259  z M 844 2259  Q 844 1131 1108 757  Q 1372 384 1759 384  Q 2147 384 2411 759  Q 2675 1134 2675 2259  Q 2675 3391 2411 3762  Q 2147 4134 1753 4134  Q 1366 4134 1134 3806  Q 844 3388 844 2259  z \" id=\"ArialMT-30\" transform=\"scale(0.015625)\" />\n     </defs>\n     <use xlink:href=\"#ArialMT-31\" />\n     <use x=\"55.615234\" xlink:href=\"#ArialMT-2e\" />\n     <use x=\"83.398438\" xlink:href=\"#ArialMT-36\" />\n     <use x=\"139.013672\" xlink:href=\"#ArialMT-30\" />\n    </g>\n   </g>\n  </g>\n </g>\n <defs>\n  <clipPath id=\"p753bd5df3c\">\n   <rect height=\"57.7575\" width=\"184.14\" x=\"17.18\" y=\"0.289018\" />\n  </clipPath>\n </defs>\n</svg></g>\n\n<g id=\"node7\" class=\"node\">\n<title>node6</title>\n<svg height=\"57px\" version=\"1.1\" viewBox=\"0 0 201.32 76.725268\" width=\"151px\" preserveAspectRatio=\"xMinYMin meet\" x=\"177.5\" y=\"-355\">\n <metadata>\n  <rdf:RDF>\n   <ns2:Work>\n    <dc:type rdf:resource=\"http://purl.org/dc/dcmitype/StillImage\" />\n    <dc:date>2021-10-04T20:58:01.844294</dc:date>\n    <dc:format>image/svg+xml</dc:format>\n    <dc:creator>\n     <ns2:Agent>\n      <dc:title>Matplotlib v3.4.3, https://matplotlib.org/</dc:title>\n     </ns2:Agent>\n    </dc:creator>\n   </ns2:Work>\n  </rdf:RDF>\n </metadata>\n <defs>\n  <style type=\"text/css\">*{stroke-linecap:butt;stroke-linejoin:round;}</style>\n </defs>\n <g id=\"figure_1\">\n  <g id=\"patch_1\">\n   <path d=\"M 0 76.725268  L 201.32 76.725268  L 201.32 0  L 0 0  z \" style=\"fill:none;\" />\n  </g>\n  <g id=\"axes_1\">\n   <g id=\"patch_2\">\n    <path d=\"M 17.18 46.721518  L 201.32 46.721518  L 201.32 0.855268  L 17.18 0.855268  z \" style=\"fill:#ffffff;\" />\n   </g>\n   <g id=\"patch_3\">\n    <path clip-path=\"url(#p4d4b97c711)\" d=\"M 17.761571 46.721518  L 28.024593 46.721518  L 28.024593 46.721518  L 17.761571 46.721518  z \" style=\"fill:#fefebb;stroke:#444443;stroke-linejoin:miter;stroke-width:0.5;\" />\n   </g>\n   <g id=\"patch_4\">\n    <path clip-path=\"url(#p4d4b97c711)\" d=\"M 28.024593 46.721518  L 38.287616 46.721518  L 38.287616 46.721518  L 28.024593 46.721518  z \" style=\"fill:#fefebb;stroke:#444443;stroke-linejoin:miter;stroke-width:0.5;\" />\n   </g>\n   <g id=\"patch_5\">\n    <path clip-path=\"url(#p4d4b97c711)\" d=\"M 38.287616 46.721518  L 48.550638 46.721518  L 48.550638 46.721518  L 38.287616 46.721518  z \" style=\"fill:#fefebb;stroke:#444443;stroke-linejoin:miter;stroke-width:0.5;\" />\n   </g>\n   <g id=\"patch_6\">\n    <path clip-path=\"url(#p4d4b97c711)\" d=\"M 48.550638 46.721518  L 58.81366 46.721518  L 58.81366 46.721518  L 48.550638 46.721518  z \" style=\"fill:#fefebb;stroke:#444443;stroke-linejoin:miter;stroke-width:0.5;\" />\n   </g>\n   <g id=\"patch_7\">\n    <path clip-path=\"url(#p4d4b97c711)\" d=\"M 58.81366 46.721518  L 69.076682 46.721518  L 69.076682 46.721518  L 58.81366 46.721518  z \" style=\"fill:#fefebb;stroke:#444443;stroke-linejoin:miter;stroke-width:0.5;\" />\n   </g>\n   <g id=\"patch_8\">\n    <path clip-path=\"url(#p4d4b97c711)\" d=\"M 69.076682 46.721518  L 79.339705 46.721518  L 79.339705 46.721518  L 69.076682 46.721518  z \" style=\"fill:#fefebb;stroke:#444443;stroke-linejoin:miter;stroke-width:0.5;\" />\n   </g>\n   <g id=\"patch_9\">\n    <path clip-path=\"url(#p4d4b97c711)\" d=\"M 79.339705 46.721518  L 89.602727 46.721518  L 89.602727 46.721518  L 79.339705 46.721518  z \" style=\"fill:#fefebb;stroke:#444443;stroke-linejoin:miter;stroke-width:0.5;\" />\n   </g>\n   <g id=\"patch_10\">\n    <path clip-path=\"url(#p4d4b97c711)\" d=\"M 89.602727 46.721518  L 99.865749 46.721518  L 99.865749 46.721518  L 89.602727 46.721518  z \" style=\"fill:#fefebb;stroke:#444443;stroke-linejoin:miter;stroke-width:0.5;\" />\n   </g>\n   <g id=\"patch_11\">\n    <path clip-path=\"url(#p4d4b97c711)\" d=\"M 99.865749 46.721518  L 110.128771 46.721518  L 110.128771 46.721518  L 99.865749 46.721518  z \" style=\"fill:#fefebb;stroke:#444443;stroke-linejoin:miter;stroke-width:0.5;\" />\n   </g>\n   <g id=\"patch_12\">\n    <path clip-path=\"url(#p4d4b97c711)\" d=\"M 110.128771 46.721518  L 120.391794 46.721518  L 120.391794 46.721518  L 110.128771 46.721518  z \" style=\"fill:#fefebb;stroke:#444443;stroke-linejoin:miter;stroke-width:0.5;\" />\n   </g>\n   <g id=\"patch_13\">\n    <path clip-path=\"url(#p4d4b97c711)\" d=\"M 120.391794 46.721518  L 130.654816 46.721518  L 130.654816 46.721518  L 120.391794 46.721518  z \" style=\"fill:#fefebb;stroke:#444443;stroke-linejoin:miter;stroke-width:0.5;\" />\n   </g>\n   <g id=\"patch_14\">\n    <path clip-path=\"url(#p4d4b97c711)\" d=\"M 130.654816 46.721518  L 140.917838 46.721518  L 140.917838 46.721518  L 130.654816 46.721518  z \" style=\"fill:#fefebb;stroke:#444443;stroke-linejoin:miter;stroke-width:0.5;\" />\n   </g>\n   <g id=\"patch_15\">\n    <path clip-path=\"url(#p4d4b97c711)\" d=\"M 140.917838 46.721518  L 151.18086 46.721518  L 151.18086 46.721518  L 140.917838 46.721518  z \" style=\"fill:#fefebb;stroke:#444443;stroke-linejoin:miter;stroke-width:0.5;\" />\n   </g>\n   <g id=\"patch_16\">\n    <path clip-path=\"url(#p4d4b97c711)\" d=\"M 151.18086 46.721518  L 161.443882 46.721518  L 161.443882 46.721518  L 151.18086 46.721518  z \" style=\"fill:#fefebb;stroke:#444443;stroke-linejoin:miter;stroke-width:0.5;\" />\n   </g>\n   <g id=\"patch_17\">\n    <path clip-path=\"url(#p4d4b97c711)\" d=\"M 161.443882 46.721518  L 171.706905 46.721518  L 171.706905 46.721518  L 161.443882 46.721518  z \" style=\"fill:#fefebb;stroke:#444443;stroke-linejoin:miter;stroke-width:0.5;\" />\n   </g>\n   <g id=\"patch_18\">\n    <path clip-path=\"url(#p4d4b97c711)\" d=\"M 171.706905 46.721518  L 181.969927 46.721518  L 181.969927 46.721518  L 171.706905 46.721518  z \" style=\"fill:#fefebb;stroke:#444443;stroke-linejoin:miter;stroke-width:0.5;\" />\n   </g>\n   <g id=\"patch_19\">\n    <path clip-path=\"url(#p4d4b97c711)\" d=\"M 181.969927 46.721518  L 192.232949 46.721518  L 192.232949 46.721518  L 181.969927 46.721518  z \" style=\"fill:#fefebb;stroke:#444443;stroke-linejoin:miter;stroke-width:0.5;\" />\n   </g>\n   <g id=\"patch_20\">\n    <path clip-path=\"url(#p4d4b97c711)\" d=\"M 17.761571 46.721518  L 28.024593 46.721518  L 28.024593 46.721518  L 17.761571 46.721518  z \" style=\"fill:#d9e6f5;stroke:#444443;stroke-linejoin:miter;stroke-width:0.5;\" />\n   </g>\n   <g id=\"patch_21\">\n    <path clip-path=\"url(#p4d4b97c711)\" d=\"M 28.024593 46.721518  L 38.287616 46.721518  L 38.287616 46.721518  L 28.024593 46.721518  z \" style=\"fill:#d9e6f5;stroke:#444443;stroke-linejoin:miter;stroke-width:0.5;\" />\n   </g>\n   <g id=\"patch_22\">\n    <path clip-path=\"url(#p4d4b97c711)\" d=\"M 38.287616 46.721518  L 48.550638 46.721518  L 48.550638 46.721518  L 38.287616 46.721518  z \" style=\"fill:#d9e6f5;stroke:#444443;stroke-linejoin:miter;stroke-width:0.5;\" />\n   </g>\n   <g id=\"patch_23\">\n    <path clip-path=\"url(#p4d4b97c711)\" d=\"M 48.550638 46.721518  L 58.81366 46.721518  L 58.81366 46.721518  L 48.550638 46.721518  z \" style=\"fill:#d9e6f5;stroke:#444443;stroke-linejoin:miter;stroke-width:0.5;\" />\n   </g>\n   <g id=\"patch_24\">\n    <path clip-path=\"url(#p4d4b97c711)\" d=\"M 58.81366 46.721518  L 69.076682 46.721518  L 69.076682 46.721518  L 58.81366 46.721518  z \" style=\"fill:#d9e6f5;stroke:#444443;stroke-linejoin:miter;stroke-width:0.5;\" />\n   </g>\n   <g id=\"patch_25\">\n    <path clip-path=\"url(#p4d4b97c711)\" d=\"M 69.076682 46.721518  L 79.339705 46.721518  L 79.339705 46.721518  L 69.076682 46.721518  z \" style=\"fill:#d9e6f5;stroke:#444443;stroke-linejoin:miter;stroke-width:0.5;\" />\n   </g>\n   <g id=\"patch_26\">\n    <path clip-path=\"url(#p4d4b97c711)\" d=\"M 79.339705 46.721518  L 89.602727 46.721518  L 89.602727 46.721518  L 79.339705 46.721518  z \" style=\"fill:#d9e6f5;stroke:#444443;stroke-linejoin:miter;stroke-width:0.5;\" />\n   </g>\n   <g id=\"patch_27\">\n    <path clip-path=\"url(#p4d4b97c711)\" d=\"M 89.602727 46.721518  L 99.865749 46.721518  L 99.865749 46.721518  L 89.602727 46.721518  z \" style=\"fill:#d9e6f5;stroke:#444443;stroke-linejoin:miter;stroke-width:0.5;\" />\n   </g>\n   <g id=\"patch_28\">\n    <path clip-path=\"url(#p4d4b97c711)\" d=\"M 99.865749 46.721518  L 110.128771 46.721518  L 110.128771 46.721518  L 99.865749 46.721518  z \" style=\"fill:#d9e6f5;stroke:#444443;stroke-linejoin:miter;stroke-width:0.5;\" />\n   </g>\n   <g id=\"patch_29\">\n    <path clip-path=\"url(#p4d4b97c711)\" d=\"M 110.128771 46.721518  L 120.391794 46.721518  L 120.391794 39.012904  L 110.128771 39.012904  z \" style=\"fill:#d9e6f5;stroke:#444443;stroke-linejoin:miter;stroke-width:0.5;\" />\n   </g>\n   <g id=\"patch_30\">\n    <path clip-path=\"url(#p4d4b97c711)\" d=\"M 120.391794 46.721518  L 130.654816 46.721518  L 130.654816 44.15198  L 120.391794 44.15198  z \" style=\"fill:#d9e6f5;stroke:#444443;stroke-linejoin:miter;stroke-width:0.5;\" />\n   </g>\n   <g id=\"patch_31\">\n    <path clip-path=\"url(#p4d4b97c711)\" d=\"M 130.654816 46.721518  L 140.917838 46.721518  L 140.917838 44.15198  L 130.654816 44.15198  z \" style=\"fill:#d9e6f5;stroke:#444443;stroke-linejoin:miter;stroke-width:0.5;\" />\n   </g>\n   <g id=\"patch_32\">\n    <path clip-path=\"url(#p4d4b97c711)\" d=\"M 140.917838 46.721518  L 151.18086 46.721518  L 151.18086 44.15198  L 140.917838 44.15198  z \" style=\"fill:#d9e6f5;stroke:#444443;stroke-linejoin:miter;stroke-width:0.5;\" />\n   </g>\n   <g id=\"patch_33\">\n    <path clip-path=\"url(#p4d4b97c711)\" d=\"M 151.18086 46.721518  L 161.443882 46.721518  L 161.443882 46.721518  L 151.18086 46.721518  z \" style=\"fill:#d9e6f5;stroke:#444443;stroke-linejoin:miter;stroke-width:0.5;\" />\n   </g>\n   <g id=\"patch_34\">\n    <path clip-path=\"url(#p4d4b97c711)\" d=\"M 161.443882 46.721518  L 171.706905 46.721518  L 171.706905 46.721518  L 161.443882 46.721518  z \" style=\"fill:#d9e6f5;stroke:#444443;stroke-linejoin:miter;stroke-width:0.5;\" />\n   </g>\n   <g id=\"patch_35\">\n    <path clip-path=\"url(#p4d4b97c711)\" d=\"M 171.706905 46.721518  L 181.969927 46.721518  L 181.969927 46.721518  L 171.706905 46.721518  z \" style=\"fill:#d9e6f5;stroke:#444443;stroke-linejoin:miter;stroke-width:0.5;\" />\n   </g>\n   <g id=\"patch_36\">\n    <path clip-path=\"url(#p4d4b97c711)\" d=\"M 181.969927 46.721518  L 192.232949 46.721518  L 192.232949 46.721518  L 181.969927 46.721518  z \" style=\"fill:#d9e6f5;stroke:#444443;stroke-linejoin:miter;stroke-width:0.5;\" />\n   </g>\n   <g id=\"patch_37\">\n    <path clip-path=\"url(#p4d4b97c711)\" d=\"M 17.761571 46.721518  L 28.024593 46.721518  L 28.024593 46.721518  L 17.761571 46.721518  z \" style=\"fill:#a1dab4;stroke:#444443;stroke-linejoin:miter;stroke-width:0.5;\" />\n   </g>\n   <g id=\"patch_38\">\n    <path clip-path=\"url(#p4d4b97c711)\" d=\"M 28.024593 46.721518  L 38.287616 46.721518  L 38.287616 46.721518  L 28.024593 46.721518  z \" style=\"fill:#a1dab4;stroke:#444443;stroke-linejoin:miter;stroke-width:0.5;\" />\n   </g>\n   <g id=\"patch_39\">\n    <path clip-path=\"url(#p4d4b97c711)\" d=\"M 38.287616 46.721518  L 48.550638 46.721518  L 48.550638 46.721518  L 38.287616 46.721518  z \" style=\"fill:#a1dab4;stroke:#444443;stroke-linejoin:miter;stroke-width:0.5;\" />\n   </g>\n   <g id=\"patch_40\">\n    <path clip-path=\"url(#p4d4b97c711)\" d=\"M 48.550638 46.721518  L 58.81366 46.721518  L 58.81366 46.721518  L 48.550638 46.721518  z \" style=\"fill:#a1dab4;stroke:#444443;stroke-linejoin:miter;stroke-width:0.5;\" />\n   </g>\n   <g id=\"patch_41\">\n    <path clip-path=\"url(#p4d4b97c711)\" d=\"M 58.81366 46.721518  L 69.076682 46.721518  L 69.076682 46.721518  L 58.81366 46.721518  z \" style=\"fill:#a1dab4;stroke:#444443;stroke-linejoin:miter;stroke-width:0.5;\" />\n   </g>\n   <g id=\"patch_42\">\n    <path clip-path=\"url(#p4d4b97c711)\" d=\"M 69.076682 46.721518  L 79.339705 46.721518  L 79.339705 46.721518  L 69.076682 46.721518  z \" style=\"fill:#a1dab4;stroke:#444443;stroke-linejoin:miter;stroke-width:0.5;\" />\n   </g>\n   <g id=\"patch_43\">\n    <path clip-path=\"url(#p4d4b97c711)\" d=\"M 79.339705 46.721518  L 89.602727 46.721518  L 89.602727 46.721518  L 79.339705 46.721518  z \" style=\"fill:#a1dab4;stroke:#444443;stroke-linejoin:miter;stroke-width:0.5;\" />\n   </g>\n   <g id=\"patch_44\">\n    <path clip-path=\"url(#p4d4b97c711)\" d=\"M 89.602727 46.721518  L 99.865749 46.721518  L 99.865749 46.721518  L 89.602727 46.721518  z \" style=\"fill:#a1dab4;stroke:#444443;stroke-linejoin:miter;stroke-width:0.5;\" />\n   </g>\n   <g id=\"patch_45\">\n    <path clip-path=\"url(#p4d4b97c711)\" d=\"M 99.865749 46.721518  L 110.128771 46.721518  L 110.128771 46.721518  L 99.865749 46.721518  z \" style=\"fill:#a1dab4;stroke:#444443;stroke-linejoin:miter;stroke-width:0.5;\" />\n   </g>\n   <g id=\"patch_46\">\n    <path clip-path=\"url(#p4d4b97c711)\" d=\"M 110.128771 39.012904  L 120.391794 39.012904  L 120.391794 31.304291  L 110.128771 31.304291  z \" style=\"fill:#a1dab4;stroke:#444443;stroke-linejoin:miter;stroke-width:0.5;\" />\n   </g>\n   <g id=\"patch_47\">\n    <path clip-path=\"url(#p4d4b97c711)\" d=\"M 120.391794 44.15198  L 130.654816 44.15198  L 130.654816 41.582442  L 120.391794 41.582442  z \" style=\"fill:#a1dab4;stroke:#444443;stroke-linejoin:miter;stroke-width:0.5;\" />\n   </g>\n   <g id=\"patch_48\">\n    <path clip-path=\"url(#p4d4b97c711)\" d=\"M 130.654816 44.15198  L 140.917838 44.15198  L 140.917838 44.15198  L 130.654816 44.15198  z \" style=\"fill:#a1dab4;stroke:#444443;stroke-linejoin:miter;stroke-width:0.5;\" />\n   </g>\n   <g id=\"patch_49\">\n    <path clip-path=\"url(#p4d4b97c711)\" d=\"M 140.917838 44.15198  L 151.18086 44.15198  L 151.18086 3.039375  L 140.917838 3.039375  z \" style=\"fill:#a1dab4;stroke:#444443;stroke-linejoin:miter;stroke-width:0.5;\" />\n   </g>\n   <g id=\"patch_50\">\n    <path clip-path=\"url(#p4d4b97c711)\" d=\"M 151.18086 46.721518  L 161.443882 46.721518  L 161.443882 31.304291  L 151.18086 31.304291  z \" style=\"fill:#a1dab4;stroke:#444443;stroke-linejoin:miter;stroke-width:0.5;\" />\n   </g>\n   <g id=\"patch_51\">\n    <path clip-path=\"url(#p4d4b97c711)\" d=\"M 161.443882 46.721518  L 171.706905 46.721518  L 171.706905 23.595678  L 161.443882 23.595678  z \" style=\"fill:#a1dab4;stroke:#444443;stroke-linejoin:miter;stroke-width:0.5;\" />\n   </g>\n   <g id=\"patch_52\">\n    <path clip-path=\"url(#p4d4b97c711)\" d=\"M 171.706905 46.721518  L 181.969927 46.721518  L 181.969927 26.165215  L 171.706905 26.165215  z \" style=\"fill:#a1dab4;stroke:#444443;stroke-linejoin:miter;stroke-width:0.5;\" />\n   </g>\n   <g id=\"patch_53\">\n    <path clip-path=\"url(#p4d4b97c711)\" d=\"M 181.969927 46.721518  L 192.232949 46.721518  L 192.232949 31.304291  L 181.969927 31.304291  z \" style=\"fill:#a1dab4;stroke:#444443;stroke-linejoin:miter;stroke-width:0.5;\" />\n   </g>\n   <g id=\"patch_54\">\n    <path d=\"M 137.710644 47.536918  L 134.396124 54.875518  L 141.025164 54.875518  z \" style=\"fill:#444443;\" />\n   </g>\n   <g id=\"matplotlib.axis_1\">\n    <g id=\"xtick_1\">\n     <g id=\"line2d_1\">\n      <defs>\n       <path d=\"M 0 0  L 0 3.5  \" id=\"maf4c931e10\" style=\"stroke:#000000;stroke-width:0.3;\" />\n      </defs>\n      <g>\n       <use style=\"stroke:#000000;stroke-width:0.3;\" x=\"17.761571\" xlink:href=\"#maf4c931e10\" y=\"46.721518\" />\n      </g>\n     </g>\n     <g id=\"text_1\">\n      \n      <g style=\"fill:#444443;\" transform=\"translate(11.400321 59.800268)scale(0.08 -0.08)\">\n       <defs>\n        <path d=\"M 2034 4250  Q 1547 4250 1301 3770  Q 1056 3291 1056 2328  Q 1056 1369 1301 889  Q 1547 409 2034 409  Q 2525 409 2770 889  Q 3016 1369 3016 2328  Q 3016 3291 2770 3770  Q 2525 4250 2034 4250  z M 2034 4750  Q 2819 4750 3233 4129  Q 3647 3509 3647 2328  Q 3647 1150 3233 529  Q 2819 -91 2034 -91  Q 1250 -91 836 529  Q 422 1150 422 2328  Q 422 3509 836 4129  Q 1250 4750 2034 4750  z \" id=\"DejaVuSans-30\" transform=\"scale(0.015625)\" />\n        <path d=\"M 684 794  L 1344 794  L 1344 0  L 684 0  L 684 794  z \" id=\"DejaVuSans-2e\" transform=\"scale(0.015625)\" />\n        <path d=\"M 794 531  L 1825 531  L 1825 4091  L 703 3866  L 703 4441  L 1819 4666  L 2450 4666  L 2450 531  L 3481 531  L 3481 0  L 794 0  L 794 531  z \" id=\"DejaVuSans-31\" transform=\"scale(0.015625)\" />\n       </defs>\n       <use xlink:href=\"#DejaVuSans-30\" />\n       <use x=\"63.623047\" xlink:href=\"#DejaVuSans-2e\" />\n       <use x=\"95.410156\" xlink:href=\"#DejaVuSans-31\" />\n      </g>\n     </g>\n    </g>\n    <g id=\"xtick_2\">\n     <g id=\"line2d_2\">\n      <g>\n       <use style=\"stroke:#000000;stroke-width:0.3;\" x=\"192.232949\" xlink:href=\"#maf4c931e10\" y=\"46.721518\" />\n      </g>\n     </g>\n     <g id=\"text_2\">\n      \n      <g style=\"fill:#444443;\" transform=\"translate(185.871699 59.800268)scale(0.08 -0.08)\">\n       <defs>\n        <path d=\"M 1228 531  L 3431 531  L 3431 0  L 469 0  L 469 531  Q 828 903 1448 1529  Q 2069 2156 2228 2338  Q 2531 2678 2651 2914  Q 2772 3150 2772 3378  Q 2772 3750 2511 3984  Q 2250 4219 1831 4219  Q 1534 4219 1204 4116  Q 875 4013 500 3803  L 500 4441  Q 881 4594 1212 4672  Q 1544 4750 1819 4750  Q 2544 4750 2975 4387  Q 3406 4025 3406 3419  Q 3406 3131 3298 2873  Q 3191 2616 2906 2266  Q 2828 2175 2409 1742  Q 1991 1309 1228 531  z \" id=\"DejaVuSans-32\" transform=\"scale(0.015625)\" />\n        <path d=\"M 691 4666  L 3169 4666  L 3169 4134  L 1269 4134  L 1269 2991  Q 1406 3038 1543 3061  Q 1681 3084 1819 3084  Q 2600 3084 3056 2656  Q 3513 2228 3513 1497  Q 3513 744 3044 326  Q 2575 -91 1722 -91  Q 1428 -91 1123 -41  Q 819 9 494 109  L 494 744  Q 775 591 1075 516  Q 1375 441 1709 441  Q 2250 441 2565 725  Q 2881 1009 2881 1497  Q 2881 1984 2565 2268  Q 2250 2553 1709 2553  Q 1456 2553 1204 2497  Q 953 2441 691 2322  L 691 4666  z \" id=\"DejaVuSans-35\" transform=\"scale(0.015625)\" />\n       </defs>\n       <use xlink:href=\"#DejaVuSans-32\" />\n       <use x=\"63.623047\" xlink:href=\"#DejaVuSans-2e\" />\n       <use x=\"95.410156\" xlink:href=\"#DejaVuSans-35\" />\n      </g>\n     </g>\n    </g>\n    <g id=\"text_3\">\n     \n     <g style=\"fill:#444443;\" transform=\"translate(66.906875 74.199643)scale(0.12 -0.12)\">\n      <defs>\n       <path d=\"M 422 -1272  L 422 3319  L 934 3319  L 934 2888  Q 1116 3141 1344 3267  Q 1572 3394 1897 3394  Q 2322 3394 2647 3175  Q 2972 2956 3137 2557  Q 3303 2159 3303 1684  Q 3303 1175 3120 767  Q 2938 359 2589 142  Q 2241 -75 1856 -75  Q 1575 -75 1351 44  Q 1128 163 984 344  L 984 -1272  L 422 -1272  z M 931 1641  Q 931 1000 1190 694  Q 1450 388 1819 388  Q 2194 388 2461 705  Q 2728 1022 2728 1688  Q 2728 2322 2467 2637  Q 2206 2953 1844 2953  Q 1484 2953 1207 2617  Q 931 2281 931 1641  z \" id=\"ArialMT-70\" transform=\"scale(0.015625)\" />\n       <path d=\"M 2694 1069  L 3275 997  Q 3138 488 2766 206  Q 2394 -75 1816 -75  Q 1088 -75 661 373  Q 234 822 234 1631  Q 234 2469 665 2931  Q 1097 3394 1784 3394  Q 2450 3394 2872 2941  Q 3294 2488 3294 1666  Q 3294 1616 3291 1516  L 816 1516  Q 847 969 1125 678  Q 1403 388 1819 388  Q 2128 388 2347 550  Q 2566 713 2694 1069  z M 847 1978  L 2700 1978  Q 2663 2397 2488 2606  Q 2219 2931 1791 2931  Q 1403 2931 1139 2672  Q 875 2413 847 1978  z \" id=\"ArialMT-65\" transform=\"scale(0.015625)\" />\n       <path d=\"M 1650 503  L 1731 6  Q 1494 -44 1306 -44  Q 1000 -44 831 53  Q 663 150 594 308  Q 525 466 525 972  L 525 2881  L 113 2881  L 113 3319  L 525 3319  L 525 4141  L 1084 4478  L 1084 3319  L 1650 3319  L 1650 2881  L 1084 2881  L 1084 941  Q 1084 700 1114 631  Q 1144 563 1211 522  Q 1278 481 1403 481  Q 1497 481 1650 503  z \" id=\"ArialMT-74\" transform=\"scale(0.015625)\" />\n       <path d=\"M 2588 409  Q 2275 144 1986 34  Q 1697 -75 1366 -75  Q 819 -75 525 192  Q 231 459 231 875  Q 231 1119 342 1320  Q 453 1522 633 1644  Q 813 1766 1038 1828  Q 1203 1872 1538 1913  Q 2219 1994 2541 2106  Q 2544 2222 2544 2253  Q 2544 2597 2384 2738  Q 2169 2928 1744 2928  Q 1347 2928 1158 2789  Q 969 2650 878 2297  L 328 2372  Q 403 2725 575 2942  Q 747 3159 1072 3276  Q 1397 3394 1825 3394  Q 2250 3394 2515 3294  Q 2781 3194 2906 3042  Q 3031 2891 3081 2659  Q 3109 2516 3109 2141  L 3109 1391  Q 3109 606 3145 398  Q 3181 191 3288 0  L 2700 0  Q 2613 175 2588 409  z M 2541 1666  Q 2234 1541 1622 1453  Q 1275 1403 1131 1340  Q 988 1278 909 1158  Q 831 1038 831 891  Q 831 666 1001 516  Q 1172 366 1500 366  Q 1825 366 2078 508  Q 2331 650 2450 897  Q 2541 1088 2541 1459  L 2541 1666  z \" id=\"ArialMT-61\" transform=\"scale(0.015625)\" />\n       <path d=\"M 409 0  L 409 4581  L 972 4581  L 972 0  L 409 0  z \" id=\"ArialMT-6c\" transform=\"scale(0.015625)\" />\n       <path id=\"ArialMT-20\" transform=\"scale(0.015625)\" />\n       <path d=\"M 1034 0  L 19 3319  L 600 3319  L 1128 1403  L 1325 691  Q 1338 744 1497 1375  L 2025 3319  L 2603 3319  L 3100 1394  L 3266 759  L 3456 1400  L 4025 3319  L 4572 3319  L 3534 0  L 2950 0  L 2422 1988  L 2294 2553  L 1622 0  L 1034 0  z \" id=\"ArialMT-77\" transform=\"scale(0.015625)\" />\n       <path d=\"M 425 3934  L 425 4581  L 988 4581  L 988 3934  L 425 3934  z M 425 0  L 425 3319  L 988 3319  L 988 0  L 425 0  z \" id=\"ArialMT-69\" transform=\"scale(0.015625)\" />\n       <path d=\"M 2575 0  L 2575 419  Q 2259 -75 1647 -75  Q 1250 -75 917 144  Q 584 363 401 755  Q 219 1147 219 1656  Q 219 2153 384 2558  Q 550 2963 881 3178  Q 1213 3394 1622 3394  Q 1922 3394 2156 3267  Q 2391 3141 2538 2938  L 2538 4581  L 3097 4581  L 3097 0  L 2575 0  z M 797 1656  Q 797 1019 1065 703  Q 1334 388 1700 388  Q 2069 388 2326 689  Q 2584 991 2584 1609  Q 2584 2291 2321 2609  Q 2059 2928 1675 2928  Q 1300 2928 1048 2622  Q 797 2316 797 1656  z \" id=\"ArialMT-64\" transform=\"scale(0.015625)\" />\n       <path d=\"M 422 0  L 422 4581  L 984 4581  L 984 2938  Q 1378 3394 1978 3394  Q 2347 3394 2619 3248  Q 2891 3103 3008 2847  Q 3125 2591 3125 2103  L 3125 0  L 2563 0  L 2563 2103  Q 2563 2525 2380 2717  Q 2197 2909 1863 2909  Q 1613 2909 1392 2779  Q 1172 2650 1078 2428  Q 984 2206 984 1816  L 984 0  L 422 0  z \" id=\"ArialMT-68\" transform=\"scale(0.015625)\" />\n       <path d=\"M 1497 -1347  Q 1031 -759 709 28  Q 388 816 388 1659  Q 388 2403 628 3084  Q 909 3875 1497 4659  L 1900 4659  Q 1522 4009 1400 3731  Q 1209 3300 1100 2831  Q 966 2247 966 1656  Q 966 153 1900 -1347  L 1497 -1347  z \" id=\"ArialMT-28\" transform=\"scale(0.015625)\" />\n       <path d=\"M 2588 1216  L 3141 1144  Q 3050 572 2676 248  Q 2303 -75 1759 -75  Q 1078 -75 664 370  Q 250 816 250 1647  Q 250 2184 428 2587  Q 606 2991 970 3192  Q 1334 3394 1763 3394  Q 2303 3394 2647 3120  Q 2991 2847 3088 2344  L 2541 2259  Q 2463 2594 2264 2762  Q 2066 2931 1784 2931  Q 1359 2931 1093 2626  Q 828 2322 828 1663  Q 828 994 1084 691  Q 1341 388 1753 388  Q 2084 388 2306 591  Q 2528 794 2588 1216  z \" id=\"ArialMT-63\" transform=\"scale(0.015625)\" />\n       <path d=\"M 422 0  L 422 3319  L 925 3319  L 925 2853  Q 1081 3097 1340 3245  Q 1600 3394 1931 3394  Q 2300 3394 2536 3241  Q 2772 3088 2869 2813  Q 3263 3394 3894 3394  Q 4388 3394 4653 3120  Q 4919 2847 4919 2278  L 4919 0  L 4359 0  L 4359 2091  Q 4359 2428 4304 2576  Q 4250 2725 4106 2815  Q 3963 2906 3769 2906  Q 3419 2906 3187 2673  Q 2956 2441 2956 1928  L 2956 0  L 2394 0  L 2394 2156  Q 2394 2531 2256 2718  Q 2119 2906 1806 2906  Q 1569 2906 1367 2781  Q 1166 2656 1075 2415  Q 984 2175 984 1722  L 984 0  L 422 0  z \" id=\"ArialMT-6d\" transform=\"scale(0.015625)\" />\n       <path d=\"M 791 -1347  L 388 -1347  Q 1322 153 1322 1656  Q 1322 2244 1188 2822  Q 1081 3291 891 3722  Q 769 4003 388 4659  L 791 4659  Q 1378 3875 1659 3084  Q 1900 2403 1900 1659  Q 1900 816 1576 28  Q 1253 -759 791 -1347  z \" id=\"ArialMT-29\" transform=\"scale(0.015625)\" />\n      </defs>\n      <use xlink:href=\"#ArialMT-70\" />\n      <use x=\"55.615234\" xlink:href=\"#ArialMT-65\" />\n      <use x=\"111.230469\" xlink:href=\"#ArialMT-74\" />\n      <use x=\"139.013672\" xlink:href=\"#ArialMT-61\" />\n      <use x=\"194.628906\" xlink:href=\"#ArialMT-6c\" />\n      <use x=\"216.845703\" xlink:href=\"#ArialMT-20\" />\n      <use x=\"244.628906\" xlink:href=\"#ArialMT-77\" />\n      <use x=\"316.845703\" xlink:href=\"#ArialMT-69\" />\n      <use x=\"339.0625\" xlink:href=\"#ArialMT-64\" />\n      <use x=\"394.677734\" xlink:href=\"#ArialMT-74\" />\n      <use x=\"422.460938\" xlink:href=\"#ArialMT-68\" />\n      <use x=\"478.076172\" xlink:href=\"#ArialMT-20\" />\n      <use x=\"505.859375\" xlink:href=\"#ArialMT-28\" />\n      <use x=\"539.160156\" xlink:href=\"#ArialMT-63\" />\n      <use x=\"589.160156\" xlink:href=\"#ArialMT-6d\" />\n      <use x=\"672.460938\" xlink:href=\"#ArialMT-29\" />\n     </g>\n    </g>\n   </g>\n   <g id=\"matplotlib.axis_2\">\n    <g id=\"ytick_1\">\n     <g id=\"line2d_3\">\n      <defs>\n       <path d=\"M 0 0  L -3.5 0  \" id=\"mdb6481ccb2\" style=\"stroke:#000000;stroke-width:0.3;\" />\n      </defs>\n      <g>\n       <use style=\"stroke:#000000;stroke-width:0.3;\" x=\"17.18\" xlink:href=\"#mdb6481ccb2\" y=\"46.721518\" />\n      </g>\n     </g>\n     <g id=\"text_4\">\n      \n      <g style=\"fill:#444443;\" transform=\"translate(5.09 49.760893)scale(0.08 -0.08)\">\n       <use xlink:href=\"#DejaVuSans-30\" />\n      </g>\n     </g>\n    </g>\n    <g id=\"ytick_2\">\n     <g id=\"line2d_4\">\n      <g>\n       <use style=\"stroke:#000000;stroke-width:0.3;\" x=\"17.18\" xlink:href=\"#mdb6481ccb2\" y=\"3.039375\" />\n      </g>\n     </g>\n     <g id=\"text_5\">\n      \n      <g style=\"fill:#444443;\" transform=\"translate(0 6.07875)scale(0.08 -0.08)\">\n       <defs>\n        <path d=\"M 525 4666  L 3525 4666  L 3525 4397  L 1831 0  L 1172 0  L 2766 4134  L 525 4134  L 525 4666  z \" id=\"DejaVuSans-37\" transform=\"scale(0.015625)\" />\n       </defs>\n       <use xlink:href=\"#DejaVuSans-31\" />\n       <use x=\"63.623047\" xlink:href=\"#DejaVuSans-37\" />\n      </g>\n     </g>\n    </g>\n   </g>\n   <g id=\"patch_55\">\n    <path d=\"M 17.18 46.721518  L 17.18 0.855268  \" style=\"fill:none;stroke:#000000;stroke-linecap:square;stroke-linejoin:miter;stroke-width:0.3;\" />\n   </g>\n   <g id=\"patch_56\">\n    <path d=\"M 17.18 46.721518  L 201.32 46.721518  \" style=\"fill:none;stroke:#000000;stroke-linecap:square;stroke-linejoin:miter;stroke-width:0.3;\" />\n   </g>\n   <g id=\"text_6\">\n    \n    <g style=\"fill:#444443;\" transform=\"translate(129.926269 63.029518)scale(0.08 -0.08)\">\n     <defs>\n      <path d=\"M 2384 0  L 1822 0  L 1822 3584  Q 1619 3391 1289 3197  Q 959 3003 697 2906  L 697 3450  Q 1169 3672 1522 3987  Q 1875 4303 2022 4600  L 2384 4600  L 2384 0  z \" id=\"ArialMT-31\" transform=\"scale(0.015625)\" />\n      <path d=\"M 581 0  L 581 641  L 1222 641  L 1222 0  L 581 0  z \" id=\"ArialMT-2e\" transform=\"scale(0.015625)\" />\n      <path d=\"M 303 3981  L 303 4522  L 3269 4522  L 3269 4084  Q 2831 3619 2401 2847  Q 1972 2075 1738 1259  Q 1569 684 1522 0  L 944 0  Q 953 541 1156 1306  Q 1359 2072 1739 2783  Q 2119 3494 2547 3981  L 303 3981  z \" id=\"ArialMT-37\" transform=\"scale(0.015625)\" />\n      <path d=\"M 266 1200  L 856 1250  Q 922 819 1161 601  Q 1400 384 1738 384  Q 2144 384 2425 690  Q 2706 997 2706 1503  Q 2706 1984 2436 2262  Q 2166 2541 1728 2541  Q 1456 2541 1237 2417  Q 1019 2294 894 2097  L 366 2166  L 809 4519  L 3088 4519  L 3088 3981  L 1259 3981  L 1013 2750  Q 1425 3038 1878 3038  Q 2478 3038 2890 2622  Q 3303 2206 3303 1553  Q 3303 931 2941 478  Q 2500 -78 1738 -78  Q 1113 -78 717 272  Q 322 622 266 1200  z \" id=\"ArialMT-35\" transform=\"scale(0.015625)\" />\n     </defs>\n     <use xlink:href=\"#ArialMT-31\" />\n     <use x=\"55.615234\" xlink:href=\"#ArialMT-2e\" />\n     <use x=\"83.398438\" xlink:href=\"#ArialMT-37\" />\n     <use x=\"139.013672\" xlink:href=\"#ArialMT-35\" />\n    </g>\n   </g>\n  </g>\n </g>\n <defs>\n  <clipPath id=\"p4d4b97c711\">\n   <rect height=\"45.86625\" width=\"184.14\" x=\"17.18\" y=\"0.855268\" />\n  </clipPath>\n </defs>\n</svg></g>\n\n\n<g id=\"node10\" class=\"node\">\n<title>leaf4</title>\n<polygon fill=\"none\" stroke=\"#444443\" stroke-width=\"0\" points=\"64,-273 9,-273 9,-203 64,-203 64,-273\" />\n<svg height=\"62px\" version=\"1.1\" viewBox=\"0 0 62.212 82.450449\" width=\"47px\" preserveAspectRatio=\"xMinYMin meet\" x=\"13.5\" y=\"-269\">\n <metadata>\n  <rdf:RDF>\n   <ns2:Work>\n    <dc:type rdf:resource=\"http://purl.org/dc/dcmitype/StillImage\" />\n    <dc:date>2021-10-04T20:58:02.328477</dc:date>\n    <dc:format>image/svg+xml</dc:format>\n    <dc:creator>\n     <ns2:Agent>\n      <dc:title>Matplotlib v3.4.3, https://matplotlib.org/</dc:title>\n     </ns2:Agent>\n    </dc:creator>\n   </ns2:Work>\n  </rdf:RDF>\n </metadata>\n <defs>\n  <style type=\"text/css\">*{stroke-linecap:butt;stroke-linejoin:round;}</style>\n </defs>\n <g id=\"figure_1\">\n  <g id=\"patch_1\">\n   <path d=\"M 0 82.450449  L 62.212 82.450449  L 62.212 0  L 0 0  z \" style=\"fill:none;\" />\n  </g>\n  <g id=\"axes_1\">\n   <g id=\"patch_2\">\n    <path d=\"M 62.212 31.106  C 62.212 27.021198 61.407383 22.976115 59.844197 19.202249  C 58.28101 15.428384 55.989655 11.999128 53.101264 9.110736  C 50.212872 6.222345 46.783616 3.93099 43.009751 2.367803  C 39.235885 0.804617 35.190802 0 31.106 0  C 27.021198 0 22.976115 0.804617 19.202249 2.367803  C 15.428384 3.93099 11.999128 6.222345 9.110736 9.110736  C 6.222345 11.999128 3.93099 15.428384 2.367803 19.202249  C 0.804617 22.976115 0 27.021198 0 31.106  C 0 35.190802 0.804617 39.235885 2.367803 43.009751  C 3.93099 46.783616 6.222345 50.212872 9.110736 53.101264  C 11.999128 55.989655 15.428384 58.28101 19.202249 59.844197  C 22.976115 61.407383 27.021198 62.212 31.106 62.212  C 35.190802 62.212 39.235885 61.407383 43.009751 59.844197  C 46.783616 58.28101 50.212872 55.989655 53.101264 53.101264  C 55.989655 50.212872 58.28101 46.783616 59.844197 43.009751  C 61.407383 39.235885 62.212 35.190802 62.212 31.106  M 31.106 31.106  M 62.212 31.106  z \" style=\"fill:#d9e6f5;stroke:#444443;stroke-linejoin:miter;stroke-width:0.5;\" />\n   </g>\n   <g id=\"text_1\">\n    \n    <g style=\"fill:#444443;\" transform=\"translate(20.970453 71.142511)scale(0.09 -0.09)\">\n     <defs>\n      <path d=\"M 422 0  L 422 3319  L 928 3319  L 928 2847  Q 1294 3394 1984 3394  Q 2284 3394 2536 3286  Q 2788 3178 2913 3003  Q 3038 2828 3088 2588  Q 3119 2431 3119 2041  L 3119 0  L 2556 0  L 2556 2019  Q 2556 2363 2490 2533  Q 2425 2703 2258 2804  Q 2091 2906 1866 2906  Q 1506 2906 1245 2678  Q 984 2450 984 1813  L 984 0  L 422 0  z \" id=\"ArialMT-6e\" transform=\"scale(0.015625)\" />\n      <path d=\"M 3381 2694  L 356 2694  L 356 3219  L 3381 3219  L 3381 2694  z M 3381 1303  L 356 1303  L 356 1828  L 3381 1828  L 3381 1303  z \" id=\"ArialMT-3d\" transform=\"scale(0.015625)\" />\n      <path d=\"M 2069 0  L 2069 1097  L 81 1097  L 81 1613  L 2172 4581  L 2631 4581  L 2631 1613  L 3250 1613  L 3250 1097  L 2631 1097  L 2631 0  L 2069 0  z M 2069 1613  L 2069 3678  L 634 1613  L 2069 1613  z \" id=\"ArialMT-34\" transform=\"scale(0.015625)\" />\n     </defs>\n     <use xlink:href=\"#ArialMT-6e\" />\n     <use x=\"55.615234\" xlink:href=\"#ArialMT-3d\" />\n     <use x=\"114.013672\" xlink:href=\"#ArialMT-34\" />\n     <use x=\"169.628906\" xlink:href=\"#ArialMT-34\" />\n    </g>\n    \n    <g style=\"fill:#444443;\" transform=\"translate(11.852328 80.661699)scale(0.09 -0.09)\">\n     <defs>\n      <path d=\"M 1344 0  L 81 3319  L 675 3319  L 1388 1331  Q 1503 1009 1600 663  Q 1675 925 1809 1294  L 2547 3319  L 3125 3319  L 1869 0  L 1344 0  z \" id=\"ArialMT-76\" transform=\"scale(0.015625)\" />\n      <path d=\"M 2694 1069  L 3275 997  Q 3138 488 2766 206  Q 2394 -75 1816 -75  Q 1088 -75 661 373  Q 234 822 234 1631  Q 234 2469 665 2931  Q 1097 3394 1784 3394  Q 2450 3394 2872 2941  Q 3294 2488 3294 1666  Q 3294 1616 3291 1516  L 816 1516  Q 847 969 1125 678  Q 1403 388 1819 388  Q 2128 388 2347 550  Q 2566 713 2694 1069  z M 847 1978  L 2700 1978  Q 2663 2397 2488 2606  Q 2219 2931 1791 2931  Q 1403 2931 1139 2672  Q 875 2413 847 1978  z \" id=\"ArialMT-65\" transform=\"scale(0.015625)\" />\n      <path d=\"M 416 0  L 416 3319  L 922 3319  L 922 2816  Q 1116 3169 1280 3281  Q 1444 3394 1641 3394  Q 1925 3394 2219 3213  L 2025 2691  Q 1819 2813 1613 2813  Q 1428 2813 1281 2702  Q 1134 2591 1072 2394  Q 978 2094 978 1738  L 978 0  L 416 0  z \" id=\"ArialMT-72\" transform=\"scale(0.015625)\" />\n      <path d=\"M 197 991  L 753 1078  Q 800 744 1014 566  Q 1228 388 1613 388  Q 2000 388 2187 545  Q 2375 703 2375 916  Q 2375 1106 2209 1216  Q 2094 1291 1634 1406  Q 1016 1563 777 1677  Q 538 1791 414 1992  Q 291 2194 291 2438  Q 291 2659 392 2848  Q 494 3038 669 3163  Q 800 3259 1026 3326  Q 1253 3394 1513 3394  Q 1903 3394 2198 3281  Q 2494 3169 2634 2976  Q 2775 2784 2828 2463  L 2278 2388  Q 2241 2644 2061 2787  Q 1881 2931 1553 2931  Q 1166 2931 1000 2803  Q 834 2675 834 2503  Q 834 2394 903 2306  Q 972 2216 1119 2156  Q 1203 2125 1616 2013  Q 2213 1853 2448 1751  Q 2684 1650 2818 1456  Q 2953 1263 2953 975  Q 2953 694 2789 445  Q 2625 197 2315 61  Q 2006 -75 1616 -75  Q 969 -75 630 194  Q 291 463 197 991  z \" id=\"ArialMT-73\" transform=\"scale(0.015625)\" />\n      <path d=\"M 425 3934  L 425 4581  L 988 4581  L 988 3934  L 425 3934  z M 425 0  L 425 3319  L 988 3319  L 988 0  L 425 0  z \" id=\"ArialMT-69\" transform=\"scale(0.015625)\" />\n      <path d=\"M 2588 1216  L 3141 1144  Q 3050 572 2676 248  Q 2303 -75 1759 -75  Q 1078 -75 664 370  Q 250 816 250 1647  Q 250 2184 428 2587  Q 606 2991 970 3192  Q 1334 3394 1763 3394  Q 2303 3394 2647 3120  Q 2991 2847 3088 2344  L 2541 2259  Q 2463 2594 2264 2762  Q 2066 2931 1784 2931  Q 1359 2931 1093 2626  Q 828 2322 828 1663  Q 828 994 1084 691  Q 1341 388 1753 388  Q 2084 388 2306 591  Q 2528 794 2588 1216  z \" id=\"ArialMT-63\" transform=\"scale(0.015625)\" />\n      <path d=\"M 213 1659  Q 213 2581 725 3025  Q 1153 3394 1769 3394  Q 2453 3394 2887 2945  Q 3322 2497 3322 1706  Q 3322 1066 3130 698  Q 2938 331 2570 128  Q 2203 -75 1769 -75  Q 1072 -75 642 372  Q 213 819 213 1659  z M 791 1659  Q 791 1022 1069 705  Q 1347 388 1769 388  Q 2188 388 2466 706  Q 2744 1025 2744 1678  Q 2744 2294 2464 2611  Q 2184 2928 1769 2928  Q 1347 2928 1069 2612  Q 791 2297 791 1659  z \" id=\"ArialMT-6f\" transform=\"scale(0.015625)\" />\n      <path d=\"M 409 0  L 409 4581  L 972 4581  L 972 0  L 409 0  z \" id=\"ArialMT-6c\" transform=\"scale(0.015625)\" />\n     </defs>\n     <use xlink:href=\"#ArialMT-76\" />\n     <use x=\"50\" xlink:href=\"#ArialMT-65\" />\n     <use x=\"105.615234\" xlink:href=\"#ArialMT-72\" />\n     <use x=\"138.916016\" xlink:href=\"#ArialMT-73\" />\n     <use x=\"188.916016\" xlink:href=\"#ArialMT-69\" />\n     <use x=\"211.132812\" xlink:href=\"#ArialMT-63\" />\n     <use x=\"261.132812\" xlink:href=\"#ArialMT-6f\" />\n     <use x=\"316.748047\" xlink:href=\"#ArialMT-6c\" />\n     <use x=\"338.964844\" xlink:href=\"#ArialMT-6f\" />\n     <use x=\"394.580078\" xlink:href=\"#ArialMT-72\" />\n    </g>\n   </g>\n  </g>\n </g>\n</svg></g>\n\n<g id=\"edge1\" class=\"edge\">\n<title>node3-&gt;leaf4</title>\n<path fill=\"none\" stroke=\"#444443\" stroke-width=\"0.3\" d=\"M61.64,-289.86C59.51,-285.56 57.33,-281.15 55.2,-276.83\" />\n<polygon fill=\"#444443\" stroke=\"#444443\" stroke-width=\"0.3\" points=\"56.44,-276.18 53.41,-273.21 53.93,-277.42 56.44,-276.18\" />\n</g>\n\n<g id=\"node11\" class=\"node\">\n<title>leaf5</title>\n<polygon fill=\"none\" stroke=\"#444443\" stroke-width=\"0\" points=\"111,-252.5 78,-252.5 78,-223.5 111,-223.5 111,-252.5\" />\n<svg height=\"21px\" version=\"1.1\" viewBox=\"0 0 33.010312 28.534157\" width=\"25px\" preserveAspectRatio=\"xMinYMin meet\" x=\"82.5\" y=\"-248\">\n <metadata>\n  <rdf:RDF>\n   <ns2:Work>\n    <dc:type rdf:resource=\"http://purl.org/dc/dcmitype/StillImage\" />\n    <dc:date>2021-10-04T20:58:02.406476</dc:date>\n    <dc:format>image/svg+xml</dc:format>\n    <dc:creator>\n     <ns2:Agent>\n      <dc:title>Matplotlib v3.4.3, https://matplotlib.org/</dc:title>\n     </ns2:Agent>\n    </dc:creator>\n   </ns2:Work>\n  </rdf:RDF>\n </metadata>\n <defs>\n  <style type=\"text/css\">*{stroke-linecap:butt;stroke-linejoin:round;}</style>\n </defs>\n <g id=\"figure_1\">\n  <g id=\"patch_1\">\n   <path d=\"M 0 28.534157  L 33.010312 28.534157  L 33.010312 0  L 0 0  z \" style=\"fill:none;\" />\n  </g>\n  <g id=\"axes_1\">\n   <g id=\"patch_2\">\n    <path d=\"M 21.639156 5.134  C 21.639156 4.459809 21.506355 3.792174 21.248354 3.169303  C 20.990352 2.546432 20.612167 1.980439 20.135442 1.503714  C 19.658718 1.026989 19.092724 0.648804 18.469853 0.390802  C 17.846982 0.132801 17.179347 0 16.505156 0  C 15.830966 0 15.16333 0.132801 14.54046 0.390802  C 13.917589 0.648804 13.351595 1.026989 12.87487 1.503714  C 12.398145 1.980439 12.01996 2.546432 11.761959 3.169303  C 11.503957 3.792174 11.371156 4.459809 11.371156 5.134  C 11.371156 5.808191 11.503957 6.475826 11.761959 7.098697  C 12.01996 7.721568 12.398145 8.287561 12.87487 8.764286  C 13.351595 9.241011 13.917589 9.619196 14.54046 9.877198  C 15.16333 10.135199 15.830966 10.268 16.505156 10.268  C 17.179347 10.268 17.846982 10.135199 18.469853 9.877198  C 19.092724 9.619196 19.658718 9.241011 20.135442 8.764286  C 20.612167 8.287561 20.990352 7.721568 21.248354 7.098697  C 21.506355 6.475826 21.639156 5.808191 21.639156 5.134  M 16.505156 5.134  M 21.639156 5.134  z \" style=\"fill:#a1dab4;stroke:#444443;stroke-linejoin:miter;stroke-width:0.5;\" />\n   </g>\n   <g id=\"text_1\">\n    \n    <g style=\"fill:#444443;\" transform=\"translate(8.872031 17.120751)scale(0.09 -0.09)\">\n     <defs>\n      <path d=\"M 422 0  L 422 3319  L 928 3319  L 928 2847  Q 1294 3394 1984 3394  Q 2284 3394 2536 3286  Q 2788 3178 2913 3003  Q 3038 2828 3088 2588  Q 3119 2431 3119 2041  L 3119 0  L 2556 0  L 2556 2019  Q 2556 2363 2490 2533  Q 2425 2703 2258 2804  Q 2091 2906 1866 2906  Q 1506 2906 1245 2678  Q 984 2450 984 1813  L 984 0  L 422 0  z \" id=\"ArialMT-6e\" transform=\"scale(0.015625)\" />\n      <path d=\"M 3381 2694  L 356 2694  L 356 3219  L 3381 3219  L 3381 2694  z M 3381 1303  L 356 1303  L 356 1828  L 3381 1828  L 3381 1303  z \" id=\"ArialMT-3d\" transform=\"scale(0.015625)\" />\n      <path d=\"M 2384 0  L 1822 0  L 1822 3584  Q 1619 3391 1289 3197  Q 959 3003 697 2906  L 697 3450  Q 1169 3672 1522 3987  Q 1875 4303 2022 4600  L 2384 4600  L 2384 0  z \" id=\"ArialMT-31\" transform=\"scale(0.015625)\" />\n     </defs>\n     <use xlink:href=\"#ArialMT-6e\" />\n     <use x=\"55.615234\" xlink:href=\"#ArialMT-3d\" />\n     <use x=\"114.013672\" xlink:href=\"#ArialMT-31\" />\n    </g>\n    \n    <g style=\"fill:#444443;\" transform=\"translate(0 26.639939)scale(0.09 -0.09)\">\n     <defs>\n      <path d=\"M 1344 0  L 81 3319  L 675 3319  L 1388 1331  Q 1503 1009 1600 663  Q 1675 925 1809 1294  L 2547 3319  L 3125 3319  L 1869 0  L 1344 0  z \" id=\"ArialMT-76\" transform=\"scale(0.015625)\" />\n      <path d=\"M 425 3934  L 425 4581  L 988 4581  L 988 3934  L 425 3934  z M 425 0  L 425 3319  L 988 3319  L 988 0  L 425 0  z \" id=\"ArialMT-69\" transform=\"scale(0.015625)\" />\n      <path d=\"M 416 0  L 416 3319  L 922 3319  L 922 2816  Q 1116 3169 1280 3281  Q 1444 3394 1641 3394  Q 1925 3394 2219 3213  L 2025 2691  Q 1819 2813 1613 2813  Q 1428 2813 1281 2702  Q 1134 2591 1072 2394  Q 978 2094 978 1738  L 978 0  L 416 0  z \" id=\"ArialMT-72\" transform=\"scale(0.015625)\" />\n      <path d=\"M 319 -275  L 866 -356  Q 900 -609 1056 -725  Q 1266 -881 1628 -881  Q 2019 -881 2231 -725  Q 2444 -569 2519 -288  Q 2563 -116 2559 434  Q 2191 0 1641 0  Q 956 0 581 494  Q 206 988 206 1678  Q 206 2153 378 2554  Q 550 2956 876 3175  Q 1203 3394 1644 3394  Q 2231 3394 2613 2919  L 2613 3319  L 3131 3319  L 3131 450  Q 3131 -325 2973 -648  Q 2816 -972 2473 -1159  Q 2131 -1347 1631 -1347  Q 1038 -1347 672 -1080  Q 306 -813 319 -275  z M 784 1719  Q 784 1066 1043 766  Q 1303 466 1694 466  Q 2081 466 2343 764  Q 2606 1063 2606 1700  Q 2606 2309 2336 2618  Q 2066 2928 1684 2928  Q 1309 2928 1046 2623  Q 784 2319 784 1719  z \" id=\"ArialMT-67\" transform=\"scale(0.015625)\" />\n      <path d=\"M 2588 1216  L 3141 1144  Q 3050 572 2676 248  Q 2303 -75 1759 -75  Q 1078 -75 664 370  Q 250 816 250 1647  Q 250 2184 428 2587  Q 606 2991 970 3192  Q 1334 3394 1763 3394  Q 2303 3394 2647 3120  Q 2991 2847 3088 2344  L 2541 2259  Q 2463 2594 2264 2762  Q 2066 2931 1784 2931  Q 1359 2931 1093 2626  Q 828 2322 828 1663  Q 828 994 1084 691  Q 1341 388 1753 388  Q 2084 388 2306 591  Q 2528 794 2588 1216  z \" id=\"ArialMT-63\" transform=\"scale(0.015625)\" />\n      <path d=\"M 2588 409  Q 2275 144 1986 34  Q 1697 -75 1366 -75  Q 819 -75 525 192  Q 231 459 231 875  Q 231 1119 342 1320  Q 453 1522 633 1644  Q 813 1766 1038 1828  Q 1203 1872 1538 1913  Q 2219 1994 2541 2106  Q 2544 2222 2544 2253  Q 2544 2597 2384 2738  Q 2169 2928 1744 2928  Q 1347 2928 1158 2789  Q 969 2650 878 2297  L 328 2372  Q 403 2725 575 2942  Q 747 3159 1072 3276  Q 1397 3394 1825 3394  Q 2250 3394 2515 3294  Q 2781 3194 2906 3042  Q 3031 2891 3081 2659  Q 3109 2516 3109 2141  L 3109 1391  Q 3109 606 3145 398  Q 3181 191 3288 0  L 2700 0  Q 2613 175 2588 409  z M 2541 1666  Q 2234 1541 1622 1453  Q 1275 1403 1131 1340  Q 988 1278 909 1158  Q 831 1038 831 891  Q 831 666 1001 516  Q 1172 366 1500 366  Q 1825 366 2078 508  Q 2331 650 2450 897  Q 2541 1088 2541 1459  L 2541 1666  z \" id=\"ArialMT-61\" transform=\"scale(0.015625)\" />\n     </defs>\n     <use xlink:href=\"#ArialMT-76\" />\n     <use x=\"50\" xlink:href=\"#ArialMT-69\" />\n     <use x=\"72.216797\" xlink:href=\"#ArialMT-72\" />\n     <use x=\"105.517578\" xlink:href=\"#ArialMT-67\" />\n     <use x=\"161.132812\" xlink:href=\"#ArialMT-69\" />\n     <use x=\"183.349609\" xlink:href=\"#ArialMT-6e\" />\n     <use x=\"238.964844\" xlink:href=\"#ArialMT-69\" />\n     <use x=\"261.181641\" xlink:href=\"#ArialMT-63\" />\n     <use x=\"311.181641\" xlink:href=\"#ArialMT-61\" />\n    </g>\n   </g>\n  </g>\n </g>\n</svg></g>\n\n<g id=\"edge2\" class=\"edge\">\n<title>node3-&gt;leaf5</title>\n<path fill=\"none\" stroke=\"#444443\" stroke-width=\"0.3\" d=\"M85.73,-289.86C87.69,-278.52 89.76,-266.5 91.4,-256.99\" />\n<polygon fill=\"#444443\" stroke=\"#444443\" stroke-width=\"0.3\" points=\"92.82,-256.99 92.12,-252.81 90.06,-256.52 92.82,-256.99\" />\n</g>\n\n<g id=\"node2\" class=\"node\">\n<title>node11</title>\n<svg height=\"45px\" version=\"1.1\" viewBox=\"0 0 196.23 60.546696\" width=\"147px\" preserveAspectRatio=\"xMinYMin meet\" x=\"182.5\" y=\"-95.5\">\n <metadata>\n  <rdf:RDF>\n   <ns2:Work>\n    <dc:type rdf:resource=\"http://purl.org/dc/dcmitype/StillImage\" />\n    <dc:date>2021-10-04T20:58:00.889256</dc:date>\n    <dc:format>image/svg+xml</dc:format>\n    <dc:creator>\n     <ns2:Agent>\n      <dc:title>Matplotlib v3.4.3, https://matplotlib.org/</dc:title>\n     </ns2:Agent>\n    </dc:creator>\n   </ns2:Work>\n  </rdf:RDF>\n </metadata>\n <defs>\n  <style type=\"text/css\">*{stroke-linecap:butt;stroke-linejoin:round;}</style>\n </defs>\n <g id=\"figure_1\">\n  <g id=\"patch_1\">\n   <path d=\"M 0 60.546696  L 196.23 60.546696  L 196.23 0  L 0 0  z \" style=\"fill:none;\" />\n  </g>\n  <g id=\"axes_1\">\n   <g id=\"patch_2\">\n    <path d=\"M 12.09 30.542946  L 196.23 30.542946  L 196.23 1.664196  L 12.09 1.664196  z \" style=\"fill:#ffffff;\" />\n   </g>\n   <g id=\"patch_3\">\n    <path clip-path=\"url(#p03caf292e9)\" d=\"M 14.419043 30.542946  L 24.522982 30.542946  L 24.522982 30.542946  L 14.419043 30.542946  z \" style=\"fill:#fefebb;stroke:#444443;stroke-linejoin:miter;stroke-width:0.5;\" />\n   </g>\n   <g id=\"patch_4\">\n    <path clip-path=\"url(#p03caf292e9)\" d=\"M 24.522982 30.542946  L 34.626921 30.542946  L 34.626921 30.542946  L 24.522982 30.542946  z \" style=\"fill:#fefebb;stroke:#444443;stroke-linejoin:miter;stroke-width:0.5;\" />\n   </g>\n   <g id=\"patch_5\">\n    <path clip-path=\"url(#p03caf292e9)\" d=\"M 34.626921 30.542946  L 44.730859 30.542946  L 44.730859 30.542946  L 34.626921 30.542946  z \" style=\"fill:#fefebb;stroke:#444443;stroke-linejoin:miter;stroke-width:0.5;\" />\n   </g>\n   <g id=\"patch_6\">\n    <path clip-path=\"url(#p03caf292e9)\" d=\"M 44.730859 30.542946  L 54.834798 30.542946  L 54.834798 30.542946  L 44.730859 30.542946  z \" style=\"fill:#fefebb;stroke:#444443;stroke-linejoin:miter;stroke-width:0.5;\" />\n   </g>\n   <g id=\"patch_7\">\n    <path clip-path=\"url(#p03caf292e9)\" d=\"M 54.834798 30.542946  L 64.938737 30.542946  L 64.938737 30.542946  L 54.834798 30.542946  z \" style=\"fill:#fefebb;stroke:#444443;stroke-linejoin:miter;stroke-width:0.5;\" />\n   </g>\n   <g id=\"patch_8\">\n    <path clip-path=\"url(#p03caf292e9)\" d=\"M 64.938737 30.542946  L 75.042675 30.542946  L 75.042675 30.542946  L 64.938737 30.542946  z \" style=\"fill:#fefebb;stroke:#444443;stroke-linejoin:miter;stroke-width:0.5;\" />\n   </g>\n   <g id=\"patch_9\">\n    <path clip-path=\"url(#p03caf292e9)\" d=\"M 75.042675 30.542946  L 85.146614 30.542946  L 85.146614 30.542946  L 75.042675 30.542946  z \" style=\"fill:#fefebb;stroke:#444443;stroke-linejoin:miter;stroke-width:0.5;\" />\n   </g>\n   <g id=\"patch_10\">\n    <path clip-path=\"url(#p03caf292e9)\" d=\"M 85.146614 30.542946  L 95.250552 30.542946  L 95.250552 30.542946  L 85.146614 30.542946  z \" style=\"fill:#fefebb;stroke:#444443;stroke-linejoin:miter;stroke-width:0.5;\" />\n   </g>\n   <g id=\"patch_11\">\n    <path clip-path=\"url(#p03caf292e9)\" d=\"M 95.250552 30.542946  L 105.354491 30.542946  L 105.354491 30.542946  L 95.250552 30.542946  z \" style=\"fill:#fefebb;stroke:#444443;stroke-linejoin:miter;stroke-width:0.5;\" />\n   </g>\n   <g id=\"patch_12\">\n    <path clip-path=\"url(#p03caf292e9)\" d=\"M 105.354491 30.542946  L 115.45843 30.542946  L 115.45843 30.542946  L 105.354491 30.542946  z \" style=\"fill:#fefebb;stroke:#444443;stroke-linejoin:miter;stroke-width:0.5;\" />\n   </g>\n   <g id=\"patch_13\">\n    <path clip-path=\"url(#p03caf292e9)\" d=\"M 115.45843 30.542946  L 125.562368 30.542946  L 125.562368 30.542946  L 115.45843 30.542946  z \" style=\"fill:#fefebb;stroke:#444443;stroke-linejoin:miter;stroke-width:0.5;\" />\n   </g>\n   <g id=\"patch_14\">\n    <path clip-path=\"url(#p03caf292e9)\" d=\"M 125.562368 30.542946  L 135.666307 30.542946  L 135.666307 30.542946  L 125.562368 30.542946  z \" style=\"fill:#fefebb;stroke:#444443;stroke-linejoin:miter;stroke-width:0.5;\" />\n   </g>\n   <g id=\"patch_15\">\n    <path clip-path=\"url(#p03caf292e9)\" d=\"M 135.666307 30.542946  L 145.770246 30.542946  L 145.770246 30.542946  L 135.666307 30.542946  z \" style=\"fill:#fefebb;stroke:#444443;stroke-linejoin:miter;stroke-width:0.5;\" />\n   </g>\n   <g id=\"patch_16\">\n    <path clip-path=\"url(#p03caf292e9)\" d=\"M 145.770246 30.542946  L 155.874184 30.542946  L 155.874184 30.542946  L 145.770246 30.542946  z \" style=\"fill:#fefebb;stroke:#444443;stroke-linejoin:miter;stroke-width:0.5;\" />\n   </g>\n   <g id=\"patch_17\">\n    <path clip-path=\"url(#p03caf292e9)\" d=\"M 155.874184 30.542946  L 165.978123 30.542946  L 165.978123 30.542946  L 155.874184 30.542946  z \" style=\"fill:#fefebb;stroke:#444443;stroke-linejoin:miter;stroke-width:0.5;\" />\n   </g>\n   <g id=\"patch_18\">\n    <path clip-path=\"url(#p03caf292e9)\" d=\"M 165.978123 30.542946  L 176.082061 30.542946  L 176.082061 30.542946  L 165.978123 30.542946  z \" style=\"fill:#fefebb;stroke:#444443;stroke-linejoin:miter;stroke-width:0.5;\" />\n   </g>\n   <g id=\"patch_19\">\n    <path clip-path=\"url(#p03caf292e9)\" d=\"M 176.082061 30.542946  L 186.186 30.542946  L 186.186 30.542946  L 176.082061 30.542946  z \" style=\"fill:#fefebb;stroke:#444443;stroke-linejoin:miter;stroke-width:0.5;\" />\n   </g>\n   <g id=\"patch_20\">\n    <path clip-path=\"url(#p03caf292e9)\" d=\"M 14.419043 30.542946  L 24.522982 30.542946  L 24.522982 30.542946  L 14.419043 30.542946  z \" style=\"fill:#d9e6f5;stroke:#444443;stroke-linejoin:miter;stroke-width:0.5;\" />\n   </g>\n   <g id=\"patch_21\">\n    <path clip-path=\"url(#p03caf292e9)\" d=\"M 24.522982 30.542946  L 34.626921 30.542946  L 34.626921 30.542946  L 24.522982 30.542946  z \" style=\"fill:#d9e6f5;stroke:#444443;stroke-linejoin:miter;stroke-width:0.5;\" />\n   </g>\n   <g id=\"patch_22\">\n    <path clip-path=\"url(#p03caf292e9)\" d=\"M 34.626921 30.542946  L 44.730859 30.542946  L 44.730859 30.542946  L 34.626921 30.542946  z \" style=\"fill:#d9e6f5;stroke:#444443;stroke-linejoin:miter;stroke-width:0.5;\" />\n   </g>\n   <g id=\"patch_23\">\n    <path clip-path=\"url(#p03caf292e9)\" d=\"M 44.730859 30.542946  L 54.834798 30.542946  L 54.834798 30.542946  L 44.730859 30.542946  z \" style=\"fill:#d9e6f5;stroke:#444443;stroke-linejoin:miter;stroke-width:0.5;\" />\n   </g>\n   <g id=\"patch_24\">\n    <path clip-path=\"url(#p03caf292e9)\" d=\"M 54.834798 30.542946  L 64.938737 30.542946  L 64.938737 30.542946  L 54.834798 30.542946  z \" style=\"fill:#d9e6f5;stroke:#444443;stroke-linejoin:miter;stroke-width:0.5;\" />\n   </g>\n   <g id=\"patch_25\">\n    <path clip-path=\"url(#p03caf292e9)\" d=\"M 64.938737 30.542946  L 75.042675 30.542946  L 75.042675 30.542946  L 64.938737 30.542946  z \" style=\"fill:#d9e6f5;stroke:#444443;stroke-linejoin:miter;stroke-width:0.5;\" />\n   </g>\n   <g id=\"patch_26\">\n    <path clip-path=\"url(#p03caf292e9)\" d=\"M 75.042675 30.542946  L 85.146614 30.542946  L 85.146614 30.542946  L 75.042675 30.542946  z \" style=\"fill:#d9e6f5;stroke:#444443;stroke-linejoin:miter;stroke-width:0.5;\" />\n   </g>\n   <g id=\"patch_27\">\n    <path clip-path=\"url(#p03caf292e9)\" d=\"M 85.146614 30.542946  L 95.250552 30.542946  L 95.250552 30.542946  L 85.146614 30.542946  z \" style=\"fill:#d9e6f5;stroke:#444443;stroke-linejoin:miter;stroke-width:0.5;\" />\n   </g>\n   <g id=\"patch_28\">\n    <path clip-path=\"url(#p03caf292e9)\" d=\"M 95.250552 30.542946  L 105.354491 30.542946  L 105.354491 30.542946  L 95.250552 30.542946  z \" style=\"fill:#d9e6f5;stroke:#444443;stroke-linejoin:miter;stroke-width:0.5;\" />\n   </g>\n   <g id=\"patch_29\">\n    <path clip-path=\"url(#p03caf292e9)\" d=\"M 105.354491 30.542946  L 115.45843 30.542946  L 115.45843 30.542946  L 105.354491 30.542946  z \" style=\"fill:#d9e6f5;stroke:#444443;stroke-linejoin:miter;stroke-width:0.5;\" />\n   </g>\n   <g id=\"patch_30\">\n    <path clip-path=\"url(#p03caf292e9)\" d=\"M 115.45843 30.542946  L 125.562368 30.542946  L 125.562368 30.542946  L 115.45843 30.542946  z \" style=\"fill:#d9e6f5;stroke:#444443;stroke-linejoin:miter;stroke-width:0.5;\" />\n   </g>\n   <g id=\"patch_31\">\n    <path clip-path=\"url(#p03caf292e9)\" d=\"M 125.562368 30.542946  L 135.666307 30.542946  L 135.666307 3.039375  L 125.562368 3.039375  z \" style=\"fill:#d9e6f5;stroke:#444443;stroke-linejoin:miter;stroke-width:0.5;\" />\n   </g>\n   <g id=\"patch_32\">\n    <path clip-path=\"url(#p03caf292e9)\" d=\"M 135.666307 30.542946  L 145.770246 30.542946  L 145.770246 30.542946  L 135.666307 30.542946  z \" style=\"fill:#d9e6f5;stroke:#444443;stroke-linejoin:miter;stroke-width:0.5;\" />\n   </g>\n   <g id=\"patch_33\">\n    <path clip-path=\"url(#p03caf292e9)\" d=\"M 145.770246 30.542946  L 155.874184 30.542946  L 155.874184 30.542946  L 145.770246 30.542946  z \" style=\"fill:#d9e6f5;stroke:#444443;stroke-linejoin:miter;stroke-width:0.5;\" />\n   </g>\n   <g id=\"patch_34\">\n    <path clip-path=\"url(#p03caf292e9)\" d=\"M 155.874184 30.542946  L 165.978123 30.542946  L 165.978123 30.542946  L 155.874184 30.542946  z \" style=\"fill:#d9e6f5;stroke:#444443;stroke-linejoin:miter;stroke-width:0.5;\" />\n   </g>\n   <g id=\"patch_35\">\n    <path clip-path=\"url(#p03caf292e9)\" d=\"M 165.978123 30.542946  L 176.082061 30.542946  L 176.082061 30.542946  L 165.978123 30.542946  z \" style=\"fill:#d9e6f5;stroke:#444443;stroke-linejoin:miter;stroke-width:0.5;\" />\n   </g>\n   <g id=\"patch_36\">\n    <path clip-path=\"url(#p03caf292e9)\" d=\"M 176.082061 30.542946  L 186.186 30.542946  L 186.186 30.542946  L 176.082061 30.542946  z \" style=\"fill:#d9e6f5;stroke:#444443;stroke-linejoin:miter;stroke-width:0.5;\" />\n   </g>\n   <g id=\"patch_37\">\n    <path clip-path=\"url(#p03caf292e9)\" d=\"M 14.419043 30.542946  L 24.522982 30.542946  L 24.522982 30.542946  L 14.419043 30.542946  z \" style=\"fill:#a1dab4;stroke:#444443;stroke-linejoin:miter;stroke-width:0.5;\" />\n   </g>\n   <g id=\"patch_38\">\n    <path clip-path=\"url(#p03caf292e9)\" d=\"M 24.522982 30.542946  L 34.626921 30.542946  L 34.626921 30.542946  L 24.522982 30.542946  z \" style=\"fill:#a1dab4;stroke:#444443;stroke-linejoin:miter;stroke-width:0.5;\" />\n   </g>\n   <g id=\"patch_39\">\n    <path clip-path=\"url(#p03caf292e9)\" d=\"M 34.626921 30.542946  L 44.730859 30.542946  L 44.730859 30.542946  L 34.626921 30.542946  z \" style=\"fill:#a1dab4;stroke:#444443;stroke-linejoin:miter;stroke-width:0.5;\" />\n   </g>\n   <g id=\"patch_40\">\n    <path clip-path=\"url(#p03caf292e9)\" d=\"M 44.730859 30.542946  L 54.834798 30.542946  L 54.834798 30.542946  L 44.730859 30.542946  z \" style=\"fill:#a1dab4;stroke:#444443;stroke-linejoin:miter;stroke-width:0.5;\" />\n   </g>\n   <g id=\"patch_41\">\n    <path clip-path=\"url(#p03caf292e9)\" d=\"M 54.834798 30.542946  L 64.938737 30.542946  L 64.938737 30.542946  L 54.834798 30.542946  z \" style=\"fill:#a1dab4;stroke:#444443;stroke-linejoin:miter;stroke-width:0.5;\" />\n   </g>\n   <g id=\"patch_42\">\n    <path clip-path=\"url(#p03caf292e9)\" d=\"M 64.938737 30.542946  L 75.042675 30.542946  L 75.042675 30.542946  L 64.938737 30.542946  z \" style=\"fill:#a1dab4;stroke:#444443;stroke-linejoin:miter;stroke-width:0.5;\" />\n   </g>\n   <g id=\"patch_43\">\n    <path clip-path=\"url(#p03caf292e9)\" d=\"M 75.042675 30.542946  L 85.146614 30.542946  L 85.146614 30.542946  L 75.042675 30.542946  z \" style=\"fill:#a1dab4;stroke:#444443;stroke-linejoin:miter;stroke-width:0.5;\" />\n   </g>\n   <g id=\"patch_44\">\n    <path clip-path=\"url(#p03caf292e9)\" d=\"M 85.146614 30.542946  L 95.250552 30.542946  L 95.250552 30.542946  L 85.146614 30.542946  z \" style=\"fill:#a1dab4;stroke:#444443;stroke-linejoin:miter;stroke-width:0.5;\" />\n   </g>\n   <g id=\"patch_45\">\n    <path clip-path=\"url(#p03caf292e9)\" d=\"M 95.250552 30.542946  L 105.354491 30.542946  L 105.354491 30.542946  L 95.250552 30.542946  z \" style=\"fill:#a1dab4;stroke:#444443;stroke-linejoin:miter;stroke-width:0.5;\" />\n   </g>\n   <g id=\"patch_46\">\n    <path clip-path=\"url(#p03caf292e9)\" d=\"M 105.354491 30.542946  L 115.45843 30.542946  L 115.45843 30.542946  L 105.354491 30.542946  z \" style=\"fill:#a1dab4;stroke:#444443;stroke-linejoin:miter;stroke-width:0.5;\" />\n   </g>\n   <g id=\"patch_47\">\n    <path clip-path=\"url(#p03caf292e9)\" d=\"M 115.45843 30.542946  L 125.562368 30.542946  L 125.562368 30.542946  L 115.45843 30.542946  z \" style=\"fill:#a1dab4;stroke:#444443;stroke-linejoin:miter;stroke-width:0.5;\" />\n   </g>\n   <g id=\"patch_48\">\n    <path clip-path=\"url(#p03caf292e9)\" d=\"M 125.562368 3.039375  L 135.666307 3.039375  L 135.666307 3.039375  L 125.562368 3.039375  z \" style=\"fill:#a1dab4;stroke:#444443;stroke-linejoin:miter;stroke-width:0.5;\" />\n   </g>\n   <g id=\"patch_49\">\n    <path clip-path=\"url(#p03caf292e9)\" d=\"M 135.666307 30.542946  L 145.770246 30.542946  L 145.770246 30.542946  L 135.666307 30.542946  z \" style=\"fill:#a1dab4;stroke:#444443;stroke-linejoin:miter;stroke-width:0.5;\" />\n   </g>\n   <g id=\"patch_50\">\n    <path clip-path=\"url(#p03caf292e9)\" d=\"M 145.770246 30.542946  L 155.874184 30.542946  L 155.874184 16.791161  L 145.770246 16.791161  z \" style=\"fill:#a1dab4;stroke:#444443;stroke-linejoin:miter;stroke-width:0.5;\" />\n   </g>\n   <g id=\"patch_51\">\n    <path clip-path=\"url(#p03caf292e9)\" d=\"M 155.874184 30.542946  L 165.978123 30.542946  L 165.978123 30.542946  L 155.874184 30.542946  z \" style=\"fill:#a1dab4;stroke:#444443;stroke-linejoin:miter;stroke-width:0.5;\" />\n   </g>\n   <g id=\"patch_52\">\n    <path clip-path=\"url(#p03caf292e9)\" d=\"M 165.978123 30.542946  L 176.082061 30.542946  L 176.082061 30.542946  L 165.978123 30.542946  z \" style=\"fill:#a1dab4;stroke:#444443;stroke-linejoin:miter;stroke-width:0.5;\" />\n   </g>\n   <g id=\"patch_53\">\n    <path clip-path=\"url(#p03caf292e9)\" d=\"M 176.082061 30.542946  L 186.186 30.542946  L 186.186 30.542946  L 176.082061 30.542946  z \" style=\"fill:#a1dab4;stroke:#444443;stroke-linejoin:miter;stroke-width:0.5;\" />\n   </g>\n   <g id=\"patch_54\">\n    <path d=\"M 143.972088 31.358346  L 140.657568 38.696946  L 147.286608 38.696946  z \" style=\"fill:#444443;\" />\n   </g>\n   <g id=\"matplotlib.axis_1\">\n    <g id=\"xtick_1\">\n     <g id=\"line2d_1\">\n      <defs>\n       <path d=\"M 0 0  L 0 3.5  \" id=\"m674016cd94\" style=\"stroke:#000000;stroke-width:0.3;\" />\n      </defs>\n      <g>\n       <use style=\"stroke:#000000;stroke-width:0.3;\" x=\"14.419043\" xlink:href=\"#m674016cd94\" y=\"30.542946\" />\n      </g>\n     </g>\n     <g id=\"text_1\">\n      \n      <g style=\"fill:#444443;\" transform=\"translate(8.057793 43.621696)scale(0.08 -0.08)\">\n       <defs>\n        <path d=\"M 794 531  L 1825 531  L 1825 4091  L 703 3866  L 703 4441  L 1819 4666  L 2450 4666  L 2450 531  L 3481 531  L 3481 0  L 794 0  L 794 531  z \" id=\"DejaVuSans-31\" transform=\"scale(0.015625)\" />\n        <path d=\"M 684 794  L 1344 794  L 1344 0  L 684 0  L 684 794  z \" id=\"DejaVuSans-2e\" transform=\"scale(0.015625)\" />\n        <path d=\"M 2034 4250  Q 1547 4250 1301 3770  Q 1056 3291 1056 2328  Q 1056 1369 1301 889  Q 1547 409 2034 409  Q 2525 409 2770 889  Q 3016 1369 3016 2328  Q 3016 3291 2770 3770  Q 2525 4250 2034 4250  z M 2034 4750  Q 2819 4750 3233 4129  Q 3647 3509 3647 2328  Q 3647 1150 3233 529  Q 2819 -91 2034 -91  Q 1250 -91 836 529  Q 422 1150 422 2328  Q 422 3509 836 4129  Q 1250 4750 2034 4750  z \" id=\"DejaVuSans-30\" transform=\"scale(0.015625)\" />\n       </defs>\n       <use xlink:href=\"#DejaVuSans-31\" />\n       <use x=\"63.623047\" xlink:href=\"#DejaVuSans-2e\" />\n       <use x=\"95.410156\" xlink:href=\"#DejaVuSans-30\" />\n      </g>\n     </g>\n    </g>\n    <g id=\"xtick_2\">\n     <g id=\"line2d_2\">\n      <g>\n       <use style=\"stroke:#000000;stroke-width:0.3;\" x=\"186.186\" xlink:href=\"#m674016cd94\" y=\"30.542946\" />\n      </g>\n     </g>\n     <g id=\"text_2\">\n      \n      <g style=\"fill:#444443;\" transform=\"translate(179.82475 43.621696)scale(0.08 -0.08)\">\n       <defs>\n        <path d=\"M 2113 2584  Q 1688 2584 1439 2293  Q 1191 2003 1191 1497  Q 1191 994 1439 701  Q 1688 409 2113 409  Q 2538 409 2786 701  Q 3034 994 3034 1497  Q 3034 2003 2786 2293  Q 2538 2584 2113 2584  z M 3366 4563  L 3366 3988  Q 3128 4100 2886 4159  Q 2644 4219 2406 4219  Q 1781 4219 1451 3797  Q 1122 3375 1075 2522  Q 1259 2794 1537 2939  Q 1816 3084 2150 3084  Q 2853 3084 3261 2657  Q 3669 2231 3669 1497  Q 3669 778 3244 343  Q 2819 -91 2113 -91  Q 1303 -91 875 529  Q 447 1150 447 2328  Q 447 3434 972 4092  Q 1497 4750 2381 4750  Q 2619 4750 2861 4703  Q 3103 4656 3366 4563  z \" id=\"DejaVuSans-36\" transform=\"scale(0.015625)\" />\n        <path d=\"M 703 97  L 703 672  Q 941 559 1184 500  Q 1428 441 1663 441  Q 2288 441 2617 861  Q 2947 1281 2994 2138  Q 2813 1869 2534 1725  Q 2256 1581 1919 1581  Q 1219 1581 811 2004  Q 403 2428 403 3163  Q 403 3881 828 4315  Q 1253 4750 1959 4750  Q 2769 4750 3195 4129  Q 3622 3509 3622 2328  Q 3622 1225 3098 567  Q 2575 -91 1691 -91  Q 1453 -91 1209 -44  Q 966 3 703 97  z M 1959 2075  Q 2384 2075 2632 2365  Q 2881 2656 2881 3163  Q 2881 3666 2632 3958  Q 2384 4250 1959 4250  Q 1534 4250 1286 3958  Q 1038 3666 1038 3163  Q 1038 2656 1286 2365  Q 1534 2075 1959 2075  z \" id=\"DejaVuSans-39\" transform=\"scale(0.015625)\" />\n       </defs>\n       <use xlink:href=\"#DejaVuSans-36\" />\n       <use x=\"63.623047\" xlink:href=\"#DejaVuSans-2e\" />\n       <use x=\"95.410156\" xlink:href=\"#DejaVuSans-39\" />\n      </g>\n     </g>\n    </g>\n    <g id=\"text_3\">\n     \n     <g style=\"fill:#444443;\" transform=\"translate(59.476875 58.021071)scale(0.12 -0.12)\">\n      <defs>\n       <path d=\"M 422 -1272  L 422 3319  L 934 3319  L 934 2888  Q 1116 3141 1344 3267  Q 1572 3394 1897 3394  Q 2322 3394 2647 3175  Q 2972 2956 3137 2557  Q 3303 2159 3303 1684  Q 3303 1175 3120 767  Q 2938 359 2589 142  Q 2241 -75 1856 -75  Q 1575 -75 1351 44  Q 1128 163 984 344  L 984 -1272  L 422 -1272  z M 931 1641  Q 931 1000 1190 694  Q 1450 388 1819 388  Q 2194 388 2461 705  Q 2728 1022 2728 1688  Q 2728 2322 2467 2637  Q 2206 2953 1844 2953  Q 1484 2953 1207 2617  Q 931 2281 931 1641  z \" id=\"ArialMT-70\" transform=\"scale(0.015625)\" />\n       <path d=\"M 2694 1069  L 3275 997  Q 3138 488 2766 206  Q 2394 -75 1816 -75  Q 1088 -75 661 373  Q 234 822 234 1631  Q 234 2469 665 2931  Q 1097 3394 1784 3394  Q 2450 3394 2872 2941  Q 3294 2488 3294 1666  Q 3294 1616 3291 1516  L 816 1516  Q 847 969 1125 678  Q 1403 388 1819 388  Q 2128 388 2347 550  Q 2566 713 2694 1069  z M 847 1978  L 2700 1978  Q 2663 2397 2488 2606  Q 2219 2931 1791 2931  Q 1403 2931 1139 2672  Q 875 2413 847 1978  z \" id=\"ArialMT-65\" transform=\"scale(0.015625)\" />\n       <path d=\"M 1650 503  L 1731 6  Q 1494 -44 1306 -44  Q 1000 -44 831 53  Q 663 150 594 308  Q 525 466 525 972  L 525 2881  L 113 2881  L 113 3319  L 525 3319  L 525 4141  L 1084 4478  L 1084 3319  L 1650 3319  L 1650 2881  L 1084 2881  L 1084 941  Q 1084 700 1114 631  Q 1144 563 1211 522  Q 1278 481 1403 481  Q 1497 481 1650 503  z \" id=\"ArialMT-74\" transform=\"scale(0.015625)\" />\n       <path d=\"M 2588 409  Q 2275 144 1986 34  Q 1697 -75 1366 -75  Q 819 -75 525 192  Q 231 459 231 875  Q 231 1119 342 1320  Q 453 1522 633 1644  Q 813 1766 1038 1828  Q 1203 1872 1538 1913  Q 2219 1994 2541 2106  Q 2544 2222 2544 2253  Q 2544 2597 2384 2738  Q 2169 2928 1744 2928  Q 1347 2928 1158 2789  Q 969 2650 878 2297  L 328 2372  Q 403 2725 575 2942  Q 747 3159 1072 3276  Q 1397 3394 1825 3394  Q 2250 3394 2515 3294  Q 2781 3194 2906 3042  Q 3031 2891 3081 2659  Q 3109 2516 3109 2141  L 3109 1391  Q 3109 606 3145 398  Q 3181 191 3288 0  L 2700 0  Q 2613 175 2588 409  z M 2541 1666  Q 2234 1541 1622 1453  Q 1275 1403 1131 1340  Q 988 1278 909 1158  Q 831 1038 831 891  Q 831 666 1001 516  Q 1172 366 1500 366  Q 1825 366 2078 508  Q 2331 650 2450 897  Q 2541 1088 2541 1459  L 2541 1666  z \" id=\"ArialMT-61\" transform=\"scale(0.015625)\" />\n       <path d=\"M 409 0  L 409 4581  L 972 4581  L 972 0  L 409 0  z \" id=\"ArialMT-6c\" transform=\"scale(0.015625)\" />\n       <path id=\"ArialMT-20\" transform=\"scale(0.015625)\" />\n       <path d=\"M 422 0  L 422 3319  L 928 3319  L 928 2847  Q 1294 3394 1984 3394  Q 2284 3394 2536 3286  Q 2788 3178 2913 3003  Q 3038 2828 3088 2588  Q 3119 2431 3119 2041  L 3119 0  L 2556 0  L 2556 2019  Q 2556 2363 2490 2533  Q 2425 2703 2258 2804  Q 2091 2906 1866 2906  Q 1506 2906 1245 2678  Q 984 2450 984 1813  L 984 0  L 422 0  z \" id=\"ArialMT-6e\" transform=\"scale(0.015625)\" />\n       <path d=\"M 319 -275  L 866 -356  Q 900 -609 1056 -725  Q 1266 -881 1628 -881  Q 2019 -881 2231 -725  Q 2444 -569 2519 -288  Q 2563 -116 2559 434  Q 2191 0 1641 0  Q 956 0 581 494  Q 206 988 206 1678  Q 206 2153 378 2554  Q 550 2956 876 3175  Q 1203 3394 1644 3394  Q 2231 3394 2613 2919  L 2613 3319  L 3131 3319  L 3131 450  Q 3131 -325 2973 -648  Q 2816 -972 2473 -1159  Q 2131 -1347 1631 -1347  Q 1038 -1347 672 -1080  Q 306 -813 319 -275  z M 784 1719  Q 784 1066 1043 766  Q 1303 466 1694 466  Q 2081 466 2343 764  Q 2606 1063 2606 1700  Q 2606 2309 2336 2618  Q 2066 2928 1684 2928  Q 1309 2928 1046 2623  Q 784 2319 784 1719  z \" id=\"ArialMT-67\" transform=\"scale(0.015625)\" />\n       <path d=\"M 422 0  L 422 4581  L 984 4581  L 984 2938  Q 1378 3394 1978 3394  Q 2347 3394 2619 3248  Q 2891 3103 3008 2847  Q 3125 2591 3125 2103  L 3125 0  L 2563 0  L 2563 2103  Q 2563 2525 2380 2717  Q 2197 2909 1863 2909  Q 1613 2909 1392 2779  Q 1172 2650 1078 2428  Q 984 2206 984 1816  L 984 0  L 422 0  z \" id=\"ArialMT-68\" transform=\"scale(0.015625)\" />\n       <path d=\"M 1497 -1347  Q 1031 -759 709 28  Q 388 816 388 1659  Q 388 2403 628 3084  Q 909 3875 1497 4659  L 1900 4659  Q 1522 4009 1400 3731  Q 1209 3300 1100 2831  Q 966 2247 966 1656  Q 966 153 1900 -1347  L 1497 -1347  z \" id=\"ArialMT-28\" transform=\"scale(0.015625)\" />\n       <path d=\"M 2588 1216  L 3141 1144  Q 3050 572 2676 248  Q 2303 -75 1759 -75  Q 1078 -75 664 370  Q 250 816 250 1647  Q 250 2184 428 2587  Q 606 2991 970 3192  Q 1334 3394 1763 3394  Q 2303 3394 2647 3120  Q 2991 2847 3088 2344  L 2541 2259  Q 2463 2594 2264 2762  Q 2066 2931 1784 2931  Q 1359 2931 1093 2626  Q 828 2322 828 1663  Q 828 994 1084 691  Q 1341 388 1753 388  Q 2084 388 2306 591  Q 2528 794 2588 1216  z \" id=\"ArialMT-63\" transform=\"scale(0.015625)\" />\n       <path d=\"M 422 0  L 422 3319  L 925 3319  L 925 2853  Q 1081 3097 1340 3245  Q 1600 3394 1931 3394  Q 2300 3394 2536 3241  Q 2772 3088 2869 2813  Q 3263 3394 3894 3394  Q 4388 3394 4653 3120  Q 4919 2847 4919 2278  L 4919 0  L 4359 0  L 4359 2091  Q 4359 2428 4304 2576  Q 4250 2725 4106 2815  Q 3963 2906 3769 2906  Q 3419 2906 3187 2673  Q 2956 2441 2956 1928  L 2956 0  L 2394 0  L 2394 2156  Q 2394 2531 2256 2718  Q 2119 2906 1806 2906  Q 1569 2906 1367 2781  Q 1166 2656 1075 2415  Q 984 2175 984 1722  L 984 0  L 422 0  z \" id=\"ArialMT-6d\" transform=\"scale(0.015625)\" />\n       <path d=\"M 791 -1347  L 388 -1347  Q 1322 153 1322 1656  Q 1322 2244 1188 2822  Q 1081 3291 891 3722  Q 769 4003 388 4659  L 791 4659  Q 1378 3875 1659 3084  Q 1900 2403 1900 1659  Q 1900 816 1576 28  Q 1253 -759 791 -1347  z \" id=\"ArialMT-29\" transform=\"scale(0.015625)\" />\n      </defs>\n      <use xlink:href=\"#ArialMT-70\" />\n      <use x=\"55.615234\" xlink:href=\"#ArialMT-65\" />\n      <use x=\"111.230469\" xlink:href=\"#ArialMT-74\" />\n      <use x=\"139.013672\" xlink:href=\"#ArialMT-61\" />\n      <use x=\"194.628906\" xlink:href=\"#ArialMT-6c\" />\n      <use x=\"216.845703\" xlink:href=\"#ArialMT-20\" />\n      <use x=\"244.628906\" xlink:href=\"#ArialMT-6c\" />\n      <use x=\"266.845703\" xlink:href=\"#ArialMT-65\" />\n      <use x=\"322.460938\" xlink:href=\"#ArialMT-6e\" />\n      <use x=\"378.076172\" xlink:href=\"#ArialMT-67\" />\n      <use x=\"433.691406\" xlink:href=\"#ArialMT-74\" />\n      <use x=\"461.474609\" xlink:href=\"#ArialMT-68\" />\n      <use x=\"517.089844\" xlink:href=\"#ArialMT-20\" />\n      <use x=\"544.873047\" xlink:href=\"#ArialMT-28\" />\n      <use x=\"578.173828\" xlink:href=\"#ArialMT-63\" />\n      <use x=\"628.173828\" xlink:href=\"#ArialMT-6d\" />\n      <use x=\"711.474609\" xlink:href=\"#ArialMT-29\" />\n     </g>\n    </g>\n   </g>\n   <g id=\"matplotlib.axis_2\">\n    <g id=\"ytick_1\">\n     <g id=\"line2d_3\">\n      <defs>\n       <path d=\"M 0 0  L -3.5 0  \" id=\"m7bc2d3ad64\" style=\"stroke:#000000;stroke-width:0.3;\" />\n      </defs>\n      <g>\n       <use style=\"stroke:#000000;stroke-width:0.3;\" x=\"12.09\" xlink:href=\"#m7bc2d3ad64\" y=\"30.542946\" />\n      </g>\n     </g>\n     <g id=\"text_4\">\n      \n      <g style=\"fill:#444443;\" transform=\"translate(0 33.582321)scale(0.08 -0.08)\">\n       <use xlink:href=\"#DejaVuSans-30\" />\n      </g>\n     </g>\n    </g>\n    <g id=\"ytick_2\">\n     <g id=\"line2d_4\">\n      <g>\n       <use style=\"stroke:#000000;stroke-width:0.3;\" x=\"12.09\" xlink:href=\"#m7bc2d3ad64\" y=\"3.039375\" />\n      </g>\n     </g>\n     <g id=\"text_5\">\n      \n      <g style=\"fill:#444443;\" transform=\"translate(0 6.07875)scale(0.08 -0.08)\">\n       <defs>\n        <path d=\"M 1228 531  L 3431 531  L 3431 0  L 469 0  L 469 531  Q 828 903 1448 1529  Q 2069 2156 2228 2338  Q 2531 2678 2651 2914  Q 2772 3150 2772 3378  Q 2772 3750 2511 3984  Q 2250 4219 1831 4219  Q 1534 4219 1204 4116  Q 875 4013 500 3803  L 500 4441  Q 881 4594 1212 4672  Q 1544 4750 1819 4750  Q 2544 4750 2975 4387  Q 3406 4025 3406 3419  Q 3406 3131 3298 2873  Q 3191 2616 2906 2266  Q 2828 2175 2409 1742  Q 1991 1309 1228 531  z \" id=\"DejaVuSans-32\" transform=\"scale(0.015625)\" />\n       </defs>\n       <use xlink:href=\"#DejaVuSans-32\" />\n      </g>\n     </g>\n    </g>\n   </g>\n   <g id=\"patch_55\">\n    <path d=\"M 12.09 30.542946  L 12.09 1.664196  \" style=\"fill:none;stroke:#000000;stroke-linecap:square;stroke-linejoin:miter;stroke-width:0.3;\" />\n   </g>\n   <g id=\"patch_56\">\n    <path d=\"M 12.09 30.542946  L 196.23 30.542946  \" style=\"fill:none;stroke:#000000;stroke-linecap:square;stroke-linejoin:miter;stroke-width:0.3;\" />\n   </g>\n   <g id=\"text_6\">\n    \n    <g style=\"fill:#444443;\" transform=\"translate(136.187713 46.850946)scale(0.08 -0.08)\">\n     <defs>\n      <path d=\"M 266 1200  L 856 1250  Q 922 819 1161 601  Q 1400 384 1738 384  Q 2144 384 2425 690  Q 2706 997 2706 1503  Q 2706 1984 2436 2262  Q 2166 2541 1728 2541  Q 1456 2541 1237 2417  Q 1019 2294 894 2097  L 366 2166  L 809 4519  L 3088 4519  L 3088 3981  L 1259 3981  L 1013 2750  Q 1425 3038 1878 3038  Q 2478 3038 2890 2622  Q 3303 2206 3303 1553  Q 3303 931 2941 478  Q 2500 -78 1738 -78  Q 1113 -78 717 272  Q 322 622 266 1200  z \" id=\"ArialMT-35\" transform=\"scale(0.015625)\" />\n      <path d=\"M 581 0  L 581 641  L 1222 641  L 1222 0  L 581 0  z \" id=\"ArialMT-2e\" transform=\"scale(0.015625)\" />\n      <path d=\"M 2069 0  L 2069 1097  L 81 1097  L 81 1613  L 2172 4581  L 2631 4581  L 2631 1613  L 3250 1613  L 3250 1097  L 2631 1097  L 2631 0  L 2069 0  z M 2069 1613  L 2069 3678  L 634 1613  L 2069 1613  z \" id=\"ArialMT-34\" transform=\"scale(0.015625)\" />\n     </defs>\n     <use xlink:href=\"#ArialMT-35\" />\n     <use x=\"55.615234\" xlink:href=\"#ArialMT-2e\" />\n     <use x=\"83.398438\" xlink:href=\"#ArialMT-34\" />\n     <use x=\"139.013672\" xlink:href=\"#ArialMT-35\" />\n    </g>\n   </g>\n  </g>\n </g>\n <defs>\n  <clipPath id=\"p03caf292e9\">\n   <rect height=\"28.87875\" width=\"184.14\" x=\"12.09\" y=\"1.664196\" />\n  </clipPath>\n </defs>\n</svg></g>\n\n<g id=\"node12\" class=\"node\">\n<title>leaf12</title>\n<polygon fill=\"none\" stroke=\"#444443\" stroke-width=\"0\" points=\"245,-30 208,-30 208,0 245,0 245,-30\" />\n<svg height=\"22px\" version=\"1.1\" viewBox=\"0 0 38.507344 29.685009\" width=\"29px\" preserveAspectRatio=\"xMinYMin meet\" x=\"212.5\" y=\"-26\">\n <metadata>\n  <rdf:RDF>\n   <ns2:Work>\n    <dc:type rdf:resource=\"http://purl.org/dc/dcmitype/StillImage\" />\n    <dc:date>2021-10-04T20:58:02.629472</dc:date>\n    <dc:format>image/svg+xml</dc:format>\n    <dc:creator>\n     <ns2:Agent>\n      <dc:title>Matplotlib v3.4.3, https://matplotlib.org/</dc:title>\n     </ns2:Agent>\n    </dc:creator>\n   </ns2:Work>\n  </rdf:RDF>\n </metadata>\n <defs>\n  <style type=\"text/css\">*{stroke-linecap:butt;stroke-linejoin:round;}</style>\n </defs>\n <g id=\"figure_1\">\n  <g id=\"patch_1\">\n   <path d=\"M 0 29.685009  L 38.507344 29.685009  L 38.507344 0  L 0 0  z \" style=\"fill:none;\" />\n  </g>\n  <g id=\"axes_1\">\n   <g id=\"patch_2\">\n    <path d=\"M 24.991672 5.738  C 24.991672 4.984493 24.843247 4.238312 24.554893 3.542162  C 24.266538 2.846013 23.843861 2.213431 23.311051 1.680621  C 22.77824 1.147811 22.145659 0.725134 21.449509 0.436779  C 20.753359 0.148424 20.007179 -0 19.253672 -0  C 18.500165 -0 17.753984 0.148424 17.057834 0.436779  C 16.361684 0.725134 15.729103 1.147811 15.196293 1.680621  C 14.663483 2.213431 14.240806 2.846013 13.952451 3.542162  C 13.664096 4.238312 13.515672 4.984493 13.515672 5.738  C 13.515672 6.491507 13.664096 7.237688 13.952451 7.933838  C 14.240806 8.629987 14.663483 9.262569 15.196293 9.795379  C 15.729103 10.328189 16.361684 10.750866 17.057834 11.039221  C 17.753984 11.327576 18.500165 11.476 19.253672 11.476  C 20.007179 11.476 20.753359 11.327576 21.449509 11.039221  C 22.145659 10.750866 22.77824 10.328189 23.311051 9.795379  C 23.843861 9.262569 24.266538 8.629987 24.554893 7.933838  C 24.843247 7.237688 24.991672 6.491507 24.991672 5.738  M 19.253672 5.738  M 24.991672 5.738  z \" style=\"fill:#d9e6f5;stroke:#444443;stroke-linejoin:miter;stroke-width:0.5;\" />\n   </g>\n   <g id=\"text_1\">\n    \n    <g style=\"fill:#444443;\" transform=\"translate(11.620547 18.377071)scale(0.09 -0.09)\">\n     <defs>\n      <path d=\"M 422 0  L 422 3319  L 928 3319  L 928 2847  Q 1294 3394 1984 3394  Q 2284 3394 2536 3286  Q 2788 3178 2913 3003  Q 3038 2828 3088 2588  Q 3119 2431 3119 2041  L 3119 0  L 2556 0  L 2556 2019  Q 2556 2363 2490 2533  Q 2425 2703 2258 2804  Q 2091 2906 1866 2906  Q 1506 2906 1245 2678  Q 984 2450 984 1813  L 984 0  L 422 0  z \" id=\"ArialMT-6e\" transform=\"scale(0.015625)\" />\n      <path d=\"M 3381 2694  L 356 2694  L 356 3219  L 3381 3219  L 3381 2694  z M 3381 1303  L 356 1303  L 356 1828  L 3381 1828  L 3381 1303  z \" id=\"ArialMT-3d\" transform=\"scale(0.015625)\" />\n      <path d=\"M 3222 541  L 3222 0  L 194 0  Q 188 203 259 391  Q 375 700 629 1000  Q 884 1300 1366 1694  Q 2113 2306 2375 2664  Q 2638 3022 2638 3341  Q 2638 3675 2398 3904  Q 2159 4134 1775 4134  Q 1369 4134 1125 3890  Q 881 3647 878 3216  L 300 3275  Q 359 3922 746 4261  Q 1134 4600 1788 4600  Q 2447 4600 2831 4234  Q 3216 3869 3216 3328  Q 3216 3053 3103 2787  Q 2991 2522 2730 2228  Q 2469 1934 1863 1422  Q 1356 997 1212 845  Q 1069 694 975 541  L 3222 541  z \" id=\"ArialMT-32\" transform=\"scale(0.015625)\" />\n     </defs>\n     <use xlink:href=\"#ArialMT-6e\" />\n     <use x=\"55.615234\" xlink:href=\"#ArialMT-3d\" />\n     <use x=\"114.013672\" xlink:href=\"#ArialMT-32\" />\n    </g>\n    \n    <g style=\"fill:#444443;\" transform=\"translate(-0 27.896259)scale(0.09 -0.09)\">\n     <defs>\n      <path d=\"M 1344 0  L 81 3319  L 675 3319  L 1388 1331  Q 1503 1009 1600 663  Q 1675 925 1809 1294  L 2547 3319  L 3125 3319  L 1869 0  L 1344 0  z \" id=\"ArialMT-76\" transform=\"scale(0.015625)\" />\n      <path d=\"M 2694 1069  L 3275 997  Q 3138 488 2766 206  Q 2394 -75 1816 -75  Q 1088 -75 661 373  Q 234 822 234 1631  Q 234 2469 665 2931  Q 1097 3394 1784 3394  Q 2450 3394 2872 2941  Q 3294 2488 3294 1666  Q 3294 1616 3291 1516  L 816 1516  Q 847 969 1125 678  Q 1403 388 1819 388  Q 2128 388 2347 550  Q 2566 713 2694 1069  z M 847 1978  L 2700 1978  Q 2663 2397 2488 2606  Q 2219 2931 1791 2931  Q 1403 2931 1139 2672  Q 875 2413 847 1978  z \" id=\"ArialMT-65\" transform=\"scale(0.015625)\" />\n      <path d=\"M 416 0  L 416 3319  L 922 3319  L 922 2816  Q 1116 3169 1280 3281  Q 1444 3394 1641 3394  Q 1925 3394 2219 3213  L 2025 2691  Q 1819 2813 1613 2813  Q 1428 2813 1281 2702  Q 1134 2591 1072 2394  Q 978 2094 978 1738  L 978 0  L 416 0  z \" id=\"ArialMT-72\" transform=\"scale(0.015625)\" />\n      <path d=\"M 197 991  L 753 1078  Q 800 744 1014 566  Q 1228 388 1613 388  Q 2000 388 2187 545  Q 2375 703 2375 916  Q 2375 1106 2209 1216  Q 2094 1291 1634 1406  Q 1016 1563 777 1677  Q 538 1791 414 1992  Q 291 2194 291 2438  Q 291 2659 392 2848  Q 494 3038 669 3163  Q 800 3259 1026 3326  Q 1253 3394 1513 3394  Q 1903 3394 2198 3281  Q 2494 3169 2634 2976  Q 2775 2784 2828 2463  L 2278 2388  Q 2241 2644 2061 2787  Q 1881 2931 1553 2931  Q 1166 2931 1000 2803  Q 834 2675 834 2503  Q 834 2394 903 2306  Q 972 2216 1119 2156  Q 1203 2125 1616 2013  Q 2213 1853 2448 1751  Q 2684 1650 2818 1456  Q 2953 1263 2953 975  Q 2953 694 2789 445  Q 2625 197 2315 61  Q 2006 -75 1616 -75  Q 969 -75 630 194  Q 291 463 197 991  z \" id=\"ArialMT-73\" transform=\"scale(0.015625)\" />\n      <path d=\"M 425 3934  L 425 4581  L 988 4581  L 988 3934  L 425 3934  z M 425 0  L 425 3319  L 988 3319  L 988 0  L 425 0  z \" id=\"ArialMT-69\" transform=\"scale(0.015625)\" />\n      <path d=\"M 2588 1216  L 3141 1144  Q 3050 572 2676 248  Q 2303 -75 1759 -75  Q 1078 -75 664 370  Q 250 816 250 1647  Q 250 2184 428 2587  Q 606 2991 970 3192  Q 1334 3394 1763 3394  Q 2303 3394 2647 3120  Q 2991 2847 3088 2344  L 2541 2259  Q 2463 2594 2264 2762  Q 2066 2931 1784 2931  Q 1359 2931 1093 2626  Q 828 2322 828 1663  Q 828 994 1084 691  Q 1341 388 1753 388  Q 2084 388 2306 591  Q 2528 794 2588 1216  z \" id=\"ArialMT-63\" transform=\"scale(0.015625)\" />\n      <path d=\"M 213 1659  Q 213 2581 725 3025  Q 1153 3394 1769 3394  Q 2453 3394 2887 2945  Q 3322 2497 3322 1706  Q 3322 1066 3130 698  Q 2938 331 2570 128  Q 2203 -75 1769 -75  Q 1072 -75 642 372  Q 213 819 213 1659  z M 791 1659  Q 791 1022 1069 705  Q 1347 388 1769 388  Q 2188 388 2466 706  Q 2744 1025 2744 1678  Q 2744 2294 2464 2611  Q 2184 2928 1769 2928  Q 1347 2928 1069 2612  Q 791 2297 791 1659  z \" id=\"ArialMT-6f\" transform=\"scale(0.015625)\" />\n      <path d=\"M 409 0  L 409 4581  L 972 4581  L 972 0  L 409 0  z \" id=\"ArialMT-6c\" transform=\"scale(0.015625)\" />\n     </defs>\n     <use xlink:href=\"#ArialMT-76\" />\n     <use x=\"50\" xlink:href=\"#ArialMT-65\" />\n     <use x=\"105.615234\" xlink:href=\"#ArialMT-72\" />\n     <use x=\"138.916016\" xlink:href=\"#ArialMT-73\" />\n     <use x=\"188.916016\" xlink:href=\"#ArialMT-69\" />\n     <use x=\"211.132812\" xlink:href=\"#ArialMT-63\" />\n     <use x=\"261.132812\" xlink:href=\"#ArialMT-6f\" />\n     <use x=\"316.748047\" xlink:href=\"#ArialMT-6c\" />\n     <use x=\"338.964844\" xlink:href=\"#ArialMT-6f\" />\n     <use x=\"394.580078\" xlink:href=\"#ArialMT-72\" />\n    </g>\n   </g>\n  </g>\n </g>\n</svg></g>\n\n<g id=\"edge4\" class=\"edge\">\n<title>node11-&gt;leaf12</title>\n<path fill=\"none\" stroke=\"#444443\" stroke-width=\"0.3\" d=\"M242.36,-46.89C240.11,-42.51 237.82,-38.05 235.7,-33.92\" />\n<polygon fill=\"#444443\" stroke=\"#444443\" stroke-width=\"0.3\" points=\"236.88,-33.16 233.81,-30.24 234.39,-34.44 236.88,-33.16\" />\n</g>\n\n<g id=\"node13\" class=\"node\">\n<title>leaf13</title>\n<polygon fill=\"none\" stroke=\"#444443\" stroke-width=\"0\" points=\"292,-29.5 259,-29.5 259,-0.5 292,-0.5 292,-29.5\" />\n<svg height=\"21px\" version=\"1.1\" viewBox=\"0 0 33.010312 28.534157\" width=\"25px\" preserveAspectRatio=\"xMinYMin meet\" x=\"263.5\" y=\"-25\">\n <metadata>\n  <rdf:RDF>\n   <ns2:Work>\n    <dc:type rdf:resource=\"http://purl.org/dc/dcmitype/StillImage\" />\n    <dc:date>2021-10-04T20:58:02.700475</dc:date>\n    <dc:format>image/svg+xml</dc:format>\n    <dc:creator>\n     <ns2:Agent>\n      <dc:title>Matplotlib v3.4.3, https://matplotlib.org/</dc:title>\n     </ns2:Agent>\n    </dc:creator>\n   </ns2:Work>\n  </rdf:RDF>\n </metadata>\n <defs>\n  <style type=\"text/css\">*{stroke-linecap:butt;stroke-linejoin:round;}</style>\n </defs>\n <g id=\"figure_1\">\n  <g id=\"patch_1\">\n   <path d=\"M 0 28.534157  L 33.010312 28.534157  L 33.010312 0  L 0 0  z \" style=\"fill:none;\" />\n  </g>\n  <g id=\"axes_1\">\n   <g id=\"patch_2\">\n    <path d=\"M 21.639156 5.134  C 21.639156 4.459809 21.506355 3.792174 21.248354 3.169303  C 20.990352 2.546432 20.612167 1.980439 20.135442 1.503714  C 19.658718 1.026989 19.092724 0.648804 18.469853 0.390802  C 17.846982 0.132801 17.179347 0 16.505156 0  C 15.830966 0 15.16333 0.132801 14.54046 0.390802  C 13.917589 0.648804 13.351595 1.026989 12.87487 1.503714  C 12.398145 1.980439 12.01996 2.546432 11.761959 3.169303  C 11.503957 3.792174 11.371156 4.459809 11.371156 5.134  C 11.371156 5.808191 11.503957 6.475826 11.761959 7.098697  C 12.01996 7.721568 12.398145 8.287561 12.87487 8.764286  C 13.351595 9.241011 13.917589 9.619196 14.54046 9.877198  C 15.16333 10.135199 15.830966 10.268 16.505156 10.268  C 17.179347 10.268 17.846982 10.135199 18.469853 9.877198  C 19.092724 9.619196 19.658718 9.241011 20.135442 8.764286  C 20.612167 8.287561 20.990352 7.721568 21.248354 7.098697  C 21.506355 6.475826 21.639156 5.808191 21.639156 5.134  M 16.505156 5.134  M 21.639156 5.134  z \" style=\"fill:#a1dab4;stroke:#444443;stroke-linejoin:miter;stroke-width:0.5;\" />\n   </g>\n   <g id=\"text_1\">\n    \n    <g style=\"fill:#444443;\" transform=\"translate(8.872031 17.120751)scale(0.09 -0.09)\">\n     <defs>\n      <path d=\"M 422 0  L 422 3319  L 928 3319  L 928 2847  Q 1294 3394 1984 3394  Q 2284 3394 2536 3286  Q 2788 3178 2913 3003  Q 3038 2828 3088 2588  Q 3119 2431 3119 2041  L 3119 0  L 2556 0  L 2556 2019  Q 2556 2363 2490 2533  Q 2425 2703 2258 2804  Q 2091 2906 1866 2906  Q 1506 2906 1245 2678  Q 984 2450 984 1813  L 984 0  L 422 0  z \" id=\"ArialMT-6e\" transform=\"scale(0.015625)\" />\n      <path d=\"M 3381 2694  L 356 2694  L 356 3219  L 3381 3219  L 3381 2694  z M 3381 1303  L 356 1303  L 356 1828  L 3381 1828  L 3381 1303  z \" id=\"ArialMT-3d\" transform=\"scale(0.015625)\" />\n      <path d=\"M 2384 0  L 1822 0  L 1822 3584  Q 1619 3391 1289 3197  Q 959 3003 697 2906  L 697 3450  Q 1169 3672 1522 3987  Q 1875 4303 2022 4600  L 2384 4600  L 2384 0  z \" id=\"ArialMT-31\" transform=\"scale(0.015625)\" />\n     </defs>\n     <use xlink:href=\"#ArialMT-6e\" />\n     <use x=\"55.615234\" xlink:href=\"#ArialMT-3d\" />\n     <use x=\"114.013672\" xlink:href=\"#ArialMT-31\" />\n    </g>\n    \n    <g style=\"fill:#444443;\" transform=\"translate(0 26.639939)scale(0.09 -0.09)\">\n     <defs>\n      <path d=\"M 1344 0  L 81 3319  L 675 3319  L 1388 1331  Q 1503 1009 1600 663  Q 1675 925 1809 1294  L 2547 3319  L 3125 3319  L 1869 0  L 1344 0  z \" id=\"ArialMT-76\" transform=\"scale(0.015625)\" />\n      <path d=\"M 425 3934  L 425 4581  L 988 4581  L 988 3934  L 425 3934  z M 425 0  L 425 3319  L 988 3319  L 988 0  L 425 0  z \" id=\"ArialMT-69\" transform=\"scale(0.015625)\" />\n      <path d=\"M 416 0  L 416 3319  L 922 3319  L 922 2816  Q 1116 3169 1280 3281  Q 1444 3394 1641 3394  Q 1925 3394 2219 3213  L 2025 2691  Q 1819 2813 1613 2813  Q 1428 2813 1281 2702  Q 1134 2591 1072 2394  Q 978 2094 978 1738  L 978 0  L 416 0  z \" id=\"ArialMT-72\" transform=\"scale(0.015625)\" />\n      <path d=\"M 319 -275  L 866 -356  Q 900 -609 1056 -725  Q 1266 -881 1628 -881  Q 2019 -881 2231 -725  Q 2444 -569 2519 -288  Q 2563 -116 2559 434  Q 2191 0 1641 0  Q 956 0 581 494  Q 206 988 206 1678  Q 206 2153 378 2554  Q 550 2956 876 3175  Q 1203 3394 1644 3394  Q 2231 3394 2613 2919  L 2613 3319  L 3131 3319  L 3131 450  Q 3131 -325 2973 -648  Q 2816 -972 2473 -1159  Q 2131 -1347 1631 -1347  Q 1038 -1347 672 -1080  Q 306 -813 319 -275  z M 784 1719  Q 784 1066 1043 766  Q 1303 466 1694 466  Q 2081 466 2343 764  Q 2606 1063 2606 1700  Q 2606 2309 2336 2618  Q 2066 2928 1684 2928  Q 1309 2928 1046 2623  Q 784 2319 784 1719  z \" id=\"ArialMT-67\" transform=\"scale(0.015625)\" />\n      <path d=\"M 2588 1216  L 3141 1144  Q 3050 572 2676 248  Q 2303 -75 1759 -75  Q 1078 -75 664 370  Q 250 816 250 1647  Q 250 2184 428 2587  Q 606 2991 970 3192  Q 1334 3394 1763 3394  Q 2303 3394 2647 3120  Q 2991 2847 3088 2344  L 2541 2259  Q 2463 2594 2264 2762  Q 2066 2931 1784 2931  Q 1359 2931 1093 2626  Q 828 2322 828 1663  Q 828 994 1084 691  Q 1341 388 1753 388  Q 2084 388 2306 591  Q 2528 794 2588 1216  z \" id=\"ArialMT-63\" transform=\"scale(0.015625)\" />\n      <path d=\"M 2588 409  Q 2275 144 1986 34  Q 1697 -75 1366 -75  Q 819 -75 525 192  Q 231 459 231 875  Q 231 1119 342 1320  Q 453 1522 633 1644  Q 813 1766 1038 1828  Q 1203 1872 1538 1913  Q 2219 1994 2541 2106  Q 2544 2222 2544 2253  Q 2544 2597 2384 2738  Q 2169 2928 1744 2928  Q 1347 2928 1158 2789  Q 969 2650 878 2297  L 328 2372  Q 403 2725 575 2942  Q 747 3159 1072 3276  Q 1397 3394 1825 3394  Q 2250 3394 2515 3294  Q 2781 3194 2906 3042  Q 3031 2891 3081 2659  Q 3109 2516 3109 2141  L 3109 1391  Q 3109 606 3145 398  Q 3181 191 3288 0  L 2700 0  Q 2613 175 2588 409  z M 2541 1666  Q 2234 1541 1622 1453  Q 1275 1403 1131 1340  Q 988 1278 909 1158  Q 831 1038 831 891  Q 831 666 1001 516  Q 1172 366 1500 366  Q 1825 366 2078 508  Q 2331 650 2450 897  Q 2541 1088 2541 1459  L 2541 1666  z \" id=\"ArialMT-61\" transform=\"scale(0.015625)\" />\n     </defs>\n     <use xlink:href=\"#ArialMT-76\" />\n     <use x=\"50\" xlink:href=\"#ArialMT-69\" />\n     <use x=\"72.216797\" xlink:href=\"#ArialMT-72\" />\n     <use x=\"105.517578\" xlink:href=\"#ArialMT-67\" />\n     <use x=\"161.132812\" xlink:href=\"#ArialMT-69\" />\n     <use x=\"183.349609\" xlink:href=\"#ArialMT-6e\" />\n     <use x=\"238.964844\" xlink:href=\"#ArialMT-69\" />\n     <use x=\"261.181641\" xlink:href=\"#ArialMT-63\" />\n     <use x=\"311.181641\" xlink:href=\"#ArialMT-61\" />\n    </g>\n   </g>\n  </g>\n </g>\n</svg></g>\n\n<g id=\"edge5\" class=\"edge\">\n<title>node11-&gt;leaf13</title>\n<path fill=\"none\" stroke=\"#444443\" stroke-width=\"0.3\" d=\"M264.56,-46.89C266.18,-42.33 267.83,-37.68 269.33,-33.42\" />\n<polygon fill=\"#444443\" stroke=\"#444443\" stroke-width=\"0.3\" points=\"270.66,-33.86 270.68,-29.62 268.02,-32.93 270.66,-33.86\" />\n</g>\n\n<g id=\"node3\" class=\"node\">\n<title>node9</title>\n<svg height=\"47px\" version=\"1.1\" viewBox=\"0 0 196.23 62.164554\" width=\"147px\" preserveAspectRatio=\"xMinYMin meet\" x=\"155.5\" y=\"-174.5\">\n <metadata>\n  <rdf:RDF>\n   <ns2:Work>\n    <dc:type rdf:resource=\"http://purl.org/dc/dcmitype/StillImage\" />\n    <dc:date>2021-10-04T20:58:01.136283</dc:date>\n    <dc:format>image/svg+xml</dc:format>\n    <dc:creator>\n     <ns2:Agent>\n      <dc:title>Matplotlib v3.4.3, https://matplotlib.org/</dc:title>\n     </ns2:Agent>\n    </dc:creator>\n   </ns2:Work>\n  </rdf:RDF>\n </metadata>\n <defs>\n  <style type=\"text/css\">*{stroke-linecap:butt;stroke-linejoin:round;}</style>\n </defs>\n <g id=\"figure_1\">\n  <g id=\"patch_1\">\n   <path d=\"M 0 62.164554  L 196.23 62.164554  L 196.23 0  L 0 0  z \" style=\"fill:none;\" />\n  </g>\n  <g id=\"axes_1\">\n   <g id=\"patch_2\">\n    <path d=\"M 12.09 32.160804  L 196.23 32.160804  L 196.23 1.583304  L 12.09 1.583304  z \" style=\"fill:#ffffff;\" />\n   </g>\n   <g id=\"patch_3\">\n    <path clip-path=\"url(#p031cf7a747)\" d=\"M 12.671571 32.160804  L 22.934593 32.160804  L 22.934593 32.160804  L 12.671571 32.160804  z \" style=\"fill:#fefebb;stroke:#444443;stroke-linejoin:miter;stroke-width:0.5;\" />\n   </g>\n   <g id=\"patch_4\">\n    <path clip-path=\"url(#p031cf7a747)\" d=\"M 22.934593 32.160804  L 33.197616 32.160804  L 33.197616 32.160804  L 22.934593 32.160804  z \" style=\"fill:#fefebb;stroke:#444443;stroke-linejoin:miter;stroke-width:0.5;\" />\n   </g>\n   <g id=\"patch_5\">\n    <path clip-path=\"url(#p031cf7a747)\" d=\"M 33.197616 32.160804  L 43.460638 32.160804  L 43.460638 32.160804  L 33.197616 32.160804  z \" style=\"fill:#fefebb;stroke:#444443;stroke-linejoin:miter;stroke-width:0.5;\" />\n   </g>\n   <g id=\"patch_6\">\n    <path clip-path=\"url(#p031cf7a747)\" d=\"M 43.460638 32.160804  L 53.72366 32.160804  L 53.72366 32.160804  L 43.460638 32.160804  z \" style=\"fill:#fefebb;stroke:#444443;stroke-linejoin:miter;stroke-width:0.5;\" />\n   </g>\n   <g id=\"patch_7\">\n    <path clip-path=\"url(#p031cf7a747)\" d=\"M 53.72366 32.160804  L 63.986682 32.160804  L 63.986682 32.160804  L 53.72366 32.160804  z \" style=\"fill:#fefebb;stroke:#444443;stroke-linejoin:miter;stroke-width:0.5;\" />\n   </g>\n   <g id=\"patch_8\">\n    <path clip-path=\"url(#p031cf7a747)\" d=\"M 63.986682 32.160804  L 74.249705 32.160804  L 74.249705 32.160804  L 63.986682 32.160804  z \" style=\"fill:#fefebb;stroke:#444443;stroke-linejoin:miter;stroke-width:0.5;\" />\n   </g>\n   <g id=\"patch_9\">\n    <path clip-path=\"url(#p031cf7a747)\" d=\"M 74.249705 32.160804  L 84.512727 32.160804  L 84.512727 32.160804  L 74.249705 32.160804  z \" style=\"fill:#fefebb;stroke:#444443;stroke-linejoin:miter;stroke-width:0.5;\" />\n   </g>\n   <g id=\"patch_10\">\n    <path clip-path=\"url(#p031cf7a747)\" d=\"M 84.512727 32.160804  L 94.775749 32.160804  L 94.775749 32.160804  L 84.512727 32.160804  z \" style=\"fill:#fefebb;stroke:#444443;stroke-linejoin:miter;stroke-width:0.5;\" />\n   </g>\n   <g id=\"patch_11\">\n    <path clip-path=\"url(#p031cf7a747)\" d=\"M 94.775749 32.160804  L 105.038771 32.160804  L 105.038771 32.160804  L 94.775749 32.160804  z \" style=\"fill:#fefebb;stroke:#444443;stroke-linejoin:miter;stroke-width:0.5;\" />\n   </g>\n   <g id=\"patch_12\">\n    <path clip-path=\"url(#p031cf7a747)\" d=\"M 105.038771 32.160804  L 115.301794 32.160804  L 115.301794 32.160804  L 105.038771 32.160804  z \" style=\"fill:#fefebb;stroke:#444443;stroke-linejoin:miter;stroke-width:0.5;\" />\n   </g>\n   <g id=\"patch_13\">\n    <path clip-path=\"url(#p031cf7a747)\" d=\"M 115.301794 32.160804  L 125.564816 32.160804  L 125.564816 32.160804  L 115.301794 32.160804  z \" style=\"fill:#fefebb;stroke:#444443;stroke-linejoin:miter;stroke-width:0.5;\" />\n   </g>\n   <g id=\"patch_14\">\n    <path clip-path=\"url(#p031cf7a747)\" d=\"M 125.564816 32.160804  L 135.827838 32.160804  L 135.827838 32.160804  L 125.564816 32.160804  z \" style=\"fill:#fefebb;stroke:#444443;stroke-linejoin:miter;stroke-width:0.5;\" />\n   </g>\n   <g id=\"patch_15\">\n    <path clip-path=\"url(#p031cf7a747)\" d=\"M 135.827838 32.160804  L 146.09086 32.160804  L 146.09086 32.160804  L 135.827838 32.160804  z \" style=\"fill:#fefebb;stroke:#444443;stroke-linejoin:miter;stroke-width:0.5;\" />\n   </g>\n   <g id=\"patch_16\">\n    <path clip-path=\"url(#p031cf7a747)\" d=\"M 146.09086 32.160804  L 156.353882 32.160804  L 156.353882 32.160804  L 146.09086 32.160804  z \" style=\"fill:#fefebb;stroke:#444443;stroke-linejoin:miter;stroke-width:0.5;\" />\n   </g>\n   <g id=\"patch_17\">\n    <path clip-path=\"url(#p031cf7a747)\" d=\"M 156.353882 32.160804  L 166.616905 32.160804  L 166.616905 32.160804  L 156.353882 32.160804  z \" style=\"fill:#fefebb;stroke:#444443;stroke-linejoin:miter;stroke-width:0.5;\" />\n   </g>\n   <g id=\"patch_18\">\n    <path clip-path=\"url(#p031cf7a747)\" d=\"M 166.616905 32.160804  L 176.879927 32.160804  L 176.879927 32.160804  L 166.616905 32.160804  z \" style=\"fill:#fefebb;stroke:#444443;stroke-linejoin:miter;stroke-width:0.5;\" />\n   </g>\n   <g id=\"patch_19\">\n    <path clip-path=\"url(#p031cf7a747)\" d=\"M 176.879927 32.160804  L 187.142949 32.160804  L 187.142949 32.160804  L 176.879927 32.160804  z \" style=\"fill:#fefebb;stroke:#444443;stroke-linejoin:miter;stroke-width:0.5;\" />\n   </g>\n   <g id=\"patch_20\">\n    <path clip-path=\"url(#p031cf7a747)\" d=\"M 12.671571 32.160804  L 22.934593 32.160804  L 22.934593 32.160804  L 12.671571 32.160804  z \" style=\"fill:#d9e6f5;stroke:#444443;stroke-linejoin:miter;stroke-width:0.5;\" />\n   </g>\n   <g id=\"patch_21\">\n    <path clip-path=\"url(#p031cf7a747)\" d=\"M 22.934593 32.160804  L 33.197616 32.160804  L 33.197616 32.160804  L 22.934593 32.160804  z \" style=\"fill:#d9e6f5;stroke:#444443;stroke-linejoin:miter;stroke-width:0.5;\" />\n   </g>\n   <g id=\"patch_22\">\n    <path clip-path=\"url(#p031cf7a747)\" d=\"M 33.197616 32.160804  L 43.460638 32.160804  L 43.460638 32.160804  L 33.197616 32.160804  z \" style=\"fill:#d9e6f5;stroke:#444443;stroke-linejoin:miter;stroke-width:0.5;\" />\n   </g>\n   <g id=\"patch_23\">\n    <path clip-path=\"url(#p031cf7a747)\" d=\"M 43.460638 32.160804  L 53.72366 32.160804  L 53.72366 32.160804  L 43.460638 32.160804  z \" style=\"fill:#d9e6f5;stroke:#444443;stroke-linejoin:miter;stroke-width:0.5;\" />\n   </g>\n   <g id=\"patch_24\">\n    <path clip-path=\"url(#p031cf7a747)\" d=\"M 53.72366 32.160804  L 63.986682 32.160804  L 63.986682 32.160804  L 53.72366 32.160804  z \" style=\"fill:#d9e6f5;stroke:#444443;stroke-linejoin:miter;stroke-width:0.5;\" />\n   </g>\n   <g id=\"patch_25\">\n    <path clip-path=\"url(#p031cf7a747)\" d=\"M 63.986682 32.160804  L 74.249705 32.160804  L 74.249705 32.160804  L 63.986682 32.160804  z \" style=\"fill:#d9e6f5;stroke:#444443;stroke-linejoin:miter;stroke-width:0.5;\" />\n   </g>\n   <g id=\"patch_26\">\n    <path clip-path=\"url(#p031cf7a747)\" d=\"M 74.249705 32.160804  L 84.512727 32.160804  L 84.512727 32.160804  L 74.249705 32.160804  z \" style=\"fill:#d9e6f5;stroke:#444443;stroke-linejoin:miter;stroke-width:0.5;\" />\n   </g>\n   <g id=\"patch_27\">\n    <path clip-path=\"url(#p031cf7a747)\" d=\"M 84.512727 32.160804  L 94.775749 32.160804  L 94.775749 32.160804  L 84.512727 32.160804  z \" style=\"fill:#d9e6f5;stroke:#444443;stroke-linejoin:miter;stroke-width:0.5;\" />\n   </g>\n   <g id=\"patch_28\">\n    <path clip-path=\"url(#p031cf7a747)\" d=\"M 94.775749 32.160804  L 105.038771 32.160804  L 105.038771 32.160804  L 94.775749 32.160804  z \" style=\"fill:#d9e6f5;stroke:#444443;stroke-linejoin:miter;stroke-width:0.5;\" />\n   </g>\n   <g id=\"patch_29\">\n    <path clip-path=\"url(#p031cf7a747)\" d=\"M 105.038771 32.160804  L 115.301794 32.160804  L 115.301794 32.160804  L 105.038771 32.160804  z \" style=\"fill:#d9e6f5;stroke:#444443;stroke-linejoin:miter;stroke-width:0.5;\" />\n   </g>\n   <g id=\"patch_30\">\n    <path clip-path=\"url(#p031cf7a747)\" d=\"M 115.301794 32.160804  L 125.564816 32.160804  L 125.564816 22.453661  L 115.301794 22.453661  z \" style=\"fill:#d9e6f5;stroke:#444443;stroke-linejoin:miter;stroke-width:0.5;\" />\n   </g>\n   <g id=\"patch_31\">\n    <path clip-path=\"url(#p031cf7a747)\" d=\"M 125.564816 32.160804  L 135.827838 32.160804  L 135.827838 22.453661  L 125.564816 22.453661  z \" style=\"fill:#d9e6f5;stroke:#444443;stroke-linejoin:miter;stroke-width:0.5;\" />\n   </g>\n   <g id=\"patch_32\">\n    <path clip-path=\"url(#p031cf7a747)\" d=\"M 135.827838 32.160804  L 146.09086 32.160804  L 146.09086 32.160804  L 135.827838 32.160804  z \" style=\"fill:#d9e6f5;stroke:#444443;stroke-linejoin:miter;stroke-width:0.5;\" />\n   </g>\n   <g id=\"patch_33\">\n    <path clip-path=\"url(#p031cf7a747)\" d=\"M 146.09086 32.160804  L 156.353882 32.160804  L 156.353882 32.160804  L 146.09086 32.160804  z \" style=\"fill:#d9e6f5;stroke:#444443;stroke-linejoin:miter;stroke-width:0.5;\" />\n   </g>\n   <g id=\"patch_34\">\n    <path clip-path=\"url(#p031cf7a747)\" d=\"M 156.353882 32.160804  L 166.616905 32.160804  L 166.616905 32.160804  L 156.353882 32.160804  z \" style=\"fill:#d9e6f5;stroke:#444443;stroke-linejoin:miter;stroke-width:0.5;\" />\n   </g>\n   <g id=\"patch_35\">\n    <path clip-path=\"url(#p031cf7a747)\" d=\"M 166.616905 32.160804  L 176.879927 32.160804  L 176.879927 32.160804  L 166.616905 32.160804  z \" style=\"fill:#d9e6f5;stroke:#444443;stroke-linejoin:miter;stroke-width:0.5;\" />\n   </g>\n   <g id=\"patch_36\">\n    <path clip-path=\"url(#p031cf7a747)\" d=\"M 176.879927 32.160804  L 187.142949 32.160804  L 187.142949 32.160804  L 176.879927 32.160804  z \" style=\"fill:#d9e6f5;stroke:#444443;stroke-linejoin:miter;stroke-width:0.5;\" />\n   </g>\n   <g id=\"patch_37\">\n    <path clip-path=\"url(#p031cf7a747)\" d=\"M 12.671571 32.160804  L 22.934593 32.160804  L 22.934593 32.160804  L 12.671571 32.160804  z \" style=\"fill:#a1dab4;stroke:#444443;stroke-linejoin:miter;stroke-width:0.5;\" />\n   </g>\n   <g id=\"patch_38\">\n    <path clip-path=\"url(#p031cf7a747)\" d=\"M 22.934593 32.160804  L 33.197616 32.160804  L 33.197616 32.160804  L 22.934593 32.160804  z \" style=\"fill:#a1dab4;stroke:#444443;stroke-linejoin:miter;stroke-width:0.5;\" />\n   </g>\n   <g id=\"patch_39\">\n    <path clip-path=\"url(#p031cf7a747)\" d=\"M 33.197616 32.160804  L 43.460638 32.160804  L 43.460638 32.160804  L 33.197616 32.160804  z \" style=\"fill:#a1dab4;stroke:#444443;stroke-linejoin:miter;stroke-width:0.5;\" />\n   </g>\n   <g id=\"patch_40\">\n    <path clip-path=\"url(#p031cf7a747)\" d=\"M 43.460638 32.160804  L 53.72366 32.160804  L 53.72366 32.160804  L 43.460638 32.160804  z \" style=\"fill:#a1dab4;stroke:#444443;stroke-linejoin:miter;stroke-width:0.5;\" />\n   </g>\n   <g id=\"patch_41\">\n    <path clip-path=\"url(#p031cf7a747)\" d=\"M 53.72366 32.160804  L 63.986682 32.160804  L 63.986682 32.160804  L 53.72366 32.160804  z \" style=\"fill:#a1dab4;stroke:#444443;stroke-linejoin:miter;stroke-width:0.5;\" />\n   </g>\n   <g id=\"patch_42\">\n    <path clip-path=\"url(#p031cf7a747)\" d=\"M 63.986682 32.160804  L 74.249705 32.160804  L 74.249705 32.160804  L 63.986682 32.160804  z \" style=\"fill:#a1dab4;stroke:#444443;stroke-linejoin:miter;stroke-width:0.5;\" />\n   </g>\n   <g id=\"patch_43\">\n    <path clip-path=\"url(#p031cf7a747)\" d=\"M 74.249705 32.160804  L 84.512727 32.160804  L 84.512727 32.160804  L 74.249705 32.160804  z \" style=\"fill:#a1dab4;stroke:#444443;stroke-linejoin:miter;stroke-width:0.5;\" />\n   </g>\n   <g id=\"patch_44\">\n    <path clip-path=\"url(#p031cf7a747)\" d=\"M 84.512727 32.160804  L 94.775749 32.160804  L 94.775749 32.160804  L 84.512727 32.160804  z \" style=\"fill:#a1dab4;stroke:#444443;stroke-linejoin:miter;stroke-width:0.5;\" />\n   </g>\n   <g id=\"patch_45\">\n    <path clip-path=\"url(#p031cf7a747)\" d=\"M 94.775749 32.160804  L 105.038771 32.160804  L 105.038771 32.160804  L 94.775749 32.160804  z \" style=\"fill:#a1dab4;stroke:#444443;stroke-linejoin:miter;stroke-width:0.5;\" />\n   </g>\n   <g id=\"patch_46\">\n    <path clip-path=\"url(#p031cf7a747)\" d=\"M 105.038771 32.160804  L 115.301794 32.160804  L 115.301794 3.039375  L 105.038771 3.039375  z \" style=\"fill:#a1dab4;stroke:#444443;stroke-linejoin:miter;stroke-width:0.5;\" />\n   </g>\n   <g id=\"patch_47\">\n    <path clip-path=\"url(#p031cf7a747)\" d=\"M 115.301794 22.453661  L 125.564816 22.453661  L 125.564816 12.746518  L 115.301794 12.746518  z \" style=\"fill:#a1dab4;stroke:#444443;stroke-linejoin:miter;stroke-width:0.5;\" />\n   </g>\n   <g id=\"patch_48\">\n    <path clip-path=\"url(#p031cf7a747)\" d=\"M 125.564816 22.453661  L 135.827838 22.453661  L 135.827838 22.453661  L 125.564816 22.453661  z \" style=\"fill:#a1dab4;stroke:#444443;stroke-linejoin:miter;stroke-width:0.5;\" />\n   </g>\n   <g id=\"patch_49\">\n    <path clip-path=\"url(#p031cf7a747)\" d=\"M 135.827838 32.160804  L 146.09086 32.160804  L 146.09086 32.160804  L 135.827838 32.160804  z \" style=\"fill:#a1dab4;stroke:#444443;stroke-linejoin:miter;stroke-width:0.5;\" />\n   </g>\n   <g id=\"patch_50\">\n    <path clip-path=\"url(#p031cf7a747)\" d=\"M 146.09086 32.160804  L 156.353882 32.160804  L 156.353882 32.160804  L 146.09086 32.160804  z \" style=\"fill:#a1dab4;stroke:#444443;stroke-linejoin:miter;stroke-width:0.5;\" />\n   </g>\n   <g id=\"patch_51\">\n    <path clip-path=\"url(#p031cf7a747)\" d=\"M 156.353882 32.160804  L 166.616905 32.160804  L 166.616905 32.160804  L 156.353882 32.160804  z \" style=\"fill:#a1dab4;stroke:#444443;stroke-linejoin:miter;stroke-width:0.5;\" />\n   </g>\n   <g id=\"patch_52\">\n    <path clip-path=\"url(#p031cf7a747)\" d=\"M 166.616905 32.160804  L 176.879927 32.160804  L 176.879927 32.160804  L 166.616905 32.160804  z \" style=\"fill:#a1dab4;stroke:#444443;stroke-linejoin:miter;stroke-width:0.5;\" />\n   </g>\n   <g id=\"patch_53\">\n    <path clip-path=\"url(#p031cf7a747)\" d=\"M 176.879927 32.160804  L 187.142949 32.160804  L 187.142949 32.160804  L 176.879927 32.160804  z \" style=\"fill:#a1dab4;stroke:#444443;stroke-linejoin:miter;stroke-width:0.5;\" />\n   </g>\n   <g id=\"patch_54\">\n    <path d=\"M 118.081363 32.976204  L 114.766843 40.314804  L 121.395883 40.314804  z \" style=\"fill:#444443;\" />\n   </g>\n   <g id=\"matplotlib.axis_1\">\n    <g id=\"xtick_1\">\n     <g id=\"line2d_1\">\n      <defs>\n       <path d=\"M 0 0  L 0 3.5  \" id=\"m30f3b60e3b\" style=\"stroke:#000000;stroke-width:0.3;\" />\n      </defs>\n      <g>\n       <use style=\"stroke:#000000;stroke-width:0.3;\" x=\"12.671571\" xlink:href=\"#m30f3b60e3b\" y=\"32.160804\" />\n      </g>\n     </g>\n     <g id=\"text_1\">\n      \n      <g style=\"fill:#444443;\" transform=\"translate(6.310321 45.239554)scale(0.08 -0.08)\">\n       <defs>\n        <path d=\"M 2034 4250  Q 1547 4250 1301 3770  Q 1056 3291 1056 2328  Q 1056 1369 1301 889  Q 1547 409 2034 409  Q 2525 409 2770 889  Q 3016 1369 3016 2328  Q 3016 3291 2770 3770  Q 2525 4250 2034 4250  z M 2034 4750  Q 2819 4750 3233 4129  Q 3647 3509 3647 2328  Q 3647 1150 3233 529  Q 2819 -91 2034 -91  Q 1250 -91 836 529  Q 422 1150 422 2328  Q 422 3509 836 4129  Q 1250 4750 2034 4750  z \" id=\"DejaVuSans-30\" transform=\"scale(0.015625)\" />\n        <path d=\"M 684 794  L 1344 794  L 1344 0  L 684 0  L 684 794  z \" id=\"DejaVuSans-2e\" transform=\"scale(0.015625)\" />\n        <path d=\"M 794 531  L 1825 531  L 1825 4091  L 703 3866  L 703 4441  L 1819 4666  L 2450 4666  L 2450 531  L 3481 531  L 3481 0  L 794 0  L 794 531  z \" id=\"DejaVuSans-31\" transform=\"scale(0.015625)\" />\n       </defs>\n       <use xlink:href=\"#DejaVuSans-30\" />\n       <use x=\"63.623047\" xlink:href=\"#DejaVuSans-2e\" />\n       <use x=\"95.410156\" xlink:href=\"#DejaVuSans-31\" />\n      </g>\n     </g>\n    </g>\n    <g id=\"xtick_2\">\n     <g id=\"line2d_2\">\n      <g>\n       <use style=\"stroke:#000000;stroke-width:0.3;\" x=\"187.142949\" xlink:href=\"#m30f3b60e3b\" y=\"32.160804\" />\n      </g>\n     </g>\n     <g id=\"text_2\">\n      \n      <g style=\"fill:#444443;\" transform=\"translate(180.781699 45.239554)scale(0.08 -0.08)\">\n       <defs>\n        <path d=\"M 1228 531  L 3431 531  L 3431 0  L 469 0  L 469 531  Q 828 903 1448 1529  Q 2069 2156 2228 2338  Q 2531 2678 2651 2914  Q 2772 3150 2772 3378  Q 2772 3750 2511 3984  Q 2250 4219 1831 4219  Q 1534 4219 1204 4116  Q 875 4013 500 3803  L 500 4441  Q 881 4594 1212 4672  Q 1544 4750 1819 4750  Q 2544 4750 2975 4387  Q 3406 4025 3406 3419  Q 3406 3131 3298 2873  Q 3191 2616 2906 2266  Q 2828 2175 2409 1742  Q 1991 1309 1228 531  z \" id=\"DejaVuSans-32\" transform=\"scale(0.015625)\" />\n        <path d=\"M 691 4666  L 3169 4666  L 3169 4134  L 1269 4134  L 1269 2991  Q 1406 3038 1543 3061  Q 1681 3084 1819 3084  Q 2600 3084 3056 2656  Q 3513 2228 3513 1497  Q 3513 744 3044 326  Q 2575 -91 1722 -91  Q 1428 -91 1123 -41  Q 819 9 494 109  L 494 744  Q 775 591 1075 516  Q 1375 441 1709 441  Q 2250 441 2565 725  Q 2881 1009 2881 1497  Q 2881 1984 2565 2268  Q 2250 2553 1709 2553  Q 1456 2553 1204 2497  Q 953 2441 691 2322  L 691 4666  z \" id=\"DejaVuSans-35\" transform=\"scale(0.015625)\" />\n       </defs>\n       <use xlink:href=\"#DejaVuSans-32\" />\n       <use x=\"63.623047\" xlink:href=\"#DejaVuSans-2e\" />\n       <use x=\"95.410156\" xlink:href=\"#DejaVuSans-35\" />\n      </g>\n     </g>\n    </g>\n    <g id=\"text_3\">\n     \n     <g style=\"fill:#444443;\" transform=\"translate(61.816875 59.638929)scale(0.12 -0.12)\">\n      <defs>\n       <path d=\"M 422 -1272  L 422 3319  L 934 3319  L 934 2888  Q 1116 3141 1344 3267  Q 1572 3394 1897 3394  Q 2322 3394 2647 3175  Q 2972 2956 3137 2557  Q 3303 2159 3303 1684  Q 3303 1175 3120 767  Q 2938 359 2589 142  Q 2241 -75 1856 -75  Q 1575 -75 1351 44  Q 1128 163 984 344  L 984 -1272  L 422 -1272  z M 931 1641  Q 931 1000 1190 694  Q 1450 388 1819 388  Q 2194 388 2461 705  Q 2728 1022 2728 1688  Q 2728 2322 2467 2637  Q 2206 2953 1844 2953  Q 1484 2953 1207 2617  Q 931 2281 931 1641  z \" id=\"ArialMT-70\" transform=\"scale(0.015625)\" />\n       <path d=\"M 2694 1069  L 3275 997  Q 3138 488 2766 206  Q 2394 -75 1816 -75  Q 1088 -75 661 373  Q 234 822 234 1631  Q 234 2469 665 2931  Q 1097 3394 1784 3394  Q 2450 3394 2872 2941  Q 3294 2488 3294 1666  Q 3294 1616 3291 1516  L 816 1516  Q 847 969 1125 678  Q 1403 388 1819 388  Q 2128 388 2347 550  Q 2566 713 2694 1069  z M 847 1978  L 2700 1978  Q 2663 2397 2488 2606  Q 2219 2931 1791 2931  Q 1403 2931 1139 2672  Q 875 2413 847 1978  z \" id=\"ArialMT-65\" transform=\"scale(0.015625)\" />\n       <path d=\"M 1650 503  L 1731 6  Q 1494 -44 1306 -44  Q 1000 -44 831 53  Q 663 150 594 308  Q 525 466 525 972  L 525 2881  L 113 2881  L 113 3319  L 525 3319  L 525 4141  L 1084 4478  L 1084 3319  L 1650 3319  L 1650 2881  L 1084 2881  L 1084 941  Q 1084 700 1114 631  Q 1144 563 1211 522  Q 1278 481 1403 481  Q 1497 481 1650 503  z \" id=\"ArialMT-74\" transform=\"scale(0.015625)\" />\n       <path d=\"M 2588 409  Q 2275 144 1986 34  Q 1697 -75 1366 -75  Q 819 -75 525 192  Q 231 459 231 875  Q 231 1119 342 1320  Q 453 1522 633 1644  Q 813 1766 1038 1828  Q 1203 1872 1538 1913  Q 2219 1994 2541 2106  Q 2544 2222 2544 2253  Q 2544 2597 2384 2738  Q 2169 2928 1744 2928  Q 1347 2928 1158 2789  Q 969 2650 878 2297  L 328 2372  Q 403 2725 575 2942  Q 747 3159 1072 3276  Q 1397 3394 1825 3394  Q 2250 3394 2515 3294  Q 2781 3194 2906 3042  Q 3031 2891 3081 2659  Q 3109 2516 3109 2141  L 3109 1391  Q 3109 606 3145 398  Q 3181 191 3288 0  L 2700 0  Q 2613 175 2588 409  z M 2541 1666  Q 2234 1541 1622 1453  Q 1275 1403 1131 1340  Q 988 1278 909 1158  Q 831 1038 831 891  Q 831 666 1001 516  Q 1172 366 1500 366  Q 1825 366 2078 508  Q 2331 650 2450 897  Q 2541 1088 2541 1459  L 2541 1666  z \" id=\"ArialMT-61\" transform=\"scale(0.015625)\" />\n       <path d=\"M 409 0  L 409 4581  L 972 4581  L 972 0  L 409 0  z \" id=\"ArialMT-6c\" transform=\"scale(0.015625)\" />\n       <path id=\"ArialMT-20\" transform=\"scale(0.015625)\" />\n       <path d=\"M 1034 0  L 19 3319  L 600 3319  L 1128 1403  L 1325 691  Q 1338 744 1497 1375  L 2025 3319  L 2603 3319  L 3100 1394  L 3266 759  L 3456 1400  L 4025 3319  L 4572 3319  L 3534 0  L 2950 0  L 2422 1988  L 2294 2553  L 1622 0  L 1034 0  z \" id=\"ArialMT-77\" transform=\"scale(0.015625)\" />\n       <path d=\"M 425 3934  L 425 4581  L 988 4581  L 988 3934  L 425 3934  z M 425 0  L 425 3319  L 988 3319  L 988 0  L 425 0  z \" id=\"ArialMT-69\" transform=\"scale(0.015625)\" />\n       <path d=\"M 2575 0  L 2575 419  Q 2259 -75 1647 -75  Q 1250 -75 917 144  Q 584 363 401 755  Q 219 1147 219 1656  Q 219 2153 384 2558  Q 550 2963 881 3178  Q 1213 3394 1622 3394  Q 1922 3394 2156 3267  Q 2391 3141 2538 2938  L 2538 4581  L 3097 4581  L 3097 0  L 2575 0  z M 797 1656  Q 797 1019 1065 703  Q 1334 388 1700 388  Q 2069 388 2326 689  Q 2584 991 2584 1609  Q 2584 2291 2321 2609  Q 2059 2928 1675 2928  Q 1300 2928 1048 2622  Q 797 2316 797 1656  z \" id=\"ArialMT-64\" transform=\"scale(0.015625)\" />\n       <path d=\"M 422 0  L 422 4581  L 984 4581  L 984 2938  Q 1378 3394 1978 3394  Q 2347 3394 2619 3248  Q 2891 3103 3008 2847  Q 3125 2591 3125 2103  L 3125 0  L 2563 0  L 2563 2103  Q 2563 2525 2380 2717  Q 2197 2909 1863 2909  Q 1613 2909 1392 2779  Q 1172 2650 1078 2428  Q 984 2206 984 1816  L 984 0  L 422 0  z \" id=\"ArialMT-68\" transform=\"scale(0.015625)\" />\n       <path d=\"M 1497 -1347  Q 1031 -759 709 28  Q 388 816 388 1659  Q 388 2403 628 3084  Q 909 3875 1497 4659  L 1900 4659  Q 1522 4009 1400 3731  Q 1209 3300 1100 2831  Q 966 2247 966 1656  Q 966 153 1900 -1347  L 1497 -1347  z \" id=\"ArialMT-28\" transform=\"scale(0.015625)\" />\n       <path d=\"M 2588 1216  L 3141 1144  Q 3050 572 2676 248  Q 2303 -75 1759 -75  Q 1078 -75 664 370  Q 250 816 250 1647  Q 250 2184 428 2587  Q 606 2991 970 3192  Q 1334 3394 1763 3394  Q 2303 3394 2647 3120  Q 2991 2847 3088 2344  L 2541 2259  Q 2463 2594 2264 2762  Q 2066 2931 1784 2931  Q 1359 2931 1093 2626  Q 828 2322 828 1663  Q 828 994 1084 691  Q 1341 388 1753 388  Q 2084 388 2306 591  Q 2528 794 2588 1216  z \" id=\"ArialMT-63\" transform=\"scale(0.015625)\" />\n       <path d=\"M 422 0  L 422 3319  L 925 3319  L 925 2853  Q 1081 3097 1340 3245  Q 1600 3394 1931 3394  Q 2300 3394 2536 3241  Q 2772 3088 2869 2813  Q 3263 3394 3894 3394  Q 4388 3394 4653 3120  Q 4919 2847 4919 2278  L 4919 0  L 4359 0  L 4359 2091  Q 4359 2428 4304 2576  Q 4250 2725 4106 2815  Q 3963 2906 3769 2906  Q 3419 2906 3187 2673  Q 2956 2441 2956 1928  L 2956 0  L 2394 0  L 2394 2156  Q 2394 2531 2256 2718  Q 2119 2906 1806 2906  Q 1569 2906 1367 2781  Q 1166 2656 1075 2415  Q 984 2175 984 1722  L 984 0  L 422 0  z \" id=\"ArialMT-6d\" transform=\"scale(0.015625)\" />\n       <path d=\"M 791 -1347  L 388 -1347  Q 1322 153 1322 1656  Q 1322 2244 1188 2822  Q 1081 3291 891 3722  Q 769 4003 388 4659  L 791 4659  Q 1378 3875 1659 3084  Q 1900 2403 1900 1659  Q 1900 816 1576 28  Q 1253 -759 791 -1347  z \" id=\"ArialMT-29\" transform=\"scale(0.015625)\" />\n      </defs>\n      <use xlink:href=\"#ArialMT-70\" />\n      <use x=\"55.615234\" xlink:href=\"#ArialMT-65\" />\n      <use x=\"111.230469\" xlink:href=\"#ArialMT-74\" />\n      <use x=\"139.013672\" xlink:href=\"#ArialMT-61\" />\n      <use x=\"194.628906\" xlink:href=\"#ArialMT-6c\" />\n      <use x=\"216.845703\" xlink:href=\"#ArialMT-20\" />\n      <use x=\"244.628906\" xlink:href=\"#ArialMT-77\" />\n      <use x=\"316.845703\" xlink:href=\"#ArialMT-69\" />\n      <use x=\"339.0625\" xlink:href=\"#ArialMT-64\" />\n      <use x=\"394.677734\" xlink:href=\"#ArialMT-74\" />\n      <use x=\"422.460938\" xlink:href=\"#ArialMT-68\" />\n      <use x=\"478.076172\" xlink:href=\"#ArialMT-20\" />\n      <use x=\"505.859375\" xlink:href=\"#ArialMT-28\" />\n      <use x=\"539.160156\" xlink:href=\"#ArialMT-63\" />\n      <use x=\"589.160156\" xlink:href=\"#ArialMT-6d\" />\n      <use x=\"672.460938\" xlink:href=\"#ArialMT-29\" />\n     </g>\n    </g>\n   </g>\n   <g id=\"matplotlib.axis_2\">\n    <g id=\"ytick_1\">\n     <g id=\"line2d_3\">\n      <defs>\n       <path d=\"M 0 0  L -3.5 0  \" id=\"mad9d4d4848\" style=\"stroke:#000000;stroke-width:0.3;\" />\n      </defs>\n      <g>\n       <use style=\"stroke:#000000;stroke-width:0.3;\" x=\"12.09\" xlink:href=\"#mad9d4d4848\" y=\"32.160804\" />\n      </g>\n     </g>\n     <g id=\"text_4\">\n      \n      <g style=\"fill:#444443;\" transform=\"translate(0 35.200179)scale(0.08 -0.08)\">\n       <use xlink:href=\"#DejaVuSans-30\" />\n      </g>\n     </g>\n    </g>\n    <g id=\"ytick_2\">\n     <g id=\"line2d_4\">\n      <g>\n       <use style=\"stroke:#000000;stroke-width:0.3;\" x=\"12.09\" xlink:href=\"#mad9d4d4848\" y=\"3.039375\" />\n      </g>\n     </g>\n     <g id=\"text_5\">\n      \n      <g style=\"fill:#444443;\" transform=\"translate(0 6.07875)scale(0.08 -0.08)\">\n       <defs>\n        <path d=\"M 2597 2516  Q 3050 2419 3304 2112  Q 3559 1806 3559 1356  Q 3559 666 3084 287  Q 2609 -91 1734 -91  Q 1441 -91 1130 -33  Q 819 25 488 141  L 488 750  Q 750 597 1062 519  Q 1375 441 1716 441  Q 2309 441 2620 675  Q 2931 909 2931 1356  Q 2931 1769 2642 2001  Q 2353 2234 1838 2234  L 1294 2234  L 1294 2753  L 1863 2753  Q 2328 2753 2575 2939  Q 2822 3125 2822 3475  Q 2822 3834 2567 4026  Q 2313 4219 1838 4219  Q 1578 4219 1281 4162  Q 984 4106 628 3988  L 628 4550  Q 988 4650 1302 4700  Q 1616 4750 1894 4750  Q 2613 4750 3031 4423  Q 3450 4097 3450 3541  Q 3450 3153 3228 2886  Q 3006 2619 2597 2516  z \" id=\"DejaVuSans-33\" transform=\"scale(0.015625)\" />\n       </defs>\n       <use xlink:href=\"#DejaVuSans-33\" />\n      </g>\n     </g>\n    </g>\n   </g>\n   <g id=\"patch_55\">\n    <path d=\"M 12.09 32.160804  L 12.09 1.583304  \" style=\"fill:none;stroke:#000000;stroke-linecap:square;stroke-linejoin:miter;stroke-width:0.3;\" />\n   </g>\n   <g id=\"patch_56\">\n    <path d=\"M 12.09 32.160804  L 196.23 32.160804  \" style=\"fill:none;stroke:#000000;stroke-linecap:square;stroke-linejoin:miter;stroke-width:0.3;\" />\n   </g>\n   <g id=\"text_6\">\n    \n    <g style=\"fill:#444443;\" transform=\"translate(110.296988 48.468804)scale(0.08 -0.08)\">\n     <defs>\n      <path d=\"M 2384 0  L 1822 0  L 1822 3584  Q 1619 3391 1289 3197  Q 959 3003 697 2906  L 697 3450  Q 1169 3672 1522 3987  Q 1875 4303 2022 4600  L 2384 4600  L 2384 0  z \" id=\"ArialMT-31\" transform=\"scale(0.015625)\" />\n      <path d=\"M 581 0  L 581 641  L 1222 641  L 1222 0  L 581 0  z \" id=\"ArialMT-2e\" transform=\"scale(0.015625)\" />\n      <path d=\"M 266 1200  L 856 1250  Q 922 819 1161 601  Q 1400 384 1738 384  Q 2144 384 2425 690  Q 2706 997 2706 1503  Q 2706 1984 2436 2262  Q 2166 2541 1728 2541  Q 1456 2541 1237 2417  Q 1019 2294 894 2097  L 366 2166  L 809 4519  L 3088 4519  L 3088 3981  L 1259 3981  L 1013 2750  Q 1425 3038 1878 3038  Q 2478 3038 2890 2622  Q 3303 2206 3303 1553  Q 3303 931 2941 478  Q 2500 -78 1738 -78  Q 1113 -78 717 272  Q 322 622 266 1200  z \" id=\"ArialMT-35\" transform=\"scale(0.015625)\" />\n     </defs>\n     <use xlink:href=\"#ArialMT-31\" />\n     <use x=\"55.615234\" xlink:href=\"#ArialMT-2e\" />\n     <use x=\"83.398438\" xlink:href=\"#ArialMT-35\" />\n     <use x=\"139.013672\" xlink:href=\"#ArialMT-35\" />\n    </g>\n   </g>\n  </g>\n </g>\n <defs>\n  <clipPath id=\"p031cf7a747\">\n   <rect height=\"30.5775\" width=\"184.14\" x=\"12.09\" y=\"1.583304\" />\n  </clipPath>\n </defs>\n</svg></g>\n\n<g id=\"edge8\" class=\"edge\">\n<title>node9-&gt;node11</title>\n<path fill=\"none\" stroke=\"#444443\" stroke-width=\"0.3\" d=\"M237.94,-123.92C240.21,-117.54 242.65,-110.68 244.96,-104.17\" />\n<polygon fill=\"#444443\" stroke=\"#444443\" stroke-width=\"0.3\" points=\"246.36,-104.41 246.38,-100.17 243.72,-103.47 246.36,-104.41\" />\n</g>\n\n<g id=\"node14\" class=\"node\">\n<title>leaf10</title>\n<polygon fill=\"none\" stroke=\"#444443\" stroke-width=\"0\" points=\"164,-89.5 131,-89.5 131,-57.5 164,-57.5 164,-89.5\" />\n<svg height=\"24px\" version=\"1.1\" viewBox=\"0 0 33.010312 31.046797\" width=\"25px\" preserveAspectRatio=\"xMinYMin meet\" x=\"135.5\" y=\"-85.5\">\n <metadata>\n  <rdf:RDF>\n   <ns2:Work>\n    <dc:type rdf:resource=\"http://purl.org/dc/dcmitype/StillImage\" />\n    <dc:date>2021-10-04T20:58:02.556473</dc:date>\n    <dc:format>image/svg+xml</dc:format>\n    <dc:creator>\n     <ns2:Agent>\n      <dc:title>Matplotlib v3.4.3, https://matplotlib.org/</dc:title>\n     </ns2:Agent>\n    </dc:creator>\n   </ns2:Work>\n  </rdf:RDF>\n </metadata>\n <defs>\n  <style type=\"text/css\">*{stroke-linecap:butt;stroke-linejoin:round;}</style>\n </defs>\n <g id=\"figure_1\">\n  <g id=\"patch_1\">\n   <path d=\"M 0 31.046798  L 33.010312 31.046798  L 33.010312 -0  L 0 -0  z \" style=\"fill:none;\" />\n  </g>\n  <g id=\"axes_1\">\n   <g id=\"patch_2\">\n    <path d=\"M 22.847156 6.342  C 22.847156 5.509176 22.683108 4.684451 22.3644 3.915022  C 22.045692 3.145593 21.578523 2.446424 20.989627 1.857529  C 20.400732 1.268633 19.701563 0.801464 18.932135 0.482756  C 18.162706 0.164048 17.33798 0 16.505156 0  C 15.672332 0 14.847607 0.164048 14.078178 0.482756  C 13.308749 0.801464 12.60958 1.268633 12.020685 1.857529  C 11.43179 2.446424 10.96462 3.145593 10.645912 3.915022  C 10.327204 4.684451 10.163156 5.509176 10.163156 6.342  C 10.163156 7.174824 10.327204 7.999549 10.645912 8.768978  C 10.96462 9.538407 11.43179 10.237576 12.020685 10.826471  C 12.60958 11.415367 13.308749 11.882536 14.078178 12.201244  C 14.847607 12.519952 15.672332 12.684 16.505156 12.684  C 17.33798 12.684 18.162706 12.519952 18.932135 12.201244  C 19.701563 11.882536 20.400732 11.415367 20.989627 10.826471  C 21.578523 10.237576 22.045692 9.538407 22.3644 8.768978  C 22.683108 7.999549 22.847156 7.174824 22.847156 6.342  M 16.505156 6.342  M 22.847156 6.342  z \" style=\"fill:#a1dab4;stroke:#444443;stroke-linejoin:miter;stroke-width:0.5;\" />\n   </g>\n   <g id=\"text_1\">\n    \n    <g style=\"fill:#444443;\" transform=\"translate(8.872031 19.633391)scale(0.09 -0.09)\">\n     <defs>\n      <path d=\"M 422 0  L 422 3319  L 928 3319  L 928 2847  Q 1294 3394 1984 3394  Q 2284 3394 2536 3286  Q 2788 3178 2913 3003  Q 3038 2828 3088 2588  Q 3119 2431 3119 2041  L 3119 0  L 2556 0  L 2556 2019  Q 2556 2363 2490 2533  Q 2425 2703 2258 2804  Q 2091 2906 1866 2906  Q 1506 2906 1245 2678  Q 984 2450 984 1813  L 984 0  L 422 0  z \" id=\"ArialMT-6e\" transform=\"scale(0.015625)\" />\n      <path d=\"M 3381 2694  L 356 2694  L 356 3219  L 3381 3219  L 3381 2694  z M 3381 1303  L 356 1303  L 356 1828  L 3381 1828  L 3381 1303  z \" id=\"ArialMT-3d\" transform=\"scale(0.015625)\" />\n      <path d=\"M 269 1209  L 831 1284  Q 928 806 1161 595  Q 1394 384 1728 384  Q 2125 384 2398 659  Q 2672 934 2672 1341  Q 2672 1728 2419 1979  Q 2166 2231 1775 2231  Q 1616 2231 1378 2169  L 1441 2663  Q 1497 2656 1531 2656  Q 1891 2656 2178 2843  Q 2466 3031 2466 3422  Q 2466 3731 2256 3934  Q 2047 4138 1716 4138  Q 1388 4138 1169 3931  Q 950 3725 888 3313  L 325 3413  Q 428 3978 793 4289  Q 1159 4600 1703 4600  Q 2078 4600 2393 4439  Q 2709 4278 2876 4000  Q 3044 3722 3044 3409  Q 3044 3113 2884 2869  Q 2725 2625 2413 2481  Q 2819 2388 3044 2092  Q 3269 1797 3269 1353  Q 3269 753 2831 336  Q 2394 -81 1725 -81  Q 1122 -81 723 278  Q 325 638 269 1209  z \" id=\"ArialMT-33\" transform=\"scale(0.015625)\" />\n     </defs>\n     <use xlink:href=\"#ArialMT-6e\" />\n     <use x=\"55.615234\" xlink:href=\"#ArialMT-3d\" />\n     <use x=\"114.013672\" xlink:href=\"#ArialMT-33\" />\n    </g>\n    \n    <g style=\"fill:#444443;\" transform=\"translate(0 29.152579)scale(0.09 -0.09)\">\n     <defs>\n      <path d=\"M 1344 0  L 81 3319  L 675 3319  L 1388 1331  Q 1503 1009 1600 663  Q 1675 925 1809 1294  L 2547 3319  L 3125 3319  L 1869 0  L 1344 0  z \" id=\"ArialMT-76\" transform=\"scale(0.015625)\" />\n      <path d=\"M 425 3934  L 425 4581  L 988 4581  L 988 3934  L 425 3934  z M 425 0  L 425 3319  L 988 3319  L 988 0  L 425 0  z \" id=\"ArialMT-69\" transform=\"scale(0.015625)\" />\n      <path d=\"M 416 0  L 416 3319  L 922 3319  L 922 2816  Q 1116 3169 1280 3281  Q 1444 3394 1641 3394  Q 1925 3394 2219 3213  L 2025 2691  Q 1819 2813 1613 2813  Q 1428 2813 1281 2702  Q 1134 2591 1072 2394  Q 978 2094 978 1738  L 978 0  L 416 0  z \" id=\"ArialMT-72\" transform=\"scale(0.015625)\" />\n      <path d=\"M 319 -275  L 866 -356  Q 900 -609 1056 -725  Q 1266 -881 1628 -881  Q 2019 -881 2231 -725  Q 2444 -569 2519 -288  Q 2563 -116 2559 434  Q 2191 0 1641 0  Q 956 0 581 494  Q 206 988 206 1678  Q 206 2153 378 2554  Q 550 2956 876 3175  Q 1203 3394 1644 3394  Q 2231 3394 2613 2919  L 2613 3319  L 3131 3319  L 3131 450  Q 3131 -325 2973 -648  Q 2816 -972 2473 -1159  Q 2131 -1347 1631 -1347  Q 1038 -1347 672 -1080  Q 306 -813 319 -275  z M 784 1719  Q 784 1066 1043 766  Q 1303 466 1694 466  Q 2081 466 2343 764  Q 2606 1063 2606 1700  Q 2606 2309 2336 2618  Q 2066 2928 1684 2928  Q 1309 2928 1046 2623  Q 784 2319 784 1719  z \" id=\"ArialMT-67\" transform=\"scale(0.015625)\" />\n      <path d=\"M 2588 1216  L 3141 1144  Q 3050 572 2676 248  Q 2303 -75 1759 -75  Q 1078 -75 664 370  Q 250 816 250 1647  Q 250 2184 428 2587  Q 606 2991 970 3192  Q 1334 3394 1763 3394  Q 2303 3394 2647 3120  Q 2991 2847 3088 2344  L 2541 2259  Q 2463 2594 2264 2762  Q 2066 2931 1784 2931  Q 1359 2931 1093 2626  Q 828 2322 828 1663  Q 828 994 1084 691  Q 1341 388 1753 388  Q 2084 388 2306 591  Q 2528 794 2588 1216  z \" id=\"ArialMT-63\" transform=\"scale(0.015625)\" />\n      <path d=\"M 2588 409  Q 2275 144 1986 34  Q 1697 -75 1366 -75  Q 819 -75 525 192  Q 231 459 231 875  Q 231 1119 342 1320  Q 453 1522 633 1644  Q 813 1766 1038 1828  Q 1203 1872 1538 1913  Q 2219 1994 2541 2106  Q 2544 2222 2544 2253  Q 2544 2597 2384 2738  Q 2169 2928 1744 2928  Q 1347 2928 1158 2789  Q 969 2650 878 2297  L 328 2372  Q 403 2725 575 2942  Q 747 3159 1072 3276  Q 1397 3394 1825 3394  Q 2250 3394 2515 3294  Q 2781 3194 2906 3042  Q 3031 2891 3081 2659  Q 3109 2516 3109 2141  L 3109 1391  Q 3109 606 3145 398  Q 3181 191 3288 0  L 2700 0  Q 2613 175 2588 409  z M 2541 1666  Q 2234 1541 1622 1453  Q 1275 1403 1131 1340  Q 988 1278 909 1158  Q 831 1038 831 891  Q 831 666 1001 516  Q 1172 366 1500 366  Q 1825 366 2078 508  Q 2331 650 2450 897  Q 2541 1088 2541 1459  L 2541 1666  z \" id=\"ArialMT-61\" transform=\"scale(0.015625)\" />\n     </defs>\n     <use xlink:href=\"#ArialMT-76\" />\n     <use x=\"50\" xlink:href=\"#ArialMT-69\" />\n     <use x=\"72.216797\" xlink:href=\"#ArialMT-72\" />\n     <use x=\"105.517578\" xlink:href=\"#ArialMT-67\" />\n     <use x=\"161.132812\" xlink:href=\"#ArialMT-69\" />\n     <use x=\"183.349609\" xlink:href=\"#ArialMT-6e\" />\n     <use x=\"238.964844\" xlink:href=\"#ArialMT-69\" />\n     <use x=\"261.181641\" xlink:href=\"#ArialMT-63\" />\n     <use x=\"311.181641\" xlink:href=\"#ArialMT-61\" />\n    </g>\n   </g>\n  </g>\n </g>\n</svg></g>\n\n<g id=\"edge7\" class=\"edge\">\n<title>node9-&gt;leaf10</title>\n<path fill=\"none\" stroke=\"#444443\" stroke-width=\"0.3\" d=\"M200.17,-123.92C189.09,-113.52 176.67,-101.87 166.67,-92.49\" />\n<polygon fill=\"#444443\" stroke=\"#444443\" stroke-width=\"0.3\" points=\"167.53,-91.37 163.65,-89.66 165.61,-93.42 167.53,-91.37\" />\n</g>\n\n<g id=\"node4\" class=\"node\">\n<title>node7</title>\n<svg height=\"48px\" version=\"1.1\" viewBox=\"0 0 196.23 63.782411\" width=\"147px\" preserveAspectRatio=\"xMinYMin meet\" x=\"150.5\" y=\"-262\">\n <metadata>\n  <rdf:RDF>\n   <ns2:Work>\n    <dc:type rdf:resource=\"http://purl.org/dc/dcmitype/StillImage\" />\n    <dc:date>2021-10-04T20:58:01.363250</dc:date>\n    <dc:format>image/svg+xml</dc:format>\n    <dc:creator>\n     <ns2:Agent>\n      <dc:title>Matplotlib v3.4.3, https://matplotlib.org/</dc:title>\n     </ns2:Agent>\n    </dc:creator>\n   </ns2:Work>\n  </rdf:RDF>\n </metadata>\n <defs>\n  <style type=\"text/css\">*{stroke-linecap:butt;stroke-linejoin:round;}</style>\n </defs>\n <g id=\"figure_1\">\n  <g id=\"patch_1\">\n   <path d=\"M 0 63.782411  L 196.23 63.782411  L 196.23 0  L 0 0  z \" style=\"fill:none;\" />\n  </g>\n  <g id=\"axes_1\">\n   <g id=\"patch_2\">\n    <path d=\"M 12.09 33.778661  L 196.23 33.778661  L 196.23 1.502411  L 12.09 1.502411  z \" style=\"fill:#ffffff;\" />\n   </g>\n   <g id=\"patch_3\">\n    <path clip-path=\"url(#p528c399d1d)\" d=\"M 14.419043 33.778661  L 24.522982 33.778661  L 24.522982 33.778661  L 14.419043 33.778661  z \" style=\"fill:#fefebb;stroke:#444443;stroke-linejoin:miter;stroke-width:0.5;\" />\n   </g>\n   <g id=\"patch_4\">\n    <path clip-path=\"url(#p528c399d1d)\" d=\"M 24.522982 33.778661  L 34.626921 33.778661  L 34.626921 33.778661  L 24.522982 33.778661  z \" style=\"fill:#fefebb;stroke:#444443;stroke-linejoin:miter;stroke-width:0.5;\" />\n   </g>\n   <g id=\"patch_5\">\n    <path clip-path=\"url(#p528c399d1d)\" d=\"M 34.626921 33.778661  L 44.730859 33.778661  L 44.730859 33.778661  L 34.626921 33.778661  z \" style=\"fill:#fefebb;stroke:#444443;stroke-linejoin:miter;stroke-width:0.5;\" />\n   </g>\n   <g id=\"patch_6\">\n    <path clip-path=\"url(#p528c399d1d)\" d=\"M 44.730859 33.778661  L 54.834798 33.778661  L 54.834798 33.778661  L 44.730859 33.778661  z \" style=\"fill:#fefebb;stroke:#444443;stroke-linejoin:miter;stroke-width:0.5;\" />\n   </g>\n   <g id=\"patch_7\">\n    <path clip-path=\"url(#p528c399d1d)\" d=\"M 54.834798 33.778661  L 64.938737 33.778661  L 64.938737 33.778661  L 54.834798 33.778661  z \" style=\"fill:#fefebb;stroke:#444443;stroke-linejoin:miter;stroke-width:0.5;\" />\n   </g>\n   <g id=\"patch_8\">\n    <path clip-path=\"url(#p528c399d1d)\" d=\"M 64.938737 33.778661  L 75.042675 33.778661  L 75.042675 33.778661  L 64.938737 33.778661  z \" style=\"fill:#fefebb;stroke:#444443;stroke-linejoin:miter;stroke-width:0.5;\" />\n   </g>\n   <g id=\"patch_9\">\n    <path clip-path=\"url(#p528c399d1d)\" d=\"M 75.042675 33.778661  L 85.146614 33.778661  L 85.146614 33.778661  L 75.042675 33.778661  z \" style=\"fill:#fefebb;stroke:#444443;stroke-linejoin:miter;stroke-width:0.5;\" />\n   </g>\n   <g id=\"patch_10\">\n    <path clip-path=\"url(#p528c399d1d)\" d=\"M 85.146614 33.778661  L 95.250552 33.778661  L 95.250552 33.778661  L 85.146614 33.778661  z \" style=\"fill:#fefebb;stroke:#444443;stroke-linejoin:miter;stroke-width:0.5;\" />\n   </g>\n   <g id=\"patch_11\">\n    <path clip-path=\"url(#p528c399d1d)\" d=\"M 95.250552 33.778661  L 105.354491 33.778661  L 105.354491 33.778661  L 95.250552 33.778661  z \" style=\"fill:#fefebb;stroke:#444443;stroke-linejoin:miter;stroke-width:0.5;\" />\n   </g>\n   <g id=\"patch_12\">\n    <path clip-path=\"url(#p528c399d1d)\" d=\"M 105.354491 33.778661  L 115.45843 33.778661  L 115.45843 33.778661  L 105.354491 33.778661  z \" style=\"fill:#fefebb;stroke:#444443;stroke-linejoin:miter;stroke-width:0.5;\" />\n   </g>\n   <g id=\"patch_13\">\n    <path clip-path=\"url(#p528c399d1d)\" d=\"M 115.45843 33.778661  L 125.562368 33.778661  L 125.562368 33.778661  L 115.45843 33.778661  z \" style=\"fill:#fefebb;stroke:#444443;stroke-linejoin:miter;stroke-width:0.5;\" />\n   </g>\n   <g id=\"patch_14\">\n    <path clip-path=\"url(#p528c399d1d)\" d=\"M 125.562368 33.778661  L 135.666307 33.778661  L 135.666307 33.778661  L 125.562368 33.778661  z \" style=\"fill:#fefebb;stroke:#444443;stroke-linejoin:miter;stroke-width:0.5;\" />\n   </g>\n   <g id=\"patch_15\">\n    <path clip-path=\"url(#p528c399d1d)\" d=\"M 135.666307 33.778661  L 145.770246 33.778661  L 145.770246 33.778661  L 135.666307 33.778661  z \" style=\"fill:#fefebb;stroke:#444443;stroke-linejoin:miter;stroke-width:0.5;\" />\n   </g>\n   <g id=\"patch_16\">\n    <path clip-path=\"url(#p528c399d1d)\" d=\"M 145.770246 33.778661  L 155.874184 33.778661  L 155.874184 33.778661  L 145.770246 33.778661  z \" style=\"fill:#fefebb;stroke:#444443;stroke-linejoin:miter;stroke-width:0.5;\" />\n   </g>\n   <g id=\"patch_17\">\n    <path clip-path=\"url(#p528c399d1d)\" d=\"M 155.874184 33.778661  L 165.978123 33.778661  L 165.978123 33.778661  L 155.874184 33.778661  z \" style=\"fill:#fefebb;stroke:#444443;stroke-linejoin:miter;stroke-width:0.5;\" />\n   </g>\n   <g id=\"patch_18\">\n    <path clip-path=\"url(#p528c399d1d)\" d=\"M 165.978123 33.778661  L 176.082061 33.778661  L 176.082061 33.778661  L 165.978123 33.778661  z \" style=\"fill:#fefebb;stroke:#444443;stroke-linejoin:miter;stroke-width:0.5;\" />\n   </g>\n   <g id=\"patch_19\">\n    <path clip-path=\"url(#p528c399d1d)\" d=\"M 176.082061 33.778661  L 186.186 33.778661  L 186.186 33.778661  L 176.082061 33.778661  z \" style=\"fill:#fefebb;stroke:#444443;stroke-linejoin:miter;stroke-width:0.5;\" />\n   </g>\n   <g id=\"patch_20\">\n    <path clip-path=\"url(#p528c399d1d)\" d=\"M 14.419043 33.778661  L 24.522982 33.778661  L 24.522982 33.778661  L 14.419043 33.778661  z \" style=\"fill:#d9e6f5;stroke:#444443;stroke-linejoin:miter;stroke-width:0.5;\" />\n   </g>\n   <g id=\"patch_21\">\n    <path clip-path=\"url(#p528c399d1d)\" d=\"M 24.522982 33.778661  L 34.626921 33.778661  L 34.626921 33.778661  L 24.522982 33.778661  z \" style=\"fill:#d9e6f5;stroke:#444443;stroke-linejoin:miter;stroke-width:0.5;\" />\n   </g>\n   <g id=\"patch_22\">\n    <path clip-path=\"url(#p528c399d1d)\" d=\"M 34.626921 33.778661  L 44.730859 33.778661  L 44.730859 33.778661  L 34.626921 33.778661  z \" style=\"fill:#d9e6f5;stroke:#444443;stroke-linejoin:miter;stroke-width:0.5;\" />\n   </g>\n   <g id=\"patch_23\">\n    <path clip-path=\"url(#p528c399d1d)\" d=\"M 44.730859 33.778661  L 54.834798 33.778661  L 54.834798 33.778661  L 44.730859 33.778661  z \" style=\"fill:#d9e6f5;stroke:#444443;stroke-linejoin:miter;stroke-width:0.5;\" />\n   </g>\n   <g id=\"patch_24\">\n    <path clip-path=\"url(#p528c399d1d)\" d=\"M 54.834798 33.778661  L 64.938737 33.778661  L 64.938737 33.778661  L 54.834798 33.778661  z \" style=\"fill:#d9e6f5;stroke:#444443;stroke-linejoin:miter;stroke-width:0.5;\" />\n   </g>\n   <g id=\"patch_25\">\n    <path clip-path=\"url(#p528c399d1d)\" d=\"M 64.938737 33.778661  L 75.042675 33.778661  L 75.042675 33.778661  L 64.938737 33.778661  z \" style=\"fill:#d9e6f5;stroke:#444443;stroke-linejoin:miter;stroke-width:0.5;\" />\n   </g>\n   <g id=\"patch_26\">\n    <path clip-path=\"url(#p528c399d1d)\" d=\"M 75.042675 33.778661  L 85.146614 33.778661  L 85.146614 33.778661  L 75.042675 33.778661  z \" style=\"fill:#d9e6f5;stroke:#444443;stroke-linejoin:miter;stroke-width:0.5;\" />\n   </g>\n   <g id=\"patch_27\">\n    <path clip-path=\"url(#p528c399d1d)\" d=\"M 85.146614 33.778661  L 95.250552 33.778661  L 95.250552 33.778661  L 85.146614 33.778661  z \" style=\"fill:#d9e6f5;stroke:#444443;stroke-linejoin:miter;stroke-width:0.5;\" />\n   </g>\n   <g id=\"patch_28\">\n    <path clip-path=\"url(#p528c399d1d)\" d=\"M 95.250552 33.778661  L 105.354491 33.778661  L 105.354491 33.778661  L 95.250552 33.778661  z \" style=\"fill:#d9e6f5;stroke:#444443;stroke-linejoin:miter;stroke-width:0.5;\" />\n   </g>\n   <g id=\"patch_29\">\n    <path clip-path=\"url(#p528c399d1d)\" d=\"M 105.354491 33.778661  L 115.45843 33.778661  L 115.45843 33.778661  L 105.354491 33.778661  z \" style=\"fill:#d9e6f5;stroke:#444443;stroke-linejoin:miter;stroke-width:0.5;\" />\n   </g>\n   <g id=\"patch_30\">\n    <path clip-path=\"url(#p528c399d1d)\" d=\"M 115.45843 33.778661  L 125.562368 33.778661  L 125.562368 28.655446  L 115.45843 28.655446  z \" style=\"fill:#d9e6f5;stroke:#444443;stroke-linejoin:miter;stroke-width:0.5;\" />\n   </g>\n   <g id=\"patch_31\">\n    <path clip-path=\"url(#p528c399d1d)\" d=\"M 125.562368 33.778661  L 135.666307 33.778661  L 135.666307 13.285804  L 125.562368 13.285804  z \" style=\"fill:#d9e6f5;stroke:#444443;stroke-linejoin:miter;stroke-width:0.5;\" />\n   </g>\n   <g id=\"patch_32\">\n    <path clip-path=\"url(#p528c399d1d)\" d=\"M 135.666307 33.778661  L 145.770246 33.778661  L 145.770246 33.778661  L 135.666307 33.778661  z \" style=\"fill:#d9e6f5;stroke:#444443;stroke-linejoin:miter;stroke-width:0.5;\" />\n   </g>\n   <g id=\"patch_33\">\n    <path clip-path=\"url(#p528c399d1d)\" d=\"M 145.770246 33.778661  L 155.874184 33.778661  L 155.874184 33.778661  L 145.770246 33.778661  z \" style=\"fill:#d9e6f5;stroke:#444443;stroke-linejoin:miter;stroke-width:0.5;\" />\n   </g>\n   <g id=\"patch_34\">\n    <path clip-path=\"url(#p528c399d1d)\" d=\"M 155.874184 33.778661  L 165.978123 33.778661  L 165.978123 33.778661  L 155.874184 33.778661  z \" style=\"fill:#d9e6f5;stroke:#444443;stroke-linejoin:miter;stroke-width:0.5;\" />\n   </g>\n   <g id=\"patch_35\">\n    <path clip-path=\"url(#p528c399d1d)\" d=\"M 165.978123 33.778661  L 176.082061 33.778661  L 176.082061 33.778661  L 165.978123 33.778661  z \" style=\"fill:#d9e6f5;stroke:#444443;stroke-linejoin:miter;stroke-width:0.5;\" />\n   </g>\n   <g id=\"patch_36\">\n    <path clip-path=\"url(#p528c399d1d)\" d=\"M 176.082061 33.778661  L 186.186 33.778661  L 186.186 33.778661  L 176.082061 33.778661  z \" style=\"fill:#d9e6f5;stroke:#444443;stroke-linejoin:miter;stroke-width:0.5;\" />\n   </g>\n   <g id=\"patch_37\">\n    <path clip-path=\"url(#p528c399d1d)\" d=\"M 14.419043 33.778661  L 24.522982 33.778661  L 24.522982 33.778661  L 14.419043 33.778661  z \" style=\"fill:#a1dab4;stroke:#444443;stroke-linejoin:miter;stroke-width:0.5;\" />\n   </g>\n   <g id=\"patch_38\">\n    <path clip-path=\"url(#p528c399d1d)\" d=\"M 24.522982 33.778661  L 34.626921 33.778661  L 34.626921 33.778661  L 24.522982 33.778661  z \" style=\"fill:#a1dab4;stroke:#444443;stroke-linejoin:miter;stroke-width:0.5;\" />\n   </g>\n   <g id=\"patch_39\">\n    <path clip-path=\"url(#p528c399d1d)\" d=\"M 34.626921 33.778661  L 44.730859 33.778661  L 44.730859 33.778661  L 34.626921 33.778661  z \" style=\"fill:#a1dab4;stroke:#444443;stroke-linejoin:miter;stroke-width:0.5;\" />\n   </g>\n   <g id=\"patch_40\">\n    <path clip-path=\"url(#p528c399d1d)\" d=\"M 44.730859 33.778661  L 54.834798 33.778661  L 54.834798 33.778661  L 44.730859 33.778661  z \" style=\"fill:#a1dab4;stroke:#444443;stroke-linejoin:miter;stroke-width:0.5;\" />\n   </g>\n   <g id=\"patch_41\">\n    <path clip-path=\"url(#p528c399d1d)\" d=\"M 54.834798 33.778661  L 64.938737 33.778661  L 64.938737 33.778661  L 54.834798 33.778661  z \" style=\"fill:#a1dab4;stroke:#444443;stroke-linejoin:miter;stroke-width:0.5;\" />\n   </g>\n   <g id=\"patch_42\">\n    <path clip-path=\"url(#p528c399d1d)\" d=\"M 64.938737 33.778661  L 75.042675 33.778661  L 75.042675 33.778661  L 64.938737 33.778661  z \" style=\"fill:#a1dab4;stroke:#444443;stroke-linejoin:miter;stroke-width:0.5;\" />\n   </g>\n   <g id=\"patch_43\">\n    <path clip-path=\"url(#p528c399d1d)\" d=\"M 75.042675 33.778661  L 85.146614 33.778661  L 85.146614 33.778661  L 75.042675 33.778661  z \" style=\"fill:#a1dab4;stroke:#444443;stroke-linejoin:miter;stroke-width:0.5;\" />\n   </g>\n   <g id=\"patch_44\">\n    <path clip-path=\"url(#p528c399d1d)\" d=\"M 85.146614 33.778661  L 95.250552 33.778661  L 95.250552 33.778661  L 85.146614 33.778661  z \" style=\"fill:#a1dab4;stroke:#444443;stroke-linejoin:miter;stroke-width:0.5;\" />\n   </g>\n   <g id=\"patch_45\">\n    <path clip-path=\"url(#p528c399d1d)\" d=\"M 95.250552 33.778661  L 105.354491 33.778661  L 105.354491 33.778661  L 95.250552 33.778661  z \" style=\"fill:#a1dab4;stroke:#444443;stroke-linejoin:miter;stroke-width:0.5;\" />\n   </g>\n   <g id=\"patch_46\">\n    <path clip-path=\"url(#p528c399d1d)\" d=\"M 105.354491 33.778661  L 115.45843 33.778661  L 115.45843 33.778661  L 105.354491 33.778661  z \" style=\"fill:#a1dab4;stroke:#444443;stroke-linejoin:miter;stroke-width:0.5;\" />\n   </g>\n   <g id=\"patch_47\">\n    <path clip-path=\"url(#p528c399d1d)\" d=\"M 115.45843 28.655446  L 125.562368 28.655446  L 125.562368 28.655446  L 115.45843 28.655446  z \" style=\"fill:#a1dab4;stroke:#444443;stroke-linejoin:miter;stroke-width:0.5;\" />\n   </g>\n   <g id=\"patch_48\">\n    <path clip-path=\"url(#p528c399d1d)\" d=\"M 125.562368 13.285804  L 135.666307 13.285804  L 135.666307 3.039375  L 125.562368 3.039375  z \" style=\"fill:#a1dab4;stroke:#444443;stroke-linejoin:miter;stroke-width:0.5;\" />\n   </g>\n   <g id=\"patch_49\">\n    <path clip-path=\"url(#p528c399d1d)\" d=\"M 135.666307 33.778661  L 145.770246 33.778661  L 145.770246 33.778661  L 135.666307 33.778661  z \" style=\"fill:#a1dab4;stroke:#444443;stroke-linejoin:miter;stroke-width:0.5;\" />\n   </g>\n   <g id=\"patch_50\">\n    <path clip-path=\"url(#p528c399d1d)\" d=\"M 145.770246 33.778661  L 155.874184 33.778661  L 155.874184 23.532232  L 145.770246 23.532232  z \" style=\"fill:#a1dab4;stroke:#444443;stroke-linejoin:miter;stroke-width:0.5;\" />\n   </g>\n   <g id=\"patch_51\">\n    <path clip-path=\"url(#p528c399d1d)\" d=\"M 155.874184 33.778661  L 165.978123 33.778661  L 165.978123 33.778661  L 155.874184 33.778661  z \" style=\"fill:#a1dab4;stroke:#444443;stroke-linejoin:miter;stroke-width:0.5;\" />\n   </g>\n   <g id=\"patch_52\">\n    <path clip-path=\"url(#p528c399d1d)\" d=\"M 165.978123 33.778661  L 176.082061 33.778661  L 176.082061 33.778661  L 165.978123 33.778661  z \" style=\"fill:#a1dab4;stroke:#444443;stroke-linejoin:miter;stroke-width:0.5;\" />\n   </g>\n   <g id=\"patch_53\">\n    <path clip-path=\"url(#p528c399d1d)\" d=\"M 176.082061 33.778661  L 186.186 33.778661  L 186.186 33.778661  L 176.082061 33.778661  z \" style=\"fill:#a1dab4;stroke:#444443;stroke-linejoin:miter;stroke-width:0.5;\" />\n   </g>\n   <g id=\"patch_54\">\n    <path d=\"M 129.415567 34.594061  L 126.101047 41.932661  L 132.730087 41.932661  z \" style=\"fill:#444443;\" />\n   </g>\n   <g id=\"matplotlib.axis_1\">\n    <g id=\"xtick_1\">\n     <g id=\"line2d_1\">\n      <defs>\n       <path d=\"M 0 0  L 0 3.5  \" id=\"m8a8db2cbbc\" style=\"stroke:#000000;stroke-width:0.3;\" />\n      </defs>\n      <g>\n       <use style=\"stroke:#000000;stroke-width:0.3;\" x=\"14.419043\" xlink:href=\"#m8a8db2cbbc\" y=\"33.778661\" />\n      </g>\n     </g>\n     <g id=\"text_1\">\n      \n      <g style=\"fill:#444443;\" transform=\"translate(8.057793 46.857411)scale(0.08 -0.08)\">\n       <defs>\n        <path d=\"M 794 531  L 1825 531  L 1825 4091  L 703 3866  L 703 4441  L 1819 4666  L 2450 4666  L 2450 531  L 3481 531  L 3481 0  L 794 0  L 794 531  z \" id=\"DejaVuSans-31\" transform=\"scale(0.015625)\" />\n        <path d=\"M 684 794  L 1344 794  L 1344 0  L 684 0  L 684 794  z \" id=\"DejaVuSans-2e\" transform=\"scale(0.015625)\" />\n        <path d=\"M 2034 4250  Q 1547 4250 1301 3770  Q 1056 3291 1056 2328  Q 1056 1369 1301 889  Q 1547 409 2034 409  Q 2525 409 2770 889  Q 3016 1369 3016 2328  Q 3016 3291 2770 3770  Q 2525 4250 2034 4250  z M 2034 4750  Q 2819 4750 3233 4129  Q 3647 3509 3647 2328  Q 3647 1150 3233 529  Q 2819 -91 2034 -91  Q 1250 -91 836 529  Q 422 1150 422 2328  Q 422 3509 836 4129  Q 1250 4750 2034 4750  z \" id=\"DejaVuSans-30\" transform=\"scale(0.015625)\" />\n       </defs>\n       <use xlink:href=\"#DejaVuSans-31\" />\n       <use x=\"63.623047\" xlink:href=\"#DejaVuSans-2e\" />\n       <use x=\"95.410156\" xlink:href=\"#DejaVuSans-30\" />\n      </g>\n     </g>\n    </g>\n    <g id=\"xtick_2\">\n     <g id=\"line2d_2\">\n      <g>\n       <use style=\"stroke:#000000;stroke-width:0.3;\" x=\"186.186\" xlink:href=\"#m8a8db2cbbc\" y=\"33.778661\" />\n      </g>\n     </g>\n     <g id=\"text_2\">\n      \n      <g style=\"fill:#444443;\" transform=\"translate(179.82475 46.857411)scale(0.08 -0.08)\">\n       <defs>\n        <path d=\"M 2113 2584  Q 1688 2584 1439 2293  Q 1191 2003 1191 1497  Q 1191 994 1439 701  Q 1688 409 2113 409  Q 2538 409 2786 701  Q 3034 994 3034 1497  Q 3034 2003 2786 2293  Q 2538 2584 2113 2584  z M 3366 4563  L 3366 3988  Q 3128 4100 2886 4159  Q 2644 4219 2406 4219  Q 1781 4219 1451 3797  Q 1122 3375 1075 2522  Q 1259 2794 1537 2939  Q 1816 3084 2150 3084  Q 2853 3084 3261 2657  Q 3669 2231 3669 1497  Q 3669 778 3244 343  Q 2819 -91 2113 -91  Q 1303 -91 875 529  Q 447 1150 447 2328  Q 447 3434 972 4092  Q 1497 4750 2381 4750  Q 2619 4750 2861 4703  Q 3103 4656 3366 4563  z \" id=\"DejaVuSans-36\" transform=\"scale(0.015625)\" />\n        <path d=\"M 703 97  L 703 672  Q 941 559 1184 500  Q 1428 441 1663 441  Q 2288 441 2617 861  Q 2947 1281 2994 2138  Q 2813 1869 2534 1725  Q 2256 1581 1919 1581  Q 1219 1581 811 2004  Q 403 2428 403 3163  Q 403 3881 828 4315  Q 1253 4750 1959 4750  Q 2769 4750 3195 4129  Q 3622 3509 3622 2328  Q 3622 1225 3098 567  Q 2575 -91 1691 -91  Q 1453 -91 1209 -44  Q 966 3 703 97  z M 1959 2075  Q 2384 2075 2632 2365  Q 2881 2656 2881 3163  Q 2881 3666 2632 3958  Q 2384 4250 1959 4250  Q 1534 4250 1286 3958  Q 1038 3666 1038 3163  Q 1038 2656 1286 2365  Q 1534 2075 1959 2075  z \" id=\"DejaVuSans-39\" transform=\"scale(0.015625)\" />\n       </defs>\n       <use xlink:href=\"#DejaVuSans-36\" />\n       <use x=\"63.623047\" xlink:href=\"#DejaVuSans-2e\" />\n       <use x=\"95.410156\" xlink:href=\"#DejaVuSans-39\" />\n      </g>\n     </g>\n    </g>\n    <g id=\"text_3\">\n     \n     <g style=\"fill:#444443;\" transform=\"translate(59.476875 61.256786)scale(0.12 -0.12)\">\n      <defs>\n       <path d=\"M 422 -1272  L 422 3319  L 934 3319  L 934 2888  Q 1116 3141 1344 3267  Q 1572 3394 1897 3394  Q 2322 3394 2647 3175  Q 2972 2956 3137 2557  Q 3303 2159 3303 1684  Q 3303 1175 3120 767  Q 2938 359 2589 142  Q 2241 -75 1856 -75  Q 1575 -75 1351 44  Q 1128 163 984 344  L 984 -1272  L 422 -1272  z M 931 1641  Q 931 1000 1190 694  Q 1450 388 1819 388  Q 2194 388 2461 705  Q 2728 1022 2728 1688  Q 2728 2322 2467 2637  Q 2206 2953 1844 2953  Q 1484 2953 1207 2617  Q 931 2281 931 1641  z \" id=\"ArialMT-70\" transform=\"scale(0.015625)\" />\n       <path d=\"M 2694 1069  L 3275 997  Q 3138 488 2766 206  Q 2394 -75 1816 -75  Q 1088 -75 661 373  Q 234 822 234 1631  Q 234 2469 665 2931  Q 1097 3394 1784 3394  Q 2450 3394 2872 2941  Q 3294 2488 3294 1666  Q 3294 1616 3291 1516  L 816 1516  Q 847 969 1125 678  Q 1403 388 1819 388  Q 2128 388 2347 550  Q 2566 713 2694 1069  z M 847 1978  L 2700 1978  Q 2663 2397 2488 2606  Q 2219 2931 1791 2931  Q 1403 2931 1139 2672  Q 875 2413 847 1978  z \" id=\"ArialMT-65\" transform=\"scale(0.015625)\" />\n       <path d=\"M 1650 503  L 1731 6  Q 1494 -44 1306 -44  Q 1000 -44 831 53  Q 663 150 594 308  Q 525 466 525 972  L 525 2881  L 113 2881  L 113 3319  L 525 3319  L 525 4141  L 1084 4478  L 1084 3319  L 1650 3319  L 1650 2881  L 1084 2881  L 1084 941  Q 1084 700 1114 631  Q 1144 563 1211 522  Q 1278 481 1403 481  Q 1497 481 1650 503  z \" id=\"ArialMT-74\" transform=\"scale(0.015625)\" />\n       <path d=\"M 2588 409  Q 2275 144 1986 34  Q 1697 -75 1366 -75  Q 819 -75 525 192  Q 231 459 231 875  Q 231 1119 342 1320  Q 453 1522 633 1644  Q 813 1766 1038 1828  Q 1203 1872 1538 1913  Q 2219 1994 2541 2106  Q 2544 2222 2544 2253  Q 2544 2597 2384 2738  Q 2169 2928 1744 2928  Q 1347 2928 1158 2789  Q 969 2650 878 2297  L 328 2372  Q 403 2725 575 2942  Q 747 3159 1072 3276  Q 1397 3394 1825 3394  Q 2250 3394 2515 3294  Q 2781 3194 2906 3042  Q 3031 2891 3081 2659  Q 3109 2516 3109 2141  L 3109 1391  Q 3109 606 3145 398  Q 3181 191 3288 0  L 2700 0  Q 2613 175 2588 409  z M 2541 1666  Q 2234 1541 1622 1453  Q 1275 1403 1131 1340  Q 988 1278 909 1158  Q 831 1038 831 891  Q 831 666 1001 516  Q 1172 366 1500 366  Q 1825 366 2078 508  Q 2331 650 2450 897  Q 2541 1088 2541 1459  L 2541 1666  z \" id=\"ArialMT-61\" transform=\"scale(0.015625)\" />\n       <path d=\"M 409 0  L 409 4581  L 972 4581  L 972 0  L 409 0  z \" id=\"ArialMT-6c\" transform=\"scale(0.015625)\" />\n       <path id=\"ArialMT-20\" transform=\"scale(0.015625)\" />\n       <path d=\"M 422 0  L 422 3319  L 928 3319  L 928 2847  Q 1294 3394 1984 3394  Q 2284 3394 2536 3286  Q 2788 3178 2913 3003  Q 3038 2828 3088 2588  Q 3119 2431 3119 2041  L 3119 0  L 2556 0  L 2556 2019  Q 2556 2363 2490 2533  Q 2425 2703 2258 2804  Q 2091 2906 1866 2906  Q 1506 2906 1245 2678  Q 984 2450 984 1813  L 984 0  L 422 0  z \" id=\"ArialMT-6e\" transform=\"scale(0.015625)\" />\n       <path d=\"M 319 -275  L 866 -356  Q 900 -609 1056 -725  Q 1266 -881 1628 -881  Q 2019 -881 2231 -725  Q 2444 -569 2519 -288  Q 2563 -116 2559 434  Q 2191 0 1641 0  Q 956 0 581 494  Q 206 988 206 1678  Q 206 2153 378 2554  Q 550 2956 876 3175  Q 1203 3394 1644 3394  Q 2231 3394 2613 2919  L 2613 3319  L 3131 3319  L 3131 450  Q 3131 -325 2973 -648  Q 2816 -972 2473 -1159  Q 2131 -1347 1631 -1347  Q 1038 -1347 672 -1080  Q 306 -813 319 -275  z M 784 1719  Q 784 1066 1043 766  Q 1303 466 1694 466  Q 2081 466 2343 764  Q 2606 1063 2606 1700  Q 2606 2309 2336 2618  Q 2066 2928 1684 2928  Q 1309 2928 1046 2623  Q 784 2319 784 1719  z \" id=\"ArialMT-67\" transform=\"scale(0.015625)\" />\n       <path d=\"M 422 0  L 422 4581  L 984 4581  L 984 2938  Q 1378 3394 1978 3394  Q 2347 3394 2619 3248  Q 2891 3103 3008 2847  Q 3125 2591 3125 2103  L 3125 0  L 2563 0  L 2563 2103  Q 2563 2525 2380 2717  Q 2197 2909 1863 2909  Q 1613 2909 1392 2779  Q 1172 2650 1078 2428  Q 984 2206 984 1816  L 984 0  L 422 0  z \" id=\"ArialMT-68\" transform=\"scale(0.015625)\" />\n       <path d=\"M 1497 -1347  Q 1031 -759 709 28  Q 388 816 388 1659  Q 388 2403 628 3084  Q 909 3875 1497 4659  L 1900 4659  Q 1522 4009 1400 3731  Q 1209 3300 1100 2831  Q 966 2247 966 1656  Q 966 153 1900 -1347  L 1497 -1347  z \" id=\"ArialMT-28\" transform=\"scale(0.015625)\" />\n       <path d=\"M 2588 1216  L 3141 1144  Q 3050 572 2676 248  Q 2303 -75 1759 -75  Q 1078 -75 664 370  Q 250 816 250 1647  Q 250 2184 428 2587  Q 606 2991 970 3192  Q 1334 3394 1763 3394  Q 2303 3394 2647 3120  Q 2991 2847 3088 2344  L 2541 2259  Q 2463 2594 2264 2762  Q 2066 2931 1784 2931  Q 1359 2931 1093 2626  Q 828 2322 828 1663  Q 828 994 1084 691  Q 1341 388 1753 388  Q 2084 388 2306 591  Q 2528 794 2588 1216  z \" id=\"ArialMT-63\" transform=\"scale(0.015625)\" />\n       <path d=\"M 422 0  L 422 3319  L 925 3319  L 925 2853  Q 1081 3097 1340 3245  Q 1600 3394 1931 3394  Q 2300 3394 2536 3241  Q 2772 3088 2869 2813  Q 3263 3394 3894 3394  Q 4388 3394 4653 3120  Q 4919 2847 4919 2278  L 4919 0  L 4359 0  L 4359 2091  Q 4359 2428 4304 2576  Q 4250 2725 4106 2815  Q 3963 2906 3769 2906  Q 3419 2906 3187 2673  Q 2956 2441 2956 1928  L 2956 0  L 2394 0  L 2394 2156  Q 2394 2531 2256 2718  Q 2119 2906 1806 2906  Q 1569 2906 1367 2781  Q 1166 2656 1075 2415  Q 984 2175 984 1722  L 984 0  L 422 0  z \" id=\"ArialMT-6d\" transform=\"scale(0.015625)\" />\n       <path d=\"M 791 -1347  L 388 -1347  Q 1322 153 1322 1656  Q 1322 2244 1188 2822  Q 1081 3291 891 3722  Q 769 4003 388 4659  L 791 4659  Q 1378 3875 1659 3084  Q 1900 2403 1900 1659  Q 1900 816 1576 28  Q 1253 -759 791 -1347  z \" id=\"ArialMT-29\" transform=\"scale(0.015625)\" />\n      </defs>\n      <use xlink:href=\"#ArialMT-70\" />\n      <use x=\"55.615234\" xlink:href=\"#ArialMT-65\" />\n      <use x=\"111.230469\" xlink:href=\"#ArialMT-74\" />\n      <use x=\"139.013672\" xlink:href=\"#ArialMT-61\" />\n      <use x=\"194.628906\" xlink:href=\"#ArialMT-6c\" />\n      <use x=\"216.845703\" xlink:href=\"#ArialMT-20\" />\n      <use x=\"244.628906\" xlink:href=\"#ArialMT-6c\" />\n      <use x=\"266.845703\" xlink:href=\"#ArialMT-65\" />\n      <use x=\"322.460938\" xlink:href=\"#ArialMT-6e\" />\n      <use x=\"378.076172\" xlink:href=\"#ArialMT-67\" />\n      <use x=\"433.691406\" xlink:href=\"#ArialMT-74\" />\n      <use x=\"461.474609\" xlink:href=\"#ArialMT-68\" />\n      <use x=\"517.089844\" xlink:href=\"#ArialMT-20\" />\n      <use x=\"544.873047\" xlink:href=\"#ArialMT-28\" />\n      <use x=\"578.173828\" xlink:href=\"#ArialMT-63\" />\n      <use x=\"628.173828\" xlink:href=\"#ArialMT-6d\" />\n      <use x=\"711.474609\" xlink:href=\"#ArialMT-29\" />\n     </g>\n    </g>\n   </g>\n   <g id=\"matplotlib.axis_2\">\n    <g id=\"ytick_1\">\n     <g id=\"line2d_3\">\n      <defs>\n       <path d=\"M 0 0  L -3.5 0  \" id=\"m677160502e\" style=\"stroke:#000000;stroke-width:0.3;\" />\n      </defs>\n      <g>\n       <use style=\"stroke:#000000;stroke-width:0.3;\" x=\"12.09\" xlink:href=\"#m677160502e\" y=\"33.778661\" />\n      </g>\n     </g>\n     <g id=\"text_4\">\n      \n      <g style=\"fill:#444443;\" transform=\"translate(0 36.818036)scale(0.08 -0.08)\">\n       <use xlink:href=\"#DejaVuSans-30\" />\n      </g>\n     </g>\n    </g>\n    <g id=\"ytick_2\">\n     <g id=\"line2d_4\">\n      <g>\n       <use style=\"stroke:#000000;stroke-width:0.3;\" x=\"12.09\" xlink:href=\"#m677160502e\" y=\"3.039375\" />\n      </g>\n     </g>\n     <g id=\"text_5\">\n      \n      <g style=\"fill:#444443;\" transform=\"translate(0 6.07875)scale(0.08 -0.08)\">\n       <use xlink:href=\"#DejaVuSans-36\" />\n      </g>\n     </g>\n    </g>\n   </g>\n   <g id=\"patch_55\">\n    <path d=\"M 12.09 33.778661  L 12.09 1.502411  \" style=\"fill:none;stroke:#000000;stroke-linecap:square;stroke-linejoin:miter;stroke-width:0.3;\" />\n   </g>\n   <g id=\"patch_56\">\n    <path d=\"M 12.09 33.778661  L 196.23 33.778661  \" style=\"fill:none;stroke:#000000;stroke-linecap:square;stroke-linejoin:miter;stroke-width:0.3;\" />\n   </g>\n   <g id=\"text_6\">\n    \n    <g style=\"fill:#444443;\" transform=\"translate(121.631192 50.086661)scale(0.08 -0.08)\">\n     <defs>\n      <path d=\"M 2069 0  L 2069 1097  L 81 1097  L 81 1613  L 2172 4581  L 2631 4581  L 2631 1613  L 3250 1613  L 3250 1097  L 2631 1097  L 2631 0  L 2069 0  z M 2069 1613  L 2069 3678  L 634 1613  L 2069 1613  z \" id=\"ArialMT-34\" transform=\"scale(0.015625)\" />\n      <path d=\"M 581 0  L 581 641  L 1222 641  L 1222 0  L 581 0  z \" id=\"ArialMT-2e\" transform=\"scale(0.015625)\" />\n      <path d=\"M 350 1059  L 891 1109  Q 959 728 1153 556  Q 1347 384 1650 384  Q 1909 384 2104 503  Q 2300 622 2425 820  Q 2550 1019 2634 1356  Q 2719 1694 2719 2044  Q 2719 2081 2716 2156  Q 2547 1888 2255 1720  Q 1963 1553 1622 1553  Q 1053 1553 659 1965  Q 266 2378 266 3053  Q 266 3750 677 4175  Q 1088 4600 1706 4600  Q 2153 4600 2523 4359  Q 2894 4119 3086 3673  Q 3278 3228 3278 2384  Q 3278 1506 3087 986  Q 2897 466 2520 194  Q 2144 -78 1638 -78  Q 1100 -78 759 220  Q 419 519 350 1059  z M 2653 3081  Q 2653 3566 2395 3850  Q 2138 4134 1775 4134  Q 1400 4134 1122 3828  Q 844 3522 844 3034  Q 844 2597 1108 2323  Q 1372 2050 1759 2050  Q 2150 2050 2401 2323  Q 2653 2597 2653 3081  z \" id=\"ArialMT-39\" transform=\"scale(0.015625)\" />\n      <path d=\"M 266 1200  L 856 1250  Q 922 819 1161 601  Q 1400 384 1738 384  Q 2144 384 2425 690  Q 2706 997 2706 1503  Q 2706 1984 2436 2262  Q 2166 2541 1728 2541  Q 1456 2541 1237 2417  Q 1019 2294 894 2097  L 366 2166  L 809 4519  L 3088 4519  L 3088 3981  L 1259 3981  L 1013 2750  Q 1425 3038 1878 3038  Q 2478 3038 2890 2622  Q 3303 2206 3303 1553  Q 3303 931 2941 478  Q 2500 -78 1738 -78  Q 1113 -78 717 272  Q 322 622 266 1200  z \" id=\"ArialMT-35\" transform=\"scale(0.015625)\" />\n     </defs>\n     <use xlink:href=\"#ArialMT-34\" />\n     <use x=\"55.615234\" xlink:href=\"#ArialMT-2e\" />\n     <use x=\"83.398438\" xlink:href=\"#ArialMT-39\" />\n     <use x=\"139.013672\" xlink:href=\"#ArialMT-35\" />\n    </g>\n   </g>\n  </g>\n </g>\n <defs>\n  <clipPath id=\"p528c399d1d\">\n   <rect height=\"32.27625\" width=\"184.14\" x=\"12.09\" y=\"1.502411\" />\n  </clipPath>\n </defs>\n</svg></g>\n\n<g id=\"edge11\" class=\"edge\">\n<title>node7-&gt;node9</title>\n<path fill=\"none\" stroke=\"#444443\" stroke-width=\"0.3\" d=\"M225.11,-209.8C225.61,-201.34 226.17,-191.96 226.68,-183.27\" />\n<polygon fill=\"#444443\" stroke=\"#444443\" stroke-width=\"0.3\" points=\"228.09,-183.15 226.93,-179.07 225.29,-182.98 228.09,-183.15\" />\n</g>\n\n<g id=\"node6\" class=\"node\">\n<title>node14</title>\n<svg height=\"57px\" version=\"1.1\" viewBox=\"0 0 201.32 76.725268\" width=\"151px\" preserveAspectRatio=\"xMinYMin meet\" x=\"319.5\" y=\"-266\">\n <metadata>\n  <rdf:RDF>\n   <ns2:Work>\n    <dc:type rdf:resource=\"http://purl.org/dc/dcmitype/StillImage\" />\n    <dc:date>2021-10-04T20:58:01.720254</dc:date>\n    <dc:format>image/svg+xml</dc:format>\n    <dc:creator>\n     <ns2:Agent>\n      <dc:title>Matplotlib v3.4.3, https://matplotlib.org/</dc:title>\n     </ns2:Agent>\n    </dc:creator>\n   </ns2:Work>\n  </rdf:RDF>\n </metadata>\n <defs>\n  <style type=\"text/css\">*{stroke-linecap:butt;stroke-linejoin:round;}</style>\n </defs>\n <g id=\"figure_1\">\n  <g id=\"patch_1\">\n   <path d=\"M 0 76.725268  L 201.32 76.725268  L 201.32 0  L 0 0  z \" style=\"fill:none;\" />\n  </g>\n  <g id=\"axes_1\">\n   <g id=\"patch_2\">\n    <path d=\"M 17.18 46.721518  L 201.32 46.721518  L 201.32 0.855268  L 17.18 0.855268  z \" style=\"fill:#ffffff;\" />\n   </g>\n   <g id=\"patch_3\">\n    <path clip-path=\"url(#p846333d26a)\" d=\"M 19.509043 46.721518  L 29.612982 46.721518  L 29.612982 46.721518  L 19.509043 46.721518  z \" style=\"fill:#fefebb;stroke:#444443;stroke-linejoin:miter;stroke-width:0.5;\" />\n   </g>\n   <g id=\"patch_4\">\n    <path clip-path=\"url(#p846333d26a)\" d=\"M 29.612982 46.721518  L 39.716921 46.721518  L 39.716921 46.721518  L 29.612982 46.721518  z \" style=\"fill:#fefebb;stroke:#444443;stroke-linejoin:miter;stroke-width:0.5;\" />\n   </g>\n   <g id=\"patch_5\">\n    <path clip-path=\"url(#p846333d26a)\" d=\"M 39.716921 46.721518  L 49.820859 46.721518  L 49.820859 46.721518  L 39.716921 46.721518  z \" style=\"fill:#fefebb;stroke:#444443;stroke-linejoin:miter;stroke-width:0.5;\" />\n   </g>\n   <g id=\"patch_6\">\n    <path clip-path=\"url(#p846333d26a)\" d=\"M 49.820859 46.721518  L 59.924798 46.721518  L 59.924798 46.721518  L 49.820859 46.721518  z \" style=\"fill:#fefebb;stroke:#444443;stroke-linejoin:miter;stroke-width:0.5;\" />\n   </g>\n   <g id=\"patch_7\">\n    <path clip-path=\"url(#p846333d26a)\" d=\"M 59.924798 46.721518  L 70.028737 46.721518  L 70.028737 46.721518  L 59.924798 46.721518  z \" style=\"fill:#fefebb;stroke:#444443;stroke-linejoin:miter;stroke-width:0.5;\" />\n   </g>\n   <g id=\"patch_8\">\n    <path clip-path=\"url(#p846333d26a)\" d=\"M 70.028737 46.721518  L 80.132675 46.721518  L 80.132675 46.721518  L 70.028737 46.721518  z \" style=\"fill:#fefebb;stroke:#444443;stroke-linejoin:miter;stroke-width:0.5;\" />\n   </g>\n   <g id=\"patch_9\">\n    <path clip-path=\"url(#p846333d26a)\" d=\"M 80.132675 46.721518  L 90.236614 46.721518  L 90.236614 46.721518  L 80.132675 46.721518  z \" style=\"fill:#fefebb;stroke:#444443;stroke-linejoin:miter;stroke-width:0.5;\" />\n   </g>\n   <g id=\"patch_10\">\n    <path clip-path=\"url(#p846333d26a)\" d=\"M 90.236614 46.721518  L 100.340552 46.721518  L 100.340552 46.721518  L 90.236614 46.721518  z \" style=\"fill:#fefebb;stroke:#444443;stroke-linejoin:miter;stroke-width:0.5;\" />\n   </g>\n   <g id=\"patch_11\">\n    <path clip-path=\"url(#p846333d26a)\" d=\"M 100.340552 46.721518  L 110.444491 46.721518  L 110.444491 46.721518  L 100.340552 46.721518  z \" style=\"fill:#fefebb;stroke:#444443;stroke-linejoin:miter;stroke-width:0.5;\" />\n   </g>\n   <g id=\"patch_12\">\n    <path clip-path=\"url(#p846333d26a)\" d=\"M 110.444491 46.721518  L 120.54843 46.721518  L 120.54843 46.721518  L 110.444491 46.721518  z \" style=\"fill:#fefebb;stroke:#444443;stroke-linejoin:miter;stroke-width:0.5;\" />\n   </g>\n   <g id=\"patch_13\">\n    <path clip-path=\"url(#p846333d26a)\" d=\"M 120.54843 46.721518  L 130.652368 46.721518  L 130.652368 46.721518  L 120.54843 46.721518  z \" style=\"fill:#fefebb;stroke:#444443;stroke-linejoin:miter;stroke-width:0.5;\" />\n   </g>\n   <g id=\"patch_14\">\n    <path clip-path=\"url(#p846333d26a)\" d=\"M 130.652368 46.721518  L 140.756307 46.721518  L 140.756307 46.721518  L 130.652368 46.721518  z \" style=\"fill:#fefebb;stroke:#444443;stroke-linejoin:miter;stroke-width:0.5;\" />\n   </g>\n   <g id=\"patch_15\">\n    <path clip-path=\"url(#p846333d26a)\" d=\"M 140.756307 46.721518  L 150.860246 46.721518  L 150.860246 46.721518  L 140.756307 46.721518  z \" style=\"fill:#fefebb;stroke:#444443;stroke-linejoin:miter;stroke-width:0.5;\" />\n   </g>\n   <g id=\"patch_16\">\n    <path clip-path=\"url(#p846333d26a)\" d=\"M 150.860246 46.721518  L 160.964184 46.721518  L 160.964184 46.721518  L 150.860246 46.721518  z \" style=\"fill:#fefebb;stroke:#444443;stroke-linejoin:miter;stroke-width:0.5;\" />\n   </g>\n   <g id=\"patch_17\">\n    <path clip-path=\"url(#p846333d26a)\" d=\"M 160.964184 46.721518  L 171.068123 46.721518  L 171.068123 46.721518  L 160.964184 46.721518  z \" style=\"fill:#fefebb;stroke:#444443;stroke-linejoin:miter;stroke-width:0.5;\" />\n   </g>\n   <g id=\"patch_18\">\n    <path clip-path=\"url(#p846333d26a)\" d=\"M 171.068123 46.721518  L 181.172061 46.721518  L 181.172061 46.721518  L 171.068123 46.721518  z \" style=\"fill:#fefebb;stroke:#444443;stroke-linejoin:miter;stroke-width:0.5;\" />\n   </g>\n   <g id=\"patch_19\">\n    <path clip-path=\"url(#p846333d26a)\" d=\"M 181.172061 46.721518  L 191.276 46.721518  L 191.276 46.721518  L 181.172061 46.721518  z \" style=\"fill:#fefebb;stroke:#444443;stroke-linejoin:miter;stroke-width:0.5;\" />\n   </g>\n   <g id=\"patch_20\">\n    <path clip-path=\"url(#p846333d26a)\" d=\"M 19.509043 46.721518  L 29.612982 46.721518  L 29.612982 46.721518  L 19.509043 46.721518  z \" style=\"fill:#d9e6f5;stroke:#444443;stroke-linejoin:miter;stroke-width:0.5;\" />\n   </g>\n   <g id=\"patch_21\">\n    <path clip-path=\"url(#p846333d26a)\" d=\"M 29.612982 46.721518  L 39.716921 46.721518  L 39.716921 46.721518  L 29.612982 46.721518  z \" style=\"fill:#d9e6f5;stroke:#444443;stroke-linejoin:miter;stroke-width:0.5;\" />\n   </g>\n   <g id=\"patch_22\">\n    <path clip-path=\"url(#p846333d26a)\" d=\"M 39.716921 46.721518  L 49.820859 46.721518  L 49.820859 46.721518  L 39.716921 46.721518  z \" style=\"fill:#d9e6f5;stroke:#444443;stroke-linejoin:miter;stroke-width:0.5;\" />\n   </g>\n   <g id=\"patch_23\">\n    <path clip-path=\"url(#p846333d26a)\" d=\"M 49.820859 46.721518  L 59.924798 46.721518  L 59.924798 46.721518  L 49.820859 46.721518  z \" style=\"fill:#d9e6f5;stroke:#444443;stroke-linejoin:miter;stroke-width:0.5;\" />\n   </g>\n   <g id=\"patch_24\">\n    <path clip-path=\"url(#p846333d26a)\" d=\"M 59.924798 46.721518  L 70.028737 46.721518  L 70.028737 46.721518  L 59.924798 46.721518  z \" style=\"fill:#d9e6f5;stroke:#444443;stroke-linejoin:miter;stroke-width:0.5;\" />\n   </g>\n   <g id=\"patch_25\">\n    <path clip-path=\"url(#p846333d26a)\" d=\"M 70.028737 46.721518  L 80.132675 46.721518  L 80.132675 46.721518  L 70.028737 46.721518  z \" style=\"fill:#d9e6f5;stroke:#444443;stroke-linejoin:miter;stroke-width:0.5;\" />\n   </g>\n   <g id=\"patch_26\">\n    <path clip-path=\"url(#p846333d26a)\" d=\"M 80.132675 46.721518  L 90.236614 46.721518  L 90.236614 46.721518  L 80.132675 46.721518  z \" style=\"fill:#d9e6f5;stroke:#444443;stroke-linejoin:miter;stroke-width:0.5;\" />\n   </g>\n   <g id=\"patch_27\">\n    <path clip-path=\"url(#p846333d26a)\" d=\"M 90.236614 46.721518  L 100.340552 46.721518  L 100.340552 46.721518  L 90.236614 46.721518  z \" style=\"fill:#d9e6f5;stroke:#444443;stroke-linejoin:miter;stroke-width:0.5;\" />\n   </g>\n   <g id=\"patch_28\">\n    <path clip-path=\"url(#p846333d26a)\" d=\"M 100.340552 46.721518  L 110.444491 46.721518  L 110.444491 46.721518  L 100.340552 46.721518  z \" style=\"fill:#d9e6f5;stroke:#444443;stroke-linejoin:miter;stroke-width:0.5;\" />\n   </g>\n   <g id=\"patch_29\">\n    <path clip-path=\"url(#p846333d26a)\" d=\"M 110.444491 46.721518  L 120.54843 46.721518  L 120.54843 46.721518  L 110.444491 46.721518  z \" style=\"fill:#d9e6f5;stroke:#444443;stroke-linejoin:miter;stroke-width:0.5;\" />\n   </g>\n   <g id=\"patch_30\">\n    <path clip-path=\"url(#p846333d26a)\" d=\"M 120.54843 46.721518  L 130.652368 46.721518  L 130.652368 42.750414  L 120.54843 42.750414  z \" style=\"fill:#d9e6f5;stroke:#444443;stroke-linejoin:miter;stroke-width:0.5;\" />\n   </g>\n   <g id=\"patch_31\">\n    <path clip-path=\"url(#p846333d26a)\" d=\"M 130.652368 46.721518  L 140.756307 46.721518  L 140.756307 46.721518  L 130.652368 46.721518  z \" style=\"fill:#d9e6f5;stroke:#444443;stroke-linejoin:miter;stroke-width:0.5;\" />\n   </g>\n   <g id=\"patch_32\">\n    <path clip-path=\"url(#p846333d26a)\" d=\"M 140.756307 46.721518  L 150.860246 46.721518  L 150.860246 46.721518  L 140.756307 46.721518  z \" style=\"fill:#d9e6f5;stroke:#444443;stroke-linejoin:miter;stroke-width:0.5;\" />\n   </g>\n   <g id=\"patch_33\">\n    <path clip-path=\"url(#p846333d26a)\" d=\"M 150.860246 46.721518  L 160.964184 46.721518  L 160.964184 46.721518  L 150.860246 46.721518  z \" style=\"fill:#d9e6f5;stroke:#444443;stroke-linejoin:miter;stroke-width:0.5;\" />\n   </g>\n   <g id=\"patch_34\">\n    <path clip-path=\"url(#p846333d26a)\" d=\"M 160.964184 46.721518  L 171.068123 46.721518  L 171.068123 46.721518  L 160.964184 46.721518  z \" style=\"fill:#d9e6f5;stroke:#444443;stroke-linejoin:miter;stroke-width:0.5;\" />\n   </g>\n   <g id=\"patch_35\">\n    <path clip-path=\"url(#p846333d26a)\" d=\"M 171.068123 46.721518  L 181.172061 46.721518  L 181.172061 46.721518  L 171.068123 46.721518  z \" style=\"fill:#d9e6f5;stroke:#444443;stroke-linejoin:miter;stroke-width:0.5;\" />\n   </g>\n   <g id=\"patch_36\">\n    <path clip-path=\"url(#p846333d26a)\" d=\"M 181.172061 46.721518  L 191.276 46.721518  L 191.276 46.721518  L 181.172061 46.721518  z \" style=\"fill:#d9e6f5;stroke:#444443;stroke-linejoin:miter;stroke-width:0.5;\" />\n   </g>\n   <g id=\"patch_37\">\n    <path clip-path=\"url(#p846333d26a)\" d=\"M 19.509043 46.721518  L 29.612982 46.721518  L 29.612982 46.721518  L 19.509043 46.721518  z \" style=\"fill:#a1dab4;stroke:#444443;stroke-linejoin:miter;stroke-width:0.5;\" />\n   </g>\n   <g id=\"patch_38\">\n    <path clip-path=\"url(#p846333d26a)\" d=\"M 29.612982 46.721518  L 39.716921 46.721518  L 39.716921 46.721518  L 29.612982 46.721518  z \" style=\"fill:#a1dab4;stroke:#444443;stroke-linejoin:miter;stroke-width:0.5;\" />\n   </g>\n   <g id=\"patch_39\">\n    <path clip-path=\"url(#p846333d26a)\" d=\"M 39.716921 46.721518  L 49.820859 46.721518  L 49.820859 46.721518  L 39.716921 46.721518  z \" style=\"fill:#a1dab4;stroke:#444443;stroke-linejoin:miter;stroke-width:0.5;\" />\n   </g>\n   <g id=\"patch_40\">\n    <path clip-path=\"url(#p846333d26a)\" d=\"M 49.820859 46.721518  L 59.924798 46.721518  L 59.924798 46.721518  L 49.820859 46.721518  z \" style=\"fill:#a1dab4;stroke:#444443;stroke-linejoin:miter;stroke-width:0.5;\" />\n   </g>\n   <g id=\"patch_41\">\n    <path clip-path=\"url(#p846333d26a)\" d=\"M 59.924798 46.721518  L 70.028737 46.721518  L 70.028737 46.721518  L 59.924798 46.721518  z \" style=\"fill:#a1dab4;stroke:#444443;stroke-linejoin:miter;stroke-width:0.5;\" />\n   </g>\n   <g id=\"patch_42\">\n    <path clip-path=\"url(#p846333d26a)\" d=\"M 70.028737 46.721518  L 80.132675 46.721518  L 80.132675 46.721518  L 70.028737 46.721518  z \" style=\"fill:#a1dab4;stroke:#444443;stroke-linejoin:miter;stroke-width:0.5;\" />\n   </g>\n   <g id=\"patch_43\">\n    <path clip-path=\"url(#p846333d26a)\" d=\"M 80.132675 46.721518  L 90.236614 46.721518  L 90.236614 46.721518  L 80.132675 46.721518  z \" style=\"fill:#a1dab4;stroke:#444443;stroke-linejoin:miter;stroke-width:0.5;\" />\n   </g>\n   <g id=\"patch_44\">\n    <path clip-path=\"url(#p846333d26a)\" d=\"M 90.236614 46.721518  L 100.340552 46.721518  L 100.340552 46.721518  L 90.236614 46.721518  z \" style=\"fill:#a1dab4;stroke:#444443;stroke-linejoin:miter;stroke-width:0.5;\" />\n   </g>\n   <g id=\"patch_45\">\n    <path clip-path=\"url(#p846333d26a)\" d=\"M 100.340552 46.721518  L 110.444491 46.721518  L 110.444491 46.721518  L 100.340552 46.721518  z \" style=\"fill:#a1dab4;stroke:#444443;stroke-linejoin:miter;stroke-width:0.5;\" />\n   </g>\n   <g id=\"patch_46\">\n    <path clip-path=\"url(#p846333d26a)\" d=\"M 110.444491 46.721518  L 120.54843 46.721518  L 120.54843 46.721518  L 110.444491 46.721518  z \" style=\"fill:#a1dab4;stroke:#444443;stroke-linejoin:miter;stroke-width:0.5;\" />\n   </g>\n   <g id=\"patch_47\">\n    <path clip-path=\"url(#p846333d26a)\" d=\"M 120.54843 42.750414  L 130.652368 42.750414  L 130.652368 34.808206  L 120.54843 34.808206  z \" style=\"fill:#a1dab4;stroke:#444443;stroke-linejoin:miter;stroke-width:0.5;\" />\n   </g>\n   <g id=\"patch_48\">\n    <path clip-path=\"url(#p846333d26a)\" d=\"M 130.652368 46.721518  L 140.756307 46.721518  L 140.756307 3.039375  L 130.652368 3.039375  z \" style=\"fill:#a1dab4;stroke:#444443;stroke-linejoin:miter;stroke-width:0.5;\" />\n   </g>\n   <g id=\"patch_49\">\n    <path clip-path=\"url(#p846333d26a)\" d=\"M 140.756307 46.721518  L 150.860246 46.721518  L 150.860246 10.981583  L 140.756307 10.981583  z \" style=\"fill:#a1dab4;stroke:#444443;stroke-linejoin:miter;stroke-width:0.5;\" />\n   </g>\n   <g id=\"patch_50\">\n    <path clip-path=\"url(#p846333d26a)\" d=\"M 150.860246 46.721518  L 160.964184 46.721518  L 160.964184 7.010479  L 150.860246 7.010479  z \" style=\"fill:#a1dab4;stroke:#444443;stroke-linejoin:miter;stroke-width:0.5;\" />\n   </g>\n   <g id=\"patch_51\">\n    <path clip-path=\"url(#p846333d26a)\" d=\"M 160.964184 46.721518  L 171.068123 46.721518  L 171.068123 18.923791  L 160.964184 18.923791  z \" style=\"fill:#a1dab4;stroke:#444443;stroke-linejoin:miter;stroke-width:0.5;\" />\n   </g>\n   <g id=\"patch_52\">\n    <path clip-path=\"url(#p846333d26a)\" d=\"M 171.068123 46.721518  L 181.172061 46.721518  L 181.172061 38.77931  L 171.068123 38.77931  z \" style=\"fill:#a1dab4;stroke:#444443;stroke-linejoin:miter;stroke-width:0.5;\" />\n   </g>\n   <g id=\"patch_53\">\n    <path clip-path=\"url(#p846333d26a)\" d=\"M 181.172061 46.721518  L 191.276 46.721518  L 191.276 30.837102  L 181.172061 30.837102  z \" style=\"fill:#a1dab4;stroke:#444443;stroke-linejoin:miter;stroke-width:0.5;\" />\n   </g>\n   <g id=\"patch_54\">\n    <path d=\"M 131.594265 47.536918  L 128.279745 54.875518  L 134.908785 54.875518  z \" style=\"fill:#444443;\" />\n   </g>\n   <g id=\"matplotlib.axis_1\">\n    <g id=\"xtick_1\">\n     <g id=\"line2d_1\">\n      <defs>\n       <path d=\"M 0 0  L 0 3.5  \" id=\"m47760479fc\" style=\"stroke:#000000;stroke-width:0.3;\" />\n      </defs>\n      <g>\n       <use style=\"stroke:#000000;stroke-width:0.3;\" x=\"19.509043\" xlink:href=\"#m47760479fc\" y=\"46.721518\" />\n      </g>\n     </g>\n     <g id=\"text_1\">\n      \n      <g style=\"fill:#444443;\" transform=\"translate(13.147793 59.800268)scale(0.08 -0.08)\">\n       <defs>\n        <path d=\"M 794 531  L 1825 531  L 1825 4091  L 703 3866  L 703 4441  L 1819 4666  L 2450 4666  L 2450 531  L 3481 531  L 3481 0  L 794 0  L 794 531  z \" id=\"DejaVuSans-31\" transform=\"scale(0.015625)\" />\n        <path d=\"M 684 794  L 1344 794  L 1344 0  L 684 0  L 684 794  z \" id=\"DejaVuSans-2e\" transform=\"scale(0.015625)\" />\n        <path d=\"M 2034 4250  Q 1547 4250 1301 3770  Q 1056 3291 1056 2328  Q 1056 1369 1301 889  Q 1547 409 2034 409  Q 2525 409 2770 889  Q 3016 1369 3016 2328  Q 3016 3291 2770 3770  Q 2525 4250 2034 4250  z M 2034 4750  Q 2819 4750 3233 4129  Q 3647 3509 3647 2328  Q 3647 1150 3233 529  Q 2819 -91 2034 -91  Q 1250 -91 836 529  Q 422 1150 422 2328  Q 422 3509 836 4129  Q 1250 4750 2034 4750  z \" id=\"DejaVuSans-30\" transform=\"scale(0.015625)\" />\n       </defs>\n       <use xlink:href=\"#DejaVuSans-31\" />\n       <use x=\"63.623047\" xlink:href=\"#DejaVuSans-2e\" />\n       <use x=\"95.410156\" xlink:href=\"#DejaVuSans-30\" />\n      </g>\n     </g>\n    </g>\n    <g id=\"xtick_2\">\n     <g id=\"line2d_2\">\n      <g>\n       <use style=\"stroke:#000000;stroke-width:0.3;\" x=\"191.276\" xlink:href=\"#m47760479fc\" y=\"46.721518\" />\n      </g>\n     </g>\n     <g id=\"text_2\">\n      \n      <g style=\"fill:#444443;\" transform=\"translate(184.91475 59.800268)scale(0.08 -0.08)\">\n       <defs>\n        <path d=\"M 2113 2584  Q 1688 2584 1439 2293  Q 1191 2003 1191 1497  Q 1191 994 1439 701  Q 1688 409 2113 409  Q 2538 409 2786 701  Q 3034 994 3034 1497  Q 3034 2003 2786 2293  Q 2538 2584 2113 2584  z M 3366 4563  L 3366 3988  Q 3128 4100 2886 4159  Q 2644 4219 2406 4219  Q 1781 4219 1451 3797  Q 1122 3375 1075 2522  Q 1259 2794 1537 2939  Q 1816 3084 2150 3084  Q 2853 3084 3261 2657  Q 3669 2231 3669 1497  Q 3669 778 3244 343  Q 2819 -91 2113 -91  Q 1303 -91 875 529  Q 447 1150 447 2328  Q 447 3434 972 4092  Q 1497 4750 2381 4750  Q 2619 4750 2861 4703  Q 3103 4656 3366 4563  z \" id=\"DejaVuSans-36\" transform=\"scale(0.015625)\" />\n        <path d=\"M 703 97  L 703 672  Q 941 559 1184 500  Q 1428 441 1663 441  Q 2288 441 2617 861  Q 2947 1281 2994 2138  Q 2813 1869 2534 1725  Q 2256 1581 1919 1581  Q 1219 1581 811 2004  Q 403 2428 403 3163  Q 403 3881 828 4315  Q 1253 4750 1959 4750  Q 2769 4750 3195 4129  Q 3622 3509 3622 2328  Q 3622 1225 3098 567  Q 2575 -91 1691 -91  Q 1453 -91 1209 -44  Q 966 3 703 97  z M 1959 2075  Q 2384 2075 2632 2365  Q 2881 2656 2881 3163  Q 2881 3666 2632 3958  Q 2384 4250 1959 4250  Q 1534 4250 1286 3958  Q 1038 3666 1038 3163  Q 1038 2656 1286 2365  Q 1534 2075 1959 2075  z \" id=\"DejaVuSans-39\" transform=\"scale(0.015625)\" />\n       </defs>\n       <use xlink:href=\"#DejaVuSans-36\" />\n       <use x=\"63.623047\" xlink:href=\"#DejaVuSans-2e\" />\n       <use x=\"95.410156\" xlink:href=\"#DejaVuSans-39\" />\n      </g>\n     </g>\n    </g>\n    <g id=\"text_3\">\n     \n     <g style=\"fill:#444443;\" transform=\"translate(64.566875 74.199643)scale(0.12 -0.12)\">\n      <defs>\n       <path d=\"M 422 -1272  L 422 3319  L 934 3319  L 934 2888  Q 1116 3141 1344 3267  Q 1572 3394 1897 3394  Q 2322 3394 2647 3175  Q 2972 2956 3137 2557  Q 3303 2159 3303 1684  Q 3303 1175 3120 767  Q 2938 359 2589 142  Q 2241 -75 1856 -75  Q 1575 -75 1351 44  Q 1128 163 984 344  L 984 -1272  L 422 -1272  z M 931 1641  Q 931 1000 1190 694  Q 1450 388 1819 388  Q 2194 388 2461 705  Q 2728 1022 2728 1688  Q 2728 2322 2467 2637  Q 2206 2953 1844 2953  Q 1484 2953 1207 2617  Q 931 2281 931 1641  z \" id=\"ArialMT-70\" transform=\"scale(0.015625)\" />\n       <path d=\"M 2694 1069  L 3275 997  Q 3138 488 2766 206  Q 2394 -75 1816 -75  Q 1088 -75 661 373  Q 234 822 234 1631  Q 234 2469 665 2931  Q 1097 3394 1784 3394  Q 2450 3394 2872 2941  Q 3294 2488 3294 1666  Q 3294 1616 3291 1516  L 816 1516  Q 847 969 1125 678  Q 1403 388 1819 388  Q 2128 388 2347 550  Q 2566 713 2694 1069  z M 847 1978  L 2700 1978  Q 2663 2397 2488 2606  Q 2219 2931 1791 2931  Q 1403 2931 1139 2672  Q 875 2413 847 1978  z \" id=\"ArialMT-65\" transform=\"scale(0.015625)\" />\n       <path d=\"M 1650 503  L 1731 6  Q 1494 -44 1306 -44  Q 1000 -44 831 53  Q 663 150 594 308  Q 525 466 525 972  L 525 2881  L 113 2881  L 113 3319  L 525 3319  L 525 4141  L 1084 4478  L 1084 3319  L 1650 3319  L 1650 2881  L 1084 2881  L 1084 941  Q 1084 700 1114 631  Q 1144 563 1211 522  Q 1278 481 1403 481  Q 1497 481 1650 503  z \" id=\"ArialMT-74\" transform=\"scale(0.015625)\" />\n       <path d=\"M 2588 409  Q 2275 144 1986 34  Q 1697 -75 1366 -75  Q 819 -75 525 192  Q 231 459 231 875  Q 231 1119 342 1320  Q 453 1522 633 1644  Q 813 1766 1038 1828  Q 1203 1872 1538 1913  Q 2219 1994 2541 2106  Q 2544 2222 2544 2253  Q 2544 2597 2384 2738  Q 2169 2928 1744 2928  Q 1347 2928 1158 2789  Q 969 2650 878 2297  L 328 2372  Q 403 2725 575 2942  Q 747 3159 1072 3276  Q 1397 3394 1825 3394  Q 2250 3394 2515 3294  Q 2781 3194 2906 3042  Q 3031 2891 3081 2659  Q 3109 2516 3109 2141  L 3109 1391  Q 3109 606 3145 398  Q 3181 191 3288 0  L 2700 0  Q 2613 175 2588 409  z M 2541 1666  Q 2234 1541 1622 1453  Q 1275 1403 1131 1340  Q 988 1278 909 1158  Q 831 1038 831 891  Q 831 666 1001 516  Q 1172 366 1500 366  Q 1825 366 2078 508  Q 2331 650 2450 897  Q 2541 1088 2541 1459  L 2541 1666  z \" id=\"ArialMT-61\" transform=\"scale(0.015625)\" />\n       <path d=\"M 409 0  L 409 4581  L 972 4581  L 972 0  L 409 0  z \" id=\"ArialMT-6c\" transform=\"scale(0.015625)\" />\n       <path id=\"ArialMT-20\" transform=\"scale(0.015625)\" />\n       <path d=\"M 422 0  L 422 3319  L 928 3319  L 928 2847  Q 1294 3394 1984 3394  Q 2284 3394 2536 3286  Q 2788 3178 2913 3003  Q 3038 2828 3088 2588  Q 3119 2431 3119 2041  L 3119 0  L 2556 0  L 2556 2019  Q 2556 2363 2490 2533  Q 2425 2703 2258 2804  Q 2091 2906 1866 2906  Q 1506 2906 1245 2678  Q 984 2450 984 1813  L 984 0  L 422 0  z \" id=\"ArialMT-6e\" transform=\"scale(0.015625)\" />\n       <path d=\"M 319 -275  L 866 -356  Q 900 -609 1056 -725  Q 1266 -881 1628 -881  Q 2019 -881 2231 -725  Q 2444 -569 2519 -288  Q 2563 -116 2559 434  Q 2191 0 1641 0  Q 956 0 581 494  Q 206 988 206 1678  Q 206 2153 378 2554  Q 550 2956 876 3175  Q 1203 3394 1644 3394  Q 2231 3394 2613 2919  L 2613 3319  L 3131 3319  L 3131 450  Q 3131 -325 2973 -648  Q 2816 -972 2473 -1159  Q 2131 -1347 1631 -1347  Q 1038 -1347 672 -1080  Q 306 -813 319 -275  z M 784 1719  Q 784 1066 1043 766  Q 1303 466 1694 466  Q 2081 466 2343 764  Q 2606 1063 2606 1700  Q 2606 2309 2336 2618  Q 2066 2928 1684 2928  Q 1309 2928 1046 2623  Q 784 2319 784 1719  z \" id=\"ArialMT-67\" transform=\"scale(0.015625)\" />\n       <path d=\"M 422 0  L 422 4581  L 984 4581  L 984 2938  Q 1378 3394 1978 3394  Q 2347 3394 2619 3248  Q 2891 3103 3008 2847  Q 3125 2591 3125 2103  L 3125 0  L 2563 0  L 2563 2103  Q 2563 2525 2380 2717  Q 2197 2909 1863 2909  Q 1613 2909 1392 2779  Q 1172 2650 1078 2428  Q 984 2206 984 1816  L 984 0  L 422 0  z \" id=\"ArialMT-68\" transform=\"scale(0.015625)\" />\n       <path d=\"M 1497 -1347  Q 1031 -759 709 28  Q 388 816 388 1659  Q 388 2403 628 3084  Q 909 3875 1497 4659  L 1900 4659  Q 1522 4009 1400 3731  Q 1209 3300 1100 2831  Q 966 2247 966 1656  Q 966 153 1900 -1347  L 1497 -1347  z \" id=\"ArialMT-28\" transform=\"scale(0.015625)\" />\n       <path d=\"M 2588 1216  L 3141 1144  Q 3050 572 2676 248  Q 2303 -75 1759 -75  Q 1078 -75 664 370  Q 250 816 250 1647  Q 250 2184 428 2587  Q 606 2991 970 3192  Q 1334 3394 1763 3394  Q 2303 3394 2647 3120  Q 2991 2847 3088 2344  L 2541 2259  Q 2463 2594 2264 2762  Q 2066 2931 1784 2931  Q 1359 2931 1093 2626  Q 828 2322 828 1663  Q 828 994 1084 691  Q 1341 388 1753 388  Q 2084 388 2306 591  Q 2528 794 2588 1216  z \" id=\"ArialMT-63\" transform=\"scale(0.015625)\" />\n       <path d=\"M 422 0  L 422 3319  L 925 3319  L 925 2853  Q 1081 3097 1340 3245  Q 1600 3394 1931 3394  Q 2300 3394 2536 3241  Q 2772 3088 2869 2813  Q 3263 3394 3894 3394  Q 4388 3394 4653 3120  Q 4919 2847 4919 2278  L 4919 0  L 4359 0  L 4359 2091  Q 4359 2428 4304 2576  Q 4250 2725 4106 2815  Q 3963 2906 3769 2906  Q 3419 2906 3187 2673  Q 2956 2441 2956 1928  L 2956 0  L 2394 0  L 2394 2156  Q 2394 2531 2256 2718  Q 2119 2906 1806 2906  Q 1569 2906 1367 2781  Q 1166 2656 1075 2415  Q 984 2175 984 1722  L 984 0  L 422 0  z \" id=\"ArialMT-6d\" transform=\"scale(0.015625)\" />\n       <path d=\"M 791 -1347  L 388 -1347  Q 1322 153 1322 1656  Q 1322 2244 1188 2822  Q 1081 3291 891 3722  Q 769 4003 388 4659  L 791 4659  Q 1378 3875 1659 3084  Q 1900 2403 1900 1659  Q 1900 816 1576 28  Q 1253 -759 791 -1347  z \" id=\"ArialMT-29\" transform=\"scale(0.015625)\" />\n      </defs>\n      <use xlink:href=\"#ArialMT-70\" />\n      <use x=\"55.615234\" xlink:href=\"#ArialMT-65\" />\n      <use x=\"111.230469\" xlink:href=\"#ArialMT-74\" />\n      <use x=\"139.013672\" xlink:href=\"#ArialMT-61\" />\n      <use x=\"194.628906\" xlink:href=\"#ArialMT-6c\" />\n      <use x=\"216.845703\" xlink:href=\"#ArialMT-20\" />\n      <use x=\"244.628906\" xlink:href=\"#ArialMT-6c\" />\n      <use x=\"266.845703\" xlink:href=\"#ArialMT-65\" />\n      <use x=\"322.460938\" xlink:href=\"#ArialMT-6e\" />\n      <use x=\"378.076172\" xlink:href=\"#ArialMT-67\" />\n      <use x=\"433.691406\" xlink:href=\"#ArialMT-74\" />\n      <use x=\"461.474609\" xlink:href=\"#ArialMT-68\" />\n      <use x=\"517.089844\" xlink:href=\"#ArialMT-20\" />\n      <use x=\"544.873047\" xlink:href=\"#ArialMT-28\" />\n      <use x=\"578.173828\" xlink:href=\"#ArialMT-63\" />\n      <use x=\"628.173828\" xlink:href=\"#ArialMT-6d\" />\n      <use x=\"711.474609\" xlink:href=\"#ArialMT-29\" />\n     </g>\n    </g>\n   </g>\n   <g id=\"matplotlib.axis_2\">\n    <g id=\"ytick_1\">\n     <g id=\"line2d_3\">\n      <defs>\n       <path d=\"M 0 0  L -3.5 0  \" id=\"m198f6f8072\" style=\"stroke:#000000;stroke-width:0.3;\" />\n      </defs>\n      <g>\n       <use style=\"stroke:#000000;stroke-width:0.3;\" x=\"17.18\" xlink:href=\"#m198f6f8072\" y=\"46.721518\" />\n      </g>\n     </g>\n     <g id=\"text_4\">\n      \n      <g style=\"fill:#444443;\" transform=\"translate(5.09 49.760893)scale(0.08 -0.08)\">\n       <use xlink:href=\"#DejaVuSans-30\" />\n      </g>\n     </g>\n    </g>\n    <g id=\"ytick_2\">\n     <g id=\"line2d_4\">\n      <g>\n       <use style=\"stroke:#000000;stroke-width:0.3;\" x=\"17.18\" xlink:href=\"#m198f6f8072\" y=\"3.039375\" />\n      </g>\n     </g>\n     <g id=\"text_5\">\n      \n      <g style=\"fill:#444443;\" transform=\"translate(0 6.07875)scale(0.08 -0.08)\">\n       <use xlink:href=\"#DejaVuSans-31\" />\n       <use x=\"63.623047\" xlink:href=\"#DejaVuSans-31\" />\n      </g>\n     </g>\n    </g>\n   </g>\n   <g id=\"patch_55\">\n    <path d=\"M 17.18 46.721518  L 17.18 0.855268  \" style=\"fill:none;stroke:#000000;stroke-linecap:square;stroke-linejoin:miter;stroke-width:0.3;\" />\n   </g>\n   <g id=\"patch_56\">\n    <path d=\"M 17.18 46.721518  L 201.32 46.721518  \" style=\"fill:none;stroke:#000000;stroke-linecap:square;stroke-linejoin:miter;stroke-width:0.3;\" />\n   </g>\n   <g id=\"text_6\">\n    \n    <g style=\"fill:#444443;\" transform=\"translate(123.80989 63.029518)scale(0.08 -0.08)\">\n     <defs>\n      <path d=\"M 2069 0  L 2069 1097  L 81 1097  L 81 1613  L 2172 4581  L 2631 4581  L 2631 1613  L 3250 1613  L 3250 1097  L 2631 1097  L 2631 0  L 2069 0  z M 2069 1613  L 2069 3678  L 634 1613  L 2069 1613  z \" id=\"ArialMT-34\" transform=\"scale(0.015625)\" />\n      <path d=\"M 581 0  L 581 641  L 1222 641  L 1222 0  L 581 0  z \" id=\"ArialMT-2e\" transform=\"scale(0.015625)\" />\n      <path d=\"M 1131 2484  Q 781 2613 612 2850  Q 444 3088 444 3419  Q 444 3919 803 4259  Q 1163 4600 1759 4600  Q 2359 4600 2725 4251  Q 3091 3903 3091 3403  Q 3091 3084 2923 2848  Q 2756 2613 2416 2484  Q 2838 2347 3058 2040  Q 3278 1734 3278 1309  Q 3278 722 2862 322  Q 2447 -78 1769 -78  Q 1091 -78 675 323  Q 259 725 259 1325  Q 259 1772 486 2073  Q 713 2375 1131 2484  z M 1019 3438  Q 1019 3113 1228 2906  Q 1438 2700 1772 2700  Q 2097 2700 2305 2904  Q 2513 3109 2513 3406  Q 2513 3716 2298 3927  Q 2084 4138 1766 4138  Q 1444 4138 1231 3931  Q 1019 3725 1019 3438  z M 838 1322  Q 838 1081 952 856  Q 1066 631 1291 507  Q 1516 384 1775 384  Q 2178 384 2440 643  Q 2703 903 2703 1303  Q 2703 1709 2433 1975  Q 2163 2241 1756 2241  Q 1359 2241 1098 1978  Q 838 1716 838 1322  z \" id=\"ArialMT-38\" transform=\"scale(0.015625)\" />\n      <path d=\"M 266 1200  L 856 1250  Q 922 819 1161 601  Q 1400 384 1738 384  Q 2144 384 2425 690  Q 2706 997 2706 1503  Q 2706 1984 2436 2262  Q 2166 2541 1728 2541  Q 1456 2541 1237 2417  Q 1019 2294 894 2097  L 366 2166  L 809 4519  L 3088 4519  L 3088 3981  L 1259 3981  L 1013 2750  Q 1425 3038 1878 3038  Q 2478 3038 2890 2622  Q 3303 2206 3303 1553  Q 3303 931 2941 478  Q 2500 -78 1738 -78  Q 1113 -78 717 272  Q 322 622 266 1200  z \" id=\"ArialMT-35\" transform=\"scale(0.015625)\" />\n     </defs>\n     <use xlink:href=\"#ArialMT-34\" />\n     <use x=\"55.615234\" xlink:href=\"#ArialMT-2e\" />\n     <use x=\"83.398438\" xlink:href=\"#ArialMT-38\" />\n     <use x=\"139.013672\" xlink:href=\"#ArialMT-35\" />\n    </g>\n   </g>\n  </g>\n </g>\n <defs>\n  <clipPath id=\"p846333d26a\">\n   <rect height=\"45.86625\" width=\"184.14\" x=\"17.18\" y=\"0.855268\" />\n  </clipPath>\n </defs>\n</svg></g>\n\n\n<g id=\"node15\" class=\"node\">\n<title>leaf8</title>\n<polygon fill=\"none\" stroke=\"#444443\" stroke-width=\"0\" points=\"137,-167 100,-167 100,-136 137,-136 137,-167\" />\n<svg height=\"23px\" version=\"1.1\" viewBox=\"0 0 38.507344 30.941329\" width=\"29px\" preserveAspectRatio=\"xMinYMin meet\" x=\"104.5\" y=\"-162.5\">\n <metadata>\n  <rdf:RDF>\n   <ns2:Work>\n    <dc:type rdf:resource=\"http://purl.org/dc/dcmitype/StillImage\" />\n    <dc:date>2021-10-04T20:58:02.480515</dc:date>\n    <dc:format>image/svg+xml</dc:format>\n    <dc:creator>\n     <ns2:Agent>\n      <dc:title>Matplotlib v3.4.3, https://matplotlib.org/</dc:title>\n     </ns2:Agent>\n    </dc:creator>\n   </ns2:Work>\n  </rdf:RDF>\n </metadata>\n <defs>\n  <style type=\"text/css\">*{stroke-linecap:butt;stroke-linejoin:round;}</style>\n </defs>\n <g id=\"figure_1\">\n  <g id=\"patch_1\">\n   <path d=\"M 0 30.941329  L 38.507344 30.941329  L 38.507344 -0  L 0 -0  z \" style=\"fill:none;\" />\n  </g>\n  <g id=\"axes_1\">\n   <g id=\"patch_2\">\n    <path d=\"M 25.595672 6.342  C 25.595672 5.509176 25.431624 4.684451 25.112916 3.915022  C 24.794208 3.145593 24.327038 2.446424 23.738143 1.857529  C 23.149248 1.268633 22.450079 0.801464 21.68065 0.482756  C 20.911221 0.164048 20.086496 0 19.253672 0  C 18.420848 0 17.596122 0.164048 16.826694 0.482756  C 16.057265 0.801464 15.358096 1.268633 14.769201 1.857529  C 14.180305 2.446424 13.713136 3.145593 13.394428 3.915022  C 13.07572 4.684451 12.911672 5.509176 12.911672 6.342  C 12.911672 7.174824 13.07572 7.999549 13.394428 8.768978  C 13.713136 9.538407 14.180305 10.237576 14.769201 10.826471  C 15.358096 11.415367 16.057265 11.882536 16.826694 12.201244  C 17.596122 12.519952 18.420848 12.684 19.253672 12.684  C 20.086496 12.684 20.911221 12.519952 21.68065 12.201244  C 22.450079 11.882536 23.149248 11.415367 23.738143 10.826471  C 24.327038 10.237576 24.794208 9.538407 25.112916 8.768978  C 25.431624 7.999549 25.595672 7.174824 25.595672 6.342  M 19.253672 6.342  M 25.595672 6.342  z \" style=\"fill:#d9e6f5;stroke:#444443;stroke-linejoin:miter;stroke-width:0.5;\" />\n   </g>\n   <g id=\"text_1\">\n    \n    <g style=\"fill:#444443;\" transform=\"translate(11.620547 19.633391)scale(0.09 -0.09)\">\n     <defs>\n      <path d=\"M 422 0  L 422 3319  L 928 3319  L 928 2847  Q 1294 3394 1984 3394  Q 2284 3394 2536 3286  Q 2788 3178 2913 3003  Q 3038 2828 3088 2588  Q 3119 2431 3119 2041  L 3119 0  L 2556 0  L 2556 2019  Q 2556 2363 2490 2533  Q 2425 2703 2258 2804  Q 2091 2906 1866 2906  Q 1506 2906 1245 2678  Q 984 2450 984 1813  L 984 0  L 422 0  z \" id=\"ArialMT-6e\" transform=\"scale(0.015625)\" />\n      <path d=\"M 3381 2694  L 356 2694  L 356 3219  L 3381 3219  L 3381 2694  z M 3381 1303  L 356 1303  L 356 1828  L 3381 1828  L 3381 1303  z \" id=\"ArialMT-3d\" transform=\"scale(0.015625)\" />\n      <path d=\"M 269 1209  L 831 1284  Q 928 806 1161 595  Q 1394 384 1728 384  Q 2125 384 2398 659  Q 2672 934 2672 1341  Q 2672 1728 2419 1979  Q 2166 2231 1775 2231  Q 1616 2231 1378 2169  L 1441 2663  Q 1497 2656 1531 2656  Q 1891 2656 2178 2843  Q 2466 3031 2466 3422  Q 2466 3731 2256 3934  Q 2047 4138 1716 4138  Q 1388 4138 1169 3931  Q 950 3725 888 3313  L 325 3413  Q 428 3978 793 4289  Q 1159 4600 1703 4600  Q 2078 4600 2393 4439  Q 2709 4278 2876 4000  Q 3044 3722 3044 3409  Q 3044 3113 2884 2869  Q 2725 2625 2413 2481  Q 2819 2388 3044 2092  Q 3269 1797 3269 1353  Q 3269 753 2831 336  Q 2394 -81 1725 -81  Q 1122 -81 723 278  Q 325 638 269 1209  z \" id=\"ArialMT-33\" transform=\"scale(0.015625)\" />\n     </defs>\n     <use xlink:href=\"#ArialMT-6e\" />\n     <use x=\"55.615234\" xlink:href=\"#ArialMT-3d\" />\n     <use x=\"114.013672\" xlink:href=\"#ArialMT-33\" />\n    </g>\n    \n    <g style=\"fill:#444443;\" transform=\"translate(0 29.152579)scale(0.09 -0.09)\">\n     <defs>\n      <path d=\"M 1344 0  L 81 3319  L 675 3319  L 1388 1331  Q 1503 1009 1600 663  Q 1675 925 1809 1294  L 2547 3319  L 3125 3319  L 1869 0  L 1344 0  z \" id=\"ArialMT-76\" transform=\"scale(0.015625)\" />\n      <path d=\"M 2694 1069  L 3275 997  Q 3138 488 2766 206  Q 2394 -75 1816 -75  Q 1088 -75 661 373  Q 234 822 234 1631  Q 234 2469 665 2931  Q 1097 3394 1784 3394  Q 2450 3394 2872 2941  Q 3294 2488 3294 1666  Q 3294 1616 3291 1516  L 816 1516  Q 847 969 1125 678  Q 1403 388 1819 388  Q 2128 388 2347 550  Q 2566 713 2694 1069  z M 847 1978  L 2700 1978  Q 2663 2397 2488 2606  Q 2219 2931 1791 2931  Q 1403 2931 1139 2672  Q 875 2413 847 1978  z \" id=\"ArialMT-65\" transform=\"scale(0.015625)\" />\n      <path d=\"M 416 0  L 416 3319  L 922 3319  L 922 2816  Q 1116 3169 1280 3281  Q 1444 3394 1641 3394  Q 1925 3394 2219 3213  L 2025 2691  Q 1819 2813 1613 2813  Q 1428 2813 1281 2702  Q 1134 2591 1072 2394  Q 978 2094 978 1738  L 978 0  L 416 0  z \" id=\"ArialMT-72\" transform=\"scale(0.015625)\" />\n      <path d=\"M 197 991  L 753 1078  Q 800 744 1014 566  Q 1228 388 1613 388  Q 2000 388 2187 545  Q 2375 703 2375 916  Q 2375 1106 2209 1216  Q 2094 1291 1634 1406  Q 1016 1563 777 1677  Q 538 1791 414 1992  Q 291 2194 291 2438  Q 291 2659 392 2848  Q 494 3038 669 3163  Q 800 3259 1026 3326  Q 1253 3394 1513 3394  Q 1903 3394 2198 3281  Q 2494 3169 2634 2976  Q 2775 2784 2828 2463  L 2278 2388  Q 2241 2644 2061 2787  Q 1881 2931 1553 2931  Q 1166 2931 1000 2803  Q 834 2675 834 2503  Q 834 2394 903 2306  Q 972 2216 1119 2156  Q 1203 2125 1616 2013  Q 2213 1853 2448 1751  Q 2684 1650 2818 1456  Q 2953 1263 2953 975  Q 2953 694 2789 445  Q 2625 197 2315 61  Q 2006 -75 1616 -75  Q 969 -75 630 194  Q 291 463 197 991  z \" id=\"ArialMT-73\" transform=\"scale(0.015625)\" />\n      <path d=\"M 425 3934  L 425 4581  L 988 4581  L 988 3934  L 425 3934  z M 425 0  L 425 3319  L 988 3319  L 988 0  L 425 0  z \" id=\"ArialMT-69\" transform=\"scale(0.015625)\" />\n      <path d=\"M 2588 1216  L 3141 1144  Q 3050 572 2676 248  Q 2303 -75 1759 -75  Q 1078 -75 664 370  Q 250 816 250 1647  Q 250 2184 428 2587  Q 606 2991 970 3192  Q 1334 3394 1763 3394  Q 2303 3394 2647 3120  Q 2991 2847 3088 2344  L 2541 2259  Q 2463 2594 2264 2762  Q 2066 2931 1784 2931  Q 1359 2931 1093 2626  Q 828 2322 828 1663  Q 828 994 1084 691  Q 1341 388 1753 388  Q 2084 388 2306 591  Q 2528 794 2588 1216  z \" id=\"ArialMT-63\" transform=\"scale(0.015625)\" />\n      <path d=\"M 213 1659  Q 213 2581 725 3025  Q 1153 3394 1769 3394  Q 2453 3394 2887 2945  Q 3322 2497 3322 1706  Q 3322 1066 3130 698  Q 2938 331 2570 128  Q 2203 -75 1769 -75  Q 1072 -75 642 372  Q 213 819 213 1659  z M 791 1659  Q 791 1022 1069 705  Q 1347 388 1769 388  Q 2188 388 2466 706  Q 2744 1025 2744 1678  Q 2744 2294 2464 2611  Q 2184 2928 1769 2928  Q 1347 2928 1069 2612  Q 791 2297 791 1659  z \" id=\"ArialMT-6f\" transform=\"scale(0.015625)\" />\n      <path d=\"M 409 0  L 409 4581  L 972 4581  L 972 0  L 409 0  z \" id=\"ArialMT-6c\" transform=\"scale(0.015625)\" />\n     </defs>\n     <use xlink:href=\"#ArialMT-76\" />\n     <use x=\"50\" xlink:href=\"#ArialMT-65\" />\n     <use x=\"105.615234\" xlink:href=\"#ArialMT-72\" />\n     <use x=\"138.916016\" xlink:href=\"#ArialMT-73\" />\n     <use x=\"188.916016\" xlink:href=\"#ArialMT-69\" />\n     <use x=\"211.132812\" xlink:href=\"#ArialMT-63\" />\n     <use x=\"261.132812\" xlink:href=\"#ArialMT-6f\" />\n     <use x=\"316.748047\" xlink:href=\"#ArialMT-6c\" />\n     <use x=\"338.964844\" xlink:href=\"#ArialMT-6f\" />\n     <use x=\"394.580078\" xlink:href=\"#ArialMT-72\" />\n    </g>\n   </g>\n  </g>\n </g>\n</svg></g>\n\n<g id=\"edge10\" class=\"edge\">\n<title>node7-&gt;leaf8</title>\n<path fill=\"none\" stroke=\"#444443\" stroke-width=\"0.3\" d=\"M189.7,-209.8C173.31,-196.61 154.13,-181.17 139.81,-169.65\" />\n<polygon fill=\"#444443\" stroke=\"#444443\" stroke-width=\"0.3\" points=\"140.64,-168.52 136.65,-167.1 138.88,-170.7 140.64,-168.52\" />\n</g>\n\n<g id=\"node5\" class=\"node\">\n<title>node15</title>\n<svg height=\"44px\" version=\"1.1\" viewBox=\"0 0 196.23 58.928839\" width=\"147px\" preserveAspectRatio=\"xMinYMin meet\" x=\"319.5\" y=\"-173.5\">\n <metadata>\n  <rdf:RDF>\n   <ns2:Work>\n    <dc:type rdf:resource=\"http://purl.org/dc/dcmitype/StillImage\" />\n    <dc:date>2021-10-04T20:58:01.593253</dc:date>\n    <dc:format>image/svg+xml</dc:format>\n    <dc:creator>\n     <ns2:Agent>\n      <dc:title>Matplotlib v3.4.3, https://matplotlib.org/</dc:title>\n     </ns2:Agent>\n    </dc:creator>\n   </ns2:Work>\n  </rdf:RDF>\n </metadata>\n <defs>\n  <style type=\"text/css\">*{stroke-linecap:butt;stroke-linejoin:round;}</style>\n </defs>\n <g id=\"figure_1\">\n  <g id=\"patch_1\">\n   <path d=\"M 0 58.928839  L 196.23 58.928839  L 196.23 0  L 0 0  z \" style=\"fill:none;\" />\n  </g>\n  <g id=\"axes_1\">\n   <g id=\"patch_2\">\n    <path d=\"M 12.09 28.925089  L 196.23 28.925089  L 196.23 1.745089  L 12.09 1.745089  z \" style=\"fill:#ffffff;\" />\n   </g>\n   <g id=\"patch_3\">\n    <path clip-path=\"url(#p4d0a2d721e)\" d=\"M 22.687986 28.925089  L 32.039149 28.925089  L 32.039149 28.925089  L 22.687986 28.925089  z \" style=\"fill:#fefebb;stroke:#444443;stroke-linejoin:miter;stroke-width:0.5;\" />\n   </g>\n   <g id=\"patch_4\">\n    <path clip-path=\"url(#p4d0a2d721e)\" d=\"M 32.039149 28.925089  L 41.390313 28.925089  L 41.390313 28.925089  L 32.039149 28.925089  z \" style=\"fill:#fefebb;stroke:#444443;stroke-linejoin:miter;stroke-width:0.5;\" />\n   </g>\n   <g id=\"patch_5\">\n    <path clip-path=\"url(#p4d0a2d721e)\" d=\"M 41.390313 28.925089  L 50.741477 28.925089  L 50.741477 28.925089  L 41.390313 28.925089  z \" style=\"fill:#fefebb;stroke:#444443;stroke-linejoin:miter;stroke-width:0.5;\" />\n   </g>\n   <g id=\"patch_6\">\n    <path clip-path=\"url(#p4d0a2d721e)\" d=\"M 50.741477 28.925089  L 60.092641 28.925089  L 60.092641 28.925089  L 50.741477 28.925089  z \" style=\"fill:#fefebb;stroke:#444443;stroke-linejoin:miter;stroke-width:0.5;\" />\n   </g>\n   <g id=\"patch_7\">\n    <path clip-path=\"url(#p4d0a2d721e)\" d=\"M 60.092641 28.925089  L 69.443804 28.925089  L 69.443804 28.925089  L 60.092641 28.925089  z \" style=\"fill:#fefebb;stroke:#444443;stroke-linejoin:miter;stroke-width:0.5;\" />\n   </g>\n   <g id=\"patch_8\">\n    <path clip-path=\"url(#p4d0a2d721e)\" d=\"M 69.443804 28.925089  L 78.794968 28.925089  L 78.794968 28.925089  L 69.443804 28.925089  z \" style=\"fill:#fefebb;stroke:#444443;stroke-linejoin:miter;stroke-width:0.5;\" />\n   </g>\n   <g id=\"patch_9\">\n    <path clip-path=\"url(#p4d0a2d721e)\" d=\"M 78.794968 28.925089  L 88.146132 28.925089  L 88.146132 28.925089  L 78.794968 28.925089  z \" style=\"fill:#fefebb;stroke:#444443;stroke-linejoin:miter;stroke-width:0.5;\" />\n   </g>\n   <g id=\"patch_10\">\n    <path clip-path=\"url(#p4d0a2d721e)\" d=\"M 88.146132 28.925089  L 97.497296 28.925089  L 97.497296 28.925089  L 88.146132 28.925089  z \" style=\"fill:#fefebb;stroke:#444443;stroke-linejoin:miter;stroke-width:0.5;\" />\n   </g>\n   <g id=\"patch_11\">\n    <path clip-path=\"url(#p4d0a2d721e)\" d=\"M 97.497296 28.925089  L 106.84846 28.925089  L 106.84846 28.925089  L 97.497296 28.925089  z \" style=\"fill:#fefebb;stroke:#444443;stroke-linejoin:miter;stroke-width:0.5;\" />\n   </g>\n   <g id=\"patch_12\">\n    <path clip-path=\"url(#p4d0a2d721e)\" d=\"M 106.84846 28.925089  L 116.199623 28.925089  L 116.199623 28.925089  L 106.84846 28.925089  z \" style=\"fill:#fefebb;stroke:#444443;stroke-linejoin:miter;stroke-width:0.5;\" />\n   </g>\n   <g id=\"patch_13\">\n    <path clip-path=\"url(#p4d0a2d721e)\" d=\"M 116.199623 28.925089  L 125.550787 28.925089  L 125.550787 28.925089  L 116.199623 28.925089  z \" style=\"fill:#fefebb;stroke:#444443;stroke-linejoin:miter;stroke-width:0.5;\" />\n   </g>\n   <g id=\"patch_14\">\n    <path clip-path=\"url(#p4d0a2d721e)\" d=\"M 125.550787 28.925089  L 134.901951 28.925089  L 134.901951 28.925089  L 125.550787 28.925089  z \" style=\"fill:#fefebb;stroke:#444443;stroke-linejoin:miter;stroke-width:0.5;\" />\n   </g>\n   <g id=\"patch_15\">\n    <path clip-path=\"url(#p4d0a2d721e)\" d=\"M 134.901951 28.925089  L 144.253115 28.925089  L 144.253115 28.925089  L 134.901951 28.925089  z \" style=\"fill:#fefebb;stroke:#444443;stroke-linejoin:miter;stroke-width:0.5;\" />\n   </g>\n   <g id=\"patch_16\">\n    <path clip-path=\"url(#p4d0a2d721e)\" d=\"M 144.253115 28.925089  L 153.604278 28.925089  L 153.604278 28.925089  L 144.253115 28.925089  z \" style=\"fill:#fefebb;stroke:#444443;stroke-linejoin:miter;stroke-width:0.5;\" />\n   </g>\n   <g id=\"patch_17\">\n    <path clip-path=\"url(#p4d0a2d721e)\" d=\"M 153.604278 28.925089  L 162.955442 28.925089  L 162.955442 28.925089  L 153.604278 28.925089  z \" style=\"fill:#fefebb;stroke:#444443;stroke-linejoin:miter;stroke-width:0.5;\" />\n   </g>\n   <g id=\"patch_18\">\n    <path clip-path=\"url(#p4d0a2d721e)\" d=\"M 162.955442 28.925089  L 172.306606 28.925089  L 172.306606 28.925089  L 162.955442 28.925089  z \" style=\"fill:#fefebb;stroke:#444443;stroke-linejoin:miter;stroke-width:0.5;\" />\n   </g>\n   <g id=\"patch_19\">\n    <path clip-path=\"url(#p4d0a2d721e)\" d=\"M 172.306606 28.925089  L 181.65777 28.925089  L 181.65777 28.925089  L 172.306606 28.925089  z \" style=\"fill:#fefebb;stroke:#444443;stroke-linejoin:miter;stroke-width:0.5;\" />\n   </g>\n   <g id=\"patch_20\">\n    <path clip-path=\"url(#p4d0a2d721e)\" d=\"M 22.687986 28.925089  L 32.039149 28.925089  L 32.039149 28.925089  L 22.687986 28.925089  z \" style=\"fill:#d9e6f5;stroke:#444443;stroke-linejoin:miter;stroke-width:0.5;\" />\n   </g>\n   <g id=\"patch_21\">\n    <path clip-path=\"url(#p4d0a2d721e)\" d=\"M 32.039149 28.925089  L 41.390313 28.925089  L 41.390313 28.925089  L 32.039149 28.925089  z \" style=\"fill:#d9e6f5;stroke:#444443;stroke-linejoin:miter;stroke-width:0.5;\" />\n   </g>\n   <g id=\"patch_22\">\n    <path clip-path=\"url(#p4d0a2d721e)\" d=\"M 41.390313 28.925089  L 50.741477 28.925089  L 50.741477 28.925089  L 41.390313 28.925089  z \" style=\"fill:#d9e6f5;stroke:#444443;stroke-linejoin:miter;stroke-width:0.5;\" />\n   </g>\n   <g id=\"patch_23\">\n    <path clip-path=\"url(#p4d0a2d721e)\" d=\"M 50.741477 28.925089  L 60.092641 28.925089  L 60.092641 28.925089  L 50.741477 28.925089  z \" style=\"fill:#d9e6f5;stroke:#444443;stroke-linejoin:miter;stroke-width:0.5;\" />\n   </g>\n   <g id=\"patch_24\">\n    <path clip-path=\"url(#p4d0a2d721e)\" d=\"M 60.092641 28.925089  L 69.443804 28.925089  L 69.443804 28.925089  L 60.092641 28.925089  z \" style=\"fill:#d9e6f5;stroke:#444443;stroke-linejoin:miter;stroke-width:0.5;\" />\n   </g>\n   <g id=\"patch_25\">\n    <path clip-path=\"url(#p4d0a2d721e)\" d=\"M 69.443804 28.925089  L 78.794968 28.925089  L 78.794968 28.925089  L 69.443804 28.925089  z \" style=\"fill:#d9e6f5;stroke:#444443;stroke-linejoin:miter;stroke-width:0.5;\" />\n   </g>\n   <g id=\"patch_26\">\n    <path clip-path=\"url(#p4d0a2d721e)\" d=\"M 78.794968 28.925089  L 88.146132 28.925089  L 88.146132 28.925089  L 78.794968 28.925089  z \" style=\"fill:#d9e6f5;stroke:#444443;stroke-linejoin:miter;stroke-width:0.5;\" />\n   </g>\n   <g id=\"patch_27\">\n    <path clip-path=\"url(#p4d0a2d721e)\" d=\"M 88.146132 28.925089  L 97.497296 28.925089  L 97.497296 28.925089  L 88.146132 28.925089  z \" style=\"fill:#d9e6f5;stroke:#444443;stroke-linejoin:miter;stroke-width:0.5;\" />\n   </g>\n   <g id=\"patch_28\">\n    <path clip-path=\"url(#p4d0a2d721e)\" d=\"M 97.497296 28.925089  L 106.84846 28.925089  L 106.84846 3.039375  L 97.497296 3.039375  z \" style=\"fill:#d9e6f5;stroke:#444443;stroke-linejoin:miter;stroke-width:0.5;\" />\n   </g>\n   <g id=\"patch_29\">\n    <path clip-path=\"url(#p4d0a2d721e)\" d=\"M 106.84846 28.925089  L 116.199623 28.925089  L 116.199623 28.925089  L 106.84846 28.925089  z \" style=\"fill:#d9e6f5;stroke:#444443;stroke-linejoin:miter;stroke-width:0.5;\" />\n   </g>\n   <g id=\"patch_30\">\n    <path clip-path=\"url(#p4d0a2d721e)\" d=\"M 116.199623 28.925089  L 125.550787 28.925089  L 125.550787 28.925089  L 116.199623 28.925089  z \" style=\"fill:#d9e6f5;stroke:#444443;stroke-linejoin:miter;stroke-width:0.5;\" />\n   </g>\n   <g id=\"patch_31\">\n    <path clip-path=\"url(#p4d0a2d721e)\" d=\"M 125.550787 28.925089  L 134.901951 28.925089  L 134.901951 28.925089  L 125.550787 28.925089  z \" style=\"fill:#d9e6f5;stroke:#444443;stroke-linejoin:miter;stroke-width:0.5;\" />\n   </g>\n   <g id=\"patch_32\">\n    <path clip-path=\"url(#p4d0a2d721e)\" d=\"M 134.901951 28.925089  L 144.253115 28.925089  L 144.253115 28.925089  L 134.901951 28.925089  z \" style=\"fill:#d9e6f5;stroke:#444443;stroke-linejoin:miter;stroke-width:0.5;\" />\n   </g>\n   <g id=\"patch_33\">\n    <path clip-path=\"url(#p4d0a2d721e)\" d=\"M 144.253115 28.925089  L 153.604278 28.925089  L 153.604278 28.925089  L 144.253115 28.925089  z \" style=\"fill:#d9e6f5;stroke:#444443;stroke-linejoin:miter;stroke-width:0.5;\" />\n   </g>\n   <g id=\"patch_34\">\n    <path clip-path=\"url(#p4d0a2d721e)\" d=\"M 153.604278 28.925089  L 162.955442 28.925089  L 162.955442 28.925089  L 153.604278 28.925089  z \" style=\"fill:#d9e6f5;stroke:#444443;stroke-linejoin:miter;stroke-width:0.5;\" />\n   </g>\n   <g id=\"patch_35\">\n    <path clip-path=\"url(#p4d0a2d721e)\" d=\"M 162.955442 28.925089  L 172.306606 28.925089  L 172.306606 28.925089  L 162.955442 28.925089  z \" style=\"fill:#d9e6f5;stroke:#444443;stroke-linejoin:miter;stroke-width:0.5;\" />\n   </g>\n   <g id=\"patch_36\">\n    <path clip-path=\"url(#p4d0a2d721e)\" d=\"M 172.306606 28.925089  L 181.65777 28.925089  L 181.65777 28.925089  L 172.306606 28.925089  z \" style=\"fill:#d9e6f5;stroke:#444443;stroke-linejoin:miter;stroke-width:0.5;\" />\n   </g>\n   <g id=\"patch_37\">\n    <path clip-path=\"url(#p4d0a2d721e)\" d=\"M 22.687986 28.925089  L 32.039149 28.925089  L 32.039149 28.925089  L 22.687986 28.925089  z \" style=\"fill:#a1dab4;stroke:#444443;stroke-linejoin:miter;stroke-width:0.5;\" />\n   </g>\n   <g id=\"patch_38\">\n    <path clip-path=\"url(#p4d0a2d721e)\" d=\"M 32.039149 28.925089  L 41.390313 28.925089  L 41.390313 28.925089  L 32.039149 28.925089  z \" style=\"fill:#a1dab4;stroke:#444443;stroke-linejoin:miter;stroke-width:0.5;\" />\n   </g>\n   <g id=\"patch_39\">\n    <path clip-path=\"url(#p4d0a2d721e)\" d=\"M 41.390313 28.925089  L 50.741477 28.925089  L 50.741477 28.925089  L 41.390313 28.925089  z \" style=\"fill:#a1dab4;stroke:#444443;stroke-linejoin:miter;stroke-width:0.5;\" />\n   </g>\n   <g id=\"patch_40\">\n    <path clip-path=\"url(#p4d0a2d721e)\" d=\"M 50.741477 28.925089  L 60.092641 28.925089  L 60.092641 28.925089  L 50.741477 28.925089  z \" style=\"fill:#a1dab4;stroke:#444443;stroke-linejoin:miter;stroke-width:0.5;\" />\n   </g>\n   <g id=\"patch_41\">\n    <path clip-path=\"url(#p4d0a2d721e)\" d=\"M 60.092641 28.925089  L 69.443804 28.925089  L 69.443804 28.925089  L 60.092641 28.925089  z \" style=\"fill:#a1dab4;stroke:#444443;stroke-linejoin:miter;stroke-width:0.5;\" />\n   </g>\n   <g id=\"patch_42\">\n    <path clip-path=\"url(#p4d0a2d721e)\" d=\"M 69.443804 28.925089  L 78.794968 28.925089  L 78.794968 3.039375  L 69.443804 3.039375  z \" style=\"fill:#a1dab4;stroke:#444443;stroke-linejoin:miter;stroke-width:0.5;\" />\n   </g>\n   <g id=\"patch_43\">\n    <path clip-path=\"url(#p4d0a2d721e)\" d=\"M 78.794968 28.925089  L 88.146132 28.925089  L 88.146132 28.925089  L 78.794968 28.925089  z \" style=\"fill:#a1dab4;stroke:#444443;stroke-linejoin:miter;stroke-width:0.5;\" />\n   </g>\n   <g id=\"patch_44\">\n    <path clip-path=\"url(#p4d0a2d721e)\" d=\"M 88.146132 28.925089  L 97.497296 28.925089  L 97.497296 3.039375  L 88.146132 3.039375  z \" style=\"fill:#a1dab4;stroke:#444443;stroke-linejoin:miter;stroke-width:0.5;\" />\n   </g>\n   <g id=\"patch_45\">\n    <path clip-path=\"url(#p4d0a2d721e)\" d=\"M 97.497296 3.039375  L 106.84846 3.039375  L 106.84846 3.039375  L 97.497296 3.039375  z \" style=\"fill:#a1dab4;stroke:#444443;stroke-linejoin:miter;stroke-width:0.5;\" />\n   </g>\n   <g id=\"patch_46\">\n    <path clip-path=\"url(#p4d0a2d721e)\" d=\"M 106.84846 28.925089  L 116.199623 28.925089  L 116.199623 28.925089  L 106.84846 28.925089  z \" style=\"fill:#a1dab4;stroke:#444443;stroke-linejoin:miter;stroke-width:0.5;\" />\n   </g>\n   <g id=\"patch_47\">\n    <path clip-path=\"url(#p4d0a2d721e)\" d=\"M 116.199623 28.925089  L 125.550787 28.925089  L 125.550787 28.925089  L 116.199623 28.925089  z \" style=\"fill:#a1dab4;stroke:#444443;stroke-linejoin:miter;stroke-width:0.5;\" />\n   </g>\n   <g id=\"patch_48\">\n    <path clip-path=\"url(#p4d0a2d721e)\" d=\"M 125.550787 28.925089  L 134.901951 28.925089  L 134.901951 28.925089  L 125.550787 28.925089  z \" style=\"fill:#a1dab4;stroke:#444443;stroke-linejoin:miter;stroke-width:0.5;\" />\n   </g>\n   <g id=\"patch_49\">\n    <path clip-path=\"url(#p4d0a2d721e)\" d=\"M 134.901951 28.925089  L 144.253115 28.925089  L 144.253115 28.925089  L 134.901951 28.925089  z \" style=\"fill:#a1dab4;stroke:#444443;stroke-linejoin:miter;stroke-width:0.5;\" />\n   </g>\n   <g id=\"patch_50\">\n    <path clip-path=\"url(#p4d0a2d721e)\" d=\"M 144.253115 28.925089  L 153.604278 28.925089  L 153.604278 28.925089  L 144.253115 28.925089  z \" style=\"fill:#a1dab4;stroke:#444443;stroke-linejoin:miter;stroke-width:0.5;\" />\n   </g>\n   <g id=\"patch_51\">\n    <path clip-path=\"url(#p4d0a2d721e)\" d=\"M 153.604278 28.925089  L 162.955442 28.925089  L 162.955442 28.925089  L 153.604278 28.925089  z \" style=\"fill:#a1dab4;stroke:#444443;stroke-linejoin:miter;stroke-width:0.5;\" />\n   </g>\n   <g id=\"patch_52\">\n    <path clip-path=\"url(#p4d0a2d721e)\" d=\"M 162.955442 28.925089  L 172.306606 28.925089  L 172.306606 28.925089  L 162.955442 28.925089  z \" style=\"fill:#a1dab4;stroke:#444443;stroke-linejoin:miter;stroke-width:0.5;\" />\n   </g>\n   <g id=\"patch_53\">\n    <path clip-path=\"url(#p4d0a2d721e)\" d=\"M 172.306606 28.925089  L 181.65777 28.925089  L 181.65777 28.925089  L 172.306606 28.925089  z \" style=\"fill:#a1dab4;stroke:#444443;stroke-linejoin:miter;stroke-width:0.5;\" />\n   </g>\n   <g id=\"patch_54\">\n    <path d=\"M 95.549138 29.740489  L 92.234618 37.079089  L 98.863658 37.079089  z \" style=\"fill:#444443;\" />\n   </g>\n   <g id=\"matplotlib.axis_1\">\n    <g id=\"xtick_1\">\n     <g id=\"line2d_1\">\n      <defs>\n       <path d=\"M 0 0  L 0 3.5  \" id=\"m65ce98b998\" style=\"stroke:#000000;stroke-width:0.3;\" />\n      </defs>\n      <g>\n       <use style=\"stroke:#000000;stroke-width:0.3;\" x=\"22.687986\" xlink:href=\"#m65ce98b998\" y=\"28.925089\" />\n      </g>\n     </g>\n     <g id=\"text_1\">\n      \n      <g style=\"fill:#444443;\" transform=\"translate(16.326736 42.003839)scale(0.08 -0.08)\">\n       <defs>\n        <path d=\"M 1228 531  L 3431 531  L 3431 0  L 469 0  L 469 531  Q 828 903 1448 1529  Q 2069 2156 2228 2338  Q 2531 2678 2651 2914  Q 2772 3150 2772 3378  Q 2772 3750 2511 3984  Q 2250 4219 1831 4219  Q 1534 4219 1204 4116  Q 875 4013 500 3803  L 500 4441  Q 881 4594 1212 4672  Q 1544 4750 1819 4750  Q 2544 4750 2975 4387  Q 3406 4025 3406 3419  Q 3406 3131 3298 2873  Q 3191 2616 2906 2266  Q 2828 2175 2409 1742  Q 1991 1309 1228 531  z \" id=\"DejaVuSans-32\" transform=\"scale(0.015625)\" />\n        <path d=\"M 684 794  L 1344 794  L 1344 0  L 684 0  L 684 794  z \" id=\"DejaVuSans-2e\" transform=\"scale(0.015625)\" />\n        <path d=\"M 2034 4250  Q 1547 4250 1301 3770  Q 1056 3291 1056 2328  Q 1056 1369 1301 889  Q 1547 409 2034 409  Q 2525 409 2770 889  Q 3016 1369 3016 2328  Q 3016 3291 2770 3770  Q 2525 4250 2034 4250  z M 2034 4750  Q 2819 4750 3233 4129  Q 3647 3509 3647 2328  Q 3647 1150 3233 529  Q 2819 -91 2034 -91  Q 1250 -91 836 529  Q 422 1150 422 2328  Q 422 3509 836 4129  Q 1250 4750 2034 4750  z \" id=\"DejaVuSans-30\" transform=\"scale(0.015625)\" />\n       </defs>\n       <use xlink:href=\"#DejaVuSans-32\" />\n       <use x=\"63.623047\" xlink:href=\"#DejaVuSans-2e\" />\n       <use x=\"95.410156\" xlink:href=\"#DejaVuSans-30\" />\n      </g>\n     </g>\n    </g>\n    <g id=\"xtick_2\">\n     <g id=\"line2d_2\">\n      <g>\n       <use style=\"stroke:#000000;stroke-width:0.3;\" x=\"181.65777\" xlink:href=\"#m65ce98b998\" y=\"28.925089\" />\n      </g>\n     </g>\n     <g id=\"text_2\">\n      \n      <g style=\"fill:#444443;\" transform=\"translate(175.29652 42.003839)scale(0.08 -0.08)\">\n       <defs>\n        <path d=\"M 2419 4116  L 825 1625  L 2419 1625  L 2419 4116  z M 2253 4666  L 3047 4666  L 3047 1625  L 3713 1625  L 3713 1100  L 3047 1100  L 3047 0  L 2419 0  L 2419 1100  L 313 1100  L 313 1709  L 2253 4666  z \" id=\"DejaVuSans-34\" transform=\"scale(0.015625)\" />\n       </defs>\n       <use xlink:href=\"#DejaVuSans-34\" />\n       <use x=\"63.623047\" xlink:href=\"#DejaVuSans-2e\" />\n       <use x=\"95.410156\" xlink:href=\"#DejaVuSans-34\" />\n      </g>\n     </g>\n    </g>\n    <g id=\"text_3\">\n     \n     <g style=\"fill:#444443;\" transform=\"translate(60.48375 56.403214)scale(0.12 -0.12)\">\n      <defs>\n       <path d=\"M 197 991  L 753 1078  Q 800 744 1014 566  Q 1228 388 1613 388  Q 2000 388 2187 545  Q 2375 703 2375 916  Q 2375 1106 2209 1216  Q 2094 1291 1634 1406  Q 1016 1563 777 1677  Q 538 1791 414 1992  Q 291 2194 291 2438  Q 291 2659 392 2848  Q 494 3038 669 3163  Q 800 3259 1026 3326  Q 1253 3394 1513 3394  Q 1903 3394 2198 3281  Q 2494 3169 2634 2976  Q 2775 2784 2828 2463  L 2278 2388  Q 2241 2644 2061 2787  Q 1881 2931 1553 2931  Q 1166 2931 1000 2803  Q 834 2675 834 2503  Q 834 2394 903 2306  Q 972 2216 1119 2156  Q 1203 2125 1616 2013  Q 2213 1853 2448 1751  Q 2684 1650 2818 1456  Q 2953 1263 2953 975  Q 2953 694 2789 445  Q 2625 197 2315 61  Q 2006 -75 1616 -75  Q 969 -75 630 194  Q 291 463 197 991  z \" id=\"ArialMT-73\" transform=\"scale(0.015625)\" />\n       <path d=\"M 2694 1069  L 3275 997  Q 3138 488 2766 206  Q 2394 -75 1816 -75  Q 1088 -75 661 373  Q 234 822 234 1631  Q 234 2469 665 2931  Q 1097 3394 1784 3394  Q 2450 3394 2872 2941  Q 3294 2488 3294 1666  Q 3294 1616 3291 1516  L 816 1516  Q 847 969 1125 678  Q 1403 388 1819 388  Q 2128 388 2347 550  Q 2566 713 2694 1069  z M 847 1978  L 2700 1978  Q 2663 2397 2488 2606  Q 2219 2931 1791 2931  Q 1403 2931 1139 2672  Q 875 2413 847 1978  z \" id=\"ArialMT-65\" transform=\"scale(0.015625)\" />\n       <path d=\"M 422 -1272  L 422 3319  L 934 3319  L 934 2888  Q 1116 3141 1344 3267  Q 1572 3394 1897 3394  Q 2322 3394 2647 3175  Q 2972 2956 3137 2557  Q 3303 2159 3303 1684  Q 3303 1175 3120 767  Q 2938 359 2589 142  Q 2241 -75 1856 -75  Q 1575 -75 1351 44  Q 1128 163 984 344  L 984 -1272  L 422 -1272  z M 931 1641  Q 931 1000 1190 694  Q 1450 388 1819 388  Q 2194 388 2461 705  Q 2728 1022 2728 1688  Q 2728 2322 2467 2637  Q 2206 2953 1844 2953  Q 1484 2953 1207 2617  Q 931 2281 931 1641  z \" id=\"ArialMT-70\" transform=\"scale(0.015625)\" />\n       <path d=\"M 2588 409  Q 2275 144 1986 34  Q 1697 -75 1366 -75  Q 819 -75 525 192  Q 231 459 231 875  Q 231 1119 342 1320  Q 453 1522 633 1644  Q 813 1766 1038 1828  Q 1203 1872 1538 1913  Q 2219 1994 2541 2106  Q 2544 2222 2544 2253  Q 2544 2597 2384 2738  Q 2169 2928 1744 2928  Q 1347 2928 1158 2789  Q 969 2650 878 2297  L 328 2372  Q 403 2725 575 2942  Q 747 3159 1072 3276  Q 1397 3394 1825 3394  Q 2250 3394 2515 3294  Q 2781 3194 2906 3042  Q 3031 2891 3081 2659  Q 3109 2516 3109 2141  L 3109 1391  Q 3109 606 3145 398  Q 3181 191 3288 0  L 2700 0  Q 2613 175 2588 409  z M 2541 1666  Q 2234 1541 1622 1453  Q 1275 1403 1131 1340  Q 988 1278 909 1158  Q 831 1038 831 891  Q 831 666 1001 516  Q 1172 366 1500 366  Q 1825 366 2078 508  Q 2331 650 2450 897  Q 2541 1088 2541 1459  L 2541 1666  z \" id=\"ArialMT-61\" transform=\"scale(0.015625)\" />\n       <path d=\"M 409 0  L 409 4581  L 972 4581  L 972 0  L 409 0  z \" id=\"ArialMT-6c\" transform=\"scale(0.015625)\" />\n       <path id=\"ArialMT-20\" transform=\"scale(0.015625)\" />\n       <path d=\"M 1034 0  L 19 3319  L 600 3319  L 1128 1403  L 1325 691  Q 1338 744 1497 1375  L 2025 3319  L 2603 3319  L 3100 1394  L 3266 759  L 3456 1400  L 4025 3319  L 4572 3319  L 3534 0  L 2950 0  L 2422 1988  L 2294 2553  L 1622 0  L 1034 0  z \" id=\"ArialMT-77\" transform=\"scale(0.015625)\" />\n       <path d=\"M 425 3934  L 425 4581  L 988 4581  L 988 3934  L 425 3934  z M 425 0  L 425 3319  L 988 3319  L 988 0  L 425 0  z \" id=\"ArialMT-69\" transform=\"scale(0.015625)\" />\n       <path d=\"M 2575 0  L 2575 419  Q 2259 -75 1647 -75  Q 1250 -75 917 144  Q 584 363 401 755  Q 219 1147 219 1656  Q 219 2153 384 2558  Q 550 2963 881 3178  Q 1213 3394 1622 3394  Q 1922 3394 2156 3267  Q 2391 3141 2538 2938  L 2538 4581  L 3097 4581  L 3097 0  L 2575 0  z M 797 1656  Q 797 1019 1065 703  Q 1334 388 1700 388  Q 2069 388 2326 689  Q 2584 991 2584 1609  Q 2584 2291 2321 2609  Q 2059 2928 1675 2928  Q 1300 2928 1048 2622  Q 797 2316 797 1656  z \" id=\"ArialMT-64\" transform=\"scale(0.015625)\" />\n       <path d=\"M 1650 503  L 1731 6  Q 1494 -44 1306 -44  Q 1000 -44 831 53  Q 663 150 594 308  Q 525 466 525 972  L 525 2881  L 113 2881  L 113 3319  L 525 3319  L 525 4141  L 1084 4478  L 1084 3319  L 1650 3319  L 1650 2881  L 1084 2881  L 1084 941  Q 1084 700 1114 631  Q 1144 563 1211 522  Q 1278 481 1403 481  Q 1497 481 1650 503  z \" id=\"ArialMT-74\" transform=\"scale(0.015625)\" />\n       <path d=\"M 422 0  L 422 4581  L 984 4581  L 984 2938  Q 1378 3394 1978 3394  Q 2347 3394 2619 3248  Q 2891 3103 3008 2847  Q 3125 2591 3125 2103  L 3125 0  L 2563 0  L 2563 2103  Q 2563 2525 2380 2717  Q 2197 2909 1863 2909  Q 1613 2909 1392 2779  Q 1172 2650 1078 2428  Q 984 2206 984 1816  L 984 0  L 422 0  z \" id=\"ArialMT-68\" transform=\"scale(0.015625)\" />\n       <path d=\"M 1497 -1347  Q 1031 -759 709 28  Q 388 816 388 1659  Q 388 2403 628 3084  Q 909 3875 1497 4659  L 1900 4659  Q 1522 4009 1400 3731  Q 1209 3300 1100 2831  Q 966 2247 966 1656  Q 966 153 1900 -1347  L 1497 -1347  z \" id=\"ArialMT-28\" transform=\"scale(0.015625)\" />\n       <path d=\"M 2588 1216  L 3141 1144  Q 3050 572 2676 248  Q 2303 -75 1759 -75  Q 1078 -75 664 370  Q 250 816 250 1647  Q 250 2184 428 2587  Q 606 2991 970 3192  Q 1334 3394 1763 3394  Q 2303 3394 2647 3120  Q 2991 2847 3088 2344  L 2541 2259  Q 2463 2594 2264 2762  Q 2066 2931 1784 2931  Q 1359 2931 1093 2626  Q 828 2322 828 1663  Q 828 994 1084 691  Q 1341 388 1753 388  Q 2084 388 2306 591  Q 2528 794 2588 1216  z \" id=\"ArialMT-63\" transform=\"scale(0.015625)\" />\n       <path d=\"M 422 0  L 422 3319  L 925 3319  L 925 2853  Q 1081 3097 1340 3245  Q 1600 3394 1931 3394  Q 2300 3394 2536 3241  Q 2772 3088 2869 2813  Q 3263 3394 3894 3394  Q 4388 3394 4653 3120  Q 4919 2847 4919 2278  L 4919 0  L 4359 0  L 4359 2091  Q 4359 2428 4304 2576  Q 4250 2725 4106 2815  Q 3963 2906 3769 2906  Q 3419 2906 3187 2673  Q 2956 2441 2956 1928  L 2956 0  L 2394 0  L 2394 2156  Q 2394 2531 2256 2718  Q 2119 2906 1806 2906  Q 1569 2906 1367 2781  Q 1166 2656 1075 2415  Q 984 2175 984 1722  L 984 0  L 422 0  z \" id=\"ArialMT-6d\" transform=\"scale(0.015625)\" />\n       <path d=\"M 791 -1347  L 388 -1347  Q 1322 153 1322 1656  Q 1322 2244 1188 2822  Q 1081 3291 891 3722  Q 769 4003 388 4659  L 791 4659  Q 1378 3875 1659 3084  Q 1900 2403 1900 1659  Q 1900 816 1576 28  Q 1253 -759 791 -1347  z \" id=\"ArialMT-29\" transform=\"scale(0.015625)\" />\n      </defs>\n      <use xlink:href=\"#ArialMT-73\" />\n      <use x=\"50\" xlink:href=\"#ArialMT-65\" />\n      <use x=\"105.615234\" xlink:href=\"#ArialMT-70\" />\n      <use x=\"161.230469\" xlink:href=\"#ArialMT-61\" />\n      <use x=\"216.845703\" xlink:href=\"#ArialMT-6c\" />\n      <use x=\"239.0625\" xlink:href=\"#ArialMT-20\" />\n      <use x=\"266.845703\" xlink:href=\"#ArialMT-77\" />\n      <use x=\"339.0625\" xlink:href=\"#ArialMT-69\" />\n      <use x=\"361.279297\" xlink:href=\"#ArialMT-64\" />\n      <use x=\"416.894531\" xlink:href=\"#ArialMT-74\" />\n      <use x=\"444.677734\" xlink:href=\"#ArialMT-68\" />\n      <use x=\"500.292969\" xlink:href=\"#ArialMT-20\" />\n      <use x=\"528.076172\" xlink:href=\"#ArialMT-28\" />\n      <use x=\"561.376953\" xlink:href=\"#ArialMT-63\" />\n      <use x=\"611.376953\" xlink:href=\"#ArialMT-6d\" />\n      <use x=\"694.677734\" xlink:href=\"#ArialMT-29\" />\n     </g>\n    </g>\n   </g>\n   <g id=\"matplotlib.axis_2\">\n    <g id=\"ytick_1\">\n     <g id=\"line2d_3\">\n      <defs>\n       <path d=\"M 0 0  L -3.5 0  \" id=\"m52138316a1\" style=\"stroke:#000000;stroke-width:0.3;\" />\n      </defs>\n      <g>\n       <use style=\"stroke:#000000;stroke-width:0.3;\" x=\"12.09\" xlink:href=\"#m52138316a1\" y=\"28.925089\" />\n      </g>\n     </g>\n     <g id=\"text_4\">\n      \n      <g style=\"fill:#444443;\" transform=\"translate(0 31.964464)scale(0.08 -0.08)\">\n       <use xlink:href=\"#DejaVuSans-30\" />\n      </g>\n     </g>\n    </g>\n    <g id=\"ytick_2\">\n     <g id=\"line2d_4\">\n      <g>\n       <use style=\"stroke:#000000;stroke-width:0.3;\" x=\"12.09\" xlink:href=\"#m52138316a1\" y=\"3.039375\" />\n      </g>\n     </g>\n     <g id=\"text_5\">\n      \n      <g style=\"fill:#444443;\" transform=\"translate(0 6.07875)scale(0.08 -0.08)\">\n       <defs>\n        <path d=\"M 794 531  L 1825 531  L 1825 4091  L 703 3866  L 703 4441  L 1819 4666  L 2450 4666  L 2450 531  L 3481 531  L 3481 0  L 794 0  L 794 531  z \" id=\"DejaVuSans-31\" transform=\"scale(0.015625)\" />\n       </defs>\n       <use xlink:href=\"#DejaVuSans-31\" />\n      </g>\n     </g>\n    </g>\n   </g>\n   <g id=\"patch_55\">\n    <path d=\"M 12.09 28.925089  L 12.09 1.745089  \" style=\"fill:none;stroke:#000000;stroke-linecap:square;stroke-linejoin:miter;stroke-width:0.3;\" />\n   </g>\n   <g id=\"patch_56\">\n    <path d=\"M 12.09 28.925089  L 196.23 28.925089  \" style=\"fill:none;stroke:#000000;stroke-linecap:square;stroke-linejoin:miter;stroke-width:0.3;\" />\n   </g>\n   <g id=\"text_6\">\n    \n    <g style=\"fill:#444443;\" transform=\"translate(87.764763 45.233089)scale(0.08 -0.08)\">\n     <defs>\n      <path d=\"M 269 1209  L 831 1284  Q 928 806 1161 595  Q 1394 384 1728 384  Q 2125 384 2398 659  Q 2672 934 2672 1341  Q 2672 1728 2419 1979  Q 2166 2231 1775 2231  Q 1616 2231 1378 2169  L 1441 2663  Q 1497 2656 1531 2656  Q 1891 2656 2178 2843  Q 2466 3031 2466 3422  Q 2466 3731 2256 3934  Q 2047 4138 1716 4138  Q 1388 4138 1169 3931  Q 950 3725 888 3313  L 325 3413  Q 428 3978 793 4289  Q 1159 4600 1703 4600  Q 2078 4600 2393 4439  Q 2709 4278 2876 4000  Q 3044 3722 3044 3409  Q 3044 3113 2884 2869  Q 2725 2625 2413 2481  Q 2819 2388 3044 2092  Q 3269 1797 3269 1353  Q 3269 753 2831 336  Q 2394 -81 1725 -81  Q 1122 -81 723 278  Q 325 638 269 1209  z \" id=\"ArialMT-33\" transform=\"scale(0.015625)\" />\n      <path d=\"M 581 0  L 581 641  L 1222 641  L 1222 0  L 581 0  z \" id=\"ArialMT-2e\" transform=\"scale(0.015625)\" />\n      <path d=\"M 2384 0  L 1822 0  L 1822 3584  Q 1619 3391 1289 3197  Q 959 3003 697 2906  L 697 3450  Q 1169 3672 1522 3987  Q 1875 4303 2022 4600  L 2384 4600  L 2384 0  z \" id=\"ArialMT-31\" transform=\"scale(0.015625)\" />\n      <path d=\"M 266 2259  Q 266 3072 433 3567  Q 600 4063 929 4331  Q 1259 4600 1759 4600  Q 2128 4600 2406 4451  Q 2684 4303 2865 4023  Q 3047 3744 3150 3342  Q 3253 2941 3253 2259  Q 3253 1453 3087 958  Q 2922 463 2592 192  Q 2263 -78 1759 -78  Q 1097 -78 719 397  Q 266 969 266 2259  z M 844 2259  Q 844 1131 1108 757  Q 1372 384 1759 384  Q 2147 384 2411 759  Q 2675 1134 2675 2259  Q 2675 3391 2411 3762  Q 2147 4134 1753 4134  Q 1366 4134 1134 3806  Q 844 3388 844 2259  z \" id=\"ArialMT-30\" transform=\"scale(0.015625)\" />\n     </defs>\n     <use xlink:href=\"#ArialMT-33\" />\n     <use x=\"55.615234\" xlink:href=\"#ArialMT-2e\" />\n     <use x=\"83.398438\" xlink:href=\"#ArialMT-31\" />\n     <use x=\"139.013672\" xlink:href=\"#ArialMT-30\" />\n    </g>\n   </g>\n  </g>\n </g>\n <defs>\n  <clipPath id=\"p4d0a2d721e\">\n   <rect height=\"27.18\" width=\"184.14\" x=\"12.09\" y=\"1.745089\" />\n  </clipPath>\n </defs>\n</svg></g>\n\n<g id=\"node16\" class=\"node\">\n<title>leaf16</title>\n<polygon fill=\"none\" stroke=\"#444443\" stroke-width=\"0\" points=\"389,-88.5 356,-88.5 356,-58.5 389,-58.5 389,-88.5\" />\n<svg height=\"22px\" version=\"1.1\" viewBox=\"0 0 33.010312 29.790477\" width=\"25px\" preserveAspectRatio=\"xMinYMin meet\" x=\"360.5\" y=\"-84.5\">\n <metadata>\n  <rdf:RDF>\n   <ns2:Work>\n    <dc:type rdf:resource=\"http://purl.org/dc/dcmitype/StillImage\" />\n    <dc:date>2021-10-04T20:58:02.772472</dc:date>\n    <dc:format>image/svg+xml</dc:format>\n    <dc:creator>\n     <ns2:Agent>\n      <dc:title>Matplotlib v3.4.3, https://matplotlib.org/</dc:title>\n     </ns2:Agent>\n    </dc:creator>\n   </ns2:Work>\n  </rdf:RDF>\n </metadata>\n <defs>\n  <style type=\"text/css\">*{stroke-linecap:butt;stroke-linejoin:round;}</style>\n </defs>\n <g id=\"figure_1\">\n  <g id=\"patch_1\">\n   <path d=\"M -0 29.790477  L 33.010312 29.790477  L 33.010312 0  L -0 0  z \" style=\"fill:none;\" />\n  </g>\n  <g id=\"axes_1\">\n   <g id=\"patch_2\">\n    <path d=\"M 22.243156 5.738  C 22.243156 4.984493 22.094732 4.238312 21.806377 3.542162  C 21.518022 2.846013 21.095345 2.213431 20.562535 1.680621  C 20.029725 1.147811 19.397144 0.725134 18.700994 0.436779  C 18.004844 0.148424 17.258664 -0 16.505156 -0  C 15.751649 -0 15.005469 0.148424 14.309319 0.436779  C 13.613169 0.725134 12.980588 1.147811 12.447778 1.680621  C 11.914967 2.213431 11.49229 2.846013 11.203935 3.542162  C 10.915581 4.238312 10.767156 4.984493 10.767156 5.738  C 10.767156 6.491507 10.915581 7.237688 11.203935 7.933838  C 11.49229 8.629987 11.914967 9.262569 12.447778 9.795379  C 12.980588 10.328189 13.613169 10.750866 14.309319 11.039221  C 15.005469 11.327576 15.751649 11.476 16.505156 11.476  C 17.258664 11.476 18.004844 11.327576 18.700994 11.039221  C 19.397144 10.750866 20.029725 10.328189 20.562535 9.795379  C 21.095345 9.262569 21.518022 8.629987 21.806377 7.933838  C 22.094732 7.237688 22.243156 6.491507 22.243156 5.738  M 16.505156 5.738  M 22.243156 5.738  z \" style=\"fill:#a1dab4;stroke:#444443;stroke-linejoin:miter;stroke-width:0.5;\" />\n   </g>\n   <g id=\"text_1\">\n    \n    <g style=\"fill:#444443;\" transform=\"translate(8.872031 18.377071)scale(0.09 -0.09)\">\n     <defs>\n      <path d=\"M 422 0  L 422 3319  L 928 3319  L 928 2847  Q 1294 3394 1984 3394  Q 2284 3394 2536 3286  Q 2788 3178 2913 3003  Q 3038 2828 3088 2588  Q 3119 2431 3119 2041  L 3119 0  L 2556 0  L 2556 2019  Q 2556 2363 2490 2533  Q 2425 2703 2258 2804  Q 2091 2906 1866 2906  Q 1506 2906 1245 2678  Q 984 2450 984 1813  L 984 0  L 422 0  z \" id=\"ArialMT-6e\" transform=\"scale(0.015625)\" />\n      <path d=\"M 3381 2694  L 356 2694  L 356 3219  L 3381 3219  L 3381 2694  z M 3381 1303  L 356 1303  L 356 1828  L 3381 1828  L 3381 1303  z \" id=\"ArialMT-3d\" transform=\"scale(0.015625)\" />\n      <path d=\"M 3222 541  L 3222 0  L 194 0  Q 188 203 259 391  Q 375 700 629 1000  Q 884 1300 1366 1694  Q 2113 2306 2375 2664  Q 2638 3022 2638 3341  Q 2638 3675 2398 3904  Q 2159 4134 1775 4134  Q 1369 4134 1125 3890  Q 881 3647 878 3216  L 300 3275  Q 359 3922 746 4261  Q 1134 4600 1788 4600  Q 2447 4600 2831 4234  Q 3216 3869 3216 3328  Q 3216 3053 3103 2787  Q 2991 2522 2730 2228  Q 2469 1934 1863 1422  Q 1356 997 1212 845  Q 1069 694 975 541  L 3222 541  z \" id=\"ArialMT-32\" transform=\"scale(0.015625)\" />\n     </defs>\n     <use xlink:href=\"#ArialMT-6e\" />\n     <use x=\"55.615234\" xlink:href=\"#ArialMT-3d\" />\n     <use x=\"114.013672\" xlink:href=\"#ArialMT-32\" />\n    </g>\n    \n    <g style=\"fill:#444443;\" transform=\"translate(0 27.896259)scale(0.09 -0.09)\">\n     <defs>\n      <path d=\"M 1344 0  L 81 3319  L 675 3319  L 1388 1331  Q 1503 1009 1600 663  Q 1675 925 1809 1294  L 2547 3319  L 3125 3319  L 1869 0  L 1344 0  z \" id=\"ArialMT-76\" transform=\"scale(0.015625)\" />\n      <path d=\"M 425 3934  L 425 4581  L 988 4581  L 988 3934  L 425 3934  z M 425 0  L 425 3319  L 988 3319  L 988 0  L 425 0  z \" id=\"ArialMT-69\" transform=\"scale(0.015625)\" />\n      <path d=\"M 416 0  L 416 3319  L 922 3319  L 922 2816  Q 1116 3169 1280 3281  Q 1444 3394 1641 3394  Q 1925 3394 2219 3213  L 2025 2691  Q 1819 2813 1613 2813  Q 1428 2813 1281 2702  Q 1134 2591 1072 2394  Q 978 2094 978 1738  L 978 0  L 416 0  z \" id=\"ArialMT-72\" transform=\"scale(0.015625)\" />\n      <path d=\"M 319 -275  L 866 -356  Q 900 -609 1056 -725  Q 1266 -881 1628 -881  Q 2019 -881 2231 -725  Q 2444 -569 2519 -288  Q 2563 -116 2559 434  Q 2191 0 1641 0  Q 956 0 581 494  Q 206 988 206 1678  Q 206 2153 378 2554  Q 550 2956 876 3175  Q 1203 3394 1644 3394  Q 2231 3394 2613 2919  L 2613 3319  L 3131 3319  L 3131 450  Q 3131 -325 2973 -648  Q 2816 -972 2473 -1159  Q 2131 -1347 1631 -1347  Q 1038 -1347 672 -1080  Q 306 -813 319 -275  z M 784 1719  Q 784 1066 1043 766  Q 1303 466 1694 466  Q 2081 466 2343 764  Q 2606 1063 2606 1700  Q 2606 2309 2336 2618  Q 2066 2928 1684 2928  Q 1309 2928 1046 2623  Q 784 2319 784 1719  z \" id=\"ArialMT-67\" transform=\"scale(0.015625)\" />\n      <path d=\"M 2588 1216  L 3141 1144  Q 3050 572 2676 248  Q 2303 -75 1759 -75  Q 1078 -75 664 370  Q 250 816 250 1647  Q 250 2184 428 2587  Q 606 2991 970 3192  Q 1334 3394 1763 3394  Q 2303 3394 2647 3120  Q 2991 2847 3088 2344  L 2541 2259  Q 2463 2594 2264 2762  Q 2066 2931 1784 2931  Q 1359 2931 1093 2626  Q 828 2322 828 1663  Q 828 994 1084 691  Q 1341 388 1753 388  Q 2084 388 2306 591  Q 2528 794 2588 1216  z \" id=\"ArialMT-63\" transform=\"scale(0.015625)\" />\n      <path d=\"M 2588 409  Q 2275 144 1986 34  Q 1697 -75 1366 -75  Q 819 -75 525 192  Q 231 459 231 875  Q 231 1119 342 1320  Q 453 1522 633 1644  Q 813 1766 1038 1828  Q 1203 1872 1538 1913  Q 2219 1994 2541 2106  Q 2544 2222 2544 2253  Q 2544 2597 2384 2738  Q 2169 2928 1744 2928  Q 1347 2928 1158 2789  Q 969 2650 878 2297  L 328 2372  Q 403 2725 575 2942  Q 747 3159 1072 3276  Q 1397 3394 1825 3394  Q 2250 3394 2515 3294  Q 2781 3194 2906 3042  Q 3031 2891 3081 2659  Q 3109 2516 3109 2141  L 3109 1391  Q 3109 606 3145 398  Q 3181 191 3288 0  L 2700 0  Q 2613 175 2588 409  z M 2541 1666  Q 2234 1541 1622 1453  Q 1275 1403 1131 1340  Q 988 1278 909 1158  Q 831 1038 831 891  Q 831 666 1001 516  Q 1172 366 1500 366  Q 1825 366 2078 508  Q 2331 650 2450 897  Q 2541 1088 2541 1459  L 2541 1666  z \" id=\"ArialMT-61\" transform=\"scale(0.015625)\" />\n     </defs>\n     <use xlink:href=\"#ArialMT-76\" />\n     <use x=\"50\" xlink:href=\"#ArialMT-69\" />\n     <use x=\"72.216797\" xlink:href=\"#ArialMT-72\" />\n     <use x=\"105.517578\" xlink:href=\"#ArialMT-67\" />\n     <use x=\"161.132812\" xlink:href=\"#ArialMT-69\" />\n     <use x=\"183.349609\" xlink:href=\"#ArialMT-6e\" />\n     <use x=\"238.964844\" xlink:href=\"#ArialMT-69\" />\n     <use x=\"261.181641\" xlink:href=\"#ArialMT-63\" />\n     <use x=\"311.181641\" xlink:href=\"#ArialMT-61\" />\n    </g>\n   </g>\n  </g>\n </g>\n</svg></g>\n\n<g id=\"edge13\" class=\"edge\">\n<title>node15-&gt;leaf16</title>\n<path fill=\"none\" stroke=\"#444443\" stroke-width=\"0.3\" d=\"M385.84,-125.19C383.06,-114.61 379.88,-102.55 377.33,-92.85\" />\n<polygon fill=\"#444443\" stroke=\"#444443\" stroke-width=\"0.3\" points=\"378.65,-92.36 376.28,-88.85 375.94,-93.07 378.65,-92.36\" />\n</g>\n\n<g id=\"node17\" class=\"node\">\n<title>leaf17</title>\n<polygon fill=\"none\" stroke=\"#444443\" stroke-width=\"0\" points=\"440,-88 403,-88 403,-59 440,-59 440,-88\" />\n<svg height=\"21px\" version=\"1.1\" viewBox=\"0 0 38.507344 28.428689\" width=\"29px\" preserveAspectRatio=\"xMinYMin meet\" x=\"407.5\" y=\"-83.5\">\n <metadata>\n  <rdf:RDF>\n   <ns2:Work>\n    <dc:type rdf:resource=\"http://purl.org/dc/dcmitype/StillImage\" />\n    <dc:date>2021-10-04T20:58:02.826475</dc:date>\n    <dc:format>image/svg+xml</dc:format>\n    <dc:creator>\n     <ns2:Agent>\n      <dc:title>Matplotlib v3.4.3, https://matplotlib.org/</dc:title>\n     </ns2:Agent>\n    </dc:creator>\n   </ns2:Work>\n  </rdf:RDF>\n </metadata>\n <defs>\n  <style type=\"text/css\">*{stroke-linecap:butt;stroke-linejoin:round;}</style>\n </defs>\n <g id=\"figure_1\">\n  <g id=\"patch_1\">\n   <path d=\"M -0 28.428689  L 38.507344 28.428689  L 38.507344 0  L -0 0  z \" style=\"fill:none;\" />\n  </g>\n  <g id=\"axes_1\">\n   <g id=\"patch_2\">\n    <path d=\"M 24.387672 5.134  C 24.387672 4.459809 24.254871 3.792174 23.996869 3.169303  C 23.738868 2.546432 23.360683 1.980439 22.883958 1.503714  C 22.407233 1.026989 21.84124 0.648804 21.218369 0.390802  C 20.595498 0.132801 19.927863 0 19.253672 0  C 18.579481 0 17.911846 0.132801 17.288975 0.390802  C 16.666104 0.648804 16.10011 1.026989 15.623386 1.503714  C 15.146661 1.980439 14.768476 2.546432 14.510474 3.169303  C 14.252473 3.792174 14.119672 4.459809 14.119672 5.134  C 14.119672 5.808191 14.252473 6.475826 14.510474 7.098697  C 14.768476 7.721568 15.146661 8.287561 15.623386 8.764286  C 16.10011 9.241011 16.666104 9.619196 17.288975 9.877198  C 17.911846 10.135199 18.579481 10.268 19.253672 10.268  C 19.927863 10.268 20.595498 10.135199 21.218369 9.877198  C 21.84124 9.619196 22.407233 9.241011 22.883958 8.764286  C 23.360683 8.287561 23.738868 7.721568 23.996869 7.098697  C 24.254871 6.475826 24.387672 5.808191 24.387672 5.134  M 19.253672 5.134  M 24.387672 5.134  z \" style=\"fill:#d9e6f5;stroke:#444443;stroke-linejoin:miter;stroke-width:0.5;\" />\n   </g>\n   <g id=\"text_1\">\n    \n    <g style=\"fill:#444443;\" transform=\"translate(11.620547 17.120751)scale(0.09 -0.09)\">\n     <defs>\n      <path d=\"M 422 0  L 422 3319  L 928 3319  L 928 2847  Q 1294 3394 1984 3394  Q 2284 3394 2536 3286  Q 2788 3178 2913 3003  Q 3038 2828 3088 2588  Q 3119 2431 3119 2041  L 3119 0  L 2556 0  L 2556 2019  Q 2556 2363 2490 2533  Q 2425 2703 2258 2804  Q 2091 2906 1866 2906  Q 1506 2906 1245 2678  Q 984 2450 984 1813  L 984 0  L 422 0  z \" id=\"ArialMT-6e\" transform=\"scale(0.015625)\" />\n      <path d=\"M 3381 2694  L 356 2694  L 356 3219  L 3381 3219  L 3381 2694  z M 3381 1303  L 356 1303  L 356 1828  L 3381 1828  L 3381 1303  z \" id=\"ArialMT-3d\" transform=\"scale(0.015625)\" />\n      <path d=\"M 2384 0  L 1822 0  L 1822 3584  Q 1619 3391 1289 3197  Q 959 3003 697 2906  L 697 3450  Q 1169 3672 1522 3987  Q 1875 4303 2022 4600  L 2384 4600  L 2384 0  z \" id=\"ArialMT-31\" transform=\"scale(0.015625)\" />\n     </defs>\n     <use xlink:href=\"#ArialMT-6e\" />\n     <use x=\"55.615234\" xlink:href=\"#ArialMT-3d\" />\n     <use x=\"114.013672\" xlink:href=\"#ArialMT-31\" />\n    </g>\n    \n    <g style=\"fill:#444443;\" transform=\"translate(0 26.639939)scale(0.09 -0.09)\">\n     <defs>\n      <path d=\"M 1344 0  L 81 3319  L 675 3319  L 1388 1331  Q 1503 1009 1600 663  Q 1675 925 1809 1294  L 2547 3319  L 3125 3319  L 1869 0  L 1344 0  z \" id=\"ArialMT-76\" transform=\"scale(0.015625)\" />\n      <path d=\"M 2694 1069  L 3275 997  Q 3138 488 2766 206  Q 2394 -75 1816 -75  Q 1088 -75 661 373  Q 234 822 234 1631  Q 234 2469 665 2931  Q 1097 3394 1784 3394  Q 2450 3394 2872 2941  Q 3294 2488 3294 1666  Q 3294 1616 3291 1516  L 816 1516  Q 847 969 1125 678  Q 1403 388 1819 388  Q 2128 388 2347 550  Q 2566 713 2694 1069  z M 847 1978  L 2700 1978  Q 2663 2397 2488 2606  Q 2219 2931 1791 2931  Q 1403 2931 1139 2672  Q 875 2413 847 1978  z \" id=\"ArialMT-65\" transform=\"scale(0.015625)\" />\n      <path d=\"M 416 0  L 416 3319  L 922 3319  L 922 2816  Q 1116 3169 1280 3281  Q 1444 3394 1641 3394  Q 1925 3394 2219 3213  L 2025 2691  Q 1819 2813 1613 2813  Q 1428 2813 1281 2702  Q 1134 2591 1072 2394  Q 978 2094 978 1738  L 978 0  L 416 0  z \" id=\"ArialMT-72\" transform=\"scale(0.015625)\" />\n      <path d=\"M 197 991  L 753 1078  Q 800 744 1014 566  Q 1228 388 1613 388  Q 2000 388 2187 545  Q 2375 703 2375 916  Q 2375 1106 2209 1216  Q 2094 1291 1634 1406  Q 1016 1563 777 1677  Q 538 1791 414 1992  Q 291 2194 291 2438  Q 291 2659 392 2848  Q 494 3038 669 3163  Q 800 3259 1026 3326  Q 1253 3394 1513 3394  Q 1903 3394 2198 3281  Q 2494 3169 2634 2976  Q 2775 2784 2828 2463  L 2278 2388  Q 2241 2644 2061 2787  Q 1881 2931 1553 2931  Q 1166 2931 1000 2803  Q 834 2675 834 2503  Q 834 2394 903 2306  Q 972 2216 1119 2156  Q 1203 2125 1616 2013  Q 2213 1853 2448 1751  Q 2684 1650 2818 1456  Q 2953 1263 2953 975  Q 2953 694 2789 445  Q 2625 197 2315 61  Q 2006 -75 1616 -75  Q 969 -75 630 194  Q 291 463 197 991  z \" id=\"ArialMT-73\" transform=\"scale(0.015625)\" />\n      <path d=\"M 425 3934  L 425 4581  L 988 4581  L 988 3934  L 425 3934  z M 425 0  L 425 3319  L 988 3319  L 988 0  L 425 0  z \" id=\"ArialMT-69\" transform=\"scale(0.015625)\" />\n      <path d=\"M 2588 1216  L 3141 1144  Q 3050 572 2676 248  Q 2303 -75 1759 -75  Q 1078 -75 664 370  Q 250 816 250 1647  Q 250 2184 428 2587  Q 606 2991 970 3192  Q 1334 3394 1763 3394  Q 2303 3394 2647 3120  Q 2991 2847 3088 2344  L 2541 2259  Q 2463 2594 2264 2762  Q 2066 2931 1784 2931  Q 1359 2931 1093 2626  Q 828 2322 828 1663  Q 828 994 1084 691  Q 1341 388 1753 388  Q 2084 388 2306 591  Q 2528 794 2588 1216  z \" id=\"ArialMT-63\" transform=\"scale(0.015625)\" />\n      <path d=\"M 213 1659  Q 213 2581 725 3025  Q 1153 3394 1769 3394  Q 2453 3394 2887 2945  Q 3322 2497 3322 1706  Q 3322 1066 3130 698  Q 2938 331 2570 128  Q 2203 -75 1769 -75  Q 1072 -75 642 372  Q 213 819 213 1659  z M 791 1659  Q 791 1022 1069 705  Q 1347 388 1769 388  Q 2188 388 2466 706  Q 2744 1025 2744 1678  Q 2744 2294 2464 2611  Q 2184 2928 1769 2928  Q 1347 2928 1069 2612  Q 791 2297 791 1659  z \" id=\"ArialMT-6f\" transform=\"scale(0.015625)\" />\n      <path d=\"M 409 0  L 409 4581  L 972 4581  L 972 0  L 409 0  z \" id=\"ArialMT-6c\" transform=\"scale(0.015625)\" />\n     </defs>\n     <use xlink:href=\"#ArialMT-76\" />\n     <use x=\"50\" xlink:href=\"#ArialMT-65\" />\n     <use x=\"105.615234\" xlink:href=\"#ArialMT-72\" />\n     <use x=\"138.916016\" xlink:href=\"#ArialMT-73\" />\n     <use x=\"188.916016\" xlink:href=\"#ArialMT-69\" />\n     <use x=\"211.132812\" xlink:href=\"#ArialMT-63\" />\n     <use x=\"261.132812\" xlink:href=\"#ArialMT-6f\" />\n     <use x=\"316.748047\" xlink:href=\"#ArialMT-6c\" />\n     <use x=\"338.964844\" xlink:href=\"#ArialMT-6f\" />\n     <use x=\"394.580078\" xlink:href=\"#ArialMT-72\" />\n    </g>\n   </g>\n  </g>\n </g>\n</svg></g>\n\n<g id=\"edge14\" class=\"edge\">\n<title>node15-&gt;leaf17</title>\n<path fill=\"none\" stroke=\"#444443\" stroke-width=\"0.3\" d=\"M402.16,-125.19C406.29,-114.37 411.01,-101.99 414.76,-92.17\" />\n<polygon fill=\"#444443\" stroke=\"#444443\" stroke-width=\"0.3\" points=\"416.07,-92.65 416.19,-88.41 413.46,-91.65 416.07,-92.65\" />\n</g>\n\n<g id=\"node18\" class=\"node\">\n<title>leaf18</title>\n<polygon fill=\"none\" stroke=\"#444443\" stroke-width=\"0\" points=\"537.5,-186 483.5,-186 483.5,-117 537.5,-117 537.5,-186\" />\n<svg height=\"61px\" version=\"1.1\" viewBox=\"0 0 61.004 81.299598\" width=\"46px\" preserveAspectRatio=\"xMinYMin meet\" x=\"487.5\" y=\"-181.5\">\n <metadata>\n  <rdf:RDF>\n   <ns2:Work>\n    <dc:type rdf:resource=\"http://purl.org/dc/dcmitype/StillImage\" />\n    <dc:date>2021-10-04T20:58:02.913809</dc:date>\n    <dc:format>image/svg+xml</dc:format>\n    <dc:creator>\n     <ns2:Agent>\n      <dc:title>Matplotlib v3.4.3, https://matplotlib.org/</dc:title>\n     </ns2:Agent>\n    </dc:creator>\n   </ns2:Work>\n  </rdf:RDF>\n </metadata>\n <defs>\n  <style type=\"text/css\">*{stroke-linecap:butt;stroke-linejoin:round;}</style>\n </defs>\n <g id=\"figure_1\">\n  <g id=\"patch_1\">\n   <path d=\"M 0 81.299598  L 61.004 81.299598  L 61.004 0  L 0 0  z \" style=\"fill:none;\" />\n  </g>\n  <g id=\"axes_1\">\n   <g id=\"patch_2\">\n    <path d=\"M 61.004 30.502  C 61.004 26.496514 60.215007 22.529976 58.682174 18.82939  C 57.14934 15.128803 54.902477 11.766135 52.070171 8.933829  C 49.237865 6.101523 45.875197 3.85466 42.17461 2.321826  C 38.474024 0.788993 34.507486 0 30.502 0  C 26.496514 0 22.529976 0.788993 18.82939 2.321826  C 15.128803 3.85466 11.766135 6.101523 8.933829 8.933829  C 6.101523 11.766135 3.85466 15.128803 2.321826 18.82939  C 0.788993 22.529976 0 26.496514 0 30.502  C 0 34.507486 0.788993 38.474024 2.321826 42.17461  C 3.85466 45.875197 6.101523 49.237865 8.933829 52.070171  C 11.766135 54.902477 15.128803 57.14934 18.82939 58.682174  C 22.529976 60.215007 26.496514 61.004 30.502 61.004  C 34.507486 61.004 38.474024 60.215007 42.17461 58.682174  C 45.875197 57.14934 49.237865 54.902477 52.070171 52.070171  C 54.902477 49.237865 57.14934 45.875197 58.682174 42.17461  C 60.215007 38.474024 61.004 34.507486 61.004 30.502  M 30.502 30.502  M 61.004 30.502  z \" style=\"fill:#a1dab4;stroke:#444443;stroke-linejoin:miter;stroke-width:0.5;\" />\n   </g>\n   <g id=\"text_1\">\n    \n    <g style=\"fill:#444443;\" transform=\"translate(20.366453 69.886191)scale(0.09 -0.09)\">\n     <defs>\n      <path d=\"M 422 0  L 422 3319  L 928 3319  L 928 2847  Q 1294 3394 1984 3394  Q 2284 3394 2536 3286  Q 2788 3178 2913 3003  Q 3038 2828 3088 2588  Q 3119 2431 3119 2041  L 3119 0  L 2556 0  L 2556 2019  Q 2556 2363 2490 2533  Q 2425 2703 2258 2804  Q 2091 2906 1866 2906  Q 1506 2906 1245 2678  Q 984 2450 984 1813  L 984 0  L 422 0  z \" id=\"ArialMT-6e\" transform=\"scale(0.015625)\" />\n      <path d=\"M 3381 2694  L 356 2694  L 356 3219  L 3381 3219  L 3381 2694  z M 3381 1303  L 356 1303  L 356 1828  L 3381 1828  L 3381 1303  z \" id=\"ArialMT-3d\" transform=\"scale(0.015625)\" />\n      <path d=\"M 2069 0  L 2069 1097  L 81 1097  L 81 1613  L 2172 4581  L 2631 4581  L 2631 1613  L 3250 1613  L 3250 1097  L 2631 1097  L 2631 0  L 2069 0  z M 2069 1613  L 2069 3678  L 634 1613  L 2069 1613  z \" id=\"ArialMT-34\" transform=\"scale(0.015625)\" />\n      <path d=\"M 269 1209  L 831 1284  Q 928 806 1161 595  Q 1394 384 1728 384  Q 2125 384 2398 659  Q 2672 934 2672 1341  Q 2672 1728 2419 1979  Q 2166 2231 1775 2231  Q 1616 2231 1378 2169  L 1441 2663  Q 1497 2656 1531 2656  Q 1891 2656 2178 2843  Q 2466 3031 2466 3422  Q 2466 3731 2256 3934  Q 2047 4138 1716 4138  Q 1388 4138 1169 3931  Q 950 3725 888 3313  L 325 3413  Q 428 3978 793 4289  Q 1159 4600 1703 4600  Q 2078 4600 2393 4439  Q 2709 4278 2876 4000  Q 3044 3722 3044 3409  Q 3044 3113 2884 2869  Q 2725 2625 2413 2481  Q 2819 2388 3044 2092  Q 3269 1797 3269 1353  Q 3269 753 2831 336  Q 2394 -81 1725 -81  Q 1122 -81 723 278  Q 325 638 269 1209  z \" id=\"ArialMT-33\" transform=\"scale(0.015625)\" />\n     </defs>\n     <use xlink:href=\"#ArialMT-6e\" />\n     <use x=\"55.615234\" xlink:href=\"#ArialMT-3d\" />\n     <use x=\"114.013672\" xlink:href=\"#ArialMT-34\" />\n     <use x=\"169.628906\" xlink:href=\"#ArialMT-33\" />\n    </g>\n    \n    <g style=\"fill:#444443;\" transform=\"translate(13.996844 79.405379)scale(0.09 -0.09)\">\n     <defs>\n      <path d=\"M 1344 0  L 81 3319  L 675 3319  L 1388 1331  Q 1503 1009 1600 663  Q 1675 925 1809 1294  L 2547 3319  L 3125 3319  L 1869 0  L 1344 0  z \" id=\"ArialMT-76\" transform=\"scale(0.015625)\" />\n      <path d=\"M 425 3934  L 425 4581  L 988 4581  L 988 3934  L 425 3934  z M 425 0  L 425 3319  L 988 3319  L 988 0  L 425 0  z \" id=\"ArialMT-69\" transform=\"scale(0.015625)\" />\n      <path d=\"M 416 0  L 416 3319  L 922 3319  L 922 2816  Q 1116 3169 1280 3281  Q 1444 3394 1641 3394  Q 1925 3394 2219 3213  L 2025 2691  Q 1819 2813 1613 2813  Q 1428 2813 1281 2702  Q 1134 2591 1072 2394  Q 978 2094 978 1738  L 978 0  L 416 0  z \" id=\"ArialMT-72\" transform=\"scale(0.015625)\" />\n      <path d=\"M 319 -275  L 866 -356  Q 900 -609 1056 -725  Q 1266 -881 1628 -881  Q 2019 -881 2231 -725  Q 2444 -569 2519 -288  Q 2563 -116 2559 434  Q 2191 0 1641 0  Q 956 0 581 494  Q 206 988 206 1678  Q 206 2153 378 2554  Q 550 2956 876 3175  Q 1203 3394 1644 3394  Q 2231 3394 2613 2919  L 2613 3319  L 3131 3319  L 3131 450  Q 3131 -325 2973 -648  Q 2816 -972 2473 -1159  Q 2131 -1347 1631 -1347  Q 1038 -1347 672 -1080  Q 306 -813 319 -275  z M 784 1719  Q 784 1066 1043 766  Q 1303 466 1694 466  Q 2081 466 2343 764  Q 2606 1063 2606 1700  Q 2606 2309 2336 2618  Q 2066 2928 1684 2928  Q 1309 2928 1046 2623  Q 784 2319 784 1719  z \" id=\"ArialMT-67\" transform=\"scale(0.015625)\" />\n      <path d=\"M 2588 1216  L 3141 1144  Q 3050 572 2676 248  Q 2303 -75 1759 -75  Q 1078 -75 664 370  Q 250 816 250 1647  Q 250 2184 428 2587  Q 606 2991 970 3192  Q 1334 3394 1763 3394  Q 2303 3394 2647 3120  Q 2991 2847 3088 2344  L 2541 2259  Q 2463 2594 2264 2762  Q 2066 2931 1784 2931  Q 1359 2931 1093 2626  Q 828 2322 828 1663  Q 828 994 1084 691  Q 1341 388 1753 388  Q 2084 388 2306 591  Q 2528 794 2588 1216  z \" id=\"ArialMT-63\" transform=\"scale(0.015625)\" />\n      <path d=\"M 2588 409  Q 2275 144 1986 34  Q 1697 -75 1366 -75  Q 819 -75 525 192  Q 231 459 231 875  Q 231 1119 342 1320  Q 453 1522 633 1644  Q 813 1766 1038 1828  Q 1203 1872 1538 1913  Q 2219 1994 2541 2106  Q 2544 2222 2544 2253  Q 2544 2597 2384 2738  Q 2169 2928 1744 2928  Q 1347 2928 1158 2789  Q 969 2650 878 2297  L 328 2372  Q 403 2725 575 2942  Q 747 3159 1072 3276  Q 1397 3394 1825 3394  Q 2250 3394 2515 3294  Q 2781 3194 2906 3042  Q 3031 2891 3081 2659  Q 3109 2516 3109 2141  L 3109 1391  Q 3109 606 3145 398  Q 3181 191 3288 0  L 2700 0  Q 2613 175 2588 409  z M 2541 1666  Q 2234 1541 1622 1453  Q 1275 1403 1131 1340  Q 988 1278 909 1158  Q 831 1038 831 891  Q 831 666 1001 516  Q 1172 366 1500 366  Q 1825 366 2078 508  Q 2331 650 2450 897  Q 2541 1088 2541 1459  L 2541 1666  z \" id=\"ArialMT-61\" transform=\"scale(0.015625)\" />\n     </defs>\n     <use xlink:href=\"#ArialMT-76\" />\n     <use x=\"50\" xlink:href=\"#ArialMT-69\" />\n     <use x=\"72.216797\" xlink:href=\"#ArialMT-72\" />\n     <use x=\"105.517578\" xlink:href=\"#ArialMT-67\" />\n     <use x=\"161.132812\" xlink:href=\"#ArialMT-69\" />\n     <use x=\"183.349609\" xlink:href=\"#ArialMT-6e\" />\n     <use x=\"238.964844\" xlink:href=\"#ArialMT-69\" />\n     <use x=\"261.181641\" xlink:href=\"#ArialMT-63\" />\n     <use x=\"311.181641\" xlink:href=\"#ArialMT-61\" />\n    </g>\n   </g>\n  </g>\n </g>\n</svg></g>\n\n\n<g id=\"edge16\" class=\"edge\">\n<title>node14-&gt;node15</title>\n<path fill=\"none\" stroke=\"#444443\" stroke-width=\"0.3\" d=\"M393.74,-205.05C393.56,-197.4 393.37,-189.27 393.19,-181.75\" />\n<polygon fill=\"#444443\" stroke=\"#444443\" stroke-width=\"0.3\" points=\"394.59,-181.61 393.1,-177.64 391.79,-181.68 394.59,-181.61\" />\n</g>\n\n<g id=\"edge17\" class=\"edge\">\n<title>node14-&gt;leaf18</title>\n<path fill=\"none\" stroke=\"#444443\" stroke-width=\"0.3\" d=\"M438.02,-205.29C451.89,-195.19 466.94,-184.23 479.71,-174.93\" />\n<polygon fill=\"#444443\" stroke=\"#444443\" stroke-width=\"0.3\" points=\"480.84,-175.84 483.25,-172.35 479.19,-173.57 480.84,-175.84\" />\n</g>\n\n<g id=\"edge19\" class=\"edge\">\n<title>node6-&gt;node7</title>\n<path fill=\"none\" stroke=\"#444443\" stroke-width=\"0.3\" d=\"M241.87,-294.1C239.23,-286.18 236.4,-277.71 233.78,-269.84\" />\n<polygon fill=\"#444443\" stroke=\"#444443\" stroke-width=\"0.3\" points=\"235.1,-269.39 232.51,-266.03 232.45,-270.27 235.1,-269.39\" />\n</g>\n\n<g id=\"edge20\" class=\"edge\">\n<title>node6-&gt;node14</title>\n<path fill=\"none\" stroke=\"#444443\" stroke-width=\"0.3\" d=\"M304.17,-294.34C315.52,-287.39 327.59,-279.99 339.09,-272.95\" />\n<polygon fill=\"#444443\" stroke=\"#444443\" stroke-width=\"0.3\" points=\"339.95,-274.06 342.63,-270.78 338.49,-271.67 339.95,-274.06\" />\n</g>\n\n<g id=\"node8\" class=\"node\">\n<title>node2</title>\n<svg height=\"63px\" version=\"1.1\" viewBox=\"0 0 201.32 84.814554\" width=\"151px\" preserveAspectRatio=\"xMinYMin meet\" x=\"111.5\" y=\"-449.5\">\n <metadata>\n  <rdf:RDF>\n   <ns2:Work>\n    <dc:type rdf:resource=\"http://purl.org/dc/dcmitype/StillImage\" />\n    <dc:date>2021-10-04T20:58:01.969270</dc:date>\n    <dc:format>image/svg+xml</dc:format>\n    <dc:creator>\n     <ns2:Agent>\n      <dc:title>Matplotlib v3.4.3, https://matplotlib.org/</dc:title>\n     </ns2:Agent>\n    </dc:creator>\n   </ns2:Work>\n  </rdf:RDF>\n </metadata>\n <defs>\n  <style type=\"text/css\">*{stroke-linecap:butt;stroke-linejoin:round;}</style>\n </defs>\n <g id=\"figure_1\">\n  <g id=\"patch_1\">\n   <path d=\"M 0 84.814554  L 201.32 84.814554  L 201.32 0  L 0 0  z \" style=\"fill:none;\" />\n  </g>\n  <g id=\"axes_1\">\n   <g id=\"patch_2\">\n    <path d=\"M 17.18 54.810804  L 201.32 54.810804  L 201.32 0.450804  L 17.18 0.450804  z \" style=\"fill:#ffffff;\" />\n   </g>\n   <g id=\"patch_3\">\n    <path clip-path=\"url(#p96b25fd3e8)\" d=\"M 19.509043 54.810804  L 29.612982 54.810804  L 29.612982 54.810804  L 19.509043 54.810804  z \" style=\"fill:#fefebb;stroke:#444443;stroke-linejoin:miter;stroke-width:0.5;\" />\n   </g>\n   <g id=\"patch_4\">\n    <path clip-path=\"url(#p96b25fd3e8)\" d=\"M 29.612982 54.810804  L 39.716921 54.810804  L 39.716921 54.810804  L 29.612982 54.810804  z \" style=\"fill:#fefebb;stroke:#444443;stroke-linejoin:miter;stroke-width:0.5;\" />\n   </g>\n   <g id=\"patch_5\">\n    <path clip-path=\"url(#p96b25fd3e8)\" d=\"M 39.716921 54.810804  L 49.820859 54.810804  L 49.820859 54.810804  L 39.716921 54.810804  z \" style=\"fill:#fefebb;stroke:#444443;stroke-linejoin:miter;stroke-width:0.5;\" />\n   </g>\n   <g id=\"patch_6\">\n    <path clip-path=\"url(#p96b25fd3e8)\" d=\"M 49.820859 54.810804  L 59.924798 54.810804  L 59.924798 54.810804  L 49.820859 54.810804  z \" style=\"fill:#fefebb;stroke:#444443;stroke-linejoin:miter;stroke-width:0.5;\" />\n   </g>\n   <g id=\"patch_7\">\n    <path clip-path=\"url(#p96b25fd3e8)\" d=\"M 59.924798 54.810804  L 70.028737 54.810804  L 70.028737 54.810804  L 59.924798 54.810804  z \" style=\"fill:#fefebb;stroke:#444443;stroke-linejoin:miter;stroke-width:0.5;\" />\n   </g>\n   <g id=\"patch_8\">\n    <path clip-path=\"url(#p96b25fd3e8)\" d=\"M 70.028737 54.810804  L 80.132675 54.810804  L 80.132675 54.810804  L 70.028737 54.810804  z \" style=\"fill:#fefebb;stroke:#444443;stroke-linejoin:miter;stroke-width:0.5;\" />\n   </g>\n   <g id=\"patch_9\">\n    <path clip-path=\"url(#p96b25fd3e8)\" d=\"M 80.132675 54.810804  L 90.236614 54.810804  L 90.236614 54.810804  L 80.132675 54.810804  z \" style=\"fill:#fefebb;stroke:#444443;stroke-linejoin:miter;stroke-width:0.5;\" />\n   </g>\n   <g id=\"patch_10\">\n    <path clip-path=\"url(#p96b25fd3e8)\" d=\"M 90.236614 54.810804  L 100.340552 54.810804  L 100.340552 54.810804  L 90.236614 54.810804  z \" style=\"fill:#fefebb;stroke:#444443;stroke-linejoin:miter;stroke-width:0.5;\" />\n   </g>\n   <g id=\"patch_11\">\n    <path clip-path=\"url(#p96b25fd3e8)\" d=\"M 100.340552 54.810804  L 110.444491 54.810804  L 110.444491 54.810804  L 100.340552 54.810804  z \" style=\"fill:#fefebb;stroke:#444443;stroke-linejoin:miter;stroke-width:0.5;\" />\n   </g>\n   <g id=\"patch_12\">\n    <path clip-path=\"url(#p96b25fd3e8)\" d=\"M 110.444491 54.810804  L 120.54843 54.810804  L 120.54843 54.810804  L 110.444491 54.810804  z \" style=\"fill:#fefebb;stroke:#444443;stroke-linejoin:miter;stroke-width:0.5;\" />\n   </g>\n   <g id=\"patch_13\">\n    <path clip-path=\"url(#p96b25fd3e8)\" d=\"M 120.54843 54.810804  L 130.652368 54.810804  L 130.652368 54.810804  L 120.54843 54.810804  z \" style=\"fill:#fefebb;stroke:#444443;stroke-linejoin:miter;stroke-width:0.5;\" />\n   </g>\n   <g id=\"patch_14\">\n    <path clip-path=\"url(#p96b25fd3e8)\" d=\"M 130.652368 54.810804  L 140.756307 54.810804  L 140.756307 54.810804  L 130.652368 54.810804  z \" style=\"fill:#fefebb;stroke:#444443;stroke-linejoin:miter;stroke-width:0.5;\" />\n   </g>\n   <g id=\"patch_15\">\n    <path clip-path=\"url(#p96b25fd3e8)\" d=\"M 140.756307 54.810804  L 150.860246 54.810804  L 150.860246 54.810804  L 140.756307 54.810804  z \" style=\"fill:#fefebb;stroke:#444443;stroke-linejoin:miter;stroke-width:0.5;\" />\n   </g>\n   <g id=\"patch_16\">\n    <path clip-path=\"url(#p96b25fd3e8)\" d=\"M 150.860246 54.810804  L 160.964184 54.810804  L 160.964184 54.810804  L 150.860246 54.810804  z \" style=\"fill:#fefebb;stroke:#444443;stroke-linejoin:miter;stroke-width:0.5;\" />\n   </g>\n   <g id=\"patch_17\">\n    <path clip-path=\"url(#p96b25fd3e8)\" d=\"M 160.964184 54.810804  L 171.068123 54.810804  L 171.068123 54.810804  L 160.964184 54.810804  z \" style=\"fill:#fefebb;stroke:#444443;stroke-linejoin:miter;stroke-width:0.5;\" />\n   </g>\n   <g id=\"patch_18\">\n    <path clip-path=\"url(#p96b25fd3e8)\" d=\"M 171.068123 54.810804  L 181.172061 54.810804  L 181.172061 54.810804  L 171.068123 54.810804  z \" style=\"fill:#fefebb;stroke:#444443;stroke-linejoin:miter;stroke-width:0.5;\" />\n   </g>\n   <g id=\"patch_19\">\n    <path clip-path=\"url(#p96b25fd3e8)\" d=\"M 181.172061 54.810804  L 191.276 54.810804  L 191.276 54.810804  L 181.172061 54.810804  z \" style=\"fill:#fefebb;stroke:#444443;stroke-linejoin:miter;stroke-width:0.5;\" />\n   </g>\n   <g id=\"patch_20\">\n    <path clip-path=\"url(#p96b25fd3e8)\" d=\"M 19.509043 54.810804  L 29.612982 54.810804  L 29.612982 54.810804  L 19.509043 54.810804  z \" style=\"fill:#d9e6f5;stroke:#444443;stroke-linejoin:miter;stroke-width:0.5;\" />\n   </g>\n   <g id=\"patch_21\">\n    <path clip-path=\"url(#p96b25fd3e8)\" d=\"M 29.612982 54.810804  L 39.716921 54.810804  L 39.716921 54.810804  L 29.612982 54.810804  z \" style=\"fill:#d9e6f5;stroke:#444443;stroke-linejoin:miter;stroke-width:0.5;\" />\n   </g>\n   <g id=\"patch_22\">\n    <path clip-path=\"url(#p96b25fd3e8)\" d=\"M 39.716921 54.810804  L 49.820859 54.810804  L 49.820859 54.810804  L 39.716921 54.810804  z \" style=\"fill:#d9e6f5;stroke:#444443;stroke-linejoin:miter;stroke-width:0.5;\" />\n   </g>\n   <g id=\"patch_23\">\n    <path clip-path=\"url(#p96b25fd3e8)\" d=\"M 49.820859 54.810804  L 59.924798 54.810804  L 59.924798 54.810804  L 49.820859 54.810804  z \" style=\"fill:#d9e6f5;stroke:#444443;stroke-linejoin:miter;stroke-width:0.5;\" />\n   </g>\n   <g id=\"patch_24\">\n    <path clip-path=\"url(#p96b25fd3e8)\" d=\"M 59.924798 54.810804  L 70.028737 54.810804  L 70.028737 54.810804  L 59.924798 54.810804  z \" style=\"fill:#d9e6f5;stroke:#444443;stroke-linejoin:miter;stroke-width:0.5;\" />\n   </g>\n   <g id=\"patch_25\">\n    <path clip-path=\"url(#p96b25fd3e8)\" d=\"M 70.028737 54.810804  L 80.132675 54.810804  L 80.132675 52.222232  L 70.028737 52.222232  z \" style=\"fill:#d9e6f5;stroke:#444443;stroke-linejoin:miter;stroke-width:0.5;\" />\n   </g>\n   <g id=\"patch_26\">\n    <path clip-path=\"url(#p96b25fd3e8)\" d=\"M 80.132675 54.810804  L 90.236614 54.810804  L 90.236614 49.633661  L 80.132675 49.633661  z \" style=\"fill:#d9e6f5;stroke:#444443;stroke-linejoin:miter;stroke-width:0.5;\" />\n   </g>\n   <g id=\"patch_27\">\n    <path clip-path=\"url(#p96b25fd3e8)\" d=\"M 90.236614 54.810804  L 100.340552 54.810804  L 100.340552 44.456518  L 90.236614 44.456518  z \" style=\"fill:#d9e6f5;stroke:#444443;stroke-linejoin:miter;stroke-width:0.5;\" />\n   </g>\n   <g id=\"patch_28\">\n    <path clip-path=\"url(#p96b25fd3e8)\" d=\"M 100.340552 54.810804  L 110.444491 54.810804  L 110.444491 23.747946  L 100.340552 23.747946  z \" style=\"fill:#d9e6f5;stroke:#444443;stroke-linejoin:miter;stroke-width:0.5;\" />\n   </g>\n   <g id=\"patch_29\">\n    <path clip-path=\"url(#p96b25fd3e8)\" d=\"M 110.444491 54.810804  L 120.54843 54.810804  L 120.54843 28.925089  L 110.444491 28.925089  z \" style=\"fill:#d9e6f5;stroke:#444443;stroke-linejoin:miter;stroke-width:0.5;\" />\n   </g>\n   <g id=\"patch_30\">\n    <path clip-path=\"url(#p96b25fd3e8)\" d=\"M 120.54843 54.810804  L 130.652368 54.810804  L 130.652368 10.805089  L 120.54843 10.805089  z \" style=\"fill:#d9e6f5;stroke:#444443;stroke-linejoin:miter;stroke-width:0.5;\" />\n   </g>\n   <g id=\"patch_31\">\n    <path clip-path=\"url(#p96b25fd3e8)\" d=\"M 130.652368 54.810804  L 140.756307 54.810804  L 140.756307 44.456518  L 130.652368 44.456518  z \" style=\"fill:#d9e6f5;stroke:#444443;stroke-linejoin:miter;stroke-width:0.5;\" />\n   </g>\n   <g id=\"patch_32\">\n    <path clip-path=\"url(#p96b25fd3e8)\" d=\"M 140.756307 54.810804  L 150.860246 54.810804  L 150.860246 54.810804  L 140.756307 54.810804  z \" style=\"fill:#d9e6f5;stroke:#444443;stroke-linejoin:miter;stroke-width:0.5;\" />\n   </g>\n   <g id=\"patch_33\">\n    <path clip-path=\"url(#p96b25fd3e8)\" d=\"M 150.860246 54.810804  L 160.964184 54.810804  L 160.964184 54.810804  L 150.860246 54.810804  z \" style=\"fill:#d9e6f5;stroke:#444443;stroke-linejoin:miter;stroke-width:0.5;\" />\n   </g>\n   <g id=\"patch_34\">\n    <path clip-path=\"url(#p96b25fd3e8)\" d=\"M 160.964184 54.810804  L 171.068123 54.810804  L 171.068123 54.810804  L 160.964184 54.810804  z \" style=\"fill:#d9e6f5;stroke:#444443;stroke-linejoin:miter;stroke-width:0.5;\" />\n   </g>\n   <g id=\"patch_35\">\n    <path clip-path=\"url(#p96b25fd3e8)\" d=\"M 171.068123 54.810804  L 181.172061 54.810804  L 181.172061 54.810804  L 171.068123 54.810804  z \" style=\"fill:#d9e6f5;stroke:#444443;stroke-linejoin:miter;stroke-width:0.5;\" />\n   </g>\n   <g id=\"patch_36\">\n    <path clip-path=\"url(#p96b25fd3e8)\" d=\"M 181.172061 54.810804  L 191.276 54.810804  L 191.276 54.810804  L 181.172061 54.810804  z \" style=\"fill:#d9e6f5;stroke:#444443;stroke-linejoin:miter;stroke-width:0.5;\" />\n   </g>\n   <g id=\"patch_37\">\n    <path clip-path=\"url(#p96b25fd3e8)\" d=\"M 19.509043 54.810804  L 29.612982 54.810804  L 29.612982 54.810804  L 19.509043 54.810804  z \" style=\"fill:#a1dab4;stroke:#444443;stroke-linejoin:miter;stroke-width:0.5;\" />\n   </g>\n   <g id=\"patch_38\">\n    <path clip-path=\"url(#p96b25fd3e8)\" d=\"M 29.612982 54.810804  L 39.716921 54.810804  L 39.716921 54.810804  L 29.612982 54.810804  z \" style=\"fill:#a1dab4;stroke:#444443;stroke-linejoin:miter;stroke-width:0.5;\" />\n   </g>\n   <g id=\"patch_39\">\n    <path clip-path=\"url(#p96b25fd3e8)\" d=\"M 39.716921 54.810804  L 49.820859 54.810804  L 49.820859 54.810804  L 39.716921 54.810804  z \" style=\"fill:#a1dab4;stroke:#444443;stroke-linejoin:miter;stroke-width:0.5;\" />\n   </g>\n   <g id=\"patch_40\">\n    <path clip-path=\"url(#p96b25fd3e8)\" d=\"M 49.820859 54.810804  L 59.924798 54.810804  L 59.924798 54.810804  L 49.820859 54.810804  z \" style=\"fill:#a1dab4;stroke:#444443;stroke-linejoin:miter;stroke-width:0.5;\" />\n   </g>\n   <g id=\"patch_41\">\n    <path clip-path=\"url(#p96b25fd3e8)\" d=\"M 59.924798 54.810804  L 70.028737 54.810804  L 70.028737 54.810804  L 59.924798 54.810804  z \" style=\"fill:#a1dab4;stroke:#444443;stroke-linejoin:miter;stroke-width:0.5;\" />\n   </g>\n   <g id=\"patch_42\">\n    <path clip-path=\"url(#p96b25fd3e8)\" d=\"M 70.028737 52.222232  L 80.132675 52.222232  L 80.132675 52.222232  L 70.028737 52.222232  z \" style=\"fill:#a1dab4;stroke:#444443;stroke-linejoin:miter;stroke-width:0.5;\" />\n   </g>\n   <g id=\"patch_43\">\n    <path clip-path=\"url(#p96b25fd3e8)\" d=\"M 80.132675 49.633661  L 90.236614 49.633661  L 90.236614 49.633661  L 80.132675 49.633661  z \" style=\"fill:#a1dab4;stroke:#444443;stroke-linejoin:miter;stroke-width:0.5;\" />\n   </g>\n   <g id=\"patch_44\">\n    <path clip-path=\"url(#p96b25fd3e8)\" d=\"M 90.236614 44.456518  L 100.340552 44.456518  L 100.340552 44.456518  L 90.236614 44.456518  z \" style=\"fill:#a1dab4;stroke:#444443;stroke-linejoin:miter;stroke-width:0.5;\" />\n   </g>\n   <g id=\"patch_45\">\n    <path clip-path=\"url(#p96b25fd3e8)\" d=\"M 100.340552 23.747946  L 110.444491 23.747946  L 110.444491 23.747946  L 100.340552 23.747946  z \" style=\"fill:#a1dab4;stroke:#444443;stroke-linejoin:miter;stroke-width:0.5;\" />\n   </g>\n   <g id=\"patch_46\">\n    <path clip-path=\"url(#p96b25fd3e8)\" d=\"M 110.444491 28.925089  L 120.54843 28.925089  L 120.54843 28.925089  L 110.444491 28.925089  z \" style=\"fill:#a1dab4;stroke:#444443;stroke-linejoin:miter;stroke-width:0.5;\" />\n   </g>\n   <g id=\"patch_47\">\n    <path clip-path=\"url(#p96b25fd3e8)\" d=\"M 120.54843 10.805089  L 130.652368 10.805089  L 130.652368 3.039375  L 120.54843 3.039375  z \" style=\"fill:#a1dab4;stroke:#444443;stroke-linejoin:miter;stroke-width:0.5;\" />\n   </g>\n   <g id=\"patch_48\">\n    <path clip-path=\"url(#p96b25fd3e8)\" d=\"M 130.652368 44.456518  L 140.756307 44.456518  L 140.756307 10.805089  L 130.652368 10.805089  z \" style=\"fill:#a1dab4;stroke:#444443;stroke-linejoin:miter;stroke-width:0.5;\" />\n   </g>\n   <g id=\"patch_49\">\n    <path clip-path=\"url(#p96b25fd3e8)\" d=\"M 140.756307 54.810804  L 150.860246 54.810804  L 150.860246 31.513661  L 140.756307 31.513661  z \" style=\"fill:#a1dab4;stroke:#444443;stroke-linejoin:miter;stroke-width:0.5;\" />\n   </g>\n   <g id=\"patch_50\">\n    <path clip-path=\"url(#p96b25fd3e8)\" d=\"M 150.860246 54.810804  L 160.964184 54.810804  L 160.964184 23.747946  L 150.860246 23.747946  z \" style=\"fill:#a1dab4;stroke:#444443;stroke-linejoin:miter;stroke-width:0.5;\" />\n   </g>\n   <g id=\"patch_51\">\n    <path clip-path=\"url(#p96b25fd3e8)\" d=\"M 160.964184 54.810804  L 171.068123 54.810804  L 171.068123 36.690804  L 160.964184 36.690804  z \" style=\"fill:#a1dab4;stroke:#444443;stroke-linejoin:miter;stroke-width:0.5;\" />\n   </g>\n   <g id=\"patch_52\">\n    <path clip-path=\"url(#p96b25fd3e8)\" d=\"M 171.068123 54.810804  L 181.172061 54.810804  L 181.172061 49.633661  L 171.068123 49.633661  z \" style=\"fill:#a1dab4;stroke:#444443;stroke-linejoin:miter;stroke-width:0.5;\" />\n   </g>\n   <g id=\"patch_53\">\n    <path clip-path=\"url(#p96b25fd3e8)\" d=\"M 181.172061 54.810804  L 191.276 54.810804  L 191.276 44.456518  L 181.172061 44.456518  z \" style=\"fill:#a1dab4;stroke:#444443;stroke-linejoin:miter;stroke-width:0.5;\" />\n   </g>\n   <g id=\"patch_54\">\n    <path d=\"M 128.682957 55.626204  L 125.368437 62.964804  L 131.997477 62.964804  z \" style=\"fill:#444443;\" />\n   </g>\n   <g id=\"matplotlib.axis_1\">\n    <g id=\"xtick_1\">\n     <g id=\"line2d_1\">\n      <defs>\n       <path d=\"M 0 0  L 0 3.5  \" id=\"m4b9da06823\" style=\"stroke:#000000;stroke-width:0.3;\" />\n      </defs>\n      <g>\n       <use style=\"stroke:#000000;stroke-width:0.3;\" x=\"19.509043\" xlink:href=\"#m4b9da06823\" y=\"54.810804\" />\n      </g>\n     </g>\n     <g id=\"text_1\">\n      \n      <g style=\"fill:#444443;\" transform=\"translate(13.147793 67.889554)scale(0.08 -0.08)\">\n       <defs>\n        <path d=\"M 794 531  L 1825 531  L 1825 4091  L 703 3866  L 703 4441  L 1819 4666  L 2450 4666  L 2450 531  L 3481 531  L 3481 0  L 794 0  L 794 531  z \" id=\"DejaVuSans-31\" transform=\"scale(0.015625)\" />\n        <path d=\"M 684 794  L 1344 794  L 1344 0  L 684 0  L 684 794  z \" id=\"DejaVuSans-2e\" transform=\"scale(0.015625)\" />\n        <path d=\"M 2034 4250  Q 1547 4250 1301 3770  Q 1056 3291 1056 2328  Q 1056 1369 1301 889  Q 1547 409 2034 409  Q 2525 409 2770 889  Q 3016 1369 3016 2328  Q 3016 3291 2770 3770  Q 2525 4250 2034 4250  z M 2034 4750  Q 2819 4750 3233 4129  Q 3647 3509 3647 2328  Q 3647 1150 3233 529  Q 2819 -91 2034 -91  Q 1250 -91 836 529  Q 422 1150 422 2328  Q 422 3509 836 4129  Q 1250 4750 2034 4750  z \" id=\"DejaVuSans-30\" transform=\"scale(0.015625)\" />\n       </defs>\n       <use xlink:href=\"#DejaVuSans-31\" />\n       <use x=\"63.623047\" xlink:href=\"#DejaVuSans-2e\" />\n       <use x=\"95.410156\" xlink:href=\"#DejaVuSans-30\" />\n      </g>\n     </g>\n    </g>\n    <g id=\"xtick_2\">\n     <g id=\"line2d_2\">\n      <g>\n       <use style=\"stroke:#000000;stroke-width:0.3;\" x=\"191.276\" xlink:href=\"#m4b9da06823\" y=\"54.810804\" />\n      </g>\n     </g>\n     <g id=\"text_2\">\n      \n      <g style=\"fill:#444443;\" transform=\"translate(184.91475 67.889554)scale(0.08 -0.08)\">\n       <defs>\n        <path d=\"M 2113 2584  Q 1688 2584 1439 2293  Q 1191 2003 1191 1497  Q 1191 994 1439 701  Q 1688 409 2113 409  Q 2538 409 2786 701  Q 3034 994 3034 1497  Q 3034 2003 2786 2293  Q 2538 2584 2113 2584  z M 3366 4563  L 3366 3988  Q 3128 4100 2886 4159  Q 2644 4219 2406 4219  Q 1781 4219 1451 3797  Q 1122 3375 1075 2522  Q 1259 2794 1537 2939  Q 1816 3084 2150 3084  Q 2853 3084 3261 2657  Q 3669 2231 3669 1497  Q 3669 778 3244 343  Q 2819 -91 2113 -91  Q 1303 -91 875 529  Q 447 1150 447 2328  Q 447 3434 972 4092  Q 1497 4750 2381 4750  Q 2619 4750 2861 4703  Q 3103 4656 3366 4563  z \" id=\"DejaVuSans-36\" transform=\"scale(0.015625)\" />\n        <path d=\"M 703 97  L 703 672  Q 941 559 1184 500  Q 1428 441 1663 441  Q 2288 441 2617 861  Q 2947 1281 2994 2138  Q 2813 1869 2534 1725  Q 2256 1581 1919 1581  Q 1219 1581 811 2004  Q 403 2428 403 3163  Q 403 3881 828 4315  Q 1253 4750 1959 4750  Q 2769 4750 3195 4129  Q 3622 3509 3622 2328  Q 3622 1225 3098 567  Q 2575 -91 1691 -91  Q 1453 -91 1209 -44  Q 966 3 703 97  z M 1959 2075  Q 2384 2075 2632 2365  Q 2881 2656 2881 3163  Q 2881 3666 2632 3958  Q 2384 4250 1959 4250  Q 1534 4250 1286 3958  Q 1038 3666 1038 3163  Q 1038 2656 1286 2365  Q 1534 2075 1959 2075  z \" id=\"DejaVuSans-39\" transform=\"scale(0.015625)\" />\n       </defs>\n       <use xlink:href=\"#DejaVuSans-36\" />\n       <use x=\"63.623047\" xlink:href=\"#DejaVuSans-2e\" />\n       <use x=\"95.410156\" xlink:href=\"#DejaVuSans-39\" />\n      </g>\n     </g>\n    </g>\n    <g id=\"text_3\">\n     \n     <g style=\"fill:#444443;\" transform=\"translate(64.566875 82.288929)scale(0.12 -0.12)\">\n      <defs>\n       <path d=\"M 422 -1272  L 422 3319  L 934 3319  L 934 2888  Q 1116 3141 1344 3267  Q 1572 3394 1897 3394  Q 2322 3394 2647 3175  Q 2972 2956 3137 2557  Q 3303 2159 3303 1684  Q 3303 1175 3120 767  Q 2938 359 2589 142  Q 2241 -75 1856 -75  Q 1575 -75 1351 44  Q 1128 163 984 344  L 984 -1272  L 422 -1272  z M 931 1641  Q 931 1000 1190 694  Q 1450 388 1819 388  Q 2194 388 2461 705  Q 2728 1022 2728 1688  Q 2728 2322 2467 2637  Q 2206 2953 1844 2953  Q 1484 2953 1207 2617  Q 931 2281 931 1641  z \" id=\"ArialMT-70\" transform=\"scale(0.015625)\" />\n       <path d=\"M 2694 1069  L 3275 997  Q 3138 488 2766 206  Q 2394 -75 1816 -75  Q 1088 -75 661 373  Q 234 822 234 1631  Q 234 2469 665 2931  Q 1097 3394 1784 3394  Q 2450 3394 2872 2941  Q 3294 2488 3294 1666  Q 3294 1616 3291 1516  L 816 1516  Q 847 969 1125 678  Q 1403 388 1819 388  Q 2128 388 2347 550  Q 2566 713 2694 1069  z M 847 1978  L 2700 1978  Q 2663 2397 2488 2606  Q 2219 2931 1791 2931  Q 1403 2931 1139 2672  Q 875 2413 847 1978  z \" id=\"ArialMT-65\" transform=\"scale(0.015625)\" />\n       <path d=\"M 1650 503  L 1731 6  Q 1494 -44 1306 -44  Q 1000 -44 831 53  Q 663 150 594 308  Q 525 466 525 972  L 525 2881  L 113 2881  L 113 3319  L 525 3319  L 525 4141  L 1084 4478  L 1084 3319  L 1650 3319  L 1650 2881  L 1084 2881  L 1084 941  Q 1084 700 1114 631  Q 1144 563 1211 522  Q 1278 481 1403 481  Q 1497 481 1650 503  z \" id=\"ArialMT-74\" transform=\"scale(0.015625)\" />\n       <path d=\"M 2588 409  Q 2275 144 1986 34  Q 1697 -75 1366 -75  Q 819 -75 525 192  Q 231 459 231 875  Q 231 1119 342 1320  Q 453 1522 633 1644  Q 813 1766 1038 1828  Q 1203 1872 1538 1913  Q 2219 1994 2541 2106  Q 2544 2222 2544 2253  Q 2544 2597 2384 2738  Q 2169 2928 1744 2928  Q 1347 2928 1158 2789  Q 969 2650 878 2297  L 328 2372  Q 403 2725 575 2942  Q 747 3159 1072 3276  Q 1397 3394 1825 3394  Q 2250 3394 2515 3294  Q 2781 3194 2906 3042  Q 3031 2891 3081 2659  Q 3109 2516 3109 2141  L 3109 1391  Q 3109 606 3145 398  Q 3181 191 3288 0  L 2700 0  Q 2613 175 2588 409  z M 2541 1666  Q 2234 1541 1622 1453  Q 1275 1403 1131 1340  Q 988 1278 909 1158  Q 831 1038 831 891  Q 831 666 1001 516  Q 1172 366 1500 366  Q 1825 366 2078 508  Q 2331 650 2450 897  Q 2541 1088 2541 1459  L 2541 1666  z \" id=\"ArialMT-61\" transform=\"scale(0.015625)\" />\n       <path d=\"M 409 0  L 409 4581  L 972 4581  L 972 0  L 409 0  z \" id=\"ArialMT-6c\" transform=\"scale(0.015625)\" />\n       <path id=\"ArialMT-20\" transform=\"scale(0.015625)\" />\n       <path d=\"M 422 0  L 422 3319  L 928 3319  L 928 2847  Q 1294 3394 1984 3394  Q 2284 3394 2536 3286  Q 2788 3178 2913 3003  Q 3038 2828 3088 2588  Q 3119 2431 3119 2041  L 3119 0  L 2556 0  L 2556 2019  Q 2556 2363 2490 2533  Q 2425 2703 2258 2804  Q 2091 2906 1866 2906  Q 1506 2906 1245 2678  Q 984 2450 984 1813  L 984 0  L 422 0  z \" id=\"ArialMT-6e\" transform=\"scale(0.015625)\" />\n       <path d=\"M 319 -275  L 866 -356  Q 900 -609 1056 -725  Q 1266 -881 1628 -881  Q 2019 -881 2231 -725  Q 2444 -569 2519 -288  Q 2563 -116 2559 434  Q 2191 0 1641 0  Q 956 0 581 494  Q 206 988 206 1678  Q 206 2153 378 2554  Q 550 2956 876 3175  Q 1203 3394 1644 3394  Q 2231 3394 2613 2919  L 2613 3319  L 3131 3319  L 3131 450  Q 3131 -325 2973 -648  Q 2816 -972 2473 -1159  Q 2131 -1347 1631 -1347  Q 1038 -1347 672 -1080  Q 306 -813 319 -275  z M 784 1719  Q 784 1066 1043 766  Q 1303 466 1694 466  Q 2081 466 2343 764  Q 2606 1063 2606 1700  Q 2606 2309 2336 2618  Q 2066 2928 1684 2928  Q 1309 2928 1046 2623  Q 784 2319 784 1719  z \" id=\"ArialMT-67\" transform=\"scale(0.015625)\" />\n       <path d=\"M 422 0  L 422 4581  L 984 4581  L 984 2938  Q 1378 3394 1978 3394  Q 2347 3394 2619 3248  Q 2891 3103 3008 2847  Q 3125 2591 3125 2103  L 3125 0  L 2563 0  L 2563 2103  Q 2563 2525 2380 2717  Q 2197 2909 1863 2909  Q 1613 2909 1392 2779  Q 1172 2650 1078 2428  Q 984 2206 984 1816  L 984 0  L 422 0  z \" id=\"ArialMT-68\" transform=\"scale(0.015625)\" />\n       <path d=\"M 1497 -1347  Q 1031 -759 709 28  Q 388 816 388 1659  Q 388 2403 628 3084  Q 909 3875 1497 4659  L 1900 4659  Q 1522 4009 1400 3731  Q 1209 3300 1100 2831  Q 966 2247 966 1656  Q 966 153 1900 -1347  L 1497 -1347  z \" id=\"ArialMT-28\" transform=\"scale(0.015625)\" />\n       <path d=\"M 2588 1216  L 3141 1144  Q 3050 572 2676 248  Q 2303 -75 1759 -75  Q 1078 -75 664 370  Q 250 816 250 1647  Q 250 2184 428 2587  Q 606 2991 970 3192  Q 1334 3394 1763 3394  Q 2303 3394 2647 3120  Q 2991 2847 3088 2344  L 2541 2259  Q 2463 2594 2264 2762  Q 2066 2931 1784 2931  Q 1359 2931 1093 2626  Q 828 2322 828 1663  Q 828 994 1084 691  Q 1341 388 1753 388  Q 2084 388 2306 591  Q 2528 794 2588 1216  z \" id=\"ArialMT-63\" transform=\"scale(0.015625)\" />\n       <path d=\"M 422 0  L 422 3319  L 925 3319  L 925 2853  Q 1081 3097 1340 3245  Q 1600 3394 1931 3394  Q 2300 3394 2536 3241  Q 2772 3088 2869 2813  Q 3263 3394 3894 3394  Q 4388 3394 4653 3120  Q 4919 2847 4919 2278  L 4919 0  L 4359 0  L 4359 2091  Q 4359 2428 4304 2576  Q 4250 2725 4106 2815  Q 3963 2906 3769 2906  Q 3419 2906 3187 2673  Q 2956 2441 2956 1928  L 2956 0  L 2394 0  L 2394 2156  Q 2394 2531 2256 2718  Q 2119 2906 1806 2906  Q 1569 2906 1367 2781  Q 1166 2656 1075 2415  Q 984 2175 984 1722  L 984 0  L 422 0  z \" id=\"ArialMT-6d\" transform=\"scale(0.015625)\" />\n       <path d=\"M 791 -1347  L 388 -1347  Q 1322 153 1322 1656  Q 1322 2244 1188 2822  Q 1081 3291 891 3722  Q 769 4003 388 4659  L 791 4659  Q 1378 3875 1659 3084  Q 1900 2403 1900 1659  Q 1900 816 1576 28  Q 1253 -759 791 -1347  z \" id=\"ArialMT-29\" transform=\"scale(0.015625)\" />\n      </defs>\n      <use xlink:href=\"#ArialMT-70\" />\n      <use x=\"55.615234\" xlink:href=\"#ArialMT-65\" />\n      <use x=\"111.230469\" xlink:href=\"#ArialMT-74\" />\n      <use x=\"139.013672\" xlink:href=\"#ArialMT-61\" />\n      <use x=\"194.628906\" xlink:href=\"#ArialMT-6c\" />\n      <use x=\"216.845703\" xlink:href=\"#ArialMT-20\" />\n      <use x=\"244.628906\" xlink:href=\"#ArialMT-6c\" />\n      <use x=\"266.845703\" xlink:href=\"#ArialMT-65\" />\n      <use x=\"322.460938\" xlink:href=\"#ArialMT-6e\" />\n      <use x=\"378.076172\" xlink:href=\"#ArialMT-67\" />\n      <use x=\"433.691406\" xlink:href=\"#ArialMT-74\" />\n      <use x=\"461.474609\" xlink:href=\"#ArialMT-68\" />\n      <use x=\"517.089844\" xlink:href=\"#ArialMT-20\" />\n      <use x=\"544.873047\" xlink:href=\"#ArialMT-28\" />\n      <use x=\"578.173828\" xlink:href=\"#ArialMT-63\" />\n      <use x=\"628.173828\" xlink:href=\"#ArialMT-6d\" />\n      <use x=\"711.474609\" xlink:href=\"#ArialMT-29\" />\n     </g>\n    </g>\n   </g>\n   <g id=\"matplotlib.axis_2\">\n    <g id=\"ytick_1\">\n     <g id=\"line2d_3\">\n      <defs>\n       <path d=\"M 0 0  L -3.5 0  \" id=\"m589fc15af3\" style=\"stroke:#000000;stroke-width:0.3;\" />\n      </defs>\n      <g>\n       <use style=\"stroke:#000000;stroke-width:0.3;\" x=\"17.18\" xlink:href=\"#m589fc15af3\" y=\"54.810804\" />\n      </g>\n     </g>\n     <g id=\"text_4\">\n      \n      <g style=\"fill:#444443;\" transform=\"translate(5.09 57.850179)scale(0.08 -0.08)\">\n       <use xlink:href=\"#DejaVuSans-30\" />\n      </g>\n     </g>\n    </g>\n    <g id=\"ytick_2\">\n     <g id=\"line2d_4\">\n      <g>\n       <use style=\"stroke:#000000;stroke-width:0.3;\" x=\"17.18\" xlink:href=\"#m589fc15af3\" y=\"3.039375\" />\n      </g>\n     </g>\n     <g id=\"text_5\">\n      \n      <g style=\"fill:#444443;\" transform=\"translate(0 6.07875)scale(0.08 -0.08)\">\n       <defs>\n        <path d=\"M 1228 531  L 3431 531  L 3431 0  L 469 0  L 469 531  Q 828 903 1448 1529  Q 2069 2156 2228 2338  Q 2531 2678 2651 2914  Q 2772 3150 2772 3378  Q 2772 3750 2511 3984  Q 2250 4219 1831 4219  Q 1534 4219 1204 4116  Q 875 4013 500 3803  L 500 4441  Q 881 4594 1212 4672  Q 1544 4750 1819 4750  Q 2544 4750 2975 4387  Q 3406 4025 3406 3419  Q 3406 3131 3298 2873  Q 3191 2616 2906 2266  Q 2828 2175 2409 1742  Q 1991 1309 1228 531  z \" id=\"DejaVuSans-32\" transform=\"scale(0.015625)\" />\n       </defs>\n       <use xlink:href=\"#DejaVuSans-32\" />\n       <use x=\"63.623047\" xlink:href=\"#DejaVuSans-30\" />\n      </g>\n     </g>\n    </g>\n   </g>\n   <g id=\"patch_55\">\n    <path d=\"M 17.18 54.810804  L 17.18 0.450804  \" style=\"fill:none;stroke:#000000;stroke-linecap:square;stroke-linejoin:miter;stroke-width:0.3;\" />\n   </g>\n   <g id=\"patch_56\">\n    <path d=\"M 17.18 54.810804  L 201.32 54.810804  \" style=\"fill:none;stroke:#000000;stroke-linecap:square;stroke-linejoin:miter;stroke-width:0.3;\" />\n   </g>\n   <g id=\"text_6\">\n    \n    <g style=\"fill:#444443;\" transform=\"translate(120.898582 71.118804)scale(0.08 -0.08)\">\n     <defs>\n      <path d=\"M 2069 0  L 2069 1097  L 81 1097  L 81 1613  L 2172 4581  L 2631 4581  L 2631 1613  L 3250 1613  L 3250 1097  L 2631 1097  L 2631 0  L 2069 0  z M 2069 1613  L 2069 3678  L 634 1613  L 2069 1613  z \" id=\"ArialMT-34\" transform=\"scale(0.015625)\" />\n      <path d=\"M 581 0  L 581 641  L 1222 641  L 1222 0  L 581 0  z \" id=\"ArialMT-2e\" transform=\"scale(0.015625)\" />\n      <path d=\"M 303 3981  L 303 4522  L 3269 4522  L 3269 4084  Q 2831 3619 2401 2847  Q 1972 2075 1738 1259  Q 1569 684 1522 0  L 944 0  Q 953 541 1156 1306  Q 1359 2072 1739 2783  Q 2119 3494 2547 3981  L 303 3981  z \" id=\"ArialMT-37\" transform=\"scale(0.015625)\" />\n      <path d=\"M 266 1200  L 856 1250  Q 922 819 1161 601  Q 1400 384 1738 384  Q 2144 384 2425 690  Q 2706 997 2706 1503  Q 2706 1984 2436 2262  Q 2166 2541 1728 2541  Q 1456 2541 1237 2417  Q 1019 2294 894 2097  L 366 2166  L 809 4519  L 3088 4519  L 3088 3981  L 1259 3981  L 1013 2750  Q 1425 3038 1878 3038  Q 2478 3038 2890 2622  Q 3303 2206 3303 1553  Q 3303 931 2941 478  Q 2500 -78 1738 -78  Q 1113 -78 717 272  Q 322 622 266 1200  z \" id=\"ArialMT-35\" transform=\"scale(0.015625)\" />\n     </defs>\n     <use xlink:href=\"#ArialMT-34\" />\n     <use x=\"55.615234\" xlink:href=\"#ArialMT-2e\" />\n     <use x=\"83.398438\" xlink:href=\"#ArialMT-37\" />\n     <use x=\"139.013672\" xlink:href=\"#ArialMT-35\" />\n    </g>\n   </g>\n  </g>\n </g>\n <defs>\n  <clipPath id=\"p96b25fd3e8\">\n   <rect height=\"54.36\" width=\"184.14\" x=\"17.18\" y=\"0.450804\" />\n  </clipPath>\n </defs>\n</svg></g>\n\n<g id=\"edge22\" class=\"edge\">\n<title>node2-&gt;node3</title>\n<path fill=\"none\" stroke=\"#444443\" stroke-width=\"0.3\" d=\"M145.13,-382.9C138.86,-377.66 132.36,-372.22 126,-366.89\" />\n<polygon fill=\"#444443\" stroke=\"#444443\" stroke-width=\"0.3\" points=\"126.85,-365.78 122.88,-364.29 125.05,-367.93 126.85,-365.78\" />\n</g>\n\n<g id=\"edge23\" class=\"edge\">\n<title>node2-&gt;node6</title>\n<path fill=\"none\" stroke=\"#444443\" stroke-width=\"0.3\" d=\"M212.02,-382.9C216.79,-376.42 221.79,-369.65 226.57,-363.16\" />\n<polygon fill=\"#444443\" stroke=\"#444443\" stroke-width=\"0.3\" points=\"227.96,-363.63 229.21,-359.58 225.71,-361.97 227.96,-363.63\" />\n</g>\n\n<g id=\"node9\" class=\"node\">\n<title>node0</title>\n<svg height=\"84px\" version=\"1.1\" viewBox=\"0 0 201.32 111.54375\" width=\"151px\" preserveAspectRatio=\"xMinYMin meet\" x=\"49.5\" y=\"-575\">\n <metadata>\n  <rdf:RDF>\n   <ns2:Work>\n    <dc:type rdf:resource=\"http://purl.org/dc/dcmitype/StillImage\" />\n    <dc:date>2021-10-04T20:58:02.123279</dc:date>\n    <dc:format>image/svg+xml</dc:format>\n    <dc:creator>\n     <ns2:Agent>\n      <dc:title>Matplotlib v3.4.3, https://matplotlib.org/</dc:title>\n     </ns2:Agent>\n    </dc:creator>\n   </ns2:Work>\n  </rdf:RDF>\n </metadata>\n <defs>\n  <style type=\"text/css\">*{stroke-linecap:butt;stroke-linejoin:round;}</style>\n </defs>\n <g id=\"figure_1\">\n  <g id=\"patch_1\">\n   <path d=\"M 0 111.54375  L 201.32 111.54375  L 201.32 -0  L 0 -0  z \" style=\"fill:none;\" />\n  </g>\n  <g id=\"axes_1\">\n   <g id=\"patch_2\">\n    <path d=\"M 17.18 81.54  L 201.32 81.54  L 201.32 0  L 17.18 0  z \" style=\"fill:#ffffff;\" />\n   </g>\n   <g id=\"patch_3\">\n    <path clip-path=\"url(#p944ea9d689)\" d=\"M 19.509043 81.54  L 29.612982 81.54  L 29.612982 55.654286  L 19.509043 55.654286  z \" style=\"fill:#fefebb;stroke:#444443;stroke-linejoin:miter;stroke-width:0.5;\" />\n   </g>\n   <g id=\"patch_4\">\n    <path clip-path=\"url(#p944ea9d689)\" d=\"M 29.612982 81.54  L 39.716921 81.54  L 39.716921 3.882857  L 29.612982 3.882857  z \" style=\"fill:#fefebb;stroke:#444443;stroke-linejoin:miter;stroke-width:0.5;\" />\n   </g>\n   <g id=\"patch_5\">\n    <path clip-path=\"url(#p944ea9d689)\" d=\"M 39.716921 81.54  L 49.820859 81.54  L 49.820859 67.420519  L 39.716921 67.420519  z \" style=\"fill:#fefebb;stroke:#444443;stroke-linejoin:miter;stroke-width:0.5;\" />\n   </g>\n   <g id=\"patch_6\">\n    <path clip-path=\"url(#p944ea9d689)\" d=\"M 49.820859 81.54  L 59.924798 81.54  L 59.924798 81.54  L 49.820859 81.54  z \" style=\"fill:#fefebb;stroke:#444443;stroke-linejoin:miter;stroke-width:0.5;\" />\n   </g>\n   <g id=\"patch_7\">\n    <path clip-path=\"url(#p944ea9d689)\" d=\"M 59.924798 81.54  L 70.028737 81.54  L 70.028737 81.54  L 59.924798 81.54  z \" style=\"fill:#fefebb;stroke:#444443;stroke-linejoin:miter;stroke-width:0.5;\" />\n   </g>\n   <g id=\"patch_8\">\n    <path clip-path=\"url(#p944ea9d689)\" d=\"M 70.028737 81.54  L 80.132675 81.54  L 80.132675 81.54  L 70.028737 81.54  z \" style=\"fill:#fefebb;stroke:#444443;stroke-linejoin:miter;stroke-width:0.5;\" />\n   </g>\n   <g id=\"patch_9\">\n    <path clip-path=\"url(#p944ea9d689)\" d=\"M 80.132675 81.54  L 90.236614 81.54  L 90.236614 81.54  L 80.132675 81.54  z \" style=\"fill:#fefebb;stroke:#444443;stroke-linejoin:miter;stroke-width:0.5;\" />\n   </g>\n   <g id=\"patch_10\">\n    <path clip-path=\"url(#p944ea9d689)\" d=\"M 90.236614 81.54  L 100.340552 81.54  L 100.340552 81.54  L 90.236614 81.54  z \" style=\"fill:#fefebb;stroke:#444443;stroke-linejoin:miter;stroke-width:0.5;\" />\n   </g>\n   <g id=\"patch_11\">\n    <path clip-path=\"url(#p944ea9d689)\" d=\"M 100.340552 81.54  L 110.444491 81.54  L 110.444491 81.54  L 100.340552 81.54  z \" style=\"fill:#fefebb;stroke:#444443;stroke-linejoin:miter;stroke-width:0.5;\" />\n   </g>\n   <g id=\"patch_12\">\n    <path clip-path=\"url(#p944ea9d689)\" d=\"M 110.444491 81.54  L 120.54843 81.54  L 120.54843 81.54  L 110.444491 81.54  z \" style=\"fill:#fefebb;stroke:#444443;stroke-linejoin:miter;stroke-width:0.5;\" />\n   </g>\n   <g id=\"patch_13\">\n    <path clip-path=\"url(#p944ea9d689)\" d=\"M 120.54843 81.54  L 130.652368 81.54  L 130.652368 81.54  L 120.54843 81.54  z \" style=\"fill:#fefebb;stroke:#444443;stroke-linejoin:miter;stroke-width:0.5;\" />\n   </g>\n   <g id=\"patch_14\">\n    <path clip-path=\"url(#p944ea9d689)\" d=\"M 130.652368 81.54  L 140.756307 81.54  L 140.756307 81.54  L 130.652368 81.54  z \" style=\"fill:#fefebb;stroke:#444443;stroke-linejoin:miter;stroke-width:0.5;\" />\n   </g>\n   <g id=\"patch_15\">\n    <path clip-path=\"url(#p944ea9d689)\" d=\"M 140.756307 81.54  L 150.860246 81.54  L 150.860246 81.54  L 140.756307 81.54  z \" style=\"fill:#fefebb;stroke:#444443;stroke-linejoin:miter;stroke-width:0.5;\" />\n   </g>\n   <g id=\"patch_16\">\n    <path clip-path=\"url(#p944ea9d689)\" d=\"M 150.860246 81.54  L 160.964184 81.54  L 160.964184 81.54  L 150.860246 81.54  z \" style=\"fill:#fefebb;stroke:#444443;stroke-linejoin:miter;stroke-width:0.5;\" />\n   </g>\n   <g id=\"patch_17\">\n    <path clip-path=\"url(#p944ea9d689)\" d=\"M 160.964184 81.54  L 171.068123 81.54  L 171.068123 81.54  L 160.964184 81.54  z \" style=\"fill:#fefebb;stroke:#444443;stroke-linejoin:miter;stroke-width:0.5;\" />\n   </g>\n   <g id=\"patch_18\">\n    <path clip-path=\"url(#p944ea9d689)\" d=\"M 171.068123 81.54  L 181.172061 81.54  L 181.172061 81.54  L 171.068123 81.54  z \" style=\"fill:#fefebb;stroke:#444443;stroke-linejoin:miter;stroke-width:0.5;\" />\n   </g>\n   <g id=\"patch_19\">\n    <path clip-path=\"url(#p944ea9d689)\" d=\"M 181.172061 81.54  L 191.276 81.54  L 191.276 81.54  L 181.172061 81.54  z \" style=\"fill:#fefebb;stroke:#444443;stroke-linejoin:miter;stroke-width:0.5;\" />\n   </g>\n   <g id=\"patch_20\">\n    <path clip-path=\"url(#p944ea9d689)\" d=\"M 19.509043 55.654286  L 29.612982 55.654286  L 29.612982 55.654286  L 19.509043 55.654286  z \" style=\"fill:#d9e6f5;stroke:#444443;stroke-linejoin:miter;stroke-width:0.5;\" />\n   </g>\n   <g id=\"patch_21\">\n    <path clip-path=\"url(#p944ea9d689)\" d=\"M 29.612982 3.882857  L 39.716921 3.882857  L 39.716921 3.882857  L 29.612982 3.882857  z \" style=\"fill:#d9e6f5;stroke:#444443;stroke-linejoin:miter;stroke-width:0.5;\" />\n   </g>\n   <g id=\"patch_22\">\n    <path clip-path=\"url(#p944ea9d689)\" d=\"M 39.716921 67.420519  L 49.820859 67.420519  L 49.820859 67.420519  L 39.716921 67.420519  z \" style=\"fill:#d9e6f5;stroke:#444443;stroke-linejoin:miter;stroke-width:0.5;\" />\n   </g>\n   <g id=\"patch_23\">\n    <path clip-path=\"url(#p944ea9d689)\" d=\"M 49.820859 81.54  L 59.924798 81.54  L 59.924798 81.54  L 49.820859 81.54  z \" style=\"fill:#d9e6f5;stroke:#444443;stroke-linejoin:miter;stroke-width:0.5;\" />\n   </g>\n   <g id=\"patch_24\">\n    <path clip-path=\"url(#p944ea9d689)\" d=\"M 59.924798 81.54  L 70.028737 81.54  L 70.028737 81.54  L 59.924798 81.54  z \" style=\"fill:#d9e6f5;stroke:#444443;stroke-linejoin:miter;stroke-width:0.5;\" />\n   </g>\n   <g id=\"patch_25\">\n    <path clip-path=\"url(#p944ea9d689)\" d=\"M 70.028737 81.54  L 80.132675 81.54  L 80.132675 79.186753  L 70.028737 79.186753  z \" style=\"fill:#d9e6f5;stroke:#444443;stroke-linejoin:miter;stroke-width:0.5;\" />\n   </g>\n   <g id=\"patch_26\">\n    <path clip-path=\"url(#p944ea9d689)\" d=\"M 80.132675 81.54  L 90.236614 81.54  L 90.236614 76.833506  L 80.132675 76.833506  z \" style=\"fill:#d9e6f5;stroke:#444443;stroke-linejoin:miter;stroke-width:0.5;\" />\n   </g>\n   <g id=\"patch_27\">\n    <path clip-path=\"url(#p944ea9d689)\" d=\"M 90.236614 81.54  L 100.340552 81.54  L 100.340552 72.127013  L 90.236614 72.127013  z \" style=\"fill:#d9e6f5;stroke:#444443;stroke-linejoin:miter;stroke-width:0.5;\" />\n   </g>\n   <g id=\"patch_28\">\n    <path clip-path=\"url(#p944ea9d689)\" d=\"M 100.340552 81.54  L 110.444491 81.54  L 110.444491 53.301039  L 100.340552 53.301039  z \" style=\"fill:#d9e6f5;stroke:#444443;stroke-linejoin:miter;stroke-width:0.5;\" />\n   </g>\n   <g id=\"patch_29\">\n    <path clip-path=\"url(#p944ea9d689)\" d=\"M 110.444491 81.54  L 120.54843 81.54  L 120.54843 58.007532  L 110.444491 58.007532  z \" style=\"fill:#d9e6f5;stroke:#444443;stroke-linejoin:miter;stroke-width:0.5;\" />\n   </g>\n   <g id=\"patch_30\">\n    <path clip-path=\"url(#p944ea9d689)\" d=\"M 120.54843 81.54  L 130.652368 81.54  L 130.652368 41.534805  L 120.54843 41.534805  z \" style=\"fill:#d9e6f5;stroke:#444443;stroke-linejoin:miter;stroke-width:0.5;\" />\n   </g>\n   <g id=\"patch_31\">\n    <path clip-path=\"url(#p944ea9d689)\" d=\"M 130.652368 81.54  L 140.756307 81.54  L 140.756307 72.127013  L 130.652368 72.127013  z \" style=\"fill:#d9e6f5;stroke:#444443;stroke-linejoin:miter;stroke-width:0.5;\" />\n   </g>\n   <g id=\"patch_32\">\n    <path clip-path=\"url(#p944ea9d689)\" d=\"M 140.756307 81.54  L 150.860246 81.54  L 150.860246 81.54  L 140.756307 81.54  z \" style=\"fill:#d9e6f5;stroke:#444443;stroke-linejoin:miter;stroke-width:0.5;\" />\n   </g>\n   <g id=\"patch_33\">\n    <path clip-path=\"url(#p944ea9d689)\" d=\"M 150.860246 81.54  L 160.964184 81.54  L 160.964184 81.54  L 150.860246 81.54  z \" style=\"fill:#d9e6f5;stroke:#444443;stroke-linejoin:miter;stroke-width:0.5;\" />\n   </g>\n   <g id=\"patch_34\">\n    <path clip-path=\"url(#p944ea9d689)\" d=\"M 160.964184 81.54  L 171.068123 81.54  L 171.068123 81.54  L 160.964184 81.54  z \" style=\"fill:#d9e6f5;stroke:#444443;stroke-linejoin:miter;stroke-width:0.5;\" />\n   </g>\n   <g id=\"patch_35\">\n    <path clip-path=\"url(#p944ea9d689)\" d=\"M 171.068123 81.54  L 181.172061 81.54  L 181.172061 81.54  L 171.068123 81.54  z \" style=\"fill:#d9e6f5;stroke:#444443;stroke-linejoin:miter;stroke-width:0.5;\" />\n   </g>\n   <g id=\"patch_36\">\n    <path clip-path=\"url(#p944ea9d689)\" d=\"M 181.172061 81.54  L 191.276 81.54  L 191.276 81.54  L 181.172061 81.54  z \" style=\"fill:#d9e6f5;stroke:#444443;stroke-linejoin:miter;stroke-width:0.5;\" />\n   </g>\n   <g id=\"patch_37\">\n    <path clip-path=\"url(#p944ea9d689)\" d=\"M 19.509043 55.654286  L 29.612982 55.654286  L 29.612982 55.654286  L 19.509043 55.654286  z \" style=\"fill:#a1dab4;stroke:#444443;stroke-linejoin:miter;stroke-width:0.5;\" />\n   </g>\n   <g id=\"patch_38\">\n    <path clip-path=\"url(#p944ea9d689)\" d=\"M 29.612982 3.882857  L 39.716921 3.882857  L 39.716921 3.882857  L 29.612982 3.882857  z \" style=\"fill:#a1dab4;stroke:#444443;stroke-linejoin:miter;stroke-width:0.5;\" />\n   </g>\n   <g id=\"patch_39\">\n    <path clip-path=\"url(#p944ea9d689)\" d=\"M 39.716921 67.420519  L 49.820859 67.420519  L 49.820859 67.420519  L 39.716921 67.420519  z \" style=\"fill:#a1dab4;stroke:#444443;stroke-linejoin:miter;stroke-width:0.5;\" />\n   </g>\n   <g id=\"patch_40\">\n    <path clip-path=\"url(#p944ea9d689)\" d=\"M 49.820859 81.54  L 59.924798 81.54  L 59.924798 81.54  L 49.820859 81.54  z \" style=\"fill:#a1dab4;stroke:#444443;stroke-linejoin:miter;stroke-width:0.5;\" />\n   </g>\n   <g id=\"patch_41\">\n    <path clip-path=\"url(#p944ea9d689)\" d=\"M 59.924798 81.54  L 70.028737 81.54  L 70.028737 81.54  L 59.924798 81.54  z \" style=\"fill:#a1dab4;stroke:#444443;stroke-linejoin:miter;stroke-width:0.5;\" />\n   </g>\n   <g id=\"patch_42\">\n    <path clip-path=\"url(#p944ea9d689)\" d=\"M 70.028737 79.186753  L 80.132675 79.186753  L 80.132675 79.186753  L 70.028737 79.186753  z \" style=\"fill:#a1dab4;stroke:#444443;stroke-linejoin:miter;stroke-width:0.5;\" />\n   </g>\n   <g id=\"patch_43\">\n    <path clip-path=\"url(#p944ea9d689)\" d=\"M 80.132675 76.833506  L 90.236614 76.833506  L 90.236614 76.833506  L 80.132675 76.833506  z \" style=\"fill:#a1dab4;stroke:#444443;stroke-linejoin:miter;stroke-width:0.5;\" />\n   </g>\n   <g id=\"patch_44\">\n    <path clip-path=\"url(#p944ea9d689)\" d=\"M 90.236614 72.127013  L 100.340552 72.127013  L 100.340552 72.127013  L 90.236614 72.127013  z \" style=\"fill:#a1dab4;stroke:#444443;stroke-linejoin:miter;stroke-width:0.5;\" />\n   </g>\n   <g id=\"patch_45\">\n    <path clip-path=\"url(#p944ea9d689)\" d=\"M 100.340552 53.301039  L 110.444491 53.301039  L 110.444491 53.301039  L 100.340552 53.301039  z \" style=\"fill:#a1dab4;stroke:#444443;stroke-linejoin:miter;stroke-width:0.5;\" />\n   </g>\n   <g id=\"patch_46\">\n    <path clip-path=\"url(#p944ea9d689)\" d=\"M 110.444491 58.007532  L 120.54843 58.007532  L 120.54843 58.007532  L 110.444491 58.007532  z \" style=\"fill:#a1dab4;stroke:#444443;stroke-linejoin:miter;stroke-width:0.5;\" />\n   </g>\n   <g id=\"patch_47\">\n    <path clip-path=\"url(#p944ea9d689)\" d=\"M 120.54843 41.534805  L 130.652368 41.534805  L 130.652368 34.475065  L 120.54843 34.475065  z \" style=\"fill:#a1dab4;stroke:#444443;stroke-linejoin:miter;stroke-width:0.5;\" />\n   </g>\n   <g id=\"patch_48\">\n    <path clip-path=\"url(#p944ea9d689)\" d=\"M 130.652368 72.127013  L 140.756307 72.127013  L 140.756307 41.534805  L 130.652368 41.534805  z \" style=\"fill:#a1dab4;stroke:#444443;stroke-linejoin:miter;stroke-width:0.5;\" />\n   </g>\n   <g id=\"patch_49\">\n    <path clip-path=\"url(#p944ea9d689)\" d=\"M 140.756307 81.54  L 150.860246 81.54  L 150.860246 60.360779  L 140.756307 60.360779  z \" style=\"fill:#a1dab4;stroke:#444443;stroke-linejoin:miter;stroke-width:0.5;\" />\n   </g>\n   <g id=\"patch_50\">\n    <path clip-path=\"url(#p944ea9d689)\" d=\"M 150.860246 81.54  L 160.964184 81.54  L 160.964184 53.301039  L 150.860246 53.301039  z \" style=\"fill:#a1dab4;stroke:#444443;stroke-linejoin:miter;stroke-width:0.5;\" />\n   </g>\n   <g id=\"patch_51\">\n    <path clip-path=\"url(#p944ea9d689)\" d=\"M 160.964184 81.54  L 171.068123 81.54  L 171.068123 65.067273  L 160.964184 65.067273  z \" style=\"fill:#a1dab4;stroke:#444443;stroke-linejoin:miter;stroke-width:0.5;\" />\n   </g>\n   <g id=\"patch_52\">\n    <path clip-path=\"url(#p944ea9d689)\" d=\"M 171.068123 81.54  L 181.172061 81.54  L 181.172061 76.833506  L 171.068123 76.833506  z \" style=\"fill:#a1dab4;stroke:#444443;stroke-linejoin:miter;stroke-width:0.5;\" />\n   </g>\n   <g id=\"patch_53\">\n    <path clip-path=\"url(#p944ea9d689)\" d=\"M 181.172061 81.54  L 191.276 81.54  L 191.276 72.127013  L 181.172061 72.127013  z \" style=\"fill:#a1dab4;stroke:#444443;stroke-linejoin:miter;stroke-width:0.5;\" />\n   </g>\n   <g id=\"patch_54\">\n    <path d=\"M 61.722956 82.3554  L 58.408436 89.694  L 65.037476 89.694  z \" style=\"fill:#444443;\" />\n   </g>\n   <g id=\"matplotlib.axis_1\">\n    <g id=\"xtick_1\">\n     <g id=\"line2d_1\">\n      <defs>\n       <path d=\"M 0 0  L 0 3.5  \" id=\"m9a477243fe\" style=\"stroke:#000000;stroke-width:0.3;\" />\n      </defs>\n      <g>\n       <use style=\"stroke:#000000;stroke-width:0.3;\" x=\"19.509043\" xlink:href=\"#m9a477243fe\" y=\"81.54\" />\n      </g>\n     </g>\n     <g id=\"text_1\">\n      \n      <g style=\"fill:#444443;\" transform=\"translate(13.147793 94.61875)scale(0.08 -0.08)\">\n       <defs>\n        <path d=\"M 794 531  L 1825 531  L 1825 4091  L 703 3866  L 703 4441  L 1819 4666  L 2450 4666  L 2450 531  L 3481 531  L 3481 0  L 794 0  L 794 531  z \" id=\"DejaVuSans-31\" transform=\"scale(0.015625)\" />\n        <path d=\"M 684 794  L 1344 794  L 1344 0  L 684 0  L 684 794  z \" id=\"DejaVuSans-2e\" transform=\"scale(0.015625)\" />\n        <path d=\"M 2034 4250  Q 1547 4250 1301 3770  Q 1056 3291 1056 2328  Q 1056 1369 1301 889  Q 1547 409 2034 409  Q 2525 409 2770 889  Q 3016 1369 3016 2328  Q 3016 3291 2770 3770  Q 2525 4250 2034 4250  z M 2034 4750  Q 2819 4750 3233 4129  Q 3647 3509 3647 2328  Q 3647 1150 3233 529  Q 2819 -91 2034 -91  Q 1250 -91 836 529  Q 422 1150 422 2328  Q 422 3509 836 4129  Q 1250 4750 2034 4750  z \" id=\"DejaVuSans-30\" transform=\"scale(0.015625)\" />\n       </defs>\n       <use xlink:href=\"#DejaVuSans-31\" />\n       <use x=\"63.623047\" xlink:href=\"#DejaVuSans-2e\" />\n       <use x=\"95.410156\" xlink:href=\"#DejaVuSans-30\" />\n      </g>\n     </g>\n    </g>\n    <g id=\"xtick_2\">\n     <g id=\"line2d_2\">\n      <g>\n       <use style=\"stroke:#000000;stroke-width:0.3;\" x=\"191.276\" xlink:href=\"#m9a477243fe\" y=\"81.54\" />\n      </g>\n     </g>\n     <g id=\"text_2\">\n      \n      <g style=\"fill:#444443;\" transform=\"translate(184.91475 94.61875)scale(0.08 -0.08)\">\n       <defs>\n        <path d=\"M 2113 2584  Q 1688 2584 1439 2293  Q 1191 2003 1191 1497  Q 1191 994 1439 701  Q 1688 409 2113 409  Q 2538 409 2786 701  Q 3034 994 3034 1497  Q 3034 2003 2786 2293  Q 2538 2584 2113 2584  z M 3366 4563  L 3366 3988  Q 3128 4100 2886 4159  Q 2644 4219 2406 4219  Q 1781 4219 1451 3797  Q 1122 3375 1075 2522  Q 1259 2794 1537 2939  Q 1816 3084 2150 3084  Q 2853 3084 3261 2657  Q 3669 2231 3669 1497  Q 3669 778 3244 343  Q 2819 -91 2113 -91  Q 1303 -91 875 529  Q 447 1150 447 2328  Q 447 3434 972 4092  Q 1497 4750 2381 4750  Q 2619 4750 2861 4703  Q 3103 4656 3366 4563  z \" id=\"DejaVuSans-36\" transform=\"scale(0.015625)\" />\n        <path d=\"M 703 97  L 703 672  Q 941 559 1184 500  Q 1428 441 1663 441  Q 2288 441 2617 861  Q 2947 1281 2994 2138  Q 2813 1869 2534 1725  Q 2256 1581 1919 1581  Q 1219 1581 811 2004  Q 403 2428 403 3163  Q 403 3881 828 4315  Q 1253 4750 1959 4750  Q 2769 4750 3195 4129  Q 3622 3509 3622 2328  Q 3622 1225 3098 567  Q 2575 -91 1691 -91  Q 1453 -91 1209 -44  Q 966 3 703 97  z M 1959 2075  Q 2384 2075 2632 2365  Q 2881 2656 2881 3163  Q 2881 3666 2632 3958  Q 2384 4250 1959 4250  Q 1534 4250 1286 3958  Q 1038 3666 1038 3163  Q 1038 2656 1286 2365  Q 1534 2075 1959 2075  z \" id=\"DejaVuSans-39\" transform=\"scale(0.015625)\" />\n       </defs>\n       <use xlink:href=\"#DejaVuSans-36\" />\n       <use x=\"63.623047\" xlink:href=\"#DejaVuSans-2e\" />\n       <use x=\"95.410156\" xlink:href=\"#DejaVuSans-39\" />\n      </g>\n     </g>\n    </g>\n    <g id=\"text_3\">\n     \n     <g style=\"fill:#444443;\" transform=\"translate(64.566875 109.018125)scale(0.12 -0.12)\">\n      <defs>\n       <path d=\"M 422 -1272  L 422 3319  L 934 3319  L 934 2888  Q 1116 3141 1344 3267  Q 1572 3394 1897 3394  Q 2322 3394 2647 3175  Q 2972 2956 3137 2557  Q 3303 2159 3303 1684  Q 3303 1175 3120 767  Q 2938 359 2589 142  Q 2241 -75 1856 -75  Q 1575 -75 1351 44  Q 1128 163 984 344  L 984 -1272  L 422 -1272  z M 931 1641  Q 931 1000 1190 694  Q 1450 388 1819 388  Q 2194 388 2461 705  Q 2728 1022 2728 1688  Q 2728 2322 2467 2637  Q 2206 2953 1844 2953  Q 1484 2953 1207 2617  Q 931 2281 931 1641  z \" id=\"ArialMT-70\" transform=\"scale(0.015625)\" />\n       <path d=\"M 2694 1069  L 3275 997  Q 3138 488 2766 206  Q 2394 -75 1816 -75  Q 1088 -75 661 373  Q 234 822 234 1631  Q 234 2469 665 2931  Q 1097 3394 1784 3394  Q 2450 3394 2872 2941  Q 3294 2488 3294 1666  Q 3294 1616 3291 1516  L 816 1516  Q 847 969 1125 678  Q 1403 388 1819 388  Q 2128 388 2347 550  Q 2566 713 2694 1069  z M 847 1978  L 2700 1978  Q 2663 2397 2488 2606  Q 2219 2931 1791 2931  Q 1403 2931 1139 2672  Q 875 2413 847 1978  z \" id=\"ArialMT-65\" transform=\"scale(0.015625)\" />\n       <path d=\"M 1650 503  L 1731 6  Q 1494 -44 1306 -44  Q 1000 -44 831 53  Q 663 150 594 308  Q 525 466 525 972  L 525 2881  L 113 2881  L 113 3319  L 525 3319  L 525 4141  L 1084 4478  L 1084 3319  L 1650 3319  L 1650 2881  L 1084 2881  L 1084 941  Q 1084 700 1114 631  Q 1144 563 1211 522  Q 1278 481 1403 481  Q 1497 481 1650 503  z \" id=\"ArialMT-74\" transform=\"scale(0.015625)\" />\n       <path d=\"M 2588 409  Q 2275 144 1986 34  Q 1697 -75 1366 -75  Q 819 -75 525 192  Q 231 459 231 875  Q 231 1119 342 1320  Q 453 1522 633 1644  Q 813 1766 1038 1828  Q 1203 1872 1538 1913  Q 2219 1994 2541 2106  Q 2544 2222 2544 2253  Q 2544 2597 2384 2738  Q 2169 2928 1744 2928  Q 1347 2928 1158 2789  Q 969 2650 878 2297  L 328 2372  Q 403 2725 575 2942  Q 747 3159 1072 3276  Q 1397 3394 1825 3394  Q 2250 3394 2515 3294  Q 2781 3194 2906 3042  Q 3031 2891 3081 2659  Q 3109 2516 3109 2141  L 3109 1391  Q 3109 606 3145 398  Q 3181 191 3288 0  L 2700 0  Q 2613 175 2588 409  z M 2541 1666  Q 2234 1541 1622 1453  Q 1275 1403 1131 1340  Q 988 1278 909 1158  Q 831 1038 831 891  Q 831 666 1001 516  Q 1172 366 1500 366  Q 1825 366 2078 508  Q 2331 650 2450 897  Q 2541 1088 2541 1459  L 2541 1666  z \" id=\"ArialMT-61\" transform=\"scale(0.015625)\" />\n       <path d=\"M 409 0  L 409 4581  L 972 4581  L 972 0  L 409 0  z \" id=\"ArialMT-6c\" transform=\"scale(0.015625)\" />\n       <path id=\"ArialMT-20\" transform=\"scale(0.015625)\" />\n       <path d=\"M 422 0  L 422 3319  L 928 3319  L 928 2847  Q 1294 3394 1984 3394  Q 2284 3394 2536 3286  Q 2788 3178 2913 3003  Q 3038 2828 3088 2588  Q 3119 2431 3119 2041  L 3119 0  L 2556 0  L 2556 2019  Q 2556 2363 2490 2533  Q 2425 2703 2258 2804  Q 2091 2906 1866 2906  Q 1506 2906 1245 2678  Q 984 2450 984 1813  L 984 0  L 422 0  z \" id=\"ArialMT-6e\" transform=\"scale(0.015625)\" />\n       <path d=\"M 319 -275  L 866 -356  Q 900 -609 1056 -725  Q 1266 -881 1628 -881  Q 2019 -881 2231 -725  Q 2444 -569 2519 -288  Q 2563 -116 2559 434  Q 2191 0 1641 0  Q 956 0 581 494  Q 206 988 206 1678  Q 206 2153 378 2554  Q 550 2956 876 3175  Q 1203 3394 1644 3394  Q 2231 3394 2613 2919  L 2613 3319  L 3131 3319  L 3131 450  Q 3131 -325 2973 -648  Q 2816 -972 2473 -1159  Q 2131 -1347 1631 -1347  Q 1038 -1347 672 -1080  Q 306 -813 319 -275  z M 784 1719  Q 784 1066 1043 766  Q 1303 466 1694 466  Q 2081 466 2343 764  Q 2606 1063 2606 1700  Q 2606 2309 2336 2618  Q 2066 2928 1684 2928  Q 1309 2928 1046 2623  Q 784 2319 784 1719  z \" id=\"ArialMT-67\" transform=\"scale(0.015625)\" />\n       <path d=\"M 422 0  L 422 4581  L 984 4581  L 984 2938  Q 1378 3394 1978 3394  Q 2347 3394 2619 3248  Q 2891 3103 3008 2847  Q 3125 2591 3125 2103  L 3125 0  L 2563 0  L 2563 2103  Q 2563 2525 2380 2717  Q 2197 2909 1863 2909  Q 1613 2909 1392 2779  Q 1172 2650 1078 2428  Q 984 2206 984 1816  L 984 0  L 422 0  z \" id=\"ArialMT-68\" transform=\"scale(0.015625)\" />\n       <path d=\"M 1497 -1347  Q 1031 -759 709 28  Q 388 816 388 1659  Q 388 2403 628 3084  Q 909 3875 1497 4659  L 1900 4659  Q 1522 4009 1400 3731  Q 1209 3300 1100 2831  Q 966 2247 966 1656  Q 966 153 1900 -1347  L 1497 -1347  z \" id=\"ArialMT-28\" transform=\"scale(0.015625)\" />\n       <path d=\"M 2588 1216  L 3141 1144  Q 3050 572 2676 248  Q 2303 -75 1759 -75  Q 1078 -75 664 370  Q 250 816 250 1647  Q 250 2184 428 2587  Q 606 2991 970 3192  Q 1334 3394 1763 3394  Q 2303 3394 2647 3120  Q 2991 2847 3088 2344  L 2541 2259  Q 2463 2594 2264 2762  Q 2066 2931 1784 2931  Q 1359 2931 1093 2626  Q 828 2322 828 1663  Q 828 994 1084 691  Q 1341 388 1753 388  Q 2084 388 2306 591  Q 2528 794 2588 1216  z \" id=\"ArialMT-63\" transform=\"scale(0.015625)\" />\n       <path d=\"M 422 0  L 422 3319  L 925 3319  L 925 2853  Q 1081 3097 1340 3245  Q 1600 3394 1931 3394  Q 2300 3394 2536 3241  Q 2772 3088 2869 2813  Q 3263 3394 3894 3394  Q 4388 3394 4653 3120  Q 4919 2847 4919 2278  L 4919 0  L 4359 0  L 4359 2091  Q 4359 2428 4304 2576  Q 4250 2725 4106 2815  Q 3963 2906 3769 2906  Q 3419 2906 3187 2673  Q 2956 2441 2956 1928  L 2956 0  L 2394 0  L 2394 2156  Q 2394 2531 2256 2718  Q 2119 2906 1806 2906  Q 1569 2906 1367 2781  Q 1166 2656 1075 2415  Q 984 2175 984 1722  L 984 0  L 422 0  z \" id=\"ArialMT-6d\" transform=\"scale(0.015625)\" />\n       <path d=\"M 791 -1347  L 388 -1347  Q 1322 153 1322 1656  Q 1322 2244 1188 2822  Q 1081 3291 891 3722  Q 769 4003 388 4659  L 791 4659  Q 1378 3875 1659 3084  Q 1900 2403 1900 1659  Q 1900 816 1576 28  Q 1253 -759 791 -1347  z \" id=\"ArialMT-29\" transform=\"scale(0.015625)\" />\n      </defs>\n      <use xlink:href=\"#ArialMT-70\" />\n      <use x=\"55.615234\" xlink:href=\"#ArialMT-65\" />\n      <use x=\"111.230469\" xlink:href=\"#ArialMT-74\" />\n      <use x=\"139.013672\" xlink:href=\"#ArialMT-61\" />\n      <use x=\"194.628906\" xlink:href=\"#ArialMT-6c\" />\n      <use x=\"216.845703\" xlink:href=\"#ArialMT-20\" />\n      <use x=\"244.628906\" xlink:href=\"#ArialMT-6c\" />\n      <use x=\"266.845703\" xlink:href=\"#ArialMT-65\" />\n      <use x=\"322.460938\" xlink:href=\"#ArialMT-6e\" />\n      <use x=\"378.076172\" xlink:href=\"#ArialMT-67\" />\n      <use x=\"433.691406\" xlink:href=\"#ArialMT-74\" />\n      <use x=\"461.474609\" xlink:href=\"#ArialMT-68\" />\n      <use x=\"517.089844\" xlink:href=\"#ArialMT-20\" />\n      <use x=\"544.873047\" xlink:href=\"#ArialMT-28\" />\n      <use x=\"578.173828\" xlink:href=\"#ArialMT-63\" />\n      <use x=\"628.173828\" xlink:href=\"#ArialMT-6d\" />\n      <use x=\"711.474609\" xlink:href=\"#ArialMT-29\" />\n     </g>\n    </g>\n   </g>\n   <g id=\"matplotlib.axis_2\">\n    <g id=\"ytick_1\">\n     <g id=\"line2d_3\">\n      <defs>\n       <path d=\"M 0 0  L -3.5 0  \" id=\"m6712aa3fcd\" style=\"stroke:#000000;stroke-width:0.3;\" />\n      </defs>\n      <g>\n       <use style=\"stroke:#000000;stroke-width:0.3;\" x=\"17.18\" xlink:href=\"#m6712aa3fcd\" y=\"81.54\" />\n      </g>\n     </g>\n     <g id=\"text_4\">\n      \n      <g style=\"fill:#444443;\" transform=\"translate(5.09 84.579375)scale(0.08 -0.08)\">\n       <use xlink:href=\"#DejaVuSans-30\" />\n      </g>\n     </g>\n    </g>\n    <g id=\"ytick_2\">\n     <g id=\"line2d_4\">\n      <g>\n       <use style=\"stroke:#000000;stroke-width:0.3;\" x=\"17.18\" xlink:href=\"#m6712aa3fcd\" y=\"3.882857\" />\n      </g>\n     </g>\n     <g id=\"text_5\">\n      \n      <g style=\"fill:#444443;\" transform=\"translate(0 6.922232)scale(0.08 -0.08)\">\n       <defs>\n        <path d=\"M 2597 2516  Q 3050 2419 3304 2112  Q 3559 1806 3559 1356  Q 3559 666 3084 287  Q 2609 -91 1734 -91  Q 1441 -91 1130 -33  Q 819 25 488 141  L 488 750  Q 750 597 1062 519  Q 1375 441 1716 441  Q 2309 441 2620 675  Q 2931 909 2931 1356  Q 2931 1769 2642 2001  Q 2353 2234 1838 2234  L 1294 2234  L 1294 2753  L 1863 2753  Q 2328 2753 2575 2939  Q 2822 3125 2822 3475  Q 2822 3834 2567 4026  Q 2313 4219 1838 4219  Q 1578 4219 1281 4162  Q 984 4106 628 3988  L 628 4550  Q 988 4650 1302 4700  Q 1616 4750 1894 4750  Q 2613 4750 3031 4423  Q 3450 4097 3450 3541  Q 3450 3153 3228 2886  Q 3006 2619 2597 2516  z \" id=\"DejaVuSans-33\" transform=\"scale(0.015625)\" />\n       </defs>\n       <use xlink:href=\"#DejaVuSans-33\" />\n       <use x=\"63.623047\" xlink:href=\"#DejaVuSans-33\" />\n      </g>\n     </g>\n    </g>\n   </g>\n   <g id=\"patch_55\">\n    <path d=\"M 17.18 81.54  L 17.18 0  \" style=\"fill:none;stroke:#000000;stroke-linecap:square;stroke-linejoin:miter;stroke-width:0.3;\" />\n   </g>\n   <g id=\"patch_56\">\n    <path d=\"M 17.18 81.54  L 201.32 81.54  \" style=\"fill:none;stroke:#000000;stroke-linecap:square;stroke-linejoin:miter;stroke-width:0.3;\" />\n   </g>\n   <g id=\"text_6\">\n    \n    <g style=\"fill:#444443;\" transform=\"translate(53.938581 97.848)scale(0.08 -0.08)\">\n     <defs>\n      <path d=\"M 3222 541  L 3222 0  L 194 0  Q 188 203 259 391  Q 375 700 629 1000  Q 884 1300 1366 1694  Q 2113 2306 2375 2664  Q 2638 3022 2638 3341  Q 2638 3675 2398 3904  Q 2159 4134 1775 4134  Q 1369 4134 1125 3890  Q 881 3647 878 3216  L 300 3275  Q 359 3922 746 4261  Q 1134 4600 1788 4600  Q 2447 4600 2831 4234  Q 3216 3869 3216 3328  Q 3216 3053 3103 2787  Q 2991 2522 2730 2228  Q 2469 1934 1863 1422  Q 1356 997 1212 845  Q 1069 694 975 541  L 3222 541  z \" id=\"ArialMT-32\" transform=\"scale(0.015625)\" />\n      <path d=\"M 581 0  L 581 641  L 1222 641  L 1222 0  L 581 0  z \" id=\"ArialMT-2e\" transform=\"scale(0.015625)\" />\n      <path d=\"M 2069 0  L 2069 1097  L 81 1097  L 81 1613  L 2172 4581  L 2631 4581  L 2631 1613  L 3250 1613  L 3250 1097  L 2631 1097  L 2631 0  L 2069 0  z M 2069 1613  L 2069 3678  L 634 1613  L 2069 1613  z \" id=\"ArialMT-34\" transform=\"scale(0.015625)\" />\n      <path d=\"M 266 1200  L 856 1250  Q 922 819 1161 601  Q 1400 384 1738 384  Q 2144 384 2425 690  Q 2706 997 2706 1503  Q 2706 1984 2436 2262  Q 2166 2541 1728 2541  Q 1456 2541 1237 2417  Q 1019 2294 894 2097  L 366 2166  L 809 4519  L 3088 4519  L 3088 3981  L 1259 3981  L 1013 2750  Q 1425 3038 1878 3038  Q 2478 3038 2890 2622  Q 3303 2206 3303 1553  Q 3303 931 2941 478  Q 2500 -78 1738 -78  Q 1113 -78 717 272  Q 322 622 266 1200  z \" id=\"ArialMT-35\" transform=\"scale(0.015625)\" />\n     </defs>\n     <use xlink:href=\"#ArialMT-32\" />\n     <use x=\"55.615234\" xlink:href=\"#ArialMT-2e\" />\n     <use x=\"83.398438\" xlink:href=\"#ArialMT-34\" />\n     <use x=\"139.013672\" xlink:href=\"#ArialMT-35\" />\n    </g>\n   </g>\n  </g>\n </g>\n <defs>\n  <clipPath id=\"p944ea9d689\">\n   <rect height=\"81.54\" width=\"184.14\" x=\"17.18\" y=\"0\" />\n  </clipPath>\n </defs>\n</svg></g>\n\n<g id=\"edge26\" class=\"edge\">\n<title>node0-&gt;node2</title>\n<path fill=\"none\" stroke=\"#444443\" stroke-width=\"0.3\" d=\"M149.36,-486.89C154.61,-477.37 160.1,-467.4 165.2,-458.15\" />\n<polygon fill=\"#444443\" stroke=\"#444443\" stroke-width=\"0.3\" points=\"166.66,-458.41 167.36,-454.23 164.2,-457.05 166.66,-458.41\" />\n<text text-anchor=\"start\" x=\"161.5\" y=\"-467.8\" font-family=\"Times New Roman,serif\" font-size=\"14.00\">&gt;</text>\n</g>\n\n<g id=\"node19\" class=\"node\">\n<title>leaf1</title>\n<polygon fill=\"none\" stroke=\"#444443\" stroke-width=\"0\" points=\"93.5,-456 33.5,-456 33.5,-381 93.5,-381 93.5,-456\" />\n<svg height=\"67px\" version=\"1.1\" viewBox=\"0 0 69.46 89.988369\" width=\"52px\" preserveAspectRatio=\"xMinYMin meet\" x=\"37.5\" y=\"-451.5\">\n <metadata>\n  <rdf:RDF>\n   <ns2:Work>\n    <dc:type rdf:resource=\"http://purl.org/dc/dcmitype/StillImage\" />\n    <dc:date>2021-10-04T20:58:02.257477</dc:date>\n    <dc:format>image/svg+xml</dc:format>\n    <dc:creator>\n     <ns2:Agent>\n      <dc:title>Matplotlib v3.4.3, https://matplotlib.org/</dc:title>\n     </ns2:Agent>\n    </dc:creator>\n   </ns2:Work>\n  </rdf:RDF>\n </metadata>\n <defs>\n  <style type=\"text/css\">*{stroke-linecap:butt;stroke-linejoin:round;}</style>\n </defs>\n <g id=\"figure_1\">\n  <g id=\"patch_1\">\n   <path d=\"M -0 89.988369  L 69.46 89.988369  L 69.46 0  L -0 0  z \" style=\"fill:none;\" />\n  </g>\n  <g id=\"axes_1\">\n   <g id=\"patch_2\">\n    <path d=\"M 69.46 34.73  C 69.46 30.169298 68.561641 25.652943 66.816336 21.439404  C 65.071031 17.225865 62.512722 13.397085 59.287819 10.172181  C 56.062915 6.947278 52.234135 4.388969 48.020596 2.643664  C 43.807057 0.898359 39.290702 -0 34.73 -0  C 30.169298 -0 25.652943 0.898359 21.439404 2.643664  C 17.225865 4.388969 13.397085 6.947278 10.172181 10.172181  C 6.947278 13.397085 4.388969 17.225865 2.643664 21.439404  C 0.898359 25.652943 0 30.169298 0 34.73  C 0 39.290702 0.898359 43.807057 2.643664 48.020596  C 4.388969 52.234135 6.947278 56.062915 10.172181 59.287819  C 13.397085 62.512722 17.225865 65.071031 21.439404 66.816336  C 25.652943 68.561641 30.169298 69.46 34.73 69.46  C 39.290702 69.46 43.807057 68.561641 48.020596 66.816336  C 52.234135 65.071031 56.062915 62.512722 59.287819 59.287819  C 62.512722 56.062915 65.071031 52.234135 66.816336 48.020596  C 68.561641 43.807057 69.46 39.290702 69.46 34.73  M 34.73 34.73  M 69.46 34.73  z \" style=\"fill:#fefebb;stroke:#444443;stroke-linejoin:miter;stroke-width:0.5;\" />\n   </g>\n   <g id=\"text_1\">\n    \n    <g style=\"fill:#444443;\" transform=\"translate(24.594453 78.680431)scale(0.09 -0.09)\">\n     <defs>\n      <path d=\"M 422 0  L 422 3319  L 928 3319  L 928 2847  Q 1294 3394 1984 3394  Q 2284 3394 2536 3286  Q 2788 3178 2913 3003  Q 3038 2828 3088 2588  Q 3119 2431 3119 2041  L 3119 0  L 2556 0  L 2556 2019  Q 2556 2363 2490 2533  Q 2425 2703 2258 2804  Q 2091 2906 1866 2906  Q 1506 2906 1245 2678  Q 984 2450 984 1813  L 984 0  L 422 0  z \" id=\"ArialMT-6e\" transform=\"scale(0.015625)\" />\n      <path d=\"M 3381 2694  L 356 2694  L 356 3219  L 3381 3219  L 3381 2694  z M 3381 1303  L 356 1303  L 356 1828  L 3381 1828  L 3381 1303  z \" id=\"ArialMT-3d\" transform=\"scale(0.015625)\" />\n      <path d=\"M 266 1200  L 856 1250  Q 922 819 1161 601  Q 1400 384 1738 384  Q 2144 384 2425 690  Q 2706 997 2706 1503  Q 2706 1984 2436 2262  Q 2166 2541 1728 2541  Q 1456 2541 1237 2417  Q 1019 2294 894 2097  L 366 2166  L 809 4519  L 3088 4519  L 3088 3981  L 1259 3981  L 1013 2750  Q 1425 3038 1878 3038  Q 2478 3038 2890 2622  Q 3303 2206 3303 1553  Q 3303 931 2941 478  Q 2500 -78 1738 -78  Q 1113 -78 717 272  Q 322 622 266 1200  z \" id=\"ArialMT-35\" transform=\"scale(0.015625)\" />\n      <path d=\"M 266 2259  Q 266 3072 433 3567  Q 600 4063 929 4331  Q 1259 4600 1759 4600  Q 2128 4600 2406 4451  Q 2684 4303 2865 4023  Q 3047 3744 3150 3342  Q 3253 2941 3253 2259  Q 3253 1453 3087 958  Q 2922 463 2592 192  Q 2263 -78 1759 -78  Q 1097 -78 719 397  Q 266 969 266 2259  z M 844 2259  Q 844 1131 1108 757  Q 1372 384 1759 384  Q 2147 384 2411 759  Q 2675 1134 2675 2259  Q 2675 3391 2411 3762  Q 2147 4134 1753 4134  Q 1366 4134 1134 3806  Q 844 3388 844 2259  z \" id=\"ArialMT-30\" transform=\"scale(0.015625)\" />\n     </defs>\n     <use xlink:href=\"#ArialMT-6e\" />\n     <use x=\"55.615234\" xlink:href=\"#ArialMT-3d\" />\n     <use x=\"114.013672\" xlink:href=\"#ArialMT-35\" />\n     <use x=\"169.628906\" xlink:href=\"#ArialMT-30\" />\n    </g>\n    \n    <g style=\"fill:#444443;\" transform=\"translate(21.472578 88.199619)scale(0.09 -0.09)\">\n     <defs>\n      <path d=\"M 197 991  L 753 1078  Q 800 744 1014 566  Q 1228 388 1613 388  Q 2000 388 2187 545  Q 2375 703 2375 916  Q 2375 1106 2209 1216  Q 2094 1291 1634 1406  Q 1016 1563 777 1677  Q 538 1791 414 1992  Q 291 2194 291 2438  Q 291 2659 392 2848  Q 494 3038 669 3163  Q 800 3259 1026 3326  Q 1253 3394 1513 3394  Q 1903 3394 2198 3281  Q 2494 3169 2634 2976  Q 2775 2784 2828 2463  L 2278 2388  Q 2241 2644 2061 2787  Q 1881 2931 1553 2931  Q 1166 2931 1000 2803  Q 834 2675 834 2503  Q 834 2394 903 2306  Q 972 2216 1119 2156  Q 1203 2125 1616 2013  Q 2213 1853 2448 1751  Q 2684 1650 2818 1456  Q 2953 1263 2953 975  Q 2953 694 2789 445  Q 2625 197 2315 61  Q 2006 -75 1616 -75  Q 969 -75 630 194  Q 291 463 197 991  z \" id=\"ArialMT-73\" transform=\"scale(0.015625)\" />\n      <path d=\"M 2694 1069  L 3275 997  Q 3138 488 2766 206  Q 2394 -75 1816 -75  Q 1088 -75 661 373  Q 234 822 234 1631  Q 234 2469 665 2931  Q 1097 3394 1784 3394  Q 2450 3394 2872 2941  Q 3294 2488 3294 1666  Q 3294 1616 3291 1516  L 816 1516  Q 847 969 1125 678  Q 1403 388 1819 388  Q 2128 388 2347 550  Q 2566 713 2694 1069  z M 847 1978  L 2700 1978  Q 2663 2397 2488 2606  Q 2219 2931 1791 2931  Q 1403 2931 1139 2672  Q 875 2413 847 1978  z \" id=\"ArialMT-65\" transform=\"scale(0.015625)\" />\n      <path d=\"M 1650 503  L 1731 6  Q 1494 -44 1306 -44  Q 1000 -44 831 53  Q 663 150 594 308  Q 525 466 525 972  L 525 2881  L 113 2881  L 113 3319  L 525 3319  L 525 4141  L 1084 4478  L 1084 3319  L 1650 3319  L 1650 2881  L 1084 2881  L 1084 941  Q 1084 700 1114 631  Q 1144 563 1211 522  Q 1278 481 1403 481  Q 1497 481 1650 503  z \" id=\"ArialMT-74\" transform=\"scale(0.015625)\" />\n      <path d=\"M 213 1659  Q 213 2581 725 3025  Q 1153 3394 1769 3394  Q 2453 3394 2887 2945  Q 3322 2497 3322 1706  Q 3322 1066 3130 698  Q 2938 331 2570 128  Q 2203 -75 1769 -75  Q 1072 -75 642 372  Q 213 819 213 1659  z M 791 1659  Q 791 1022 1069 705  Q 1347 388 1769 388  Q 2188 388 2466 706  Q 2744 1025 2744 1678  Q 2744 2294 2464 2611  Q 2184 2928 1769 2928  Q 1347 2928 1069 2612  Q 791 2297 791 1659  z \" id=\"ArialMT-6f\" transform=\"scale(0.015625)\" />\n      <path d=\"M 2588 409  Q 2275 144 1986 34  Q 1697 -75 1366 -75  Q 819 -75 525 192  Q 231 459 231 875  Q 231 1119 342 1320  Q 453 1522 633 1644  Q 813 1766 1038 1828  Q 1203 1872 1538 1913  Q 2219 1994 2541 2106  Q 2544 2222 2544 2253  Q 2544 2597 2384 2738  Q 2169 2928 1744 2928  Q 1347 2928 1158 2789  Q 969 2650 878 2297  L 328 2372  Q 403 2725 575 2942  Q 747 3159 1072 3276  Q 1397 3394 1825 3394  Q 2250 3394 2515 3294  Q 2781 3194 2906 3042  Q 3031 2891 3081 2659  Q 3109 2516 3109 2141  L 3109 1391  Q 3109 606 3145 398  Q 3181 191 3288 0  L 2700 0  Q 2613 175 2588 409  z M 2541 1666  Q 2234 1541 1622 1453  Q 1275 1403 1131 1340  Q 988 1278 909 1158  Q 831 1038 831 891  Q 831 666 1001 516  Q 1172 366 1500 366  Q 1825 366 2078 508  Q 2331 650 2450 897  Q 2541 1088 2541 1459  L 2541 1666  z \" id=\"ArialMT-61\" transform=\"scale(0.015625)\" />\n     </defs>\n     <use xlink:href=\"#ArialMT-73\" />\n     <use x=\"50\" xlink:href=\"#ArialMT-65\" />\n     <use x=\"105.615234\" xlink:href=\"#ArialMT-74\" />\n     <use x=\"133.398438\" xlink:href=\"#ArialMT-6f\" />\n     <use x=\"189.013672\" xlink:href=\"#ArialMT-73\" />\n     <use x=\"239.013672\" xlink:href=\"#ArialMT-61\" />\n    </g>\n   </g>\n  </g>\n </g>\n</svg></g>\n\n<g id=\"edge25\" class=\"edge\">\n<title>node0-&gt;leaf1</title>\n<path fill=\"none\" stroke=\"#444443\" stroke-width=\"0.3\" d=\"M100.04,-486.89C95.23,-478.01 90.2,-468.75 85.48,-460.03\" />\n<polygon fill=\"#444443\" stroke=\"#444443\" stroke-width=\"0.3\" points=\"86.61,-459.18 83.47,-456.33 84.15,-460.51 86.61,-459.18\" />\n<text text-anchor=\"start\" x=\"94.5\" y=\"-467.8\" font-family=\"Times New Roman,serif\" font-size=\"14.00\">&#8804;</text>\n</g>\n\n\n\n\n\n\n\n<g id=\"node20\" class=\"node\">\n<title>legend</title>\n<polygon fill=\"none\" stroke=\"black\" stroke-width=\"0\" points=\"277.5,-560.5 211.5,-560.5 211.5,-505.5 277.5,-505.5 277.5,-560.5\" />\n<svg height=\"51px\" version=\"1.1\" viewBox=\"0 0 82.285937 68.309375\" width=\"62px\" preserveAspectRatio=\"xMinYMin meet\" x=\"213.5\" y=\"-558\">\n <metadata>\n  <rdf:RDF>\n   <ns2:Work>\n    <dc:type rdf:resource=\"http://purl.org/dc/dcmitype/StillImage\" />\n    <dc:date>2021-10-04T20:58:00.416281</dc:date>\n    <dc:format>image/svg+xml</dc:format>\n    <dc:creator>\n     <ns2:Agent>\n      <dc:title>Matplotlib v3.4.3, https://matplotlib.org/</dc:title>\n     </ns2:Agent>\n    </dc:creator>\n   </ns2:Work>\n  </rdf:RDF>\n </metadata>\n <defs>\n  <style type=\"text/css\">*{stroke-linecap:butt;stroke-linejoin:round;}</style>\n </defs>\n <g id=\"figure_1\">\n  <g id=\"patch_1\">\n   <path d=\"M 0 68.309375  L 82.285937 68.309375  L 82.285937 0  L 0 0  z \" style=\"fill:none;\" />\n  </g>\n  <g id=\"axes_1\">\n   <g id=\"legend_1\">\n    <g id=\"patch_2\">\n     <path d=\"M 2 68.309375  L 80.285938 68.309375  Q 82.285938 68.309375 82.285938 66.309375  L 82.285938 2  Q 82.285938 0 80.285938 0  L 2 0  Q 0 0 0 2  L 0 66.309375  Q 0 68.309375 2 68.309375  z \" style=\"fill:#ffffff;opacity:0.8;stroke:#444443;stroke-linejoin:miter;stroke-width:0.5;\" />\n    </g>\n    <g id=\"text_1\">\n     \n     <g style=\"fill:#444443;\" transform=\"translate(23.553125 15.598438)scale(0.1 -0.1)\">\n      <defs>\n       <path d=\"M 1759 4494  L 1759 3500  L 2913 3500  L 2913 2700  L 1759 2700  L 1759 1216  Q 1759 972 1856 886  Q 1953 800 2241 800  L 2816 800  L 2816 0  L 1856 0  Q 1194 0 917 276  Q 641 553 641 1216  L 641 2700  L 84 2700  L 84 3500  L 641 3500  L 641 4494  L 1759 4494  z \" id=\"DejaVuSans-Bold-74\" transform=\"scale(0.015625)\" />\n       <path d=\"M 2106 1575  Q 1756 1575 1579 1456  Q 1403 1338 1403 1106  Q 1403 894 1545 773  Q 1688 653 1941 653  Q 2256 653 2472 879  Q 2688 1106 2688 1447  L 2688 1575  L 2106 1575  z M 3816 1997  L 3816 0  L 2688 0  L 2688 519  Q 2463 200 2181 54  Q 1900 -91 1497 -91  Q 953 -91 614 226  Q 275 544 275 1050  Q 275 1666 698 1953  Q 1122 2241 2028 2241  L 2688 2241  L 2688 2328  Q 2688 2594 2478 2717  Q 2269 2841 1825 2841  Q 1466 2841 1156 2769  Q 847 2697 581 2553  L 581 3406  Q 941 3494 1303 3539  Q 1666 3584 2028 3584  Q 2975 3584 3395 3211  Q 3816 2838 3816 1997  z \" id=\"DejaVuSans-Bold-61\" transform=\"scale(0.015625)\" />\n       <path d=\"M 3138 2547  Q 2991 2616 2845 2648  Q 2700 2681 2553 2681  Q 2122 2681 1889 2404  Q 1656 2128 1656 1613  L 1656 0  L 538 0  L 538 3500  L 1656 3500  L 1656 2925  Q 1872 3269 2151 3426  Q 2431 3584 2822 3584  Q 2878 3584 2943 3579  Q 3009 3575 3134 3559  L 3138 2547  z \" id=\"DejaVuSans-Bold-72\" transform=\"scale(0.015625)\" />\n       <path d=\"M 2919 594  Q 2688 288 2409 144  Q 2131 0 1766 0  Q 1125 0 706 504  Q 288 1009 288 1791  Q 288 2575 706 3076  Q 1125 3578 1766 3578  Q 2131 3578 2409 3434  Q 2688 3291 2919 2981  L 2919 3500  L 4044 3500  L 4044 353  Q 4044 -491 3511 -936  Q 2978 -1381 1966 -1381  Q 1638 -1381 1331 -1331  Q 1025 -1281 716 -1178  L 716 -306  Q 1009 -475 1290 -558  Q 1572 -641 1856 -641  Q 2406 -641 2662 -400  Q 2919 -159 2919 353  L 2919 594  z M 2181 2772  Q 1834 2772 1640 2515  Q 1447 2259 1447 1791  Q 1447 1309 1634 1061  Q 1822 813 2181 813  Q 2531 813 2725 1069  Q 2919 1325 2919 1791  Q 2919 2259 2725 2515  Q 2531 2772 2181 2772  z \" id=\"DejaVuSans-Bold-67\" transform=\"scale(0.015625)\" />\n       <path d=\"M 4031 1759  L 4031 1441  L 1416 1441  Q 1456 1047 1700 850  Q 1944 653 2381 653  Q 2734 653 3104 758  Q 3475 863 3866 1075  L 3866 213  Q 3469 63 3072 -14  Q 2675 -91 2278 -91  Q 1328 -91 801 392  Q 275 875 275 1747  Q 275 2603 792 3093  Q 1309 3584 2216 3584  Q 3041 3584 3536 3087  Q 4031 2591 4031 1759  z M 2881 2131  Q 2881 2450 2695 2645  Q 2509 2841 2209 2841  Q 1884 2841 1681 2658  Q 1478 2475 1428 2131  L 2881 2131  z \" id=\"DejaVuSans-Bold-65\" transform=\"scale(0.015625)\" />\n      </defs>\n      <use xlink:href=\"#DejaVuSans-Bold-74\" />\n      <use x=\"47.802734\" xlink:href=\"#DejaVuSans-Bold-61\" />\n      <use x=\"115.283203\" xlink:href=\"#DejaVuSans-Bold-72\" />\n      <use x=\"164.599609\" xlink:href=\"#DejaVuSans-Bold-67\" />\n      <use x=\"236.181641\" xlink:href=\"#DejaVuSans-Bold-65\" />\n      <use x=\"304.003906\" xlink:href=\"#DejaVuSans-Bold-74\" />\n     </g>\n    </g>\n    <g id=\"patch_3\">\n     <path d=\"M 8 29.914062  L 28 29.914062  L 28 22.914062  L 8 22.914062  z \" style=\"fill:#fefebb;stroke:#444443;stroke-linejoin:miter;stroke-width:0.4;\" />\n    </g>\n    <g id=\"text_2\">\n     \n     <g style=\"fill:#444443;\" transform=\"translate(31.5 29.914062)scale(0.1 -0.1)\">\n      <defs>\n       <path d=\"M 197 991  L 753 1078  Q 800 744 1014 566  Q 1228 388 1613 388  Q 2000 388 2187 545  Q 2375 703 2375 916  Q 2375 1106 2209 1216  Q 2094 1291 1634 1406  Q 1016 1563 777 1677  Q 538 1791 414 1992  Q 291 2194 291 2438  Q 291 2659 392 2848  Q 494 3038 669 3163  Q 800 3259 1026 3326  Q 1253 3394 1513 3394  Q 1903 3394 2198 3281  Q 2494 3169 2634 2976  Q 2775 2784 2828 2463  L 2278 2388  Q 2241 2644 2061 2787  Q 1881 2931 1553 2931  Q 1166 2931 1000 2803  Q 834 2675 834 2503  Q 834 2394 903 2306  Q 972 2216 1119 2156  Q 1203 2125 1616 2013  Q 2213 1853 2448 1751  Q 2684 1650 2818 1456  Q 2953 1263 2953 975  Q 2953 694 2789 445  Q 2625 197 2315 61  Q 2006 -75 1616 -75  Q 969 -75 630 194  Q 291 463 197 991  z \" id=\"ArialMT-73\" transform=\"scale(0.015625)\" />\n       <path d=\"M 2694 1069  L 3275 997  Q 3138 488 2766 206  Q 2394 -75 1816 -75  Q 1088 -75 661 373  Q 234 822 234 1631  Q 234 2469 665 2931  Q 1097 3394 1784 3394  Q 2450 3394 2872 2941  Q 3294 2488 3294 1666  Q 3294 1616 3291 1516  L 816 1516  Q 847 969 1125 678  Q 1403 388 1819 388  Q 2128 388 2347 550  Q 2566 713 2694 1069  z M 847 1978  L 2700 1978  Q 2663 2397 2488 2606  Q 2219 2931 1791 2931  Q 1403 2931 1139 2672  Q 875 2413 847 1978  z \" id=\"ArialMT-65\" transform=\"scale(0.015625)\" />\n       <path d=\"M 1650 503  L 1731 6  Q 1494 -44 1306 -44  Q 1000 -44 831 53  Q 663 150 594 308  Q 525 466 525 972  L 525 2881  L 113 2881  L 113 3319  L 525 3319  L 525 4141  L 1084 4478  L 1084 3319  L 1650 3319  L 1650 2881  L 1084 2881  L 1084 941  Q 1084 700 1114 631  Q 1144 563 1211 522  Q 1278 481 1403 481  Q 1497 481 1650 503  z \" id=\"ArialMT-74\" transform=\"scale(0.015625)\" />\n       <path d=\"M 213 1659  Q 213 2581 725 3025  Q 1153 3394 1769 3394  Q 2453 3394 2887 2945  Q 3322 2497 3322 1706  Q 3322 1066 3130 698  Q 2938 331 2570 128  Q 2203 -75 1769 -75  Q 1072 -75 642 372  Q 213 819 213 1659  z M 791 1659  Q 791 1022 1069 705  Q 1347 388 1769 388  Q 2188 388 2466 706  Q 2744 1025 2744 1678  Q 2744 2294 2464 2611  Q 2184 2928 1769 2928  Q 1347 2928 1069 2612  Q 791 2297 791 1659  z \" id=\"ArialMT-6f\" transform=\"scale(0.015625)\" />\n       <path d=\"M 2588 409  Q 2275 144 1986 34  Q 1697 -75 1366 -75  Q 819 -75 525 192  Q 231 459 231 875  Q 231 1119 342 1320  Q 453 1522 633 1644  Q 813 1766 1038 1828  Q 1203 1872 1538 1913  Q 2219 1994 2541 2106  Q 2544 2222 2544 2253  Q 2544 2597 2384 2738  Q 2169 2928 1744 2928  Q 1347 2928 1158 2789  Q 969 2650 878 2297  L 328 2372  Q 403 2725 575 2942  Q 747 3159 1072 3276  Q 1397 3394 1825 3394  Q 2250 3394 2515 3294  Q 2781 3194 2906 3042  Q 3031 2891 3081 2659  Q 3109 2516 3109 2141  L 3109 1391  Q 3109 606 3145 398  Q 3181 191 3288 0  L 2700 0  Q 2613 175 2588 409  z M 2541 1666  Q 2234 1541 1622 1453  Q 1275 1403 1131 1340  Q 988 1278 909 1158  Q 831 1038 831 891  Q 831 666 1001 516  Q 1172 366 1500 366  Q 1825 366 2078 508  Q 2331 650 2450 897  Q 2541 1088 2541 1459  L 2541 1666  z \" id=\"ArialMT-61\" transform=\"scale(0.015625)\" />\n      </defs>\n      <use xlink:href=\"#ArialMT-73\" />\n      <use x=\"50\" xlink:href=\"#ArialMT-65\" />\n      <use x=\"105.615234\" xlink:href=\"#ArialMT-74\" />\n      <use x=\"133.398438\" xlink:href=\"#ArialMT-6f\" />\n      <use x=\"189.013672\" xlink:href=\"#ArialMT-73\" />\n      <use x=\"239.013672\" xlink:href=\"#ArialMT-61\" />\n     </g>\n    </g>\n    <g id=\"patch_4\">\n     <path d=\"M 8 44.059375  L 28 44.059375  L 28 37.059375  L 8 37.059375  z \" style=\"fill:#d9e6f5;stroke:#444443;stroke-linejoin:miter;stroke-width:0.4;\" />\n    </g>\n    <g id=\"text_3\">\n     \n     <g style=\"fill:#444443;\" transform=\"translate(31.5 44.059375)scale(0.1 -0.1)\">\n      <defs>\n       <path d=\"M 1344 0  L 81 3319  L 675 3319  L 1388 1331  Q 1503 1009 1600 663  Q 1675 925 1809 1294  L 2547 3319  L 3125 3319  L 1869 0  L 1344 0  z \" id=\"ArialMT-76\" transform=\"scale(0.015625)\" />\n       <path d=\"M 416 0  L 416 3319  L 922 3319  L 922 2816  Q 1116 3169 1280 3281  Q 1444 3394 1641 3394  Q 1925 3394 2219 3213  L 2025 2691  Q 1819 2813 1613 2813  Q 1428 2813 1281 2702  Q 1134 2591 1072 2394  Q 978 2094 978 1738  L 978 0  L 416 0  z \" id=\"ArialMT-72\" transform=\"scale(0.015625)\" />\n       <path d=\"M 425 3934  L 425 4581  L 988 4581  L 988 3934  L 425 3934  z M 425 0  L 425 3319  L 988 3319  L 988 0  L 425 0  z \" id=\"ArialMT-69\" transform=\"scale(0.015625)\" />\n       <path d=\"M 2588 1216  L 3141 1144  Q 3050 572 2676 248  Q 2303 -75 1759 -75  Q 1078 -75 664 370  Q 250 816 250 1647  Q 250 2184 428 2587  Q 606 2991 970 3192  Q 1334 3394 1763 3394  Q 2303 3394 2647 3120  Q 2991 2847 3088 2344  L 2541 2259  Q 2463 2594 2264 2762  Q 2066 2931 1784 2931  Q 1359 2931 1093 2626  Q 828 2322 828 1663  Q 828 994 1084 691  Q 1341 388 1753 388  Q 2084 388 2306 591  Q 2528 794 2588 1216  z \" id=\"ArialMT-63\" transform=\"scale(0.015625)\" />\n       <path d=\"M 409 0  L 409 4581  L 972 4581  L 972 0  L 409 0  z \" id=\"ArialMT-6c\" transform=\"scale(0.015625)\" />\n      </defs>\n      <use xlink:href=\"#ArialMT-76\" />\n      <use x=\"50\" xlink:href=\"#ArialMT-65\" />\n      <use x=\"105.615234\" xlink:href=\"#ArialMT-72\" />\n      <use x=\"138.916016\" xlink:href=\"#ArialMT-73\" />\n      <use x=\"188.916016\" xlink:href=\"#ArialMT-69\" />\n      <use x=\"211.132812\" xlink:href=\"#ArialMT-63\" />\n      <use x=\"261.132812\" xlink:href=\"#ArialMT-6f\" />\n      <use x=\"316.748047\" xlink:href=\"#ArialMT-6c\" />\n      <use x=\"338.964844\" xlink:href=\"#ArialMT-6f\" />\n      <use x=\"394.580078\" xlink:href=\"#ArialMT-72\" />\n     </g>\n    </g>\n    <g id=\"patch_5\">\n     <path d=\"M 8 58.204688  L 28 58.204688  L 28 51.204688  L 8 51.204688  z \" style=\"fill:#a1dab4;stroke:#444443;stroke-linejoin:miter;stroke-width:0.4;\" />\n    </g>\n    <g id=\"text_4\">\n     \n     <g style=\"fill:#444443;\" transform=\"translate(31.5 58.204688)scale(0.1 -0.1)\">\n      <defs>\n       <path d=\"M 319 -275  L 866 -356  Q 900 -609 1056 -725  Q 1266 -881 1628 -881  Q 2019 -881 2231 -725  Q 2444 -569 2519 -288  Q 2563 -116 2559 434  Q 2191 0 1641 0  Q 956 0 581 494  Q 206 988 206 1678  Q 206 2153 378 2554  Q 550 2956 876 3175  Q 1203 3394 1644 3394  Q 2231 3394 2613 2919  L 2613 3319  L 3131 3319  L 3131 450  Q 3131 -325 2973 -648  Q 2816 -972 2473 -1159  Q 2131 -1347 1631 -1347  Q 1038 -1347 672 -1080  Q 306 -813 319 -275  z M 784 1719  Q 784 1066 1043 766  Q 1303 466 1694 466  Q 2081 466 2343 764  Q 2606 1063 2606 1700  Q 2606 2309 2336 2618  Q 2066 2928 1684 2928  Q 1309 2928 1046 2623  Q 784 2319 784 1719  z \" id=\"ArialMT-67\" transform=\"scale(0.015625)\" />\n       <path d=\"M 422 0  L 422 3319  L 928 3319  L 928 2847  Q 1294 3394 1984 3394  Q 2284 3394 2536 3286  Q 2788 3178 2913 3003  Q 3038 2828 3088 2588  Q 3119 2431 3119 2041  L 3119 0  L 2556 0  L 2556 2019  Q 2556 2363 2490 2533  Q 2425 2703 2258 2804  Q 2091 2906 1866 2906  Q 1506 2906 1245 2678  Q 984 2450 984 1813  L 984 0  L 422 0  z \" id=\"ArialMT-6e\" transform=\"scale(0.015625)\" />\n      </defs>\n      <use xlink:href=\"#ArialMT-76\" />\n      <use x=\"50\" xlink:href=\"#ArialMT-69\" />\n      <use x=\"72.216797\" xlink:href=\"#ArialMT-72\" />\n      <use x=\"105.517578\" xlink:href=\"#ArialMT-67\" />\n      <use x=\"161.132812\" xlink:href=\"#ArialMT-69\" />\n      <use x=\"183.349609\" xlink:href=\"#ArialMT-6e\" />\n      <use x=\"238.964844\" xlink:href=\"#ArialMT-69\" />\n      <use x=\"261.181641\" xlink:href=\"#ArialMT-63\" />\n      <use x=\"311.181641\" xlink:href=\"#ArialMT-61\" />\n     </g>\n    </g>\n   </g>\n  </g>\n </g>\n</svg></g>\n</g>\n</svg>",
      "text/plain": [
       "<dtreeviz.trees.DTreeViz at 0x18b7eb0d790>"
      ]
     },
     "execution_count": 166,
     "metadata": {},
     "output_type": "execute_result"
    }
   ],
   "source": [
    "viz"
   ]
  },
  {
   "cell_type": "markdown",
   "id": "45a6333b-bded-43c7-b1e3-e413bfc506e2",
   "metadata": {},
   "source": [
    "## Randon Forest\n",
    "\n",
    "* Boostrap\n",
    "\n",
    "* menos features por arvore (também random)\n",
    "\n",
    "* Agregação"
   ]
  },
  {
   "cell_type": "code",
   "execution_count": null,
   "id": "cf681e44-f783-4306-b2cb-b21af391ea08",
   "metadata": {},
   "outputs": [
    {
     "name": "stdout",
     "output_type": "stream",
     "text": [
      "1.0\n"
     ]
    }
   ],
   "source": [
    "classificador = RandomForestClassifier(n_estimators=200)\n",
    "classificador.fit(X_train, y_train)\n",
    "iris_predict = classificador.predict(X_test)\n",
    "print(metrics.accuracy_score(iris_predict, y_test))"
   ]
  }
 ],
 "metadata": {
  "interpreter": {
   "hash": "2aed96592e90ac20089fd6d4e4318947f81ee11287cc12cf8eaa5a49515a1cd1"
  },
  "kernelspec": {
   "display_name": "ml",
   "language": "python",
   "name": "python3"
  },
  "language_info": {
   "codemirror_mode": {
    "name": "ipython",
    "version": 3
   },
   "file_extension": ".py",
   "mimetype": "text/x-python",
   "name": "python",
   "nbconvert_exporter": "python",
   "pygments_lexer": "ipython3",
   "version": "3.9.7"
  }
 },
 "nbformat": 4,
 "nbformat_minor": 5
}
